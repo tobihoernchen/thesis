{
 "cells": [
  {
   "cell_type": "code",
   "execution_count": 1,
   "metadata": {},
   "outputs": [
    {
     "name": "stderr",
     "output_type": "stream",
     "text": [
      "2023-01-18 22:13:49,000\tINFO worker.py:1528 -- Started a local Ray instance.\n"
     ]
    }
   ],
   "source": [
    "import sys\n",
    "sys.path.append(\"../..\")\n",
    "from thesis.utils.utils import setup_ray, save, load, Experiment\n",
    "path = \"D:/Master/Masterarbeit/thesis\"\n",
    "setup_ray(path = path, unidirectional = True, seed=69)"
   ]
  },
  {
   "cell_type": "code",
   "execution_count": 2,
   "metadata": {},
   "outputs": [],
   "source": [
    "env_args = dict(\n",
    "    fleetsize = 4,\n",
    "    max_fleetsize = 30,    \n",
    "    pseudo_routing = True,\n",
    "    pseudo_dispatcher = False,\n",
    "    #pseudo_dispatcher_distance = 0.2,\n",
    "    routing_agent_death= False,\n",
    "    death_on_target = False,\n",
    "    transform_dispatching_partobs = True,\n",
    "    sim_config = dict(\n",
    "        dispatch = True,\n",
    "        routing_ma = True,\n",
    "        dispatching_ma = True,\n",
    "        reward_reached_target = 1,\n",
    "        #reward_reached_target_by_time = True, \n",
    "        reward_wrong_target = -0.5,\n",
    "        reward_removed_for_block = -1, \n",
    "        reward_target_distance = -0.1,\n",
    "        reward_invalid= -0.1,\n",
    "        block_timeout = 120,\n",
    "        reward_accepted_in_station = 1,\n",
    "        reward_declined_in_station = -1,\n",
    "        routing_interval = 2,\n",
    "        dispatching_interval=10,\n",
    "        io_quote = 0.95  ,\n",
    "        availability = 0.9,\n",
    "        mttr = 5,\n",
    "    )\n",
    ")"
   ]
  },
  {
   "cell_type": "code",
   "execution_count": 3,
   "metadata": {},
   "outputs": [],
   "source": [
    "agv_model = dict(\n",
    "    model = dict(\n",
    "        custom_model = \"lin_model\",\n",
    "        #custom_action_dist=\"MAActionDistribution\",\n",
    "        custom_model_config = dict(\n",
    "            embed_dim=128,\n",
    "            with_action_mask=False,\n",
    "            with_agvs=True,\n",
    "            with_stations = False,\n",
    "            position_embedd_dim = 0,\n",
    "            ff_embedd_dim = 4,\n",
    "        )\n",
    "    )\n",
    ")\n",
    "dispatcher_model = dict(\n",
    "    model = dict(\n",
    "        custom_model = \"lin_model\",\n",
    "        #custom_action_dist=\"MAActionDistribution\",\n",
    "        custom_model_config = dict(\n",
    "            embed_dim=64,\n",
    "            with_action_mask=False,\n",
    "            with_agvs=True,\n",
    "            with_stations = True,\n",
    "            position_embedd_dim = 0,\n",
    "            ff_embedd_dim = 4,\n",
    "        )\n",
    "    )\n",
    ")"
   ]
  },
  {
   "cell_type": "code",
   "execution_count": 4,
   "metadata": {},
   "outputs": [
    {
     "name": "stderr",
     "output_type": "stream",
     "text": [
      "2023-01-18 22:14:01,417\tINFO simple_q.py:307 -- In multi-agent mode, policies will be optimized sequentially by the multi-GPU optimizer. Consider setting `simple_optimizer=True` if this doesn't work for you.\n",
      "2023-01-18 22:14:01,433\tINFO algorithm.py:457 -- Current log_level is ERROR. For more information, set 'log_level': 'INFO' / 'DEBUG' or use the -v and -vv flags.\n",
      "c:\\Users\\Wegma\\.conda\\envs\\thesis3_9\\lib\\site-packages\\alpyne\\client\\utils.py:124: UserWarning: Unzipping to temporary directory (C:\\Users\\Wegma\\AppData\\Local\\Temp\\alpyne_92640__2gj2iuq)\n",
      "  warn(f\"Unzipping to temporary directory ({tmp_dir})\")\n",
      "c:\\Users\\Wegma\\.conda\\envs\\thesis3_9\\lib\\site-packages\\alpyne\\client\\utils.py:124: UserWarning: Unzipping to temporary directory (C:\\Users\\Wegma\\AppData\\Local\\Temp\\alpyne_92659_ru2o2zxy)\n",
      "  warn(f\"Unzipping to temporary directory ({tmp_dir})\")\n",
      "c:\\Users\\Wegma\\.conda\\envs\\thesis3_9\\lib\\site-packages\\alpyne\\client\\utils.py:124: UserWarning: Unzipping to temporary directory (C:\\Users\\Wegma\\AppData\\Local\\Temp\\alpyne_92661_hr6ib7oq)\n",
      "  warn(f\"Unzipping to temporary directory ({tmp_dir})\")\n",
      "c:\\Users\\Wegma\\.conda\\envs\\thesis3_9\\lib\\site-packages\\alpyne\\client\\utils.py:124: UserWarning: Unzipping to temporary directory (C:\\Users\\Wegma\\AppData\\Local\\Temp\\alpyne_92666_oc_vv9kr)\n",
      "  warn(f\"Unzipping to temporary directory ({tmp_dir})\")\n",
      "c:\\Users\\Wegma\\.conda\\envs\\thesis3_9\\lib\\site-packages\\alpyne\\client\\utils.py:124: UserWarning: Unzipping to temporary directory (C:\\Users\\Wegma\\AppData\\Local\\Temp\\alpyne_92673_gzk1gnum)\n",
      "  warn(f\"Unzipping to temporary directory ({tmp_dir})\")\n",
      "c:\\Users\\Wegma\\.conda\\envs\\thesis3_9\\lib\\site-packages\\alpyne\\client\\utils.py:124: UserWarning: Unzipping to temporary directory (C:\\Users\\Wegma\\AppData\\Local\\Temp\\alpyne_92676_cmsw8i5m)\n",
      "  warn(f\"Unzipping to temporary directory ({tmp_dir})\")\n",
      "c:\\Users\\Wegma\\.conda\\envs\\thesis3_9\\lib\\site-packages\\alpyne\\client\\utils.py:124: UserWarning: Unzipping to temporary directory (C:\\Users\\Wegma\\AppData\\Local\\Temp\\alpyne_92680_knvenp2z)\n",
      "  warn(f\"Unzipping to temporary directory ({tmp_dir})\")\n",
      "c:\\Users\\Wegma\\.conda\\envs\\thesis3_9\\lib\\site-packages\\alpyne\\client\\utils.py:124: UserWarning: Unzipping to temporary directory (C:\\Users\\Wegma\\AppData\\Local\\Temp\\alpyne_92685_beq6ibye)\n",
      "  warn(f\"Unzipping to temporary directory ({tmp_dir})\")\n",
      "2023-01-18 22:14:46,035\tINFO trainable.py:164 -- Trainable.setup took 44.625 seconds. If your trainable is slow to initialize, consider setting reuse_actors=True to reduce actor creation overheads.\n"
     ]
    }
   ],
   "source": [
    "exp = Experiment(\"matrix_dispatching\")\n",
    "for seed in [42]:\n",
    "    exp.experiment(\n",
    "        path = path,\n",
    "        env_args = env_args, \n",
    "        agv_model = agv_model,\n",
    "        dispatcher_model=dispatcher_model,\n",
    "        run_name=\"01\", \n",
    "        env = \"matrix\",\n",
    "        algo = \"dqn\",\n",
    "        n_intervals =3,\n",
    "        #train_agv = False,\n",
    "        backup_interval=50,\n",
    "        #batch_size=500, #apex + gnn: 50\n",
    "        seed = seed,\n",
    "        algo_params = {\"gamma\":0.98},# \"exploration_config\": {\"type\": \"Curiosity\", \"sub_exploration\": {\"type\": \"StochasticSampling\"},}},\n",
    "        lr = 1e-3,\n",
    "        #load_agv=\"../../models/minimatrix_dispatching/04_complete__2_10_2023-01-13_12-09-48/checkpoint_000150/\"\n",
    "    )"
   ]
  },
  {
   "cell_type": "code",
   "execution_count": 5,
   "metadata": {},
   "outputs": [
    {
     "name": "stderr",
     "output_type": "stream",
     "text": [
      "c:\\Users\\Wegma\\.conda\\envs\\thesis3_9\\lib\\site-packages\\alpyne\\client\\utils.py:124: UserWarning: Unzipping to temporary directory (C:\\Users\\Wegma\\AppData\\Local\\Temp\\alpyne_12374_c5loyz65)\n",
      "  warn(f\"Unzipping to temporary directory ({tmp_dir})\")\n",
      "c:\\Users\\Wegma\\.conda\\envs\\thesis3_9\\lib\\site-packages\\alpyne\\client\\utils.py:124: UserWarning: Unzipping to temporary directory (C:\\Users\\Wegma\\AppData\\Local\\Temp\\alpyne_12377_qk40q7b7)\n",
      "  warn(f\"Unzipping to temporary directory ({tmp_dir})\")\n",
      "c:\\Users\\Wegma\\.conda\\envs\\thesis3_9\\lib\\site-packages\\alpyne\\client\\utils.py:124: UserWarning: Unzipping to temporary directory (C:\\Users\\Wegma\\AppData\\Local\\Temp\\alpyne_12380_e5q2x1ek)\n",
      "  warn(f\"Unzipping to temporary directory ({tmp_dir})\")\n",
      "c:\\Users\\Wegma\\.conda\\envs\\thesis3_9\\lib\\site-packages\\alpyne\\client\\utils.py:124: UserWarning: Unzipping to temporary directory (C:\\Users\\Wegma\\AppData\\Local\\Temp\\alpyne_12383_8tv37wdc)\n",
      "  warn(f\"Unzipping to temporary directory ({tmp_dir})\")\n",
      "c:\\Users\\Wegma\\.conda\\envs\\thesis3_9\\lib\\site-packages\\alpyne\\client\\utils.py:124: UserWarning: Unzipping to temporary directory (C:\\Users\\Wegma\\AppData\\Local\\Temp\\alpyne_12387_dzgm7si0)\n",
      "  warn(f\"Unzipping to temporary directory ({tmp_dir})\")\n",
      "c:\\Users\\Wegma\\.conda\\envs\\thesis3_9\\lib\\site-packages\\alpyne\\client\\utils.py:124: UserWarning: Unzipping to temporary directory (C:\\Users\\Wegma\\AppData\\Local\\Temp\\alpyne_12391_nuaioqq1)\n",
      "  warn(f\"Unzipping to temporary directory ({tmp_dir})\")\n",
      "c:\\Users\\Wegma\\.conda\\envs\\thesis3_9\\lib\\site-packages\\alpyne\\client\\utils.py:124: UserWarning: Unzipping to temporary directory (C:\\Users\\Wegma\\AppData\\Local\\Temp\\alpyne_12395_4yu22dgm)\n",
      "  warn(f\"Unzipping to temporary directory ({tmp_dir})\")\n"
     ]
    }
   ],
   "source": [
    "for seed in [43,44]:\n",
    "    exp.experiment(\n",
    "        path = path,\n",
    "        env_args = env_args, \n",
    "        agv_model = agv_model,\n",
    "        dispatcher_model=dispatcher_model,\n",
    "        run_name=\"01\", \n",
    "        env = \"matrix\",\n",
    "        algo = \"dqn\",\n",
    "        n_intervals =3,\n",
    "        #train_agv = False,\n",
    "        backup_interval=50,\n",
    "        #batch_size=500, #apex + gnn: 50\n",
    "        seed = seed,\n",
    "        algo_params = {\"gamma\":0.98},# \"exploration_config\": {\"type\": \"Curiosity\", \"sub_exploration\": {\"type\": \"StochasticSampling\"},}},\n",
    "        lr = 1e-3,\n",
    "        #load_agv=\"../../models/minimatrix_dispatching/04_complete__2_10_2023-01-13_12-09-48/checkpoint_000150/\"\n",
    "    )"
   ]
  }
 ],
 "metadata": {
  "kernelspec": {
   "display_name": "Python 3.9.15 ('thesis3_9')",
   "language": "python",
   "name": "python3"
  },
  "language_info": {
   "codemirror_mode": {
    "name": "ipython",
    "version": 3
   },
   "file_extension": ".py",
   "mimetype": "text/x-python",
   "name": "python",
   "nbconvert_exporter": "python",
   "pygments_lexer": "ipython3",
   "version": "3.9.15 (main, Nov  4 2022, 16:35:55) [MSC v.1916 64 bit (AMD64)]"
  },
  "orig_nbformat": 4,
  "vscode": {
   "interpreter": {
    "hash": "a0516e323c1d6337405feeccc202b0dbcb07dc1a4aafa5eedf3cd6ee0d411108"
   }
  }
 },
 "nbformat": 4,
 "nbformat_minor": 2
}
