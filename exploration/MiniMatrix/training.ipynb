{
 "cells": [
  {
   "cell_type": "code",
   "execution_count": 1,
   "metadata": {},
   "outputs": [],
   "source": [
    "from ray.rllib.agents import ppo, dqn\n",
    "from ray import tune\n",
    "import numpy as np\n",
    "import torch\n",
    "\n",
    "import sys\n",
    "sys.path.append(\"../..\")\n",
    "from thesis.utils.utils import get_config, setup_ray, save, load\n",
    "setup_ray()"
   ]
  },
  {
   "cell_type": "code",
   "execution_count": 2,
   "metadata": {},
   "outputs": [],
   "source": [
    "env_args = dict(\n",
    "    fleetsize = 6,\n",
    "    max_fleetsize = 10,    \n",
    "    pseudo_dispatcher = True,\n",
    "    routing_agent_death= True,\n",
    "    sim_config = dict(\n",
    "        dispatch = True,\n",
    "        routing_ma = True,\n",
    "        dispatching_ma = True,\n",
    "        reward_reached_target = 1, \n",
    "        reward_removed_for_block = -1, \n",
    "        reward_invalid=-0.1,\n",
    "        block_timeout = 20,\n",
    "        reward_accepted_in_station = 1,\n",
    "        reward_declined_in_station = -1,\n",
    "        dispatching_interval=240,\n",
    "        io_quote = 0.99  ,\n",
    "        availability = 0.95,\n",
    "        mttr = 5*60,\n",
    "    )\n",
    ")"
   ]
  },
  {
   "cell_type": "code",
   "execution_count": 3,
   "metadata": {},
   "outputs": [],
   "source": [
    "agv_model = dict(\n",
    "    model = dict(\n",
    "        custom_model = \"lin_model\",\n",
    "        custom_model_config = dict(\n",
    "            embed_dim=16,\n",
    "            with_action_mask=True,\n",
    "            with_agvs=True,\n",
    "            with_stations = False,\n",
    "        )\n",
    "    )\n",
    ")\n",
    "dispatcher_model = dict(\n",
    "    model = dict(\n",
    "        custom_model = \"lin_model\",\n",
    "        custom_model_config = dict(\n",
    "            embed_dim=16,\n",
    "            with_action_mask=True,\n",
    "            with_agvs=True,\n",
    "            with_stations = True,\n",
    "        )\n",
    "    )\n",
    ")"
   ]
  },
  {
   "cell_type": "code",
   "execution_count": 4,
   "metadata": {},
   "outputs": [
    {
     "name": "stderr",
     "output_type": "stream",
     "text": [
      "2022-11-06 18:40:04,457\tINFO ppo.py:414 -- In multi-agent mode, policies will be optimized sequentially by the multi-GPU optimizer. Consider setting simple_optimizer=True if this doesn't work for you.\n",
      "2022-11-06 18:40:04,459\tINFO trainer.py:903 -- Current log_level is WARN. For more information, set 'log_level': 'INFO' / 'DEBUG' or use the -v and -vv flags.\n",
      "c:\\Users\\Wegma\\.conda\\envs\\thesis\\lib\\site-packages\\alpyne\\client\\utils.py:124: UserWarning: Unzipping to temporary directory (C:\\Users\\Wegma\\AppData\\Local\\Temp\\alpyne_77782_qksg5fmh)\n",
      "  warn(f\"Unzipping to temporary directory ({tmp_dir})\")\n",
      "2022-11-06 18:40:07,409\tWARNING env.py:42 -- Skipping env checking for this experiment\n",
      "2022-11-06 18:40:18,496\tWARNING env.py:42 -- Skipping env checking for this experiment\n",
      "2022-11-06 18:40:20,219\tWARNING env.py:42 -- Skipping env checking for this experiment\n",
      "2022-11-06 18:40:21,480\tWARNING env.py:42 -- Skipping env checking for this experiment\n",
      "2022-11-06 18:40:21,485\tINFO trainable.py:159 -- Trainable.setup took 17.039 seconds. If your trainable is slow to initialize, consider setting reuse_actors=True to reduce actor creation overheads.\n",
      "2022-11-06 18:40:21,488\tWARNING util.py:65 -- Install gputil for GPU system monitoring.\n"
     ]
    }
   ],
   "source": [
    "config, logger_creator, checkpoint_dir = get_config(\n",
    "    batch_size=20000,\n",
    "    env_args = env_args, \n",
    "    agv_model = agv_model,\n",
    "    train_agv = True,\n",
    "    dispatcher_model=dispatcher_model, \n",
    "    train_dispatcher=True,\n",
    ")\n",
    "trainer = ppo.PPOTrainer(config, logger_creator=logger_creator)"
   ]
  },
  {
   "cell_type": "code",
   "execution_count": 5,
   "metadata": {},
   "outputs": [],
   "source": [
    "for j in range(500):\n",
    "    for i in range(20):\n",
    "        trainer.train()    \n",
    "    trainer.save(checkpoint_dir)"
   ]
  }
 ],
 "metadata": {
  "kernelspec": {
   "display_name": "Python 3.8.13 ('thesis')",
   "language": "python",
   "name": "python3"
  },
  "language_info": {
   "codemirror_mode": {
    "name": "ipython",
    "version": 3
   },
   "file_extension": ".py",
   "mimetype": "text/x-python",
   "name": "python",
   "nbconvert_exporter": "python",
   "pygments_lexer": "ipython3",
   "version": "3.8.13"
  },
  "orig_nbformat": 4,
  "vscode": {
   "interpreter": {
    "hash": "dc7f4105f9f5e395f215a7643dd52717d50b308583dcde27027fbaaaba0d8cea"
   }
  }
 },
 "nbformat": 4,
 "nbformat_minor": 2
}
