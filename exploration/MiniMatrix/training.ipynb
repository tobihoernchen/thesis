{
 "cells": [
  {
   "cell_type": "code",
   "execution_count": 1,
   "metadata": {},
   "outputs": [],
   "source": [
    "from ray.rllib.agents import ppo, a3c, dqn\n",
    "from ray import tune\n",
    "import numpy as np\n",
    "import torch\n",
    "\n",
    "import sys\n",
    "sys.path.append(\"../..\")\n",
    "from thesis.utils.utils import get_config, setup_ray, save, load\n",
    "path = \"D:/Master/Masterarbeit/thesis\"\n",
    "setup_ray(path = path, unidirectional = False)"
   ]
  },
  {
   "cell_type": "code",
   "execution_count": 2,
   "metadata": {},
   "outputs": [],
   "source": [
    "env_args = dict(\n",
    "    fleetsize = 2,\n",
    "    max_fleetsize = 10,    \n",
    "    pseudo_dispatcher = True,\n",
    "    #pseudo_dispatcher_distance = 1,\n",
    "    routing_agent_death= True,\n",
    "    sim_config = dict(\n",
    "        dispatch = True,\n",
    "        routing_ma = True,\n",
    "        dispatching_ma = True,\n",
    "        reward_reached_target = 1, \n",
    "        reward_wrong_target = -0.5,\n",
    "        reward_removed_for_block = -1, \n",
    "        #reward_target_distance = -0.05,\n",
    "        reward_invalid= -0.2,\n",
    "        block_timeout = 20,\n",
    "        reward_accepted_in_station = 1,\n",
    "        reward_declined_in_station = -1,\n",
    "        dispatching_interval=360,\n",
    "        io_quote = 0.99  ,\n",
    "        availability = 0.95,\n",
    "        mttr = 5*60,\n",
    "    )\n",
    ")"
   ]
  },
  {
   "cell_type": "code",
   "execution_count": 3,
   "metadata": {},
   "outputs": [],
   "source": [
    "agv_model = dict(\n",
    "    model = dict(\n",
    "        custom_model = \"lin_model\",\n",
    "        #custom_action_dist=\"MAActionDistribution\",\n",
    "        custom_model_config = dict(\n",
    "            embed_dim=16,\n",
    "            with_action_mask=False,\n",
    "            with_agvs=True,\n",
    "            with_stations = False,\n",
    "        )\n",
    "    )\n",
    ")\n",
    "dispatcher_model = dict(\n",
    "    model = dict(\n",
    "        custom_model = \"lin_model\",\n",
    "        #custom_action_dist=\"MAActionDistribution\",\n",
    "        custom_model_config = dict(\n",
    "            embed_dim=16,\n",
    "            with_action_mask=False,\n",
    "            with_agvs=True,\n",
    "            with_stations = True,\n",
    "        )\n",
    "    )\n",
    ")"
   ]
  },
  {
   "cell_type": "code",
   "execution_count": 4,
   "metadata": {},
   "outputs": [
    {
     "name": "stderr",
     "output_type": "stream",
     "text": [
      "2022-11-12 00:49:46,789\tINFO simple_q.py:187 -- In multi-agent mode, policies will be optimized sequentially by the multi-GPU optimizer. Consider setting `simple_optimizer=True` if this doesn't work for you.\n",
      "2022-11-12 00:49:46,791\tINFO trainer.py:903 -- Current log_level is WARN. For more information, set 'log_level': 'INFO' / 'DEBUG' or use the -v and -vv flags.\n",
      "\u001b[2m\u001b[36m(RolloutWorker pid=460)\u001b[0m c:\\Users\\Wegma\\.conda\\envs\\thesis\\lib\\site-packages\\alpyne\\client\\utils.py:124: UserWarning: Unzipping to temporary directory (C:\\Users\\Wegma\\AppData\\Local\\Temp\\alpyne_03478_1s0ejqem)\n",
      "\u001b[2m\u001b[36m(RolloutWorker pid=460)\u001b[0m   warn(f\"Unzipping to temporary directory ({tmp_dir})\")\n",
      "\u001b[2m\u001b[36m(RolloutWorker pid=9928)\u001b[0m c:\\Users\\Wegma\\.conda\\envs\\thesis\\lib\\site-packages\\alpyne\\client\\utils.py:124: UserWarning: Unzipping to temporary directory (C:\\Users\\Wegma\\AppData\\Local\\Temp\\alpyne_03478_g4b27w7p)\n",
      "\u001b[2m\u001b[36m(RolloutWorker pid=9928)\u001b[0m   warn(f\"Unzipping to temporary directory ({tmp_dir})\")\n",
      "\u001b[2m\u001b[36m(RolloutWorker pid=460)\u001b[0m 2022-11-12 00:50:14,658\tWARNING env.py:42 -- Skipping env checking for this experiment\n",
      "\u001b[2m\u001b[36m(RolloutWorker pid=9928)\u001b[0m 2022-11-12 00:50:14,601\tWARNING env.py:42 -- Skipping env checking for this experiment\n",
      "\u001b[2m\u001b[36m(RolloutWorker pid=9928)\u001b[0m 2022-11-12 00:50:15,037\tWARNING catalog.py:628 -- Custom ModelV2 should accept all custom options as **kwargs, instead of expecting them in config['custom_model_config']!\n",
      "\u001b[2m\u001b[36m(RolloutWorker pid=460)\u001b[0m 2022-11-12 00:50:15,211\tWARNING catalog.py:628 -- Custom ModelV2 should accept all custom options as **kwargs, instead of expecting them in config['custom_model_config']!\n",
      "\u001b[2m\u001b[36m(RolloutWorker pid=9928)\u001b[0m 2022-11-12 00:50:15,104\tWARNING catalog.py:628 -- Custom ModelV2 should accept all custom options as **kwargs, instead of expecting them in config['custom_model_config']!\n",
      "\u001b[2m\u001b[36m(RolloutWorker pid=460)\u001b[0m 2022-11-12 00:50:15,232\tWARNING catalog.py:628 -- Custom ModelV2 should accept all custom options as **kwargs, instead of expecting them in config['custom_model_config']!\n",
      "\u001b[2m\u001b[36m(RolloutWorker pid=460)\u001b[0m 2022-11-12 00:50:15,531\tWARNING catalog.py:628 -- Custom ModelV2 should accept all custom options as **kwargs, instead of expecting them in config['custom_model_config']!\n",
      "\u001b[2m\u001b[36m(RolloutWorker pid=460)\u001b[0m 2022-11-12 00:50:15,555\tWARNING catalog.py:628 -- Custom ModelV2 should accept all custom options as **kwargs, instead of expecting them in config['custom_model_config']!\n",
      "\u001b[2m\u001b[36m(RolloutWorker pid=9928)\u001b[0m 2022-11-12 00:50:15,470\tWARNING catalog.py:628 -- Custom ModelV2 should accept all custom options as **kwargs, instead of expecting them in config['custom_model_config']!\n",
      "\u001b[2m\u001b[36m(RolloutWorker pid=9928)\u001b[0m 2022-11-12 00:50:15,494\tWARNING catalog.py:628 -- Custom ModelV2 should accept all custom options as **kwargs, instead of expecting them in config['custom_model_config']!\n",
      "\u001b[2m\u001b[36m(RolloutWorker pid=460)\u001b[0m c:\\Users\\Wegma\\.conda\\envs\\thesis\\lib\\site-packages\\alpyne\\client\\utils.py:124: UserWarning: Unzipping to temporary directory (C:\\Users\\Wegma\\AppData\\Local\\Temp\\alpyne_03490_a0qrotm4)\n",
      "\u001b[2m\u001b[36m(RolloutWorker pid=460)\u001b[0m   warn(f\"Unzipping to temporary directory ({tmp_dir})\")\n",
      "\u001b[2m\u001b[36m(RolloutWorker pid=9928)\u001b[0m c:\\Users\\Wegma\\.conda\\envs\\thesis\\lib\\site-packages\\alpyne\\client\\utils.py:124: UserWarning: Unzipping to temporary directory (C:\\Users\\Wegma\\AppData\\Local\\Temp\\alpyne_03490_7vptnsav)\n",
      "\u001b[2m\u001b[36m(RolloutWorker pid=9928)\u001b[0m   warn(f\"Unzipping to temporary directory ({tmp_dir})\")\n",
      "\u001b[2m\u001b[36m(RolloutWorker pid=460)\u001b[0m 2022-11-12 00:50:21,708\tWARNING env.py:42 -- Skipping env checking for this experiment\n",
      "\u001b[2m\u001b[36m(RolloutWorker pid=460)\u001b[0m c:\\Users\\Wegma\\.conda\\envs\\thesis\\lib\\site-packages\\alpyne\\client\\utils.py:124: UserWarning: Unzipping to temporary directory (C:\\Users\\Wegma\\AppData\\Local\\Temp\\alpyne_03497_g0a3j8cs)\n",
      "\u001b[2m\u001b[36m(RolloutWorker pid=460)\u001b[0m   warn(f\"Unzipping to temporary directory ({tmp_dir})\")\n",
      "\u001b[2m\u001b[36m(RolloutWorker pid=9928)\u001b[0m 2022-11-12 00:50:22,648\tWARNING env.py:42 -- Skipping env checking for this experiment\n",
      "\u001b[2m\u001b[36m(RolloutWorker pid=9928)\u001b[0m c:\\Users\\Wegma\\.conda\\envs\\thesis\\lib\\site-packages\\alpyne\\client\\utils.py:124: UserWarning: Unzipping to temporary directory (C:\\Users\\Wegma\\AppData\\Local\\Temp\\alpyne_03498_eag8a874)\n",
      "\u001b[2m\u001b[36m(RolloutWorker pid=9928)\u001b[0m   warn(f\"Unzipping to temporary directory ({tmp_dir})\")\n",
      "\u001b[2m\u001b[36m(RolloutWorker pid=460)\u001b[0m 2022-11-12 00:50:28,558\tWARNING env.py:42 -- Skipping env checking for this experiment\n",
      "\u001b[2m\u001b[36m(RolloutWorker pid=460)\u001b[0m c:\\Users\\Wegma\\.conda\\envs\\thesis\\lib\\site-packages\\alpyne\\client\\utils.py:124: UserWarning: Unzipping to temporary directory (C:\\Users\\Wegma\\AppData\\Local\\Temp\\alpyne_03505_3p9k8w1a)\n",
      "\u001b[2m\u001b[36m(RolloutWorker pid=460)\u001b[0m   warn(f\"Unzipping to temporary directory ({tmp_dir})\")\n",
      "\u001b[2m\u001b[36m(RolloutWorker pid=9928)\u001b[0m 2022-11-12 00:50:29,855\tWARNING env.py:42 -- Skipping env checking for this experiment\n",
      "\u001b[2m\u001b[36m(RolloutWorker pid=9928)\u001b[0m c:\\Users\\Wegma\\.conda\\envs\\thesis\\lib\\site-packages\\alpyne\\client\\utils.py:124: UserWarning: Unzipping to temporary directory (C:\\Users\\Wegma\\AppData\\Local\\Temp\\alpyne_03506_la1kau86)\n",
      "\u001b[2m\u001b[36m(RolloutWorker pid=9928)\u001b[0m   warn(f\"Unzipping to temporary directory ({tmp_dir})\")\n",
      "\u001b[2m\u001b[36m(RolloutWorker pid=460)\u001b[0m 2022-11-12 00:50:37,396\tWARNING env.py:42 -- Skipping env checking for this experiment\n",
      "\u001b[2m\u001b[36m(RolloutWorker pid=9928)\u001b[0m 2022-11-12 00:50:37,987\tWARNING env.py:42 -- Skipping env checking for this experiment\n",
      "2022-11-12 00:50:38,896\tWARNING catalog.py:628 -- Custom ModelV2 should accept all custom options as **kwargs, instead of expecting them in config['custom_model_config']!\n",
      "2022-11-12 00:50:38,994\tWARNING catalog.py:628 -- Custom ModelV2 should accept all custom options as **kwargs, instead of expecting them in config['custom_model_config']!\n",
      "2022-11-12 00:50:43,293\tWARNING catalog.py:628 -- Custom ModelV2 should accept all custom options as **kwargs, instead of expecting them in config['custom_model_config']!\n",
      "2022-11-12 00:50:43,309\tWARNING catalog.py:628 -- Custom ModelV2 should accept all custom options as **kwargs, instead of expecting them in config['custom_model_config']!\n",
      "2022-11-12 00:50:43,542\tINFO trainable.py:159 -- Trainable.setup took 56.761 seconds. If your trainable is slow to initialize, consider setting reuse_actors=True to reduce actor creation overheads.\n",
      "2022-11-12 00:50:43,548\tWARNING util.py:65 -- Install gputil for GPU system monitoring.\n"
     ]
    }
   ],
   "source": [
    "config, logger_creator, checkpoint_dir = get_config(\n",
    "    path = path,\n",
    "    batch_size=1000,\n",
    "    env_args = env_args, \n",
    "    agv_model = agv_model,\n",
    "    train_agv = True,\n",
    "    dispatcher_model=dispatcher_model, \n",
    "    train_dispatcher=True,\n",
    "    env = \"minimatrix\",\n",
    "    run_class=\"comparison\",\n",
    "    type = \"dqn\"\n",
    ")\n",
    "#trainer =  ppo.PPOTrainer(config, logger_creator=logger_creator)\n",
    "#trainer = a3c.A3CTrainer(config, logger_creator=logger_creator)\n",
    "trainer = dqn.DQNTrainer(config, logger_creator=logger_creator)"
   ]
  },
  {
   "cell_type": "code",
   "execution_count": 5,
   "metadata": {},
   "outputs": [],
   "source": [
    "#trainer.restore(\"../../models/dqn_test/2_30_2022-11-09_22-11-07/checkpoint_001420/checkpoint-1420\")"
   ]
  },
  {
   "cell_type": "code",
   "execution_count": 6,
   "metadata": {},
   "outputs": [
    {
     "name": "stderr",
     "output_type": "stream",
     "text": [
      "2022-11-12 00:50:48,985\tWARNING deprecation.py:46 -- DeprecationWarning: `ReplayBuffer.add_batch()` has been deprecated. Use `RepayBuffer.add()` instead. This will raise an error in the future!\n",
      "2022-11-12 00:50:49,058\tWARNING multi_agent_prioritized_replay_buffer.py:186 -- Adding batches with column `weights` to this buffer while providing weights as a call argument to the add method results in the column being overwritten.\n",
      "2022-11-12 00:50:49,067\tWARNING deprecation.py:46 -- DeprecationWarning: `replay` has been deprecated. Use `sample` instead. This will raise an error in the future!\n"
     ]
    }
   ],
   "source": [
    "for j in range(10):\n",
    "    for i in range(100):\n",
    "        trainer.train()    \n",
    "    trainer.save(checkpoint_dir)"
   ]
  },
  {
   "cell_type": "code",
   "execution_count": 7,
   "metadata": {},
   "outputs": [],
   "source": [
    "save(trainer, \"agv\", \"../../models/trained\")"
   ]
  }
 ],
 "metadata": {
  "kernelspec": {
   "display_name": "Python 3.8.13 ('thesis')",
   "language": "python",
   "name": "python3"
  },
  "language_info": {
   "codemirror_mode": {
    "name": "ipython",
    "version": 3
   },
   "file_extension": ".py",
   "mimetype": "text/x-python",
   "name": "python",
   "nbconvert_exporter": "python",
   "pygments_lexer": "ipython3",
   "version": "3.8.13"
  },
  "orig_nbformat": 4,
  "vscode": {
   "interpreter": {
    "hash": "dc7f4105f9f5e395f215a7643dd52717d50b308583dcde27027fbaaaba0d8cea"
   }
  }
 },
 "nbformat": 4,
 "nbformat_minor": 2
}
