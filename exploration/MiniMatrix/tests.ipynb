{
 "cells": [
  {
   "cell_type": "code",
   "execution_count": 13,
   "metadata": {},
   "outputs": [],
   "source": [
    "import random\n",
    "sys.path.append(\"../..\")\n",
    "from thesis.utils.utils import RewardCheck\n",
    "from thesis.envs.matrix_zoo import MatrixMA"
   ]
  },
  {
   "cell_type": "code",
   "execution_count": 14,
   "metadata": {},
   "outputs": [
    {
     "name": "stderr",
     "output_type": "stream",
     "text": [
      "c:\\Users\\Wegma\\.conda\\envs\\thesis\\lib\\site-packages\\alpyne\\client\\utils.py:124: UserWarning: Unzipping to temporary directory (C:\\Users\\Wegma\\AppData\\Local\\Temp\\alpyne_79967_9e9_xuug)\n",
      "  warn(f\"Unzipping to temporary directory ({tmp_dir})\")\n"
     ]
    }
   ],
   "source": [
    "env = MatrixMA(model_path = \"../../envs/MiniMatrix.zip\", startport = 51146, fleetsize = 6, max_fleetsize = 10, max_seconds = 5*60, with_action_masks= True, config_args = dict(\n",
    "        reward_block = -1, \n",
    "        #reward_completion = 0.5,\n",
    "        #reward_geo = 0.05,\n",
    "        #reward_respot = 0.01,\n",
    "        #reward_rework = 0.05,\n",
    "        reward_acceptance = 1,\n",
    "        reward_separateAgv=True,\n",
    "        routingOnNode = True,\n",
    "        withCollisions = False,\n",
    "        )\n",
    "        )"
   ]
  },
  {
   "cell_type": "code",
   "execution_count": 15,
   "metadata": {},
   "outputs": [],
   "source": [
    "chk = RewardCheck(env, obs2action = \"build\")#, obs2action = lambda obs: random.randint(0,5))"
   ]
  },
  {
   "cell_type": "code",
   "execution_count": 16,
   "metadata": {},
   "outputs": [
    {
     "ename": "AssertionError",
     "evalue": "",
     "output_type": "error",
     "traceback": [
      "\u001b[1;31m---------------------------------------------------------------------------\u001b[0m",
      "\u001b[1;31mAssertionError\u001b[0m                            Traceback (most recent call last)",
      "\u001b[1;32md:\\Master\\Masterarbeit\\thesis\\exploration\\MiniMatrix\\tests.ipynb Zelle 4\u001b[0m in \u001b[0;36m<cell line: 1>\u001b[1;34m()\u001b[0m\n\u001b[1;32m----> <a href='vscode-notebook-cell:/d%3A/Master/Masterarbeit/thesis/exploration/MiniMatrix/tests.ipynb#W3sZmlsZQ%3D%3D?line=0'>1</a>\u001b[0m chk\u001b[39m.\u001b[39;49mrun(\u001b[39m1\u001b[39;49m, seed \u001b[39m=\u001b[39;49m \u001b[39m3\u001b[39;49m, reward_above\u001b[39m=\u001b[39;49m\u001b[39m4\u001b[39;49m, reward_below \u001b[39m=\u001b[39;49m \u001b[39m-\u001b[39;49m\u001b[39m0.5\u001b[39;49m)\n",
      "File \u001b[1;32md:\\Master\\Masterarbeit\\thesis\\exploration\\MiniMatrix\\../..\\thesis\\utils\\utils.py:143\u001b[0m, in \u001b[0;36mRewardCheck.run\u001b[1;34m(self, n_episodes, agents, reward_above, reward_below, seed)\u001b[0m\n\u001b[0;32m    135\u001b[0m last \u001b[39m=\u001b[39m \u001b[39mself\u001b[39m\u001b[39m.\u001b[39menv\u001b[39m.\u001b[39mlast()\n\u001b[0;32m    136\u001b[0m \u001b[39mself\u001b[39m\u001b[39m.\u001b[39mstate[agent] \u001b[39m=\u001b[39m \u001b[39mself\u001b[39m\u001b[39m.\u001b[39mcheck(\n\u001b[0;32m    137\u001b[0m     \u001b[39mself\u001b[39m\u001b[39m.\u001b[39mstate[agent],\n\u001b[0;32m    138\u001b[0m     \u001b[39mself\u001b[39m\u001b[39m.\u001b[39mactions[agent],\n\u001b[1;32m   (...)\u001b[0m\n\u001b[0;32m    141\u001b[0m     \u001b[39mself\u001b[39m\u001b[39m.\u001b[39mextras[agent],\n\u001b[0;32m    142\u001b[0m )\n\u001b[1;32m--> 143\u001b[0m action, extra \u001b[39m=\u001b[39m \u001b[39mself\u001b[39;49m\u001b[39m.\u001b[39;49mobs2action(last[\u001b[39m0\u001b[39;49m])\n\u001b[0;32m    144\u001b[0m \u001b[39mself\u001b[39m\u001b[39m.\u001b[39mactions[agent] \u001b[39m=\u001b[39m action\n\u001b[0;32m    145\u001b[0m \u001b[39mself\u001b[39m\u001b[39m.\u001b[39mextras[agent] \u001b[39m=\u001b[39m extra\n",
      "File \u001b[1;32md:\\Master\\Masterarbeit\\thesis\\exploration\\MiniMatrix\\../..\\thesis\\utils\\utils.py:97\u001b[0m, in \u001b[0;36mRewardCheck.__init__.<locals>.<lambda>\u001b[1;34m(obs)\u001b[0m\n\u001b[0;32m     95\u001b[0m     \u001b[39mself\u001b[39m\u001b[39m.\u001b[39mobs2action \u001b[39m=\u001b[39m \u001b[39mlambda\u001b[39;00m obs: \u001b[39mself\u001b[39m\u001b[39m.\u001b[39mget_action_target(obs)\n\u001b[0;32m     96\u001b[0m \u001b[39melif\u001b[39;00m obs2action \u001b[39m==\u001b[39m \u001b[39m\"\u001b[39m\u001b[39mbuild\u001b[39m\u001b[39m\"\u001b[39m:\n\u001b[1;32m---> 97\u001b[0m     \u001b[39mself\u001b[39m\u001b[39m.\u001b[39mobs2action \u001b[39m=\u001b[39m \u001b[39mlambda\u001b[39;00m obs: \u001b[39mself\u001b[39;49m\u001b[39m.\u001b[39;49mget_action_build(obs)\n\u001b[0;32m     98\u001b[0m \u001b[39melse\u001b[39;00m:\n\u001b[0;32m     99\u001b[0m     \u001b[39mself\u001b[39m\u001b[39m.\u001b[39mobs2action \u001b[39m=\u001b[39m \u001b[39mlambda\u001b[39;00m obs: \u001b[39mself\u001b[39m\u001b[39m.\u001b[39mget_action_rand(obs)\n",
      "File \u001b[1;32md:\\Master\\Masterarbeit\\thesis\\exploration\\MiniMatrix\\../..\\thesis\\utils\\utils.py:255\u001b[0m, in \u001b[0;36mRewardCheck.get_action_build\u001b[1;34m(self, obs)\u001b[0m\n\u001b[0;32m    253\u001b[0m action \u001b[39m=\u001b[39m manual_routing(obs[\u001b[39m5\u001b[39m:\u001b[39m7\u001b[39m], \u001b[39mlist\u001b[39m(\u001b[39mself\u001b[39m\u001b[39m.\u001b[39mstations[target]), possibles)\n\u001b[0;32m    254\u001b[0m \u001b[39mif\u001b[39;00m action \u001b[39m>\u001b[39m \u001b[39m0\u001b[39m:\n\u001b[1;32m--> 255\u001b[0m     \u001b[39massert\u001b[39;00m possibles[action \u001b[39m-\u001b[39m \u001b[39m1\u001b[39m]\n\u001b[0;32m    256\u001b[0m \u001b[39mreturn\u001b[39;00m (\n\u001b[0;32m    257\u001b[0m     action,\n\u001b[0;32m    258\u001b[0m     \u001b[39mf\u001b[39m\u001b[39m\"\u001b[39m\u001b[39mPOSSIBLE: \u001b[39m\u001b[39m{\u001b[39;00mpossibles\u001b[39m}\u001b[39;00m\u001b[39m \u001b[39m\u001b[39m\\t\u001b[39;00m\u001b[39m GOAL: \u001b[39m\u001b[39m{\u001b[39;00mtarget\u001b[39m}\u001b[39;00m\u001b[39m-\u001b[39m\u001b[39m{\u001b[39;00m\u001b[39mlist\u001b[39m(\u001b[39mself\u001b[39m\u001b[39m.\u001b[39mstations[target])\u001b[39m}\u001b[39;00m\u001b[39m \u001b[39m\u001b[39m\\t\u001b[39;00m\u001b[39m PART:\u001b[39m\u001b[39m{\u001b[39;00mobs[\u001b[39m15\u001b[39m:\u001b[39m25\u001b[39m]\u001b[39m}\u001b[39;00m\u001b[39m\"\u001b[39m,\n\u001b[0;32m    259\u001b[0m )\n",
      "\u001b[1;31mAssertionError\u001b[0m: "
     ]
    }
   ],
   "source": [
    "chk.run(1, seed = 3, reward_above=4, reward_below = -0.5)"
   ]
  }
 ],
 "metadata": {
  "kernelspec": {
   "display_name": "Python 3.8.13 ('thesis')",
   "language": "python",
   "name": "python3"
  },
  "language_info": {
   "codemirror_mode": {
    "name": "ipython",
    "version": 3
   },
   "file_extension": ".py",
   "mimetype": "text/x-python",
   "name": "python",
   "nbconvert_exporter": "python",
   "pygments_lexer": "ipython3",
   "version": "3.8.13"
  },
  "orig_nbformat": 4,
  "vscode": {
   "interpreter": {
    "hash": "dc7f4105f9f5e395f215a7643dd52717d50b308583dcde27027fbaaaba0d8cea"
   }
  }
 },
 "nbformat": 4,
 "nbformat_minor": 2
}
