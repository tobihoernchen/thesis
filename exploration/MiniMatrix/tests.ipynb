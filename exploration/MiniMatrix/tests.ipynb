{
 "cells": [
  {
   "cell_type": "code",
   "execution_count": 1,
   "metadata": {},
   "outputs": [],
   "source": [
    "import sys\n",
    "sys.path.append(\"../..\")\n",
    "from thesis.utils.env_checker import RewardCheck\n",
    "from thesis.envs.matrix import Matrix"
   ]
  },
  {
   "cell_type": "code",
   "execution_count": 2,
   "metadata": {},
   "outputs": [
    {
     "name": "stderr",
     "output_type": "stream",
     "text": [
      "2023-04-21 19:07:32,528\tINFO worker.py:1528 -- Started a local Ray instance.\n",
      "2023-04-21 19:08:05,225\tINFO simple_q.py:307 -- In multi-agent mode, policies will be optimized sequentially by the multi-GPU optimizer. Consider setting `simple_optimizer=True` if this doesn't work for you.\n",
      "2023-04-21 19:08:05,246\tINFO algorithm.py:457 -- Current log_level is ERROR. For more information, set 'log_level': 'INFO' / 'DEBUG' or use the -v and -vv flags.\n",
      "c:\\Users\\Wegma\\.conda\\envs\\thesis3_9\\lib\\site-packages\\alpyne\\client\\utils.py:124: UserWarning: Unzipping to temporary directory (C:\\Users\\Wegma\\AppData\\Local\\Temp\\alpyne_79729_b_y49cka)\n",
      "  warn(f\"Unzipping to temporary directory ({tmp_dir})\")\n",
      "2023-04-21 19:08:41,281\tINFO trainable.py:164 -- Trainable.setup took 36.065 seconds. If your trainable is slow to initialize, consider setting reuse_actors=True to reduce actor creation overheads.\n"
     ]
    }
   ],
   "source": [
    "from thesis.pypeline_connectors.matrix import get_action, get_config"
   ]
  },
  {
   "cell_type": "code",
   "execution_count": 10,
   "metadata": {},
   "outputs": [],
   "source": [
    "env = Matrix(\n",
    "    model_path = \"../../envs/Matrix_unidirectional.zip\",\n",
    "    startport = 51141,\n",
    "    max_seconds = 60*60,\n",
    "\n",
    "    fleetsize = 8,\n",
    "    max_fleetsize = 20,    \n",
    "    pseudo_routing = True,\n",
    "    pseudo_dispatcher = True,\n",
    "    pseudo_dispatcher_clever=True,\n",
    "    #pseudo_dispatcher_distance = 0.2,\n",
    "    routing_agent_death= False,\n",
    "    death_on_target = False,\n",
    "    transform_dispatching_partobs=True,\n",
    "    direction_reward = -0.1,\n",
    "    sim_config = dict(\n",
    "        dispatch = True,\n",
    "        routing_ma = True,\n",
    "        dispatching_ma = True,\n",
    "        reward_reached_target = 10,\n",
    "        #reward_reached_target_by_time = True, \n",
    "        reward_wrong_target = -1,\n",
    "        reward_removed_for_block = -5, \n",
    "        reward_target_distance = -1,\n",
    "        reward_invalid= -0.1,\n",
    "        reward_duration = -0.5,\n",
    "        block_timeout = 120,\n",
    "        #reward_accepted_in_station = 1,\n",
    "        reward_declined_in_station = -1,\n",
    "        reward_part_completed = 5,\n",
    "        reward_geo_operation=1,\n",
    "        reward_rework_operation=1,\n",
    "        reward_respot_operation=1,\n",
    "        routing_interval = 2,\n",
    "        dispatching_interval=360,\n",
    "        io_quote = 0.9,\n",
    "        availability = 0.9,\n",
    "        mttr = 5,\n",
    "    )\n",
    ")"
   ]
  },
  {
   "cell_type": "code",
   "execution_count": 11,
   "metadata": {},
   "outputs": [],
   "source": [
    "chk = RewardCheck(env)"
   ]
  },
  {
   "cell_type": "code",
   "execution_count": 12,
   "metadata": {},
   "outputs": [
    {
     "name": "stderr",
     "output_type": "stream",
     "text": [
      "c:\\Users\\Wegma\\.conda\\envs\\thesis3_9\\lib\\site-packages\\alpyne\\client\\utils.py:124: UserWarning: Unzipping to temporary directory (C:\\Users\\Wegma\\AppData\\Local\\Temp\\alpyne_74876_2vqhjkp1)\n",
      "  warn(f\"Unzipping to temporary directory ({tmp_dir})\")\n"
     ]
    },
    {
     "name": "stdout",
     "output_type": "stream",
     "text": [
      "++++++++++++++++++++\n",
      "Total Reward: -2.0; 1 steps taken\n",
      "Mean Step Time: 0.017703533172607422s ; Max: 0.017703533172607422s ; Min: 0.017703533172607422s\n"
     ]
    }
   ],
   "source": [
    "chk.run(1, 42)#, manual_agents=[\"1000\"], dispatch_mode=True)"
   ]
  },
  {
   "cell_type": "code",
   "execution_count": null,
   "metadata": {},
   "outputs": [],
   "source": [
    "# env.agent_behaviors[\"1000\"].part_obs_to_dict(env.run.get_observation().obs[0][14:], \"matrix\")"
   ]
  },
  {
   "cell_type": "code",
   "execution_count": null,
   "metadata": {},
   "outputs": [],
   "source": [
    "#MatrixPart().translate(env.agent_behaviors[\"1000\"].part_obs_to_dict(env.run.get_observation().obs[0][14:], \"matrix\"))"
   ]
  },
  {
   "cell_type": "code",
   "execution_count": 13,
   "metadata": {},
   "outputs": [
    {
     "data": {
      "text/plain": [
       "{'block': 13.0,\n",
       " 'targetReached': 24.0,\n",
       " 'wrongTarget': 7.0,\n",
       " 'jobDone': 0.0,\n",
       " 'newPart': 7.0,\n",
       " 'dispatch': 182.0,\n",
       " 'taken_invalid': 15340.0,\n",
       " 'passed': 5024.0,\n",
       " '_blocksec_agv15': 69.0,\n",
       " 'liveLock': 13.0,\n",
       " '_blocksec_agv5': 42.499999999999986,\n",
       " '_blocksec_agv7': 43.5,\n",
       " '_blocksec_agv14': 100.0,\n",
       " '_blocksec_agv12': 27.5,\n",
       " '_blocksec_agv4': 75.0,\n",
       " '_blocksec_agv3': 31.500000000000014,\n",
       " '_blocksec_agv9': 71.50000000000001,\n",
       " '_jobdur_hgeo1': 210.0,\n",
       " '_jobnum_hgeo1': 3.0,\n",
       " '_jobdur_vgeo1': 280.0,\n",
       " '_jobnum_vgeo1': 4.0,\n",
       " '_blocksec_agv11': 58.0,\n",
       " '_blocksec_agv10': 52.5,\n",
       " '_blocksec_agv6': 40.499999999999986,\n",
       " '_blocksec_agv8': 37.5,\n",
       " '_blocksec_agv2': 29.499999999999986,\n",
       " '_blocksec_agv1': 21.000000000000014,\n",
       " '_njobs_agv13': 3.0,\n",
       " '_jobdur_fls_2': 20.25,\n",
       " '_jobnum_fls_2': 1.0,\n",
       " '_njobs_agv2': 1.0,\n",
       " '_njobs_agv7': 1.0,\n",
       " '_jobdur_fls_1': 20.25,\n",
       " '_jobnum_fls_1': 1.0,\n",
       " '_jobdur_hsn1_1': 30.25,\n",
       " '_jobnum_hsn1_1': 1.0,\n",
       " '_jobdur_vgeo2': 70.0,\n",
       " '_jobnum_vgeo2': 1.0,\n",
       " '_jobdur_hgeo2': 70.0,\n",
       " '_jobnum_hgeo2': 1.0,\n",
       " 'fleetsize': 16}"
      ]
     },
     "execution_count": 13,
     "metadata": {},
     "output_type": "execute_result"
    }
   ],
   "source": [
    "env.statistics"
   ]
  },
  {
   "cell_type": "code",
   "execution_count": null,
   "metadata": {},
   "outputs": [
    {
     "data": {
      "text/plain": [
       "13.891666666666667"
      ]
     },
     "execution_count": 16,
     "metadata": {},
     "output_type": "execute_result"
    }
   ],
   "source": [
    "5001/6/60"
   ]
  },
  {
   "cell_type": "code",
   "execution_count": null,
   "metadata": {},
   "outputs": [],
   "source": [
    "#env.statistics"
   ]
  },
  {
   "cell_type": "code",
   "execution_count": null,
   "metadata": {},
   "outputs": [],
   "source": [
    "#chk.replay(\"0\")"
   ]
  },
  {
   "cell_type": "code",
   "execution_count": null,
   "metadata": {},
   "outputs": [],
   "source": [
    "#env.observations[\"1000\"]"
   ]
  },
  {
   "cell_type": "code",
   "execution_count": null,
   "metadata": {},
   "outputs": [],
   "source": [
    "# import numpy as np\n",
    "# np.array([\"Hi\",2,3])[[True, False, True]]"
   ]
  },
  {
   "cell_type": "code",
   "execution_count": null,
   "metadata": {},
   "outputs": [
    {
     "ename": "NameError",
     "evalue": "name 'vgeo1' is not defined",
     "output_type": "error",
     "traceback": [
      "\u001b[1;31m---------------------------------------------------------------------------\u001b[0m",
      "\u001b[1;31mNameError\u001b[0m                                 Traceback (most recent call last)",
      "Cell \u001b[1;32mIn[13], line 1\u001b[0m\n\u001b[1;32m----> 1\u001b[0m vgeo1\n\u001b[0;32m      2\u001b[0m vgeo2\n\u001b[0;32m      3\u001b[0m vgeo3\n",
      "\u001b[1;31mNameError\u001b[0m: name 'vgeo1' is not defined"
     ]
    }
   ],
   "source": [
    "vgeo1\n",
    "vgeo2\n",
    "vgeo3\n",
    "vgeo4\n",
    "vgeo5\n",
    "vgeo6\n",
    "hgeo1\n",
    "hgeo2\n",
    "hgeo3\n",
    "hgeo4\n",
    "hgeo5"
   ]
  },
  {
   "cell_type": "code",
   "execution_count": null,
   "metadata": {},
   "outputs": [
    {
     "data": {
      "text/plain": [
       "OrderedDict([(4, (0.15384615384615385, 0.5229357798165137)),\n",
       "             (9, (0.15384615384615385, 0.3486238532110092)),\n",
       "             (14, (0.2875739644970414, 0.6146788990825688)),\n",
       "             (19, (0.4, 0.44036697247706424)),\n",
       "             (24, (0.5183431952662721, 0.6146788990825688)),\n",
       "             (29, (0.6366863905325444, 0.44036697247706424)),\n",
       "             (34, (0.7550295857988165, 0.6146788990825688)),\n",
       "             (39, (0.8733727810650888, 0.6146788990825688)),\n",
       "             (40, (0.7550295857988165, 0.44036697247706424)),\n",
       "             (41, (0.6366863905325444, 0.6146788990825688)),\n",
       "             (42, (0.5183431952662721, 0.44036697247706424)),\n",
       "             (43, (0.4, 0.6146788990825688)),\n",
       "             (44, (0.2875739644970414, 0.44036697247706424)),\n",
       "             (49, (0.15384615384615385, 0.7064220183486238)),\n",
       "             (54, (0.15384615384615385, 0.8899082568807339)),\n",
       "             (59, (0.15384615384615385, 0.1559633027522936)),\n",
       "             (76, (1.0, 0.08256880733944955)),\n",
       "             (77, (1.0, 0.25137614678899084)),\n",
       "             (78, (1.0, 0.44403669724770645)),\n",
       "             (83, (1.0, 0.6275229357798165)),\n",
       "             (92, (1.0, 0.8110091743119267)),\n",
       "             (93, (1.0, 0.9761467889908257)),\n",
       "             (104, (0.8698224852071006, 0.25688073394495414)),\n",
       "             (105, (0.8698224852071006, 0.30275229357798167)),\n",
       "             (106, (0.8698224852071006, 0.3486238532110092)),\n",
       "             (107, (0.8698224852071006, 0.3944954128440367)),\n",
       "             (108, (0.8698224852071006, 0.44036697247706424))])"
      ]
     },
     "execution_count": 9,
     "metadata": {},
     "output_type": "execute_result"
    }
   ],
   "source": [
    "env.agent_hive.stations"
   ]
  },
  {
   "cell_type": "code",
   "execution_count": null,
   "metadata": {},
   "outputs": [
    {
     "name": "stdout",
     "output_type": "stream",
     "text": [
      "AGENT 1000 --- STEP 1 --- ACTION [4, 4, 5, 2, 4, 4, 1, 5, 5, 3] --- REWARD -5.0\n"
     ]
    },
    {
     "data": {
      "image/png": "[encoded data removed]",
      "text/plain": [
       "<PIL.Image.Image image mode=RGB size=410x210>"
      ]
     },
     "metadata": {},
     "output_type": "display_data"
    }
   ],
   "source": [
    "chk.replay(\"1000\")"
   ]
  },
  {
   "cell_type": "code",
   "execution_count": null,
   "metadata": {},
   "outputs": [
    {
     "ename": "KeyboardInterrupt",
     "evalue": "",
     "output_type": "error",
     "traceback": [
      "\u001b[1;31m---------------------------------------------------------------------------\u001b[0m",
      "\u001b[1;31mKeyboardInterrupt\u001b[0m                         Traceback (most recent call last)",
      "Cell \u001b[1;32mIn [7], line 1\u001b[0m\n\u001b[1;32m----> 1\u001b[0m chk\u001b[39m.\u001b[39;49mplot(\u001b[39m\"\u001b[39;49m\u001b[39m0\u001b[39;49m\u001b[39m\"\u001b[39;49m)\n",
      "File \u001b[1;32md:\\Master\\Masterarbeit\\thesis\\exploration\\MiniMatrix\\../..\\thesis\\utils\\env_checker.py:205\u001b[0m, in \u001b[0;36mRewardCheck.plot\u001b[1;34m(self, agent)\u001b[0m\n\u001b[0;32m    178\u001b[0m             data\u001b[39m.\u001b[39mappend(\n\u001b[0;32m    179\u001b[0m                 [\n\u001b[0;32m    180\u001b[0m                     i,\n\u001b[1;32m   (...)\u001b[0m\n\u001b[0;32m    189\u001b[0m                 ]\n\u001b[0;32m    190\u001b[0m             )\n\u001b[0;32m    191\u001b[0m df \u001b[39m=\u001b[39m pd\u001b[39m.\u001b[39mDataFrame(\n\u001b[0;32m    192\u001b[0m     data,\n\u001b[0;32m    193\u001b[0m     columns\u001b[39m=\u001b[39m[\n\u001b[1;32m   (...)\u001b[0m\n\u001b[0;32m    203\u001b[0m     ],\n\u001b[0;32m    204\u001b[0m )\n\u001b[1;32m--> 205\u001b[0m fig \u001b[39m=\u001b[39m px\u001b[39m.\u001b[39;49mline(\n\u001b[0;32m    206\u001b[0m     df,\n\u001b[0;32m    207\u001b[0m     \u001b[39m\"\u001b[39;49m\u001b[39mx\u001b[39;49m\u001b[39m\"\u001b[39;49m,\n\u001b[0;32m    208\u001b[0m     \u001b[39m\"\u001b[39;49m\u001b[39my\u001b[39;49m\u001b[39m\"\u001b[39;49m,\n\u001b[0;32m    209\u001b[0m     animation_frame\u001b[39m=\u001b[39;49m\u001b[39m\"\u001b[39;49m\u001b[39mstep\u001b[39;49m\u001b[39m\"\u001b[39;49m,\n\u001b[0;32m    210\u001b[0m     line_group\u001b[39m=\u001b[39;49m\u001b[39m\"\u001b[39;49m\u001b[39mname\u001b[39;49m\u001b[39m\"\u001b[39;49m,\n\u001b[0;32m    211\u001b[0m     color\u001b[39m=\u001b[39;49m\u001b[39m\"\u001b[39;49m\u001b[39mmain\u001b[39;49m\u001b[39m\"\u001b[39;49m,\n\u001b[0;32m    212\u001b[0m     symbol\u001b[39m=\u001b[39;49m\u001b[39m\"\u001b[39;49m\u001b[39mtype\u001b[39;49m\u001b[39m\"\u001b[39;49m,\n\u001b[0;32m    213\u001b[0m     hover_name\u001b[39m=\u001b[39;49m\u001b[39m\"\u001b[39;49m\u001b[39mtext\u001b[39;49m\u001b[39m\"\u001b[39;49m,\n\u001b[0;32m    214\u001b[0m     range_x\u001b[39m=\u001b[39;49m[\u001b[39m0\u001b[39;49m, \u001b[39m1.1\u001b[39;49m],\n\u001b[0;32m    215\u001b[0m     range_y\u001b[39m=\u001b[39;49m[\u001b[39m1.1\u001b[39;49m, \u001b[39m0\u001b[39;49m],\n\u001b[0;32m    216\u001b[0m     height\u001b[39m=\u001b[39;49m\u001b[39m600\u001b[39;49m,\n\u001b[0;32m    217\u001b[0m     width\u001b[39m=\u001b[39;49m\u001b[39m1000\u001b[39;49m,\n\u001b[0;32m    218\u001b[0m )\n\u001b[0;32m    219\u001b[0m fig\u001b[39m.\u001b[39mshow()\n",
      "File \u001b[1;32mc:\\Users\\Wegma\\.conda\\envs\\thesis3_9\\lib\\site-packages\\plotly\\express\\_chart_types.py:264\u001b[0m, in \u001b[0;36mline\u001b[1;34m(data_frame, x, y, line_group, color, line_dash, symbol, hover_name, hover_data, custom_data, text, facet_row, facet_col, facet_col_wrap, facet_row_spacing, facet_col_spacing, error_x, error_x_minus, error_y, error_y_minus, animation_frame, animation_group, category_orders, labels, orientation, color_discrete_sequence, color_discrete_map, line_dash_sequence, line_dash_map, symbol_sequence, symbol_map, markers, log_x, log_y, range_x, range_y, line_shape, render_mode, title, template, width, height)\u001b[0m\n\u001b[0;32m    216\u001b[0m \u001b[39mdef\u001b[39;00m \u001b[39mline\u001b[39m(\n\u001b[0;32m    217\u001b[0m     data_frame\u001b[39m=\u001b[39m\u001b[39mNone\u001b[39;00m,\n\u001b[0;32m    218\u001b[0m     x\u001b[39m=\u001b[39m\u001b[39mNone\u001b[39;00m,\n\u001b[1;32m   (...)\u001b[0m\n\u001b[0;32m    258\u001b[0m     height\u001b[39m=\u001b[39m\u001b[39mNone\u001b[39;00m,\n\u001b[0;32m    259\u001b[0m ) \u001b[39m-\u001b[39m\u001b[39m>\u001b[39m go\u001b[39m.\u001b[39mFigure:\n\u001b[0;32m    260\u001b[0m     \u001b[39m\"\"\"\u001b[39;00m\n\u001b[0;32m    261\u001b[0m \u001b[39m    In a 2D line plot, each row of `data_frame` is represented as vertex of\u001b[39;00m\n\u001b[0;32m    262\u001b[0m \u001b[39m    a polyline mark in 2D space.\u001b[39;00m\n\u001b[0;32m    263\u001b[0m \u001b[39m    \"\"\"\u001b[39;00m\n\u001b[1;32m--> 264\u001b[0m     \u001b[39mreturn\u001b[39;00m make_figure(args\u001b[39m=\u001b[39;49m\u001b[39mlocals\u001b[39;49m(), constructor\u001b[39m=\u001b[39;49mgo\u001b[39m.\u001b[39;49mScatter)\n",
      "File \u001b[1;32mc:\\Users\\Wegma\\.conda\\envs\\thesis3_9\\lib\\site-packages\\plotly\\express\\_core.py:2252\u001b[0m, in \u001b[0;36mmake_figure\u001b[1;34m(args, constructor, trace_patch, layout_patch)\u001b[0m\n\u001b[0;32m   2250\u001b[0m \u001b[39mfor\u001b[39;00m f \u001b[39min\u001b[39;00m frame_list:\n\u001b[0;32m   2251\u001b[0m     f[\u001b[39m\"\u001b[39m\u001b[39mname\u001b[39m\u001b[39m\"\u001b[39m] \u001b[39m=\u001b[39m \u001b[39mstr\u001b[39m(f[\u001b[39m\"\u001b[39m\u001b[39mname\u001b[39m\u001b[39m\"\u001b[39m])\n\u001b[1;32m-> 2252\u001b[0m fig\u001b[39m.\u001b[39;49mframes \u001b[39m=\u001b[39m frame_list \u001b[39mif\u001b[39;00m \u001b[39mlen\u001b[39m(frames) \u001b[39m>\u001b[39m \u001b[39m1\u001b[39m \u001b[39melse\u001b[39;00m []\n\u001b[0;32m   2254\u001b[0m \u001b[39mif\u001b[39;00m args\u001b[39m.\u001b[39mget(\u001b[39m\"\u001b[39m\u001b[39mtrendline\u001b[39m\u001b[39m\"\u001b[39m) \u001b[39mand\u001b[39;00m args\u001b[39m.\u001b[39mget(\u001b[39m\"\u001b[39m\u001b[39mtrendline_scope\u001b[39m\u001b[39m\"\u001b[39m, \u001b[39m\"\u001b[39m\u001b[39mtrace\u001b[39m\u001b[39m\"\u001b[39m) \u001b[39m==\u001b[39m \u001b[39m\"\u001b[39m\u001b[39moverall\u001b[39m\u001b[39m\"\u001b[39m:\n\u001b[0;32m   2255\u001b[0m     trendline_spec \u001b[39m=\u001b[39m make_trendline_spec(args, constructor)\n",
      "File \u001b[1;32mc:\\Users\\Wegma\\.conda\\envs\\thesis3_9\\lib\\site-packages\\plotly\\basedatatypes.py:719\u001b[0m, in \u001b[0;36mBaseFigure.__setattr__\u001b[1;34m(self, prop, value)\u001b[0m\n\u001b[0;32m    706\u001b[0m \u001b[39m\"\"\"\u001b[39;00m\n\u001b[0;32m    707\u001b[0m \u001b[39mParameters\u001b[39;00m\n\u001b[0;32m    708\u001b[0m \u001b[39m----------\u001b[39;00m\n\u001b[1;32m   (...)\u001b[0m\n\u001b[0;32m    715\u001b[0m \u001b[39mNone\u001b[39;00m\n\u001b[0;32m    716\u001b[0m \u001b[39m\"\"\"\u001b[39;00m\n\u001b[0;32m    717\u001b[0m \u001b[39mif\u001b[39;00m prop\u001b[39m.\u001b[39mstartswith(\u001b[39m\"\u001b[39m\u001b[39m_\u001b[39m\u001b[39m\"\u001b[39m) \u001b[39mor\u001b[39;00m \u001b[39mhasattr\u001b[39m(\u001b[39mself\u001b[39m, prop):\n\u001b[0;32m    718\u001b[0m     \u001b[39m# Let known properties and private properties through\u001b[39;00m\n\u001b[1;32m--> 719\u001b[0m     \u001b[39msuper\u001b[39;49m(BaseFigure, \u001b[39mself\u001b[39;49m)\u001b[39m.\u001b[39;49m\u001b[39m__setattr__\u001b[39;49m(prop, value)\n\u001b[0;32m    720\u001b[0m \u001b[39melse\u001b[39;00m:\n\u001b[0;32m    721\u001b[0m     \u001b[39m# Raise error on unknown public properties\u001b[39;00m\n\u001b[0;32m    722\u001b[0m     \u001b[39mraise\u001b[39;00m \u001b[39mAttributeError\u001b[39;00m(prop)\n",
      "File \u001b[1;32mc:\\Users\\Wegma\\.conda\\envs\\thesis3_9\\lib\\site-packages\\plotly\\basedatatypes.py:2855\u001b[0m, in \u001b[0;36mBaseFigure.frames\u001b[1;34m(self, new_frames)\u001b[0m\n\u001b[0;32m   2848\u001b[0m \u001b[39m@frames\u001b[39m\u001b[39m.\u001b[39msetter\n\u001b[0;32m   2849\u001b[0m \u001b[39mdef\u001b[39;00m \u001b[39mframes\u001b[39m(\u001b[39mself\u001b[39m, new_frames):\n\u001b[0;32m   2850\u001b[0m     \u001b[39m# Note: Frames are not supported by the FigureWidget subclass so we\u001b[39;00m\n\u001b[1;32m   (...)\u001b[0m\n\u001b[0;32m   2853\u001b[0m \n\u001b[0;32m   2854\u001b[0m     \u001b[39m# Validate frames\u001b[39;00m\n\u001b[1;32m-> 2855\u001b[0m     \u001b[39mself\u001b[39m\u001b[39m.\u001b[39m_frame_objs \u001b[39m=\u001b[39m \u001b[39mself\u001b[39;49m\u001b[39m.\u001b[39;49m_frames_validator\u001b[39m.\u001b[39;49mvalidate_coerce(new_frames)\n",
      "File \u001b[1;32mc:\\Users\\Wegma\\.conda\\envs\\thesis3_9\\lib\\site-packages\\_plotly_utils\\basevalidators.py:2547\u001b[0m, in \u001b[0;36mCompoundArrayValidator.validate_coerce\u001b[1;34m(self, v, skip_invalid)\u001b[0m\n\u001b[0;32m   2545\u001b[0m     res\u001b[39m.\u001b[39mappend(\u001b[39mself\u001b[39m\u001b[39m.\u001b[39mdata_class(v_el))\n\u001b[0;32m   2546\u001b[0m \u001b[39melif\u001b[39;00m \u001b[39misinstance\u001b[39m(v_el, \u001b[39mdict\u001b[39m):\n\u001b[1;32m-> 2547\u001b[0m     res\u001b[39m.\u001b[39mappend(\u001b[39mself\u001b[39;49m\u001b[39m.\u001b[39;49mdata_class(v_el, skip_invalid\u001b[39m=\u001b[39;49mskip_invalid))\n\u001b[0;32m   2548\u001b[0m \u001b[39melse\u001b[39;00m:\n\u001b[0;32m   2549\u001b[0m     \u001b[39mif\u001b[39;00m skip_invalid:\n",
      "File \u001b[1;32mc:\\Users\\Wegma\\.conda\\envs\\thesis3_9\\lib\\site-packages\\plotly\\graph_objs\\_frame.py:243\u001b[0m, in \u001b[0;36mFrame.__init__\u001b[1;34m(self, arg, baseframe, data, group, layout, name, traces, **kwargs)\u001b[0m\n\u001b[0;32m    241\u001b[0m _v \u001b[39m=\u001b[39m data \u001b[39mif\u001b[39;00m data \u001b[39mis\u001b[39;00m \u001b[39mnot\u001b[39;00m \u001b[39mNone\u001b[39;00m \u001b[39melse\u001b[39;00m _v\n\u001b[0;32m    242\u001b[0m \u001b[39mif\u001b[39;00m _v \u001b[39mis\u001b[39;00m \u001b[39mnot\u001b[39;00m \u001b[39mNone\u001b[39;00m:\n\u001b[1;32m--> 243\u001b[0m     \u001b[39mself\u001b[39;49m[\u001b[39m\"\u001b[39;49m\u001b[39mdata\u001b[39;49m\u001b[39m\"\u001b[39;49m] \u001b[39m=\u001b[39m _v\n\u001b[0;32m    244\u001b[0m _v \u001b[39m=\u001b[39m arg\u001b[39m.\u001b[39mpop(\u001b[39m\"\u001b[39m\u001b[39mgroup\u001b[39m\u001b[39m\"\u001b[39m, \u001b[39mNone\u001b[39;00m)\n\u001b[0;32m    245\u001b[0m _v \u001b[39m=\u001b[39m group \u001b[39mif\u001b[39;00m group \u001b[39mis\u001b[39;00m \u001b[39mnot\u001b[39;00m \u001b[39mNone\u001b[39;00m \u001b[39melse\u001b[39;00m _v\n",
      "File \u001b[1;32mc:\\Users\\Wegma\\.conda\\envs\\thesis3_9\\lib\\site-packages\\plotly\\basedatatypes.py:4855\u001b[0m, in \u001b[0;36mBasePlotlyType.__setitem__\u001b[1;34m(self, prop, value)\u001b[0m\n\u001b[0;32m   4853\u001b[0m \u001b[39m# ### Handle compound array property ###\u001b[39;00m\n\u001b[0;32m   4854\u001b[0m \u001b[39melif\u001b[39;00m \u001b[39misinstance\u001b[39m(validator, (CompoundArrayValidator, BaseDataValidator)):\n\u001b[1;32m-> 4855\u001b[0m     \u001b[39mself\u001b[39;49m\u001b[39m.\u001b[39;49m_set_array_prop(prop, value)\n\u001b[0;32m   4857\u001b[0m \u001b[39m# ### Handle simple property ###\u001b[39;00m\n\u001b[0;32m   4858\u001b[0m \u001b[39melse\u001b[39;00m:\n\u001b[0;32m   4859\u001b[0m     \u001b[39mself\u001b[39m\u001b[39m.\u001b[39m_set_prop(prop, value)\n",
      "File \u001b[1;32mc:\\Users\\Wegma\\.conda\\envs\\thesis3_9\\lib\\site-packages\\plotly\\basedatatypes.py:5336\u001b[0m, in \u001b[0;36mBasePlotlyType._set_array_prop\u001b[1;34m(self, prop, val)\u001b[0m\n\u001b[0;32m   5333\u001b[0m \u001b[39m# Import value\u001b[39;00m\n\u001b[0;32m   5334\u001b[0m \u001b[39m# ------------\u001b[39;00m\n\u001b[0;32m   5335\u001b[0m validator \u001b[39m=\u001b[39m \u001b[39mself\u001b[39m\u001b[39m.\u001b[39m_get_validator(prop)\n\u001b[1;32m-> 5336\u001b[0m val \u001b[39m=\u001b[39m validator\u001b[39m.\u001b[39;49mvalidate_coerce(val, skip_invalid\u001b[39m=\u001b[39;49m\u001b[39mself\u001b[39;49m\u001b[39m.\u001b[39;49m_skip_invalid)\n\u001b[0;32m   5338\u001b[0m \u001b[39m# Save deep copies of current and new states\u001b[39;00m\n\u001b[0;32m   5339\u001b[0m \u001b[39m# ------------------------------------------\u001b[39;00m\n\u001b[0;32m   5340\u001b[0m curr_val \u001b[39m=\u001b[39m \u001b[39mself\u001b[39m\u001b[39m.\u001b[39m_compound_array_props\u001b[39m.\u001b[39mget(prop, \u001b[39mNone\u001b[39;00m)\n",
      "File \u001b[1;32mc:\\Users\\Wegma\\.conda\\envs\\thesis3_9\\lib\\site-packages\\_plotly_utils\\basevalidators.py:2668\u001b[0m, in \u001b[0;36mBaseDataValidator.validate_coerce\u001b[1;34m(self, v, skip_invalid, _validate)\u001b[0m\n\u001b[0;32m   2666\u001b[0m             invalid_els\u001b[39m.\u001b[39mappend(v_el)\n\u001b[0;32m   2667\u001b[0m     \u001b[39melse\u001b[39;00m:\n\u001b[1;32m-> 2668\u001b[0m         trace \u001b[39m=\u001b[39m \u001b[39mself\u001b[39m\u001b[39m.\u001b[39mget_trace_class(trace_type)(\n\u001b[0;32m   2669\u001b[0m             skip_invalid\u001b[39m=\u001b[39mskip_invalid, _validate\u001b[39m=\u001b[39m_validate, \u001b[39m*\u001b[39m\u001b[39m*\u001b[39mv_copy\n\u001b[0;32m   2670\u001b[0m         )\n\u001b[0;32m   2671\u001b[0m         res\u001b[39m.\u001b[39mappend(trace)\n\u001b[0;32m   2672\u001b[0m \u001b[39melse\u001b[39;00m:\n",
      "File \u001b[1;32mc:\\Users\\Wegma\\.conda\\envs\\thesis3_9\\lib\\site-packages\\plotly\\graph_objs\\_scatter.py:3354\u001b[0m, in \u001b[0;36mScatter.__init__\u001b[1;34m(self, arg, cliponaxis, connectgaps, customdata, customdatasrc, dx, dy, error_x, error_y, fill, fillcolor, fillpattern, groupnorm, hoverinfo, hoverinfosrc, hoverlabel, hoveron, hovertemplate, hovertemplatesrc, hovertext, hovertextsrc, ids, idssrc, legendgroup, legendgrouptitle, legendrank, legendwidth, line, marker, meta, metasrc, mode, name, opacity, orientation, selected, selectedpoints, showlegend, stackgaps, stackgroup, stream, text, textfont, textposition, textpositionsrc, textsrc, texttemplate, texttemplatesrc, uid, uirevision, unselected, visible, x, x0, xaxis, xcalendar, xhoverformat, xperiod, xperiod0, xperiodalignment, xsrc, y, y0, yaxis, ycalendar, yhoverformat, yperiod, yperiod0, yperiodalignment, ysrc, **kwargs)\u001b[0m\n\u001b[0;32m   3352\u001b[0m _v \u001b[39m=\u001b[39m x \u001b[39mif\u001b[39;00m x \u001b[39mis\u001b[39;00m \u001b[39mnot\u001b[39;00m \u001b[39mNone\u001b[39;00m \u001b[39melse\u001b[39;00m _v\n\u001b[0;32m   3353\u001b[0m \u001b[39mif\u001b[39;00m _v \u001b[39mis\u001b[39;00m \u001b[39mnot\u001b[39;00m \u001b[39mNone\u001b[39;00m:\n\u001b[1;32m-> 3354\u001b[0m     \u001b[39mself\u001b[39;49m[\u001b[39m\"\u001b[39;49m\u001b[39mx\u001b[39;49m\u001b[39m\"\u001b[39;49m] \u001b[39m=\u001b[39m _v\n\u001b[0;32m   3355\u001b[0m _v \u001b[39m=\u001b[39m arg\u001b[39m.\u001b[39mpop(\u001b[39m\"\u001b[39m\u001b[39mx0\u001b[39m\u001b[39m\"\u001b[39m, \u001b[39mNone\u001b[39;00m)\n\u001b[0;32m   3356\u001b[0m _v \u001b[39m=\u001b[39m x0 \u001b[39mif\u001b[39;00m x0 \u001b[39mis\u001b[39;00m \u001b[39mnot\u001b[39;00m \u001b[39mNone\u001b[39;00m \u001b[39melse\u001b[39;00m _v\n",
      "File \u001b[1;32mc:\\Users\\Wegma\\.conda\\envs\\thesis3_9\\lib\\site-packages\\plotly\\basedatatypes.py:4859\u001b[0m, in \u001b[0;36mBasePlotlyType.__setitem__\u001b[1;34m(self, prop, value)\u001b[0m\n\u001b[0;32m   4855\u001b[0m         \u001b[39mself\u001b[39m\u001b[39m.\u001b[39m_set_array_prop(prop, value)\n\u001b[0;32m   4857\u001b[0m     \u001b[39m# ### Handle simple property ###\u001b[39;00m\n\u001b[0;32m   4858\u001b[0m     \u001b[39melse\u001b[39;00m:\n\u001b[1;32m-> 4859\u001b[0m         \u001b[39mself\u001b[39;49m\u001b[39m.\u001b[39;49m_set_prop(prop, value)\n\u001b[0;32m   4860\u001b[0m \u001b[39melse\u001b[39;00m:\n\u001b[0;32m   4861\u001b[0m     \u001b[39m# Make sure properties dict is initialized\u001b[39;00m\n\u001b[0;32m   4862\u001b[0m     \u001b[39mself\u001b[39m\u001b[39m.\u001b[39m_init_props()\n",
      "File \u001b[1;32mc:\\Users\\Wegma\\.conda\\envs\\thesis3_9\\lib\\site-packages\\plotly\\basedatatypes.py:5198\u001b[0m, in \u001b[0;36mBasePlotlyType._set_prop\u001b[1;34m(self, prop, val)\u001b[0m\n\u001b[0;32m   5195\u001b[0m validator \u001b[39m=\u001b[39m \u001b[39mself\u001b[39m\u001b[39m.\u001b[39m_get_validator(prop)\n\u001b[0;32m   5197\u001b[0m \u001b[39mtry\u001b[39;00m:\n\u001b[1;32m-> 5198\u001b[0m     val \u001b[39m=\u001b[39m validator\u001b[39m.\u001b[39;49mvalidate_coerce(val)\n\u001b[0;32m   5199\u001b[0m \u001b[39mexcept\u001b[39;00m \u001b[39mValueError\u001b[39;00m \u001b[39mas\u001b[39;00m err:\n\u001b[0;32m   5200\u001b[0m     \u001b[39mif\u001b[39;00m \u001b[39mself\u001b[39m\u001b[39m.\u001b[39m_skip_invalid:\n",
      "File \u001b[1;32mc:\\Users\\Wegma\\.conda\\envs\\thesis3_9\\lib\\site-packages\\_plotly_utils\\basevalidators.py:400\u001b[0m, in \u001b[0;36mDataArrayValidator.validate_coerce\u001b[1;34m(self, v)\u001b[0m\n\u001b[0;32m    398\u001b[0m     \u001b[39mpass\u001b[39;00m\n\u001b[0;32m    399\u001b[0m \u001b[39melif\u001b[39;00m is_homogeneous_array(v):\n\u001b[1;32m--> 400\u001b[0m     v \u001b[39m=\u001b[39m copy_to_readonly_numpy_array(v)\n\u001b[0;32m    401\u001b[0m \u001b[39melif\u001b[39;00m is_simple_array(v):\n\u001b[0;32m    402\u001b[0m     v \u001b[39m=\u001b[39m to_scalar_or_list(v)\n",
      "File \u001b[1;32mc:\\Users\\Wegma\\.conda\\envs\\thesis3_9\\lib\\site-packages\\_plotly_utils\\basevalidators.py:141\u001b[0m, in \u001b[0;36mcopy_to_readonly_numpy_array\u001b[1;34m(v, kind, force_numeric)\u001b[0m\n\u001b[0;32m    138\u001b[0m         new_v \u001b[39m=\u001b[39m np\u001b[39m.\u001b[39mascontiguousarray(v\u001b[39m.\u001b[39mastype(dtype))\n\u001b[0;32m    139\u001b[0m     \u001b[39melse\u001b[39;00m:\n\u001b[0;32m    140\u001b[0m         \u001b[39m# Either no kind was requested or requested kind is satisfied\u001b[39;00m\n\u001b[1;32m--> 141\u001b[0m         new_v \u001b[39m=\u001b[39m np\u001b[39m.\u001b[39mascontiguousarray(v\u001b[39m.\u001b[39;49mcopy())\n\u001b[0;32m    142\u001b[0m \u001b[39melse\u001b[39;00m:\n\u001b[0;32m    143\u001b[0m     \u001b[39m# v is a non-numeric homogenous array\u001b[39;00m\n\u001b[0;32m    144\u001b[0m     new_v \u001b[39m=\u001b[39m v\u001b[39m.\u001b[39mcopy()\n",
      "\u001b[1;31mKeyboardInterrupt\u001b[0m: "
     ]
    }
   ],
   "source": [
    "chk.plot(\"0\")"
   ]
  },
  {
   "cell_type": "code",
   "execution_count": null,
   "metadata": {},
   "outputs": [
    {
     "data": {
      "text/plain": [
       "[{'block': 0.0,\n",
       "  'targetReached': 152.0,\n",
       "  'wrongTarget': 9.0,\n",
       "  'jobDone': 0.0,\n",
       "  'newPart': 5.0,\n",
       "  'dispatch': 155.0,\n",
       "  'taken_invalid': 498.0,\n",
       "  '_jobdur_hgeo1': 60.0,\n",
       "  '_jobnum_hgeo1': 2.0,\n",
       "  '_jobdur_vgeo1': 90.0,\n",
       "  '_jobnum_vgeo1': 3.0,\n",
       "  '_njobs_agv2': 4.0,\n",
       "  '_jobdur_hsn1_1': 236.5,\n",
       "  '_jobnum_hsn1_1': 2.0,\n",
       "  '_blocksec_agv1': 97.5,\n",
       "  '_jobdur_wps_1': 217.0,\n",
       "  '_jobnum_wps_1': 1.0,\n",
       "  '_jobdur_hsn2_2': 130.0,\n",
       "  '_jobnum_hsn2_2': 1.0,\n",
       "  '_njobs_agv1': 3.0,\n",
       "  '_jobdur_impact': 300.0,\n",
       "  '_jobnum_impact': 2.0,\n",
       "  '_njobs_agv0': 1.0},\n",
       " {'block': 0.0,\n",
       "  'targetReached': 133.0,\n",
       "  'wrongTarget': 5.0,\n",
       "  'jobDone': 0.0,\n",
       "  'newPart': 5.0,\n",
       "  'dispatch': 137.0,\n",
       "  'taken_invalid': 329.0,\n",
       "  '_jobdur_hgeo1': 60.0,\n",
       "  '_jobnum_hgeo1': 2.0,\n",
       "  '_jobdur_vgeo1': 90.0,\n",
       "  '_jobnum_vgeo1': 3.0,\n",
       "  '_blocksec_agv1': 218.0,\n",
       "  '_blocksec_agv0': 0.5,\n",
       "  '_njobs_agv0': 6.0,\n",
       "  '_njobs_agv2': 4.0,\n",
       "  '_jobdur_hsn1_1': 137.5,\n",
       "  '_jobnum_hsn1_1': 1.0,\n",
       "  '_jobdur_hsn1_2': 198.0,\n",
       "  '_jobnum_hsn1_2': 2.0,\n",
       "  '_njobs_agv1': 4.0,\n",
       "  '_jobdur_vgeo2': 30.0,\n",
       "  '_jobnum_vgeo2': 1.0,\n",
       "  '_jobdur_impact': 300.0,\n",
       "  '_jobnum_impact': 2.0,\n",
       "  '_jobdur_fls_2': 414.0,\n",
       "  '_jobnum_fls_2': 2.0,\n",
       "  '_jobdur_hsn2_2': 130.0,\n",
       "  '_jobnum_hsn2_2': 1.0,\n",
       "  '_jobdur_fls_1': 162.0,\n",
       "  '_jobnum_fls_1': 1.0,\n",
       "  '_jobdur_wps_3': 217.0,\n",
       "  '_jobnum_wps_3': 1.0,\n",
       "  '_jobdur_wps_1': 217.0,\n",
       "  '_jobnum_wps_1': 1.0,\n",
       "  '_jobdur_hgeo2': 30.0,\n",
       "  '_jobnum_hgeo2': 1.0,\n",
       "  '_jobdur_wps_2': 217.0,\n",
       "  '_jobnum_wps_2': 1.0,\n",
       "  '_blocksec_agv2': 9.5},\n",
       " {'block': 0.0,\n",
       "  'targetReached': 112.0,\n",
       "  'wrongTarget': 4.0,\n",
       "  'jobDone': 0.0,\n",
       "  'newPart': 5.0,\n",
       "  'dispatch': 115.0,\n",
       "  'taken_invalid': 381.0,\n",
       "  '_jobdur_hgeo1': 60.0,\n",
       "  '_jobnum_hgeo1': 2.0,\n",
       "  '_jobdur_vgeo1': 90.0,\n",
       "  '_jobnum_vgeo1': 3.0,\n",
       "  '_njobs_agv2': 6.0,\n",
       "  '_jobdur_fls_2': 414.0,\n",
       "  '_jobnum_fls_2': 2.0,\n",
       "  '_blocksec_agv1': 162.00000000000006,\n",
       "  '_blocksec_agv0': 304.0,\n",
       "  '_njobs_agv1': 6.0,\n",
       "  '_jobdur_hsn1_2': 236.5,\n",
       "  '_jobnum_hsn1_2': 2.0,\n",
       "  '_jobdur_wps_1': 434.0,\n",
       "  '_jobnum_wps_1': 2.0,\n",
       "  '_jobdur_impact': 450.0,\n",
       "  '_jobnum_impact': 3.0,\n",
       "  '_jobdur_vgeo2': 60.0,\n",
       "  '_jobnum_vgeo2': 2.0,\n",
       "  '_jobdur_hgeo2': 30.0,\n",
       "  '_jobnum_hgeo2': 1.0,\n",
       "  '_njobs_agv0': 7.0,\n",
       "  '_jobdur_hsn1_1': 99.0,\n",
       "  '_jobnum_hsn1_1': 1.0,\n",
       "  '_jobdur_wps_2': 217.0,\n",
       "  '_jobnum_wps_2': 1.0,\n",
       "  '_jobdur_hsn2_1': 130.0,\n",
       "  '_jobnum_hsn2_1': 1.0,\n",
       "  '_jobdur_fls_1': 162.0,\n",
       "  '_jobnum_fls_1': 1.0,\n",
       "  '_jobdur_hsn2_2': 351.0,\n",
       "  '_jobnum_hsn2_2': 2.0,\n",
       "  '_jobdur_vgeo3': 30.0,\n",
       "  '_jobnum_vgeo3': 1.0},\n",
       " {'block': 0.0,\n",
       "  'targetReached': 126.0,\n",
       "  'wrongTarget': 5.0,\n",
       "  'jobDone': 0.0,\n",
       "  'newPart': 5.0,\n",
       "  'dispatch': 130.0,\n",
       "  'taken_invalid': 455.0,\n",
       "  '_jobdur_hgeo1': 90.0,\n",
       "  '_jobnum_hgeo1': 3.0,\n",
       "  '_jobdur_vgeo1': 60.0,\n",
       "  '_jobnum_vgeo1': 2.0,\n",
       "  '_blocksec_agv2': 62.0,\n",
       "  '_njobs_agv0': 6.0,\n",
       "  '_njobs_agv1': 6.0,\n",
       "  '_jobdur_hgeo2': 30.0,\n",
       "  '_jobnum_hgeo2': 1.0,\n",
       "  '_jobdur_wps_2': 217.0,\n",
       "  '_jobnum_wps_2': 1.0,\n",
       "  '_jobdur_hsn1_2': 99.0,\n",
       "  '_jobnum_hsn1_2': 1.0,\n",
       "  '_jobdur_wps_1': 434.0,\n",
       "  '_jobnum_wps_1': 2.0,\n",
       "  '_jobdur_hsn1_1': 137.5,\n",
       "  '_jobnum_hsn1_1': 1.0,\n",
       "  '_jobdur_vgeo2': 30.0,\n",
       "  '_jobnum_vgeo2': 1.0,\n",
       "  '_jobdur_fls_1': 414.0,\n",
       "  '_jobnum_fls_1': 2.0,\n",
       "  '_jobdur_impact': 150.0,\n",
       "  '_jobnum_impact': 1.0,\n",
       "  '_jobdur_hgeo3': 30.0,\n",
       "  '_jobnum_hgeo3': 1.0,\n",
       "  '_jobdur_hsn2_2': 305.5,\n",
       "  '_jobnum_hsn2_2': 2.0,\n",
       "  '_njobs_agv2': 1.0,\n",
       "  '_blocksec_agv1': 222.5},\n",
       " {'block': 0.0,\n",
       "  'targetReached': 125.0,\n",
       "  'wrongTarget': 2.0,\n",
       "  'jobDone': 0.0,\n",
       "  'newPart': 5.0,\n",
       "  'dispatch': 128.0,\n",
       "  'taken_invalid': 374.0,\n",
       "  '_jobdur_hgeo1': 90.0,\n",
       "  '_jobnum_hgeo1': 3.0,\n",
       "  '_jobdur_vgeo1': 60.0,\n",
       "  '_jobnum_vgeo1': 2.0,\n",
       "  '_blocksec_agv2': 1.0,\n",
       "  '_njobs_agv1': 5.0,\n",
       "  '_jobdur_impact': 300.0,\n",
       "  '_jobnum_impact': 2.0,\n",
       "  '_jobdur_hsn2_1': 175.5,\n",
       "  '_jobnum_hsn2_1': 1.0,\n",
       "  '_jobdur_hsn1_2': 236.5,\n",
       "  '_jobnum_hsn1_2': 2.0,\n",
       "  '_njobs_agv0': 5.0,\n",
       "  '_jobdur_vgeo2': 30.0,\n",
       "  '_jobnum_vgeo2': 1.0,\n",
       "  '_jobdur_fls_2': 414.0,\n",
       "  '_jobnum_fls_2': 2.0,\n",
       "  '_njobs_agv2': 5.0,\n",
       "  '_blocksec_agv0': 1.5,\n",
       "  '_jobdur_wps_2': 434.0,\n",
       "  '_jobnum_wps_2': 2.0,\n",
       "  '_blocksec_agv1': 65.0,\n",
       "  '_jobdur_hsn2_2': 130.0,\n",
       "  '_jobnum_hsn2_2': 1.0,\n",
       "  '_jobdur_hgeo2': 60.0,\n",
       "  '_jobnum_hgeo2': 2.0,\n",
       "  '_jobdur_wps_3': 217.0,\n",
       "  '_jobnum_wps_3': 1.0}]"
      ]
     },
     "execution_count": 11,
     "metadata": {},
     "output_type": "execute_result"
    }
   ],
   "source": [
    "chk.history[\"statistics\"]"
   ]
  },
  {
   "cell_type": "code",
   "execution_count": null,
   "metadata": {},
   "outputs": [
    {
     "data": {
      "text/plain": [
       "[0.0, 0.0, 0.0, 0.0, 0.0]"
      ]
     },
     "execution_count": 6,
     "metadata": {},
     "output_type": "execute_result"
    }
   ],
   "source": [
    "[stat[\"block\"] for stat in chk.history[\"statistics\"]]"
   ]
  }
 ],
 "metadata": {
  "kernelspec": {
   "display_name": "thesis3_9",
   "language": "python",
   "name": "python3"
  },
  "language_info": {
   "codemirror_mode": {
    "name": "ipython",
    "version": 3
   },
   "file_extension": ".py",
   "mimetype": "text/x-python",
   "name": "python",
   "nbconvert_exporter": "python",
   "pygments_lexer": "ipython3",
   "version": "3.9.15"
  },
  "orig_nbformat": 4,
  "vscode": {
   "interpreter": {
    "hash": "a0516e323c1d6337405feeccc202b0dbcb07dc1a4aafa5eedf3cd6ee0d411108"
   }
  }
 },
 "nbformat": 4,
 "nbformat_minor": 2
}
