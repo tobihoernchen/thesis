{
 "cells": [
  {
   "cell_type": "code",
   "execution_count": 1,
   "metadata": {},
   "outputs": [],
   "source": [
    "import random\n",
    "sys.path.append(\"../..\")\n",
    "from thesis.utils.utils import RewardCheck\n",
    "from thesis.envs.matrix_dispatching_zoo_death import MatrixDispatchingMA_Death"
   ]
  },
  {
   "cell_type": "code",
   "execution_count": 2,
   "metadata": {},
   "outputs": [
    {
     "name": "stderr",
     "output_type": "stream",
     "text": [
      "c:\\Users\\Wegma\\.conda\\envs\\thesis\\lib\\site-packages\\alpyne\\client\\utils.py:124: UserWarning: Unzipping to temporary directory (C:\\Users\\Wegma\\AppData\\Local\\Temp\\alpyne_55895_j3w7ick6)\n",
      "  warn(f\"Unzipping to temporary directory ({tmp_dir})\")\n"
     ]
    }
   ],
   "source": [
    "env = MatrixDispatchingMA_Death(\n",
    "        model_path = \"../../envs/MiniMatrix.zip\", \n",
    "        startport = 51146, \n",
    "        fleetsize = 10, \n",
    "        max_fleetsize = 10, \n",
    "        max_seconds = 60*60, \n",
    "        dispatcher = \"stat\",\n",
    "        config_args = dict(\n",
    "            withCollisions = True,\n",
    "            # reward_target = 1, \n",
    "            # reward_distance = -0.1,\n",
    "            reward_block = -1, \n",
    "            # reward_invalid=-0.3,\n",
    "            # reward_acceptance = 5,\n",
    "            # reward_declined = -0.1,\n",
    "            # dispatchinginterval=120,\n",
    "            # ioquote = 0.8,\n",
    "            # availability = 0.9,\n",
    "            # mttr = 5*60,\n",
    "\n",
    "        )\n",
    "        )"
   ]
  },
  {
   "cell_type": "code",
   "execution_count": 3,
   "metadata": {},
   "outputs": [],
   "source": [
    "chk = RewardCheck(env, obs2action=\"target\")#obs2action = lambda a, b: (random.randint(1,4), str(a[\"agvs\"][17:25])))"
   ]
  },
  {
   "cell_type": "code",
   "execution_count": 15,
   "metadata": {},
   "outputs": [
    {
     "data": {
      "text/plain": [
       "0.3489159515354343"
      ]
     },
     "execution_count": 15,
     "metadata": {},
     "output_type": "execute_result"
    }
   ],
   "source": [
    "import numpy as np\n",
    "np.std(np.array(chk.hist[\"rewards\"]))"
   ]
  },
  {
   "cell_type": "code",
   "execution_count": 5,
   "metadata": {},
   "outputs": [
    {
     "data": {
      "text/plain": [
       "{8: (0.32954545454545453, 0.808),\n",
       " 13: (0.32954545454545453, 0.428),\n",
       " 14: (0.5727272727272728, 0.62),\n",
       " 19: (0.7909090909090909, 0.62),\n",
       " 24: (0.9727272727272728, 0.62),\n",
       " 25: (0.9727272727272728, 1.0)}"
      ]
     },
     "execution_count": 5,
     "metadata": {},
     "output_type": "execute_result"
    }
   ],
   "source": [
    "env.dispatcher.stations"
   ]
  },
  {
   "cell_type": "code",
   "execution_count": 4,
   "metadata": {},
   "outputs": [
    {
     "name": "stdout",
     "output_type": "stream",
     "text": [
      "++++++++++++++++++++\n",
      "Total Reward: -498.0\n",
      "Mean Step Time: 0.021621738785594053s ; Max: 0.17634248733520508s ; Min: 0.0s\n"
     ]
    }
   ],
   "source": [
    "chk.run(1, seed = 6, agents = [str(i)+\"_Dispatching\" for i in range(10)])"
   ]
  }
 ],
 "metadata": {
  "kernelspec": {
   "display_name": "Python 3.8.13 ('thesis')",
   "language": "python",
   "name": "python3"
  },
  "language_info": {
   "codemirror_mode": {
    "name": "ipython",
    "version": 3
   },
   "file_extension": ".py",
   "mimetype": "text/x-python",
   "name": "python",
   "nbconvert_exporter": "python",
   "pygments_lexer": "ipython3",
   "version": "3.8.13"
  },
  "orig_nbformat": 4,
  "vscode": {
   "interpreter": {
    "hash": "dc7f4105f9f5e395f215a7643dd52717d50b308583dcde27027fbaaaba0d8cea"
   }
  }
 },
 "nbformat": 4,
 "nbformat_minor": 2
}
