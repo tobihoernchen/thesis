{
 "cells": [
  {
   "cell_type": "code",
   "execution_count": 1,
   "metadata": {},
   "outputs": [],
   "source": [
    "sys.path.append(\"../..\")\n",
    "from thesis.utils.env_checker import RewardCheck\n",
    "from thesis.envs.matrix import Matrix"
   ]
  },
  {
   "cell_type": "code",
   "execution_count": 2,
   "metadata": {},
   "outputs": [],
   "source": [
    "env = Matrix(\n",
    "    model_path = \"../../envs/MiniMatrix_unidirectional.zip\",\n",
    "    startport = 51141,\n",
    "    max_seconds = 60*60,\n",
    "    fleetsize = 2,\n",
    "    max_fleetsize = 10,    \n",
    "    pseudo_routing = True,\n",
    "    pseudo_dispatcher = True,\n",
    "    #pseudo_dispatcher_distance=0.1,\n",
    "    routing_agent_death= False,\n",
    "    death_on_target = False,\n",
    "    sim_config = dict(\n",
    "        dispatch = True,\n",
    "        routing_ma = True,\n",
    "        dispatching_ma = True,\n",
    "        reward_reached_target = 1, \n",
    "        reward_wrong_target = -0.5, \n",
    "        reward_removed_for_block = -1, \n",
    "        #reward_target_distance = 0.2,\n",
    "        reward_invalid=-0.2,\n",
    "        block_timeout = 20,\n",
    "        reward_accepted_in_station = 1,\n",
    "        reward_declined_in_station = -1,\n",
    "        dispatching_interval=240,\n",
    "        io_quote = 0.99  ,\n",
    "        availability = 0.95,\n",
    "        mttr = 5*60,\n",
    "    )\n",
    ")"
   ]
  },
  {
   "cell_type": "code",
   "execution_count": 3,
   "metadata": {},
   "outputs": [],
   "source": [
    "chk = RewardCheck(env)"
   ]
  },
  {
   "cell_type": "code",
   "execution_count": 4,
   "metadata": {},
   "outputs": [
    {
     "name": "stderr",
     "output_type": "stream",
     "text": [
      "c:\\Users\\Wegma\\.conda\\envs\\thesis3_9\\lib\\site-packages\\alpyne\\client\\utils.py:124: UserWarning: Unzipping to temporary directory (C:\\Users\\Wegma\\AppData\\Local\\Temp\\alpyne_40030_q7mf22iy)\n",
      "  warn(f\"Unzipping to temporary directory ({tmp_dir})\")\n"
     ]
    },
    {
     "name": "stdout",
     "output_type": "stream",
     "text": [
      "++++++++++++++++++++\n",
      "Total Reward: 0; 1 steps taken\n",
      "Mean Step Time: 0.026009321212768555s ; Max: 0.026009321212768555s ; Min: 0.026009321212768555s\n",
      "{'jobDone': 9.0, 'newPart': 12.0, 'dispatch': 170.0, 'taken_invalid': 207.0, 'targetReached': 169.0, '_jobdur_geo1': 360.0, '_jobnum_geo1': 12.0, '_njobs_agv0': 15.0, '_jobdur_wps': 300.0, '_jobnum_wps': 10.0, '_njobs_agv1': 14.0, '_jobdur_hsn': 292.5, '_jobnum_hsn': 9.0, '_blocksec_agv1': 188.0, '_blocksec_agv0': 95.0, '_jobdur_geo2': 270.0, '_jobnum_geo2': 9.0, 'wrongTarget': 2.0, 'block': 2.0}\n",
      "++++++++++++++++++++\n",
      "Total Reward: 0; 1 steps taken\n",
      "Mean Step Time: 0.019004106521606445s ; Max: 0.026009321212768555s ; Min: 0.011998891830444336s\n",
      "{'jobDone': 10.0, 'newPart': 12.0, 'dispatch': 176.0, 'taken_invalid': 237.0, '_jobdur_geo1': 360.0, '_jobnum_geo1': 12.0, 'targetReached': 175.0, '_njobs_agv1': 16.0, '_jobdur_wps': 300.0, '_jobnum_wps': 10.0, '_blocksec_agv0': 66.5, '_jobdur_hsn': 325.0, '_jobnum_hsn': 10.0, '_njobs_agv0': 14.0, '_jobdur_geo2': 300.0, '_jobnum_geo2': 10.0, '_blocksec_agv1': 34.0, 'wrongTarget': 2.0}\n",
      "++++++++++++++++++++\n",
      "Total Reward: 0; 1 steps taken\n",
      "Mean Step Time: 0.01800227165222168s ; Max: 0.026009321212768555s ; Min: 0.011998891830444336s\n",
      "{'jobDone': 9.0, 'newPart': 12.0, 'dispatch': 175.0, 'taken_invalid': 273.0, '_jobdur_geo1': 360.0, '_jobnum_geo1': 12.0, 'targetReached': 173.0, '_blocksec_agv0': 170.0, '_blocksec_agv1': 60.99999999999994, '_njobs_agv0': 9.0, '_jobdur_wps': 270.0, '_jobnum_wps': 9.0, '_njobs_agv1': 19.0, '_jobdur_hsn': 325.0, '_jobnum_hsn': 10.0, '_jobdur_geo2': 270.0, '_jobnum_geo2': 9.0}\n",
      "++++++++++++++++++++\n",
      "Total Reward: 0; 1 steps taken\n",
      "Mean Step Time: 0.01700061559677124s ; Max: 0.026009321212768555s ; Min: 0.011998891830444336s\n",
      "{'jobDone': 9.0, 'newPart': 12.0, 'dispatch': 164.0, 'taken_invalid': 328.0, 'targetReached': 161.0, '_jobdur_geo1': 360.0, '_jobnum_geo1': 12.0, '_njobs_agv0': 14.0, '_jobdur_wps': 330.0, '_jobnum_wps': 11.0, '_njobs_agv1': 15.0, '_jobdur_hsn': 292.5, '_jobnum_hsn': 9.0, '_blocksec_agv1': 293.5, '_jobdur_geo2': 270.0, '_jobnum_geo2': 9.0, 'block': 2.0, '_blocksec_agv0': 89.5, 'wrongTarget': 1.0}\n",
      "++++++++++++++++++++\n",
      "Total Reward: 0; 1 steps taken\n",
      "Mean Step Time: 0.01581578254699707s ; Max: 0.026009321212768555s ; Min: 0.01107645034790039s\n",
      "{'jobDone': 8.0, 'newPart': 9.0, 'dispatch': 193.0, 'taken_invalid': 300.0, 'targetReached': 191.0, '_jobdur_geo1': 270.0, '_jobnum_geo1': 9.0, '_njobs_agv1': 12.0, '_jobdur_wps': 240.0, '_jobnum_wps': 8.0, '_blocksec_agv0': 106.00000000000001, '_jobdur_hsn': 227.5, '_jobnum_hsn': 7.0, '_njobs_agv0': 11.0, '_blocksec_agv1': 57.5, '_jobdur_geo2': 240.0, '_jobnum_geo2': 8.0}\n"
     ]
    }
   ],
   "source": [
    "chk.run(5)"
   ]
  },
  {
   "cell_type": "code",
   "execution_count": null,
   "metadata": {},
   "outputs": [
    {
     "name": "stdout",
     "output_type": "stream",
     "text": [
      "AGENT 1000 --- STEP 16 --- ACTION [3, 2, 1, 1, 4, 4, 3, 2, 2, 1] --- REWARD 0\n"
     ]
    },
    {
     "data": {
      "image/png": "[encoded data removed]",
      "text/plain": [
       "<PIL.Image.Image image mode=RGB size=410x210>"
      ]
     },
     "metadata": {},
     "output_type": "display_data"
    }
   ],
   "source": [
    "chk.replay(\"1000\")"
   ]
  },
  {
   "cell_type": "code",
   "execution_count": null,
   "metadata": {},
   "outputs": [
    {
     "data": {
      "text/plain": [
       "{'jobDone': 0.0,\n",
       " 'newPart': 1.0,\n",
       " 'dispatch': 2.0,\n",
       " 'taken_invalid': 34.0,\n",
       " 'wrongTarget': 1.0}"
      ]
     },
     "execution_count": 8,
     "metadata": {},
     "output_type": "execute_result"
    }
   ],
   "source": [
    "env.statistics"
   ]
  },
  {
   "cell_type": "code",
   "execution_count": null,
   "metadata": {},
   "outputs": [
    {
     "name": "stdout",
     "output_type": "stream",
     "text": [
      "AGENT 1 --- STEP 28 --- ACTION [1, 4, 5, 2, 5, 4, 5, 1, 0, 2] --- REWARD 0\n"
     ]
    },
    {
     "data": {
      "image/png": "[encoded data removed]",
      "text/plain": [
       "<PIL.Image.Image image mode=RGB size=410x210>"
      ]
     },
     "metadata": {},
     "output_type": "display_data"
    },
    {
     "ename": "KeyboardInterrupt",
     "evalue": "",
     "output_type": "error",
     "traceback": [
      "\u001b[1;31m---------------------------------------------------------------------------\u001b[0m",
      "\u001b[1;31mKeyboardInterrupt\u001b[0m                         Traceback (most recent call last)",
      "\u001b[1;32md:\\Master\\Masterarbeit\\thesis\\exploration\\MiniMatrix\\tests.ipynb Zelle 7\u001b[0m in \u001b[0;36m<cell line: 1>\u001b[1;34m()\u001b[0m\n\u001b[1;32m----> <a href='vscode-notebook-cell:/d%3A/Master/Masterarbeit/thesis/exploration/MiniMatrix/tests.ipynb#W5sZmlsZQ%3D%3D?line=0'>1</a>\u001b[0m chk\u001b[39m.\u001b[39;49mreplay(\u001b[39m\"\u001b[39;49m\u001b[39m1\u001b[39;49m\u001b[39m\"\u001b[39;49m, \u001b[39m0.5\u001b[39;49m)\n",
      "File \u001b[1;32md:\\Master\\Masterarbeit\\thesis\\exploration\\MiniMatrix\\../..\\thesis\\utils\\env_checker.py:129\u001b[0m, in \u001b[0;36mRewardCheck.replay\u001b[1;34m(self, agent, wait_s, start, end)\u001b[0m\n\u001b[0;32m    121\u001b[0m \u001b[39massert\u001b[39;00m agent \u001b[39min\u001b[39;00m \u001b[39mself\u001b[39m\u001b[39m.\u001b[39mhistory\u001b[39m.\u001b[39mkeys()\n\u001b[0;32m    122\u001b[0m \u001b[39mfor\u001b[39;00m i, (render, reward, action) \u001b[39min\u001b[39;00m \u001b[39menumerate\u001b[39m(\n\u001b[0;32m    123\u001b[0m     \u001b[39mzip\u001b[39m(\n\u001b[0;32m    124\u001b[0m         \u001b[39mself\u001b[39m\u001b[39m.\u001b[39mhistory[agent][\u001b[39m\"\u001b[39m\u001b[39mrender\u001b[39m\u001b[39m\"\u001b[39m][start:end],\n\u001b[1;32m   (...)\u001b[0m\n\u001b[0;32m    127\u001b[0m     )\n\u001b[0;32m    128\u001b[0m ):\n\u001b[1;32m--> 129\u001b[0m     time\u001b[39m.\u001b[39;49msleep(wait_s)\n\u001b[0;32m    130\u001b[0m     clear_output()\n\u001b[0;32m    131\u001b[0m     \u001b[39mprint\u001b[39m(\n\u001b[0;32m    132\u001b[0m         \u001b[39mf\u001b[39m\u001b[39m\"\u001b[39m\u001b[39mAGENT \u001b[39m\u001b[39m{\u001b[39;00magent\u001b[39m}\u001b[39;00m\u001b[39m --- STEP \u001b[39m\u001b[39m{\u001b[39;00mstart \u001b[39m+\u001b[39m i\u001b[39m}\u001b[39;00m\u001b[39m --- ACTION \u001b[39m\u001b[39m{\u001b[39;00maction\u001b[39m}\u001b[39;00m\u001b[39m --- REWARD \u001b[39m\u001b[39m{\u001b[39;00mreward\u001b[39m}\u001b[39;00m\u001b[39m\"\u001b[39m\n\u001b[0;32m    133\u001b[0m     )\n",
      "\u001b[1;31mKeyboardInterrupt\u001b[0m: "
     ]
    }
   ],
   "source": [
    "chk.replay(\"1\", 0.5)"
   ]
  },
  {
   "cell_type": "code",
   "execution_count": null,
   "metadata": {},
   "outputs": [
    {
     "name": "stdout",
     "output_type": "stream",
     "text": [
      "AGENT 7 --- STEP 42 --- ACTION [4, 2, 0, 5, 2, 4, 2, 0, 4, 3] --- REWARD 0\n"
     ]
    },
    {
     "data": {
      "image/png": "[encoded data removed]",
      "text/plain": [
       "<PIL.Image.Image image mode=RGB size=410x210>"
      ]
     },
     "metadata": {},
     "output_type": "display_data"
    },
    {
     "data": {
      "text/plain": [
       "[('3', 12),\n",
       " ('3', 24),\n",
       " ('7', 38),\n",
       " ('14', 50),\n",
       " ('25', 65),\n",
       " ('30', 2),\n",
       " ('36', 1),\n",
       " ('49', 0),\n",
       " ('51', 51),\n",
       " ('51', 68),\n",
       " ('51', 110),\n",
       " ('52', 24),\n",
       " ('54', 24),\n",
       " ('62', 0),\n",
       " ('63', 0)]"
      ]
     },
     "execution_count": 57,
     "metadata": {},
     "output_type": "execute_result"
    }
   ],
   "source": [
    "chk.get_reward_situations(reward_above = 0.5, reward_below = 1.5, play_random = True)"
   ]
  },
  {
   "cell_type": "code",
   "execution_count": null,
   "metadata": {},
   "outputs": [
    {
     "data": {
      "application/vnd.plotly.v1+json": {
       "config": {
        "plotlyServerURL": "https://plot.ly"
       },
       "data": [
        {
         "hovertemplate": "<b>%{hovertext}</b><br><br>main=True<br>type=last<br>step=0<br>name=0<br>x=%{x}<br>y=%{y}<extra></extra>",
         "hovertext": [
          "Last node of 0 <br> reward: 1.0 <br> action: [5, 0, 5, 0, 4, 2, 0, 0, 3, 0] <br> in system: 1.0"
         ],
         "legendgroup": "True, last",
         "line": {
          "color": "#636efa",
          "dash": "solid"
         },
         "marker": {
          "symbol": "circle"
         },
         "mode": "lines+markers",
         "name": "True, last",
         "orientation": "v",
         "showlegend": true,
         "type": "scatter",
         "x": [
          1
         ],
         "xaxis": "x",
         "y": [
          0.86
         ],
         "yaxis": "y"
        },
        {
         "hovertemplate": "<b>%{hovertext}</b><br><br>main=True<br>type=next<br>step=0<br>name=0<br>x=%{x}<br>y=%{y}<extra></extra>",
         "hovertext": [
          "Next node of 0 <br> reward: 1.0 <br> action: [5, 0, 5, 0, 4, 2, 0, 0, 3, 0] <br> in system: 1.0"
         ],
         "legendgroup": "True, next",
         "line": {
          "color": "#636efa",
          "dash": "solid"
         },
         "marker": {
          "symbol": "diamond"
         },
         "mode": "lines+markers",
         "name": "True, next",
         "orientation": "v",
         "showlegend": true,
         "type": "scatter",
         "x": [
          1
         ],
         "xaxis": "x",
         "y": [
          0.86
         ],
         "yaxis": "y"
        },
        {
         "hovertemplate": "<b>%{hovertext}</b><br><br>main=False<br>type=last<br>step=0<br>name=1<br>x=%{x}<br>y=%{y}<extra></extra>",
         "hovertext": [
          "Last node of 1 <br> reward: 1.0 <br> action: [5, 0, 5, 0, 4, 2, 0, 0, 3, 0] <br> in system: 1.0"
         ],
         "legendgroup": "False, last",
         "line": {
          "color": "#EF553B",
          "dash": "solid"
         },
         "marker": {
          "symbol": "circle"
         },
         "mode": "lines+markers",
         "name": "False, last",
         "orientation": "v",
         "showlegend": true,
         "type": "scatter",
         "x": [
          0.4772727272727273
         ],
         "xaxis": "x",
         "y": [
          0.86
         ],
         "yaxis": "y"
        },
        {
         "hovertemplate": "<b>%{hovertext}</b><br><br>main=False<br>type=last<br>step=0<br>name=2<br>x=%{x}<br>y=%{y}<extra></extra>",
         "hovertext": [
          "Last node of 2 <br> reward: 1.0 <br> action: [5, 0, 5, 0, 4, 2, 0, 0, 3, 0] <br> in system: 0.0"
         ],
         "legendgroup": "False, last",
         "line": {
          "color": "#EF553B",
          "dash": "solid"
         },
         "marker": {
          "symbol": "circle"
         },
         "mode": "lines+markers",
         "name": "False, last",
         "orientation": "v",
         "showlegend": false,
         "type": "scatter",
         "x": [
          0
         ],
         "xaxis": "x",
         "y": [
          0
         ],
         "yaxis": "y"
        },
        {
         "hovertemplate": "<b>%{hovertext}</b><br><br>main=False<br>type=last<br>step=0<br>name=3<br>x=%{x}<br>y=%{y}<extra></extra>",
         "hovertext": [
          "Last node of 3 <br> reward: 1.0 <br> action: [5, 0, 5, 0, 4, 2, 0, 0, 3, 0] <br> in system: 0.0"
         ],
         "legendgroup": "False, last",
         "line": {
          "color": "#EF553B",
          "dash": "solid"
         },
         "marker": {
          "symbol": "circle"
         },
         "mode": "lines+markers",
         "name": "False, last",
         "orientation": "v",
         "showlegend": false,
         "type": "scatter",
         "x": [
          0
         ],
         "xaxis": "x",
         "y": [
          0
         ],
         "yaxis": "y"
        },
        {
         "hovertemplate": "<b>%{hovertext}</b><br><br>main=False<br>type=last<br>step=0<br>name=4<br>x=%{x}<br>y=%{y}<extra></extra>",
         "hovertext": [
          "Last node of 4 <br> reward: 1.0 <br> action: [5, 0, 5, 0, 4, 2, 0, 0, 3, 0] <br> in system: 0.0"
         ],
         "legendgroup": "False, last",
         "line": {
          "color": "#EF553B",
          "dash": "solid"
         },
         "marker": {
          "symbol": "circle"
         },
         "mode": "lines+markers",
         "name": "False, last",
         "orientation": "v",
         "showlegend": false,
         "type": "scatter",
         "x": [
          0
         ],
         "xaxis": "x",
         "y": [
          0
         ],
         "yaxis": "y"
        },
        {
         "hovertemplate": "<b>%{hovertext}</b><br><br>main=False<br>type=last<br>step=0<br>name=5<br>x=%{x}<br>y=%{y}<extra></extra>",
         "hovertext": [
          "Last node of 5 <br> reward: 1.0 <br> action: [5, 0, 5, 0, 4, 2, 0, 0, 3, 0] <br> in system: 0.0"
         ],
         "legendgroup": "False, last",
         "line": {
          "color": "#EF553B",
          "dash": "solid"
         },
         "marker": {
          "symbol": "circle"
         },
         "mode": "lines+markers",
         "name": "False, last",
         "orientation": "v",
         "showlegend": false,
         "type": "scatter",
         "x": [
          0
         ],
         "xaxis": "x",
         "y": [
          0
         ],
         "yaxis": "y"
        },
        {
         "hovertemplate": "<b>%{hovertext}</b><br><br>main=False<br>type=last<br>step=0<br>name=6<br>x=%{x}<br>y=%{y}<extra></extra>",
         "hovertext": [
          "Last node of 6 <br> reward: 1.0 <br> action: [5, 0, 5, 0, 4, 2, 0, 0, 3, 0] <br> in system: 0.0"
         ],
         "legendgroup": "False, last",
         "line": {
          "color": "#EF553B",
          "dash": "solid"
         },
         "marker": {
          "symbol": "circle"
         },
         "mode": "lines+markers",
         "name": "False, last",
         "orientation": "v",
         "showlegend": false,
         "type": "scatter",
         "x": [
          1
         ],
         "xaxis": "x",
         "y": [
          0.86
         ],
         "yaxis": "y"
        },
        {
         "hovertemplate": "<b>%{hovertext}</b><br><br>main=False<br>type=last<br>step=0<br>name=7<br>x=%{x}<br>y=%{y}<extra></extra>",
         "hovertext": [
          "Last node of 7 <br> reward: 1.0 <br> action: [5, 0, 5, 0, 4, 2, 0, 0, 3, 0] <br> in system: 1.0"
         ],
         "legendgroup": "False, last",
         "line": {
          "color": "#EF553B",
          "dash": "solid"
         },
         "marker": {
          "symbol": "circle"
         },
         "mode": "lines+markers",
         "name": "False, last",
         "orientation": "v",
         "showlegend": false,
         "type": "scatter",
         "x": [
          0.9431818181818182
         ],
         "xaxis": "x",
         "y": [
          0.86
         ],
         "yaxis": "y"
        },
        {
         "hovertemplate": "<b>%{hovertext}</b><br><br>main=False<br>type=last<br>step=0<br>name=8<br>x=%{x}<br>y=%{y}<extra></extra>",
         "hovertext": [
          "Last node of 8 <br> reward: 1.0 <br> action: [5, 0, 5, 0, 4, 2, 0, 0, 3, 0] <br> in system: 1.0"
         ],
         "legendgroup": "False, last",
         "line": {
          "color": "#EF553B",
          "dash": "solid"
         },
         "marker": {
          "symbol": "circle"
         },
         "mode": "lines+markers",
         "name": "False, last",
         "orientation": "v",
         "showlegend": false,
         "type": "scatter",
         "x": [
          0.7909090909090909
         ],
         "xaxis": "x",
         "y": [
          0.62
         ],
         "yaxis": "y"
        },
        {
         "hovertemplate": "<b>%{hovertext}</b><br><br>main=False<br>type=last<br>step=0<br>name=9<br>x=%{x}<br>y=%{y}<extra></extra>",
         "hovertext": [
          "Last node of 9 <br> reward: 1.0 <br> action: [5, 0, 5, 0, 4, 2, 0, 0, 3, 0] <br> in system: 0.0"
         ],
         "legendgroup": "False, last",
         "line": {
          "color": "#EF553B",
          "dash": "solid"
         },
         "marker": {
          "symbol": "circle"
         },
         "mode": "lines+markers",
         "name": "False, last",
         "orientation": "v",
         "showlegend": false,
         "type": "scatter",
         "x": [
          1
         ],
         "xaxis": "x",
         "y": [
          0.76
         ],
         "yaxis": "y"
        },
        {
         "hovertemplate": "<b>%{hovertext}</b><br><br>main=False<br>type=next<br>step=0<br>name=1<br>x=%{x}<br>y=%{y}<extra></extra>",
         "hovertext": [
          "Next node of 1 <br> reward: 1.0 <br> action: [5, 0, 5, 0, 4, 2, 0, 0, 3, 0] <br> in system: 1.0"
         ],
         "legendgroup": "False, next",
         "line": {
          "color": "#EF553B",
          "dash": "solid"
         },
         "marker": {
          "symbol": "diamond"
         },
         "mode": "lines+markers",
         "name": "False, next",
         "orientation": "v",
         "showlegend": true,
         "type": "scatter",
         "x": [
          0.42045454545454547
         ],
         "xaxis": "x",
         "y": [
          0.86
         ],
         "yaxis": "y"
        },
        {
         "hovertemplate": "<b>%{hovertext}</b><br><br>main=False<br>type=next<br>step=0<br>name=2<br>x=%{x}<br>y=%{y}<extra></extra>",
         "hovertext": [
          "Next node of 2 <br> reward: 1.0 <br> action: [5, 0, 5, 0, 4, 2, 0, 0, 3, 0] <br> in system: 0.0"
         ],
         "legendgroup": "False, next",
         "line": {
          "color": "#EF553B",
          "dash": "solid"
         },
         "marker": {
          "symbol": "diamond"
         },
         "mode": "lines+markers",
         "name": "False, next",
         "orientation": "v",
         "showlegend": false,
         "type": "scatter",
         "x": [
          0
         ],
         "xaxis": "x",
         "y": [
          0
         ],
         "yaxis": "y"
        },
        {
         "hovertemplate": "<b>%{hovertext}</b><br><br>main=False<br>type=next<br>step=0<br>name=3<br>x=%{x}<br>y=%{y}<extra></extra>",
         "hovertext": [
          "Next node of 3 <br> reward: 1.0 <br> action: [5, 0, 5, 0, 4, 2, 0, 0, 3, 0] <br> in system: 0.0"
         ],
         "legendgroup": "False, next",
         "line": {
          "color": "#EF553B",
          "dash": "solid"
         },
         "marker": {
          "symbol": "diamond"
         },
         "mode": "lines+markers",
         "name": "False, next",
         "orientation": "v",
         "showlegend": false,
         "type": "scatter",
         "x": [
          0
         ],
         "xaxis": "x",
         "y": [
          0
         ],
         "yaxis": "y"
        },
        {
         "hovertemplate": "<b>%{hovertext}</b><br><br>main=False<br>type=next<br>step=0<br>name=4<br>x=%{x}<br>y=%{y}<extra></extra>",
         "hovertext": [
          "Next node of 4 <br> reward: 1.0 <br> action: [5, 0, 5, 0, 4, 2, 0, 0, 3, 0] <br> in system: 0.0"
         ],
         "legendgroup": "False, next",
         "line": {
          "color": "#EF553B",
          "dash": "solid"
         },
         "marker": {
          "symbol": "diamond"
         },
         "mode": "lines+markers",
         "name": "False, next",
         "orientation": "v",
         "showlegend": false,
         "type": "scatter",
         "x": [
          0
         ],
         "xaxis": "x",
         "y": [
          0
         ],
         "yaxis": "y"
        },
        {
         "hovertemplate": "<b>%{hovertext}</b><br><br>main=False<br>type=next<br>step=0<br>name=5<br>x=%{x}<br>y=%{y}<extra></extra>",
         "hovertext": [
          "Next node of 5 <br> reward: 1.0 <br> action: [5, 0, 5, 0, 4, 2, 0, 0, 3, 0] <br> in system: 0.0"
         ],
         "legendgroup": "False, next",
         "line": {
          "color": "#EF553B",
          "dash": "solid"
         },
         "marker": {
          "symbol": "diamond"
         },
         "mode": "lines+markers",
         "name": "False, next",
         "orientation": "v",
         "showlegend": false,
         "type": "scatter",
         "x": [
          0
         ],
         "xaxis": "x",
         "y": [
          0
         ],
         "yaxis": "y"
        },
        {
         "hovertemplate": "<b>%{hovertext}</b><br><br>main=False<br>type=next<br>step=0<br>name=6<br>x=%{x}<br>y=%{y}<extra></extra>",
         "hovertext": [
          "Next node of 6 <br> reward: 1.0 <br> action: [5, 0, 5, 0, 4, 2, 0, 0, 3, 0] <br> in system: 0.0"
         ],
         "legendgroup": "False, next",
         "line": {
          "color": "#EF553B",
          "dash": "solid"
         },
         "marker": {
          "symbol": "diamond"
         },
         "mode": "lines+markers",
         "name": "False, next",
         "orientation": "v",
         "showlegend": false,
         "type": "scatter",
         "x": [
          1
         ],
         "xaxis": "x",
         "y": [
          0.76
         ],
         "yaxis": "y"
        },
        {
         "hovertemplate": "<b>%{hovertext}</b><br><br>main=False<br>type=next<br>step=0<br>name=7<br>x=%{x}<br>y=%{y}<extra></extra>",
         "hovertext": [
          "Next node of 7 <br> reward: 1.0 <br> action: [5, 0, 5, 0, 4, 2, 0, 0, 3, 0] <br> in system: 1.0"
         ],
         "legendgroup": "False, next",
         "line": {
          "color": "#EF553B",
          "dash": "solid"
         },
         "marker": {
          "symbol": "diamond"
         },
         "mode": "lines+markers",
         "name": "False, next",
         "orientation": "v",
         "showlegend": false,
         "type": "scatter",
         "x": [
          0.9431818181818182
         ],
         "xaxis": "x",
         "y": [
          0.86
         ],
         "yaxis": "y"
        },
        {
         "hovertemplate": "<b>%{hovertext}</b><br><br>main=False<br>type=next<br>step=0<br>name=8<br>x=%{x}<br>y=%{y}<extra></extra>",
         "hovertext": [
          "Next node of 8 <br> reward: 1.0 <br> action: [5, 0, 5, 0, 4, 2, 0, 0, 3, 0] <br> in system: 1.0"
         ],
         "legendgroup": "False, next",
         "line": {
          "color": "#EF553B",
          "dash": "solid"
         },
         "marker": {
          "symbol": "diamond"
         },
         "mode": "lines+markers",
         "name": "False, next",
         "orientation": "v",
         "showlegend": false,
         "type": "scatter",
         "x": [
          0.8181818181818182
         ],
         "xaxis": "x",
         "y": [
          0.76
         ],
         "yaxis": "y"
        },
        {
         "hovertemplate": "<b>%{hovertext}</b><br><br>main=False<br>type=next<br>step=0<br>name=9<br>x=%{x}<br>y=%{y}<extra></extra>",
         "hovertext": [
          "Next node of 9 <br> reward: 1.0 <br> action: [5, 0, 5, 0, 4, 2, 0, 0, 3, 0] <br> in system: 0.0"
         ],
         "legendgroup": "False, next",
         "line": {
          "color": "#EF553B",
          "dash": "solid"
         },
         "marker": {
          "symbol": "diamond"
         },
         "mode": "lines+markers",
         "name": "False, next",
         "orientation": "v",
         "showlegend": false,
         "type": "scatter",
         "x": [
          1
         ],
         "xaxis": "x",
         "y": [
          0.86
         ],
         "yaxis": "y"
        }
       ],
       "frames": [
        {
         "data": [
          {
           "hovertemplate": "<b>%{hovertext}</b><br><br>main=True<br>type=last<br>step=0<br>name=0<br>x=%{x}<br>y=%{y}<extra></extra>",
           "hovertext": [
            "Last node of 0 <br> reward: 1.0 <br> action: [5, 0, 5, 0, 4, 2, 0, 0, 3, 0] <br> in system: 1.0"
           ],
           "legendgroup": "True, last",
           "line": {
            "color": "#636efa",
            "dash": "solid"
           },
           "marker": {
            "symbol": "circle"
           },
           "mode": "lines+markers",
           "name": "True, last",
           "orientation": "v",
           "showlegend": true,
           "type": "scatter",
           "x": [
            1
           ],
           "xaxis": "x",
           "y": [
            0.86
           ],
           "yaxis": "y"
          },
          {
           "hovertemplate": "<b>%{hovertext}</b><br><br>main=True<br>type=next<br>step=0<br>name=0<br>x=%{x}<br>y=%{y}<extra></extra>",
           "hovertext": [
            "Next node of 0 <br> reward: 1.0 <br> action: [5, 0, 5, 0, 4, 2, 0, 0, 3, 0] <br> in system: 1.0"
           ],
           "legendgroup": "True, next",
           "line": {
            "color": "#636efa",
            "dash": "solid"
           },
           "marker": {
            "symbol": "diamond"
           },
           "mode": "lines+markers",
           "name": "True, next",
           "orientation": "v",
           "showlegend": true,
           "type": "scatter",
           "x": [
            1
           ],
           "xaxis": "x",
           "y": [
            0.86
           ],
           "yaxis": "y"
          },
          {
           "hovertemplate": "<b>%{hovertext}</b><br><br>main=False<br>type=last<br>step=0<br>name=1<br>x=%{x}<br>y=%{y}<extra></extra>",
           "hovertext": [
            "Last node of 1 <br> reward: 1.0 <br> action: [5, 0, 5, 0, 4, 2, 0, 0, 3, 0] <br> in system: 1.0"
           ],
           "legendgroup": "False, last",
           "line": {
            "color": "#EF553B",
            "dash": "solid"
           },
           "marker": {
            "symbol": "circle"
           },
           "mode": "lines+markers",
           "name": "False, last",
           "orientation": "v",
           "showlegend": true,
           "type": "scatter",
           "x": [
            0.4772727272727273
           ],
           "xaxis": "x",
           "y": [
            0.86
           ],
           "yaxis": "y"
          },
          {
           "hovertemplate": "<b>%{hovertext}</b><br><br>main=False<br>type=last<br>step=0<br>name=2<br>x=%{x}<br>y=%{y}<extra></extra>",
           "hovertext": [
            "Last node of 2 <br> reward: 1.0 <br> action: [5, 0, 5, 0, 4, 2, 0, 0, 3, 0] <br> in system: 0.0"
           ],
           "legendgroup": "False, last",
           "line": {
            "color": "#EF553B",
            "dash": "solid"
           },
           "marker": {
            "symbol": "circle"
           },
           "mode": "lines+markers",
           "name": "False, last",
           "orientation": "v",
           "showlegend": false,
           "type": "scatter",
           "x": [
            0
           ],
           "xaxis": "x",
           "y": [
            0
           ],
           "yaxis": "y"
          },
          {
           "hovertemplate": "<b>%{hovertext}</b><br><br>main=False<br>type=last<br>step=0<br>name=3<br>x=%{x}<br>y=%{y}<extra></extra>",
           "hovertext": [
            "Last node of 3 <br> reward: 1.0 <br> action: [5, 0, 5, 0, 4, 2, 0, 0, 3, 0] <br> in system: 0.0"
           ],
           "legendgroup": "False, last",
           "line": {
            "color": "#EF553B",
            "dash": "solid"
           },
           "marker": {
            "symbol": "circle"
           },
           "mode": "lines+markers",
           "name": "False, last",
           "orientation": "v",
           "showlegend": false,
           "type": "scatter",
           "x": [
            0
           ],
           "xaxis": "x",
           "y": [
            0
           ],
           "yaxis": "y"
          },
          {
           "hovertemplate": "<b>%{hovertext}</b><br><br>main=False<br>type=last<br>step=0<br>name=4<br>x=%{x}<br>y=%{y}<extra></extra>",
           "hovertext": [
            "Last node of 4 <br> reward: 1.0 <br> action: [5, 0, 5, 0, 4, 2, 0, 0, 3, 0] <br> in system: 0.0"
           ],
           "legendgroup": "False, last",
           "line": {
            "color": "#EF553B",
            "dash": "solid"
           },
           "marker": {
            "symbol": "circle"
           },
           "mode": "lines+markers",
           "name": "False, last",
           "orientation": "v",
           "showlegend": false,
           "type": "scatter",
           "x": [
            0
           ],
           "xaxis": "x",
           "y": [
            0
           ],
           "yaxis": "y"
          },
          {
           "hovertemplate": "<b>%{hovertext}</b><br><br>main=False<br>type=last<br>step=0<br>name=5<br>x=%{x}<br>y=%{y}<extra></extra>",
           "hovertext": [
            "Last node of 5 <br> reward: 1.0 <br> action: [5, 0, 5, 0, 4, 2, 0, 0, 3, 0] <br> in system: 0.0"
           ],
           "legendgroup": "False, last",
           "line": {
            "color": "#EF553B",
            "dash": "solid"
           },
           "marker": {
            "symbol": "circle"
           },
           "mode": "lines+markers",
           "name": "False, last",
           "orientation": "v",
           "showlegend": false,
           "type": "scatter",
           "x": [
            0
           ],
           "xaxis": "x",
           "y": [
            0
           ],
           "yaxis": "y"
          },
          {
           "hovertemplate": "<b>%{hovertext}</b><br><br>main=False<br>type=last<br>step=0<br>name=6<br>x=%{x}<br>y=%{y}<extra></extra>",
           "hovertext": [
            "Last node of 6 <br> reward: 1.0 <br> action: [5, 0, 5, 0, 4, 2, 0, 0, 3, 0] <br> in system: 0.0"
           ],
           "legendgroup": "False, last",
           "line": {
            "color": "#EF553B",
            "dash": "solid"
           },
           "marker": {
            "symbol": "circle"
           },
           "mode": "lines+markers",
           "name": "False, last",
           "orientation": "v",
           "showlegend": false,
           "type": "scatter",
           "x": [
            1
           ],
           "xaxis": "x",
           "y": [
            0.86
           ],
           "yaxis": "y"
          },
          {
           "hovertemplate": "<b>%{hovertext}</b><br><br>main=False<br>type=last<br>step=0<br>name=7<br>x=%{x}<br>y=%{y}<extra></extra>",
           "hovertext": [
            "Last node of 7 <br> reward: 1.0 <br> action: [5, 0, 5, 0, 4, 2, 0, 0, 3, 0] <br> in system: 1.0"
           ],
           "legendgroup": "False, last",
           "line": {
            "color": "#EF553B",
            "dash": "solid"
           },
           "marker": {
            "symbol": "circle"
           },
           "mode": "lines+markers",
           "name": "False, last",
           "orientation": "v",
           "showlegend": false,
           "type": "scatter",
           "x": [
            0.9431818181818182
           ],
           "xaxis": "x",
           "y": [
            0.86
           ],
           "yaxis": "y"
          },
          {
           "hovertemplate": "<b>%{hovertext}</b><br><br>main=False<br>type=last<br>step=0<br>name=8<br>x=%{x}<br>y=%{y}<extra></extra>",
           "hovertext": [
            "Last node of 8 <br> reward: 1.0 <br> action: [5, 0, 5, 0, 4, 2, 0, 0, 3, 0] <br> in system: 1.0"
           ],
           "legendgroup": "False, last",
           "line": {
            "color": "#EF553B",
            "dash": "solid"
           },
           "marker": {
            "symbol": "circle"
           },
           "mode": "lines+markers",
           "name": "False, last",
           "orientation": "v",
           "showlegend": false,
           "type": "scatter",
           "x": [
            0.7909090909090909
           ],
           "xaxis": "x",
           "y": [
            0.62
           ],
           "yaxis": "y"
          },
          {
           "hovertemplate": "<b>%{hovertext}</b><br><br>main=False<br>type=last<br>step=0<br>name=9<br>x=%{x}<br>y=%{y}<extra></extra>",
           "hovertext": [
            "Last node of 9 <br> reward: 1.0 <br> action: [5, 0, 5, 0, 4, 2, 0, 0, 3, 0] <br> in system: 0.0"
           ],
           "legendgroup": "False, last",
           "line": {
            "color": "#EF553B",
            "dash": "solid"
           },
           "marker": {
            "symbol": "circle"
           },
           "mode": "lines+markers",
           "name": "False, last",
           "orientation": "v",
           "showlegend": false,
           "type": "scatter",
           "x": [
            1
           ],
           "xaxis": "x",
           "y": [
            0.76
           ],
           "yaxis": "y"
          },
          {
           "hovertemplate": "<b>%{hovertext}</b><br><br>main=False<br>type=next<br>step=0<br>name=1<br>x=%{x}<br>y=%{y}<extra></extra>",
           "hovertext": [
            "Next node of 1 <br> reward: 1.0 <br> action: [5, 0, 5, 0, 4, 2, 0, 0, 3, 0] <br> in system: 1.0"
           ],
           "legendgroup": "False, next",
           "line": {
            "color": "#EF553B",
            "dash": "solid"
           },
           "marker": {
            "symbol": "diamond"
           },
           "mode": "lines+markers",
           "name": "False, next",
           "orientation": "v",
           "showlegend": true,
           "type": "scatter",
           "x": [
            0.42045454545454547
           ],
           "xaxis": "x",
           "y": [
            0.86
           ],
           "yaxis": "y"
          },
          {
           "hovertemplate": "<b>%{hovertext}</b><br><br>main=False<br>type=next<br>step=0<br>name=2<br>x=%{x}<br>y=%{y}<extra></extra>",
           "hovertext": [
            "Next node of 2 <br> reward: 1.0 <br> action: [5, 0, 5, 0, 4, 2, 0, 0, 3, 0] <br> in system: 0.0"
           ],
           "legendgroup": "False, next",
           "line": {
            "color": "#EF553B",
            "dash": "solid"
           },
           "marker": {
            "symbol": "diamond"
           },
           "mode": "lines+markers",
           "name": "False, next",
           "orientation": "v",
           "showlegend": false,
           "type": "scatter",
           "x": [
            0
           ],
           "xaxis": "x",
           "y": [
            0
           ],
           "yaxis": "y"
          },
          {
           "hovertemplate": "<b>%{hovertext}</b><br><br>main=False<br>type=next<br>step=0<br>name=3<br>x=%{x}<br>y=%{y}<extra></extra>",
           "hovertext": [
            "Next node of 3 <br> reward: 1.0 <br> action: [5, 0, 5, 0, 4, 2, 0, 0, 3, 0] <br> in system: 0.0"
           ],
           "legendgroup": "False, next",
           "line": {
            "color": "#EF553B",
            "dash": "solid"
           },
           "marker": {
            "symbol": "diamond"
           },
           "mode": "lines+markers",
           "name": "False, next",
           "orientation": "v",
           "showlegend": false,
           "type": "scatter",
           "x": [
            0
           ],
           "xaxis": "x",
           "y": [
            0
           ],
           "yaxis": "y"
          },
          {
           "hovertemplate": "<b>%{hovertext}</b><br><br>main=False<br>type=next<br>step=0<br>name=4<br>x=%{x}<br>y=%{y}<extra></extra>",
           "hovertext": [
            "Next node of 4 <br> reward: 1.0 <br> action: [5, 0, 5, 0, 4, 2, 0, 0, 3, 0] <br> in system: 0.0"
           ],
           "legendgroup": "False, next",
           "line": {
            "color": "#EF553B",
            "dash": "solid"
           },
           "marker": {
            "symbol": "diamond"
           },
           "mode": "lines+markers",
           "name": "False, next",
           "orientation": "v",
           "showlegend": false,
           "type": "scatter",
           "x": [
            0
           ],
           "xaxis": "x",
           "y": [
            0
           ],
           "yaxis": "y"
          },
          {
           "hovertemplate": "<b>%{hovertext}</b><br><br>main=False<br>type=next<br>step=0<br>name=5<br>x=%{x}<br>y=%{y}<extra></extra>",
           "hovertext": [
            "Next node of 5 <br> reward: 1.0 <br> action: [5, 0, 5, 0, 4, 2, 0, 0, 3, 0] <br> in system: 0.0"
           ],
           "legendgroup": "False, next",
           "line": {
            "color": "#EF553B",
            "dash": "solid"
           },
           "marker": {
            "symbol": "diamond"
           },
           "mode": "lines+markers",
           "name": "False, next",
           "orientation": "v",
           "showlegend": false,
           "type": "scatter",
           "x": [
            0
           ],
           "xaxis": "x",
           "y": [
            0
           ],
           "yaxis": "y"
          },
          {
           "hovertemplate": "<b>%{hovertext}</b><br><br>main=False<br>type=next<br>step=0<br>name=6<br>x=%{x}<br>y=%{y}<extra></extra>",
           "hovertext": [
            "Next node of 6 <br> reward: 1.0 <br> action: [5, 0, 5, 0, 4, 2, 0, 0, 3, 0] <br> in system: 0.0"
           ],
           "legendgroup": "False, next",
           "line": {
            "color": "#EF553B",
            "dash": "solid"
           },
           "marker": {
            "symbol": "diamond"
           },
           "mode": "lines+markers",
           "name": "False, next",
           "orientation": "v",
           "showlegend": false,
           "type": "scatter",
           "x": [
            1
           ],
           "xaxis": "x",
           "y": [
            0.76
           ],
           "yaxis": "y"
          },
          {
           "hovertemplate": "<b>%{hovertext}</b><br><br>main=False<br>type=next<br>step=0<br>name=7<br>x=%{x}<br>y=%{y}<extra></extra>",
           "hovertext": [
            "Next node of 7 <br> reward: 1.0 <br> action: [5, 0, 5, 0, 4, 2, 0, 0, 3, 0] <br> in system: 1.0"
           ],
           "legendgroup": "False, next",
           "line": {
            "color": "#EF553B",
            "dash": "solid"
           },
           "marker": {
            "symbol": "diamond"
           },
           "mode": "lines+markers",
           "name": "False, next",
           "orientation": "v",
           "showlegend": false,
           "type": "scatter",
           "x": [
            0.9431818181818182
           ],
           "xaxis": "x",
           "y": [
            0.86
           ],
           "yaxis": "y"
          },
          {
           "hovertemplate": "<b>%{hovertext}</b><br><br>main=False<br>type=next<br>step=0<br>name=8<br>x=%{x}<br>y=%{y}<extra></extra>",
           "hovertext": [
            "Next node of 8 <br> reward: 1.0 <br> action: [5, 0, 5, 0, 4, 2, 0, 0, 3, 0] <br> in system: 1.0"
           ],
           "legendgroup": "False, next",
           "line": {
            "color": "#EF553B",
            "dash": "solid"
           },
           "marker": {
            "symbol": "diamond"
           },
           "mode": "lines+markers",
           "name": "False, next",
           "orientation": "v",
           "showlegend": false,
           "type": "scatter",
           "x": [
            0.8181818181818182
           ],
           "xaxis": "x",
           "y": [
            0.76
           ],
           "yaxis": "y"
          },
          {
           "hovertemplate": "<b>%{hovertext}</b><br><br>main=False<br>type=next<br>step=0<br>name=9<br>x=%{x}<br>y=%{y}<extra></extra>",
           "hovertext": [
            "Next node of 9 <br> reward: 1.0 <br> action: [5, 0, 5, 0, 4, 2, 0, 0, 3, 0] <br> in system: 0.0"
           ],
           "legendgroup": "False, next",
           "line": {
            "color": "#EF553B",
            "dash": "solid"
           },
           "marker": {
            "symbol": "diamond"
           },
           "mode": "lines+markers",
           "name": "False, next",
           "orientation": "v",
           "showlegend": false,
           "type": "scatter",
           "x": [
            1
           ],
           "xaxis": "x",
           "y": [
            0.86
           ],
           "yaxis": "y"
          }
         ],
         "name": "0"
        },
        {
         "data": [
          {
           "hovertemplate": "<b>%{hovertext}</b><br><br>main=True<br>type=last<br>step=1<br>name=0<br>x=%{x}<br>y=%{y}<extra></extra>",
           "hovertext": [
            "Last node of 0 <br> reward: 1.0 <br> action: [3, 1, 0, 4, 5, 1, 3, 1, 4, 2] <br> in system: 1.0"
           ],
           "legendgroup": "True, last",
           "line": {
            "color": "#636efa",
            "dash": "solid"
           },
           "marker": {
            "symbol": "circle"
           },
           "mode": "lines+markers",
           "name": "True, last",
           "orientation": "v",
           "showlegend": true,
           "type": "scatter",
           "x": [
            1
           ],
           "xaxis": "x",
           "y": [
            0.86
           ],
           "yaxis": "y"
          },
          {
           "hovertemplate": "<b>%{hovertext}</b><br><br>main=True<br>type=next<br>step=1<br>name=0<br>x=%{x}<br>y=%{y}<extra></extra>",
           "hovertext": [
            "Next node of 0 <br> reward: 1.0 <br> action: [3, 1, 0, 4, 5, 1, 3, 1, 4, 2] <br> in system: 1.0"
           ],
           "legendgroup": "True, next",
           "line": {
            "color": "#636efa",
            "dash": "solid"
           },
           "marker": {
            "symbol": "diamond"
           },
           "mode": "lines+markers",
           "name": "True, next",
           "orientation": "v",
           "showlegend": true,
           "type": "scatter",
           "x": [
            1
           ],
           "xaxis": "x",
           "y": [
            0.86
           ],
           "yaxis": "y"
          },
          {
           "hovertemplate": "<b>%{hovertext}</b><br><br>main=False<br>type=last<br>step=1<br>name=1<br>x=%{x}<br>y=%{y}<extra></extra>",
           "hovertext": [
            "Last node of 1 <br> reward: 1.0 <br> action: [3, 1, 0, 4, 5, 1, 3, 1, 4, 2] <br> in system: 0.0"
           ],
           "legendgroup": "False, last",
           "line": {
            "color": "#EF553B",
            "dash": "solid"
           },
           "marker": {
            "symbol": "circle"
           },
           "mode": "lines+markers",
           "name": "False, last",
           "orientation": "v",
           "showlegend": true,
           "type": "scatter",
           "x": [
            0
           ],
           "xaxis": "x",
           "y": [
            0
           ],
           "yaxis": "y"
          },
          {
           "hovertemplate": "<b>%{hovertext}</b><br><br>main=False<br>type=last<br>step=1<br>name=2<br>x=%{x}<br>y=%{y}<extra></extra>",
           "hovertext": [
            "Last node of 2 <br> reward: 1.0 <br> action: [3, 1, 0, 4, 5, 1, 3, 1, 4, 2] <br> in system: 0.0"
           ],
           "legendgroup": "False, last",
           "line": {
            "color": "#EF553B",
            "dash": "solid"
           },
           "marker": {
            "symbol": "circle"
           },
           "mode": "lines+markers",
           "name": "False, last",
           "orientation": "v",
           "showlegend": false,
           "type": "scatter",
           "x": [
            0
           ],
           "xaxis": "x",
           "y": [
            0
           ],
           "yaxis": "y"
          },
          {
           "hovertemplate": "<b>%{hovertext}</b><br><br>main=False<br>type=last<br>step=1<br>name=3<br>x=%{x}<br>y=%{y}<extra></extra>",
           "hovertext": [
            "Last node of 3 <br> reward: 1.0 <br> action: [3, 1, 0, 4, 5, 1, 3, 1, 4, 2] <br> in system: 0.0"
           ],
           "legendgroup": "False, last",
           "line": {
            "color": "#EF553B",
            "dash": "solid"
           },
           "marker": {
            "symbol": "circle"
           },
           "mode": "lines+markers",
           "name": "False, last",
           "orientation": "v",
           "showlegend": false,
           "type": "scatter",
           "x": [
            1
           ],
           "xaxis": "x",
           "y": [
            0.76
           ],
           "yaxis": "y"
          },
          {
           "hovertemplate": "<b>%{hovertext}</b><br><br>main=False<br>type=last<br>step=1<br>name=4<br>x=%{x}<br>y=%{y}<extra></extra>",
           "hovertext": [
            "Last node of 4 <br> reward: 1.0 <br> action: [3, 1, 0, 4, 5, 1, 3, 1, 4, 2] <br> in system: 1.0"
           ],
           "legendgroup": "False, last",
           "line": {
            "color": "#EF553B",
            "dash": "solid"
           },
           "marker": {
            "symbol": "circle"
           },
           "mode": "lines+markers",
           "name": "False, last",
           "orientation": "v",
           "showlegend": false,
           "type": "scatter",
           "x": [
            0.9431818181818182
           ],
           "xaxis": "x",
           "y": [
            0.86
           ],
           "yaxis": "y"
          },
          {
           "hovertemplate": "<b>%{hovertext}</b><br><br>main=False<br>type=last<br>step=1<br>name=5<br>x=%{x}<br>y=%{y}<extra></extra>",
           "hovertext": [
            "Last node of 5 <br> reward: 1.0 <br> action: [3, 1, 0, 4, 5, 1, 3, 1, 4, 2] <br> in system: 1.0"
           ],
           "legendgroup": "False, last",
           "line": {
            "color": "#EF553B",
            "dash": "solid"
           },
           "marker": {
            "symbol": "circle"
           },
           "mode": "lines+markers",
           "name": "False, last",
           "orientation": "v",
           "showlegend": false,
           "type": "scatter",
           "x": [
            0.7909090909090909
           ],
           "xaxis": "x",
           "y": [
            0.62
           ],
           "yaxis": "y"
          },
          {
           "hovertemplate": "<b>%{hovertext}</b><br><br>main=False<br>type=last<br>step=1<br>name=6<br>x=%{x}<br>y=%{y}<extra></extra>",
           "hovertext": [
            "Last node of 6 <br> reward: 1.0 <br> action: [3, 1, 0, 4, 5, 1, 3, 1, 4, 2] <br> in system: 0.0"
           ],
           "legendgroup": "False, last",
           "line": {
            "color": "#EF553B",
            "dash": "solid"
           },
           "marker": {
            "symbol": "circle"
           },
           "mode": "lines+markers",
           "name": "False, last",
           "orientation": "v",
           "showlegend": false,
           "type": "scatter",
           "x": [
            0
           ],
           "xaxis": "x",
           "y": [
            0
           ],
           "yaxis": "y"
          },
          {
           "hovertemplate": "<b>%{hovertext}</b><br><br>main=False<br>type=last<br>step=1<br>name=7<br>x=%{x}<br>y=%{y}<extra></extra>",
           "hovertext": [
            "Last node of 7 <br> reward: 1.0 <br> action: [3, 1, 0, 4, 5, 1, 3, 1, 4, 2] <br> in system: 1.0"
           ],
           "legendgroup": "False, last",
           "line": {
            "color": "#EF553B",
            "dash": "solid"
           },
           "marker": {
            "symbol": "circle"
           },
           "mode": "lines+markers",
           "name": "False, last",
           "orientation": "v",
           "showlegend": false,
           "type": "scatter",
           "x": [
            0.42045454545454547
           ],
           "xaxis": "x",
           "y": [
            0.86
           ],
           "yaxis": "y"
          },
          {
           "hovertemplate": "<b>%{hovertext}</b><br><br>main=False<br>type=last<br>step=1<br>name=8<br>x=%{x}<br>y=%{y}<extra></extra>",
           "hovertext": [
            "Last node of 8 <br> reward: 1.0 <br> action: [3, 1, 0, 4, 5, 1, 3, 1, 4, 2] <br> in system: 0.0"
           ],
           "legendgroup": "False, last",
           "line": {
            "color": "#EF553B",
            "dash": "solid"
           },
           "marker": {
            "symbol": "circle"
           },
           "mode": "lines+markers",
           "name": "False, last",
           "orientation": "v",
           "showlegend": false,
           "type": "scatter",
           "x": [
            0
           ],
           "xaxis": "x",
           "y": [
            0
           ],
           "yaxis": "y"
          },
          {
           "hovertemplate": "<b>%{hovertext}</b><br><br>main=False<br>type=last<br>step=1<br>name=9<br>x=%{x}<br>y=%{y}<extra></extra>",
           "hovertext": [
            "Last node of 9 <br> reward: 1.0 <br> action: [3, 1, 0, 4, 5, 1, 3, 1, 4, 2] <br> in system: 0.0"
           ],
           "legendgroup": "False, last",
           "line": {
            "color": "#EF553B",
            "dash": "solid"
           },
           "marker": {
            "symbol": "circle"
           },
           "mode": "lines+markers",
           "name": "False, last",
           "orientation": "v",
           "showlegend": false,
           "type": "scatter",
           "x": [
            1
           ],
           "xaxis": "x",
           "y": [
            0.86
           ],
           "yaxis": "y"
          },
          {
           "hovertemplate": "<b>%{hovertext}</b><br><br>main=False<br>type=next<br>step=1<br>name=1<br>x=%{x}<br>y=%{y}<extra></extra>",
           "hovertext": [
            "Next node of 1 <br> reward: 1.0 <br> action: [3, 1, 0, 4, 5, 1, 3, 1, 4, 2] <br> in system: 0.0"
           ],
           "legendgroup": "False, next",
           "line": {
            "color": "#EF553B",
            "dash": "solid"
           },
           "marker": {
            "symbol": "diamond"
           },
           "mode": "lines+markers",
           "name": "False, next",
           "orientation": "v",
           "showlegend": true,
           "type": "scatter",
           "x": [
            0
           ],
           "xaxis": "x",
           "y": [
            0
           ],
           "yaxis": "y"
          },
          {
           "hovertemplate": "<b>%{hovertext}</b><br><br>main=False<br>type=next<br>step=1<br>name=2<br>x=%{x}<br>y=%{y}<extra></extra>",
           "hovertext": [
            "Next node of 2 <br> reward: 1.0 <br> action: [3, 1, 0, 4, 5, 1, 3, 1, 4, 2] <br> in system: 0.0"
           ],
           "legendgroup": "False, next",
           "line": {
            "color": "#EF553B",
            "dash": "solid"
           },
           "marker": {
            "symbol": "diamond"
           },
           "mode": "lines+markers",
           "name": "False, next",
           "orientation": "v",
           "showlegend": false,
           "type": "scatter",
           "x": [
            0
           ],
           "xaxis": "x",
           "y": [
            0
           ],
           "yaxis": "y"
          },
          {
           "hovertemplate": "<b>%{hovertext}</b><br><br>main=False<br>type=next<br>step=1<br>name=3<br>x=%{x}<br>y=%{y}<extra></extra>",
           "hovertext": [
            "Next node of 3 <br> reward: 1.0 <br> action: [3, 1, 0, 4, 5, 1, 3, 1, 4, 2] <br> in system: 0.0"
           ],
           "legendgroup": "False, next",
           "line": {
            "color": "#EF553B",
            "dash": "solid"
           },
           "marker": {
            "symbol": "diamond"
           },
           "mode": "lines+markers",
           "name": "False, next",
           "orientation": "v",
           "showlegend": false,
           "type": "scatter",
           "x": [
            1
           ],
           "xaxis": "x",
           "y": [
            0.86
           ],
           "yaxis": "y"
          },
          {
           "hovertemplate": "<b>%{hovertext}</b><br><br>main=False<br>type=next<br>step=1<br>name=4<br>x=%{x}<br>y=%{y}<extra></extra>",
           "hovertext": [
            "Next node of 4 <br> reward: 1.0 <br> action: [3, 1, 0, 4, 5, 1, 3, 1, 4, 2] <br> in system: 1.0"
           ],
           "legendgroup": "False, next",
           "line": {
            "color": "#EF553B",
            "dash": "solid"
           },
           "marker": {
            "symbol": "diamond"
           },
           "mode": "lines+markers",
           "name": "False, next",
           "orientation": "v",
           "showlegend": false,
           "type": "scatter",
           "x": [
            1
           ],
           "xaxis": "x",
           "y": [
            0.86
           ],
           "yaxis": "y"
          },
          {
           "hovertemplate": "<b>%{hovertext}</b><br><br>main=False<br>type=next<br>step=1<br>name=5<br>x=%{x}<br>y=%{y}<extra></extra>",
           "hovertext": [
            "Next node of 5 <br> reward: 1.0 <br> action: [3, 1, 0, 4, 5, 1, 3, 1, 4, 2] <br> in system: 1.0"
           ],
           "legendgroup": "False, next",
           "line": {
            "color": "#EF553B",
            "dash": "solid"
           },
           "marker": {
            "symbol": "diamond"
           },
           "mode": "lines+markers",
           "name": "False, next",
           "orientation": "v",
           "showlegend": false,
           "type": "scatter",
           "x": [
            0.8181818181818182
           ],
           "xaxis": "x",
           "y": [
            0.76
           ],
           "yaxis": "y"
          },
          {
           "hovertemplate": "<b>%{hovertext}</b><br><br>main=False<br>type=next<br>step=1<br>name=6<br>x=%{x}<br>y=%{y}<extra></extra>",
           "hovertext": [
            "Next node of 6 <br> reward: 1.0 <br> action: [3, 1, 0, 4, 5, 1, 3, 1, 4, 2] <br> in system: 0.0"
           ],
           "legendgroup": "False, next",
           "line": {
            "color": "#EF553B",
            "dash": "solid"
           },
           "marker": {
            "symbol": "diamond"
           },
           "mode": "lines+markers",
           "name": "False, next",
           "orientation": "v",
           "showlegend": false,
           "type": "scatter",
           "x": [
            0
           ],
           "xaxis": "x",
           "y": [
            0
           ],
           "yaxis": "y"
          },
          {
           "hovertemplate": "<b>%{hovertext}</b><br><br>main=False<br>type=next<br>step=1<br>name=7<br>x=%{x}<br>y=%{y}<extra></extra>",
           "hovertext": [
            "Next node of 7 <br> reward: 1.0 <br> action: [3, 1, 0, 4, 5, 1, 3, 1, 4, 2] <br> in system: 1.0"
           ],
           "legendgroup": "False, next",
           "line": {
            "color": "#EF553B",
            "dash": "solid"
           },
           "marker": {
            "symbol": "diamond"
           },
           "mode": "lines+markers",
           "name": "False, next",
           "orientation": "v",
           "showlegend": false,
           "type": "scatter",
           "x": [
            0.42045454545454547
           ],
           "xaxis": "x",
           "y": [
            0.76
           ],
           "yaxis": "y"
          },
          {
           "hovertemplate": "<b>%{hovertext}</b><br><br>main=False<br>type=next<br>step=1<br>name=8<br>x=%{x}<br>y=%{y}<extra></extra>",
           "hovertext": [
            "Next node of 8 <br> reward: 1.0 <br> action: [3, 1, 0, 4, 5, 1, 3, 1, 4, 2] <br> in system: 0.0"
           ],
           "legendgroup": "False, next",
           "line": {
            "color": "#EF553B",
            "dash": "solid"
           },
           "marker": {
            "symbol": "diamond"
           },
           "mode": "lines+markers",
           "name": "False, next",
           "orientation": "v",
           "showlegend": false,
           "type": "scatter",
           "x": [
            0
           ],
           "xaxis": "x",
           "y": [
            0
           ],
           "yaxis": "y"
          },
          {
           "hovertemplate": "<b>%{hovertext}</b><br><br>main=False<br>type=next<br>step=1<br>name=9<br>x=%{x}<br>y=%{y}<extra></extra>",
           "hovertext": [
            "Next node of 9 <br> reward: 1.0 <br> action: [3, 1, 0, 4, 5, 1, 3, 1, 4, 2] <br> in system: 0.0"
           ],
           "legendgroup": "False, next",
           "line": {
            "color": "#EF553B",
            "dash": "solid"
           },
           "marker": {
            "symbol": "diamond"
           },
           "mode": "lines+markers",
           "name": "False, next",
           "orientation": "v",
           "showlegend": false,
           "type": "scatter",
           "x": [
            1
           ],
           "xaxis": "x",
           "y": [
            0.76
           ],
           "yaxis": "y"
          }
         ],
         "name": "1"
        },
        {
         "data": [
          {
           "hovertemplate": "<b>%{hovertext}</b><br><br>main=True<br>type=last<br>step=2<br>name=0<br>x=%{x}<br>y=%{y}<extra></extra>",
           "hovertext": [
            "Last node of 0 <br> reward: 1.0 <br> action: [5, 3, 0, 5, 2, 3, 3, 0, 2, 0] <br> in system: 1.0"
           ],
           "legendgroup": "True, last",
           "line": {
            "color": "#636efa",
            "dash": "solid"
           },
           "marker": {
            "symbol": "circle"
           },
           "mode": "lines+markers",
           "name": "True, last",
           "orientation": "v",
           "showlegend": true,
           "type": "scatter",
           "x": [
            1
           ],
           "xaxis": "x",
           "y": [
            0.86
           ],
           "yaxis": "y"
          },
          {
           "hovertemplate": "<b>%{hovertext}</b><br><br>main=True<br>type=next<br>step=2<br>name=0<br>x=%{x}<br>y=%{y}<extra></extra>",
           "hovertext": [
            "Next node of 0 <br> reward: 1.0 <br> action: [5, 3, 0, 5, 2, 3, 3, 0, 2, 0] <br> in system: 1.0"
           ],
           "legendgroup": "True, next",
           "line": {
            "color": "#636efa",
            "dash": "solid"
           },
           "marker": {
            "symbol": "diamond"
           },
           "mode": "lines+markers",
           "name": "True, next",
           "orientation": "v",
           "showlegend": true,
           "type": "scatter",
           "x": [
            1
           ],
           "xaxis": "x",
           "y": [
            0.86
           ],
           "yaxis": "y"
          },
          {
           "hovertemplate": "<b>%{hovertext}</b><br><br>main=False<br>type=last<br>step=2<br>name=1<br>x=%{x}<br>y=%{y}<extra></extra>",
           "hovertext": [
            "Last node of 1 <br> reward: 1.0 <br> action: [5, 3, 0, 5, 2, 3, 3, 0, 2, 0] <br> in system: 0.0"
           ],
           "legendgroup": "False, last",
           "line": {
            "color": "#EF553B",
            "dash": "solid"
           },
           "marker": {
            "symbol": "circle"
           },
           "mode": "lines+markers",
           "name": "False, last",
           "orientation": "v",
           "showlegend": true,
           "type": "scatter",
           "x": [
            0
           ],
           "xaxis": "x",
           "y": [
            0
           ],
           "yaxis": "y"
          },
          {
           "hovertemplate": "<b>%{hovertext}</b><br><br>main=False<br>type=last<br>step=2<br>name=2<br>x=%{x}<br>y=%{y}<extra></extra>",
           "hovertext": [
            "Last node of 2 <br> reward: 1.0 <br> action: [5, 3, 0, 5, 2, 3, 3, 0, 2, 0] <br> in system: 0.0"
           ],
           "legendgroup": "False, last",
           "line": {
            "color": "#EF553B",
            "dash": "solid"
           },
           "marker": {
            "symbol": "circle"
           },
           "mode": "lines+markers",
           "name": "False, last",
           "orientation": "v",
           "showlegend": false,
           "type": "scatter",
           "x": [
            0
           ],
           "xaxis": "x",
           "y": [
            0
           ],
           "yaxis": "y"
          },
          {
           "hovertemplate": "<b>%{hovertext}</b><br><br>main=False<br>type=last<br>step=2<br>name=3<br>x=%{x}<br>y=%{y}<extra></extra>",
           "hovertext": [
            "Last node of 3 <br> reward: 1.0 <br> action: [5, 3, 0, 5, 2, 3, 3, 0, 2, 0] <br> in system: 0.0"
           ],
           "legendgroup": "False, last",
           "line": {
            "color": "#EF553B",
            "dash": "solid"
           },
           "marker": {
            "symbol": "circle"
           },
           "mode": "lines+markers",
           "name": "False, last",
           "orientation": "v",
           "showlegend": false,
           "type": "scatter",
           "x": [
            0
           ],
           "xaxis": "x",
           "y": [
            0
           ],
           "yaxis": "y"
          },
          {
           "hovertemplate": "<b>%{hovertext}</b><br><br>main=False<br>type=last<br>step=2<br>name=4<br>x=%{x}<br>y=%{y}<extra></extra>",
           "hovertext": [
            "Last node of 4 <br> reward: 1.0 <br> action: [5, 3, 0, 5, 2, 3, 3, 0, 2, 0] <br> in system: 1.0"
           ],
           "legendgroup": "False, last",
           "line": {
            "color": "#EF553B",
            "dash": "solid"
           },
           "marker": {
            "symbol": "circle"
           },
           "mode": "lines+markers",
           "name": "False, last",
           "orientation": "v",
           "showlegend": false,
           "type": "scatter",
           "x": [
            0.42045454545454547
           ],
           "xaxis": "x",
           "y": [
            0.86
           ],
           "yaxis": "y"
          },
          {
           "hovertemplate": "<b>%{hovertext}</b><br><br>main=False<br>type=last<br>step=2<br>name=5<br>x=%{x}<br>y=%{y}<extra></extra>",
           "hovertext": [
            "Last node of 5 <br> reward: 1.0 <br> action: [5, 3, 0, 5, 2, 3, 3, 0, 2, 0] <br> in system: 0.0"
           ],
           "legendgroup": "False, last",
           "line": {
            "color": "#EF553B",
            "dash": "solid"
           },
           "marker": {
            "symbol": "circle"
           },
           "mode": "lines+markers",
           "name": "False, last",
           "orientation": "v",
           "showlegend": false,
           "type": "scatter",
           "x": [
            1
           ],
           "xaxis": "x",
           "y": [
            0.86
           ],
           "yaxis": "y"
          },
          {
           "hovertemplate": "<b>%{hovertext}</b><br><br>main=False<br>type=last<br>step=2<br>name=6<br>x=%{x}<br>y=%{y}<extra></extra>",
           "hovertext": [
            "Last node of 6 <br> reward: 1.0 <br> action: [5, 3, 0, 5, 2, 3, 3, 0, 2, 0] <br> in system: 1.0"
           ],
           "legendgroup": "False, last",
           "line": {
            "color": "#EF553B",
            "dash": "solid"
           },
           "marker": {
            "symbol": "circle"
           },
           "mode": "lines+markers",
           "name": "False, last",
           "orientation": "v",
           "showlegend": false,
           "type": "scatter",
           "x": [
            0.8181818181818182
           ],
           "xaxis": "x",
           "y": [
            0.76
           ],
           "yaxis": "y"
          },
          {
           "hovertemplate": "<b>%{hovertext}</b><br><br>main=False<br>type=last<br>step=2<br>name=7<br>x=%{x}<br>y=%{y}<extra></extra>",
           "hovertext": [
            "Last node of 7 <br> reward: 1.0 <br> action: [5, 3, 0, 5, 2, 3, 3, 0, 2, 0] <br> in system: 1.0"
           ],
           "legendgroup": "False, last",
           "line": {
            "color": "#EF553B",
            "dash": "solid"
           },
           "marker": {
            "symbol": "circle"
           },
           "mode": "lines+markers",
           "name": "False, last",
           "orientation": "v",
           "showlegend": false,
           "type": "scatter",
           "x": [
            0.9431818181818182
           ],
           "xaxis": "x",
           "y": [
            0.86
           ],
           "yaxis": "y"
          },
          {
           "hovertemplate": "<b>%{hovertext}</b><br><br>main=False<br>type=last<br>step=2<br>name=8<br>x=%{x}<br>y=%{y}<extra></extra>",
           "hovertext": [
            "Last node of 8 <br> reward: 1.0 <br> action: [5, 3, 0, 5, 2, 3, 3, 0, 2, 0] <br> in system: 0.0"
           ],
           "legendgroup": "False, last",
           "line": {
            "color": "#EF553B",
            "dash": "solid"
           },
           "marker": {
            "symbol": "circle"
           },
           "mode": "lines+markers",
           "name": "False, last",
           "orientation": "v",
           "showlegend": false,
           "type": "scatter",
           "x": [
            0
           ],
           "xaxis": "x",
           "y": [
            0
           ],
           "yaxis": "y"
          },
          {
           "hovertemplate": "<b>%{hovertext}</b><br><br>main=False<br>type=last<br>step=2<br>name=9<br>x=%{x}<br>y=%{y}<extra></extra>",
           "hovertext": [
            "Last node of 9 <br> reward: 1.0 <br> action: [5, 3, 0, 5, 2, 3, 3, 0, 2, 0] <br> in system: 0.0"
           ],
           "legendgroup": "False, last",
           "line": {
            "color": "#EF553B",
            "dash": "solid"
           },
           "marker": {
            "symbol": "circle"
           },
           "mode": "lines+markers",
           "name": "False, last",
           "orientation": "v",
           "showlegend": false,
           "type": "scatter",
           "x": [
            1
           ],
           "xaxis": "x",
           "y": [
            0.76
           ],
           "yaxis": "y"
          },
          {
           "hovertemplate": "<b>%{hovertext}</b><br><br>main=False<br>type=next<br>step=2<br>name=1<br>x=%{x}<br>y=%{y}<extra></extra>",
           "hovertext": [
            "Next node of 1 <br> reward: 1.0 <br> action: [5, 3, 0, 5, 2, 3, 3, 0, 2, 0] <br> in system: 0.0"
           ],
           "legendgroup": "False, next",
           "line": {
            "color": "#EF553B",
            "dash": "solid"
           },
           "marker": {
            "symbol": "diamond"
           },
           "mode": "lines+markers",
           "name": "False, next",
           "orientation": "v",
           "showlegend": true,
           "type": "scatter",
           "x": [
            0
           ],
           "xaxis": "x",
           "y": [
            0
           ],
           "yaxis": "y"
          },
          {
           "hovertemplate": "<b>%{hovertext}</b><br><br>main=False<br>type=next<br>step=2<br>name=2<br>x=%{x}<br>y=%{y}<extra></extra>",
           "hovertext": [
            "Next node of 2 <br> reward: 1.0 <br> action: [5, 3, 0, 5, 2, 3, 3, 0, 2, 0] <br> in system: 0.0"
           ],
           "legendgroup": "False, next",
           "line": {
            "color": "#EF553B",
            "dash": "solid"
           },
           "marker": {
            "symbol": "diamond"
           },
           "mode": "lines+markers",
           "name": "False, next",
           "orientation": "v",
           "showlegend": false,
           "type": "scatter",
           "x": [
            0
           ],
           "xaxis": "x",
           "y": [
            0
           ],
           "yaxis": "y"
          },
          {
           "hovertemplate": "<b>%{hovertext}</b><br><br>main=False<br>type=next<br>step=2<br>name=3<br>x=%{x}<br>y=%{y}<extra></extra>",
           "hovertext": [
            "Next node of 3 <br> reward: 1.0 <br> action: [5, 3, 0, 5, 2, 3, 3, 0, 2, 0] <br> in system: 0.0"
           ],
           "legendgroup": "False, next",
           "line": {
            "color": "#EF553B",
            "dash": "solid"
           },
           "marker": {
            "symbol": "diamond"
           },
           "mode": "lines+markers",
           "name": "False, next",
           "orientation": "v",
           "showlegend": false,
           "type": "scatter",
           "x": [
            0
           ],
           "xaxis": "x",
           "y": [
            0
           ],
           "yaxis": "y"
          },
          {
           "hovertemplate": "<b>%{hovertext}</b><br><br>main=False<br>type=next<br>step=2<br>name=4<br>x=%{x}<br>y=%{y}<extra></extra>",
           "hovertext": [
            "Next node of 4 <br> reward: 1.0 <br> action: [5, 3, 0, 5, 2, 3, 3, 0, 2, 0] <br> in system: 1.0"
           ],
           "legendgroup": "False, next",
           "line": {
            "color": "#EF553B",
            "dash": "solid"
           },
           "marker": {
            "symbol": "diamond"
           },
           "mode": "lines+markers",
           "name": "False, next",
           "orientation": "v",
           "showlegend": false,
           "type": "scatter",
           "x": [
            0.42045454545454547
           ],
           "xaxis": "x",
           "y": [
            0.76
           ],
           "yaxis": "y"
          },
          {
           "hovertemplate": "<b>%{hovertext}</b><br><br>main=False<br>type=next<br>step=2<br>name=5<br>x=%{x}<br>y=%{y}<extra></extra>",
           "hovertext": [
            "Next node of 5 <br> reward: 1.0 <br> action: [5, 3, 0, 5, 2, 3, 3, 0, 2, 0] <br> in system: 0.0"
           ],
           "legendgroup": "False, next",
           "line": {
            "color": "#EF553B",
            "dash": "solid"
           },
           "marker": {
            "symbol": "diamond"
           },
           "mode": "lines+markers",
           "name": "False, next",
           "orientation": "v",
           "showlegend": false,
           "type": "scatter",
           "x": [
            1
           ],
           "xaxis": "x",
           "y": [
            0.76
           ],
           "yaxis": "y"
          },
          {
           "hovertemplate": "<b>%{hovertext}</b><br><br>main=False<br>type=next<br>step=2<br>name=6<br>x=%{x}<br>y=%{y}<extra></extra>",
           "hovertext": [
            "Next node of 6 <br> reward: 1.0 <br> action: [5, 3, 0, 5, 2, 3, 3, 0, 2, 0] <br> in system: 1.0"
           ],
           "legendgroup": "False, next",
           "line": {
            "color": "#EF553B",
            "dash": "solid"
           },
           "marker": {
            "symbol": "diamond"
           },
           "mode": "lines+markers",
           "name": "False, next",
           "orientation": "v",
           "showlegend": false,
           "type": "scatter",
           "x": [
            0.7613636363636364
           ],
           "xaxis": "x",
           "y": [
            0.76
           ],
           "yaxis": "y"
          },
          {
           "hovertemplate": "<b>%{hovertext}</b><br><br>main=False<br>type=next<br>step=2<br>name=7<br>x=%{x}<br>y=%{y}<extra></extra>",
           "hovertext": [
            "Next node of 7 <br> reward: 1.0 <br> action: [5, 3, 0, 5, 2, 3, 3, 0, 2, 0] <br> in system: 1.0"
           ],
           "legendgroup": "False, next",
           "line": {
            "color": "#EF553B",
            "dash": "solid"
           },
           "marker": {
            "symbol": "diamond"
           },
           "mode": "lines+markers",
           "name": "False, next",
           "orientation": "v",
           "showlegend": false,
           "type": "scatter",
           "x": [
            1
           ],
           "xaxis": "x",
           "y": [
            0.86
           ],
           "yaxis": "y"
          },
          {
           "hovertemplate": "<b>%{hovertext}</b><br><br>main=False<br>type=next<br>step=2<br>name=8<br>x=%{x}<br>y=%{y}<extra></extra>",
           "hovertext": [
            "Next node of 8 <br> reward: 1.0 <br> action: [5, 3, 0, 5, 2, 3, 3, 0, 2, 0] <br> in system: 0.0"
           ],
           "legendgroup": "False, next",
           "line": {
            "color": "#EF553B",
            "dash": "solid"
           },
           "marker": {
            "symbol": "diamond"
           },
           "mode": "lines+markers",
           "name": "False, next",
           "orientation": "v",
           "showlegend": false,
           "type": "scatter",
           "x": [
            0
           ],
           "xaxis": "x",
           "y": [
            0
           ],
           "yaxis": "y"
          },
          {
           "hovertemplate": "<b>%{hovertext}</b><br><br>main=False<br>type=next<br>step=2<br>name=9<br>x=%{x}<br>y=%{y}<extra></extra>",
           "hovertext": [
            "Next node of 9 <br> reward: 1.0 <br> action: [5, 3, 0, 5, 2, 3, 3, 0, 2, 0] <br> in system: 0.0"
           ],
           "legendgroup": "False, next",
           "line": {
            "color": "#EF553B",
            "dash": "solid"
           },
           "marker": {
            "symbol": "diamond"
           },
           "mode": "lines+markers",
           "name": "False, next",
           "orientation": "v",
           "showlegend": false,
           "type": "scatter",
           "x": [
            1
           ],
           "xaxis": "x",
           "y": [
            0.86
           ],
           "yaxis": "y"
          }
         ],
         "name": "2"
        },
        {
         "data": [
          {
           "hovertemplate": "<b>%{hovertext}</b><br><br>main=True<br>type=last<br>step=3<br>name=0<br>x=%{x}<br>y=%{y}<extra></extra>",
           "hovertext": [
            "Last node of 0 <br> reward: 1.0 <br> action: [5, 0, 3, 0, 2, 1, 4, 3, 1, 4] <br> in system: 1.0"
           ],
           "legendgroup": "True, last",
           "line": {
            "color": "#636efa",
            "dash": "solid"
           },
           "marker": {
            "symbol": "circle"
           },
           "mode": "lines+markers",
           "name": "True, last",
           "orientation": "v",
           "showlegend": true,
           "type": "scatter",
           "x": [
            1
           ],
           "xaxis": "x",
           "y": [
            0.86
           ],
           "yaxis": "y"
          },
          {
           "hovertemplate": "<b>%{hovertext}</b><br><br>main=True<br>type=next<br>step=3<br>name=0<br>x=%{x}<br>y=%{y}<extra></extra>",
           "hovertext": [
            "Next node of 0 <br> reward: 1.0 <br> action: [5, 0, 3, 0, 2, 1, 4, 3, 1, 4] <br> in system: 1.0"
           ],
           "legendgroup": "True, next",
           "line": {
            "color": "#636efa",
            "dash": "solid"
           },
           "marker": {
            "symbol": "diamond"
           },
           "mode": "lines+markers",
           "name": "True, next",
           "orientation": "v",
           "showlegend": true,
           "type": "scatter",
           "x": [
            1
           ],
           "xaxis": "x",
           "y": [
            0.86
           ],
           "yaxis": "y"
          },
          {
           "hovertemplate": "<b>%{hovertext}</b><br><br>main=False<br>type=last<br>step=3<br>name=1<br>x=%{x}<br>y=%{y}<extra></extra>",
           "hovertext": [
            "Last node of 1 <br> reward: 1.0 <br> action: [5, 0, 3, 0, 2, 1, 4, 3, 1, 4] <br> in system: 1.0"
           ],
           "legendgroup": "False, last",
           "line": {
            "color": "#EF553B",
            "dash": "solid"
           },
           "marker": {
            "symbol": "circle"
           },
           "mode": "lines+markers",
           "name": "False, last",
           "orientation": "v",
           "showlegend": true,
           "type": "scatter",
           "x": [
            0.42045454545454547
           ],
           "xaxis": "x",
           "y": [
            0.86
           ],
           "yaxis": "y"
          },
          {
           "hovertemplate": "<b>%{hovertext}</b><br><br>main=False<br>type=last<br>step=3<br>name=2<br>x=%{x}<br>y=%{y}<extra></extra>",
           "hovertext": [
            "Last node of 2 <br> reward: 1.0 <br> action: [5, 0, 3, 0, 2, 1, 4, 3, 1, 4] <br> in system: 0.0"
           ],
           "legendgroup": "False, last",
           "line": {
            "color": "#EF553B",
            "dash": "solid"
           },
           "marker": {
            "symbol": "circle"
           },
           "mode": "lines+markers",
           "name": "False, last",
           "orientation": "v",
           "showlegend": false,
           "type": "scatter",
           "x": [
            0
           ],
           "xaxis": "x",
           "y": [
            0
           ],
           "yaxis": "y"
          },
          {
           "hovertemplate": "<b>%{hovertext}</b><br><br>main=False<br>type=last<br>step=3<br>name=3<br>x=%{x}<br>y=%{y}<extra></extra>",
           "hovertext": [
            "Last node of 3 <br> reward: 1.0 <br> action: [5, 0, 3, 0, 2, 1, 4, 3, 1, 4] <br> in system: 0.0"
           ],
           "legendgroup": "False, last",
           "line": {
            "color": "#EF553B",
            "dash": "solid"
           },
           "marker": {
            "symbol": "circle"
           },
           "mode": "lines+markers",
           "name": "False, last",
           "orientation": "v",
           "showlegend": false,
           "type": "scatter",
           "x": [
            0
           ],
           "xaxis": "x",
           "y": [
            0
           ],
           "yaxis": "y"
          },
          {
           "hovertemplate": "<b>%{hovertext}</b><br><br>main=False<br>type=last<br>step=3<br>name=4<br>x=%{x}<br>y=%{y}<extra></extra>",
           "hovertext": [
            "Last node of 4 <br> reward: 1.0 <br> action: [5, 0, 3, 0, 2, 1, 4, 3, 1, 4] <br> in system: 1.0"
           ],
           "legendgroup": "False, last",
           "line": {
            "color": "#EF553B",
            "dash": "solid"
           },
           "marker": {
            "symbol": "circle"
           },
           "mode": "lines+markers",
           "name": "False, last",
           "orientation": "v",
           "showlegend": false,
           "type": "scatter",
           "x": [
            0.9431818181818182
           ],
           "xaxis": "x",
           "y": [
            0.86
           ],
           "yaxis": "y"
          },
          {
           "hovertemplate": "<b>%{hovertext}</b><br><br>main=False<br>type=last<br>step=3<br>name=5<br>x=%{x}<br>y=%{y}<extra></extra>",
           "hovertext": [
            "Last node of 5 <br> reward: 1.0 <br> action: [5, 0, 3, 0, 2, 1, 4, 3, 1, 4] <br> in system: 0.0"
           ],
           "legendgroup": "False, last",
           "line": {
            "color": "#EF553B",
            "dash": "solid"
           },
           "marker": {
            "symbol": "circle"
           },
           "mode": "lines+markers",
           "name": "False, last",
           "orientation": "v",
           "showlegend": false,
           "type": "scatter",
           "x": [
            0
           ],
           "xaxis": "x",
           "y": [
            0
           ],
           "yaxis": "y"
          },
          {
           "hovertemplate": "<b>%{hovertext}</b><br><br>main=False<br>type=last<br>step=3<br>name=6<br>x=%{x}<br>y=%{y}<extra></extra>",
           "hovertext": [
            "Last node of 6 <br> reward: 1.0 <br> action: [5, 0, 3, 0, 2, 1, 4, 3, 1, 4] <br> in system: 0.0"
           ],
           "legendgroup": "False, last",
           "line": {
            "color": "#EF553B",
            "dash": "solid"
           },
           "marker": {
            "symbol": "circle"
           },
           "mode": "lines+markers",
           "name": "False, last",
           "orientation": "v",
           "showlegend": false,
           "type": "scatter",
           "x": [
            1
           ],
           "xaxis": "x",
           "y": [
            0.76
           ],
           "yaxis": "y"
          },
          {
           "hovertemplate": "<b>%{hovertext}</b><br><br>main=False<br>type=last<br>step=3<br>name=7<br>x=%{x}<br>y=%{y}<extra></extra>",
           "hovertext": [
            "Last node of 7 <br> reward: 1.0 <br> action: [5, 0, 3, 0, 2, 1, 4, 3, 1, 4] <br> in system: 0.0"
           ],
           "legendgroup": "False, last",
           "line": {
            "color": "#EF553B",
            "dash": "solid"
           },
           "marker": {
            "symbol": "circle"
           },
           "mode": "lines+markers",
           "name": "False, last",
           "orientation": "v",
           "showlegend": false,
           "type": "scatter",
           "x": [
            0
           ],
           "xaxis": "x",
           "y": [
            0
           ],
           "yaxis": "y"
          },
          {
           "hovertemplate": "<b>%{hovertext}</b><br><br>main=False<br>type=last<br>step=3<br>name=8<br>x=%{x}<br>y=%{y}<extra></extra>",
           "hovertext": [
            "Last node of 8 <br> reward: 1.0 <br> action: [5, 0, 3, 0, 2, 1, 4, 3, 1, 4] <br> in system: 0.0"
           ],
           "legendgroup": "False, last",
           "line": {
            "color": "#EF553B",
            "dash": "solid"
           },
           "marker": {
            "symbol": "circle"
           },
           "mode": "lines+markers",
           "name": "False, last",
           "orientation": "v",
           "showlegend": false,
           "type": "scatter",
           "x": [
            1
           ],
           "xaxis": "x",
           "y": [
            0.86
           ],
           "yaxis": "y"
          },
          {
           "hovertemplate": "<b>%{hovertext}</b><br><br>main=False<br>type=last<br>step=3<br>name=9<br>x=%{x}<br>y=%{y}<extra></extra>",
           "hovertext": [
            "Last node of 9 <br> reward: 1.0 <br> action: [5, 0, 3, 0, 2, 1, 4, 3, 1, 4] <br> in system: 1.0"
           ],
           "legendgroup": "False, last",
           "line": {
            "color": "#EF553B",
            "dash": "solid"
           },
           "marker": {
            "symbol": "circle"
           },
           "mode": "lines+markers",
           "name": "False, last",
           "orientation": "v",
           "showlegend": false,
           "type": "scatter",
           "x": [
            0.8181818181818182
           ],
           "xaxis": "x",
           "y": [
            0.76
           ],
           "yaxis": "y"
          },
          {
           "hovertemplate": "<b>%{hovertext}</b><br><br>main=False<br>type=next<br>step=3<br>name=1<br>x=%{x}<br>y=%{y}<extra></extra>",
           "hovertext": [
            "Next node of 1 <br> reward: 1.0 <br> action: [5, 0, 3, 0, 2, 1, 4, 3, 1, 4] <br> in system: 1.0"
           ],
           "legendgroup": "False, next",
           "line": {
            "color": "#EF553B",
            "dash": "solid"
           },
           "marker": {
            "symbol": "diamond"
           },
           "mode": "lines+markers",
           "name": "False, next",
           "orientation": "v",
           "showlegend": true,
           "type": "scatter",
           "x": [
            0.42045454545454547
           ],
           "xaxis": "x",
           "y": [
            0.76
           ],
           "yaxis": "y"
          },
          {
           "hovertemplate": "<b>%{hovertext}</b><br><br>main=False<br>type=next<br>step=3<br>name=2<br>x=%{x}<br>y=%{y}<extra></extra>",
           "hovertext": [
            "Next node of 2 <br> reward: 1.0 <br> action: [5, 0, 3, 0, 2, 1, 4, 3, 1, 4] <br> in system: 0.0"
           ],
           "legendgroup": "False, next",
           "line": {
            "color": "#EF553B",
            "dash": "solid"
           },
           "marker": {
            "symbol": "diamond"
           },
           "mode": "lines+markers",
           "name": "False, next",
           "orientation": "v",
           "showlegend": false,
           "type": "scatter",
           "x": [
            0
           ],
           "xaxis": "x",
           "y": [
            0
           ],
           "yaxis": "y"
          },
          {
           "hovertemplate": "<b>%{hovertext}</b><br><br>main=False<br>type=next<br>step=3<br>name=3<br>x=%{x}<br>y=%{y}<extra></extra>",
           "hovertext": [
            "Next node of 3 <br> reward: 1.0 <br> action: [5, 0, 3, 0, 2, 1, 4, 3, 1, 4] <br> in system: 0.0"
           ],
           "legendgroup": "False, next",
           "line": {
            "color": "#EF553B",
            "dash": "solid"
           },
           "marker": {
            "symbol": "diamond"
           },
           "mode": "lines+markers",
           "name": "False, next",
           "orientation": "v",
           "showlegend": false,
           "type": "scatter",
           "x": [
            0
           ],
           "xaxis": "x",
           "y": [
            0
           ],
           "yaxis": "y"
          },
          {
           "hovertemplate": "<b>%{hovertext}</b><br><br>main=False<br>type=next<br>step=3<br>name=4<br>x=%{x}<br>y=%{y}<extra></extra>",
           "hovertext": [
            "Next node of 4 <br> reward: 1.0 <br> action: [5, 0, 3, 0, 2, 1, 4, 3, 1, 4] <br> in system: 1.0"
           ],
           "legendgroup": "False, next",
           "line": {
            "color": "#EF553B",
            "dash": "solid"
           },
           "marker": {
            "symbol": "diamond"
           },
           "mode": "lines+markers",
           "name": "False, next",
           "orientation": "v",
           "showlegend": false,
           "type": "scatter",
           "x": [
            1
           ],
           "xaxis": "x",
           "y": [
            0.86
           ],
           "yaxis": "y"
          },
          {
           "hovertemplate": "<b>%{hovertext}</b><br><br>main=False<br>type=next<br>step=3<br>name=5<br>x=%{x}<br>y=%{y}<extra></extra>",
           "hovertext": [
            "Next node of 5 <br> reward: 1.0 <br> action: [5, 0, 3, 0, 2, 1, 4, 3, 1, 4] <br> in system: 0.0"
           ],
           "legendgroup": "False, next",
           "line": {
            "color": "#EF553B",
            "dash": "solid"
           },
           "marker": {
            "symbol": "diamond"
           },
           "mode": "lines+markers",
           "name": "False, next",
           "orientation": "v",
           "showlegend": false,
           "type": "scatter",
           "x": [
            0
           ],
           "xaxis": "x",
           "y": [
            0
           ],
           "yaxis": "y"
          },
          {
           "hovertemplate": "<b>%{hovertext}</b><br><br>main=False<br>type=next<br>step=3<br>name=6<br>x=%{x}<br>y=%{y}<extra></extra>",
           "hovertext": [
            "Next node of 6 <br> reward: 1.0 <br> action: [5, 0, 3, 0, 2, 1, 4, 3, 1, 4] <br> in system: 0.0"
           ],
           "legendgroup": "False, next",
           "line": {
            "color": "#EF553B",
            "dash": "solid"
           },
           "marker": {
            "symbol": "diamond"
           },
           "mode": "lines+markers",
           "name": "False, next",
           "orientation": "v",
           "showlegend": false,
           "type": "scatter",
           "x": [
            1
           ],
           "xaxis": "x",
           "y": [
            0.86
           ],
           "yaxis": "y"
          },
          {
           "hovertemplate": "<b>%{hovertext}</b><br><br>main=False<br>type=next<br>step=3<br>name=7<br>x=%{x}<br>y=%{y}<extra></extra>",
           "hovertext": [
            "Next node of 7 <br> reward: 1.0 <br> action: [5, 0, 3, 0, 2, 1, 4, 3, 1, 4] <br> in system: 0.0"
           ],
           "legendgroup": "False, next",
           "line": {
            "color": "#EF553B",
            "dash": "solid"
           },
           "marker": {
            "symbol": "diamond"
           },
           "mode": "lines+markers",
           "name": "False, next",
           "orientation": "v",
           "showlegend": false,
           "type": "scatter",
           "x": [
            0
           ],
           "xaxis": "x",
           "y": [
            0
           ],
           "yaxis": "y"
          },
          {
           "hovertemplate": "<b>%{hovertext}</b><br><br>main=False<br>type=next<br>step=3<br>name=8<br>x=%{x}<br>y=%{y}<extra></extra>",
           "hovertext": [
            "Next node of 8 <br> reward: 1.0 <br> action: [5, 0, 3, 0, 2, 1, 4, 3, 1, 4] <br> in system: 0.0"
           ],
           "legendgroup": "False, next",
           "line": {
            "color": "#EF553B",
            "dash": "solid"
           },
           "marker": {
            "symbol": "diamond"
           },
           "mode": "lines+markers",
           "name": "False, next",
           "orientation": "v",
           "showlegend": false,
           "type": "scatter",
           "x": [
            1
           ],
           "xaxis": "x",
           "y": [
            0.76
           ],
           "yaxis": "y"
          },
          {
           "hovertemplate": "<b>%{hovertext}</b><br><br>main=False<br>type=next<br>step=3<br>name=9<br>x=%{x}<br>y=%{y}<extra></extra>",
           "hovertext": [
            "Next node of 9 <br> reward: 1.0 <br> action: [5, 0, 3, 0, 2, 1, 4, 3, 1, 4] <br> in system: 1.0"
           ],
           "legendgroup": "False, next",
           "line": {
            "color": "#EF553B",
            "dash": "solid"
           },
           "marker": {
            "symbol": "diamond"
           },
           "mode": "lines+markers",
           "name": "False, next",
           "orientation": "v",
           "showlegend": false,
           "type": "scatter",
           "x": [
            0.7613636363636364
           ],
           "xaxis": "x",
           "y": [
            0.76
           ],
           "yaxis": "y"
          }
         ],
         "name": "3"
        },
        {
         "data": [
          {
           "hovertemplate": "<b>%{hovertext}</b><br><br>main=True<br>type=last<br>step=4<br>name=0<br>x=%{x}<br>y=%{y}<extra></extra>",
           "hovertext": [
            "Last node of 0 <br> reward: 1.0 <br> action: [0, 4, 2, 5, 1, 5, 4, 2, 5, 1] <br> in system: 1.0"
           ],
           "legendgroup": "True, last",
           "line": {
            "color": "#636efa",
            "dash": "solid"
           },
           "marker": {
            "symbol": "circle"
           },
           "mode": "lines+markers",
           "name": "True, last",
           "orientation": "v",
           "showlegend": true,
           "type": "scatter",
           "x": [
            1
           ],
           "xaxis": "x",
           "y": [
            0.86
           ],
           "yaxis": "y"
          },
          {
           "hovertemplate": "<b>%{hovertext}</b><br><br>main=True<br>type=next<br>step=4<br>name=0<br>x=%{x}<br>y=%{y}<extra></extra>",
           "hovertext": [
            "Next node of 0 <br> reward: 1.0 <br> action: [0, 4, 2, 5, 1, 5, 4, 2, 5, 1] <br> in system: 1.0"
           ],
           "legendgroup": "True, next",
           "line": {
            "color": "#636efa",
            "dash": "solid"
           },
           "marker": {
            "symbol": "diamond"
           },
           "mode": "lines+markers",
           "name": "True, next",
           "orientation": "v",
           "showlegend": true,
           "type": "scatter",
           "x": [
            1
           ],
           "xaxis": "x",
           "y": [
            0.86
           ],
           "yaxis": "y"
          },
          {
           "hovertemplate": "<b>%{hovertext}</b><br><br>main=False<br>type=last<br>step=4<br>name=1<br>x=%{x}<br>y=%{y}<extra></extra>",
           "hovertext": [
            "Last node of 1 <br> reward: 1.0 <br> action: [0, 4, 2, 5, 1, 5, 4, 2, 5, 1] <br> in system: 0.0"
           ],
           "legendgroup": "False, last",
           "line": {
            "color": "#EF553B",
            "dash": "solid"
           },
           "marker": {
            "symbol": "circle"
           },
           "mode": "lines+markers",
           "name": "False, last",
           "orientation": "v",
           "showlegend": true,
           "type": "scatter",
           "x": [
            0
           ],
           "xaxis": "x",
           "y": [
            0
           ],
           "yaxis": "y"
          },
          {
           "hovertemplate": "<b>%{hovertext}</b><br><br>main=False<br>type=last<br>step=4<br>name=2<br>x=%{x}<br>y=%{y}<extra></extra>",
           "hovertext": [
            "Last node of 2 <br> reward: 1.0 <br> action: [0, 4, 2, 5, 1, 5, 4, 2, 5, 1] <br> in system: 1.0"
           ],
           "legendgroup": "False, last",
           "line": {
            "color": "#EF553B",
            "dash": "solid"
           },
           "marker": {
            "symbol": "circle"
           },
           "mode": "lines+markers",
           "name": "False, last",
           "orientation": "v",
           "showlegend": false,
           "type": "scatter",
           "x": [
            0.42045454545454547
           ],
           "xaxis": "x",
           "y": [
            0.86
           ],
           "yaxis": "y"
          },
          {
           "hovertemplate": "<b>%{hovertext}</b><br><br>main=False<br>type=last<br>step=4<br>name=3<br>x=%{x}<br>y=%{y}<extra></extra>",
           "hovertext": [
            "Last node of 3 <br> reward: 1.0 <br> action: [0, 4, 2, 5, 1, 5, 4, 2, 5, 1] <br> in system: 0.0"
           ],
           "legendgroup": "False, last",
           "line": {
            "color": "#EF553B",
            "dash": "solid"
           },
           "marker": {
            "symbol": "circle"
           },
           "mode": "lines+markers",
           "name": "False, last",
           "orientation": "v",
           "showlegend": false,
           "type": "scatter",
           "x": [
            1
           ],
           "xaxis": "x",
           "y": [
            0.86
           ],
           "yaxis": "y"
          },
          {
           "hovertemplate": "<b>%{hovertext}</b><br><br>main=False<br>type=last<br>step=4<br>name=4<br>x=%{x}<br>y=%{y}<extra></extra>",
           "hovertext": [
            "Last node of 4 <br> reward: 1.0 <br> action: [0, 4, 2, 5, 1, 5, 4, 2, 5, 1] <br> in system: 0.0"
           ],
           "legendgroup": "False, last",
           "line": {
            "color": "#EF553B",
            "dash": "solid"
           },
           "marker": {
            "symbol": "circle"
           },
           "mode": "lines+markers",
           "name": "False, last",
           "orientation": "v",
           "showlegend": false,
           "type": "scatter",
           "x": [
            0
           ],
           "xaxis": "x",
           "y": [
            0
           ],
           "yaxis": "y"
          },
          {
           "hovertemplate": "<b>%{hovertext}</b><br><br>main=False<br>type=last<br>step=4<br>name=5<br>x=%{x}<br>y=%{y}<extra></extra>",
           "hovertext": [
            "Last node of 5 <br> reward: 1.0 <br> action: [0, 4, 2, 5, 1, 5, 4, 2, 5, 1] <br> in system: 0.0"
           ],
           "legendgroup": "False, last",
           "line": {
            "color": "#EF553B",
            "dash": "solid"
           },
           "marker": {
            "symbol": "circle"
           },
           "mode": "lines+markers",
           "name": "False, last",
           "orientation": "v",
           "showlegend": false,
           "type": "scatter",
           "x": [
            0
           ],
           "xaxis": "x",
           "y": [
            0
           ],
           "yaxis": "y"
          },
          {
           "hovertemplate": "<b>%{hovertext}</b><br><br>main=False<br>type=last<br>step=4<br>name=6<br>x=%{x}<br>y=%{y}<extra></extra>",
           "hovertext": [
            "Last node of 6 <br> reward: 1.0 <br> action: [0, 4, 2, 5, 1, 5, 4, 2, 5, 1] <br> in system: 0.0"
           ],
           "legendgroup": "False, last",
           "line": {
            "color": "#EF553B",
            "dash": "solid"
           },
           "marker": {
            "symbol": "circle"
           },
           "mode": "lines+markers",
           "name": "False, last",
           "orientation": "v",
           "showlegend": false,
           "type": "scatter",
           "x": [
            1
           ],
           "xaxis": "x",
           "y": [
            0.76
           ],
           "yaxis": "y"
          },
          {
           "hovertemplate": "<b>%{hovertext}</b><br><br>main=False<br>type=last<br>step=4<br>name=7<br>x=%{x}<br>y=%{y}<extra></extra>",
           "hovertext": [
            "Last node of 7 <br> reward: 1.0 <br> action: [0, 4, 2, 5, 1, 5, 4, 2, 5, 1] <br> in system: 0.0"
           ],
           "legendgroup": "False, last",
           "line": {
            "color": "#EF553B",
            "dash": "solid"
           },
           "marker": {
            "symbol": "circle"
           },
           "mode": "lines+markers",
           "name": "False, last",
           "orientation": "v",
           "showlegend": false,
           "type": "scatter",
           "x": [
            0
           ],
           "xaxis": "x",
           "y": [
            0
           ],
           "yaxis": "y"
          },
          {
           "hovertemplate": "<b>%{hovertext}</b><br><br>main=False<br>type=last<br>step=4<br>name=8<br>x=%{x}<br>y=%{y}<extra></extra>",
           "hovertext": [
            "Last node of 8 <br> reward: 1.0 <br> action: [0, 4, 2, 5, 1, 5, 4, 2, 5, 1] <br> in system: 1.0"
           ],
           "legendgroup": "False, last",
           "line": {
            "color": "#EF553B",
            "dash": "solid"
           },
           "marker": {
            "symbol": "circle"
           },
           "mode": "lines+markers",
           "name": "False, last",
           "orientation": "v",
           "showlegend": false,
           "type": "scatter",
           "x": [
            0.9431818181818182
           ],
           "xaxis": "x",
           "y": [
            0.86
           ],
           "yaxis": "y"
          },
          {
           "hovertemplate": "<b>%{hovertext}</b><br><br>main=False<br>type=last<br>step=4<br>name=9<br>x=%{x}<br>y=%{y}<extra></extra>",
           "hovertext": [
            "Last node of 9 <br> reward: 1.0 <br> action: [0, 4, 2, 5, 1, 5, 4, 2, 5, 1] <br> in system: 1.0"
           ],
           "legendgroup": "False, last",
           "line": {
            "color": "#EF553B",
            "dash": "solid"
           },
           "marker": {
            "symbol": "circle"
           },
           "mode": "lines+markers",
           "name": "False, last",
           "orientation": "v",
           "showlegend": false,
           "type": "scatter",
           "x": [
            0.7613636363636364
           ],
           "xaxis": "x",
           "y": [
            0.76
           ],
           "yaxis": "y"
          },
          {
           "hovertemplate": "<b>%{hovertext}</b><br><br>main=False<br>type=next<br>step=4<br>name=1<br>x=%{x}<br>y=%{y}<extra></extra>",
           "hovertext": [
            "Next node of 1 <br> reward: 1.0 <br> action: [0, 4, 2, 5, 1, 5, 4, 2, 5, 1] <br> in system: 0.0"
           ],
           "legendgroup": "False, next",
           "line": {
            "color": "#EF553B",
            "dash": "solid"
           },
           "marker": {
            "symbol": "diamond"
           },
           "mode": "lines+markers",
           "name": "False, next",
           "orientation": "v",
           "showlegend": true,
           "type": "scatter",
           "x": [
            0
           ],
           "xaxis": "x",
           "y": [
            0
           ],
           "yaxis": "y"
          },
          {
           "hovertemplate": "<b>%{hovertext}</b><br><br>main=False<br>type=next<br>step=4<br>name=2<br>x=%{x}<br>y=%{y}<extra></extra>",
           "hovertext": [
            "Next node of 2 <br> reward: 1.0 <br> action: [0, 4, 2, 5, 1, 5, 4, 2, 5, 1] <br> in system: 1.0"
           ],
           "legendgroup": "False, next",
           "line": {
            "color": "#EF553B",
            "dash": "solid"
           },
           "marker": {
            "symbol": "diamond"
           },
           "mode": "lines+markers",
           "name": "False, next",
           "orientation": "v",
           "showlegend": false,
           "type": "scatter",
           "x": [
            0.42045454545454547
           ],
           "xaxis": "x",
           "y": [
            0.76
           ],
           "yaxis": "y"
          },
          {
           "hovertemplate": "<b>%{hovertext}</b><br><br>main=False<br>type=next<br>step=4<br>name=3<br>x=%{x}<br>y=%{y}<extra></extra>",
           "hovertext": [
            "Next node of 3 <br> reward: 1.0 <br> action: [0, 4, 2, 5, 1, 5, 4, 2, 5, 1] <br> in system: 0.0"
           ],
           "legendgroup": "False, next",
           "line": {
            "color": "#EF553B",
            "dash": "solid"
           },
           "marker": {
            "symbol": "diamond"
           },
           "mode": "lines+markers",
           "name": "False, next",
           "orientation": "v",
           "showlegend": false,
           "type": "scatter",
           "x": [
            1
           ],
           "xaxis": "x",
           "y": [
            0.76
           ],
           "yaxis": "y"
          },
          {
           "hovertemplate": "<b>%{hovertext}</b><br><br>main=False<br>type=next<br>step=4<br>name=4<br>x=%{x}<br>y=%{y}<extra></extra>",
           "hovertext": [
            "Next node of 4 <br> reward: 1.0 <br> action: [0, 4, 2, 5, 1, 5, 4, 2, 5, 1] <br> in system: 0.0"
           ],
           "legendgroup": "False, next",
           "line": {
            "color": "#EF553B",
            "dash": "solid"
           },
           "marker": {
            "symbol": "diamond"
           },
           "mode": "lines+markers",
           "name": "False, next",
           "orientation": "v",
           "showlegend": false,
           "type": "scatter",
           "x": [
            0
           ],
           "xaxis": "x",
           "y": [
            0
           ],
           "yaxis": "y"
          },
          {
           "hovertemplate": "<b>%{hovertext}</b><br><br>main=False<br>type=next<br>step=4<br>name=5<br>x=%{x}<br>y=%{y}<extra></extra>",
           "hovertext": [
            "Next node of 5 <br> reward: 1.0 <br> action: [0, 4, 2, 5, 1, 5, 4, 2, 5, 1] <br> in system: 0.0"
           ],
           "legendgroup": "False, next",
           "line": {
            "color": "#EF553B",
            "dash": "solid"
           },
           "marker": {
            "symbol": "diamond"
           },
           "mode": "lines+markers",
           "name": "False, next",
           "orientation": "v",
           "showlegend": false,
           "type": "scatter",
           "x": [
            0
           ],
           "xaxis": "x",
           "y": [
            0
           ],
           "yaxis": "y"
          },
          {
           "hovertemplate": "<b>%{hovertext}</b><br><br>main=False<br>type=next<br>step=4<br>name=6<br>x=%{x}<br>y=%{y}<extra></extra>",
           "hovertext": [
            "Next node of 6 <br> reward: 1.0 <br> action: [0, 4, 2, 5, 1, 5, 4, 2, 5, 1] <br> in system: 0.0"
           ],
           "legendgroup": "False, next",
           "line": {
            "color": "#EF553B",
            "dash": "solid"
           },
           "marker": {
            "symbol": "diamond"
           },
           "mode": "lines+markers",
           "name": "False, next",
           "orientation": "v",
           "showlegend": false,
           "type": "scatter",
           "x": [
            1
           ],
           "xaxis": "x",
           "y": [
            0.86
           ],
           "yaxis": "y"
          },
          {
           "hovertemplate": "<b>%{hovertext}</b><br><br>main=False<br>type=next<br>step=4<br>name=7<br>x=%{x}<br>y=%{y}<extra></extra>",
           "hovertext": [
            "Next node of 7 <br> reward: 1.0 <br> action: [0, 4, 2, 5, 1, 5, 4, 2, 5, 1] <br> in system: 0.0"
           ],
           "legendgroup": "False, next",
           "line": {
            "color": "#EF553B",
            "dash": "solid"
           },
           "marker": {
            "symbol": "diamond"
           },
           "mode": "lines+markers",
           "name": "False, next",
           "orientation": "v",
           "showlegend": false,
           "type": "scatter",
           "x": [
            0
           ],
           "xaxis": "x",
           "y": [
            0
           ],
           "yaxis": "y"
          },
          {
           "hovertemplate": "<b>%{hovertext}</b><br><br>main=False<br>type=next<br>step=4<br>name=8<br>x=%{x}<br>y=%{y}<extra></extra>",
           "hovertext": [
            "Next node of 8 <br> reward: 1.0 <br> action: [0, 4, 2, 5, 1, 5, 4, 2, 5, 1] <br> in system: 1.0"
           ],
           "legendgroup": "False, next",
           "line": {
            "color": "#EF553B",
            "dash": "solid"
           },
           "marker": {
            "symbol": "diamond"
           },
           "mode": "lines+markers",
           "name": "False, next",
           "orientation": "v",
           "showlegend": false,
           "type": "scatter",
           "x": [
            1
           ],
           "xaxis": "x",
           "y": [
            0.86
           ],
           "yaxis": "y"
          },
          {
           "hovertemplate": "<b>%{hovertext}</b><br><br>main=False<br>type=next<br>step=4<br>name=9<br>x=%{x}<br>y=%{y}<extra></extra>",
           "hovertext": [
            "Next node of 9 <br> reward: 1.0 <br> action: [0, 4, 2, 5, 1, 5, 4, 2, 5, 1] <br> in system: 1.0"
           ],
           "legendgroup": "False, next",
           "line": {
            "color": "#EF553B",
            "dash": "solid"
           },
           "marker": {
            "symbol": "diamond"
           },
           "mode": "lines+markers",
           "name": "False, next",
           "orientation": "v",
           "showlegend": false,
           "type": "scatter",
           "x": [
            0.7613636363636364
           ],
           "xaxis": "x",
           "y": [
            0.86
           ],
           "yaxis": "y"
          }
         ],
         "name": "4"
        },
        {
         "data": [
          {
           "hovertemplate": "<b>%{hovertext}</b><br><br>main=True<br>type=last<br>step=5<br>name=0<br>x=%{x}<br>y=%{y}<extra></extra>",
           "hovertext": [
            "Last node of 0 <br> reward: 1.0 <br> action: [3, 2, 2, 3, 3, 1, 2, 1, 4, 5] <br> in system: 1.0"
           ],
           "legendgroup": "True, last",
           "line": {
            "color": "#636efa",
            "dash": "solid"
           },
           "marker": {
            "symbol": "circle"
           },
           "mode": "lines+markers",
           "name": "True, last",
           "orientation": "v",
           "showlegend": true,
           "type": "scatter",
           "x": [
            1
           ],
           "xaxis": "x",
           "y": [
            0.86
           ],
           "yaxis": "y"
          },
          {
           "hovertemplate": "<b>%{hovertext}</b><br><br>main=True<br>type=next<br>step=5<br>name=0<br>x=%{x}<br>y=%{y}<extra></extra>",
           "hovertext": [
            "Next node of 0 <br> reward: 1.0 <br> action: [3, 2, 2, 3, 3, 1, 2, 1, 4, 5] <br> in system: 1.0"
           ],
           "legendgroup": "True, next",
           "line": {
            "color": "#636efa",
            "dash": "solid"
           },
           "marker": {
            "symbol": "diamond"
           },
           "mode": "lines+markers",
           "name": "True, next",
           "orientation": "v",
           "showlegend": true,
           "type": "scatter",
           "x": [
            1
           ],
           "xaxis": "x",
           "y": [
            0.86
           ],
           "yaxis": "y"
          },
          {
           "hovertemplate": "<b>%{hovertext}</b><br><br>main=False<br>type=last<br>step=5<br>name=1<br>x=%{x}<br>y=%{y}<extra></extra>",
           "hovertext": [
            "Last node of 1 <br> reward: 1.0 <br> action: [3, 2, 2, 3, 3, 1, 2, 1, 4, 5] <br> in system: 0.0"
           ],
           "legendgroup": "False, last",
           "line": {
            "color": "#EF553B",
            "dash": "solid"
           },
           "marker": {
            "symbol": "circle"
           },
           "mode": "lines+markers",
           "name": "False, last",
           "orientation": "v",
           "showlegend": true,
           "type": "scatter",
           "x": [
            1
           ],
           "xaxis": "x",
           "y": [
            0.76
           ],
           "yaxis": "y"
          },
          {
           "hovertemplate": "<b>%{hovertext}</b><br><br>main=False<br>type=last<br>step=5<br>name=2<br>x=%{x}<br>y=%{y}<extra></extra>",
           "hovertext": [
            "Last node of 2 <br> reward: 1.0 <br> action: [3, 2, 2, 3, 3, 1, 2, 1, 4, 5] <br> in system: 0.0"
           ],
           "legendgroup": "False, last",
           "line": {
            "color": "#EF553B",
            "dash": "solid"
           },
           "marker": {
            "symbol": "circle"
           },
           "mode": "lines+markers",
           "name": "False, last",
           "orientation": "v",
           "showlegend": false,
           "type": "scatter",
           "x": [
            0
           ],
           "xaxis": "x",
           "y": [
            0
           ],
           "yaxis": "y"
          },
          {
           "hovertemplate": "<b>%{hovertext}</b><br><br>main=False<br>type=last<br>step=5<br>name=3<br>x=%{x}<br>y=%{y}<extra></extra>",
           "hovertext": [
            "Last node of 3 <br> reward: 1.0 <br> action: [3, 2, 2, 3, 3, 1, 2, 1, 4, 5] <br> in system: 1.0"
           ],
           "legendgroup": "False, last",
           "line": {
            "color": "#EF553B",
            "dash": "solid"
           },
           "marker": {
            "symbol": "circle"
           },
           "mode": "lines+markers",
           "name": "False, last",
           "orientation": "v",
           "showlegend": false,
           "type": "scatter",
           "x": [
            0.9431818181818182
           ],
           "xaxis": "x",
           "y": [
            0.86
           ],
           "yaxis": "y"
          },
          {
           "hovertemplate": "<b>%{hovertext}</b><br><br>main=False<br>type=last<br>step=5<br>name=4<br>x=%{x}<br>y=%{y}<extra></extra>",
           "hovertext": [
            "Last node of 4 <br> reward: 1.0 <br> action: [3, 2, 2, 3, 3, 1, 2, 1, 4, 5] <br> in system: 0.0"
           ],
           "legendgroup": "False, last",
           "line": {
            "color": "#EF553B",
            "dash": "solid"
           },
           "marker": {
            "symbol": "circle"
           },
           "mode": "lines+markers",
           "name": "False, last",
           "orientation": "v",
           "showlegend": false,
           "type": "scatter",
           "x": [
            1
           ],
           "xaxis": "x",
           "y": [
            0.86
           ],
           "yaxis": "y"
          },
          {
           "hovertemplate": "<b>%{hovertext}</b><br><br>main=False<br>type=last<br>step=5<br>name=5<br>x=%{x}<br>y=%{y}<extra></extra>",
           "hovertext": [
            "Last node of 5 <br> reward: 1.0 <br> action: [3, 2, 2, 3, 3, 1, 2, 1, 4, 5] <br> in system: 0.0"
           ],
           "legendgroup": "False, last",
           "line": {
            "color": "#EF553B",
            "dash": "solid"
           },
           "marker": {
            "symbol": "circle"
           },
           "mode": "lines+markers",
           "name": "False, last",
           "orientation": "v",
           "showlegend": false,
           "type": "scatter",
           "x": [
            0
           ],
           "xaxis": "x",
           "y": [
            0
           ],
           "yaxis": "y"
          },
          {
           "hovertemplate": "<b>%{hovertext}</b><br><br>main=False<br>type=last<br>step=5<br>name=6<br>x=%{x}<br>y=%{y}<extra></extra>",
           "hovertext": [
            "Last node of 6 <br> reward: 1.0 <br> action: [3, 2, 2, 3, 3, 1, 2, 1, 4, 5] <br> in system: 1.0"
           ],
           "legendgroup": "False, last",
           "line": {
            "color": "#EF553B",
            "dash": "solid"
           },
           "marker": {
            "symbol": "circle"
           },
           "mode": "lines+markers",
           "name": "False, last",
           "orientation": "v",
           "showlegend": false,
           "type": "scatter",
           "x": [
            0.7613636363636364
           ],
           "xaxis": "x",
           "y": [
            0.76
           ],
           "yaxis": "y"
          },
          {
           "hovertemplate": "<b>%{hovertext}</b><br><br>main=False<br>type=last<br>step=5<br>name=7<br>x=%{x}<br>y=%{y}<extra></extra>",
           "hovertext": [
            "Last node of 7 <br> reward: 1.0 <br> action: [3, 2, 2, 3, 3, 1, 2, 1, 4, 5] <br> in system: 1.0"
           ],
           "legendgroup": "False, last",
           "line": {
            "color": "#EF553B",
            "dash": "solid"
           },
           "marker": {
            "symbol": "circle"
           },
           "mode": "lines+markers",
           "name": "False, last",
           "orientation": "v",
           "showlegend": false,
           "type": "scatter",
           "x": [
            0.42045454545454547
           ],
           "xaxis": "x",
           "y": [
            0.76
           ],
           "yaxis": "y"
          },
          {
           "hovertemplate": "<b>%{hovertext}</b><br><br>main=False<br>type=last<br>step=5<br>name=8<br>x=%{x}<br>y=%{y}<extra></extra>",
           "hovertext": [
            "Last node of 8 <br> reward: 1.0 <br> action: [3, 2, 2, 3, 3, 1, 2, 1, 4, 5] <br> in system: 0.0"
           ],
           "legendgroup": "False, last",
           "line": {
            "color": "#EF553B",
            "dash": "solid"
           },
           "marker": {
            "symbol": "circle"
           },
           "mode": "lines+markers",
           "name": "False, last",
           "orientation": "v",
           "showlegend": false,
           "type": "scatter",
           "x": [
            0
           ],
           "xaxis": "x",
           "y": [
            0
           ],
           "yaxis": "y"
          },
          {
           "hovertemplate": "<b>%{hovertext}</b><br><br>main=False<br>type=last<br>step=5<br>name=9<br>x=%{x}<br>y=%{y}<extra></extra>",
           "hovertext": [
            "Last node of 9 <br> reward: 1.0 <br> action: [3, 2, 2, 3, 3, 1, 2, 1, 4, 5] <br> in system: 0.0"
           ],
           "legendgroup": "False, last",
           "line": {
            "color": "#EF553B",
            "dash": "solid"
           },
           "marker": {
            "symbol": "circle"
           },
           "mode": "lines+markers",
           "name": "False, last",
           "orientation": "v",
           "showlegend": false,
           "type": "scatter",
           "x": [
            0
           ],
           "xaxis": "x",
           "y": [
            0
           ],
           "yaxis": "y"
          },
          {
           "hovertemplate": "<b>%{hovertext}</b><br><br>main=False<br>type=next<br>step=5<br>name=1<br>x=%{x}<br>y=%{y}<extra></extra>",
           "hovertext": [
            "Next node of 1 <br> reward: 1.0 <br> action: [3, 2, 2, 3, 3, 1, 2, 1, 4, 5] <br> in system: 0.0"
           ],
           "legendgroup": "False, next",
           "line": {
            "color": "#EF553B",
            "dash": "solid"
           },
           "marker": {
            "symbol": "diamond"
           },
           "mode": "lines+markers",
           "name": "False, next",
           "orientation": "v",
           "showlegend": true,
           "type": "scatter",
           "x": [
            1
           ],
           "xaxis": "x",
           "y": [
            0.86
           ],
           "yaxis": "y"
          },
          {
           "hovertemplate": "<b>%{hovertext}</b><br><br>main=False<br>type=next<br>step=5<br>name=2<br>x=%{x}<br>y=%{y}<extra></extra>",
           "hovertext": [
            "Next node of 2 <br> reward: 1.0 <br> action: [3, 2, 2, 3, 3, 1, 2, 1, 4, 5] <br> in system: 0.0"
           ],
           "legendgroup": "False, next",
           "line": {
            "color": "#EF553B",
            "dash": "solid"
           },
           "marker": {
            "symbol": "diamond"
           },
           "mode": "lines+markers",
           "name": "False, next",
           "orientation": "v",
           "showlegend": false,
           "type": "scatter",
           "x": [
            0
           ],
           "xaxis": "x",
           "y": [
            0
           ],
           "yaxis": "y"
          },
          {
           "hovertemplate": "<b>%{hovertext}</b><br><br>main=False<br>type=next<br>step=5<br>name=3<br>x=%{x}<br>y=%{y}<extra></extra>",
           "hovertext": [
            "Next node of 3 <br> reward: 1.0 <br> action: [3, 2, 2, 3, 3, 1, 2, 1, 4, 5] <br> in system: 1.0"
           ],
           "legendgroup": "False, next",
           "line": {
            "color": "#EF553B",
            "dash": "solid"
           },
           "marker": {
            "symbol": "diamond"
           },
           "mode": "lines+markers",
           "name": "False, next",
           "orientation": "v",
           "showlegend": false,
           "type": "scatter",
           "x": [
            1
           ],
           "xaxis": "x",
           "y": [
            0.86
           ],
           "yaxis": "y"
          },
          {
           "hovertemplate": "<b>%{hovertext}</b><br><br>main=False<br>type=next<br>step=5<br>name=4<br>x=%{x}<br>y=%{y}<extra></extra>",
           "hovertext": [
            "Next node of 4 <br> reward: 1.0 <br> action: [3, 2, 2, 3, 3, 1, 2, 1, 4, 5] <br> in system: 0.0"
           ],
           "legendgroup": "False, next",
           "line": {
            "color": "#EF553B",
            "dash": "solid"
           },
           "marker": {
            "symbol": "diamond"
           },
           "mode": "lines+markers",
           "name": "False, next",
           "orientation": "v",
           "showlegend": false,
           "type": "scatter",
           "x": [
            1
           ],
           "xaxis": "x",
           "y": [
            0.76
           ],
           "yaxis": "y"
          },
          {
           "hovertemplate": "<b>%{hovertext}</b><br><br>main=False<br>type=next<br>step=5<br>name=5<br>x=%{x}<br>y=%{y}<extra></extra>",
           "hovertext": [
            "Next node of 5 <br> reward: 1.0 <br> action: [3, 2, 2, 3, 3, 1, 2, 1, 4, 5] <br> in system: 0.0"
           ],
           "legendgroup": "False, next",
           "line": {
            "color": "#EF553B",
            "dash": "solid"
           },
           "marker": {
            "symbol": "diamond"
           },
           "mode": "lines+markers",
           "name": "False, next",
           "orientation": "v",
           "showlegend": false,
           "type": "scatter",
           "x": [
            0
           ],
           "xaxis": "x",
           "y": [
            0
           ],
           "yaxis": "y"
          },
          {
           "hovertemplate": "<b>%{hovertext}</b><br><br>main=False<br>type=next<br>step=5<br>name=6<br>x=%{x}<br>y=%{y}<extra></extra>",
           "hovertext": [
            "Next node of 6 <br> reward: 1.0 <br> action: [3, 2, 2, 3, 3, 1, 2, 1, 4, 5] <br> in system: 1.0"
           ],
           "legendgroup": "False, next",
           "line": {
            "color": "#EF553B",
            "dash": "solid"
           },
           "marker": {
            "symbol": "diamond"
           },
           "mode": "lines+markers",
           "name": "False, next",
           "orientation": "v",
           "showlegend": false,
           "type": "scatter",
           "x": [
            0.7613636363636364
           ],
           "xaxis": "x",
           "y": [
            0.86
           ],
           "yaxis": "y"
          },
          {
           "hovertemplate": "<b>%{hovertext}</b><br><br>main=False<br>type=next<br>step=5<br>name=7<br>x=%{x}<br>y=%{y}<extra></extra>",
           "hovertext": [
            "Next node of 7 <br> reward: 1.0 <br> action: [3, 2, 2, 3, 3, 1, 2, 1, 4, 5] <br> in system: 1.0"
           ],
           "legendgroup": "False, next",
           "line": {
            "color": "#EF553B",
            "dash": "solid"
           },
           "marker": {
            "symbol": "diamond"
           },
           "mode": "lines+markers",
           "name": "False, next",
           "orientation": "v",
           "showlegend": false,
           "type": "scatter",
           "x": [
            0.42045454545454547
           ],
           "xaxis": "x",
           "y": [
            0.48
           ],
           "yaxis": "y"
          },
          {
           "hovertemplate": "<b>%{hovertext}</b><br><br>main=False<br>type=next<br>step=5<br>name=8<br>x=%{x}<br>y=%{y}<extra></extra>",
           "hovertext": [
            "Next node of 8 <br> reward: 1.0 <br> action: [3, 2, 2, 3, 3, 1, 2, 1, 4, 5] <br> in system: 0.0"
           ],
           "legendgroup": "False, next",
           "line": {
            "color": "#EF553B",
            "dash": "solid"
           },
           "marker": {
            "symbol": "diamond"
           },
           "mode": "lines+markers",
           "name": "False, next",
           "orientation": "v",
           "showlegend": false,
           "type": "scatter",
           "x": [
            0
           ],
           "xaxis": "x",
           "y": [
            0
           ],
           "yaxis": "y"
          },
          {
           "hovertemplate": "<b>%{hovertext}</b><br><br>main=False<br>type=next<br>step=5<br>name=9<br>x=%{x}<br>y=%{y}<extra></extra>",
           "hovertext": [
            "Next node of 9 <br> reward: 1.0 <br> action: [3, 2, 2, 3, 3, 1, 2, 1, 4, 5] <br> in system: 0.0"
           ],
           "legendgroup": "False, next",
           "line": {
            "color": "#EF553B",
            "dash": "solid"
           },
           "marker": {
            "symbol": "diamond"
           },
           "mode": "lines+markers",
           "name": "False, next",
           "orientation": "v",
           "showlegend": false,
           "type": "scatter",
           "x": [
            0
           ],
           "xaxis": "x",
           "y": [
            0
           ],
           "yaxis": "y"
          }
         ],
         "name": "5"
        },
        {
         "data": [
          {
           "hovertemplate": "<b>%{hovertext}</b><br><br>main=True<br>type=last<br>step=6<br>name=0<br>x=%{x}<br>y=%{y}<extra></extra>",
           "hovertext": [
            "Last node of 0 <br> reward: 1.0 <br> action: [0, 5, 5, 2, 4, 5, 0, 5, 5, 5] <br> in system: 1.0"
           ],
           "legendgroup": "True, last",
           "line": {
            "color": "#636efa",
            "dash": "solid"
           },
           "marker": {
            "symbol": "circle"
           },
           "mode": "lines+markers",
           "name": "True, last",
           "orientation": "v",
           "showlegend": true,
           "type": "scatter",
           "x": [
            1
           ],
           "xaxis": "x",
           "y": [
            0.86
           ],
           "yaxis": "y"
          },
          {
           "hovertemplate": "<b>%{hovertext}</b><br><br>main=True<br>type=next<br>step=6<br>name=0<br>x=%{x}<br>y=%{y}<extra></extra>",
           "hovertext": [
            "Next node of 0 <br> reward: 1.0 <br> action: [0, 5, 5, 2, 4, 5, 0, 5, 5, 5] <br> in system: 1.0"
           ],
           "legendgroup": "True, next",
           "line": {
            "color": "#636efa",
            "dash": "solid"
           },
           "marker": {
            "symbol": "diamond"
           },
           "mode": "lines+markers",
           "name": "True, next",
           "orientation": "v",
           "showlegend": true,
           "type": "scatter",
           "x": [
            1
           ],
           "xaxis": "x",
           "y": [
            0.86
           ],
           "yaxis": "y"
          },
          {
           "hovertemplate": "<b>%{hovertext}</b><br><br>main=False<br>type=last<br>step=6<br>name=1<br>x=%{x}<br>y=%{y}<extra></extra>",
           "hovertext": [
            "Last node of 1 <br> reward: 1.0 <br> action: [0, 5, 5, 2, 4, 5, 0, 5, 5, 5] <br> in system: 1.0"
           ],
           "legendgroup": "False, last",
           "line": {
            "color": "#EF553B",
            "dash": "solid"
           },
           "marker": {
            "symbol": "circle"
           },
           "mode": "lines+markers",
           "name": "False, last",
           "orientation": "v",
           "showlegend": true,
           "type": "scatter",
           "x": [
            0.42045454545454547
           ],
           "xaxis": "x",
           "y": [
            0.38
           ],
           "yaxis": "y"
          },
          {
           "hovertemplate": "<b>%{hovertext}</b><br><br>main=False<br>type=last<br>step=6<br>name=2<br>x=%{x}<br>y=%{y}<extra></extra>",
           "hovertext": [
            "Last node of 2 <br> reward: 1.0 <br> action: [0, 5, 5, 2, 4, 5, 0, 5, 5, 5] <br> in system: 1.0"
           ],
           "legendgroup": "False, last",
           "line": {
            "color": "#EF553B",
            "dash": "solid"
           },
           "marker": {
            "symbol": "circle"
           },
           "mode": "lines+markers",
           "name": "False, last",
           "orientation": "v",
           "showlegend": false,
           "type": "scatter",
           "x": [
            0.42045454545454547
           ],
           "xaxis": "x",
           "y": [
            0.76
           ],
           "yaxis": "y"
          },
          {
           "hovertemplate": "<b>%{hovertext}</b><br><br>main=False<br>type=last<br>step=6<br>name=3<br>x=%{x}<br>y=%{y}<extra></extra>",
           "hovertext": [
            "Last node of 3 <br> reward: 1.0 <br> action: [0, 5, 5, 2, 4, 5, 0, 5, 5, 5] <br> in system: 1.0"
           ],
           "legendgroup": "False, last",
           "line": {
            "color": "#EF553B",
            "dash": "solid"
           },
           "marker": {
            "symbol": "circle"
           },
           "mode": "lines+markers",
           "name": "False, last",
           "orientation": "v",
           "showlegend": false,
           "type": "scatter",
           "x": [
            0.7613636363636364
           ],
           "xaxis": "x",
           "y": [
            0.76
           ],
           "yaxis": "y"
          },
          {
           "hovertemplate": "<b>%{hovertext}</b><br><br>main=False<br>type=last<br>step=6<br>name=4<br>x=%{x}<br>y=%{y}<extra></extra>",
           "hovertext": [
            "Last node of 4 <br> reward: 1.0 <br> action: [0, 5, 5, 2, 4, 5, 0, 5, 5, 5] <br> in system: 0.0"
           ],
           "legendgroup": "False, last",
           "line": {
            "color": "#EF553B",
            "dash": "solid"
           },
           "marker": {
            "symbol": "circle"
           },
           "mode": "lines+markers",
           "name": "False, last",
           "orientation": "v",
           "showlegend": false,
           "type": "scatter",
           "x": [
            0
           ],
           "xaxis": "x",
           "y": [
            0
           ],
           "yaxis": "y"
          },
          {
           "hovertemplate": "<b>%{hovertext}</b><br><br>main=False<br>type=last<br>step=6<br>name=5<br>x=%{x}<br>y=%{y}<extra></extra>",
           "hovertext": [
            "Last node of 5 <br> reward: 1.0 <br> action: [0, 5, 5, 2, 4, 5, 0, 5, 5, 5] <br> in system: 1.0"
           ],
           "legendgroup": "False, last",
           "line": {
            "color": "#EF553B",
            "dash": "solid"
           },
           "marker": {
            "symbol": "circle"
           },
           "mode": "lines+markers",
           "name": "False, last",
           "orientation": "v",
           "showlegend": false,
           "type": "scatter",
           "x": [
            0.32954545454545453
           ],
           "xaxis": "x",
           "y": [
            0.428
           ],
           "yaxis": "y"
          },
          {
           "hovertemplate": "<b>%{hovertext}</b><br><br>main=False<br>type=last<br>step=6<br>name=6<br>x=%{x}<br>y=%{y}<extra></extra>",
           "hovertext": [
            "Last node of 6 <br> reward: 1.0 <br> action: [0, 5, 5, 2, 4, 5, 0, 5, 5, 5] <br> in system: 0.0"
           ],
           "legendgroup": "False, last",
           "line": {
            "color": "#EF553B",
            "dash": "solid"
           },
           "marker": {
            "symbol": "circle"
           },
           "mode": "lines+markers",
           "name": "False, last",
           "orientation": "v",
           "showlegend": false,
           "type": "scatter",
           "x": [
            0
           ],
           "xaxis": "x",
           "y": [
            0
           ],
           "yaxis": "y"
          },
          {
           "hovertemplate": "<b>%{hovertext}</b><br><br>main=False<br>type=last<br>step=6<br>name=7<br>x=%{x}<br>y=%{y}<extra></extra>",
           "hovertext": [
            "Last node of 7 <br> reward: 1.0 <br> action: [0, 5, 5, 2, 4, 5, 0, 5, 5, 5] <br> in system: 0.0"
           ],
           "legendgroup": "False, last",
           "line": {
            "color": "#EF553B",
            "dash": "solid"
           },
           "marker": {
            "symbol": "circle"
           },
           "mode": "lines+markers",
           "name": "False, last",
           "orientation": "v",
           "showlegend": false,
           "type": "scatter",
           "x": [
            0
           ],
           "xaxis": "x",
           "y": [
            0
           ],
           "yaxis": "y"
          },
          {
           "hovertemplate": "<b>%{hovertext}</b><br><br>main=False<br>type=last<br>step=6<br>name=8<br>x=%{x}<br>y=%{y}<extra></extra>",
           "hovertext": [
            "Last node of 8 <br> reward: 1.0 <br> action: [0, 5, 5, 2, 4, 5, 0, 5, 5, 5] <br> in system: 0.0"
           ],
           "legendgroup": "False, last",
           "line": {
            "color": "#EF553B",
            "dash": "solid"
           },
           "marker": {
            "symbol": "circle"
           },
           "mode": "lines+markers",
           "name": "False, last",
           "orientation": "v",
           "showlegend": false,
           "type": "scatter",
           "x": [
            0
           ],
           "xaxis": "x",
           "y": [
            0
           ],
           "yaxis": "y"
          },
          {
           "hovertemplate": "<b>%{hovertext}</b><br><br>main=False<br>type=last<br>step=6<br>name=9<br>x=%{x}<br>y=%{y}<extra></extra>",
           "hovertext": [
            "Last node of 9 <br> reward: 1.0 <br> action: [0, 5, 5, 2, 4, 5, 0, 5, 5, 5] <br> in system: 1.0"
           ],
           "legendgroup": "False, last",
           "line": {
            "color": "#EF553B",
            "dash": "solid"
           },
           "marker": {
            "symbol": "circle"
           },
           "mode": "lines+markers",
           "name": "False, last",
           "orientation": "v",
           "showlegend": false,
           "type": "scatter",
           "x": [
            0.9431818181818182
           ],
           "xaxis": "x",
           "y": [
            0.86
           ],
           "yaxis": "y"
          },
          {
           "hovertemplate": "<b>%{hovertext}</b><br><br>main=False<br>type=next<br>step=6<br>name=1<br>x=%{x}<br>y=%{y}<extra></extra>",
           "hovertext": [
            "Next node of 1 <br> reward: 1.0 <br> action: [0, 5, 5, 2, 4, 5, 0, 5, 5, 5] <br> in system: 1.0"
           ],
           "legendgroup": "False, next",
           "line": {
            "color": "#EF553B",
            "dash": "solid"
           },
           "marker": {
            "symbol": "diamond"
           },
           "mode": "lines+markers",
           "name": "False, next",
           "orientation": "v",
           "showlegend": true,
           "type": "scatter",
           "x": [
            0.42045454545454547
           ],
           "xaxis": "x",
           "y": [
            0.38
           ],
           "yaxis": "y"
          },
          {
           "hovertemplate": "<b>%{hovertext}</b><br><br>main=False<br>type=next<br>step=6<br>name=2<br>x=%{x}<br>y=%{y}<extra></extra>",
           "hovertext": [
            "Next node of 2 <br> reward: 1.0 <br> action: [0, 5, 5, 2, 4, 5, 0, 5, 5, 5] <br> in system: 1.0"
           ],
           "legendgroup": "False, next",
           "line": {
            "color": "#EF553B",
            "dash": "solid"
           },
           "marker": {
            "symbol": "diamond"
           },
           "mode": "lines+markers",
           "name": "False, next",
           "orientation": "v",
           "showlegend": false,
           "type": "scatter",
           "x": [
            0.42045454545454547
           ],
           "xaxis": "x",
           "y": [
            0.48
           ],
           "yaxis": "y"
          },
          {
           "hovertemplate": "<b>%{hovertext}</b><br><br>main=False<br>type=next<br>step=6<br>name=3<br>x=%{x}<br>y=%{y}<extra></extra>",
           "hovertext": [
            "Next node of 3 <br> reward: 1.0 <br> action: [0, 5, 5, 2, 4, 5, 0, 5, 5, 5] <br> in system: 1.0"
           ],
           "legendgroup": "False, next",
           "line": {
            "color": "#EF553B",
            "dash": "solid"
           },
           "marker": {
            "symbol": "diamond"
           },
           "mode": "lines+markers",
           "name": "False, next",
           "orientation": "v",
           "showlegend": false,
           "type": "scatter",
           "x": [
            0.7613636363636364
           ],
           "xaxis": "x",
           "y": [
            0.86
           ],
           "yaxis": "y"
          },
          {
           "hovertemplate": "<b>%{hovertext}</b><br><br>main=False<br>type=next<br>step=6<br>name=4<br>x=%{x}<br>y=%{y}<extra></extra>",
           "hovertext": [
            "Next node of 4 <br> reward: 1.0 <br> action: [0, 5, 5, 2, 4, 5, 0, 5, 5, 5] <br> in system: 0.0"
           ],
           "legendgroup": "False, next",
           "line": {
            "color": "#EF553B",
            "dash": "solid"
           },
           "marker": {
            "symbol": "diamond"
           },
           "mode": "lines+markers",
           "name": "False, next",
           "orientation": "v",
           "showlegend": false,
           "type": "scatter",
           "x": [
            0
           ],
           "xaxis": "x",
           "y": [
            0
           ],
           "yaxis": "y"
          },
          {
           "hovertemplate": "<b>%{hovertext}</b><br><br>main=False<br>type=next<br>step=6<br>name=5<br>x=%{x}<br>y=%{y}<extra></extra>",
           "hovertext": [
            "Next node of 5 <br> reward: 1.0 <br> action: [0, 5, 5, 2, 4, 5, 0, 5, 5, 5] <br> in system: 1.0"
           ],
           "legendgroup": "False, next",
           "line": {
            "color": "#EF553B",
            "dash": "solid"
           },
           "marker": {
            "symbol": "diamond"
           },
           "mode": "lines+markers",
           "name": "False, next",
           "orientation": "v",
           "showlegend": false,
           "type": "scatter",
           "x": [
            0.32954545454545453
           ],
           "xaxis": "x",
           "y": [
            0.428
           ],
           "yaxis": "y"
          },
          {
           "hovertemplate": "<b>%{hovertext}</b><br><br>main=False<br>type=next<br>step=6<br>name=6<br>x=%{x}<br>y=%{y}<extra></extra>",
           "hovertext": [
            "Next node of 6 <br> reward: 1.0 <br> action: [0, 5, 5, 2, 4, 5, 0, 5, 5, 5] <br> in system: 0.0"
           ],
           "legendgroup": "False, next",
           "line": {
            "color": "#EF553B",
            "dash": "solid"
           },
           "marker": {
            "symbol": "diamond"
           },
           "mode": "lines+markers",
           "name": "False, next",
           "orientation": "v",
           "showlegend": false,
           "type": "scatter",
           "x": [
            0
           ],
           "xaxis": "x",
           "y": [
            0
           ],
           "yaxis": "y"
          },
          {
           "hovertemplate": "<b>%{hovertext}</b><br><br>main=False<br>type=next<br>step=6<br>name=7<br>x=%{x}<br>y=%{y}<extra></extra>",
           "hovertext": [
            "Next node of 7 <br> reward: 1.0 <br> action: [0, 5, 5, 2, 4, 5, 0, 5, 5, 5] <br> in system: 0.0"
           ],
           "legendgroup": "False, next",
           "line": {
            "color": "#EF553B",
            "dash": "solid"
           },
           "marker": {
            "symbol": "diamond"
           },
           "mode": "lines+markers",
           "name": "False, next",
           "orientation": "v",
           "showlegend": false,
           "type": "scatter",
           "x": [
            0
           ],
           "xaxis": "x",
           "y": [
            0
           ],
           "yaxis": "y"
          },
          {
           "hovertemplate": "<b>%{hovertext}</b><br><br>main=False<br>type=next<br>step=6<br>name=8<br>x=%{x}<br>y=%{y}<extra></extra>",
           "hovertext": [
            "Next node of 8 <br> reward: 1.0 <br> action: [0, 5, 5, 2, 4, 5, 0, 5, 5, 5] <br> in system: 0.0"
           ],
           "legendgroup": "False, next",
           "line": {
            "color": "#EF553B",
            "dash": "solid"
           },
           "marker": {
            "symbol": "diamond"
           },
           "mode": "lines+markers",
           "name": "False, next",
           "orientation": "v",
           "showlegend": false,
           "type": "scatter",
           "x": [
            0
           ],
           "xaxis": "x",
           "y": [
            0
           ],
           "yaxis": "y"
          },
          {
           "hovertemplate": "<b>%{hovertext}</b><br><br>main=False<br>type=next<br>step=6<br>name=9<br>x=%{x}<br>y=%{y}<extra></extra>",
           "hovertext": [
            "Next node of 9 <br> reward: 1.0 <br> action: [0, 5, 5, 2, 4, 5, 0, 5, 5, 5] <br> in system: 1.0"
           ],
           "legendgroup": "False, next",
           "line": {
            "color": "#EF553B",
            "dash": "solid"
           },
           "marker": {
            "symbol": "diamond"
           },
           "mode": "lines+markers",
           "name": "False, next",
           "orientation": "v",
           "showlegend": false,
           "type": "scatter",
           "x": [
            1
           ],
           "xaxis": "x",
           "y": [
            0.86
           ],
           "yaxis": "y"
          }
         ],
         "name": "6"
        },
        {
         "data": [
          {
           "hovertemplate": "<b>%{hovertext}</b><br><br>main=True<br>type=last<br>step=7<br>name=0<br>x=%{x}<br>y=%{y}<extra></extra>",
           "hovertext": [
            "Last node of 0 <br> reward: 1.0 <br> action: [5, 5, 2, 4, 3, 3, 3, 5, 1, 0] <br> in system: 1.0"
           ],
           "legendgroup": "True, last",
           "line": {
            "color": "#636efa",
            "dash": "solid"
           },
           "marker": {
            "symbol": "circle"
           },
           "mode": "lines+markers",
           "name": "True, last",
           "orientation": "v",
           "showlegend": true,
           "type": "scatter",
           "x": [
            1
           ],
           "xaxis": "x",
           "y": [
            0.86
           ],
           "yaxis": "y"
          },
          {
           "hovertemplate": "<b>%{hovertext}</b><br><br>main=True<br>type=next<br>step=7<br>name=0<br>x=%{x}<br>y=%{y}<extra></extra>",
           "hovertext": [
            "Next node of 0 <br> reward: 1.0 <br> action: [5, 5, 2, 4, 3, 3, 3, 5, 1, 0] <br> in system: 1.0"
           ],
           "legendgroup": "True, next",
           "line": {
            "color": "#636efa",
            "dash": "solid"
           },
           "marker": {
            "symbol": "diamond"
           },
           "mode": "lines+markers",
           "name": "True, next",
           "orientation": "v",
           "showlegend": true,
           "type": "scatter",
           "x": [
            1
           ],
           "xaxis": "x",
           "y": [
            0.86
           ],
           "yaxis": "y"
          },
          {
           "hovertemplate": "<b>%{hovertext}</b><br><br>main=False<br>type=last<br>step=7<br>name=1<br>x=%{x}<br>y=%{y}<extra></extra>",
           "hovertext": [
            "Last node of 1 <br> reward: 1.0 <br> action: [5, 5, 2, 4, 3, 3, 3, 5, 1, 0] <br> in system: 1.0"
           ],
           "legendgroup": "False, last",
           "line": {
            "color": "#EF553B",
            "dash": "solid"
           },
           "marker": {
            "symbol": "circle"
           },
           "mode": "lines+markers",
           "name": "False, last",
           "orientation": "v",
           "showlegend": true,
           "type": "scatter",
           "x": [
            0.7613636363636364
           ],
           "xaxis": "x",
           "y": [
            0.76
           ],
           "yaxis": "y"
          },
          {
           "hovertemplate": "<b>%{hovertext}</b><br><br>main=False<br>type=last<br>step=7<br>name=2<br>x=%{x}<br>y=%{y}<extra></extra>",
           "hovertext": [
            "Last node of 2 <br> reward: 1.0 <br> action: [5, 5, 2, 4, 3, 3, 3, 5, 1, 0] <br> in system: 1.0"
           ],
           "legendgroup": "False, last",
           "line": {
            "color": "#EF553B",
            "dash": "solid"
           },
           "marker": {
            "symbol": "circle"
           },
           "mode": "lines+markers",
           "name": "False, last",
           "orientation": "v",
           "showlegend": false,
           "type": "scatter",
           "x": [
            0.32954545454545453
           ],
           "xaxis": "x",
           "y": [
            0.428
           ],
           "yaxis": "y"
          },
          {
           "hovertemplate": "<b>%{hovertext}</b><br><br>main=False<br>type=last<br>step=7<br>name=3<br>x=%{x}<br>y=%{y}<extra></extra>",
           "hovertext": [
            "Last node of 3 <br> reward: 1.0 <br> action: [5, 5, 2, 4, 3, 3, 3, 5, 1, 0] <br> in system: 0.0"
           ],
           "legendgroup": "False, last",
           "line": {
            "color": "#EF553B",
            "dash": "solid"
           },
           "marker": {
            "symbol": "circle"
           },
           "mode": "lines+markers",
           "name": "False, last",
           "orientation": "v",
           "showlegend": false,
           "type": "scatter",
           "x": [
            0
           ],
           "xaxis": "x",
           "y": [
            0
           ],
           "yaxis": "y"
          },
          {
           "hovertemplate": "<b>%{hovertext}</b><br><br>main=False<br>type=last<br>step=7<br>name=4<br>x=%{x}<br>y=%{y}<extra></extra>",
           "hovertext": [
            "Last node of 4 <br> reward: 1.0 <br> action: [5, 5, 2, 4, 3, 3, 3, 5, 1, 0] <br> in system: 1.0"
           ],
           "legendgroup": "False, last",
           "line": {
            "color": "#EF553B",
            "dash": "solid"
           },
           "marker": {
            "symbol": "circle"
           },
           "mode": "lines+markers",
           "name": "False, last",
           "orientation": "v",
           "showlegend": false,
           "type": "scatter",
           "x": [
            0.9431818181818182
           ],
           "xaxis": "x",
           "y": [
            0.86
           ],
           "yaxis": "y"
          },
          {
           "hovertemplate": "<b>%{hovertext}</b><br><br>main=False<br>type=last<br>step=7<br>name=5<br>x=%{x}<br>y=%{y}<extra></extra>",
           "hovertext": [
            "Last node of 5 <br> reward: 1.0 <br> action: [5, 5, 2, 4, 3, 3, 3, 5, 1, 0] <br> in system: 1.0"
           ],
           "legendgroup": "False, last",
           "line": {
            "color": "#EF553B",
            "dash": "solid"
           },
           "marker": {
            "symbol": "circle"
           },
           "mode": "lines+markers",
           "name": "False, last",
           "orientation": "v",
           "showlegend": false,
           "type": "scatter",
           "x": [
            0.42045454545454547
           ],
           "xaxis": "x",
           "y": [
            0.76
           ],
           "yaxis": "y"
          },
          {
           "hovertemplate": "<b>%{hovertext}</b><br><br>main=False<br>type=last<br>step=7<br>name=6<br>x=%{x}<br>y=%{y}<extra></extra>",
           "hovertext": [
            "Last node of 6 <br> reward: 1.0 <br> action: [5, 5, 2, 4, 3, 3, 3, 5, 1, 0] <br> in system: 0.0"
           ],
           "legendgroup": "False, last",
           "line": {
            "color": "#EF553B",
            "dash": "solid"
           },
           "marker": {
            "symbol": "circle"
           },
           "mode": "lines+markers",
           "name": "False, last",
           "orientation": "v",
           "showlegend": false,
           "type": "scatter",
           "x": [
            0
           ],
           "xaxis": "x",
           "y": [
            0
           ],
           "yaxis": "y"
          },
          {
           "hovertemplate": "<b>%{hovertext}</b><br><br>main=False<br>type=last<br>step=7<br>name=7<br>x=%{x}<br>y=%{y}<extra></extra>",
           "hovertext": [
            "Last node of 7 <br> reward: 1.0 <br> action: [5, 5, 2, 4, 3, 3, 3, 5, 1, 0] <br> in system: 0.0"
           ],
           "legendgroup": "False, last",
           "line": {
            "color": "#EF553B",
            "dash": "solid"
           },
           "marker": {
            "symbol": "circle"
           },
           "mode": "lines+markers",
           "name": "False, last",
           "orientation": "v",
           "showlegend": false,
           "type": "scatter",
           "x": [
            0
           ],
           "xaxis": "x",
           "y": [
            0
           ],
           "yaxis": "y"
          },
          {
           "hovertemplate": "<b>%{hovertext}</b><br><br>main=False<br>type=last<br>step=7<br>name=8<br>x=%{x}<br>y=%{y}<extra></extra>",
           "hovertext": [
            "Last node of 8 <br> reward: 1.0 <br> action: [5, 5, 2, 4, 3, 3, 3, 5, 1, 0] <br> in system: 1.0"
           ],
           "legendgroup": "False, last",
           "line": {
            "color": "#EF553B",
            "dash": "solid"
           },
           "marker": {
            "symbol": "circle"
           },
           "mode": "lines+markers",
           "name": "False, last",
           "orientation": "v",
           "showlegend": false,
           "type": "scatter",
           "x": [
            0.42045454545454547
           ],
           "xaxis": "x",
           "y": [
            0.38
           ],
           "yaxis": "y"
          },
          {
           "hovertemplate": "<b>%{hovertext}</b><br><br>main=False<br>type=last<br>step=7<br>name=9<br>x=%{x}<br>y=%{y}<extra></extra>",
           "hovertext": [
            "Last node of 9 <br> reward: 1.0 <br> action: [5, 5, 2, 4, 3, 3, 3, 5, 1, 0] <br> in system: 0.0"
           ],
           "legendgroup": "False, last",
           "line": {
            "color": "#EF553B",
            "dash": "solid"
           },
           "marker": {
            "symbol": "circle"
           },
           "mode": "lines+markers",
           "name": "False, last",
           "orientation": "v",
           "showlegend": false,
           "type": "scatter",
           "x": [
            0
           ],
           "xaxis": "x",
           "y": [
            0
           ],
           "yaxis": "y"
          },
          {
           "hovertemplate": "<b>%{hovertext}</b><br><br>main=False<br>type=next<br>step=7<br>name=1<br>x=%{x}<br>y=%{y}<extra></extra>",
           "hovertext": [
            "Next node of 1 <br> reward: 1.0 <br> action: [5, 5, 2, 4, 3, 3, 3, 5, 1, 0] <br> in system: 1.0"
           ],
           "legendgroup": "False, next",
           "line": {
            "color": "#EF553B",
            "dash": "solid"
           },
           "marker": {
            "symbol": "diamond"
           },
           "mode": "lines+markers",
           "name": "False, next",
           "orientation": "v",
           "showlegend": true,
           "type": "scatter",
           "x": [
            0.7613636363636364
           ],
           "xaxis": "x",
           "y": [
            0.86
           ],
           "yaxis": "y"
          },
          {
           "hovertemplate": "<b>%{hovertext}</b><br><br>main=False<br>type=next<br>step=7<br>name=2<br>x=%{x}<br>y=%{y}<extra></extra>",
           "hovertext": [
            "Next node of 2 <br> reward: 1.0 <br> action: [5, 5, 2, 4, 3, 3, 3, 5, 1, 0] <br> in system: 1.0"
           ],
           "legendgroup": "False, next",
           "line": {
            "color": "#EF553B",
            "dash": "solid"
           },
           "marker": {
            "symbol": "diamond"
           },
           "mode": "lines+markers",
           "name": "False, next",
           "orientation": "v",
           "showlegend": false,
           "type": "scatter",
           "x": [
            0.32954545454545453
           ],
           "xaxis": "x",
           "y": [
            0.428
           ],
           "yaxis": "y"
          },
          {
           "hovertemplate": "<b>%{hovertext}</b><br><br>main=False<br>type=next<br>step=7<br>name=3<br>x=%{x}<br>y=%{y}<extra></extra>",
           "hovertext": [
            "Next node of 3 <br> reward: 1.0 <br> action: [5, 5, 2, 4, 3, 3, 3, 5, 1, 0] <br> in system: 0.0"
           ],
           "legendgroup": "False, next",
           "line": {
            "color": "#EF553B",
            "dash": "solid"
           },
           "marker": {
            "symbol": "diamond"
           },
           "mode": "lines+markers",
           "name": "False, next",
           "orientation": "v",
           "showlegend": false,
           "type": "scatter",
           "x": [
            0
           ],
           "xaxis": "x",
           "y": [
            0
           ],
           "yaxis": "y"
          },
          {
           "hovertemplate": "<b>%{hovertext}</b><br><br>main=False<br>type=next<br>step=7<br>name=4<br>x=%{x}<br>y=%{y}<extra></extra>",
           "hovertext": [
            "Next node of 4 <br> reward: 1.0 <br> action: [5, 5, 2, 4, 3, 3, 3, 5, 1, 0] <br> in system: 1.0"
           ],
           "legendgroup": "False, next",
           "line": {
            "color": "#EF553B",
            "dash": "solid"
           },
           "marker": {
            "symbol": "diamond"
           },
           "mode": "lines+markers",
           "name": "False, next",
           "orientation": "v",
           "showlegend": false,
           "type": "scatter",
           "x": [
            1
           ],
           "xaxis": "x",
           "y": [
            0.86
           ],
           "yaxis": "y"
          },
          {
           "hovertemplate": "<b>%{hovertext}</b><br><br>main=False<br>type=next<br>step=7<br>name=5<br>x=%{x}<br>y=%{y}<extra></extra>",
           "hovertext": [
            "Next node of 5 <br> reward: 1.0 <br> action: [5, 5, 2, 4, 3, 3, 3, 5, 1, 0] <br> in system: 1.0"
           ],
           "legendgroup": "False, next",
           "line": {
            "color": "#EF553B",
            "dash": "solid"
           },
           "marker": {
            "symbol": "diamond"
           },
           "mode": "lines+markers",
           "name": "False, next",
           "orientation": "v",
           "showlegend": false,
           "type": "scatter",
           "x": [
            0.42045454545454547
           ],
           "xaxis": "x",
           "y": [
            0.48
           ],
           "yaxis": "y"
          },
          {
           "hovertemplate": "<b>%{hovertext}</b><br><br>main=False<br>type=next<br>step=7<br>name=6<br>x=%{x}<br>y=%{y}<extra></extra>",
           "hovertext": [
            "Next node of 6 <br> reward: 1.0 <br> action: [5, 5, 2, 4, 3, 3, 3, 5, 1, 0] <br> in system: 0.0"
           ],
           "legendgroup": "False, next",
           "line": {
            "color": "#EF553B",
            "dash": "solid"
           },
           "marker": {
            "symbol": "diamond"
           },
           "mode": "lines+markers",
           "name": "False, next",
           "orientation": "v",
           "showlegend": false,
           "type": "scatter",
           "x": [
            0
           ],
           "xaxis": "x",
           "y": [
            0
           ],
           "yaxis": "y"
          },
          {
           "hovertemplate": "<b>%{hovertext}</b><br><br>main=False<br>type=next<br>step=7<br>name=7<br>x=%{x}<br>y=%{y}<extra></extra>",
           "hovertext": [
            "Next node of 7 <br> reward: 1.0 <br> action: [5, 5, 2, 4, 3, 3, 3, 5, 1, 0] <br> in system: 0.0"
           ],
           "legendgroup": "False, next",
           "line": {
            "color": "#EF553B",
            "dash": "solid"
           },
           "marker": {
            "symbol": "diamond"
           },
           "mode": "lines+markers",
           "name": "False, next",
           "orientation": "v",
           "showlegend": false,
           "type": "scatter",
           "x": [
            0
           ],
           "xaxis": "x",
           "y": [
            0
           ],
           "yaxis": "y"
          },
          {
           "hovertemplate": "<b>%{hovertext}</b><br><br>main=False<br>type=next<br>step=7<br>name=8<br>x=%{x}<br>y=%{y}<extra></extra>",
           "hovertext": [
            "Next node of 8 <br> reward: 1.0 <br> action: [5, 5, 2, 4, 3, 3, 3, 5, 1, 0] <br> in system: 1.0"
           ],
           "legendgroup": "False, next",
           "line": {
            "color": "#EF553B",
            "dash": "solid"
           },
           "marker": {
            "symbol": "diamond"
           },
           "mode": "lines+markers",
           "name": "False, next",
           "orientation": "v",
           "showlegend": false,
           "type": "scatter",
           "x": [
            0.42045454545454547
           ],
           "xaxis": "x",
           "y": [
            0.38
           ],
           "yaxis": "y"
          },
          {
           "hovertemplate": "<b>%{hovertext}</b><br><br>main=False<br>type=next<br>step=7<br>name=9<br>x=%{x}<br>y=%{y}<extra></extra>",
           "hovertext": [
            "Next node of 9 <br> reward: 1.0 <br> action: [5, 5, 2, 4, 3, 3, 3, 5, 1, 0] <br> in system: 0.0"
           ],
           "legendgroup": "False, next",
           "line": {
            "color": "#EF553B",
            "dash": "solid"
           },
           "marker": {
            "symbol": "diamond"
           },
           "mode": "lines+markers",
           "name": "False, next",
           "orientation": "v",
           "showlegend": false,
           "type": "scatter",
           "x": [
            0
           ],
           "xaxis": "x",
           "y": [
            0
           ],
           "yaxis": "y"
          }
         ],
         "name": "7"
        },
        {
         "data": [
          {
           "hovertemplate": "<b>%{hovertext}</b><br><br>main=True<br>type=last<br>step=8<br>name=0<br>x=%{x}<br>y=%{y}<extra></extra>",
           "hovertext": [
            "Last node of 0 <br> reward: 1.0 <br> action: [3, 1, 0, 1, 5, 5, 4, 3, 2, 0] <br> in system: 1.0"
           ],
           "legendgroup": "True, last",
           "line": {
            "color": "#636efa",
            "dash": "solid"
           },
           "marker": {
            "symbol": "circle"
           },
           "mode": "lines+markers",
           "name": "True, last",
           "orientation": "v",
           "showlegend": true,
           "type": "scatter",
           "x": [
            1
           ],
           "xaxis": "x",
           "y": [
            0.86
           ],
           "yaxis": "y"
          },
          {
           "hovertemplate": "<b>%{hovertext}</b><br><br>main=True<br>type=next<br>step=8<br>name=0<br>x=%{x}<br>y=%{y}<extra></extra>",
           "hovertext": [
            "Next node of 0 <br> reward: 1.0 <br> action: [3, 1, 0, 1, 5, 5, 4, 3, 2, 0] <br> in system: 1.0"
           ],
           "legendgroup": "True, next",
           "line": {
            "color": "#636efa",
            "dash": "solid"
           },
           "marker": {
            "symbol": "diamond"
           },
           "mode": "lines+markers",
           "name": "True, next",
           "orientation": "v",
           "showlegend": true,
           "type": "scatter",
           "x": [
            1
           ],
           "xaxis": "x",
           "y": [
            0.86
           ],
           "yaxis": "y"
          },
          {
           "hovertemplate": "<b>%{hovertext}</b><br><br>main=False<br>type=last<br>step=8<br>name=1<br>x=%{x}<br>y=%{y}<extra></extra>",
           "hovertext": [
            "Last node of 1 <br> reward: 1.0 <br> action: [3, 1, 0, 1, 5, 5, 4, 3, 2, 0] <br> in system: 1.0"
           ],
           "legendgroup": "False, last",
           "line": {
            "color": "#EF553B",
            "dash": "solid"
           },
           "marker": {
            "symbol": "circle"
           },
           "mode": "lines+markers",
           "name": "False, last",
           "orientation": "v",
           "showlegend": true,
           "type": "scatter",
           "x": [
            0.7613636363636364
           ],
           "xaxis": "x",
           "y": [
            0.76
           ],
           "yaxis": "y"
          },
          {
           "hovertemplate": "<b>%{hovertext}</b><br><br>main=False<br>type=last<br>step=8<br>name=2<br>x=%{x}<br>y=%{y}<extra></extra>",
           "hovertext": [
            "Last node of 2 <br> reward: 1.0 <br> action: [3, 1, 0, 1, 5, 5, 4, 3, 2, 0] <br> in system: 0.0"
           ],
           "legendgroup": "False, last",
           "line": {
            "color": "#EF553B",
            "dash": "solid"
           },
           "marker": {
            "symbol": "circle"
           },
           "mode": "lines+markers",
           "name": "False, last",
           "orientation": "v",
           "showlegend": false,
           "type": "scatter",
           "x": [
            0
           ],
           "xaxis": "x",
           "y": [
            0
           ],
           "yaxis": "y"
          },
          {
           "hovertemplate": "<b>%{hovertext}</b><br><br>main=False<br>type=last<br>step=8<br>name=3<br>x=%{x}<br>y=%{y}<extra></extra>",
           "hovertext": [
            "Last node of 3 <br> reward: 1.0 <br> action: [3, 1, 0, 1, 5, 5, 4, 3, 2, 0] <br> in system: 0.0"
           ],
           "legendgroup": "False, last",
           "line": {
            "color": "#EF553B",
            "dash": "solid"
           },
           "marker": {
            "symbol": "circle"
           },
           "mode": "lines+markers",
           "name": "False, last",
           "orientation": "v",
           "showlegend": false,
           "type": "scatter",
           "x": [
            0
           ],
           "xaxis": "x",
           "y": [
            0
           ],
           "yaxis": "y"
          },
          {
           "hovertemplate": "<b>%{hovertext}</b><br><br>main=False<br>type=last<br>step=8<br>name=4<br>x=%{x}<br>y=%{y}<extra></extra>",
           "hovertext": [
            "Last node of 4 <br> reward: 1.0 <br> action: [3, 1, 0, 1, 5, 5, 4, 3, 2, 0] <br> in system: 1.0"
           ],
           "legendgroup": "False, last",
           "line": {
            "color": "#EF553B",
            "dash": "solid"
           },
           "marker": {
            "symbol": "circle"
           },
           "mode": "lines+markers",
           "name": "False, last",
           "orientation": "v",
           "showlegend": false,
           "type": "scatter",
           "x": [
            0.32954545454545453
           ],
           "xaxis": "x",
           "y": [
            0.428
           ],
           "yaxis": "y"
          },
          {
           "hovertemplate": "<b>%{hovertext}</b><br><br>main=False<br>type=last<br>step=8<br>name=5<br>x=%{x}<br>y=%{y}<extra></extra>",
           "hovertext": [
            "Last node of 5 <br> reward: 1.0 <br> action: [3, 1, 0, 1, 5, 5, 4, 3, 2, 0] <br> in system: 0.0"
           ],
           "legendgroup": "False, last",
           "line": {
            "color": "#EF553B",
            "dash": "solid"
           },
           "marker": {
            "symbol": "circle"
           },
           "mode": "lines+markers",
           "name": "False, last",
           "orientation": "v",
           "showlegend": false,
           "type": "scatter",
           "x": [
            0
           ],
           "xaxis": "x",
           "y": [
            0
           ],
           "yaxis": "y"
          },
          {
           "hovertemplate": "<b>%{hovertext}</b><br><br>main=False<br>type=last<br>step=8<br>name=6<br>x=%{x}<br>y=%{y}<extra></extra>",
           "hovertext": [
            "Last node of 6 <br> reward: 1.0 <br> action: [3, 1, 0, 1, 5, 5, 4, 3, 2, 0] <br> in system: 1.0"
           ],
           "legendgroup": "False, last",
           "line": {
            "color": "#EF553B",
            "dash": "solid"
           },
           "marker": {
            "symbol": "circle"
           },
           "mode": "lines+markers",
           "name": "False, last",
           "orientation": "v",
           "showlegend": false,
           "type": "scatter",
           "x": [
            0.9431818181818182
           ],
           "xaxis": "x",
           "y": [
            0.86
           ],
           "yaxis": "y"
          },
          {
           "hovertemplate": "<b>%{hovertext}</b><br><br>main=False<br>type=last<br>step=8<br>name=7<br>x=%{x}<br>y=%{y}<extra></extra>",
           "hovertext": [
            "Last node of 7 <br> reward: 1.0 <br> action: [3, 1, 0, 1, 5, 5, 4, 3, 2, 0] <br> in system: 1.0"
           ],
           "legendgroup": "False, last",
           "line": {
            "color": "#EF553B",
            "dash": "solid"
           },
           "marker": {
            "symbol": "circle"
           },
           "mode": "lines+markers",
           "name": "False, last",
           "orientation": "v",
           "showlegend": false,
           "type": "scatter",
           "x": [
            0.42045454545454547
           ],
           "xaxis": "x",
           "y": [
            0.76
           ],
           "yaxis": "y"
          },
          {
           "hovertemplate": "<b>%{hovertext}</b><br><br>main=False<br>type=last<br>step=8<br>name=8<br>x=%{x}<br>y=%{y}<extra></extra>",
           "hovertext": [
            "Last node of 8 <br> reward: 1.0 <br> action: [3, 1, 0, 1, 5, 5, 4, 3, 2, 0] <br> in system: 0.0"
           ],
           "legendgroup": "False, last",
           "line": {
            "color": "#EF553B",
            "dash": "solid"
           },
           "marker": {
            "symbol": "circle"
           },
           "mode": "lines+markers",
           "name": "False, last",
           "orientation": "v",
           "showlegend": false,
           "type": "scatter",
           "x": [
            0
           ],
           "xaxis": "x",
           "y": [
            0
           ],
           "yaxis": "y"
          },
          {
           "hovertemplate": "<b>%{hovertext}</b><br><br>main=False<br>type=last<br>step=8<br>name=9<br>x=%{x}<br>y=%{y}<extra></extra>",
           "hovertext": [
            "Last node of 9 <br> reward: 1.0 <br> action: [3, 1, 0, 1, 5, 5, 4, 3, 2, 0] <br> in system: 1.0"
           ],
           "legendgroup": "False, last",
           "line": {
            "color": "#EF553B",
            "dash": "solid"
           },
           "marker": {
            "symbol": "circle"
           },
           "mode": "lines+markers",
           "name": "False, last",
           "orientation": "v",
           "showlegend": false,
           "type": "scatter",
           "x": [
            0.42045454545454547
           ],
           "xaxis": "x",
           "y": [
            0.38
           ],
           "yaxis": "y"
          },
          {
           "hovertemplate": "<b>%{hovertext}</b><br><br>main=False<br>type=next<br>step=8<br>name=1<br>x=%{x}<br>y=%{y}<extra></extra>",
           "hovertext": [
            "Next node of 1 <br> reward: 1.0 <br> action: [3, 1, 0, 1, 5, 5, 4, 3, 2, 0] <br> in system: 1.0"
           ],
           "legendgroup": "False, next",
           "line": {
            "color": "#EF553B",
            "dash": "solid"
           },
           "marker": {
            "symbol": "diamond"
           },
           "mode": "lines+markers",
           "name": "False, next",
           "orientation": "v",
           "showlegend": true,
           "type": "scatter",
           "x": [
            0.7613636363636364
           ],
           "xaxis": "x",
           "y": [
            0.86
           ],
           "yaxis": "y"
          },
          {
           "hovertemplate": "<b>%{hovertext}</b><br><br>main=False<br>type=next<br>step=8<br>name=2<br>x=%{x}<br>y=%{y}<extra></extra>",
           "hovertext": [
            "Next node of 2 <br> reward: 1.0 <br> action: [3, 1, 0, 1, 5, 5, 4, 3, 2, 0] <br> in system: 0.0"
           ],
           "legendgroup": "False, next",
           "line": {
            "color": "#EF553B",
            "dash": "solid"
           },
           "marker": {
            "symbol": "diamond"
           },
           "mode": "lines+markers",
           "name": "False, next",
           "orientation": "v",
           "showlegend": false,
           "type": "scatter",
           "x": [
            0
           ],
           "xaxis": "x",
           "y": [
            0
           ],
           "yaxis": "y"
          },
          {
           "hovertemplate": "<b>%{hovertext}</b><br><br>main=False<br>type=next<br>step=8<br>name=3<br>x=%{x}<br>y=%{y}<extra></extra>",
           "hovertext": [
            "Next node of 3 <br> reward: 1.0 <br> action: [3, 1, 0, 1, 5, 5, 4, 3, 2, 0] <br> in system: 0.0"
           ],
           "legendgroup": "False, next",
           "line": {
            "color": "#EF553B",
            "dash": "solid"
           },
           "marker": {
            "symbol": "diamond"
           },
           "mode": "lines+markers",
           "name": "False, next",
           "orientation": "v",
           "showlegend": false,
           "type": "scatter",
           "x": [
            0
           ],
           "xaxis": "x",
           "y": [
            0
           ],
           "yaxis": "y"
          },
          {
           "hovertemplate": "<b>%{hovertext}</b><br><br>main=False<br>type=next<br>step=8<br>name=4<br>x=%{x}<br>y=%{y}<extra></extra>",
           "hovertext": [
            "Next node of 4 <br> reward: 1.0 <br> action: [3, 1, 0, 1, 5, 5, 4, 3, 2, 0] <br> in system: 1.0"
           ],
           "legendgroup": "False, next",
           "line": {
            "color": "#EF553B",
            "dash": "solid"
           },
           "marker": {
            "symbol": "diamond"
           },
           "mode": "lines+markers",
           "name": "False, next",
           "orientation": "v",
           "showlegend": false,
           "type": "scatter",
           "x": [
            0.32954545454545453
           ],
           "xaxis": "x",
           "y": [
            0.428
           ],
           "yaxis": "y"
          },
          {
           "hovertemplate": "<b>%{hovertext}</b><br><br>main=False<br>type=next<br>step=8<br>name=5<br>x=%{x}<br>y=%{y}<extra></extra>",
           "hovertext": [
            "Next node of 5 <br> reward: 1.0 <br> action: [3, 1, 0, 1, 5, 5, 4, 3, 2, 0] <br> in system: 0.0"
           ],
           "legendgroup": "False, next",
           "line": {
            "color": "#EF553B",
            "dash": "solid"
           },
           "marker": {
            "symbol": "diamond"
           },
           "mode": "lines+markers",
           "name": "False, next",
           "orientation": "v",
           "showlegend": false,
           "type": "scatter",
           "x": [
            0
           ],
           "xaxis": "x",
           "y": [
            0
           ],
           "yaxis": "y"
          },
          {
           "hovertemplate": "<b>%{hovertext}</b><br><br>main=False<br>type=next<br>step=8<br>name=6<br>x=%{x}<br>y=%{y}<extra></extra>",
           "hovertext": [
            "Next node of 6 <br> reward: 1.0 <br> action: [3, 1, 0, 1, 5, 5, 4, 3, 2, 0] <br> in system: 1.0"
           ],
           "legendgroup": "False, next",
           "line": {
            "color": "#EF553B",
            "dash": "solid"
           },
           "marker": {
            "symbol": "diamond"
           },
           "mode": "lines+markers",
           "name": "False, next",
           "orientation": "v",
           "showlegend": false,
           "type": "scatter",
           "x": [
            1
           ],
           "xaxis": "x",
           "y": [
            0.86
           ],
           "yaxis": "y"
          },
          {
           "hovertemplate": "<b>%{hovertext}</b><br><br>main=False<br>type=next<br>step=8<br>name=7<br>x=%{x}<br>y=%{y}<extra></extra>",
           "hovertext": [
            "Next node of 7 <br> reward: 1.0 <br> action: [3, 1, 0, 1, 5, 5, 4, 3, 2, 0] <br> in system: 1.0"
           ],
           "legendgroup": "False, next",
           "line": {
            "color": "#EF553B",
            "dash": "solid"
           },
           "marker": {
            "symbol": "diamond"
           },
           "mode": "lines+markers",
           "name": "False, next",
           "orientation": "v",
           "showlegend": false,
           "type": "scatter",
           "x": [
            0.42045454545454547
           ],
           "xaxis": "x",
           "y": [
            0.48
           ],
           "yaxis": "y"
          },
          {
           "hovertemplate": "<b>%{hovertext}</b><br><br>main=False<br>type=next<br>step=8<br>name=8<br>x=%{x}<br>y=%{y}<extra></extra>",
           "hovertext": [
            "Next node of 8 <br> reward: 1.0 <br> action: [3, 1, 0, 1, 5, 5, 4, 3, 2, 0] <br> in system: 0.0"
           ],
           "legendgroup": "False, next",
           "line": {
            "color": "#EF553B",
            "dash": "solid"
           },
           "marker": {
            "symbol": "diamond"
           },
           "mode": "lines+markers",
           "name": "False, next",
           "orientation": "v",
           "showlegend": false,
           "type": "scatter",
           "x": [
            0
           ],
           "xaxis": "x",
           "y": [
            0
           ],
           "yaxis": "y"
          },
          {
           "hovertemplate": "<b>%{hovertext}</b><br><br>main=False<br>type=next<br>step=8<br>name=9<br>x=%{x}<br>y=%{y}<extra></extra>",
           "hovertext": [
            "Next node of 9 <br> reward: 1.0 <br> action: [3, 1, 0, 1, 5, 5, 4, 3, 2, 0] <br> in system: 1.0"
           ],
           "legendgroup": "False, next",
           "line": {
            "color": "#EF553B",
            "dash": "solid"
           },
           "marker": {
            "symbol": "diamond"
           },
           "mode": "lines+markers",
           "name": "False, next",
           "orientation": "v",
           "showlegend": false,
           "type": "scatter",
           "x": [
            0.32954545454545453
           ],
           "xaxis": "x",
           "y": [
            0.428
           ],
           "yaxis": "y"
          }
         ],
         "name": "8"
        },
        {
         "data": [
          {
           "hovertemplate": "<b>%{hovertext}</b><br><br>main=True<br>type=last<br>step=9<br>name=0<br>x=%{x}<br>y=%{y}<extra></extra>",
           "hovertext": [
            "Last node of 0 <br> reward: 1.0 <br> action: [2, 0, 3, 3, 3, 4, 0, 1, 1, 0] <br> in system: 1.0"
           ],
           "legendgroup": "True, last",
           "line": {
            "color": "#636efa",
            "dash": "solid"
           },
           "marker": {
            "symbol": "circle"
           },
           "mode": "lines+markers",
           "name": "True, last",
           "orientation": "v",
           "showlegend": true,
           "type": "scatter",
           "x": [
            1
           ],
           "xaxis": "x",
           "y": [
            0.86
           ],
           "yaxis": "y"
          },
          {
           "hovertemplate": "<b>%{hovertext}</b><br><br>main=True<br>type=next<br>step=9<br>name=0<br>x=%{x}<br>y=%{y}<extra></extra>",
           "hovertext": [
            "Next node of 0 <br> reward: 1.0 <br> action: [2, 0, 3, 3, 3, 4, 0, 1, 1, 0] <br> in system: 1.0"
           ],
           "legendgroup": "True, next",
           "line": {
            "color": "#636efa",
            "dash": "solid"
           },
           "marker": {
            "symbol": "diamond"
           },
           "mode": "lines+markers",
           "name": "True, next",
           "orientation": "v",
           "showlegend": true,
           "type": "scatter",
           "x": [
            1
           ],
           "xaxis": "x",
           "y": [
            0.86
           ],
           "yaxis": "y"
          },
          {
           "hovertemplate": "<b>%{hovertext}</b><br><br>main=False<br>type=last<br>step=9<br>name=1<br>x=%{x}<br>y=%{y}<extra></extra>",
           "hovertext": [
            "Last node of 1 <br> reward: 1.0 <br> action: [2, 0, 3, 3, 3, 4, 0, 1, 1, 0] <br> in system: 1.0"
           ],
           "legendgroup": "False, last",
           "line": {
            "color": "#EF553B",
            "dash": "solid"
           },
           "marker": {
            "symbol": "circle"
           },
           "mode": "lines+markers",
           "name": "False, last",
           "orientation": "v",
           "showlegend": true,
           "type": "scatter",
           "x": [
            0.9431818181818182
           ],
           "xaxis": "x",
           "y": [
            0.86
           ],
           "yaxis": "y"
          },
          {
           "hovertemplate": "<b>%{hovertext}</b><br><br>main=False<br>type=last<br>step=9<br>name=2<br>x=%{x}<br>y=%{y}<extra></extra>",
           "hovertext": [
            "Last node of 2 <br> reward: 1.0 <br> action: [2, 0, 3, 3, 3, 4, 0, 1, 1, 0] <br> in system: 0.0"
           ],
           "legendgroup": "False, last",
           "line": {
            "color": "#EF553B",
            "dash": "solid"
           },
           "marker": {
            "symbol": "circle"
           },
           "mode": "lines+markers",
           "name": "False, last",
           "orientation": "v",
           "showlegend": false,
           "type": "scatter",
           "x": [
            0
           ],
           "xaxis": "x",
           "y": [
            0
           ],
           "yaxis": "y"
          },
          {
           "hovertemplate": "<b>%{hovertext}</b><br><br>main=False<br>type=last<br>step=9<br>name=3<br>x=%{x}<br>y=%{y}<extra></extra>",
           "hovertext": [
            "Last node of 3 <br> reward: 1.0 <br> action: [2, 0, 3, 3, 3, 4, 0, 1, 1, 0] <br> in system: 0.0"
           ],
           "legendgroup": "False, last",
           "line": {
            "color": "#EF553B",
            "dash": "solid"
           },
           "marker": {
            "symbol": "circle"
           },
           "mode": "lines+markers",
           "name": "False, last",
           "orientation": "v",
           "showlegend": false,
           "type": "scatter",
           "x": [
            0
           ],
           "xaxis": "x",
           "y": [
            0
           ],
           "yaxis": "y"
          },
          {
           "hovertemplate": "<b>%{hovertext}</b><br><br>main=False<br>type=last<br>step=9<br>name=4<br>x=%{x}<br>y=%{y}<extra></extra>",
           "hovertext": [
            "Last node of 4 <br> reward: 1.0 <br> action: [2, 0, 3, 3, 3, 4, 0, 1, 1, 0] <br> in system: 0.0"
           ],
           "legendgroup": "False, last",
           "line": {
            "color": "#EF553B",
            "dash": "solid"
           },
           "marker": {
            "symbol": "circle"
           },
           "mode": "lines+markers",
           "name": "False, last",
           "orientation": "v",
           "showlegend": false,
           "type": "scatter",
           "x": [
            0
           ],
           "xaxis": "x",
           "y": [
            0
           ],
           "yaxis": "y"
          },
          {
           "hovertemplate": "<b>%{hovertext}</b><br><br>main=False<br>type=last<br>step=9<br>name=5<br>x=%{x}<br>y=%{y}<extra></extra>",
           "hovertext": [
            "Last node of 5 <br> reward: 1.0 <br> action: [2, 0, 3, 3, 3, 4, 0, 1, 1, 0] <br> in system: 1.0"
           ],
           "legendgroup": "False, last",
           "line": {
            "color": "#EF553B",
            "dash": "solid"
           },
           "marker": {
            "symbol": "circle"
           },
           "mode": "lines+markers",
           "name": "False, last",
           "orientation": "v",
           "showlegend": false,
           "type": "scatter",
           "x": [
            0.7613636363636364
           ],
           "xaxis": "x",
           "y": [
            0.76
           ],
           "yaxis": "y"
          },
          {
           "hovertemplate": "<b>%{hovertext}</b><br><br>main=False<br>type=last<br>step=9<br>name=6<br>x=%{x}<br>y=%{y}<extra></extra>",
           "hovertext": [
            "Last node of 6 <br> reward: 1.0 <br> action: [2, 0, 3, 3, 3, 4, 0, 1, 1, 0] <br> in system: 1.0"
           ],
           "legendgroup": "False, last",
           "line": {
            "color": "#EF553B",
            "dash": "solid"
           },
           "marker": {
            "symbol": "circle"
           },
           "mode": "lines+markers",
           "name": "False, last",
           "orientation": "v",
           "showlegend": false,
           "type": "scatter",
           "x": [
            0.32954545454545453
           ],
           "xaxis": "x",
           "y": [
            0.428
           ],
           "yaxis": "y"
          },
          {
           "hovertemplate": "<b>%{hovertext}</b><br><br>main=False<br>type=last<br>step=9<br>name=7<br>x=%{x}<br>y=%{y}<extra></extra>",
           "hovertext": [
            "Last node of 7 <br> reward: 1.0 <br> action: [2, 0, 3, 3, 3, 4, 0, 1, 1, 0] <br> in system: 0.0"
           ],
           "legendgroup": "False, last",
           "line": {
            "color": "#EF553B",
            "dash": "solid"
           },
           "marker": {
            "symbol": "circle"
           },
           "mode": "lines+markers",
           "name": "False, last",
           "orientation": "v",
           "showlegend": false,
           "type": "scatter",
           "x": [
            0
           ],
           "xaxis": "x",
           "y": [
            0
           ],
           "yaxis": "y"
          },
          {
           "hovertemplate": "<b>%{hovertext}</b><br><br>main=False<br>type=last<br>step=9<br>name=8<br>x=%{x}<br>y=%{y}<extra></extra>",
           "hovertext": [
            "Last node of 8 <br> reward: 1.0 <br> action: [2, 0, 3, 3, 3, 4, 0, 1, 1, 0] <br> in system: 1.0"
           ],
           "legendgroup": "False, last",
           "line": {
            "color": "#EF553B",
            "dash": "solid"
           },
           "marker": {
            "symbol": "circle"
           },
           "mode": "lines+markers",
           "name": "False, last",
           "orientation": "v",
           "showlegend": false,
           "type": "scatter",
           "x": [
            0.42045454545454547
           ],
           "xaxis": "x",
           "y": [
            0.38
           ],
           "yaxis": "y"
          },
          {
           "hovertemplate": "<b>%{hovertext}</b><br><br>main=False<br>type=last<br>step=9<br>name=9<br>x=%{x}<br>y=%{y}<extra></extra>",
           "hovertext": [
            "Last node of 9 <br> reward: 1.0 <br> action: [2, 0, 3, 3, 3, 4, 0, 1, 1, 0] <br> in system: 1.0"
           ],
           "legendgroup": "False, last",
           "line": {
            "color": "#EF553B",
            "dash": "solid"
           },
           "marker": {
            "symbol": "circle"
           },
           "mode": "lines+markers",
           "name": "False, last",
           "orientation": "v",
           "showlegend": false,
           "type": "scatter",
           "x": [
            0.42045454545454547
           ],
           "xaxis": "x",
           "y": [
            0.48
           ],
           "yaxis": "y"
          },
          {
           "hovertemplate": "<b>%{hovertext}</b><br><br>main=False<br>type=next<br>step=9<br>name=1<br>x=%{x}<br>y=%{y}<extra></extra>",
           "hovertext": [
            "Next node of 1 <br> reward: 1.0 <br> action: [2, 0, 3, 3, 3, 4, 0, 1, 1, 0] <br> in system: 1.0"
           ],
           "legendgroup": "False, next",
           "line": {
            "color": "#EF553B",
            "dash": "solid"
           },
           "marker": {
            "symbol": "diamond"
           },
           "mode": "lines+markers",
           "name": "False, next",
           "orientation": "v",
           "showlegend": true,
           "type": "scatter",
           "x": [
            1
           ],
           "xaxis": "x",
           "y": [
            0.86
           ],
           "yaxis": "y"
          },
          {
           "hovertemplate": "<b>%{hovertext}</b><br><br>main=False<br>type=next<br>step=9<br>name=2<br>x=%{x}<br>y=%{y}<extra></extra>",
           "hovertext": [
            "Next node of 2 <br> reward: 1.0 <br> action: [2, 0, 3, 3, 3, 4, 0, 1, 1, 0] <br> in system: 0.0"
           ],
           "legendgroup": "False, next",
           "line": {
            "color": "#EF553B",
            "dash": "solid"
           },
           "marker": {
            "symbol": "diamond"
           },
           "mode": "lines+markers",
           "name": "False, next",
           "orientation": "v",
           "showlegend": false,
           "type": "scatter",
           "x": [
            0
           ],
           "xaxis": "x",
           "y": [
            0
           ],
           "yaxis": "y"
          },
          {
           "hovertemplate": "<b>%{hovertext}</b><br><br>main=False<br>type=next<br>step=9<br>name=3<br>x=%{x}<br>y=%{y}<extra></extra>",
           "hovertext": [
            "Next node of 3 <br> reward: 1.0 <br> action: [2, 0, 3, 3, 3, 4, 0, 1, 1, 0] <br> in system: 0.0"
           ],
           "legendgroup": "False, next",
           "line": {
            "color": "#EF553B",
            "dash": "solid"
           },
           "marker": {
            "symbol": "diamond"
           },
           "mode": "lines+markers",
           "name": "False, next",
           "orientation": "v",
           "showlegend": false,
           "type": "scatter",
           "x": [
            0
           ],
           "xaxis": "x",
           "y": [
            0
           ],
           "yaxis": "y"
          },
          {
           "hovertemplate": "<b>%{hovertext}</b><br><br>main=False<br>type=next<br>step=9<br>name=4<br>x=%{x}<br>y=%{y}<extra></extra>",
           "hovertext": [
            "Next node of 4 <br> reward: 1.0 <br> action: [2, 0, 3, 3, 3, 4, 0, 1, 1, 0] <br> in system: 0.0"
           ],
           "legendgroup": "False, next",
           "line": {
            "color": "#EF553B",
            "dash": "solid"
           },
           "marker": {
            "symbol": "diamond"
           },
           "mode": "lines+markers",
           "name": "False, next",
           "orientation": "v",
           "showlegend": false,
           "type": "scatter",
           "x": [
            0
           ],
           "xaxis": "x",
           "y": [
            0
           ],
           "yaxis": "y"
          },
          {
           "hovertemplate": "<b>%{hovertext}</b><br><br>main=False<br>type=next<br>step=9<br>name=5<br>x=%{x}<br>y=%{y}<extra></extra>",
           "hovertext": [
            "Next node of 5 <br> reward: 1.0 <br> action: [2, 0, 3, 3, 3, 4, 0, 1, 1, 0] <br> in system: 1.0"
           ],
           "legendgroup": "False, next",
           "line": {
            "color": "#EF553B",
            "dash": "solid"
           },
           "marker": {
            "symbol": "diamond"
           },
           "mode": "lines+markers",
           "name": "False, next",
           "orientation": "v",
           "showlegend": false,
           "type": "scatter",
           "x": [
            0.7613636363636364
           ],
           "xaxis": "x",
           "y": [
            0.86
           ],
           "yaxis": "y"
          },
          {
           "hovertemplate": "<b>%{hovertext}</b><br><br>main=False<br>type=next<br>step=9<br>name=6<br>x=%{x}<br>y=%{y}<extra></extra>",
           "hovertext": [
            "Next node of 6 <br> reward: 1.0 <br> action: [2, 0, 3, 3, 3, 4, 0, 1, 1, 0] <br> in system: 1.0"
           ],
           "legendgroup": "False, next",
           "line": {
            "color": "#EF553B",
            "dash": "solid"
           },
           "marker": {
            "symbol": "diamond"
           },
           "mode": "lines+markers",
           "name": "False, next",
           "orientation": "v",
           "showlegend": false,
           "type": "scatter",
           "x": [
            0.32954545454545453
           ],
           "xaxis": "x",
           "y": [
            0.428
           ],
           "yaxis": "y"
          },
          {
           "hovertemplate": "<b>%{hovertext}</b><br><br>main=False<br>type=next<br>step=9<br>name=7<br>x=%{x}<br>y=%{y}<extra></extra>",
           "hovertext": [
            "Next node of 7 <br> reward: 1.0 <br> action: [2, 0, 3, 3, 3, 4, 0, 1, 1, 0] <br> in system: 0.0"
           ],
           "legendgroup": "False, next",
           "line": {
            "color": "#EF553B",
            "dash": "solid"
           },
           "marker": {
            "symbol": "diamond"
           },
           "mode": "lines+markers",
           "name": "False, next",
           "orientation": "v",
           "showlegend": false,
           "type": "scatter",
           "x": [
            0
           ],
           "xaxis": "x",
           "y": [
            0
           ],
           "yaxis": "y"
          },
          {
           "hovertemplate": "<b>%{hovertext}</b><br><br>main=False<br>type=next<br>step=9<br>name=8<br>x=%{x}<br>y=%{y}<extra></extra>",
           "hovertext": [
            "Next node of 8 <br> reward: 1.0 <br> action: [2, 0, 3, 3, 3, 4, 0, 1, 1, 0] <br> in system: 1.0"
           ],
           "legendgroup": "False, next",
           "line": {
            "color": "#EF553B",
            "dash": "solid"
           },
           "marker": {
            "symbol": "diamond"
           },
           "mode": "lines+markers",
           "name": "False, next",
           "orientation": "v",
           "showlegend": false,
           "type": "scatter",
           "x": [
            0.32954545454545453
           ],
           "xaxis": "x",
           "y": [
            0.428
           ],
           "yaxis": "y"
          },
          {
           "hovertemplate": "<b>%{hovertext}</b><br><br>main=False<br>type=next<br>step=9<br>name=9<br>x=%{x}<br>y=%{y}<extra></extra>",
           "hovertext": [
            "Next node of 9 <br> reward: 1.0 <br> action: [2, 0, 3, 3, 3, 4, 0, 1, 1, 0] <br> in system: 1.0"
           ],
           "legendgroup": "False, next",
           "line": {
            "color": "#EF553B",
            "dash": "solid"
           },
           "marker": {
            "symbol": "diamond"
           },
           "mode": "lines+markers",
           "name": "False, next",
           "orientation": "v",
           "showlegend": false,
           "type": "scatter",
           "x": [
            0.42045454545454547
           ],
           "xaxis": "x",
           "y": [
            0.38
           ],
           "yaxis": "y"
          }
         ],
         "name": "9"
        },
        {
         "data": [
          {
           "hovertemplate": "<b>%{hovertext}</b><br><br>main=True<br>type=last<br>step=10<br>name=0<br>x=%{x}<br>y=%{y}<extra></extra>",
           "hovertext": [
            "Last node of 0 <br> reward: 0 <br> action: [1, 0, 4, 3, 1, 2, 1, 0, 2, 4] <br> in system: 1.0"
           ],
           "legendgroup": "True, last",
           "line": {
            "color": "#636efa",
            "dash": "solid"
           },
           "marker": {
            "symbol": "circle"
           },
           "mode": "lines+markers",
           "name": "True, last",
           "orientation": "v",
           "showlegend": true,
           "type": "scatter",
           "x": [
            1
           ],
           "xaxis": "x",
           "y": [
            0.86
           ],
           "yaxis": "y"
          },
          {
           "hovertemplate": "<b>%{hovertext}</b><br><br>main=True<br>type=next<br>step=10<br>name=0<br>x=%{x}<br>y=%{y}<extra></extra>",
           "hovertext": [
            "Next node of 0 <br> reward: 0 <br> action: [1, 0, 4, 3, 1, 2, 1, 0, 2, 4] <br> in system: 1.0"
           ],
           "legendgroup": "True, next",
           "line": {
            "color": "#636efa",
            "dash": "solid"
           },
           "marker": {
            "symbol": "diamond"
           },
           "mode": "lines+markers",
           "name": "True, next",
           "orientation": "v",
           "showlegend": true,
           "type": "scatter",
           "x": [
            1
           ],
           "xaxis": "x",
           "y": [
            0.76
           ],
           "yaxis": "y"
          },
          {
           "hovertemplate": "<b>%{hovertext}</b><br><br>main=False<br>type=last<br>step=10<br>name=1<br>x=%{x}<br>y=%{y}<extra></extra>",
           "hovertext": [
            "Last node of 1 <br> reward: 0 <br> action: [1, 0, 4, 3, 1, 2, 1, 0, 2, 4] <br> in system: 0.0"
           ],
           "legendgroup": "False, last",
           "line": {
            "color": "#EF553B",
            "dash": "solid"
           },
           "marker": {
            "symbol": "circle"
           },
           "mode": "lines+markers",
           "name": "False, last",
           "orientation": "v",
           "showlegend": true,
           "type": "scatter",
           "x": [
            0
           ],
           "xaxis": "x",
           "y": [
            0
           ],
           "yaxis": "y"
          },
          {
           "hovertemplate": "<b>%{hovertext}</b><br><br>main=False<br>type=last<br>step=10<br>name=2<br>x=%{x}<br>y=%{y}<extra></extra>",
           "hovertext": [
            "Last node of 2 <br> reward: 0 <br> action: [1, 0, 4, 3, 1, 2, 1, 0, 2, 4] <br> in system: 1.0"
           ],
           "legendgroup": "False, last",
           "line": {
            "color": "#EF553B",
            "dash": "solid"
           },
           "marker": {
            "symbol": "circle"
           },
           "mode": "lines+markers",
           "name": "False, last",
           "orientation": "v",
           "showlegend": false,
           "type": "scatter",
           "x": [
            0.7613636363636364
           ],
           "xaxis": "x",
           "y": [
            0.76
           ],
           "yaxis": "y"
          },
          {
           "hovertemplate": "<b>%{hovertext}</b><br><br>main=False<br>type=last<br>step=10<br>name=3<br>x=%{x}<br>y=%{y}<extra></extra>",
           "hovertext": [
            "Last node of 3 <br> reward: 0 <br> action: [1, 0, 4, 3, 1, 2, 1, 0, 2, 4] <br> in system: 0.0"
           ],
           "legendgroup": "False, last",
           "line": {
            "color": "#EF553B",
            "dash": "solid"
           },
           "marker": {
            "symbol": "circle"
           },
           "mode": "lines+markers",
           "name": "False, last",
           "orientation": "v",
           "showlegend": false,
           "type": "scatter",
           "x": [
            0
           ],
           "xaxis": "x",
           "y": [
            0
           ],
           "yaxis": "y"
          },
          {
           "hovertemplate": "<b>%{hovertext}</b><br><br>main=False<br>type=last<br>step=10<br>name=4<br>x=%{x}<br>y=%{y}<extra></extra>",
           "hovertext": [
            "Last node of 4 <br> reward: 0 <br> action: [1, 0, 4, 3, 1, 2, 1, 0, 2, 4] <br> in system: 1.0"
           ],
           "legendgroup": "False, last",
           "line": {
            "color": "#EF553B",
            "dash": "solid"
           },
           "marker": {
            "symbol": "circle"
           },
           "mode": "lines+markers",
           "name": "False, last",
           "orientation": "v",
           "showlegend": false,
           "type": "scatter",
           "x": [
            0.32954545454545453
           ],
           "xaxis": "x",
           "y": [
            0.428
           ],
           "yaxis": "y"
          },
          {
           "hovertemplate": "<b>%{hovertext}</b><br><br>main=False<br>type=last<br>step=10<br>name=5<br>x=%{x}<br>y=%{y}<extra></extra>",
           "hovertext": [
            "Last node of 5 <br> reward: 0 <br> action: [1, 0, 4, 3, 1, 2, 1, 0, 2, 4] <br> in system: 0.0"
           ],
           "legendgroup": "False, last",
           "line": {
            "color": "#EF553B",
            "dash": "solid"
           },
           "marker": {
            "symbol": "circle"
           },
           "mode": "lines+markers",
           "name": "False, last",
           "orientation": "v",
           "showlegend": false,
           "type": "scatter",
           "x": [
            0
           ],
           "xaxis": "x",
           "y": [
            0
           ],
           "yaxis": "y"
          },
          {
           "hovertemplate": "<b>%{hovertext}</b><br><br>main=False<br>type=last<br>step=10<br>name=6<br>x=%{x}<br>y=%{y}<extra></extra>",
           "hovertext": [
            "Last node of 6 <br> reward: 0 <br> action: [1, 0, 4, 3, 1, 2, 1, 0, 2, 4] <br> in system: 1.0"
           ],
           "legendgroup": "False, last",
           "line": {
            "color": "#EF553B",
            "dash": "solid"
           },
           "marker": {
            "symbol": "circle"
           },
           "mode": "lines+markers",
           "name": "False, last",
           "orientation": "v",
           "showlegend": false,
           "type": "scatter",
           "x": [
            0.9431818181818182
           ],
           "xaxis": "x",
           "y": [
            0.86
           ],
           "yaxis": "y"
          },
          {
           "hovertemplate": "<b>%{hovertext}</b><br><br>main=False<br>type=last<br>step=10<br>name=7<br>x=%{x}<br>y=%{y}<extra></extra>",
           "hovertext": [
            "Last node of 7 <br> reward: 0 <br> action: [1, 0, 4, 3, 1, 2, 1, 0, 2, 4] <br> in system: 0.0"
           ],
           "legendgroup": "False, last",
           "line": {
            "color": "#EF553B",
            "dash": "solid"
           },
           "marker": {
            "symbol": "circle"
           },
           "mode": "lines+markers",
           "name": "False, last",
           "orientation": "v",
           "showlegend": false,
           "type": "scatter",
           "x": [
            0
           ],
           "xaxis": "x",
           "y": [
            0
           ],
           "yaxis": "y"
          },
          {
           "hovertemplate": "<b>%{hovertext}</b><br><br>main=False<br>type=last<br>step=10<br>name=8<br>x=%{x}<br>y=%{y}<extra></extra>",
           "hovertext": [
            "Last node of 8 <br> reward: 0 <br> action: [1, 0, 4, 3, 1, 2, 1, 0, 2, 4] <br> in system: 1.0"
           ],
           "legendgroup": "False, last",
           "line": {
            "color": "#EF553B",
            "dash": "solid"
           },
           "marker": {
            "symbol": "circle"
           },
           "mode": "lines+markers",
           "name": "False, last",
           "orientation": "v",
           "showlegend": false,
           "type": "scatter",
           "x": [
            0.42045454545454547
           ],
           "xaxis": "x",
           "y": [
            0.38
           ],
           "yaxis": "y"
          },
          {
           "hovertemplate": "<b>%{hovertext}</b><br><br>main=False<br>type=last<br>step=10<br>name=9<br>x=%{x}<br>y=%{y}<extra></extra>",
           "hovertext": [
            "Last node of 9 <br> reward: 0 <br> action: [1, 0, 4, 3, 1, 2, 1, 0, 2, 4] <br> in system: 1.0"
           ],
           "legendgroup": "False, last",
           "line": {
            "color": "#EF553B",
            "dash": "solid"
           },
           "marker": {
            "symbol": "circle"
           },
           "mode": "lines+markers",
           "name": "False, last",
           "orientation": "v",
           "showlegend": false,
           "type": "scatter",
           "x": [
            0.42045454545454547
           ],
           "xaxis": "x",
           "y": [
            0.48
           ],
           "yaxis": "y"
          },
          {
           "hovertemplate": "<b>%{hovertext}</b><br><br>main=False<br>type=next<br>step=10<br>name=1<br>x=%{x}<br>y=%{y}<extra></extra>",
           "hovertext": [
            "Next node of 1 <br> reward: 0 <br> action: [1, 0, 4, 3, 1, 2, 1, 0, 2, 4] <br> in system: 0.0"
           ],
           "legendgroup": "False, next",
           "line": {
            "color": "#EF553B",
            "dash": "solid"
           },
           "marker": {
            "symbol": "diamond"
           },
           "mode": "lines+markers",
           "name": "False, next",
           "orientation": "v",
           "showlegend": true,
           "type": "scatter",
           "x": [
            0
           ],
           "xaxis": "x",
           "y": [
            0
           ],
           "yaxis": "y"
          },
          {
           "hovertemplate": "<b>%{hovertext}</b><br><br>main=False<br>type=next<br>step=10<br>name=2<br>x=%{x}<br>y=%{y}<extra></extra>",
           "hovertext": [
            "Next node of 2 <br> reward: 0 <br> action: [1, 0, 4, 3, 1, 2, 1, 0, 2, 4] <br> in system: 1.0"
           ],
           "legendgroup": "False, next",
           "line": {
            "color": "#EF553B",
            "dash": "solid"
           },
           "marker": {
            "symbol": "diamond"
           },
           "mode": "lines+markers",
           "name": "False, next",
           "orientation": "v",
           "showlegend": false,
           "type": "scatter",
           "x": [
            0.7613636363636364
           ],
           "xaxis": "x",
           "y": [
            0.86
           ],
           "yaxis": "y"
          },
          {
           "hovertemplate": "<b>%{hovertext}</b><br><br>main=False<br>type=next<br>step=10<br>name=3<br>x=%{x}<br>y=%{y}<extra></extra>",
           "hovertext": [
            "Next node of 3 <br> reward: 0 <br> action: [1, 0, 4, 3, 1, 2, 1, 0, 2, 4] <br> in system: 0.0"
           ],
           "legendgroup": "False, next",
           "line": {
            "color": "#EF553B",
            "dash": "solid"
           },
           "marker": {
            "symbol": "diamond"
           },
           "mode": "lines+markers",
           "name": "False, next",
           "orientation": "v",
           "showlegend": false,
           "type": "scatter",
           "x": [
            0
           ],
           "xaxis": "x",
           "y": [
            0
           ],
           "yaxis": "y"
          },
          {
           "hovertemplate": "<b>%{hovertext}</b><br><br>main=False<br>type=next<br>step=10<br>name=4<br>x=%{x}<br>y=%{y}<extra></extra>",
           "hovertext": [
            "Next node of 4 <br> reward: 0 <br> action: [1, 0, 4, 3, 1, 2, 1, 0, 2, 4] <br> in system: 1.0"
           ],
           "legendgroup": "False, next",
           "line": {
            "color": "#EF553B",
            "dash": "solid"
           },
           "marker": {
            "symbol": "diamond"
           },
           "mode": "lines+markers",
           "name": "False, next",
           "orientation": "v",
           "showlegend": false,
           "type": "scatter",
           "x": [
            0.32954545454545453
           ],
           "xaxis": "x",
           "y": [
            0.428
           ],
           "yaxis": "y"
          },
          {
           "hovertemplate": "<b>%{hovertext}</b><br><br>main=False<br>type=next<br>step=10<br>name=5<br>x=%{x}<br>y=%{y}<extra></extra>",
           "hovertext": [
            "Next node of 5 <br> reward: 0 <br> action: [1, 0, 4, 3, 1, 2, 1, 0, 2, 4] <br> in system: 0.0"
           ],
           "legendgroup": "False, next",
           "line": {
            "color": "#EF553B",
            "dash": "solid"
           },
           "marker": {
            "symbol": "diamond"
           },
           "mode": "lines+markers",
           "name": "False, next",
           "orientation": "v",
           "showlegend": false,
           "type": "scatter",
           "x": [
            0
           ],
           "xaxis": "x",
           "y": [
            0
           ],
           "yaxis": "y"
          },
          {
           "hovertemplate": "<b>%{hovertext}</b><br><br>main=False<br>type=next<br>step=10<br>name=6<br>x=%{x}<br>y=%{y}<extra></extra>",
           "hovertext": [
            "Next node of 6 <br> reward: 0 <br> action: [1, 0, 4, 3, 1, 2, 1, 0, 2, 4] <br> in system: 1.0"
           ],
           "legendgroup": "False, next",
           "line": {
            "color": "#EF553B",
            "dash": "solid"
           },
           "marker": {
            "symbol": "diamond"
           },
           "mode": "lines+markers",
           "name": "False, next",
           "orientation": "v",
           "showlegend": false,
           "type": "scatter",
           "x": [
            1
           ],
           "xaxis": "x",
           "y": [
            0.86
           ],
           "yaxis": "y"
          },
          {
           "hovertemplate": "<b>%{hovertext}</b><br><br>main=False<br>type=next<br>step=10<br>name=7<br>x=%{x}<br>y=%{y}<extra></extra>",
           "hovertext": [
            "Next node of 7 <br> reward: 0 <br> action: [1, 0, 4, 3, 1, 2, 1, 0, 2, 4] <br> in system: 0.0"
           ],
           "legendgroup": "False, next",
           "line": {
            "color": "#EF553B",
            "dash": "solid"
           },
           "marker": {
            "symbol": "diamond"
           },
           "mode": "lines+markers",
           "name": "False, next",
           "orientation": "v",
           "showlegend": false,
           "type": "scatter",
           "x": [
            0
           ],
           "xaxis": "x",
           "y": [
            0
           ],
           "yaxis": "y"
          },
          {
           "hovertemplate": "<b>%{hovertext}</b><br><br>main=False<br>type=next<br>step=10<br>name=8<br>x=%{x}<br>y=%{y}<extra></extra>",
           "hovertext": [
            "Next node of 8 <br> reward: 0 <br> action: [1, 0, 4, 3, 1, 2, 1, 0, 2, 4] <br> in system: 1.0"
           ],
           "legendgroup": "False, next",
           "line": {
            "color": "#EF553B",
            "dash": "solid"
           },
           "marker": {
            "symbol": "diamond"
           },
           "mode": "lines+markers",
           "name": "False, next",
           "orientation": "v",
           "showlegend": false,
           "type": "scatter",
           "x": [
            0.32954545454545453
           ],
           "xaxis": "x",
           "y": [
            0.428
           ],
           "yaxis": "y"
          },
          {
           "hovertemplate": "<b>%{hovertext}</b><br><br>main=False<br>type=next<br>step=10<br>name=9<br>x=%{x}<br>y=%{y}<extra></extra>",
           "hovertext": [
            "Next node of 9 <br> reward: 0 <br> action: [1, 0, 4, 3, 1, 2, 1, 0, 2, 4] <br> in system: 1.0"
           ],
           "legendgroup": "False, next",
           "line": {
            "color": "#EF553B",
            "dash": "solid"
           },
           "marker": {
            "symbol": "diamond"
           },
           "mode": "lines+markers",
           "name": "False, next",
           "orientation": "v",
           "showlegend": false,
           "type": "scatter",
           "x": [
            0.42045454545454547
           ],
           "xaxis": "x",
           "y": [
            0.38
           ],
           "yaxis": "y"
          }
         ],
         "name": "10"
        },
        {
         "data": [
          {
           "hovertemplate": "<b>%{hovertext}</b><br><br>main=True<br>type=last<br>step=11<br>name=0<br>x=%{x}<br>y=%{y}<extra></extra>",
           "hovertext": [
            "Last node of 0 <br> reward: 0 <br> action: [0, 1, 2, 0, 2, 2, 1, 3, 0, 4] <br> in system: 1.0"
           ],
           "legendgroup": "True, last",
           "line": {
            "color": "#636efa",
            "dash": "solid"
           },
           "marker": {
            "symbol": "circle"
           },
           "mode": "lines+markers",
           "name": "True, last",
           "orientation": "v",
           "showlegend": true,
           "type": "scatter",
           "x": [
            1
           ],
           "xaxis": "x",
           "y": [
            0.76
           ],
           "yaxis": "y"
          },
          {
           "hovertemplate": "<b>%{hovertext}</b><br><br>main=True<br>type=next<br>step=11<br>name=0<br>x=%{x}<br>y=%{y}<extra></extra>",
           "hovertext": [
            "Next node of 0 <br> reward: 0 <br> action: [0, 1, 2, 0, 2, 2, 1, 3, 0, 4] <br> in system: 1.0"
           ],
           "legendgroup": "True, next",
           "line": {
            "color": "#636efa",
            "dash": "solid"
           },
           "marker": {
            "symbol": "diamond"
           },
           "mode": "lines+markers",
           "name": "True, next",
           "orientation": "v",
           "showlegend": true,
           "type": "scatter",
           "x": [
            0.9431818181818182
           ],
           "xaxis": "x",
           "y": [
            0.76
           ],
           "yaxis": "y"
          },
          {
           "hovertemplate": "<b>%{hovertext}</b><br><br>main=False<br>type=last<br>step=11<br>name=1<br>x=%{x}<br>y=%{y}<extra></extra>",
           "hovertext": [
            "Last node of 1 <br> reward: 0 <br> action: [0, 1, 2, 0, 2, 2, 1, 3, 0, 4] <br> in system: 1.0"
           ],
           "legendgroup": "False, last",
           "line": {
            "color": "#EF553B",
            "dash": "solid"
           },
           "marker": {
            "symbol": "circle"
           },
           "mode": "lines+markers",
           "name": "False, last",
           "orientation": "v",
           "showlegend": true,
           "type": "scatter",
           "x": [
            0.42045454545454547
           ],
           "xaxis": "x",
           "y": [
            0.38
           ],
           "yaxis": "y"
          },
          {
           "hovertemplate": "<b>%{hovertext}</b><br><br>main=False<br>type=last<br>step=11<br>name=2<br>x=%{x}<br>y=%{y}<extra></extra>",
           "hovertext": [
            "Last node of 2 <br> reward: 0 <br> action: [0, 1, 2, 0, 2, 2, 1, 3, 0, 4] <br> in system: 1.0"
           ],
           "legendgroup": "False, last",
           "line": {
            "color": "#EF553B",
            "dash": "solid"
           },
           "marker": {
            "symbol": "circle"
           },
           "mode": "lines+markers",
           "name": "False, last",
           "orientation": "v",
           "showlegend": false,
           "type": "scatter",
           "x": [
            0.9431818181818182
           ],
           "xaxis": "x",
           "y": [
            0.86
           ],
           "yaxis": "y"
          },
          {
           "hovertemplate": "<b>%{hovertext}</b><br><br>main=False<br>type=last<br>step=11<br>name=3<br>x=%{x}<br>y=%{y}<extra></extra>",
           "hovertext": [
            "Last node of 3 <br> reward: 0 <br> action: [0, 1, 2, 0, 2, 2, 1, 3, 0, 4] <br> in system: 1.0"
           ],
           "legendgroup": "False, last",
           "line": {
            "color": "#EF553B",
            "dash": "solid"
           },
           "marker": {
            "symbol": "circle"
           },
           "mode": "lines+markers",
           "name": "False, last",
           "orientation": "v",
           "showlegend": false,
           "type": "scatter",
           "x": [
            0.42045454545454547
           ],
           "xaxis": "x",
           "y": [
            0.38
           ],
           "yaxis": "y"
          },
          {
           "hovertemplate": "<b>%{hovertext}</b><br><br>main=False<br>type=last<br>step=11<br>name=4<br>x=%{x}<br>y=%{y}<extra></extra>",
           "hovertext": [
            "Last node of 4 <br> reward: 0 <br> action: [0, 1, 2, 0, 2, 2, 1, 3, 0, 4] <br> in system: 0.0"
           ],
           "legendgroup": "False, last",
           "line": {
            "color": "#EF553B",
            "dash": "solid"
           },
           "marker": {
            "symbol": "circle"
           },
           "mode": "lines+markers",
           "name": "False, last",
           "orientation": "v",
           "showlegend": false,
           "type": "scatter",
           "x": [
            0
           ],
           "xaxis": "x",
           "y": [
            0
           ],
           "yaxis": "y"
          },
          {
           "hovertemplate": "<b>%{hovertext}</b><br><br>main=False<br>type=last<br>step=11<br>name=5<br>x=%{x}<br>y=%{y}<extra></extra>",
           "hovertext": [
            "Last node of 5 <br> reward: 0 <br> action: [0, 1, 2, 0, 2, 2, 1, 3, 0, 4] <br> in system: 0.0"
           ],
           "legendgroup": "False, last",
           "line": {
            "color": "#EF553B",
            "dash": "solid"
           },
           "marker": {
            "symbol": "circle"
           },
           "mode": "lines+markers",
           "name": "False, last",
           "orientation": "v",
           "showlegend": false,
           "type": "scatter",
           "x": [
            0
           ],
           "xaxis": "x",
           "y": [
            0
           ],
           "yaxis": "y"
          },
          {
           "hovertemplate": "<b>%{hovertext}</b><br><br>main=False<br>type=last<br>step=11<br>name=6<br>x=%{x}<br>y=%{y}<extra></extra>",
           "hovertext": [
            "Last node of 6 <br> reward: 0 <br> action: [0, 1, 2, 0, 2, 2, 1, 3, 0, 4] <br> in system: 1.0"
           ],
           "legendgroup": "False, last",
           "line": {
            "color": "#EF553B",
            "dash": "solid"
           },
           "marker": {
            "symbol": "circle"
           },
           "mode": "lines+markers",
           "name": "False, last",
           "orientation": "v",
           "showlegend": false,
           "type": "scatter",
           "x": [
            0.7613636363636364
           ],
           "xaxis": "x",
           "y": [
            0.76
           ],
           "yaxis": "y"
          },
          {
           "hovertemplate": "<b>%{hovertext}</b><br><br>main=False<br>type=last<br>step=11<br>name=7<br>x=%{x}<br>y=%{y}<extra></extra>",
           "hovertext": [
            "Last node of 7 <br> reward: 0 <br> action: [0, 1, 2, 0, 2, 2, 1, 3, 0, 4] <br> in system: 0.0"
           ],
           "legendgroup": "False, last",
           "line": {
            "color": "#EF553B",
            "dash": "solid"
           },
           "marker": {
            "symbol": "circle"
           },
           "mode": "lines+markers",
           "name": "False, last",
           "orientation": "v",
           "showlegend": false,
           "type": "scatter",
           "x": [
            0
           ],
           "xaxis": "x",
           "y": [
            0
           ],
           "yaxis": "y"
          },
          {
           "hovertemplate": "<b>%{hovertext}</b><br><br>main=False<br>type=last<br>step=11<br>name=8<br>x=%{x}<br>y=%{y}<extra></extra>",
           "hovertext": [
            "Last node of 8 <br> reward: 0 <br> action: [0, 1, 2, 0, 2, 2, 1, 3, 0, 4] <br> in system: 0.0"
           ],
           "legendgroup": "False, last",
           "line": {
            "color": "#EF553B",
            "dash": "solid"
           },
           "marker": {
            "symbol": "circle"
           },
           "mode": "lines+markers",
           "name": "False, last",
           "orientation": "v",
           "showlegend": false,
           "type": "scatter",
           "x": [
            0
           ],
           "xaxis": "x",
           "y": [
            0
           ],
           "yaxis": "y"
          },
          {
           "hovertemplate": "<b>%{hovertext}</b><br><br>main=False<br>type=last<br>step=11<br>name=9<br>x=%{x}<br>y=%{y}<extra></extra>",
           "hovertext": [
            "Last node of 9 <br> reward: 0 <br> action: [0, 1, 2, 0, 2, 2, 1, 3, 0, 4] <br> in system: 1.0"
           ],
           "legendgroup": "False, last",
           "line": {
            "color": "#EF553B",
            "dash": "solid"
           },
           "marker": {
            "symbol": "circle"
           },
           "mode": "lines+markers",
           "name": "False, last",
           "orientation": "v",
           "showlegend": false,
           "type": "scatter",
           "x": [
            0.32954545454545453
           ],
           "xaxis": "x",
           "y": [
            0.428
           ],
           "yaxis": "y"
          },
          {
           "hovertemplate": "<b>%{hovertext}</b><br><br>main=False<br>type=next<br>step=11<br>name=1<br>x=%{x}<br>y=%{y}<extra></extra>",
           "hovertext": [
            "Next node of 1 <br> reward: 0 <br> action: [0, 1, 2, 0, 2, 2, 1, 3, 0, 4] <br> in system: 1.0"
           ],
           "legendgroup": "False, next",
           "line": {
            "color": "#EF553B",
            "dash": "solid"
           },
           "marker": {
            "symbol": "diamond"
           },
           "mode": "lines+markers",
           "name": "False, next",
           "orientation": "v",
           "showlegend": true,
           "type": "scatter",
           "x": [
            0.32954545454545453
           ],
           "xaxis": "x",
           "y": [
            0.428
           ],
           "yaxis": "y"
          },
          {
           "hovertemplate": "<b>%{hovertext}</b><br><br>main=False<br>type=next<br>step=11<br>name=2<br>x=%{x}<br>y=%{y}<extra></extra>",
           "hovertext": [
            "Next node of 2 <br> reward: 0 <br> action: [0, 1, 2, 0, 2, 2, 1, 3, 0, 4] <br> in system: 1.0"
           ],
           "legendgroup": "False, next",
           "line": {
            "color": "#EF553B",
            "dash": "solid"
           },
           "marker": {
            "symbol": "diamond"
           },
           "mode": "lines+markers",
           "name": "False, next",
           "orientation": "v",
           "showlegend": false,
           "type": "scatter",
           "x": [
            1
           ],
           "xaxis": "x",
           "y": [
            0.86
           ],
           "yaxis": "y"
          },
          {
           "hovertemplate": "<b>%{hovertext}</b><br><br>main=False<br>type=next<br>step=11<br>name=3<br>x=%{x}<br>y=%{y}<extra></extra>",
           "hovertext": [
            "Next node of 3 <br> reward: 0 <br> action: [0, 1, 2, 0, 2, 2, 1, 3, 0, 4] <br> in system: 1.0"
           ],
           "legendgroup": "False, next",
           "line": {
            "color": "#EF553B",
            "dash": "solid"
           },
           "marker": {
            "symbol": "diamond"
           },
           "mode": "lines+markers",
           "name": "False, next",
           "orientation": "v",
           "showlegend": false,
           "type": "scatter",
           "x": [
            0.4772727272727273
           ],
           "xaxis": "x",
           "y": [
            0.38
           ],
           "yaxis": "y"
          },
          {
           "hovertemplate": "<b>%{hovertext}</b><br><br>main=False<br>type=next<br>step=11<br>name=4<br>x=%{x}<br>y=%{y}<extra></extra>",
           "hovertext": [
            "Next node of 4 <br> reward: 0 <br> action: [0, 1, 2, 0, 2, 2, 1, 3, 0, 4] <br> in system: 0.0"
           ],
           "legendgroup": "False, next",
           "line": {
            "color": "#EF553B",
            "dash": "solid"
           },
           "marker": {
            "symbol": "diamond"
           },
           "mode": "lines+markers",
           "name": "False, next",
           "orientation": "v",
           "showlegend": false,
           "type": "scatter",
           "x": [
            0
           ],
           "xaxis": "x",
           "y": [
            0
           ],
           "yaxis": "y"
          },
          {
           "hovertemplate": "<b>%{hovertext}</b><br><br>main=False<br>type=next<br>step=11<br>name=5<br>x=%{x}<br>y=%{y}<extra></extra>",
           "hovertext": [
            "Next node of 5 <br> reward: 0 <br> action: [0, 1, 2, 0, 2, 2, 1, 3, 0, 4] <br> in system: 0.0"
           ],
           "legendgroup": "False, next",
           "line": {
            "color": "#EF553B",
            "dash": "solid"
           },
           "marker": {
            "symbol": "diamond"
           },
           "mode": "lines+markers",
           "name": "False, next",
           "orientation": "v",
           "showlegend": false,
           "type": "scatter",
           "x": [
            0
           ],
           "xaxis": "x",
           "y": [
            0
           ],
           "yaxis": "y"
          },
          {
           "hovertemplate": "<b>%{hovertext}</b><br><br>main=False<br>type=next<br>step=11<br>name=6<br>x=%{x}<br>y=%{y}<extra></extra>",
           "hovertext": [
            "Next node of 6 <br> reward: 0 <br> action: [0, 1, 2, 0, 2, 2, 1, 3, 0, 4] <br> in system: 1.0"
           ],
           "legendgroup": "False, next",
           "line": {
            "color": "#EF553B",
            "dash": "solid"
           },
           "marker": {
            "symbol": "diamond"
           },
           "mode": "lines+markers",
           "name": "False, next",
           "orientation": "v",
           "showlegend": false,
           "type": "scatter",
           "x": [
            0.7613636363636364
           ],
           "xaxis": "x",
           "y": [
            0.86
           ],
           "yaxis": "y"
          },
          {
           "hovertemplate": "<b>%{hovertext}</b><br><br>main=False<br>type=next<br>step=11<br>name=7<br>x=%{x}<br>y=%{y}<extra></extra>",
           "hovertext": [
            "Next node of 7 <br> reward: 0 <br> action: [0, 1, 2, 0, 2, 2, 1, 3, 0, 4] <br> in system: 0.0"
           ],
           "legendgroup": "False, next",
           "line": {
            "color": "#EF553B",
            "dash": "solid"
           },
           "marker": {
            "symbol": "diamond"
           },
           "mode": "lines+markers",
           "name": "False, next",
           "orientation": "v",
           "showlegend": false,
           "type": "scatter",
           "x": [
            0
           ],
           "xaxis": "x",
           "y": [
            0
           ],
           "yaxis": "y"
          },
          {
           "hovertemplate": "<b>%{hovertext}</b><br><br>main=False<br>type=next<br>step=11<br>name=8<br>x=%{x}<br>y=%{y}<extra></extra>",
           "hovertext": [
            "Next node of 8 <br> reward: 0 <br> action: [0, 1, 2, 0, 2, 2, 1, 3, 0, 4] <br> in system: 0.0"
           ],
           "legendgroup": "False, next",
           "line": {
            "color": "#EF553B",
            "dash": "solid"
           },
           "marker": {
            "symbol": "diamond"
           },
           "mode": "lines+markers",
           "name": "False, next",
           "orientation": "v",
           "showlegend": false,
           "type": "scatter",
           "x": [
            0
           ],
           "xaxis": "x",
           "y": [
            0
           ],
           "yaxis": "y"
          },
          {
           "hovertemplate": "<b>%{hovertext}</b><br><br>main=False<br>type=next<br>step=11<br>name=9<br>x=%{x}<br>y=%{y}<extra></extra>",
           "hovertext": [
            "Next node of 9 <br> reward: 0 <br> action: [0, 1, 2, 0, 2, 2, 1, 3, 0, 4] <br> in system: 1.0"
           ],
           "legendgroup": "False, next",
           "line": {
            "color": "#EF553B",
            "dash": "solid"
           },
           "marker": {
            "symbol": "diamond"
           },
           "mode": "lines+markers",
           "name": "False, next",
           "orientation": "v",
           "showlegend": false,
           "type": "scatter",
           "x": [
            0.32954545454545453
           ],
           "xaxis": "x",
           "y": [
            0.428
           ],
           "yaxis": "y"
          }
         ],
         "name": "11"
        },
        {
         "data": [
          {
           "hovertemplate": "<b>%{hovertext}</b><br><br>main=True<br>type=last<br>step=12<br>name=0<br>x=%{x}<br>y=%{y}<extra></extra>",
           "hovertext": [
            "Last node of 0 <br> reward: 1.0 <br> action: [1, 0, 3, 4, 2, 3, 4, 0, 4, 5] <br> in system: 1.0"
           ],
           "legendgroup": "True, last",
           "line": {
            "color": "#636efa",
            "dash": "solid"
           },
           "marker": {
            "symbol": "circle"
           },
           "mode": "lines+markers",
           "name": "True, last",
           "orientation": "v",
           "showlegend": true,
           "type": "scatter",
           "x": [
            1
           ],
           "xaxis": "x",
           "y": [
            0.76
           ],
           "yaxis": "y"
          },
          {
           "hovertemplate": "<b>%{hovertext}</b><br><br>main=True<br>type=next<br>step=12<br>name=0<br>x=%{x}<br>y=%{y}<extra></extra>",
           "hovertext": [
            "Next node of 0 <br> reward: 1.0 <br> action: [1, 0, 3, 4, 2, 3, 4, 0, 4, 5] <br> in system: 1.0"
           ],
           "legendgroup": "True, next",
           "line": {
            "color": "#636efa",
            "dash": "solid"
           },
           "marker": {
            "symbol": "diamond"
           },
           "mode": "lines+markers",
           "name": "True, next",
           "orientation": "v",
           "showlegend": true,
           "type": "scatter",
           "x": [
            0.9431818181818182
           ],
           "xaxis": "x",
           "y": [
            0.76
           ],
           "yaxis": "y"
          },
          {
           "hovertemplate": "<b>%{hovertext}</b><br><br>main=False<br>type=last<br>step=12<br>name=1<br>x=%{x}<br>y=%{y}<extra></extra>",
           "hovertext": [
            "Last node of 1 <br> reward: 1.0 <br> action: [1, 0, 3, 4, 2, 3, 4, 0, 4, 5] <br> in system: 1.0"
           ],
           "legendgroup": "False, last",
           "line": {
            "color": "#EF553B",
            "dash": "solid"
           },
           "marker": {
            "symbol": "circle"
           },
           "mode": "lines+markers",
           "name": "False, last",
           "orientation": "v",
           "showlegend": true,
           "type": "scatter",
           "x": [
            0.32954545454545453
           ],
           "xaxis": "x",
           "y": [
            0.428
           ],
           "yaxis": "y"
          },
          {
           "hovertemplate": "<b>%{hovertext}</b><br><br>main=False<br>type=last<br>step=12<br>name=2<br>x=%{x}<br>y=%{y}<extra></extra>",
           "hovertext": [
            "Last node of 2 <br> reward: 1.0 <br> action: [1, 0, 3, 4, 2, 3, 4, 0, 4, 5] <br> in system: 0.0"
           ],
           "legendgroup": "False, last",
           "line": {
            "color": "#EF553B",
            "dash": "solid"
           },
           "marker": {
            "symbol": "circle"
           },
           "mode": "lines+markers",
           "name": "False, last",
           "orientation": "v",
           "showlegend": false,
           "type": "scatter",
           "x": [
            0
           ],
           "xaxis": "x",
           "y": [
            0
           ],
           "yaxis": "y"
          },
          {
           "hovertemplate": "<b>%{hovertext}</b><br><br>main=False<br>type=last<br>step=12<br>name=3<br>x=%{x}<br>y=%{y}<extra></extra>",
           "hovertext": [
            "Last node of 3 <br> reward: 1.0 <br> action: [1, 0, 3, 4, 2, 3, 4, 0, 4, 5] <br> in system: 0.0"
           ],
           "legendgroup": "False, last",
           "line": {
            "color": "#EF553B",
            "dash": "solid"
           },
           "marker": {
            "symbol": "circle"
           },
           "mode": "lines+markers",
           "name": "False, last",
           "orientation": "v",
           "showlegend": false,
           "type": "scatter",
           "x": [
            0
           ],
           "xaxis": "x",
           "y": [
            0
           ],
           "yaxis": "y"
          },
          {
           "hovertemplate": "<b>%{hovertext}</b><br><br>main=False<br>type=last<br>step=12<br>name=4<br>x=%{x}<br>y=%{y}<extra></extra>",
           "hovertext": [
            "Last node of 4 <br> reward: 1.0 <br> action: [1, 0, 3, 4, 2, 3, 4, 0, 4, 5] <br> in system: 1.0"
           ],
           "legendgroup": "False, last",
           "line": {
            "color": "#EF553B",
            "dash": "solid"
           },
           "marker": {
            "symbol": "circle"
           },
           "mode": "lines+markers",
           "name": "False, last",
           "orientation": "v",
           "showlegend": false,
           "type": "scatter",
           "x": [
            0.7613636363636364
           ],
           "xaxis": "x",
           "y": [
            0.86
           ],
           "yaxis": "y"
          },
          {
           "hovertemplate": "<b>%{hovertext}</b><br><br>main=False<br>type=last<br>step=12<br>name=5<br>x=%{x}<br>y=%{y}<extra></extra>",
           "hovertext": [
            "Last node of 5 <br> reward: 1.0 <br> action: [1, 0, 3, 4, 2, 3, 4, 0, 4, 5] <br> in system: 1.0"
           ],
           "legendgroup": "False, last",
           "line": {
            "color": "#EF553B",
            "dash": "solid"
           },
           "marker": {
            "symbol": "circle"
           },
           "mode": "lines+markers",
           "name": "False, last",
           "orientation": "v",
           "showlegend": false,
           "type": "scatter",
           "x": [
            0.42045454545454547
           ],
           "xaxis": "x",
           "y": [
            0.38
           ],
           "yaxis": "y"
          },
          {
           "hovertemplate": "<b>%{hovertext}</b><br><br>main=False<br>type=last<br>step=12<br>name=6<br>x=%{x}<br>y=%{y}<extra></extra>",
           "hovertext": [
            "Last node of 6 <br> reward: 1.0 <br> action: [1, 0, 3, 4, 2, 3, 4, 0, 4, 5] <br> in system: 1.0"
           ],
           "legendgroup": "False, last",
           "line": {
            "color": "#EF553B",
            "dash": "solid"
           },
           "marker": {
            "symbol": "circle"
           },
           "mode": "lines+markers",
           "name": "False, last",
           "orientation": "v",
           "showlegend": false,
           "type": "scatter",
           "x": [
            0.42045454545454547
           ],
           "xaxis": "x",
           "y": [
            0.38
           ],
           "yaxis": "y"
          },
          {
           "hovertemplate": "<b>%{hovertext}</b><br><br>main=False<br>type=last<br>step=12<br>name=7<br>x=%{x}<br>y=%{y}<extra></extra>",
           "hovertext": [
            "Last node of 7 <br> reward: 1.0 <br> action: [1, 0, 3, 4, 2, 3, 4, 0, 4, 5] <br> in system: 0.0"
           ],
           "legendgroup": "False, last",
           "line": {
            "color": "#EF553B",
            "dash": "solid"
           },
           "marker": {
            "symbol": "circle"
           },
           "mode": "lines+markers",
           "name": "False, last",
           "orientation": "v",
           "showlegend": false,
           "type": "scatter",
           "x": [
            0
           ],
           "xaxis": "x",
           "y": [
            0
           ],
           "yaxis": "y"
          },
          {
           "hovertemplate": "<b>%{hovertext}</b><br><br>main=False<br>type=last<br>step=12<br>name=8<br>x=%{x}<br>y=%{y}<extra></extra>",
           "hovertext": [
            "Last node of 8 <br> reward: 1.0 <br> action: [1, 0, 3, 4, 2, 3, 4, 0, 4, 5] <br> in system: 1.0"
           ],
           "legendgroup": "False, last",
           "line": {
            "color": "#EF553B",
            "dash": "solid"
           },
           "marker": {
            "symbol": "circle"
           },
           "mode": "lines+markers",
           "name": "False, last",
           "orientation": "v",
           "showlegend": false,
           "type": "scatter",
           "x": [
            0.9431818181818182
           ],
           "xaxis": "x",
           "y": [
            0.86
           ],
           "yaxis": "y"
          },
          {
           "hovertemplate": "<b>%{hovertext}</b><br><br>main=False<br>type=last<br>step=12<br>name=9<br>x=%{x}<br>y=%{y}<extra></extra>",
           "hovertext": [
            "Last node of 9 <br> reward: 1.0 <br> action: [1, 0, 3, 4, 2, 3, 4, 0, 4, 5] <br> in system: 0.0"
           ],
           "legendgroup": "False, last",
           "line": {
            "color": "#EF553B",
            "dash": "solid"
           },
           "marker": {
            "symbol": "circle"
           },
           "mode": "lines+markers",
           "name": "False, last",
           "orientation": "v",
           "showlegend": false,
           "type": "scatter",
           "x": [
            0
           ],
           "xaxis": "x",
           "y": [
            0
           ],
           "yaxis": "y"
          },
          {
           "hovertemplate": "<b>%{hovertext}</b><br><br>main=False<br>type=next<br>step=12<br>name=1<br>x=%{x}<br>y=%{y}<extra></extra>",
           "hovertext": [
            "Next node of 1 <br> reward: 1.0 <br> action: [1, 0, 3, 4, 2, 3, 4, 0, 4, 5] <br> in system: 1.0"
           ],
           "legendgroup": "False, next",
           "line": {
            "color": "#EF553B",
            "dash": "solid"
           },
           "marker": {
            "symbol": "diamond"
           },
           "mode": "lines+markers",
           "name": "False, next",
           "orientation": "v",
           "showlegend": true,
           "type": "scatter",
           "x": [
            0.32954545454545453
           ],
           "xaxis": "x",
           "y": [
            0.428
           ],
           "yaxis": "y"
          },
          {
           "hovertemplate": "<b>%{hovertext}</b><br><br>main=False<br>type=next<br>step=12<br>name=2<br>x=%{x}<br>y=%{y}<extra></extra>",
           "hovertext": [
            "Next node of 2 <br> reward: 1.0 <br> action: [1, 0, 3, 4, 2, 3, 4, 0, 4, 5] <br> in system: 0.0"
           ],
           "legendgroup": "False, next",
           "line": {
            "color": "#EF553B",
            "dash": "solid"
           },
           "marker": {
            "symbol": "diamond"
           },
           "mode": "lines+markers",
           "name": "False, next",
           "orientation": "v",
           "showlegend": false,
           "type": "scatter",
           "x": [
            0
           ],
           "xaxis": "x",
           "y": [
            0
           ],
           "yaxis": "y"
          },
          {
           "hovertemplate": "<b>%{hovertext}</b><br><br>main=False<br>type=next<br>step=12<br>name=3<br>x=%{x}<br>y=%{y}<extra></extra>",
           "hovertext": [
            "Next node of 3 <br> reward: 1.0 <br> action: [1, 0, 3, 4, 2, 3, 4, 0, 4, 5] <br> in system: 0.0"
           ],
           "legendgroup": "False, next",
           "line": {
            "color": "#EF553B",
            "dash": "solid"
           },
           "marker": {
            "symbol": "diamond"
           },
           "mode": "lines+markers",
           "name": "False, next",
           "orientation": "v",
           "showlegend": false,
           "type": "scatter",
           "x": [
            0
           ],
           "xaxis": "x",
           "y": [
            0
           ],
           "yaxis": "y"
          },
          {
           "hovertemplate": "<b>%{hovertext}</b><br><br>main=False<br>type=next<br>step=12<br>name=4<br>x=%{x}<br>y=%{y}<extra></extra>",
           "hovertext": [
            "Next node of 4 <br> reward: 1.0 <br> action: [1, 0, 3, 4, 2, 3, 4, 0, 4, 5] <br> in system: 1.0"
           ],
           "legendgroup": "False, next",
           "line": {
            "color": "#EF553B",
            "dash": "solid"
           },
           "marker": {
            "symbol": "diamond"
           },
           "mode": "lines+markers",
           "name": "False, next",
           "orientation": "v",
           "showlegend": false,
           "type": "scatter",
           "x": [
            0.6022727272727273
           ],
           "xaxis": "x",
           "y": [
            0.86
           ],
           "yaxis": "y"
          },
          {
           "hovertemplate": "<b>%{hovertext}</b><br><br>main=False<br>type=next<br>step=12<br>name=5<br>x=%{x}<br>y=%{y}<extra></extra>",
           "hovertext": [
            "Next node of 5 <br> reward: 1.0 <br> action: [1, 0, 3, 4, 2, 3, 4, 0, 4, 5] <br> in system: 1.0"
           ],
           "legendgroup": "False, next",
           "line": {
            "color": "#EF553B",
            "dash": "solid"
           },
           "marker": {
            "symbol": "diamond"
           },
           "mode": "lines+markers",
           "name": "False, next",
           "orientation": "v",
           "showlegend": false,
           "type": "scatter",
           "x": [
            0.4772727272727273
           ],
           "xaxis": "x",
           "y": [
            0.38
           ],
           "yaxis": "y"
          },
          {
           "hovertemplate": "<b>%{hovertext}</b><br><br>main=False<br>type=next<br>step=12<br>name=6<br>x=%{x}<br>y=%{y}<extra></extra>",
           "hovertext": [
            "Next node of 6 <br> reward: 1.0 <br> action: [1, 0, 3, 4, 2, 3, 4, 0, 4, 5] <br> in system: 1.0"
           ],
           "legendgroup": "False, next",
           "line": {
            "color": "#EF553B",
            "dash": "solid"
           },
           "marker": {
            "symbol": "diamond"
           },
           "mode": "lines+markers",
           "name": "False, next",
           "orientation": "v",
           "showlegend": false,
           "type": "scatter",
           "x": [
            0.32954545454545453
           ],
           "xaxis": "x",
           "y": [
            0.428
           ],
           "yaxis": "y"
          },
          {
           "hovertemplate": "<b>%{hovertext}</b><br><br>main=False<br>type=next<br>step=12<br>name=7<br>x=%{x}<br>y=%{y}<extra></extra>",
           "hovertext": [
            "Next node of 7 <br> reward: 1.0 <br> action: [1, 0, 3, 4, 2, 3, 4, 0, 4, 5] <br> in system: 0.0"
           ],
           "legendgroup": "False, next",
           "line": {
            "color": "#EF553B",
            "dash": "solid"
           },
           "marker": {
            "symbol": "diamond"
           },
           "mode": "lines+markers",
           "name": "False, next",
           "orientation": "v",
           "showlegend": false,
           "type": "scatter",
           "x": [
            0
           ],
           "xaxis": "x",
           "y": [
            0
           ],
           "yaxis": "y"
          },
          {
           "hovertemplate": "<b>%{hovertext}</b><br><br>main=False<br>type=next<br>step=12<br>name=8<br>x=%{x}<br>y=%{y}<extra></extra>",
           "hovertext": [
            "Next node of 8 <br> reward: 1.0 <br> action: [1, 0, 3, 4, 2, 3, 4, 0, 4, 5] <br> in system: 1.0"
           ],
           "legendgroup": "False, next",
           "line": {
            "color": "#EF553B",
            "dash": "solid"
           },
           "marker": {
            "symbol": "diamond"
           },
           "mode": "lines+markers",
           "name": "False, next",
           "orientation": "v",
           "showlegend": false,
           "type": "scatter",
           "x": [
            1
           ],
           "xaxis": "x",
           "y": [
            0.86
           ],
           "yaxis": "y"
          },
          {
           "hovertemplate": "<b>%{hovertext}</b><br><br>main=False<br>type=next<br>step=12<br>name=9<br>x=%{x}<br>y=%{y}<extra></extra>",
           "hovertext": [
            "Next node of 9 <br> reward: 1.0 <br> action: [1, 0, 3, 4, 2, 3, 4, 0, 4, 5] <br> in system: 0.0"
           ],
           "legendgroup": "False, next",
           "line": {
            "color": "#EF553B",
            "dash": "solid"
           },
           "marker": {
            "symbol": "diamond"
           },
           "mode": "lines+markers",
           "name": "False, next",
           "orientation": "v",
           "showlegend": false,
           "type": "scatter",
           "x": [
            0
           ],
           "xaxis": "x",
           "y": [
            0
           ],
           "yaxis": "y"
          }
         ],
         "name": "12"
        },
        {
         "data": [
          {
           "hovertemplate": "<b>%{hovertext}</b><br><br>main=True<br>type=last<br>step=13<br>name=0<br>x=%{x}<br>y=%{y}<extra></extra>",
           "hovertext": [
            "Last node of 0 <br> reward: 0 <br> action: [3, 4, 4, 3, 1, 2, 4, 4, 0, 0] <br> in system: 1.0"
           ],
           "legendgroup": "True, last",
           "line": {
            "color": "#636efa",
            "dash": "solid"
           },
           "marker": {
            "symbol": "circle"
           },
           "mode": "lines+markers",
           "name": "True, last",
           "orientation": "v",
           "showlegend": true,
           "type": "scatter",
           "x": [
            0.9431818181818182
           ],
           "xaxis": "x",
           "y": [
            0.76
           ],
           "yaxis": "y"
          },
          {
           "hovertemplate": "<b>%{hovertext}</b><br><br>main=True<br>type=next<br>step=13<br>name=0<br>x=%{x}<br>y=%{y}<extra></extra>",
           "hovertext": [
            "Next node of 0 <br> reward: 0 <br> action: [3, 4, 4, 3, 1, 2, 4, 4, 0, 0] <br> in system: 1.0"
           ],
           "legendgroup": "True, next",
           "line": {
            "color": "#636efa",
            "dash": "solid"
           },
           "marker": {
            "symbol": "diamond"
           },
           "mode": "lines+markers",
           "name": "True, next",
           "orientation": "v",
           "showlegend": true,
           "type": "scatter",
           "x": [
            0.8181818181818182
           ],
           "xaxis": "x",
           "y": [
            0.76
           ],
           "yaxis": "y"
          },
          {
           "hovertemplate": "<b>%{hovertext}</b><br><br>main=False<br>type=last<br>step=13<br>name=1<br>x=%{x}<br>y=%{y}<extra></extra>",
           "hovertext": [
            "Last node of 1 <br> reward: 0 <br> action: [3, 4, 4, 3, 1, 2, 4, 4, 0, 0] <br> in system: 0.0"
           ],
           "legendgroup": "False, last",
           "line": {
            "color": "#EF553B",
            "dash": "solid"
           },
           "marker": {
            "symbol": "circle"
           },
           "mode": "lines+markers",
           "name": "False, last",
           "orientation": "v",
           "showlegend": true,
           "type": "scatter",
           "x": [
            0
           ],
           "xaxis": "x",
           "y": [
            0
           ],
           "yaxis": "y"
          },
          {
           "hovertemplate": "<b>%{hovertext}</b><br><br>main=False<br>type=last<br>step=13<br>name=2<br>x=%{x}<br>y=%{y}<extra></extra>",
           "hovertext": [
            "Last node of 2 <br> reward: 0 <br> action: [3, 4, 4, 3, 1, 2, 4, 4, 0, 0] <br> in system: 1.0"
           ],
           "legendgroup": "False, last",
           "line": {
            "color": "#EF553B",
            "dash": "solid"
           },
           "marker": {
            "symbol": "circle"
           },
           "mode": "lines+markers",
           "name": "False, last",
           "orientation": "v",
           "showlegend": false,
           "type": "scatter",
           "x": [
            0.42045454545454547
           ],
           "xaxis": "x",
           "y": [
            0.38
           ],
           "yaxis": "y"
          },
          {
           "hovertemplate": "<b>%{hovertext}</b><br><br>main=False<br>type=last<br>step=13<br>name=3<br>x=%{x}<br>y=%{y}<extra></extra>",
           "hovertext": [
            "Last node of 3 <br> reward: 0 <br> action: [3, 4, 4, 3, 1, 2, 4, 4, 0, 0] <br> in system: 0.0"
           ],
           "legendgroup": "False, last",
           "line": {
            "color": "#EF553B",
            "dash": "solid"
           },
           "marker": {
            "symbol": "circle"
           },
           "mode": "lines+markers",
           "name": "False, last",
           "orientation": "v",
           "showlegend": false,
           "type": "scatter",
           "x": [
            0
           ],
           "xaxis": "x",
           "y": [
            0
           ],
           "yaxis": "y"
          },
          {
           "hovertemplate": "<b>%{hovertext}</b><br><br>main=False<br>type=last<br>step=13<br>name=4<br>x=%{x}<br>y=%{y}<extra></extra>",
           "hovertext": [
            "Last node of 4 <br> reward: 0 <br> action: [3, 4, 4, 3, 1, 2, 4, 4, 0, 0] <br> in system: 1.0"
           ],
           "legendgroup": "False, last",
           "line": {
            "color": "#EF553B",
            "dash": "solid"
           },
           "marker": {
            "symbol": "circle"
           },
           "mode": "lines+markers",
           "name": "False, last",
           "orientation": "v",
           "showlegend": false,
           "type": "scatter",
           "x": [
            0.7613636363636364
           ],
           "xaxis": "x",
           "y": [
            0.86
           ],
           "yaxis": "y"
          },
          {
           "hovertemplate": "<b>%{hovertext}</b><br><br>main=False<br>type=last<br>step=13<br>name=5<br>x=%{x}<br>y=%{y}<extra></extra>",
           "hovertext": [
            "Last node of 5 <br> reward: 0 <br> action: [3, 4, 4, 3, 1, 2, 4, 4, 0, 0] <br> in system: 0.0"
           ],
           "legendgroup": "False, last",
           "line": {
            "color": "#EF553B",
            "dash": "solid"
           },
           "marker": {
            "symbol": "circle"
           },
           "mode": "lines+markers",
           "name": "False, last",
           "orientation": "v",
           "showlegend": false,
           "type": "scatter",
           "x": [
            0
           ],
           "xaxis": "x",
           "y": [
            0
           ],
           "yaxis": "y"
          },
          {
           "hovertemplate": "<b>%{hovertext}</b><br><br>main=False<br>type=last<br>step=13<br>name=6<br>x=%{x}<br>y=%{y}<extra></extra>",
           "hovertext": [
            "Last node of 6 <br> reward: 0 <br> action: [3, 4, 4, 3, 1, 2, 4, 4, 0, 0] <br> in system: 1.0"
           ],
           "legendgroup": "False, last",
           "line": {
            "color": "#EF553B",
            "dash": "solid"
           },
           "marker": {
            "symbol": "circle"
           },
           "mode": "lines+markers",
           "name": "False, last",
           "orientation": "v",
           "showlegend": false,
           "type": "scatter",
           "x": [
            0.9431818181818182
           ],
           "xaxis": "x",
           "y": [
            0.86
           ],
           "yaxis": "y"
          },
          {
           "hovertemplate": "<b>%{hovertext}</b><br><br>main=False<br>type=last<br>step=13<br>name=7<br>x=%{x}<br>y=%{y}<extra></extra>",
           "hovertext": [
            "Last node of 7 <br> reward: 0 <br> action: [3, 4, 4, 3, 1, 2, 4, 4, 0, 0] <br> in system: 1.0"
           ],
           "legendgroup": "False, last",
           "line": {
            "color": "#EF553B",
            "dash": "solid"
           },
           "marker": {
            "symbol": "circle"
           },
           "mode": "lines+markers",
           "name": "False, last",
           "orientation": "v",
           "showlegend": false,
           "type": "scatter",
           "x": [
            0.42045454545454547
           ],
           "xaxis": "x",
           "y": [
            0.38
           ],
           "yaxis": "y"
          },
          {
           "hovertemplate": "<b>%{hovertext}</b><br><br>main=False<br>type=last<br>step=13<br>name=8<br>x=%{x}<br>y=%{y}<extra></extra>",
           "hovertext": [
            "Last node of 8 <br> reward: 0 <br> action: [3, 4, 4, 3, 1, 2, 4, 4, 0, 0] <br> in system: 1.0"
           ],
           "legendgroup": "False, last",
           "line": {
            "color": "#EF553B",
            "dash": "solid"
           },
           "marker": {
            "symbol": "circle"
           },
           "mode": "lines+markers",
           "name": "False, last",
           "orientation": "v",
           "showlegend": false,
           "type": "scatter",
           "x": [
            0.32954545454545453
           ],
           "xaxis": "x",
           "y": [
            0.428
           ],
           "yaxis": "y"
          },
          {
           "hovertemplate": "<b>%{hovertext}</b><br><br>main=False<br>type=last<br>step=13<br>name=9<br>x=%{x}<br>y=%{y}<extra></extra>",
           "hovertext": [
            "Last node of 9 <br> reward: 0 <br> action: [3, 4, 4, 3, 1, 2, 4, 4, 0, 0] <br> in system: 0.0"
           ],
           "legendgroup": "False, last",
           "line": {
            "color": "#EF553B",
            "dash": "solid"
           },
           "marker": {
            "symbol": "circle"
           },
           "mode": "lines+markers",
           "name": "False, last",
           "orientation": "v",
           "showlegend": false,
           "type": "scatter",
           "x": [
            0
           ],
           "xaxis": "x",
           "y": [
            0
           ],
           "yaxis": "y"
          },
          {
           "hovertemplate": "<b>%{hovertext}</b><br><br>main=False<br>type=next<br>step=13<br>name=1<br>x=%{x}<br>y=%{y}<extra></extra>",
           "hovertext": [
            "Next node of 1 <br> reward: 0 <br> action: [3, 4, 4, 3, 1, 2, 4, 4, 0, 0] <br> in system: 0.0"
           ],
           "legendgroup": "False, next",
           "line": {
            "color": "#EF553B",
            "dash": "solid"
           },
           "marker": {
            "symbol": "diamond"
           },
           "mode": "lines+markers",
           "name": "False, next",
           "orientation": "v",
           "showlegend": true,
           "type": "scatter",
           "x": [
            0
           ],
           "xaxis": "x",
           "y": [
            0
           ],
           "yaxis": "y"
          },
          {
           "hovertemplate": "<b>%{hovertext}</b><br><br>main=False<br>type=next<br>step=13<br>name=2<br>x=%{x}<br>y=%{y}<extra></extra>",
           "hovertext": [
            "Next node of 2 <br> reward: 0 <br> action: [3, 4, 4, 3, 1, 2, 4, 4, 0, 0] <br> in system: 1.0"
           ],
           "legendgroup": "False, next",
           "line": {
            "color": "#EF553B",
            "dash": "solid"
           },
           "marker": {
            "symbol": "diamond"
           },
           "mode": "lines+markers",
           "name": "False, next",
           "orientation": "v",
           "showlegend": false,
           "type": "scatter",
           "x": [
            0.32954545454545453
           ],
           "xaxis": "x",
           "y": [
            0.428
           ],
           "yaxis": "y"
          },
          {
           "hovertemplate": "<b>%{hovertext}</b><br><br>main=False<br>type=next<br>step=13<br>name=3<br>x=%{x}<br>y=%{y}<extra></extra>",
           "hovertext": [
            "Next node of 3 <br> reward: 0 <br> action: [3, 4, 4, 3, 1, 2, 4, 4, 0, 0] <br> in system: 0.0"
           ],
           "legendgroup": "False, next",
           "line": {
            "color": "#EF553B",
            "dash": "solid"
           },
           "marker": {
            "symbol": "diamond"
           },
           "mode": "lines+markers",
           "name": "False, next",
           "orientation": "v",
           "showlegend": false,
           "type": "scatter",
           "x": [
            0
           ],
           "xaxis": "x",
           "y": [
            0
           ],
           "yaxis": "y"
          },
          {
           "hovertemplate": "<b>%{hovertext}</b><br><br>main=False<br>type=next<br>step=13<br>name=4<br>x=%{x}<br>y=%{y}<extra></extra>",
           "hovertext": [
            "Next node of 4 <br> reward: 0 <br> action: [3, 4, 4, 3, 1, 2, 4, 4, 0, 0] <br> in system: 1.0"
           ],
           "legendgroup": "False, next",
           "line": {
            "color": "#EF553B",
            "dash": "solid"
           },
           "marker": {
            "symbol": "diamond"
           },
           "mode": "lines+markers",
           "name": "False, next",
           "orientation": "v",
           "showlegend": false,
           "type": "scatter",
           "x": [
            0.6022727272727273
           ],
           "xaxis": "x",
           "y": [
            0.86
           ],
           "yaxis": "y"
          },
          {
           "hovertemplate": "<b>%{hovertext}</b><br><br>main=False<br>type=next<br>step=13<br>name=5<br>x=%{x}<br>y=%{y}<extra></extra>",
           "hovertext": [
            "Next node of 5 <br> reward: 0 <br> action: [3, 4, 4, 3, 1, 2, 4, 4, 0, 0] <br> in system: 0.0"
           ],
           "legendgroup": "False, next",
           "line": {
            "color": "#EF553B",
            "dash": "solid"
           },
           "marker": {
            "symbol": "diamond"
           },
           "mode": "lines+markers",
           "name": "False, next",
           "orientation": "v",
           "showlegend": false,
           "type": "scatter",
           "x": [
            0
           ],
           "xaxis": "x",
           "y": [
            0
           ],
           "yaxis": "y"
          },
          {
           "hovertemplate": "<b>%{hovertext}</b><br><br>main=False<br>type=next<br>step=13<br>name=6<br>x=%{x}<br>y=%{y}<extra></extra>",
           "hovertext": [
            "Next node of 6 <br> reward: 0 <br> action: [3, 4, 4, 3, 1, 2, 4, 4, 0, 0] <br> in system: 1.0"
           ],
           "legendgroup": "False, next",
           "line": {
            "color": "#EF553B",
            "dash": "solid"
           },
           "marker": {
            "symbol": "diamond"
           },
           "mode": "lines+markers",
           "name": "False, next",
           "orientation": "v",
           "showlegend": false,
           "type": "scatter",
           "x": [
            1
           ],
           "xaxis": "x",
           "y": [
            0.86
           ],
           "yaxis": "y"
          },
          {
           "hovertemplate": "<b>%{hovertext}</b><br><br>main=False<br>type=next<br>step=13<br>name=7<br>x=%{x}<br>y=%{y}<extra></extra>",
           "hovertext": [
            "Next node of 7 <br> reward: 0 <br> action: [3, 4, 4, 3, 1, 2, 4, 4, 0, 0] <br> in system: 1.0"
           ],
           "legendgroup": "False, next",
           "line": {
            "color": "#EF553B",
            "dash": "solid"
           },
           "marker": {
            "symbol": "diamond"
           },
           "mode": "lines+markers",
           "name": "False, next",
           "orientation": "v",
           "showlegend": false,
           "type": "scatter",
           "x": [
            0.4772727272727273
           ],
           "xaxis": "x",
           "y": [
            0.38
           ],
           "yaxis": "y"
          },
          {
           "hovertemplate": "<b>%{hovertext}</b><br><br>main=False<br>type=next<br>step=13<br>name=8<br>x=%{x}<br>y=%{y}<extra></extra>",
           "hovertext": [
            "Next node of 8 <br> reward: 0 <br> action: [3, 4, 4, 3, 1, 2, 4, 4, 0, 0] <br> in system: 1.0"
           ],
           "legendgroup": "False, next",
           "line": {
            "color": "#EF553B",
            "dash": "solid"
           },
           "marker": {
            "symbol": "diamond"
           },
           "mode": "lines+markers",
           "name": "False, next",
           "orientation": "v",
           "showlegend": false,
           "type": "scatter",
           "x": [
            0.32954545454545453
           ],
           "xaxis": "x",
           "y": [
            0.428
           ],
           "yaxis": "y"
          },
          {
           "hovertemplate": "<b>%{hovertext}</b><br><br>main=False<br>type=next<br>step=13<br>name=9<br>x=%{x}<br>y=%{y}<extra></extra>",
           "hovertext": [
            "Next node of 9 <br> reward: 0 <br> action: [3, 4, 4, 3, 1, 2, 4, 4, 0, 0] <br> in system: 0.0"
           ],
           "legendgroup": "False, next",
           "line": {
            "color": "#EF553B",
            "dash": "solid"
           },
           "marker": {
            "symbol": "diamond"
           },
           "mode": "lines+markers",
           "name": "False, next",
           "orientation": "v",
           "showlegend": false,
           "type": "scatter",
           "x": [
            0
           ],
           "xaxis": "x",
           "y": [
            0
           ],
           "yaxis": "y"
          }
         ],
         "name": "13"
        },
        {
         "data": [
          {
           "hovertemplate": "<b>%{hovertext}</b><br><br>main=True<br>type=last<br>step=14<br>name=0<br>x=%{x}<br>y=%{y}<extra></extra>",
           "hovertext": [
            "Last node of 0 <br> reward: 1.0 <br> action: [5, 5, 3, 3, 2, 3, 2, 1, 2, 5] <br> in system: 1.0"
           ],
           "legendgroup": "True, last",
           "line": {
            "color": "#636efa",
            "dash": "solid"
           },
           "marker": {
            "symbol": "circle"
           },
           "mode": "lines+markers",
           "name": "True, last",
           "orientation": "v",
           "showlegend": true,
           "type": "scatter",
           "x": [
            0.9431818181818182
           ],
           "xaxis": "x",
           "y": [
            0.76
           ],
           "yaxis": "y"
          },
          {
           "hovertemplate": "<b>%{hovertext}</b><br><br>main=True<br>type=next<br>step=14<br>name=0<br>x=%{x}<br>y=%{y}<extra></extra>",
           "hovertext": [
            "Next node of 0 <br> reward: 1.0 <br> action: [5, 5, 3, 3, 2, 3, 2, 1, 2, 5] <br> in system: 1.0"
           ],
           "legendgroup": "True, next",
           "line": {
            "color": "#636efa",
            "dash": "solid"
           },
           "marker": {
            "symbol": "diamond"
           },
           "mode": "lines+markers",
           "name": "True, next",
           "orientation": "v",
           "showlegend": true,
           "type": "scatter",
           "x": [
            0.8181818181818182
           ],
           "xaxis": "x",
           "y": [
            0.76
           ],
           "yaxis": "y"
          },
          {
           "hovertemplate": "<b>%{hovertext}</b><br><br>main=False<br>type=last<br>step=14<br>name=1<br>x=%{x}<br>y=%{y}<extra></extra>",
           "hovertext": [
            "Last node of 1 <br> reward: 1.0 <br> action: [5, 5, 3, 3, 2, 3, 2, 1, 2, 5] <br> in system: 0.0"
           ],
           "legendgroup": "False, last",
           "line": {
            "color": "#EF553B",
            "dash": "solid"
           },
           "marker": {
            "symbol": "circle"
           },
           "mode": "lines+markers",
           "name": "False, last",
           "orientation": "v",
           "showlegend": true,
           "type": "scatter",
           "x": [
            0
           ],
           "xaxis": "x",
           "y": [
            0
           ],
           "yaxis": "y"
          },
          {
           "hovertemplate": "<b>%{hovertext}</b><br><br>main=False<br>type=last<br>step=14<br>name=2<br>x=%{x}<br>y=%{y}<extra></extra>",
           "hovertext": [
            "Last node of 2 <br> reward: 1.0 <br> action: [5, 5, 3, 3, 2, 3, 2, 1, 2, 5] <br> in system: 1.0"
           ],
           "legendgroup": "False, last",
           "line": {
            "color": "#EF553B",
            "dash": "solid"
           },
           "marker": {
            "symbol": "circle"
           },
           "mode": "lines+markers",
           "name": "False, last",
           "orientation": "v",
           "showlegend": false,
           "type": "scatter",
           "x": [
            0.42045454545454547
           ],
           "xaxis": "x",
           "y": [
            0.38
           ],
           "yaxis": "y"
          },
          {
           "hovertemplate": "<b>%{hovertext}</b><br><br>main=False<br>type=last<br>step=14<br>name=3<br>x=%{x}<br>y=%{y}<extra></extra>",
           "hovertext": [
            "Last node of 3 <br> reward: 1.0 <br> action: [5, 5, 3, 3, 2, 3, 2, 1, 2, 5] <br> in system: 1.0"
           ],
           "legendgroup": "False, last",
           "line": {
            "color": "#EF553B",
            "dash": "solid"
           },
           "marker": {
            "symbol": "circle"
           },
           "mode": "lines+markers",
           "name": "False, last",
           "orientation": "v",
           "showlegend": false,
           "type": "scatter",
           "x": [
            0.7613636363636364
           ],
           "xaxis": "x",
           "y": [
            0.86
           ],
           "yaxis": "y"
          },
          {
           "hovertemplate": "<b>%{hovertext}</b><br><br>main=False<br>type=last<br>step=14<br>name=4<br>x=%{x}<br>y=%{y}<extra></extra>",
           "hovertext": [
            "Last node of 4 <br> reward: 1.0 <br> action: [5, 5, 3, 3, 2, 3, 2, 1, 2, 5] <br> in system: 1.0"
           ],
           "legendgroup": "False, last",
           "line": {
            "color": "#EF553B",
            "dash": "solid"
           },
           "marker": {
            "symbol": "circle"
           },
           "mode": "lines+markers",
           "name": "False, last",
           "orientation": "v",
           "showlegend": false,
           "type": "scatter",
           "x": [
            0.42045454545454547
           ],
           "xaxis": "x",
           "y": [
            0.38
           ],
           "yaxis": "y"
          },
          {
           "hovertemplate": "<b>%{hovertext}</b><br><br>main=False<br>type=last<br>step=14<br>name=5<br>x=%{x}<br>y=%{y}<extra></extra>",
           "hovertext": [
            "Last node of 5 <br> reward: 1.0 <br> action: [5, 5, 3, 3, 2, 3, 2, 1, 2, 5] <br> in system: 1.0"
           ],
           "legendgroup": "False, last",
           "line": {
            "color": "#EF553B",
            "dash": "solid"
           },
           "marker": {
            "symbol": "circle"
           },
           "mode": "lines+markers",
           "name": "False, last",
           "orientation": "v",
           "showlegend": false,
           "type": "scatter",
           "x": [
            0.32954545454545453
           ],
           "xaxis": "x",
           "y": [
            0.428
           ],
           "yaxis": "y"
          },
          {
           "hovertemplate": "<b>%{hovertext}</b><br><br>main=False<br>type=last<br>step=14<br>name=6<br>x=%{x}<br>y=%{y}<extra></extra>",
           "hovertext": [
            "Last node of 6 <br> reward: 1.0 <br> action: [5, 5, 3, 3, 2, 3, 2, 1, 2, 5] <br> in system: 0.0"
           ],
           "legendgroup": "False, last",
           "line": {
            "color": "#EF553B",
            "dash": "solid"
           },
           "marker": {
            "symbol": "circle"
           },
           "mode": "lines+markers",
           "name": "False, last",
           "orientation": "v",
           "showlegend": false,
           "type": "scatter",
           "x": [
            0
           ],
           "xaxis": "x",
           "y": [
            0
           ],
           "yaxis": "y"
          },
          {
           "hovertemplate": "<b>%{hovertext}</b><br><br>main=False<br>type=last<br>step=14<br>name=7<br>x=%{x}<br>y=%{y}<extra></extra>",
           "hovertext": [
            "Last node of 7 <br> reward: 1.0 <br> action: [5, 5, 3, 3, 2, 3, 2, 1, 2, 5] <br> in system: 0.0"
           ],
           "legendgroup": "False, last",
           "line": {
            "color": "#EF553B",
            "dash": "solid"
           },
           "marker": {
            "symbol": "circle"
           },
           "mode": "lines+markers",
           "name": "False, last",
           "orientation": "v",
           "showlegend": false,
           "type": "scatter",
           "x": [
            0
           ],
           "xaxis": "x",
           "y": [
            0
           ],
           "yaxis": "y"
          },
          {
           "hovertemplate": "<b>%{hovertext}</b><br><br>main=False<br>type=last<br>step=14<br>name=8<br>x=%{x}<br>y=%{y}<extra></extra>",
           "hovertext": [
            "Last node of 8 <br> reward: 1.0 <br> action: [5, 5, 3, 3, 2, 3, 2, 1, 2, 5] <br> in system: 1.0"
           ],
           "legendgroup": "False, last",
           "line": {
            "color": "#EF553B",
            "dash": "solid"
           },
           "marker": {
            "symbol": "circle"
           },
           "mode": "lines+markers",
           "name": "False, last",
           "orientation": "v",
           "showlegend": false,
           "type": "scatter",
           "x": [
            0.9431818181818182
           ],
           "xaxis": "x",
           "y": [
            0.86
           ],
           "yaxis": "y"
          },
          {
           "hovertemplate": "<b>%{hovertext}</b><br><br>main=False<br>type=last<br>step=14<br>name=9<br>x=%{x}<br>y=%{y}<extra></extra>",
           "hovertext": [
            "Last node of 9 <br> reward: 1.0 <br> action: [5, 5, 3, 3, 2, 3, 2, 1, 2, 5] <br> in system: 0.0"
           ],
           "legendgroup": "False, last",
           "line": {
            "color": "#EF553B",
            "dash": "solid"
           },
           "marker": {
            "symbol": "circle"
           },
           "mode": "lines+markers",
           "name": "False, last",
           "orientation": "v",
           "showlegend": false,
           "type": "scatter",
           "x": [
            0
           ],
           "xaxis": "x",
           "y": [
            0
           ],
           "yaxis": "y"
          },
          {
           "hovertemplate": "<b>%{hovertext}</b><br><br>main=False<br>type=next<br>step=14<br>name=1<br>x=%{x}<br>y=%{y}<extra></extra>",
           "hovertext": [
            "Next node of 1 <br> reward: 1.0 <br> action: [5, 5, 3, 3, 2, 3, 2, 1, 2, 5] <br> in system: 0.0"
           ],
           "legendgroup": "False, next",
           "line": {
            "color": "#EF553B",
            "dash": "solid"
           },
           "marker": {
            "symbol": "diamond"
           },
           "mode": "lines+markers",
           "name": "False, next",
           "orientation": "v",
           "showlegend": true,
           "type": "scatter",
           "x": [
            0
           ],
           "xaxis": "x",
           "y": [
            0
           ],
           "yaxis": "y"
          },
          {
           "hovertemplate": "<b>%{hovertext}</b><br><br>main=False<br>type=next<br>step=14<br>name=2<br>x=%{x}<br>y=%{y}<extra></extra>",
           "hovertext": [
            "Next node of 2 <br> reward: 1.0 <br> action: [5, 5, 3, 3, 2, 3, 2, 1, 2, 5] <br> in system: 1.0"
           ],
           "legendgroup": "False, next",
           "line": {
            "color": "#EF553B",
            "dash": "solid"
           },
           "marker": {
            "symbol": "diamond"
           },
           "mode": "lines+markers",
           "name": "False, next",
           "orientation": "v",
           "showlegend": false,
           "type": "scatter",
           "x": [
            0.32954545454545453
           ],
           "xaxis": "x",
           "y": [
            0.428
           ],
           "yaxis": "y"
          },
          {
           "hovertemplate": "<b>%{hovertext}</b><br><br>main=False<br>type=next<br>step=14<br>name=3<br>x=%{x}<br>y=%{y}<extra></extra>",
           "hovertext": [
            "Next node of 3 <br> reward: 1.0 <br> action: [5, 5, 3, 3, 2, 3, 2, 1, 2, 5] <br> in system: 1.0"
           ],
           "legendgroup": "False, next",
           "line": {
            "color": "#EF553B",
            "dash": "solid"
           },
           "marker": {
            "symbol": "diamond"
           },
           "mode": "lines+markers",
           "name": "False, next",
           "orientation": "v",
           "showlegend": false,
           "type": "scatter",
           "x": [
            0.6022727272727273
           ],
           "xaxis": "x",
           "y": [
            0.86
           ],
           "yaxis": "y"
          },
          {
           "hovertemplate": "<b>%{hovertext}</b><br><br>main=False<br>type=next<br>step=14<br>name=4<br>x=%{x}<br>y=%{y}<extra></extra>",
           "hovertext": [
            "Next node of 4 <br> reward: 1.0 <br> action: [5, 5, 3, 3, 2, 3, 2, 1, 2, 5] <br> in system: 1.0"
           ],
           "legendgroup": "False, next",
           "line": {
            "color": "#EF553B",
            "dash": "solid"
           },
           "marker": {
            "symbol": "diamond"
           },
           "mode": "lines+markers",
           "name": "False, next",
           "orientation": "v",
           "showlegend": false,
           "type": "scatter",
           "x": [
            0.4772727272727273
           ],
           "xaxis": "x",
           "y": [
            0.38
           ],
           "yaxis": "y"
          },
          {
           "hovertemplate": "<b>%{hovertext}</b><br><br>main=False<br>type=next<br>step=14<br>name=5<br>x=%{x}<br>y=%{y}<extra></extra>",
           "hovertext": [
            "Next node of 5 <br> reward: 1.0 <br> action: [5, 5, 3, 3, 2, 3, 2, 1, 2, 5] <br> in system: 1.0"
           ],
           "legendgroup": "False, next",
           "line": {
            "color": "#EF553B",
            "dash": "solid"
           },
           "marker": {
            "symbol": "diamond"
           },
           "mode": "lines+markers",
           "name": "False, next",
           "orientation": "v",
           "showlegend": false,
           "type": "scatter",
           "x": [
            0.32954545454545453
           ],
           "xaxis": "x",
           "y": [
            0.428
           ],
           "yaxis": "y"
          },
          {
           "hovertemplate": "<b>%{hovertext}</b><br><br>main=False<br>type=next<br>step=14<br>name=6<br>x=%{x}<br>y=%{y}<extra></extra>",
           "hovertext": [
            "Next node of 6 <br> reward: 1.0 <br> action: [5, 5, 3, 3, 2, 3, 2, 1, 2, 5] <br> in system: 0.0"
           ],
           "legendgroup": "False, next",
           "line": {
            "color": "#EF553B",
            "dash": "solid"
           },
           "marker": {
            "symbol": "diamond"
           },
           "mode": "lines+markers",
           "name": "False, next",
           "orientation": "v",
           "showlegend": false,
           "type": "scatter",
           "x": [
            0
           ],
           "xaxis": "x",
           "y": [
            0
           ],
           "yaxis": "y"
          },
          {
           "hovertemplate": "<b>%{hovertext}</b><br><br>main=False<br>type=next<br>step=14<br>name=7<br>x=%{x}<br>y=%{y}<extra></extra>",
           "hovertext": [
            "Next node of 7 <br> reward: 1.0 <br> action: [5, 5, 3, 3, 2, 3, 2, 1, 2, 5] <br> in system: 0.0"
           ],
           "legendgroup": "False, next",
           "line": {
            "color": "#EF553B",
            "dash": "solid"
           },
           "marker": {
            "symbol": "diamond"
           },
           "mode": "lines+markers",
           "name": "False, next",
           "orientation": "v",
           "showlegend": false,
           "type": "scatter",
           "x": [
            0
           ],
           "xaxis": "x",
           "y": [
            0
           ],
           "yaxis": "y"
          },
          {
           "hovertemplate": "<b>%{hovertext}</b><br><br>main=False<br>type=next<br>step=14<br>name=8<br>x=%{x}<br>y=%{y}<extra></extra>",
           "hovertext": [
            "Next node of 8 <br> reward: 1.0 <br> action: [5, 5, 3, 3, 2, 3, 2, 1, 2, 5] <br> in system: 1.0"
           ],
           "legendgroup": "False, next",
           "line": {
            "color": "#EF553B",
            "dash": "solid"
           },
           "marker": {
            "symbol": "diamond"
           },
           "mode": "lines+markers",
           "name": "False, next",
           "orientation": "v",
           "showlegend": false,
           "type": "scatter",
           "x": [
            1
           ],
           "xaxis": "x",
           "y": [
            0.86
           ],
           "yaxis": "y"
          },
          {
           "hovertemplate": "<b>%{hovertext}</b><br><br>main=False<br>type=next<br>step=14<br>name=9<br>x=%{x}<br>y=%{y}<extra></extra>",
           "hovertext": [
            "Next node of 9 <br> reward: 1.0 <br> action: [5, 5, 3, 3, 2, 3, 2, 1, 2, 5] <br> in system: 0.0"
           ],
           "legendgroup": "False, next",
           "line": {
            "color": "#EF553B",
            "dash": "solid"
           },
           "marker": {
            "symbol": "diamond"
           },
           "mode": "lines+markers",
           "name": "False, next",
           "orientation": "v",
           "showlegend": false,
           "type": "scatter",
           "x": [
            0
           ],
           "xaxis": "x",
           "y": [
            0
           ],
           "yaxis": "y"
          }
         ],
         "name": "14"
        },
        {
         "data": [
          {
           "hovertemplate": "<b>%{hovertext}</b><br><br>main=True<br>type=last<br>step=15<br>name=0<br>x=%{x}<br>y=%{y}<extra></extra>",
           "hovertext": [
            "Last node of 0 <br> reward: 1.0 <br> action: [0, 4, 2, 2, 3, 2, 0, 0, 3, 5] <br> in system: 1.0"
           ],
           "legendgroup": "True, last",
           "line": {
            "color": "#636efa",
            "dash": "solid"
           },
           "marker": {
            "symbol": "circle"
           },
           "mode": "lines+markers",
           "name": "True, last",
           "orientation": "v",
           "showlegend": true,
           "type": "scatter",
           "x": [
            0.9431818181818182
           ],
           "xaxis": "x",
           "y": [
            0.76
           ],
           "yaxis": "y"
          },
          {
           "hovertemplate": "<b>%{hovertext}</b><br><br>main=True<br>type=next<br>step=15<br>name=0<br>x=%{x}<br>y=%{y}<extra></extra>",
           "hovertext": [
            "Next node of 0 <br> reward: 1.0 <br> action: [0, 4, 2, 2, 3, 2, 0, 0, 3, 5] <br> in system: 1.0"
           ],
           "legendgroup": "True, next",
           "line": {
            "color": "#636efa",
            "dash": "solid"
           },
           "marker": {
            "symbol": "diamond"
           },
           "mode": "lines+markers",
           "name": "True, next",
           "orientation": "v",
           "showlegend": true,
           "type": "scatter",
           "x": [
            0.8181818181818182
           ],
           "xaxis": "x",
           "y": [
            0.76
           ],
           "yaxis": "y"
          },
          {
           "hovertemplate": "<b>%{hovertext}</b><br><br>main=False<br>type=last<br>step=15<br>name=1<br>x=%{x}<br>y=%{y}<extra></extra>",
           "hovertext": [
            "Last node of 1 <br> reward: 1.0 <br> action: [0, 4, 2, 2, 3, 2, 0, 0, 3, 5] <br> in system: 0.0"
           ],
           "legendgroup": "False, last",
           "line": {
            "color": "#EF553B",
            "dash": "solid"
           },
           "marker": {
            "symbol": "circle"
           },
           "mode": "lines+markers",
           "name": "False, last",
           "orientation": "v",
           "showlegend": true,
           "type": "scatter",
           "x": [
            0
           ],
           "xaxis": "x",
           "y": [
            0
           ],
           "yaxis": "y"
          },
          {
           "hovertemplate": "<b>%{hovertext}</b><br><br>main=False<br>type=last<br>step=15<br>name=2<br>x=%{x}<br>y=%{y}<extra></extra>",
           "hovertext": [
            "Last node of 2 <br> reward: 1.0 <br> action: [0, 4, 2, 2, 3, 2, 0, 0, 3, 5] <br> in system: 1.0"
           ],
           "legendgroup": "False, last",
           "line": {
            "color": "#EF553B",
            "dash": "solid"
           },
           "marker": {
            "symbol": "circle"
           },
           "mode": "lines+markers",
           "name": "False, last",
           "orientation": "v",
           "showlegend": false,
           "type": "scatter",
           "x": [
            0.42045454545454547
           ],
           "xaxis": "x",
           "y": [
            0.38
           ],
           "yaxis": "y"
          },
          {
           "hovertemplate": "<b>%{hovertext}</b><br><br>main=False<br>type=last<br>step=15<br>name=3<br>x=%{x}<br>y=%{y}<extra></extra>",
           "hovertext": [
            "Last node of 3 <br> reward: 1.0 <br> action: [0, 4, 2, 2, 3, 2, 0, 0, 3, 5] <br> in system: 0.0"
           ],
           "legendgroup": "False, last",
           "line": {
            "color": "#EF553B",
            "dash": "solid"
           },
           "marker": {
            "symbol": "circle"
           },
           "mode": "lines+markers",
           "name": "False, last",
           "orientation": "v",
           "showlegend": false,
           "type": "scatter",
           "x": [
            0
           ],
           "xaxis": "x",
           "y": [
            0
           ],
           "yaxis": "y"
          },
          {
           "hovertemplate": "<b>%{hovertext}</b><br><br>main=False<br>type=last<br>step=15<br>name=4<br>x=%{x}<br>y=%{y}<extra></extra>",
           "hovertext": [
            "Last node of 4 <br> reward: 1.0 <br> action: [0, 4, 2, 2, 3, 2, 0, 0, 3, 5] <br> in system: 1.0"
           ],
           "legendgroup": "False, last",
           "line": {
            "color": "#EF553B",
            "dash": "solid"
           },
           "marker": {
            "symbol": "circle"
           },
           "mode": "lines+markers",
           "name": "False, last",
           "orientation": "v",
           "showlegend": false,
           "type": "scatter",
           "x": [
            0.7613636363636364
           ],
           "xaxis": "x",
           "y": [
            0.86
           ],
           "yaxis": "y"
          },
          {
           "hovertemplate": "<b>%{hovertext}</b><br><br>main=False<br>type=last<br>step=15<br>name=5<br>x=%{x}<br>y=%{y}<extra></extra>",
           "hovertext": [
            "Last node of 5 <br> reward: 1.0 <br> action: [0, 4, 2, 2, 3, 2, 0, 0, 3, 5] <br> in system: 1.0"
           ],
           "legendgroup": "False, last",
           "line": {
            "color": "#EF553B",
            "dash": "solid"
           },
           "marker": {
            "symbol": "circle"
           },
           "mode": "lines+markers",
           "name": "False, last",
           "orientation": "v",
           "showlegend": false,
           "type": "scatter",
           "x": [
            1
           ],
           "xaxis": "x",
           "y": [
            0.86
           ],
           "yaxis": "y"
          },
          {
           "hovertemplate": "<b>%{hovertext}</b><br><br>main=False<br>type=last<br>step=15<br>name=6<br>x=%{x}<br>y=%{y}<extra></extra>",
           "hovertext": [
            "Last node of 6 <br> reward: 1.0 <br> action: [0, 4, 2, 2, 3, 2, 0, 0, 3, 5] <br> in system: 0.0"
           ],
           "legendgroup": "False, last",
           "line": {
            "color": "#EF553B",
            "dash": "solid"
           },
           "marker": {
            "symbol": "circle"
           },
           "mode": "lines+markers",
           "name": "False, last",
           "orientation": "v",
           "showlegend": false,
           "type": "scatter",
           "x": [
            0
           ],
           "xaxis": "x",
           "y": [
            0
           ],
           "yaxis": "y"
          },
          {
           "hovertemplate": "<b>%{hovertext}</b><br><br>main=False<br>type=last<br>step=15<br>name=7<br>x=%{x}<br>y=%{y}<extra></extra>",
           "hovertext": [
            "Last node of 7 <br> reward: 1.0 <br> action: [0, 4, 2, 2, 3, 2, 0, 0, 3, 5] <br> in system: 1.0"
           ],
           "legendgroup": "False, last",
           "line": {
            "color": "#EF553B",
            "dash": "solid"
           },
           "marker": {
            "symbol": "circle"
           },
           "mode": "lines+markers",
           "name": "False, last",
           "orientation": "v",
           "showlegend": false,
           "type": "scatter",
           "x": [
            0.42045454545454547
           ],
           "xaxis": "x",
           "y": [
            0.38
           ],
           "yaxis": "y"
          },
          {
           "hovertemplate": "<b>%{hovertext}</b><br><br>main=False<br>type=last<br>step=15<br>name=8<br>x=%{x}<br>y=%{y}<extra></extra>",
           "hovertext": [
            "Last node of 8 <br> reward: 1.0 <br> action: [0, 4, 2, 2, 3, 2, 0, 0, 3, 5] <br> in system: 1.0"
           ],
           "legendgroup": "False, last",
           "line": {
            "color": "#EF553B",
            "dash": "solid"
           },
           "marker": {
            "symbol": "circle"
           },
           "mode": "lines+markers",
           "name": "False, last",
           "orientation": "v",
           "showlegend": false,
           "type": "scatter",
           "x": [
            0.32954545454545453
           ],
           "xaxis": "x",
           "y": [
            0.428
           ],
           "yaxis": "y"
          },
          {
           "hovertemplate": "<b>%{hovertext}</b><br><br>main=False<br>type=last<br>step=15<br>name=9<br>x=%{x}<br>y=%{y}<extra></extra>",
           "hovertext": [
            "Last node of 9 <br> reward: 1.0 <br> action: [0, 4, 2, 2, 3, 2, 0, 0, 3, 5] <br> in system: 0.0"
           ],
           "legendgroup": "False, last",
           "line": {
            "color": "#EF553B",
            "dash": "solid"
           },
           "marker": {
            "symbol": "circle"
           },
           "mode": "lines+markers",
           "name": "False, last",
           "orientation": "v",
           "showlegend": false,
           "type": "scatter",
           "x": [
            0
           ],
           "xaxis": "x",
           "y": [
            0
           ],
           "yaxis": "y"
          },
          {
           "hovertemplate": "<b>%{hovertext}</b><br><br>main=False<br>type=next<br>step=15<br>name=1<br>x=%{x}<br>y=%{y}<extra></extra>",
           "hovertext": [
            "Next node of 1 <br> reward: 1.0 <br> action: [0, 4, 2, 2, 3, 2, 0, 0, 3, 5] <br> in system: 0.0"
           ],
           "legendgroup": "False, next",
           "line": {
            "color": "#EF553B",
            "dash": "solid"
           },
           "marker": {
            "symbol": "diamond"
           },
           "mode": "lines+markers",
           "name": "False, next",
           "orientation": "v",
           "showlegend": true,
           "type": "scatter",
           "x": [
            0
           ],
           "xaxis": "x",
           "y": [
            0
           ],
           "yaxis": "y"
          },
          {
           "hovertemplate": "<b>%{hovertext}</b><br><br>main=False<br>type=next<br>step=15<br>name=2<br>x=%{x}<br>y=%{y}<extra></extra>",
           "hovertext": [
            "Next node of 2 <br> reward: 1.0 <br> action: [0, 4, 2, 2, 3, 2, 0, 0, 3, 5] <br> in system: 1.0"
           ],
           "legendgroup": "False, next",
           "line": {
            "color": "#EF553B",
            "dash": "solid"
           },
           "marker": {
            "symbol": "diamond"
           },
           "mode": "lines+markers",
           "name": "False, next",
           "orientation": "v",
           "showlegend": false,
           "type": "scatter",
           "x": [
            0.32954545454545453
           ],
           "xaxis": "x",
           "y": [
            0.428
           ],
           "yaxis": "y"
          },
          {
           "hovertemplate": "<b>%{hovertext}</b><br><br>main=False<br>type=next<br>step=15<br>name=3<br>x=%{x}<br>y=%{y}<extra></extra>",
           "hovertext": [
            "Next node of 3 <br> reward: 1.0 <br> action: [0, 4, 2, 2, 3, 2, 0, 0, 3, 5] <br> in system: 0.0"
           ],
           "legendgroup": "False, next",
           "line": {
            "color": "#EF553B",
            "dash": "solid"
           },
           "marker": {
            "symbol": "diamond"
           },
           "mode": "lines+markers",
           "name": "False, next",
           "orientation": "v",
           "showlegend": false,
           "type": "scatter",
           "x": [
            0
           ],
           "xaxis": "x",
           "y": [
            0
           ],
           "yaxis": "y"
          },
          {
           "hovertemplate": "<b>%{hovertext}</b><br><br>main=False<br>type=next<br>step=15<br>name=4<br>x=%{x}<br>y=%{y}<extra></extra>",
           "hovertext": [
            "Next node of 4 <br> reward: 1.0 <br> action: [0, 4, 2, 2, 3, 2, 0, 0, 3, 5] <br> in system: 1.0"
           ],
           "legendgroup": "False, next",
           "line": {
            "color": "#EF553B",
            "dash": "solid"
           },
           "marker": {
            "symbol": "diamond"
           },
           "mode": "lines+markers",
           "name": "False, next",
           "orientation": "v",
           "showlegend": false,
           "type": "scatter",
           "x": [
            0.6022727272727273
           ],
           "xaxis": "x",
           "y": [
            0.86
           ],
           "yaxis": "y"
          },
          {
           "hovertemplate": "<b>%{hovertext}</b><br><br>main=False<br>type=next<br>step=15<br>name=5<br>x=%{x}<br>y=%{y}<extra></extra>",
           "hovertext": [
            "Next node of 5 <br> reward: 1.0 <br> action: [0, 4, 2, 2, 3, 2, 0, 0, 3, 5] <br> in system: 1.0"
           ],
           "legendgroup": "False, next",
           "line": {
            "color": "#EF553B",
            "dash": "solid"
           },
           "marker": {
            "symbol": "diamond"
           },
           "mode": "lines+markers",
           "name": "False, next",
           "orientation": "v",
           "showlegend": false,
           "type": "scatter",
           "x": [
            1
           ],
           "xaxis": "x",
           "y": [
            0.76
           ],
           "yaxis": "y"
          },
          {
           "hovertemplate": "<b>%{hovertext}</b><br><br>main=False<br>type=next<br>step=15<br>name=6<br>x=%{x}<br>y=%{y}<extra></extra>",
           "hovertext": [
            "Next node of 6 <br> reward: 1.0 <br> action: [0, 4, 2, 2, 3, 2, 0, 0, 3, 5] <br> in system: 0.0"
           ],
           "legendgroup": "False, next",
           "line": {
            "color": "#EF553B",
            "dash": "solid"
           },
           "marker": {
            "symbol": "diamond"
           },
           "mode": "lines+markers",
           "name": "False, next",
           "orientation": "v",
           "showlegend": false,
           "type": "scatter",
           "x": [
            0
           ],
           "xaxis": "x",
           "y": [
            0
           ],
           "yaxis": "y"
          },
          {
           "hovertemplate": "<b>%{hovertext}</b><br><br>main=False<br>type=next<br>step=15<br>name=7<br>x=%{x}<br>y=%{y}<extra></extra>",
           "hovertext": [
            "Next node of 7 <br> reward: 1.0 <br> action: [0, 4, 2, 2, 3, 2, 0, 0, 3, 5] <br> in system: 1.0"
           ],
           "legendgroup": "False, next",
           "line": {
            "color": "#EF553B",
            "dash": "solid"
           },
           "marker": {
            "symbol": "diamond"
           },
           "mode": "lines+markers",
           "name": "False, next",
           "orientation": "v",
           "showlegend": false,
           "type": "scatter",
           "x": [
            0.4772727272727273
           ],
           "xaxis": "x",
           "y": [
            0.38
           ],
           "yaxis": "y"
          },
          {
           "hovertemplate": "<b>%{hovertext}</b><br><br>main=False<br>type=next<br>step=15<br>name=8<br>x=%{x}<br>y=%{y}<extra></extra>",
           "hovertext": [
            "Next node of 8 <br> reward: 1.0 <br> action: [0, 4, 2, 2, 3, 2, 0, 0, 3, 5] <br> in system: 1.0"
           ],
           "legendgroup": "False, next",
           "line": {
            "color": "#EF553B",
            "dash": "solid"
           },
           "marker": {
            "symbol": "diamond"
           },
           "mode": "lines+markers",
           "name": "False, next",
           "orientation": "v",
           "showlegend": false,
           "type": "scatter",
           "x": [
            0.32954545454545453
           ],
           "xaxis": "x",
           "y": [
            0.428
           ],
           "yaxis": "y"
          },
          {
           "hovertemplate": "<b>%{hovertext}</b><br><br>main=False<br>type=next<br>step=15<br>name=9<br>x=%{x}<br>y=%{y}<extra></extra>",
           "hovertext": [
            "Next node of 9 <br> reward: 1.0 <br> action: [0, 4, 2, 2, 3, 2, 0, 0, 3, 5] <br> in system: 0.0"
           ],
           "legendgroup": "False, next",
           "line": {
            "color": "#EF553B",
            "dash": "solid"
           },
           "marker": {
            "symbol": "diamond"
           },
           "mode": "lines+markers",
           "name": "False, next",
           "orientation": "v",
           "showlegend": false,
           "type": "scatter",
           "x": [
            0
           ],
           "xaxis": "x",
           "y": [
            0
           ],
           "yaxis": "y"
          }
         ],
         "name": "15"
        },
        {
         "data": [
          {
           "hovertemplate": "<b>%{hovertext}</b><br><br>main=True<br>type=last<br>step=16<br>name=0<br>x=%{x}<br>y=%{y}<extra></extra>",
           "hovertext": [
            "Last node of 0 <br> reward: 1.0 <br> action: [1, 4, 0, 0, 5, 3, 2, 4, 1, 0] <br> in system: 1.0"
           ],
           "legendgroup": "True, last",
           "line": {
            "color": "#636efa",
            "dash": "solid"
           },
           "marker": {
            "symbol": "circle"
           },
           "mode": "lines+markers",
           "name": "True, last",
           "orientation": "v",
           "showlegend": true,
           "type": "scatter",
           "x": [
            0.9431818181818182
           ],
           "xaxis": "x",
           "y": [
            0.76
           ],
           "yaxis": "y"
          },
          {
           "hovertemplate": "<b>%{hovertext}</b><br><br>main=True<br>type=next<br>step=16<br>name=0<br>x=%{x}<br>y=%{y}<extra></extra>",
           "hovertext": [
            "Next node of 0 <br> reward: 1.0 <br> action: [1, 4, 0, 0, 5, 3, 2, 4, 1, 0] <br> in system: 1.0"
           ],
           "legendgroup": "True, next",
           "line": {
            "color": "#636efa",
            "dash": "solid"
           },
           "marker": {
            "symbol": "diamond"
           },
           "mode": "lines+markers",
           "name": "True, next",
           "orientation": "v",
           "showlegend": true,
           "type": "scatter",
           "x": [
            0.8181818181818182
           ],
           "xaxis": "x",
           "y": [
            0.76
           ],
           "yaxis": "y"
          },
          {
           "hovertemplate": "<b>%{hovertext}</b><br><br>main=False<br>type=last<br>step=16<br>name=1<br>x=%{x}<br>y=%{y}<extra></extra>",
           "hovertext": [
            "Last node of 1 <br> reward: 1.0 <br> action: [1, 4, 0, 0, 5, 3, 2, 4, 1, 0] <br> in system: 0.0"
           ],
           "legendgroup": "False, last",
           "line": {
            "color": "#EF553B",
            "dash": "solid"
           },
           "marker": {
            "symbol": "circle"
           },
           "mode": "lines+markers",
           "name": "False, last",
           "orientation": "v",
           "showlegend": true,
           "type": "scatter",
           "x": [
            0
           ],
           "xaxis": "x",
           "y": [
            0
           ],
           "yaxis": "y"
          },
          {
           "hovertemplate": "<b>%{hovertext}</b><br><br>main=False<br>type=last<br>step=16<br>name=2<br>x=%{x}<br>y=%{y}<extra></extra>",
           "hovertext": [
            "Last node of 2 <br> reward: 1.0 <br> action: [1, 4, 0, 0, 5, 3, 2, 4, 1, 0] <br> in system: 1.0"
           ],
           "legendgroup": "False, last",
           "line": {
            "color": "#EF553B",
            "dash": "solid"
           },
           "marker": {
            "symbol": "circle"
           },
           "mode": "lines+markers",
           "name": "False, last",
           "orientation": "v",
           "showlegend": false,
           "type": "scatter",
           "x": [
            0.7613636363636364
           ],
           "xaxis": "x",
           "y": [
            0.86
           ],
           "yaxis": "y"
          },
          {
           "hovertemplate": "<b>%{hovertext}</b><br><br>main=False<br>type=last<br>step=16<br>name=3<br>x=%{x}<br>y=%{y}<extra></extra>",
           "hovertext": [
            "Last node of 3 <br> reward: 1.0 <br> action: [1, 4, 0, 0, 5, 3, 2, 4, 1, 0] <br> in system: 1.0"
           ],
           "legendgroup": "False, last",
           "line": {
            "color": "#EF553B",
            "dash": "solid"
           },
           "marker": {
            "symbol": "circle"
           },
           "mode": "lines+markers",
           "name": "False, last",
           "orientation": "v",
           "showlegend": false,
           "type": "scatter",
           "x": [
            1
           ],
           "xaxis": "x",
           "y": [
            0.76
           ],
           "yaxis": "y"
          },
          {
           "hovertemplate": "<b>%{hovertext}</b><br><br>main=False<br>type=last<br>step=16<br>name=4<br>x=%{x}<br>y=%{y}<extra></extra>",
           "hovertext": [
            "Last node of 4 <br> reward: 1.0 <br> action: [1, 4, 0, 0, 5, 3, 2, 4, 1, 0] <br> in system: 0.0"
           ],
           "legendgroup": "False, last",
           "line": {
            "color": "#EF553B",
            "dash": "solid"
           },
           "marker": {
            "symbol": "circle"
           },
           "mode": "lines+markers",
           "name": "False, last",
           "orientation": "v",
           "showlegend": false,
           "type": "scatter",
           "x": [
            0
           ],
           "xaxis": "x",
           "y": [
            0
           ],
           "yaxis": "y"
          },
          {
           "hovertemplate": "<b>%{hovertext}</b><br><br>main=False<br>type=last<br>step=16<br>name=5<br>x=%{x}<br>y=%{y}<extra></extra>",
           "hovertext": [
            "Last node of 5 <br> reward: 1.0 <br> action: [1, 4, 0, 0, 5, 3, 2, 4, 1, 0] <br> in system: 0.0"
           ],
           "legendgroup": "False, last",
           "line": {
            "color": "#EF553B",
            "dash": "solid"
           },
           "marker": {
            "symbol": "circle"
           },
           "mode": "lines+markers",
           "name": "False, last",
           "orientation": "v",
           "showlegend": false,
           "type": "scatter",
           "x": [
            0
           ],
           "xaxis": "x",
           "y": [
            0
           ],
           "yaxis": "y"
          },
          {
           "hovertemplate": "<b>%{hovertext}</b><br><br>main=False<br>type=last<br>step=16<br>name=6<br>x=%{x}<br>y=%{y}<extra></extra>",
           "hovertext": [
            "Last node of 6 <br> reward: 1.0 <br> action: [1, 4, 0, 0, 5, 3, 2, 4, 1, 0] <br> in system: 1.0"
           ],
           "legendgroup": "False, last",
           "line": {
            "color": "#EF553B",
            "dash": "solid"
           },
           "marker": {
            "symbol": "circle"
           },
           "mode": "lines+markers",
           "name": "False, last",
           "orientation": "v",
           "showlegend": false,
           "type": "scatter",
           "x": [
            0.32954545454545453
           ],
           "xaxis": "x",
           "y": [
            0.428
           ],
           "yaxis": "y"
          },
          {
           "hovertemplate": "<b>%{hovertext}</b><br><br>main=False<br>type=last<br>step=16<br>name=7<br>x=%{x}<br>y=%{y}<extra></extra>",
           "hovertext": [
            "Last node of 7 <br> reward: 1.0 <br> action: [1, 4, 0, 0, 5, 3, 2, 4, 1, 0] <br> in system: 1.0"
           ],
           "legendgroup": "False, last",
           "line": {
            "color": "#EF553B",
            "dash": "solid"
           },
           "marker": {
            "symbol": "circle"
           },
           "mode": "lines+markers",
           "name": "False, last",
           "orientation": "v",
           "showlegend": false,
           "type": "scatter",
           "x": [
            0.42045454545454547
           ],
           "xaxis": "x",
           "y": [
            0.38
           ],
           "yaxis": "y"
          },
          {
           "hovertemplate": "<b>%{hovertext}</b><br><br>main=False<br>type=last<br>step=16<br>name=8<br>x=%{x}<br>y=%{y}<extra></extra>",
           "hovertext": [
            "Last node of 8 <br> reward: 1.0 <br> action: [1, 4, 0, 0, 5, 3, 2, 4, 1, 0] <br> in system: 0.0"
           ],
           "legendgroup": "False, last",
           "line": {
            "color": "#EF553B",
            "dash": "solid"
           },
           "marker": {
            "symbol": "circle"
           },
           "mode": "lines+markers",
           "name": "False, last",
           "orientation": "v",
           "showlegend": false,
           "type": "scatter",
           "x": [
            0
           ],
           "xaxis": "x",
           "y": [
            0
           ],
           "yaxis": "y"
          },
          {
           "hovertemplate": "<b>%{hovertext}</b><br><br>main=False<br>type=last<br>step=16<br>name=9<br>x=%{x}<br>y=%{y}<extra></extra>",
           "hovertext": [
            "Last node of 9 <br> reward: 1.0 <br> action: [1, 4, 0, 0, 5, 3, 2, 4, 1, 0] <br> in system: 1.0"
           ],
           "legendgroup": "False, last",
           "line": {
            "color": "#EF553B",
            "dash": "solid"
           },
           "marker": {
            "symbol": "circle"
           },
           "mode": "lines+markers",
           "name": "False, last",
           "orientation": "v",
           "showlegend": false,
           "type": "scatter",
           "x": [
            0.4772727272727273
           ],
           "xaxis": "x",
           "y": [
            0.38
           ],
           "yaxis": "y"
          },
          {
           "hovertemplate": "<b>%{hovertext}</b><br><br>main=False<br>type=next<br>step=16<br>name=1<br>x=%{x}<br>y=%{y}<extra></extra>",
           "hovertext": [
            "Next node of 1 <br> reward: 1.0 <br> action: [1, 4, 0, 0, 5, 3, 2, 4, 1, 0] <br> in system: 0.0"
           ],
           "legendgroup": "False, next",
           "line": {
            "color": "#EF553B",
            "dash": "solid"
           },
           "marker": {
            "symbol": "diamond"
           },
           "mode": "lines+markers",
           "name": "False, next",
           "orientation": "v",
           "showlegend": true,
           "type": "scatter",
           "x": [
            0
           ],
           "xaxis": "x",
           "y": [
            0
           ],
           "yaxis": "y"
          },
          {
           "hovertemplate": "<b>%{hovertext}</b><br><br>main=False<br>type=next<br>step=16<br>name=2<br>x=%{x}<br>y=%{y}<extra></extra>",
           "hovertext": [
            "Next node of 2 <br> reward: 1.0 <br> action: [1, 4, 0, 0, 5, 3, 2, 4, 1, 0] <br> in system: 1.0"
           ],
           "legendgroup": "False, next",
           "line": {
            "color": "#EF553B",
            "dash": "solid"
           },
           "marker": {
            "symbol": "diamond"
           },
           "mode": "lines+markers",
           "name": "False, next",
           "orientation": "v",
           "showlegend": false,
           "type": "scatter",
           "x": [
            0.6022727272727273
           ],
           "xaxis": "x",
           "y": [
            0.86
           ],
           "yaxis": "y"
          },
          {
           "hovertemplate": "<b>%{hovertext}</b><br><br>main=False<br>type=next<br>step=16<br>name=3<br>x=%{x}<br>y=%{y}<extra></extra>",
           "hovertext": [
            "Next node of 3 <br> reward: 1.0 <br> action: [1, 4, 0, 0, 5, 3, 2, 4, 1, 0] <br> in system: 1.0"
           ],
           "legendgroup": "False, next",
           "line": {
            "color": "#EF553B",
            "dash": "solid"
           },
           "marker": {
            "symbol": "diamond"
           },
           "mode": "lines+markers",
           "name": "False, next",
           "orientation": "v",
           "showlegend": false,
           "type": "scatter",
           "x": [
            0.9431818181818182
           ],
           "xaxis": "x",
           "y": [
            0.76
           ],
           "yaxis": "y"
          },
          {
           "hovertemplate": "<b>%{hovertext}</b><br><br>main=False<br>type=next<br>step=16<br>name=4<br>x=%{x}<br>y=%{y}<extra></extra>",
           "hovertext": [
            "Next node of 4 <br> reward: 1.0 <br> action: [1, 4, 0, 0, 5, 3, 2, 4, 1, 0] <br> in system: 0.0"
           ],
           "legendgroup": "False, next",
           "line": {
            "color": "#EF553B",
            "dash": "solid"
           },
           "marker": {
            "symbol": "diamond"
           },
           "mode": "lines+markers",
           "name": "False, next",
           "orientation": "v",
           "showlegend": false,
           "type": "scatter",
           "x": [
            0
           ],
           "xaxis": "x",
           "y": [
            0
           ],
           "yaxis": "y"
          },
          {
           "hovertemplate": "<b>%{hovertext}</b><br><br>main=False<br>type=next<br>step=16<br>name=5<br>x=%{x}<br>y=%{y}<extra></extra>",
           "hovertext": [
            "Next node of 5 <br> reward: 1.0 <br> action: [1, 4, 0, 0, 5, 3, 2, 4, 1, 0] <br> in system: 0.0"
           ],
           "legendgroup": "False, next",
           "line": {
            "color": "#EF553B",
            "dash": "solid"
           },
           "marker": {
            "symbol": "diamond"
           },
           "mode": "lines+markers",
           "name": "False, next",
           "orientation": "v",
           "showlegend": false,
           "type": "scatter",
           "x": [
            0
           ],
           "xaxis": "x",
           "y": [
            0
           ],
           "yaxis": "y"
          },
          {
           "hovertemplate": "<b>%{hovertext}</b><br><br>main=False<br>type=next<br>step=16<br>name=6<br>x=%{x}<br>y=%{y}<extra></extra>",
           "hovertext": [
            "Next node of 6 <br> reward: 1.0 <br> action: [1, 4, 0, 0, 5, 3, 2, 4, 1, 0] <br> in system: 1.0"
           ],
           "legendgroup": "False, next",
           "line": {
            "color": "#EF553B",
            "dash": "solid"
           },
           "marker": {
            "symbol": "diamond"
           },
           "mode": "lines+markers",
           "name": "False, next",
           "orientation": "v",
           "showlegend": false,
           "type": "scatter",
           "x": [
            0.32954545454545453
           ],
           "xaxis": "x",
           "y": [
            0.428
           ],
           "yaxis": "y"
          },
          {
           "hovertemplate": "<b>%{hovertext}</b><br><br>main=False<br>type=next<br>step=16<br>name=7<br>x=%{x}<br>y=%{y}<extra></extra>",
           "hovertext": [
            "Next node of 7 <br> reward: 1.0 <br> action: [1, 4, 0, 0, 5, 3, 2, 4, 1, 0] <br> in system: 1.0"
           ],
           "legendgroup": "False, next",
           "line": {
            "color": "#EF553B",
            "dash": "solid"
           },
           "marker": {
            "symbol": "diamond"
           },
           "mode": "lines+markers",
           "name": "False, next",
           "orientation": "v",
           "showlegend": false,
           "type": "scatter",
           "x": [
            0.32954545454545453
           ],
           "xaxis": "x",
           "y": [
            0.428
           ],
           "yaxis": "y"
          },
          {
           "hovertemplate": "<b>%{hovertext}</b><br><br>main=False<br>type=next<br>step=16<br>name=8<br>x=%{x}<br>y=%{y}<extra></extra>",
           "hovertext": [
            "Next node of 8 <br> reward: 1.0 <br> action: [1, 4, 0, 0, 5, 3, 2, 4, 1, 0] <br> in system: 0.0"
           ],
           "legendgroup": "False, next",
           "line": {
            "color": "#EF553B",
            "dash": "solid"
           },
           "marker": {
            "symbol": "diamond"
           },
           "mode": "lines+markers",
           "name": "False, next",
           "orientation": "v",
           "showlegend": false,
           "type": "scatter",
           "x": [
            0
           ],
           "xaxis": "x",
           "y": [
            0
           ],
           "yaxis": "y"
          },
          {
           "hovertemplate": "<b>%{hovertext}</b><br><br>main=False<br>type=next<br>step=16<br>name=9<br>x=%{x}<br>y=%{y}<extra></extra>",
           "hovertext": [
            "Next node of 9 <br> reward: 1.0 <br> action: [1, 4, 0, 0, 5, 3, 2, 4, 1, 0] <br> in system: 1.0"
           ],
           "legendgroup": "False, next",
           "line": {
            "color": "#EF553B",
            "dash": "solid"
           },
           "marker": {
            "symbol": "diamond"
           },
           "mode": "lines+markers",
           "name": "False, next",
           "orientation": "v",
           "showlegend": false,
           "type": "scatter",
           "x": [
            0.4772727272727273
           ],
           "xaxis": "x",
           "y": [
            0.48
           ],
           "yaxis": "y"
          }
         ],
         "name": "16"
        },
        {
         "data": [
          {
           "hovertemplate": "<b>%{hovertext}</b><br><br>main=True<br>type=last<br>step=17<br>name=0<br>x=%{x}<br>y=%{y}<extra></extra>",
           "hovertext": [
            "Last node of 0 <br> reward: 0 <br> action: [1, 3, 4, 0, 2, 5, 4, 5, 0, 5] <br> in system: 1.0"
           ],
           "legendgroup": "True, last",
           "line": {
            "color": "#636efa",
            "dash": "solid"
           },
           "marker": {
            "symbol": "circle"
           },
           "mode": "lines+markers",
           "name": "True, last",
           "orientation": "v",
           "showlegend": true,
           "type": "scatter",
           "x": [
            0.8181818181818182
           ],
           "xaxis": "x",
           "y": [
            0.76
           ],
           "yaxis": "y"
          },
          {
           "hovertemplate": "<b>%{hovertext}</b><br><br>main=True<br>type=next<br>step=17<br>name=0<br>x=%{x}<br>y=%{y}<extra></extra>",
           "hovertext": [
            "Next node of 0 <br> reward: 0 <br> action: [1, 3, 4, 0, 2, 5, 4, 5, 0, 5] <br> in system: 1.0"
           ],
           "legendgroup": "True, next",
           "line": {
            "color": "#636efa",
            "dash": "solid"
           },
           "marker": {
            "symbol": "diamond"
           },
           "mode": "lines+markers",
           "name": "True, next",
           "orientation": "v",
           "showlegend": true,
           "type": "scatter",
           "x": [
            0.7613636363636364
           ],
           "xaxis": "x",
           "y": [
            0.76
           ],
           "yaxis": "y"
          },
          {
           "hovertemplate": "<b>%{hovertext}</b><br><br>main=False<br>type=last<br>step=17<br>name=1<br>x=%{x}<br>y=%{y}<extra></extra>",
           "hovertext": [
            "Last node of 1 <br> reward: 0 <br> action: [1, 3, 4, 0, 2, 5, 4, 5, 0, 5] <br> in system: 1.0"
           ],
           "legendgroup": "False, last",
           "line": {
            "color": "#EF553B",
            "dash": "solid"
           },
           "marker": {
            "symbol": "circle"
           },
           "mode": "lines+markers",
           "name": "False, last",
           "orientation": "v",
           "showlegend": true,
           "type": "scatter",
           "x": [
            0.42045454545454547
           ],
           "xaxis": "x",
           "y": [
            0.38
           ],
           "yaxis": "y"
          },
          {
           "hovertemplate": "<b>%{hovertext}</b><br><br>main=False<br>type=last<br>step=17<br>name=2<br>x=%{x}<br>y=%{y}<extra></extra>",
           "hovertext": [
            "Last node of 2 <br> reward: 0 <br> action: [1, 3, 4, 0, 2, 5, 4, 5, 0, 5] <br> in system: 0.0"
           ],
           "legendgroup": "False, last",
           "line": {
            "color": "#EF553B",
            "dash": "solid"
           },
           "marker": {
            "symbol": "circle"
           },
           "mode": "lines+markers",
           "name": "False, last",
           "orientation": "v",
           "showlegend": false,
           "type": "scatter",
           "x": [
            0
           ],
           "xaxis": "x",
           "y": [
            0
           ],
           "yaxis": "y"
          },
          {
           "hovertemplate": "<b>%{hovertext}</b><br><br>main=False<br>type=last<br>step=17<br>name=3<br>x=%{x}<br>y=%{y}<extra></extra>",
           "hovertext": [
            "Last node of 3 <br> reward: 0 <br> action: [1, 3, 4, 0, 2, 5, 4, 5, 0, 5] <br> in system: 0.0"
           ],
           "legendgroup": "False, last",
           "line": {
            "color": "#EF553B",
            "dash": "solid"
           },
           "marker": {
            "symbol": "circle"
           },
           "mode": "lines+markers",
           "name": "False, last",
           "orientation": "v",
           "showlegend": false,
           "type": "scatter",
           "x": [
            0
           ],
           "xaxis": "x",
           "y": [
            0
           ],
           "yaxis": "y"
          },
          {
           "hovertemplate": "<b>%{hovertext}</b><br><br>main=False<br>type=last<br>step=17<br>name=4<br>x=%{x}<br>y=%{y}<extra></extra>",
           "hovertext": [
            "Last node of 4 <br> reward: 0 <br> action: [1, 3, 4, 0, 2, 5, 4, 5, 0, 5] <br> in system: 1.0"
           ],
           "legendgroup": "False, last",
           "line": {
            "color": "#EF553B",
            "dash": "solid"
           },
           "marker": {
            "symbol": "circle"
           },
           "mode": "lines+markers",
           "name": "False, last",
           "orientation": "v",
           "showlegend": false,
           "type": "scatter",
           "x": [
            0.32954545454545453
           ],
           "xaxis": "x",
           "y": [
            0.428
           ],
           "yaxis": "y"
          },
          {
           "hovertemplate": "<b>%{hovertext}</b><br><br>main=False<br>type=last<br>step=17<br>name=5<br>x=%{x}<br>y=%{y}<extra></extra>",
           "hovertext": [
            "Last node of 5 <br> reward: 0 <br> action: [1, 3, 4, 0, 2, 5, 4, 5, 0, 5] <br> in system: 1.0"
           ],
           "legendgroup": "False, last",
           "line": {
            "color": "#EF553B",
            "dash": "solid"
           },
           "marker": {
            "symbol": "circle"
           },
           "mode": "lines+markers",
           "name": "False, last",
           "orientation": "v",
           "showlegend": false,
           "type": "scatter",
           "x": [
            0.7613636363636364
           ],
           "xaxis": "x",
           "y": [
            0.86
           ],
           "yaxis": "y"
          },
          {
           "hovertemplate": "<b>%{hovertext}</b><br><br>main=False<br>type=last<br>step=17<br>name=6<br>x=%{x}<br>y=%{y}<extra></extra>",
           "hovertext": [
            "Last node of 6 <br> reward: 0 <br> action: [1, 3, 4, 0, 2, 5, 4, 5, 0, 5] <br> in system: 0.0"
           ],
           "legendgroup": "False, last",
           "line": {
            "color": "#EF553B",
            "dash": "solid"
           },
           "marker": {
            "symbol": "circle"
           },
           "mode": "lines+markers",
           "name": "False, last",
           "orientation": "v",
           "showlegend": false,
           "type": "scatter",
           "x": [
            0
           ],
           "xaxis": "x",
           "y": [
            0
           ],
           "yaxis": "y"
          },
          {
           "hovertemplate": "<b>%{hovertext}</b><br><br>main=False<br>type=last<br>step=17<br>name=7<br>x=%{x}<br>y=%{y}<extra></extra>",
           "hovertext": [
            "Last node of 7 <br> reward: 0 <br> action: [1, 3, 4, 0, 2, 5, 4, 5, 0, 5] <br> in system: 1.0"
           ],
           "legendgroup": "False, last",
           "line": {
            "color": "#EF553B",
            "dash": "solid"
           },
           "marker": {
            "symbol": "circle"
           },
           "mode": "lines+markers",
           "name": "False, last",
           "orientation": "v",
           "showlegend": false,
           "type": "scatter",
           "x": [
            1
           ],
           "xaxis": "x",
           "y": [
            0.76
           ],
           "yaxis": "y"
          },
          {
           "hovertemplate": "<b>%{hovertext}</b><br><br>main=False<br>type=last<br>step=17<br>name=8<br>x=%{x}<br>y=%{y}<extra></extra>",
           "hovertext": [
            "Last node of 8 <br> reward: 0 <br> action: [1, 3, 4, 0, 2, 5, 4, 5, 0, 5] <br> in system: 0.0"
           ],
           "legendgroup": "False, last",
           "line": {
            "color": "#EF553B",
            "dash": "solid"
           },
           "marker": {
            "symbol": "circle"
           },
           "mode": "lines+markers",
           "name": "False, last",
           "orientation": "v",
           "showlegend": false,
           "type": "scatter",
           "x": [
            0
           ],
           "xaxis": "x",
           "y": [
            0
           ],
           "yaxis": "y"
          },
          {
           "hovertemplate": "<b>%{hovertext}</b><br><br>main=False<br>type=last<br>step=17<br>name=9<br>x=%{x}<br>y=%{y}<extra></extra>",
           "hovertext": [
            "Last node of 9 <br> reward: 0 <br> action: [1, 3, 4, 0, 2, 5, 4, 5, 0, 5] <br> in system: 1.0"
           ],
           "legendgroup": "False, last",
           "line": {
            "color": "#EF553B",
            "dash": "solid"
           },
           "marker": {
            "symbol": "circle"
           },
           "mode": "lines+markers",
           "name": "False, last",
           "orientation": "v",
           "showlegend": false,
           "type": "scatter",
           "x": [
            0.4772727272727273
           ],
           "xaxis": "x",
           "y": [
            0.38
           ],
           "yaxis": "y"
          },
          {
           "hovertemplate": "<b>%{hovertext}</b><br><br>main=False<br>type=next<br>step=17<br>name=1<br>x=%{x}<br>y=%{y}<extra></extra>",
           "hovertext": [
            "Next node of 1 <br> reward: 0 <br> action: [1, 3, 4, 0, 2, 5, 4, 5, 0, 5] <br> in system: 1.0"
           ],
           "legendgroup": "False, next",
           "line": {
            "color": "#EF553B",
            "dash": "solid"
           },
           "marker": {
            "symbol": "diamond"
           },
           "mode": "lines+markers",
           "name": "False, next",
           "orientation": "v",
           "showlegend": true,
           "type": "scatter",
           "x": [
            0.32954545454545453
           ],
           "xaxis": "x",
           "y": [
            0.428
           ],
           "yaxis": "y"
          },
          {
           "hovertemplate": "<b>%{hovertext}</b><br><br>main=False<br>type=next<br>step=17<br>name=2<br>x=%{x}<br>y=%{y}<extra></extra>",
           "hovertext": [
            "Next node of 2 <br> reward: 0 <br> action: [1, 3, 4, 0, 2, 5, 4, 5, 0, 5] <br> in system: 0.0"
           ],
           "legendgroup": "False, next",
           "line": {
            "color": "#EF553B",
            "dash": "solid"
           },
           "marker": {
            "symbol": "diamond"
           },
           "mode": "lines+markers",
           "name": "False, next",
           "orientation": "v",
           "showlegend": false,
           "type": "scatter",
           "x": [
            0
           ],
           "xaxis": "x",
           "y": [
            0
           ],
           "yaxis": "y"
          },
          {
           "hovertemplate": "<b>%{hovertext}</b><br><br>main=False<br>type=next<br>step=17<br>name=3<br>x=%{x}<br>y=%{y}<extra></extra>",
           "hovertext": [
            "Next node of 3 <br> reward: 0 <br> action: [1, 3, 4, 0, 2, 5, 4, 5, 0, 5] <br> in system: 0.0"
           ],
           "legendgroup": "False, next",
           "line": {
            "color": "#EF553B",
            "dash": "solid"
           },
           "marker": {
            "symbol": "diamond"
           },
           "mode": "lines+markers",
           "name": "False, next",
           "orientation": "v",
           "showlegend": false,
           "type": "scatter",
           "x": [
            0
           ],
           "xaxis": "x",
           "y": [
            0
           ],
           "yaxis": "y"
          },
          {
           "hovertemplate": "<b>%{hovertext}</b><br><br>main=False<br>type=next<br>step=17<br>name=4<br>x=%{x}<br>y=%{y}<extra></extra>",
           "hovertext": [
            "Next node of 4 <br> reward: 0 <br> action: [1, 3, 4, 0, 2, 5, 4, 5, 0, 5] <br> in system: 1.0"
           ],
           "legendgroup": "False, next",
           "line": {
            "color": "#EF553B",
            "dash": "solid"
           },
           "marker": {
            "symbol": "diamond"
           },
           "mode": "lines+markers",
           "name": "False, next",
           "orientation": "v",
           "showlegend": false,
           "type": "scatter",
           "x": [
            0.32954545454545453
           ],
           "xaxis": "x",
           "y": [
            0.428
           ],
           "yaxis": "y"
          },
          {
           "hovertemplate": "<b>%{hovertext}</b><br><br>main=False<br>type=next<br>step=17<br>name=5<br>x=%{x}<br>y=%{y}<extra></extra>",
           "hovertext": [
            "Next node of 5 <br> reward: 0 <br> action: [1, 3, 4, 0, 2, 5, 4, 5, 0, 5] <br> in system: 1.0"
           ],
           "legendgroup": "False, next",
           "line": {
            "color": "#EF553B",
            "dash": "solid"
           },
           "marker": {
            "symbol": "diamond"
           },
           "mode": "lines+markers",
           "name": "False, next",
           "orientation": "v",
           "showlegend": false,
           "type": "scatter",
           "x": [
            0.6022727272727273
           ],
           "xaxis": "x",
           "y": [
            0.86
           ],
           "yaxis": "y"
          },
          {
           "hovertemplate": "<b>%{hovertext}</b><br><br>main=False<br>type=next<br>step=17<br>name=6<br>x=%{x}<br>y=%{y}<extra></extra>",
           "hovertext": [
            "Next node of 6 <br> reward: 0 <br> action: [1, 3, 4, 0, 2, 5, 4, 5, 0, 5] <br> in system: 0.0"
           ],
           "legendgroup": "False, next",
           "line": {
            "color": "#EF553B",
            "dash": "solid"
           },
           "marker": {
            "symbol": "diamond"
           },
           "mode": "lines+markers",
           "name": "False, next",
           "orientation": "v",
           "showlegend": false,
           "type": "scatter",
           "x": [
            0
           ],
           "xaxis": "x",
           "y": [
            0
           ],
           "yaxis": "y"
          },
          {
           "hovertemplate": "<b>%{hovertext}</b><br><br>main=False<br>type=next<br>step=17<br>name=7<br>x=%{x}<br>y=%{y}<extra></extra>",
           "hovertext": [
            "Next node of 7 <br> reward: 0 <br> action: [1, 3, 4, 0, 2, 5, 4, 5, 0, 5] <br> in system: 1.0"
           ],
           "legendgroup": "False, next",
           "line": {
            "color": "#EF553B",
            "dash": "solid"
           },
           "marker": {
            "symbol": "diamond"
           },
           "mode": "lines+markers",
           "name": "False, next",
           "orientation": "v",
           "showlegend": false,
           "type": "scatter",
           "x": [
            0.9431818181818182
           ],
           "xaxis": "x",
           "y": [
            0.76
           ],
           "yaxis": "y"
          },
          {
           "hovertemplate": "<b>%{hovertext}</b><br><br>main=False<br>type=next<br>step=17<br>name=8<br>x=%{x}<br>y=%{y}<extra></extra>",
           "hovertext": [
            "Next node of 8 <br> reward: 0 <br> action: [1, 3, 4, 0, 2, 5, 4, 5, 0, 5] <br> in system: 0.0"
           ],
           "legendgroup": "False, next",
           "line": {
            "color": "#EF553B",
            "dash": "solid"
           },
           "marker": {
            "symbol": "diamond"
           },
           "mode": "lines+markers",
           "name": "False, next",
           "orientation": "v",
           "showlegend": false,
           "type": "scatter",
           "x": [
            0
           ],
           "xaxis": "x",
           "y": [
            0
           ],
           "yaxis": "y"
          },
          {
           "hovertemplate": "<b>%{hovertext}</b><br><br>main=False<br>type=next<br>step=17<br>name=9<br>x=%{x}<br>y=%{y}<extra></extra>",
           "hovertext": [
            "Next node of 9 <br> reward: 0 <br> action: [1, 3, 4, 0, 2, 5, 4, 5, 0, 5] <br> in system: 1.0"
           ],
           "legendgroup": "False, next",
           "line": {
            "color": "#EF553B",
            "dash": "solid"
           },
           "marker": {
            "symbol": "diamond"
           },
           "mode": "lines+markers",
           "name": "False, next",
           "orientation": "v",
           "showlegend": false,
           "type": "scatter",
           "x": [
            0.4772727272727273
           ],
           "xaxis": "x",
           "y": [
            0.48
           ],
           "yaxis": "y"
          }
         ],
         "name": "17"
        },
        {
         "data": [
          {
           "hovertemplate": "<b>%{hovertext}</b><br><br>main=True<br>type=last<br>step=18<br>name=0<br>x=%{x}<br>y=%{y}<extra></extra>",
           "hovertext": [
            "Last node of 0 <br> reward: 0 <br> action: [3, 2, 5, 1, 2, 3, 5, 2, 4, 3] <br> in system: 1.0"
           ],
           "legendgroup": "True, last",
           "line": {
            "color": "#636efa",
            "dash": "solid"
           },
           "marker": {
            "symbol": "circle"
           },
           "mode": "lines+markers",
           "name": "True, last",
           "orientation": "v",
           "showlegend": true,
           "type": "scatter",
           "x": [
            0.7613636363636364
           ],
           "xaxis": "x",
           "y": [
            0.76
           ],
           "yaxis": "y"
          },
          {
           "hovertemplate": "<b>%{hovertext}</b><br><br>main=True<br>type=next<br>step=18<br>name=0<br>x=%{x}<br>y=%{y}<extra></extra>",
           "hovertext": [
            "Next node of 0 <br> reward: 0 <br> action: [3, 2, 5, 1, 2, 3, 5, 2, 4, 3] <br> in system: 1.0"
           ],
           "legendgroup": "True, next",
           "line": {
            "color": "#636efa",
            "dash": "solid"
           },
           "marker": {
            "symbol": "diamond"
           },
           "mode": "lines+markers",
           "name": "True, next",
           "orientation": "v",
           "showlegend": true,
           "type": "scatter",
           "x": [
            0.6022727272727273
           ],
           "xaxis": "x",
           "y": [
            0.76
           ],
           "yaxis": "y"
          },
          {
           "hovertemplate": "<b>%{hovertext}</b><br><br>main=False<br>type=last<br>step=18<br>name=1<br>x=%{x}<br>y=%{y}<extra></extra>",
           "hovertext": [
            "Last node of 1 <br> reward: 0 <br> action: [3, 2, 5, 1, 2, 3, 5, 2, 4, 3] <br> in system: 1.0"
           ],
           "legendgroup": "False, last",
           "line": {
            "color": "#EF553B",
            "dash": "solid"
           },
           "marker": {
            "symbol": "circle"
           },
           "mode": "lines+markers",
           "name": "False, last",
           "orientation": "v",
           "showlegend": true,
           "type": "scatter",
           "x": [
            0.9431818181818182
           ],
           "xaxis": "x",
           "y": [
            0.76
           ],
           "yaxis": "y"
          },
          {
           "hovertemplate": "<b>%{hovertext}</b><br><br>main=False<br>type=last<br>step=18<br>name=2<br>x=%{x}<br>y=%{y}<extra></extra>",
           "hovertext": [
            "Last node of 2 <br> reward: 0 <br> action: [3, 2, 5, 1, 2, 3, 5, 2, 4, 3] <br> in system: 1.0"
           ],
           "legendgroup": "False, last",
           "line": {
            "color": "#EF553B",
            "dash": "solid"
           },
           "marker": {
            "symbol": "circle"
           },
           "mode": "lines+markers",
           "name": "False, last",
           "orientation": "v",
           "showlegend": false,
           "type": "scatter",
           "x": [
            0.6022727272727273
           ],
           "xaxis": "x",
           "y": [
            0.86
           ],
           "yaxis": "y"
          },
          {
           "hovertemplate": "<b>%{hovertext}</b><br><br>main=False<br>type=last<br>step=18<br>name=3<br>x=%{x}<br>y=%{y}<extra></extra>",
           "hovertext": [
            "Last node of 3 <br> reward: 0 <br> action: [3, 2, 5, 1, 2, 3, 5, 2, 4, 3] <br> in system: 1.0"
           ],
           "legendgroup": "False, last",
           "line": {
            "color": "#EF553B",
            "dash": "solid"
           },
           "marker": {
            "symbol": "circle"
           },
           "mode": "lines+markers",
           "name": "False, last",
           "orientation": "v",
           "showlegend": false,
           "type": "scatter",
           "x": [
            0.42045454545454547
           ],
           "xaxis": "x",
           "y": [
            0.38
           ],
           "yaxis": "y"
          },
          {
           "hovertemplate": "<b>%{hovertext}</b><br><br>main=False<br>type=last<br>step=18<br>name=4<br>x=%{x}<br>y=%{y}<extra></extra>",
           "hovertext": [
            "Last node of 4 <br> reward: 0 <br> action: [3, 2, 5, 1, 2, 3, 5, 2, 4, 3] <br> in system: 1.0"
           ],
           "legendgroup": "False, last",
           "line": {
            "color": "#EF553B",
            "dash": "solid"
           },
           "marker": {
            "symbol": "circle"
           },
           "mode": "lines+markers",
           "name": "False, last",
           "orientation": "v",
           "showlegend": false,
           "type": "scatter",
           "x": [
            0.4772727272727273
           ],
           "xaxis": "x",
           "y": [
            0.48
           ],
           "yaxis": "y"
          },
          {
           "hovertemplate": "<b>%{hovertext}</b><br><br>main=False<br>type=last<br>step=18<br>name=5<br>x=%{x}<br>y=%{y}<extra></extra>",
           "hovertext": [
            "Last node of 5 <br> reward: 0 <br> action: [3, 2, 5, 1, 2, 3, 5, 2, 4, 3] <br> in system: 0.0"
           ],
           "legendgroup": "False, last",
           "line": {
            "color": "#EF553B",
            "dash": "solid"
           },
           "marker": {
            "symbol": "circle"
           },
           "mode": "lines+markers",
           "name": "False, last",
           "orientation": "v",
           "showlegend": false,
           "type": "scatter",
           "x": [
            0
           ],
           "xaxis": "x",
           "y": [
            0
           ],
           "yaxis": "y"
          },
          {
           "hovertemplate": "<b>%{hovertext}</b><br><br>main=False<br>type=last<br>step=18<br>name=6<br>x=%{x}<br>y=%{y}<extra></extra>",
           "hovertext": [
            "Last node of 6 <br> reward: 0 <br> action: [3, 2, 5, 1, 2, 3, 5, 2, 4, 3] <br> in system: 0.0"
           ],
           "legendgroup": "False, last",
           "line": {
            "color": "#EF553B",
            "dash": "solid"
           },
           "marker": {
            "symbol": "circle"
           },
           "mode": "lines+markers",
           "name": "False, last",
           "orientation": "v",
           "showlegend": false,
           "type": "scatter",
           "x": [
            0
           ],
           "xaxis": "x",
           "y": [
            0
           ],
           "yaxis": "y"
          },
          {
           "hovertemplate": "<b>%{hovertext}</b><br><br>main=False<br>type=last<br>step=18<br>name=7<br>x=%{x}<br>y=%{y}<extra></extra>",
           "hovertext": [
            "Last node of 7 <br> reward: 0 <br> action: [3, 2, 5, 1, 2, 3, 5, 2, 4, 3] <br> in system: 0.0"
           ],
           "legendgroup": "False, last",
           "line": {
            "color": "#EF553B",
            "dash": "solid"
           },
           "marker": {
            "symbol": "circle"
           },
           "mode": "lines+markers",
           "name": "False, last",
           "orientation": "v",
           "showlegend": false,
           "type": "scatter",
           "x": [
            0
           ],
           "xaxis": "x",
           "y": [
            0
           ],
           "yaxis": "y"
          },
          {
           "hovertemplate": "<b>%{hovertext}</b><br><br>main=False<br>type=last<br>step=18<br>name=8<br>x=%{x}<br>y=%{y}<extra></extra>",
           "hovertext": [
            "Last node of 8 <br> reward: 0 <br> action: [3, 2, 5, 1, 2, 3, 5, 2, 4, 3] <br> in system: 0.0"
           ],
           "legendgroup": "False, last",
           "line": {
            "color": "#EF553B",
            "dash": "solid"
           },
           "marker": {
            "symbol": "circle"
           },
           "mode": "lines+markers",
           "name": "False, last",
           "orientation": "v",
           "showlegend": false,
           "type": "scatter",
           "x": [
            0
           ],
           "xaxis": "x",
           "y": [
            0
           ],
           "yaxis": "y"
          },
          {
           "hovertemplate": "<b>%{hovertext}</b><br><br>main=False<br>type=last<br>step=18<br>name=9<br>x=%{x}<br>y=%{y}<extra></extra>",
           "hovertext": [
            "Last node of 9 <br> reward: 0 <br> action: [3, 2, 5, 1, 2, 3, 5, 2, 4, 3] <br> in system: 1.0"
           ],
           "legendgroup": "False, last",
           "line": {
            "color": "#EF553B",
            "dash": "solid"
           },
           "marker": {
            "symbol": "circle"
           },
           "mode": "lines+markers",
           "name": "False, last",
           "orientation": "v",
           "showlegend": false,
           "type": "scatter",
           "x": [
            0.32954545454545453
           ],
           "xaxis": "x",
           "y": [
            0.428
           ],
           "yaxis": "y"
          },
          {
           "hovertemplate": "<b>%{hovertext}</b><br><br>main=False<br>type=next<br>step=18<br>name=1<br>x=%{x}<br>y=%{y}<extra></extra>",
           "hovertext": [
            "Next node of 1 <br> reward: 0 <br> action: [3, 2, 5, 1, 2, 3, 5, 2, 4, 3] <br> in system: 1.0"
           ],
           "legendgroup": "False, next",
           "line": {
            "color": "#EF553B",
            "dash": "solid"
           },
           "marker": {
            "symbol": "diamond"
           },
           "mode": "lines+markers",
           "name": "False, next",
           "orientation": "v",
           "showlegend": true,
           "type": "scatter",
           "x": [
            0.8181818181818182
           ],
           "xaxis": "x",
           "y": [
            0.76
           ],
           "yaxis": "y"
          },
          {
           "hovertemplate": "<b>%{hovertext}</b><br><br>main=False<br>type=next<br>step=18<br>name=2<br>x=%{x}<br>y=%{y}<extra></extra>",
           "hovertext": [
            "Next node of 2 <br> reward: 0 <br> action: [3, 2, 5, 1, 2, 3, 5, 2, 4, 3] <br> in system: 1.0"
           ],
           "legendgroup": "False, next",
           "line": {
            "color": "#EF553B",
            "dash": "solid"
           },
           "marker": {
            "symbol": "diamond"
           },
           "mode": "lines+markers",
           "name": "False, next",
           "orientation": "v",
           "showlegend": false,
           "type": "scatter",
           "x": [
            0.5454545454545454
           ],
           "xaxis": "x",
           "y": [
            0.86
           ],
           "yaxis": "y"
          },
          {
           "hovertemplate": "<b>%{hovertext}</b><br><br>main=False<br>type=next<br>step=18<br>name=3<br>x=%{x}<br>y=%{y}<extra></extra>",
           "hovertext": [
            "Next node of 3 <br> reward: 0 <br> action: [3, 2, 5, 1, 2, 3, 5, 2, 4, 3] <br> in system: 1.0"
           ],
           "legendgroup": "False, next",
           "line": {
            "color": "#EF553B",
            "dash": "solid"
           },
           "marker": {
            "symbol": "diamond"
           },
           "mode": "lines+markers",
           "name": "False, next",
           "orientation": "v",
           "showlegend": false,
           "type": "scatter",
           "x": [
            0.32954545454545453
           ],
           "xaxis": "x",
           "y": [
            0.428
           ],
           "yaxis": "y"
          },
          {
           "hovertemplate": "<b>%{hovertext}</b><br><br>main=False<br>type=next<br>step=18<br>name=4<br>x=%{x}<br>y=%{y}<extra></extra>",
           "hovertext": [
            "Next node of 4 <br> reward: 0 <br> action: [3, 2, 5, 1, 2, 3, 5, 2, 4, 3] <br> in system: 1.0"
           ],
           "legendgroup": "False, next",
           "line": {
            "color": "#EF553B",
            "dash": "solid"
           },
           "marker": {
            "symbol": "diamond"
           },
           "mode": "lines+markers",
           "name": "False, next",
           "orientation": "v",
           "showlegend": false,
           "type": "scatter",
           "x": [
            0.42045454545454547
           ],
           "xaxis": "x",
           "y": [
            0.48
           ],
           "yaxis": "y"
          },
          {
           "hovertemplate": "<b>%{hovertext}</b><br><br>main=False<br>type=next<br>step=18<br>name=5<br>x=%{x}<br>y=%{y}<extra></extra>",
           "hovertext": [
            "Next node of 5 <br> reward: 0 <br> action: [3, 2, 5, 1, 2, 3, 5, 2, 4, 3] <br> in system: 0.0"
           ],
           "legendgroup": "False, next",
           "line": {
            "color": "#EF553B",
            "dash": "solid"
           },
           "marker": {
            "symbol": "diamond"
           },
           "mode": "lines+markers",
           "name": "False, next",
           "orientation": "v",
           "showlegend": false,
           "type": "scatter",
           "x": [
            0
           ],
           "xaxis": "x",
           "y": [
            0
           ],
           "yaxis": "y"
          },
          {
           "hovertemplate": "<b>%{hovertext}</b><br><br>main=False<br>type=next<br>step=18<br>name=6<br>x=%{x}<br>y=%{y}<extra></extra>",
           "hovertext": [
            "Next node of 6 <br> reward: 0 <br> action: [3, 2, 5, 1, 2, 3, 5, 2, 4, 3] <br> in system: 0.0"
           ],
           "legendgroup": "False, next",
           "line": {
            "color": "#EF553B",
            "dash": "solid"
           },
           "marker": {
            "symbol": "diamond"
           },
           "mode": "lines+markers",
           "name": "False, next",
           "orientation": "v",
           "showlegend": false,
           "type": "scatter",
           "x": [
            0
           ],
           "xaxis": "x",
           "y": [
            0
           ],
           "yaxis": "y"
          },
          {
           "hovertemplate": "<b>%{hovertext}</b><br><br>main=False<br>type=next<br>step=18<br>name=7<br>x=%{x}<br>y=%{y}<extra></extra>",
           "hovertext": [
            "Next node of 7 <br> reward: 0 <br> action: [3, 2, 5, 1, 2, 3, 5, 2, 4, 3] <br> in system: 0.0"
           ],
           "legendgroup": "False, next",
           "line": {
            "color": "#EF553B",
            "dash": "solid"
           },
           "marker": {
            "symbol": "diamond"
           },
           "mode": "lines+markers",
           "name": "False, next",
           "orientation": "v",
           "showlegend": false,
           "type": "scatter",
           "x": [
            0
           ],
           "xaxis": "x",
           "y": [
            0
           ],
           "yaxis": "y"
          },
          {
           "hovertemplate": "<b>%{hovertext}</b><br><br>main=False<br>type=next<br>step=18<br>name=8<br>x=%{x}<br>y=%{y}<extra></extra>",
           "hovertext": [
            "Next node of 8 <br> reward: 0 <br> action: [3, 2, 5, 1, 2, 3, 5, 2, 4, 3] <br> in system: 0.0"
           ],
           "legendgroup": "False, next",
           "line": {
            "color": "#EF553B",
            "dash": "solid"
           },
           "marker": {
            "symbol": "diamond"
           },
           "mode": "lines+markers",
           "name": "False, next",
           "orientation": "v",
           "showlegend": false,
           "type": "scatter",
           "x": [
            0
           ],
           "xaxis": "x",
           "y": [
            0
           ],
           "yaxis": "y"
          },
          {
           "hovertemplate": "<b>%{hovertext}</b><br><br>main=False<br>type=next<br>step=18<br>name=9<br>x=%{x}<br>y=%{y}<extra></extra>",
           "hovertext": [
            "Next node of 9 <br> reward: 0 <br> action: [3, 2, 5, 1, 2, 3, 5, 2, 4, 3] <br> in system: 1.0"
           ],
           "legendgroup": "False, next",
           "line": {
            "color": "#EF553B",
            "dash": "solid"
           },
           "marker": {
            "symbol": "diamond"
           },
           "mode": "lines+markers",
           "name": "False, next",
           "orientation": "v",
           "showlegend": false,
           "type": "scatter",
           "x": [
            0.32954545454545453
           ],
           "xaxis": "x",
           "y": [
            0.428
           ],
           "yaxis": "y"
          }
         ],
         "name": "18"
        },
        {
         "data": [
          {
           "hovertemplate": "<b>%{hovertext}</b><br><br>main=True<br>type=last<br>step=19<br>name=0<br>x=%{x}<br>y=%{y}<extra></extra>",
           "hovertext": [
            "Last node of 0 <br> reward: 1.0 <br> action: [4, 1, 4, 5, 2, 5, 2, 5, 0, 2] <br> in system: 1.0"
           ],
           "legendgroup": "True, last",
           "line": {
            "color": "#636efa",
            "dash": "solid"
           },
           "marker": {
            "symbol": "circle"
           },
           "mode": "lines+markers",
           "name": "True, last",
           "orientation": "v",
           "showlegend": true,
           "type": "scatter",
           "x": [
            0.7613636363636364
           ],
           "xaxis": "x",
           "y": [
            0.76
           ],
           "yaxis": "y"
          },
          {
           "hovertemplate": "<b>%{hovertext}</b><br><br>main=True<br>type=next<br>step=19<br>name=0<br>x=%{x}<br>y=%{y}<extra></extra>",
           "hovertext": [
            "Next node of 0 <br> reward: 1.0 <br> action: [4, 1, 4, 5, 2, 5, 2, 5, 0, 2] <br> in system: 1.0"
           ],
           "legendgroup": "True, next",
           "line": {
            "color": "#636efa",
            "dash": "solid"
           },
           "marker": {
            "symbol": "diamond"
           },
           "mode": "lines+markers",
           "name": "True, next",
           "orientation": "v",
           "showlegend": true,
           "type": "scatter",
           "x": [
            0.6022727272727273
           ],
           "xaxis": "x",
           "y": [
            0.76
           ],
           "yaxis": "y"
          },
          {
           "hovertemplate": "<b>%{hovertext}</b><br><br>main=False<br>type=last<br>step=19<br>name=1<br>x=%{x}<br>y=%{y}<extra></extra>",
           "hovertext": [
            "Last node of 1 <br> reward: 1.0 <br> action: [4, 1, 4, 5, 2, 5, 2, 5, 0, 2] <br> in system: 1.0"
           ],
           "legendgroup": "False, last",
           "line": {
            "color": "#EF553B",
            "dash": "solid"
           },
           "marker": {
            "symbol": "circle"
           },
           "mode": "lines+markers",
           "name": "False, last",
           "orientation": "v",
           "showlegend": true,
           "type": "scatter",
           "x": [
            0.42045454545454547
           ],
           "xaxis": "x",
           "y": [
            0.38
           ],
           "yaxis": "y"
          },
          {
           "hovertemplate": "<b>%{hovertext}</b><br><br>main=False<br>type=last<br>step=19<br>name=2<br>x=%{x}<br>y=%{y}<extra></extra>",
           "hovertext": [
            "Last node of 2 <br> reward: 1.0 <br> action: [4, 1, 4, 5, 2, 5, 2, 5, 0, 2] <br> in system: 1.0"
           ],
           "legendgroup": "False, last",
           "line": {
            "color": "#EF553B",
            "dash": "solid"
           },
           "marker": {
            "symbol": "circle"
           },
           "mode": "lines+markers",
           "name": "False, last",
           "orientation": "v",
           "showlegend": false,
           "type": "scatter",
           "x": [
            0.6022727272727273
           ],
           "xaxis": "x",
           "y": [
            0.86
           ],
           "yaxis": "y"
          },
          {
           "hovertemplate": "<b>%{hovertext}</b><br><br>main=False<br>type=last<br>step=19<br>name=3<br>x=%{x}<br>y=%{y}<extra></extra>",
           "hovertext": [
            "Last node of 3 <br> reward: 1.0 <br> action: [4, 1, 4, 5, 2, 5, 2, 5, 0, 2] <br> in system: 0.0"
           ],
           "legendgroup": "False, last",
           "line": {
            "color": "#EF553B",
            "dash": "solid"
           },
           "marker": {
            "symbol": "circle"
           },
           "mode": "lines+markers",
           "name": "False, last",
           "orientation": "v",
           "showlegend": false,
           "type": "scatter",
           "x": [
            0
           ],
           "xaxis": "x",
           "y": [
            0
           ],
           "yaxis": "y"
          },
          {
           "hovertemplate": "<b>%{hovertext}</b><br><br>main=False<br>type=last<br>step=19<br>name=4<br>x=%{x}<br>y=%{y}<extra></extra>",
           "hovertext": [
            "Last node of 4 <br> reward: 1.0 <br> action: [4, 1, 4, 5, 2, 5, 2, 5, 0, 2] <br> in system: 1.0"
           ],
           "legendgroup": "False, last",
           "line": {
            "color": "#EF553B",
            "dash": "solid"
           },
           "marker": {
            "symbol": "circle"
           },
           "mode": "lines+markers",
           "name": "False, last",
           "orientation": "v",
           "showlegend": false,
           "type": "scatter",
           "x": [
            0.9431818181818182
           ],
           "xaxis": "x",
           "y": [
            0.76
           ],
           "yaxis": "y"
          },
          {
           "hovertemplate": "<b>%{hovertext}</b><br><br>main=False<br>type=last<br>step=19<br>name=5<br>x=%{x}<br>y=%{y}<extra></extra>",
           "hovertext": [
            "Last node of 5 <br> reward: 1.0 <br> action: [4, 1, 4, 5, 2, 5, 2, 5, 0, 2] <br> in system: 0.0"
           ],
           "legendgroup": "False, last",
           "line": {
            "color": "#EF553B",
            "dash": "solid"
           },
           "marker": {
            "symbol": "circle"
           },
           "mode": "lines+markers",
           "name": "False, last",
           "orientation": "v",
           "showlegend": false,
           "type": "scatter",
           "x": [
            0
           ],
           "xaxis": "x",
           "y": [
            0
           ],
           "yaxis": "y"
          },
          {
           "hovertemplate": "<b>%{hovertext}</b><br><br>main=False<br>type=last<br>step=19<br>name=6<br>x=%{x}<br>y=%{y}<extra></extra>",
           "hovertext": [
            "Last node of 6 <br> reward: 1.0 <br> action: [4, 1, 4, 5, 2, 5, 2, 5, 0, 2] <br> in system: 1.0"
           ],
           "legendgroup": "False, last",
           "line": {
            "color": "#EF553B",
            "dash": "solid"
           },
           "marker": {
            "symbol": "circle"
           },
           "mode": "lines+markers",
           "name": "False, last",
           "orientation": "v",
           "showlegend": false,
           "type": "scatter",
           "x": [
            0.32954545454545453
           ],
           "xaxis": "x",
           "y": [
            0.428
           ],
           "yaxis": "y"
          },
          {
           "hovertemplate": "<b>%{hovertext}</b><br><br>main=False<br>type=last<br>step=19<br>name=7<br>x=%{x}<br>y=%{y}<extra></extra>",
           "hovertext": [
            "Last node of 7 <br> reward: 1.0 <br> action: [4, 1, 4, 5, 2, 5, 2, 5, 0, 2] <br> in system: 1.0"
           ],
           "legendgroup": "False, last",
           "line": {
            "color": "#EF553B",
            "dash": "solid"
           },
           "marker": {
            "symbol": "circle"
           },
           "mode": "lines+markers",
           "name": "False, last",
           "orientation": "v",
           "showlegend": false,
           "type": "scatter",
           "x": [
            0.42045454545454547
           ],
           "xaxis": "x",
           "y": [
            0.48
           ],
           "yaxis": "y"
          },
          {
           "hovertemplate": "<b>%{hovertext}</b><br><br>main=False<br>type=last<br>step=19<br>name=8<br>x=%{x}<br>y=%{y}<extra></extra>",
           "hovertext": [
            "Last node of 8 <br> reward: 1.0 <br> action: [4, 1, 4, 5, 2, 5, 2, 5, 0, 2] <br> in system: 0.0"
           ],
           "legendgroup": "False, last",
           "line": {
            "color": "#EF553B",
            "dash": "solid"
           },
           "marker": {
            "symbol": "circle"
           },
           "mode": "lines+markers",
           "name": "False, last",
           "orientation": "v",
           "showlegend": false,
           "type": "scatter",
           "x": [
            0
           ],
           "xaxis": "x",
           "y": [
            0
           ],
           "yaxis": "y"
          },
          {
           "hovertemplate": "<b>%{hovertext}</b><br><br>main=False<br>type=last<br>step=19<br>name=9<br>x=%{x}<br>y=%{y}<extra></extra>",
           "hovertext": [
            "Last node of 9 <br> reward: 1.0 <br> action: [4, 1, 4, 5, 2, 5, 2, 5, 0, 2] <br> in system: 0.0"
           ],
           "legendgroup": "False, last",
           "line": {
            "color": "#EF553B",
            "dash": "solid"
           },
           "marker": {
            "symbol": "circle"
           },
           "mode": "lines+markers",
           "name": "False, last",
           "orientation": "v",
           "showlegend": false,
           "type": "scatter",
           "x": [
            0
           ],
           "xaxis": "x",
           "y": [
            0
           ],
           "yaxis": "y"
          },
          {
           "hovertemplate": "<b>%{hovertext}</b><br><br>main=False<br>type=next<br>step=19<br>name=1<br>x=%{x}<br>y=%{y}<extra></extra>",
           "hovertext": [
            "Next node of 1 <br> reward: 1.0 <br> action: [4, 1, 4, 5, 2, 5, 2, 5, 0, 2] <br> in system: 1.0"
           ],
           "legendgroup": "False, next",
           "line": {
            "color": "#EF553B",
            "dash": "solid"
           },
           "marker": {
            "symbol": "diamond"
           },
           "mode": "lines+markers",
           "name": "False, next",
           "orientation": "v",
           "showlegend": true,
           "type": "scatter",
           "x": [
            0.32954545454545453
           ],
           "xaxis": "x",
           "y": [
            0.428
           ],
           "yaxis": "y"
          },
          {
           "hovertemplate": "<b>%{hovertext}</b><br><br>main=False<br>type=next<br>step=19<br>name=2<br>x=%{x}<br>y=%{y}<extra></extra>",
           "hovertext": [
            "Next node of 2 <br> reward: 1.0 <br> action: [4, 1, 4, 5, 2, 5, 2, 5, 0, 2] <br> in system: 1.0"
           ],
           "legendgroup": "False, next",
           "line": {
            "color": "#EF553B",
            "dash": "solid"
           },
           "marker": {
            "symbol": "diamond"
           },
           "mode": "lines+markers",
           "name": "False, next",
           "orientation": "v",
           "showlegend": false,
           "type": "scatter",
           "x": [
            0.5454545454545454
           ],
           "xaxis": "x",
           "y": [
            0.86
           ],
           "yaxis": "y"
          },
          {
           "hovertemplate": "<b>%{hovertext}</b><br><br>main=False<br>type=next<br>step=19<br>name=3<br>x=%{x}<br>y=%{y}<extra></extra>",
           "hovertext": [
            "Next node of 3 <br> reward: 1.0 <br> action: [4, 1, 4, 5, 2, 5, 2, 5, 0, 2] <br> in system: 0.0"
           ],
           "legendgroup": "False, next",
           "line": {
            "color": "#EF553B",
            "dash": "solid"
           },
           "marker": {
            "symbol": "diamond"
           },
           "mode": "lines+markers",
           "name": "False, next",
           "orientation": "v",
           "showlegend": false,
           "type": "scatter",
           "x": [
            0
           ],
           "xaxis": "x",
           "y": [
            0
           ],
           "yaxis": "y"
          },
          {
           "hovertemplate": "<b>%{hovertext}</b><br><br>main=False<br>type=next<br>step=19<br>name=4<br>x=%{x}<br>y=%{y}<extra></extra>",
           "hovertext": [
            "Next node of 4 <br> reward: 1.0 <br> action: [4, 1, 4, 5, 2, 5, 2, 5, 0, 2] <br> in system: 1.0"
           ],
           "legendgroup": "False, next",
           "line": {
            "color": "#EF553B",
            "dash": "solid"
           },
           "marker": {
            "symbol": "diamond"
           },
           "mode": "lines+markers",
           "name": "False, next",
           "orientation": "v",
           "showlegend": false,
           "type": "scatter",
           "x": [
            0.8181818181818182
           ],
           "xaxis": "x",
           "y": [
            0.76
           ],
           "yaxis": "y"
          },
          {
           "hovertemplate": "<b>%{hovertext}</b><br><br>main=False<br>type=next<br>step=19<br>name=5<br>x=%{x}<br>y=%{y}<extra></extra>",
           "hovertext": [
            "Next node of 5 <br> reward: 1.0 <br> action: [4, 1, 4, 5, 2, 5, 2, 5, 0, 2] <br> in system: 0.0"
           ],
           "legendgroup": "False, next",
           "line": {
            "color": "#EF553B",
            "dash": "solid"
           },
           "marker": {
            "symbol": "diamond"
           },
           "mode": "lines+markers",
           "name": "False, next",
           "orientation": "v",
           "showlegend": false,
           "type": "scatter",
           "x": [
            0
           ],
           "xaxis": "x",
           "y": [
            0
           ],
           "yaxis": "y"
          },
          {
           "hovertemplate": "<b>%{hovertext}</b><br><br>main=False<br>type=next<br>step=19<br>name=6<br>x=%{x}<br>y=%{y}<extra></extra>",
           "hovertext": [
            "Next node of 6 <br> reward: 1.0 <br> action: [4, 1, 4, 5, 2, 5, 2, 5, 0, 2] <br> in system: 1.0"
           ],
           "legendgroup": "False, next",
           "line": {
            "color": "#EF553B",
            "dash": "solid"
           },
           "marker": {
            "symbol": "diamond"
           },
           "mode": "lines+markers",
           "name": "False, next",
           "orientation": "v",
           "showlegend": false,
           "type": "scatter",
           "x": [
            0.32954545454545453
           ],
           "xaxis": "x",
           "y": [
            0.428
           ],
           "yaxis": "y"
          },
          {
           "hovertemplate": "<b>%{hovertext}</b><br><br>main=False<br>type=next<br>step=19<br>name=7<br>x=%{x}<br>y=%{y}<extra></extra>",
           "hovertext": [
            "Next node of 7 <br> reward: 1.0 <br> action: [4, 1, 4, 5, 2, 5, 2, 5, 0, 2] <br> in system: 1.0"
           ],
           "legendgroup": "False, next",
           "line": {
            "color": "#EF553B",
            "dash": "solid"
           },
           "marker": {
            "symbol": "diamond"
           },
           "mode": "lines+markers",
           "name": "False, next",
           "orientation": "v",
           "showlegend": false,
           "type": "scatter",
           "x": [
            0.42045454545454547
           ],
           "xaxis": "x",
           "y": [
            0.38
           ],
           "yaxis": "y"
          },
          {
           "hovertemplate": "<b>%{hovertext}</b><br><br>main=False<br>type=next<br>step=19<br>name=8<br>x=%{x}<br>y=%{y}<extra></extra>",
           "hovertext": [
            "Next node of 8 <br> reward: 1.0 <br> action: [4, 1, 4, 5, 2, 5, 2, 5, 0, 2] <br> in system: 0.0"
           ],
           "legendgroup": "False, next",
           "line": {
            "color": "#EF553B",
            "dash": "solid"
           },
           "marker": {
            "symbol": "diamond"
           },
           "mode": "lines+markers",
           "name": "False, next",
           "orientation": "v",
           "showlegend": false,
           "type": "scatter",
           "x": [
            0
           ],
           "xaxis": "x",
           "y": [
            0
           ],
           "yaxis": "y"
          },
          {
           "hovertemplate": "<b>%{hovertext}</b><br><br>main=False<br>type=next<br>step=19<br>name=9<br>x=%{x}<br>y=%{y}<extra></extra>",
           "hovertext": [
            "Next node of 9 <br> reward: 1.0 <br> action: [4, 1, 4, 5, 2, 5, 2, 5, 0, 2] <br> in system: 0.0"
           ],
           "legendgroup": "False, next",
           "line": {
            "color": "#EF553B",
            "dash": "solid"
           },
           "marker": {
            "symbol": "diamond"
           },
           "mode": "lines+markers",
           "name": "False, next",
           "orientation": "v",
           "showlegend": false,
           "type": "scatter",
           "x": [
            0
           ],
           "xaxis": "x",
           "y": [
            0
           ],
           "yaxis": "y"
          }
         ],
         "name": "19"
        },
        {
         "data": [
          {
           "hovertemplate": "<b>%{hovertext}</b><br><br>main=True<br>type=last<br>step=20<br>name=0<br>x=%{x}<br>y=%{y}<extra></extra>",
           "hovertext": [
            "Last node of 0 <br> reward: 0 <br> action: [3, 4, 2, 0, 5, 2, 3, 1, 2, 0] <br> in system: 1.0"
           ],
           "legendgroup": "True, last",
           "line": {
            "color": "#636efa",
            "dash": "solid"
           },
           "marker": {
            "symbol": "circle"
           },
           "mode": "lines+markers",
           "name": "True, last",
           "orientation": "v",
           "showlegend": true,
           "type": "scatter",
           "x": [
            0.6022727272727273
           ],
           "xaxis": "x",
           "y": [
            0.76
           ],
           "yaxis": "y"
          },
          {
           "hovertemplate": "<b>%{hovertext}</b><br><br>main=True<br>type=next<br>step=20<br>name=0<br>x=%{x}<br>y=%{y}<extra></extra>",
           "hovertext": [
            "Next node of 0 <br> reward: 0 <br> action: [3, 4, 2, 0, 5, 2, 3, 1, 2, 0] <br> in system: 1.0"
           ],
           "legendgroup": "True, next",
           "line": {
            "color": "#636efa",
            "dash": "solid"
           },
           "marker": {
            "symbol": "diamond"
           },
           "mode": "lines+markers",
           "name": "True, next",
           "orientation": "v",
           "showlegend": true,
           "type": "scatter",
           "x": [
            0.6022727272727273
           ],
           "xaxis": "x",
           "y": [
            0.86
           ],
           "yaxis": "y"
          },
          {
           "hovertemplate": "<b>%{hovertext}</b><br><br>main=False<br>type=last<br>step=20<br>name=1<br>x=%{x}<br>y=%{y}<extra></extra>",
           "hovertext": [
            "Last node of 1 <br> reward: 0 <br> action: [3, 4, 2, 0, 5, 2, 3, 1, 2, 0] <br> in system: 1.0"
           ],
           "legendgroup": "False, last",
           "line": {
            "color": "#EF553B",
            "dash": "solid"
           },
           "marker": {
            "symbol": "circle"
           },
           "mode": "lines+markers",
           "name": "False, last",
           "orientation": "v",
           "showlegend": true,
           "type": "scatter",
           "x": [
            0.8181818181818182
           ],
           "xaxis": "x",
           "y": [
            0.76
           ],
           "yaxis": "y"
          },
          {
           "hovertemplate": "<b>%{hovertext}</b><br><br>main=False<br>type=last<br>step=20<br>name=2<br>x=%{x}<br>y=%{y}<extra></extra>",
           "hovertext": [
            "Last node of 2 <br> reward: 0 <br> action: [3, 4, 2, 0, 5, 2, 3, 1, 2, 0] <br> in system: 0.0"
           ],
           "legendgroup": "False, last",
           "line": {
            "color": "#EF553B",
            "dash": "solid"
           },
           "marker": {
            "symbol": "circle"
           },
           "mode": "lines+markers",
           "name": "False, last",
           "orientation": "v",
           "showlegend": false,
           "type": "scatter",
           "x": [
            0
           ],
           "xaxis": "x",
           "y": [
            0
           ],
           "yaxis": "y"
          },
          {
           "hovertemplate": "<b>%{hovertext}</b><br><br>main=False<br>type=last<br>step=20<br>name=3<br>x=%{x}<br>y=%{y}<extra></extra>",
           "hovertext": [
            "Last node of 3 <br> reward: 0 <br> action: [3, 4, 2, 0, 5, 2, 3, 1, 2, 0] <br> in system: 1.0"
           ],
           "legendgroup": "False, last",
           "line": {
            "color": "#EF553B",
            "dash": "solid"
           },
           "marker": {
            "symbol": "circle"
           },
           "mode": "lines+markers",
           "name": "False, last",
           "orientation": "v",
           "showlegend": false,
           "type": "scatter",
           "x": [
            0.42045454545454547
           ],
           "xaxis": "x",
           "y": [
            0.48
           ],
           "yaxis": "y"
          },
          {
           "hovertemplate": "<b>%{hovertext}</b><br><br>main=False<br>type=last<br>step=20<br>name=4<br>x=%{x}<br>y=%{y}<extra></extra>",
           "hovertext": [
            "Last node of 4 <br> reward: 0 <br> action: [3, 4, 2, 0, 5, 2, 3, 1, 2, 0] <br> in system: 1.0"
           ],
           "legendgroup": "False, last",
           "line": {
            "color": "#EF553B",
            "dash": "solid"
           },
           "marker": {
            "symbol": "circle"
           },
           "mode": "lines+markers",
           "name": "False, last",
           "orientation": "v",
           "showlegend": false,
           "type": "scatter",
           "x": [
            0.6022727272727273
           ],
           "xaxis": "x",
           "y": [
            0.86
           ],
           "yaxis": "y"
          },
          {
           "hovertemplate": "<b>%{hovertext}</b><br><br>main=False<br>type=last<br>step=20<br>name=5<br>x=%{x}<br>y=%{y}<extra></extra>",
           "hovertext": [
            "Last node of 5 <br> reward: 0 <br> action: [3, 4, 2, 0, 5, 2, 3, 1, 2, 0] <br> in system: 0.0"
           ],
           "legendgroup": "False, last",
           "line": {
            "color": "#EF553B",
            "dash": "solid"
           },
           "marker": {
            "symbol": "circle"
           },
           "mode": "lines+markers",
           "name": "False, last",
           "orientation": "v",
           "showlegend": false,
           "type": "scatter",
           "x": [
            0
           ],
           "xaxis": "x",
           "y": [
            0
           ],
           "yaxis": "y"
          },
          {
           "hovertemplate": "<b>%{hovertext}</b><br><br>main=False<br>type=last<br>step=20<br>name=6<br>x=%{x}<br>y=%{y}<extra></extra>",
           "hovertext": [
            "Last node of 6 <br> reward: 0 <br> action: [3, 4, 2, 0, 5, 2, 3, 1, 2, 0] <br> in system: 0.0"
           ],
           "legendgroup": "False, last",
           "line": {
            "color": "#EF553B",
            "dash": "solid"
           },
           "marker": {
            "symbol": "circle"
           },
           "mode": "lines+markers",
           "name": "False, last",
           "orientation": "v",
           "showlegend": false,
           "type": "scatter",
           "x": [
            0
           ],
           "xaxis": "x",
           "y": [
            0
           ],
           "yaxis": "y"
          },
          {
           "hovertemplate": "<b>%{hovertext}</b><br><br>main=False<br>type=last<br>step=20<br>name=7<br>x=%{x}<br>y=%{y}<extra></extra>",
           "hovertext": [
            "Last node of 7 <br> reward: 0 <br> action: [3, 4, 2, 0, 5, 2, 3, 1, 2, 0] <br> in system: 1.0"
           ],
           "legendgroup": "False, last",
           "line": {
            "color": "#EF553B",
            "dash": "solid"
           },
           "marker": {
            "symbol": "circle"
           },
           "mode": "lines+markers",
           "name": "False, last",
           "orientation": "v",
           "showlegend": false,
           "type": "scatter",
           "x": [
            0.32954545454545453
           ],
           "xaxis": "x",
           "y": [
            0.428
           ],
           "yaxis": "y"
          },
          {
           "hovertemplate": "<b>%{hovertext}</b><br><br>main=False<br>type=last<br>step=20<br>name=8<br>x=%{x}<br>y=%{y}<extra></extra>",
           "hovertext": [
            "Last node of 8 <br> reward: 0 <br> action: [3, 4, 2, 0, 5, 2, 3, 1, 2, 0] <br> in system: 1.0"
           ],
           "legendgroup": "False, last",
           "line": {
            "color": "#EF553B",
            "dash": "solid"
           },
           "marker": {
            "symbol": "circle"
           },
           "mode": "lines+markers",
           "name": "False, last",
           "orientation": "v",
           "showlegend": false,
           "type": "scatter",
           "x": [
            0.42045454545454547
           ],
           "xaxis": "x",
           "y": [
            0.38
           ],
           "yaxis": "y"
          },
          {
           "hovertemplate": "<b>%{hovertext}</b><br><br>main=False<br>type=last<br>step=20<br>name=9<br>x=%{x}<br>y=%{y}<extra></extra>",
           "hovertext": [
            "Last node of 9 <br> reward: 0 <br> action: [3, 4, 2, 0, 5, 2, 3, 1, 2, 0] <br> in system: 0.0"
           ],
           "legendgroup": "False, last",
           "line": {
            "color": "#EF553B",
            "dash": "solid"
           },
           "marker": {
            "symbol": "circle"
           },
           "mode": "lines+markers",
           "name": "False, last",
           "orientation": "v",
           "showlegend": false,
           "type": "scatter",
           "x": [
            0
           ],
           "xaxis": "x",
           "y": [
            0
           ],
           "yaxis": "y"
          },
          {
           "hovertemplate": "<b>%{hovertext}</b><br><br>main=False<br>type=next<br>step=20<br>name=1<br>x=%{x}<br>y=%{y}<extra></extra>",
           "hovertext": [
            "Next node of 1 <br> reward: 0 <br> action: [3, 4, 2, 0, 5, 2, 3, 1, 2, 0] <br> in system: 1.0"
           ],
           "legendgroup": "False, next",
           "line": {
            "color": "#EF553B",
            "dash": "solid"
           },
           "marker": {
            "symbol": "diamond"
           },
           "mode": "lines+markers",
           "name": "False, next",
           "orientation": "v",
           "showlegend": true,
           "type": "scatter",
           "x": [
            0.8181818181818182
           ],
           "xaxis": "x",
           "y": [
            0.86
           ],
           "yaxis": "y"
          },
          {
           "hovertemplate": "<b>%{hovertext}</b><br><br>main=False<br>type=next<br>step=20<br>name=2<br>x=%{x}<br>y=%{y}<extra></extra>",
           "hovertext": [
            "Next node of 2 <br> reward: 0 <br> action: [3, 4, 2, 0, 5, 2, 3, 1, 2, 0] <br> in system: 0.0"
           ],
           "legendgroup": "False, next",
           "line": {
            "color": "#EF553B",
            "dash": "solid"
           },
           "marker": {
            "symbol": "diamond"
           },
           "mode": "lines+markers",
           "name": "False, next",
           "orientation": "v",
           "showlegend": false,
           "type": "scatter",
           "x": [
            0
           ],
           "xaxis": "x",
           "y": [
            0
           ],
           "yaxis": "y"
          },
          {
           "hovertemplate": "<b>%{hovertext}</b><br><br>main=False<br>type=next<br>step=20<br>name=3<br>x=%{x}<br>y=%{y}<extra></extra>",
           "hovertext": [
            "Next node of 3 <br> reward: 0 <br> action: [3, 4, 2, 0, 5, 2, 3, 1, 2, 0] <br> in system: 1.0"
           ],
           "legendgroup": "False, next",
           "line": {
            "color": "#EF553B",
            "dash": "solid"
           },
           "marker": {
            "symbol": "diamond"
           },
           "mode": "lines+markers",
           "name": "False, next",
           "orientation": "v",
           "showlegend": false,
           "type": "scatter",
           "x": [
            0.42045454545454547
           ],
           "xaxis": "x",
           "y": [
            0.38
           ],
           "yaxis": "y"
          },
          {
           "hovertemplate": "<b>%{hovertext}</b><br><br>main=False<br>type=next<br>step=20<br>name=4<br>x=%{x}<br>y=%{y}<extra></extra>",
           "hovertext": [
            "Next node of 4 <br> reward: 0 <br> action: [3, 4, 2, 0, 5, 2, 3, 1, 2, 0] <br> in system: 1.0"
           ],
           "legendgroup": "False, next",
           "line": {
            "color": "#EF553B",
            "dash": "solid"
           },
           "marker": {
            "symbol": "diamond"
           },
           "mode": "lines+markers",
           "name": "False, next",
           "orientation": "v",
           "showlegend": false,
           "type": "scatter",
           "x": [
            0.5454545454545454
           ],
           "xaxis": "x",
           "y": [
            0.86
           ],
           "yaxis": "y"
          },
          {
           "hovertemplate": "<b>%{hovertext}</b><br><br>main=False<br>type=next<br>step=20<br>name=5<br>x=%{x}<br>y=%{y}<extra></extra>",
           "hovertext": [
            "Next node of 5 <br> reward: 0 <br> action: [3, 4, 2, 0, 5, 2, 3, 1, 2, 0] <br> in system: 0.0"
           ],
           "legendgroup": "False, next",
           "line": {
            "color": "#EF553B",
            "dash": "solid"
           },
           "marker": {
            "symbol": "diamond"
           },
           "mode": "lines+markers",
           "name": "False, next",
           "orientation": "v",
           "showlegend": false,
           "type": "scatter",
           "x": [
            0
           ],
           "xaxis": "x",
           "y": [
            0
           ],
           "yaxis": "y"
          },
          {
           "hovertemplate": "<b>%{hovertext}</b><br><br>main=False<br>type=next<br>step=20<br>name=6<br>x=%{x}<br>y=%{y}<extra></extra>",
           "hovertext": [
            "Next node of 6 <br> reward: 0 <br> action: [3, 4, 2, 0, 5, 2, 3, 1, 2, 0] <br> in system: 0.0"
           ],
           "legendgroup": "False, next",
           "line": {
            "color": "#EF553B",
            "dash": "solid"
           },
           "marker": {
            "symbol": "diamond"
           },
           "mode": "lines+markers",
           "name": "False, next",
           "orientation": "v",
           "showlegend": false,
           "type": "scatter",
           "x": [
            0
           ],
           "xaxis": "x",
           "y": [
            0
           ],
           "yaxis": "y"
          },
          {
           "hovertemplate": "<b>%{hovertext}</b><br><br>main=False<br>type=next<br>step=20<br>name=7<br>x=%{x}<br>y=%{y}<extra></extra>",
           "hovertext": [
            "Next node of 7 <br> reward: 0 <br> action: [3, 4, 2, 0, 5, 2, 3, 1, 2, 0] <br> in system: 1.0"
           ],
           "legendgroup": "False, next",
           "line": {
            "color": "#EF553B",
            "dash": "solid"
           },
           "marker": {
            "symbol": "diamond"
           },
           "mode": "lines+markers",
           "name": "False, next",
           "orientation": "v",
           "showlegend": false,
           "type": "scatter",
           "x": [
            0.32954545454545453
           ],
           "xaxis": "x",
           "y": [
            0.428
           ],
           "yaxis": "y"
          },
          {
           "hovertemplate": "<b>%{hovertext}</b><br><br>main=False<br>type=next<br>step=20<br>name=8<br>x=%{x}<br>y=%{y}<extra></extra>",
           "hovertext": [
            "Next node of 8 <br> reward: 0 <br> action: [3, 4, 2, 0, 5, 2, 3, 1, 2, 0] <br> in system: 1.0"
           ],
           "legendgroup": "False, next",
           "line": {
            "color": "#EF553B",
            "dash": "solid"
           },
           "marker": {
            "symbol": "diamond"
           },
           "mode": "lines+markers",
           "name": "False, next",
           "orientation": "v",
           "showlegend": false,
           "type": "scatter",
           "x": [
            0.32954545454545453
           ],
           "xaxis": "x",
           "y": [
            0.428
           ],
           "yaxis": "y"
          },
          {
           "hovertemplate": "<b>%{hovertext}</b><br><br>main=False<br>type=next<br>step=20<br>name=9<br>x=%{x}<br>y=%{y}<extra></extra>",
           "hovertext": [
            "Next node of 9 <br> reward: 0 <br> action: [3, 4, 2, 0, 5, 2, 3, 1, 2, 0] <br> in system: 0.0"
           ],
           "legendgroup": "False, next",
           "line": {
            "color": "#EF553B",
            "dash": "solid"
           },
           "marker": {
            "symbol": "diamond"
           },
           "mode": "lines+markers",
           "name": "False, next",
           "orientation": "v",
           "showlegend": false,
           "type": "scatter",
           "x": [
            0
           ],
           "xaxis": "x",
           "y": [
            0
           ],
           "yaxis": "y"
          }
         ],
         "name": "20"
        },
        {
         "data": [
          {
           "hovertemplate": "<b>%{hovertext}</b><br><br>main=True<br>type=last<br>step=21<br>name=0<br>x=%{x}<br>y=%{y}<extra></extra>",
           "hovertext": [
            "Last node of 0 <br> reward: 0 <br> action: [5, 4, 0, 0, 0, 0, 4, 1, 5, 5] <br> in system: 1.0"
           ],
           "legendgroup": "True, last",
           "line": {
            "color": "#636efa",
            "dash": "solid"
           },
           "marker": {
            "symbol": "circle"
           },
           "mode": "lines+markers",
           "name": "True, last",
           "orientation": "v",
           "showlegend": true,
           "type": "scatter",
           "x": [
            0.6022727272727273
           ],
           "xaxis": "x",
           "y": [
            0.86
           ],
           "yaxis": "y"
          },
          {
           "hovertemplate": "<b>%{hovertext}</b><br><br>main=True<br>type=next<br>step=21<br>name=0<br>x=%{x}<br>y=%{y}<extra></extra>",
           "hovertext": [
            "Next node of 0 <br> reward: 0 <br> action: [5, 4, 0, 0, 0, 0, 4, 1, 5, 5] <br> in system: 1.0"
           ],
           "legendgroup": "True, next",
           "line": {
            "color": "#636efa",
            "dash": "solid"
           },
           "marker": {
            "symbol": "diamond"
           },
           "mode": "lines+markers",
           "name": "True, next",
           "orientation": "v",
           "showlegend": true,
           "type": "scatter",
           "x": [
            0.7613636363636364
           ],
           "xaxis": "x",
           "y": [
            0.86
           ],
           "yaxis": "y"
          },
          {
           "hovertemplate": "<b>%{hovertext}</b><br><br>main=False<br>type=last<br>step=21<br>name=1<br>x=%{x}<br>y=%{y}<extra></extra>",
           "hovertext": [
            "Last node of 1 <br> reward: 0 <br> action: [5, 4, 0, 0, 0, 0, 4, 1, 5, 5] <br> in system: 1.0"
           ],
           "legendgroup": "False, last",
           "line": {
            "color": "#EF553B",
            "dash": "solid"
           },
           "marker": {
            "symbol": "circle"
           },
           "mode": "lines+markers",
           "name": "False, last",
           "orientation": "v",
           "showlegend": true,
           "type": "scatter",
           "x": [
            0.8181818181818182
           ],
           "xaxis": "x",
           "y": [
            0.86
           ],
           "yaxis": "y"
          },
          {
           "hovertemplate": "<b>%{hovertext}</b><br><br>main=False<br>type=last<br>step=21<br>name=2<br>x=%{x}<br>y=%{y}<extra></extra>",
           "hovertext": [
            "Last node of 2 <br> reward: 0 <br> action: [5, 4, 0, 0, 0, 0, 4, 1, 5, 5] <br> in system: 1.0"
           ],
           "legendgroup": "False, last",
           "line": {
            "color": "#EF553B",
            "dash": "solid"
           },
           "marker": {
            "symbol": "circle"
           },
           "mode": "lines+markers",
           "name": "False, last",
           "orientation": "v",
           "showlegend": false,
           "type": "scatter",
           "x": [
            0.32954545454545453
           ],
           "xaxis": "x",
           "y": [
            0.428
           ],
           "yaxis": "y"
          },
          {
           "hovertemplate": "<b>%{hovertext}</b><br><br>main=False<br>type=last<br>step=21<br>name=3<br>x=%{x}<br>y=%{y}<extra></extra>",
           "hovertext": [
            "Last node of 3 <br> reward: 0 <br> action: [5, 4, 0, 0, 0, 0, 4, 1, 5, 5] <br> in system: 1.0"
           ],
           "legendgroup": "False, last",
           "line": {
            "color": "#EF553B",
            "dash": "solid"
           },
           "marker": {
            "symbol": "circle"
           },
           "mode": "lines+markers",
           "name": "False, last",
           "orientation": "v",
           "showlegend": false,
           "type": "scatter",
           "x": [
            0.42045454545454547
           ],
           "xaxis": "x",
           "y": [
            0.48
           ],
           "yaxis": "y"
          },
          {
           "hovertemplate": "<b>%{hovertext}</b><br><br>main=False<br>type=last<br>step=21<br>name=4<br>x=%{x}<br>y=%{y}<extra></extra>",
           "hovertext": [
            "Last node of 4 <br> reward: 0 <br> action: [5, 4, 0, 0, 0, 0, 4, 1, 5, 5] <br> in system: 0.0"
           ],
           "legendgroup": "False, last",
           "line": {
            "color": "#EF553B",
            "dash": "solid"
           },
           "marker": {
            "symbol": "circle"
           },
           "mode": "lines+markers",
           "name": "False, last",
           "orientation": "v",
           "showlegend": false,
           "type": "scatter",
           "x": [
            0
           ],
           "xaxis": "x",
           "y": [
            0
           ],
           "yaxis": "y"
          },
          {
           "hovertemplate": "<b>%{hovertext}</b><br><br>main=False<br>type=last<br>step=21<br>name=5<br>x=%{x}<br>y=%{y}<extra></extra>",
           "hovertext": [
            "Last node of 5 <br> reward: 0 <br> action: [5, 4, 0, 0, 0, 0, 4, 1, 5, 5] <br> in system: 0.0"
           ],
           "legendgroup": "False, last",
           "line": {
            "color": "#EF553B",
            "dash": "solid"
           },
           "marker": {
            "symbol": "circle"
           },
           "mode": "lines+markers",
           "name": "False, last",
           "orientation": "v",
           "showlegend": false,
           "type": "scatter",
           "x": [
            0
           ],
           "xaxis": "x",
           "y": [
            0
           ],
           "yaxis": "y"
          },
          {
           "hovertemplate": "<b>%{hovertext}</b><br><br>main=False<br>type=last<br>step=21<br>name=6<br>x=%{x}<br>y=%{y}<extra></extra>",
           "hovertext": [
            "Last node of 6 <br> reward: 0 <br> action: [5, 4, 0, 0, 0, 0, 4, 1, 5, 5] <br> in system: 0.0"
           ],
           "legendgroup": "False, last",
           "line": {
            "color": "#EF553B",
            "dash": "solid"
           },
           "marker": {
            "symbol": "circle"
           },
           "mode": "lines+markers",
           "name": "False, last",
           "orientation": "v",
           "showlegend": false,
           "type": "scatter",
           "x": [
            0
           ],
           "xaxis": "x",
           "y": [
            0
           ],
           "yaxis": "y"
          },
          {
           "hovertemplate": "<b>%{hovertext}</b><br><br>main=False<br>type=last<br>step=21<br>name=7<br>x=%{x}<br>y=%{y}<extra></extra>",
           "hovertext": [
            "Last node of 7 <br> reward: 0 <br> action: [5, 4, 0, 0, 0, 0, 4, 1, 5, 5] <br> in system: 1.0"
           ],
           "legendgroup": "False, last",
           "line": {
            "color": "#EF553B",
            "dash": "solid"
           },
           "marker": {
            "symbol": "circle"
           },
           "mode": "lines+markers",
           "name": "False, last",
           "orientation": "v",
           "showlegend": false,
           "type": "scatter",
           "x": [
            0.42045454545454547
           ],
           "xaxis": "x",
           "y": [
            0.38
           ],
           "yaxis": "y"
          },
          {
           "hovertemplate": "<b>%{hovertext}</b><br><br>main=False<br>type=last<br>step=21<br>name=8<br>x=%{x}<br>y=%{y}<extra></extra>",
           "hovertext": [
            "Last node of 8 <br> reward: 0 <br> action: [5, 4, 0, 0, 0, 0, 4, 1, 5, 5] <br> in system: 0.0"
           ],
           "legendgroup": "False, last",
           "line": {
            "color": "#EF553B",
            "dash": "solid"
           },
           "marker": {
            "symbol": "circle"
           },
           "mode": "lines+markers",
           "name": "False, last",
           "orientation": "v",
           "showlegend": false,
           "type": "scatter",
           "x": [
            0
           ],
           "xaxis": "x",
           "y": [
            0
           ],
           "yaxis": "y"
          },
          {
           "hovertemplate": "<b>%{hovertext}</b><br><br>main=False<br>type=last<br>step=21<br>name=9<br>x=%{x}<br>y=%{y}<extra></extra>",
           "hovertext": [
            "Last node of 9 <br> reward: 0 <br> action: [5, 4, 0, 0, 0, 0, 4, 1, 5, 5] <br> in system: 1.0"
           ],
           "legendgroup": "False, last",
           "line": {
            "color": "#EF553B",
            "dash": "solid"
           },
           "marker": {
            "symbol": "circle"
           },
           "mode": "lines+markers",
           "name": "False, last",
           "orientation": "v",
           "showlegend": false,
           "type": "scatter",
           "x": [
            0.5454545454545454
           ],
           "xaxis": "x",
           "y": [
            0.86
           ],
           "yaxis": "y"
          },
          {
           "hovertemplate": "<b>%{hovertext}</b><br><br>main=False<br>type=next<br>step=21<br>name=1<br>x=%{x}<br>y=%{y}<extra></extra>",
           "hovertext": [
            "Next node of 1 <br> reward: 0 <br> action: [5, 4, 0, 0, 0, 0, 4, 1, 5, 5] <br> in system: 1.0"
           ],
           "legendgroup": "False, next",
           "line": {
            "color": "#EF553B",
            "dash": "solid"
           },
           "marker": {
            "symbol": "diamond"
           },
           "mode": "lines+markers",
           "name": "False, next",
           "orientation": "v",
           "showlegend": true,
           "type": "scatter",
           "x": [
            0.9431818181818182
           ],
           "xaxis": "x",
           "y": [
            0.86
           ],
           "yaxis": "y"
          },
          {
           "hovertemplate": "<b>%{hovertext}</b><br><br>main=False<br>type=next<br>step=21<br>name=2<br>x=%{x}<br>y=%{y}<extra></extra>",
           "hovertext": [
            "Next node of 2 <br> reward: 0 <br> action: [5, 4, 0, 0, 0, 0, 4, 1, 5, 5] <br> in system: 1.0"
           ],
           "legendgroup": "False, next",
           "line": {
            "color": "#EF553B",
            "dash": "solid"
           },
           "marker": {
            "symbol": "diamond"
           },
           "mode": "lines+markers",
           "name": "False, next",
           "orientation": "v",
           "showlegend": false,
           "type": "scatter",
           "x": [
            0.32954545454545453
           ],
           "xaxis": "x",
           "y": [
            0.428
           ],
           "yaxis": "y"
          },
          {
           "hovertemplate": "<b>%{hovertext}</b><br><br>main=False<br>type=next<br>step=21<br>name=3<br>x=%{x}<br>y=%{y}<extra></extra>",
           "hovertext": [
            "Next node of 3 <br> reward: 0 <br> action: [5, 4, 0, 0, 0, 0, 4, 1, 5, 5] <br> in system: 1.0"
           ],
           "legendgroup": "False, next",
           "line": {
            "color": "#EF553B",
            "dash": "solid"
           },
           "marker": {
            "symbol": "diamond"
           },
           "mode": "lines+markers",
           "name": "False, next",
           "orientation": "v",
           "showlegend": false,
           "type": "scatter",
           "x": [
            0.42045454545454547
           ],
           "xaxis": "x",
           "y": [
            0.38
           ],
           "yaxis": "y"
          },
          {
           "hovertemplate": "<b>%{hovertext}</b><br><br>main=False<br>type=next<br>step=21<br>name=4<br>x=%{x}<br>y=%{y}<extra></extra>",
           "hovertext": [
            "Next node of 4 <br> reward: 0 <br> action: [5, 4, 0, 0, 0, 0, 4, 1, 5, 5] <br> in system: 0.0"
           ],
           "legendgroup": "False, next",
           "line": {
            "color": "#EF553B",
            "dash": "solid"
           },
           "marker": {
            "symbol": "diamond"
           },
           "mode": "lines+markers",
           "name": "False, next",
           "orientation": "v",
           "showlegend": false,
           "type": "scatter",
           "x": [
            0
           ],
           "xaxis": "x",
           "y": [
            0
           ],
           "yaxis": "y"
          },
          {
           "hovertemplate": "<b>%{hovertext}</b><br><br>main=False<br>type=next<br>step=21<br>name=5<br>x=%{x}<br>y=%{y}<extra></extra>",
           "hovertext": [
            "Next node of 5 <br> reward: 0 <br> action: [5, 4, 0, 0, 0, 0, 4, 1, 5, 5] <br> in system: 0.0"
           ],
           "legendgroup": "False, next",
           "line": {
            "color": "#EF553B",
            "dash": "solid"
           },
           "marker": {
            "symbol": "diamond"
           },
           "mode": "lines+markers",
           "name": "False, next",
           "orientation": "v",
           "showlegend": false,
           "type": "scatter",
           "x": [
            0
           ],
           "xaxis": "x",
           "y": [
            0
           ],
           "yaxis": "y"
          },
          {
           "hovertemplate": "<b>%{hovertext}</b><br><br>main=False<br>type=next<br>step=21<br>name=6<br>x=%{x}<br>y=%{y}<extra></extra>",
           "hovertext": [
            "Next node of 6 <br> reward: 0 <br> action: [5, 4, 0, 0, 0, 0, 4, 1, 5, 5] <br> in system: 0.0"
           ],
           "legendgroup": "False, next",
           "line": {
            "color": "#EF553B",
            "dash": "solid"
           },
           "marker": {
            "symbol": "diamond"
           },
           "mode": "lines+markers",
           "name": "False, next",
           "orientation": "v",
           "showlegend": false,
           "type": "scatter",
           "x": [
            0
           ],
           "xaxis": "x",
           "y": [
            0
           ],
           "yaxis": "y"
          },
          {
           "hovertemplate": "<b>%{hovertext}</b><br><br>main=False<br>type=next<br>step=21<br>name=7<br>x=%{x}<br>y=%{y}<extra></extra>",
           "hovertext": [
            "Next node of 7 <br> reward: 0 <br> action: [5, 4, 0, 0, 0, 0, 4, 1, 5, 5] <br> in system: 1.0"
           ],
           "legendgroup": "False, next",
           "line": {
            "color": "#EF553B",
            "dash": "solid"
           },
           "marker": {
            "symbol": "diamond"
           },
           "mode": "lines+markers",
           "name": "False, next",
           "orientation": "v",
           "showlegend": false,
           "type": "scatter",
           "x": [
            0.32954545454545453
           ],
           "xaxis": "x",
           "y": [
            0.428
           ],
           "yaxis": "y"
          },
          {
           "hovertemplate": "<b>%{hovertext}</b><br><br>main=False<br>type=next<br>step=21<br>name=8<br>x=%{x}<br>y=%{y}<extra></extra>",
           "hovertext": [
            "Next node of 8 <br> reward: 0 <br> action: [5, 4, 0, 0, 0, 0, 4, 1, 5, 5] <br> in system: 0.0"
           ],
           "legendgroup": "False, next",
           "line": {
            "color": "#EF553B",
            "dash": "solid"
           },
           "marker": {
            "symbol": "diamond"
           },
           "mode": "lines+markers",
           "name": "False, next",
           "orientation": "v",
           "showlegend": false,
           "type": "scatter",
           "x": [
            0
           ],
           "xaxis": "x",
           "y": [
            0
           ],
           "yaxis": "y"
          },
          {
           "hovertemplate": "<b>%{hovertext}</b><br><br>main=False<br>type=next<br>step=21<br>name=9<br>x=%{x}<br>y=%{y}<extra></extra>",
           "hovertext": [
            "Next node of 9 <br> reward: 0 <br> action: [5, 4, 0, 0, 0, 0, 4, 1, 5, 5] <br> in system: 1.0"
           ],
           "legendgroup": "False, next",
           "line": {
            "color": "#EF553B",
            "dash": "solid"
           },
           "marker": {
            "symbol": "diamond"
           },
           "mode": "lines+markers",
           "name": "False, next",
           "orientation": "v",
           "showlegend": false,
           "type": "scatter",
           "x": [
            0.5454545454545454
           ],
           "xaxis": "x",
           "y": [
            0.76
           ],
           "yaxis": "y"
          }
         ],
         "name": "21"
        },
        {
         "data": [
          {
           "hovertemplate": "<b>%{hovertext}</b><br><br>main=True<br>type=last<br>step=22<br>name=0<br>x=%{x}<br>y=%{y}<extra></extra>",
           "hovertext": [
            "Last node of 0 <br> reward: 1.0 <br> action: [2, 2, 2, 2, 3, 2, 0, 5, 4, 0] <br> in system: 1.0"
           ],
           "legendgroup": "True, last",
           "line": {
            "color": "#636efa",
            "dash": "solid"
           },
           "marker": {
            "symbol": "circle"
           },
           "mode": "lines+markers",
           "name": "True, last",
           "orientation": "v",
           "showlegend": true,
           "type": "scatter",
           "x": [
            0.6022727272727273
           ],
           "xaxis": "x",
           "y": [
            0.86
           ],
           "yaxis": "y"
          },
          {
           "hovertemplate": "<b>%{hovertext}</b><br><br>main=True<br>type=next<br>step=22<br>name=0<br>x=%{x}<br>y=%{y}<extra></extra>",
           "hovertext": [
            "Next node of 0 <br> reward: 1.0 <br> action: [2, 2, 2, 2, 3, 2, 0, 5, 4, 0] <br> in system: 1.0"
           ],
           "legendgroup": "True, next",
           "line": {
            "color": "#636efa",
            "dash": "solid"
           },
           "marker": {
            "symbol": "diamond"
           },
           "mode": "lines+markers",
           "name": "True, next",
           "orientation": "v",
           "showlegend": true,
           "type": "scatter",
           "x": [
            0.7613636363636364
           ],
           "xaxis": "x",
           "y": [
            0.86
           ],
           "yaxis": "y"
          },
          {
           "hovertemplate": "<b>%{hovertext}</b><br><br>main=False<br>type=last<br>step=22<br>name=1<br>x=%{x}<br>y=%{y}<extra></extra>",
           "hovertext": [
            "Last node of 1 <br> reward: 1.0 <br> action: [2, 2, 2, 2, 3, 2, 0, 5, 4, 0] <br> in system: 0.0"
           ],
           "legendgroup": "False, last",
           "line": {
            "color": "#EF553B",
            "dash": "solid"
           },
           "marker": {
            "symbol": "circle"
           },
           "mode": "lines+markers",
           "name": "False, last",
           "orientation": "v",
           "showlegend": true,
           "type": "scatter",
           "x": [
            0
           ],
           "xaxis": "x",
           "y": [
            0
           ],
           "yaxis": "y"
          },
          {
           "hovertemplate": "<b>%{hovertext}</b><br><br>main=False<br>type=last<br>step=22<br>name=2<br>x=%{x}<br>y=%{y}<extra></extra>",
           "hovertext": [
            "Last node of 2 <br> reward: 1.0 <br> action: [2, 2, 2, 2, 3, 2, 0, 5, 4, 0] <br> in system: 1.0"
           ],
           "legendgroup": "False, last",
           "line": {
            "color": "#EF553B",
            "dash": "solid"
           },
           "marker": {
            "symbol": "circle"
           },
           "mode": "lines+markers",
           "name": "False, last",
           "orientation": "v",
           "showlegend": false,
           "type": "scatter",
           "x": [
            0.42045454545454547
           ],
           "xaxis": "x",
           "y": [
            0.38
           ],
           "yaxis": "y"
          },
          {
           "hovertemplate": "<b>%{hovertext}</b><br><br>main=False<br>type=last<br>step=22<br>name=3<br>x=%{x}<br>y=%{y}<extra></extra>",
           "hovertext": [
            "Last node of 3 <br> reward: 1.0 <br> action: [2, 2, 2, 2, 3, 2, 0, 5, 4, 0] <br> in system: 0.0"
           ],
           "legendgroup": "False, last",
           "line": {
            "color": "#EF553B",
            "dash": "solid"
           },
           "marker": {
            "symbol": "circle"
           },
           "mode": "lines+markers",
           "name": "False, last",
           "orientation": "v",
           "showlegend": false,
           "type": "scatter",
           "x": [
            0
           ],
           "xaxis": "x",
           "y": [
            0
           ],
           "yaxis": "y"
          },
          {
           "hovertemplate": "<b>%{hovertext}</b><br><br>main=False<br>type=last<br>step=22<br>name=4<br>x=%{x}<br>y=%{y}<extra></extra>",
           "hovertext": [
            "Last node of 4 <br> reward: 1.0 <br> action: [2, 2, 2, 2, 3, 2, 0, 5, 4, 0] <br> in system: 1.0"
           ],
           "legendgroup": "False, last",
           "line": {
            "color": "#EF553B",
            "dash": "solid"
           },
           "marker": {
            "symbol": "circle"
           },
           "mode": "lines+markers",
           "name": "False, last",
           "orientation": "v",
           "showlegend": false,
           "type": "scatter",
           "x": [
            0.42045454545454547
           ],
           "xaxis": "x",
           "y": [
            0.48
           ],
           "yaxis": "y"
          },
          {
           "hovertemplate": "<b>%{hovertext}</b><br><br>main=False<br>type=last<br>step=22<br>name=5<br>x=%{x}<br>y=%{y}<extra></extra>",
           "hovertext": [
            "Last node of 5 <br> reward: 1.0 <br> action: [2, 2, 2, 2, 3, 2, 0, 5, 4, 0] <br> in system: 0.0"
           ],
           "legendgroup": "False, last",
           "line": {
            "color": "#EF553B",
            "dash": "solid"
           },
           "marker": {
            "symbol": "circle"
           },
           "mode": "lines+markers",
           "name": "False, last",
           "orientation": "v",
           "showlegend": false,
           "type": "scatter",
           "x": [
            0
           ],
           "xaxis": "x",
           "y": [
            0
           ],
           "yaxis": "y"
          },
          {
           "hovertemplate": "<b>%{hovertext}</b><br><br>main=False<br>type=last<br>step=22<br>name=6<br>x=%{x}<br>y=%{y}<extra></extra>",
           "hovertext": [
            "Last node of 6 <br> reward: 1.0 <br> action: [2, 2, 2, 2, 3, 2, 0, 5, 4, 0] <br> in system: 0.0"
           ],
           "legendgroup": "False, last",
           "line": {
            "color": "#EF553B",
            "dash": "solid"
           },
           "marker": {
            "symbol": "circle"
           },
           "mode": "lines+markers",
           "name": "False, last",
           "orientation": "v",
           "showlegend": false,
           "type": "scatter",
           "x": [
            0
           ],
           "xaxis": "x",
           "y": [
            0
           ],
           "yaxis": "y"
          },
          {
           "hovertemplate": "<b>%{hovertext}</b><br><br>main=False<br>type=last<br>step=22<br>name=7<br>x=%{x}<br>y=%{y}<extra></extra>",
           "hovertext": [
            "Last node of 7 <br> reward: 1.0 <br> action: [2, 2, 2, 2, 3, 2, 0, 5, 4, 0] <br> in system: 1.0"
           ],
           "legendgroup": "False, last",
           "line": {
            "color": "#EF553B",
            "dash": "solid"
           },
           "marker": {
            "symbol": "circle"
           },
           "mode": "lines+markers",
           "name": "False, last",
           "orientation": "v",
           "showlegend": false,
           "type": "scatter",
           "x": [
            0.9431818181818182
           ],
           "xaxis": "x",
           "y": [
            0.86
           ],
           "yaxis": "y"
          },
          {
           "hovertemplate": "<b>%{hovertext}</b><br><br>main=False<br>type=last<br>step=22<br>name=8<br>x=%{x}<br>y=%{y}<extra></extra>",
           "hovertext": [
            "Last node of 8 <br> reward: 1.0 <br> action: [2, 2, 2, 2, 3, 2, 0, 5, 4, 0] <br> in system: 1.0"
           ],
           "legendgroup": "False, last",
           "line": {
            "color": "#EF553B",
            "dash": "solid"
           },
           "marker": {
            "symbol": "circle"
           },
           "mode": "lines+markers",
           "name": "False, last",
           "orientation": "v",
           "showlegend": false,
           "type": "scatter",
           "x": [
            0.32954545454545453
           ],
           "xaxis": "x",
           "y": [
            0.428
           ],
           "yaxis": "y"
          },
          {
           "hovertemplate": "<b>%{hovertext}</b><br><br>main=False<br>type=last<br>step=22<br>name=9<br>x=%{x}<br>y=%{y}<extra></extra>",
           "hovertext": [
            "Last node of 9 <br> reward: 1.0 <br> action: [2, 2, 2, 2, 3, 2, 0, 5, 4, 0] <br> in system: 1.0"
           ],
           "legendgroup": "False, last",
           "line": {
            "color": "#EF553B",
            "dash": "solid"
           },
           "marker": {
            "symbol": "circle"
           },
           "mode": "lines+markers",
           "name": "False, last",
           "orientation": "v",
           "showlegend": false,
           "type": "scatter",
           "x": [
            0.5454545454545454
           ],
           "xaxis": "x",
           "y": [
            0.76
           ],
           "yaxis": "y"
          },
          {
           "hovertemplate": "<b>%{hovertext}</b><br><br>main=False<br>type=next<br>step=22<br>name=1<br>x=%{x}<br>y=%{y}<extra></extra>",
           "hovertext": [
            "Next node of 1 <br> reward: 1.0 <br> action: [2, 2, 2, 2, 3, 2, 0, 5, 4, 0] <br> in system: 0.0"
           ],
           "legendgroup": "False, next",
           "line": {
            "color": "#EF553B",
            "dash": "solid"
           },
           "marker": {
            "symbol": "diamond"
           },
           "mode": "lines+markers",
           "name": "False, next",
           "orientation": "v",
           "showlegend": true,
           "type": "scatter",
           "x": [
            0
           ],
           "xaxis": "x",
           "y": [
            0
           ],
           "yaxis": "y"
          },
          {
           "hovertemplate": "<b>%{hovertext}</b><br><br>main=False<br>type=next<br>step=22<br>name=2<br>x=%{x}<br>y=%{y}<extra></extra>",
           "hovertext": [
            "Next node of 2 <br> reward: 1.0 <br> action: [2, 2, 2, 2, 3, 2, 0, 5, 4, 0] <br> in system: 1.0"
           ],
           "legendgroup": "False, next",
           "line": {
            "color": "#EF553B",
            "dash": "solid"
           },
           "marker": {
            "symbol": "diamond"
           },
           "mode": "lines+markers",
           "name": "False, next",
           "orientation": "v",
           "showlegend": false,
           "type": "scatter",
           "x": [
            0.32954545454545453
           ],
           "xaxis": "x",
           "y": [
            0.428
           ],
           "yaxis": "y"
          },
          {
           "hovertemplate": "<b>%{hovertext}</b><br><br>main=False<br>type=next<br>step=22<br>name=3<br>x=%{x}<br>y=%{y}<extra></extra>",
           "hovertext": [
            "Next node of 3 <br> reward: 1.0 <br> action: [2, 2, 2, 2, 3, 2, 0, 5, 4, 0] <br> in system: 0.0"
           ],
           "legendgroup": "False, next",
           "line": {
            "color": "#EF553B",
            "dash": "solid"
           },
           "marker": {
            "symbol": "diamond"
           },
           "mode": "lines+markers",
           "name": "False, next",
           "orientation": "v",
           "showlegend": false,
           "type": "scatter",
           "x": [
            0
           ],
           "xaxis": "x",
           "y": [
            0
           ],
           "yaxis": "y"
          },
          {
           "hovertemplate": "<b>%{hovertext}</b><br><br>main=False<br>type=next<br>step=22<br>name=4<br>x=%{x}<br>y=%{y}<extra></extra>",
           "hovertext": [
            "Next node of 4 <br> reward: 1.0 <br> action: [2, 2, 2, 2, 3, 2, 0, 5, 4, 0] <br> in system: 1.0"
           ],
           "legendgroup": "False, next",
           "line": {
            "color": "#EF553B",
            "dash": "solid"
           },
           "marker": {
            "symbol": "diamond"
           },
           "mode": "lines+markers",
           "name": "False, next",
           "orientation": "v",
           "showlegend": false,
           "type": "scatter",
           "x": [
            0.42045454545454547
           ],
           "xaxis": "x",
           "y": [
            0.38
           ],
           "yaxis": "y"
          },
          {
           "hovertemplate": "<b>%{hovertext}</b><br><br>main=False<br>type=next<br>step=22<br>name=5<br>x=%{x}<br>y=%{y}<extra></extra>",
           "hovertext": [
            "Next node of 5 <br> reward: 1.0 <br> action: [2, 2, 2, 2, 3, 2, 0, 5, 4, 0] <br> in system: 0.0"
           ],
           "legendgroup": "False, next",
           "line": {
            "color": "#EF553B",
            "dash": "solid"
           },
           "marker": {
            "symbol": "diamond"
           },
           "mode": "lines+markers",
           "name": "False, next",
           "orientation": "v",
           "showlegend": false,
           "type": "scatter",
           "x": [
            0
           ],
           "xaxis": "x",
           "y": [
            0
           ],
           "yaxis": "y"
          },
          {
           "hovertemplate": "<b>%{hovertext}</b><br><br>main=False<br>type=next<br>step=22<br>name=6<br>x=%{x}<br>y=%{y}<extra></extra>",
           "hovertext": [
            "Next node of 6 <br> reward: 1.0 <br> action: [2, 2, 2, 2, 3, 2, 0, 5, 4, 0] <br> in system: 0.0"
           ],
           "legendgroup": "False, next",
           "line": {
            "color": "#EF553B",
            "dash": "solid"
           },
           "marker": {
            "symbol": "diamond"
           },
           "mode": "lines+markers",
           "name": "False, next",
           "orientation": "v",
           "showlegend": false,
           "type": "scatter",
           "x": [
            0
           ],
           "xaxis": "x",
           "y": [
            0
           ],
           "yaxis": "y"
          },
          {
           "hovertemplate": "<b>%{hovertext}</b><br><br>main=False<br>type=next<br>step=22<br>name=7<br>x=%{x}<br>y=%{y}<extra></extra>",
           "hovertext": [
            "Next node of 7 <br> reward: 1.0 <br> action: [2, 2, 2, 2, 3, 2, 0, 5, 4, 0] <br> in system: 1.0"
           ],
           "legendgroup": "False, next",
           "line": {
            "color": "#EF553B",
            "dash": "solid"
           },
           "marker": {
            "symbol": "diamond"
           },
           "mode": "lines+markers",
           "name": "False, next",
           "orientation": "v",
           "showlegend": false,
           "type": "scatter",
           "x": [
            1
           ],
           "xaxis": "x",
           "y": [
            0.86
           ],
           "yaxis": "y"
          },
          {
           "hovertemplate": "<b>%{hovertext}</b><br><br>main=False<br>type=next<br>step=22<br>name=8<br>x=%{x}<br>y=%{y}<extra></extra>",
           "hovertext": [
            "Next node of 8 <br> reward: 1.0 <br> action: [2, 2, 2, 2, 3, 2, 0, 5, 4, 0] <br> in system: 1.0"
           ],
           "legendgroup": "False, next",
           "line": {
            "color": "#EF553B",
            "dash": "solid"
           },
           "marker": {
            "symbol": "diamond"
           },
           "mode": "lines+markers",
           "name": "False, next",
           "orientation": "v",
           "showlegend": false,
           "type": "scatter",
           "x": [
            0.42045454545454547
           ],
           "xaxis": "x",
           "y": [
            0.48
           ],
           "yaxis": "y"
          },
          {
           "hovertemplate": "<b>%{hovertext}</b><br><br>main=False<br>type=next<br>step=22<br>name=9<br>x=%{x}<br>y=%{y}<extra></extra>",
           "hovertext": [
            "Next node of 9 <br> reward: 1.0 <br> action: [2, 2, 2, 2, 3, 2, 0, 5, 4, 0] <br> in system: 1.0"
           ],
           "legendgroup": "False, next",
           "line": {
            "color": "#EF553B",
            "dash": "solid"
           },
           "marker": {
            "symbol": "diamond"
           },
           "mode": "lines+markers",
           "name": "False, next",
           "orientation": "v",
           "showlegend": false,
           "type": "scatter",
           "x": [
            0.5727272727272728
           ],
           "xaxis": "x",
           "y": [
            0.62
           ],
           "yaxis": "y"
          }
         ],
         "name": "22"
        },
        {
         "data": [
          {
           "hovertemplate": "<b>%{hovertext}</b><br><br>main=True<br>type=last<br>step=23<br>name=0<br>x=%{x}<br>y=%{y}<extra></extra>",
           "hovertext": [
            "Last node of 0 <br> reward: 0 <br> action: [5, 0, 4, 1, 0, 4, 0, 4, 2, 0] <br> in system: 1.0"
           ],
           "legendgroup": "True, last",
           "line": {
            "color": "#636efa",
            "dash": "solid"
           },
           "marker": {
            "symbol": "circle"
           },
           "mode": "lines+markers",
           "name": "True, last",
           "orientation": "v",
           "showlegend": true,
           "type": "scatter",
           "x": [
            0.7613636363636364
           ],
           "xaxis": "x",
           "y": [
            0.86
           ],
           "yaxis": "y"
          },
          {
           "hovertemplate": "<b>%{hovertext}</b><br><br>main=True<br>type=next<br>step=23<br>name=0<br>x=%{x}<br>y=%{y}<extra></extra>",
           "hovertext": [
            "Next node of 0 <br> reward: 0 <br> action: [5, 0, 4, 1, 0, 4, 0, 4, 2, 0] <br> in system: 1.0"
           ],
           "legendgroup": "True, next",
           "line": {
            "color": "#636efa",
            "dash": "solid"
           },
           "marker": {
            "symbol": "diamond"
           },
           "mode": "lines+markers",
           "name": "True, next",
           "orientation": "v",
           "showlegend": true,
           "type": "scatter",
           "x": [
            0.7613636363636364
           ],
           "xaxis": "x",
           "y": [
            0.76
           ],
           "yaxis": "y"
          },
          {
           "hovertemplate": "<b>%{hovertext}</b><br><br>main=False<br>type=last<br>step=23<br>name=1<br>x=%{x}<br>y=%{y}<extra></extra>",
           "hovertext": [
            "Last node of 1 <br> reward: 0 <br> action: [5, 0, 4, 1, 0, 4, 0, 4, 2, 0] <br> in system: 1.0"
           ],
           "legendgroup": "False, last",
           "line": {
            "color": "#EF553B",
            "dash": "solid"
           },
           "marker": {
            "symbol": "circle"
           },
           "mode": "lines+markers",
           "name": "False, last",
           "orientation": "v",
           "showlegend": true,
           "type": "scatter",
           "x": [
            0.42045454545454547
           ],
           "xaxis": "x",
           "y": [
            0.38
           ],
           "yaxis": "y"
          },
          {
           "hovertemplate": "<b>%{hovertext}</b><br><br>main=False<br>type=last<br>step=23<br>name=2<br>x=%{x}<br>y=%{y}<extra></extra>",
           "hovertext": [
            "Last node of 2 <br> reward: 0 <br> action: [5, 0, 4, 1, 0, 4, 0, 4, 2, 0] <br> in system: 1.0"
           ],
           "legendgroup": "False, last",
           "line": {
            "color": "#EF553B",
            "dash": "solid"
           },
           "marker": {
            "symbol": "circle"
           },
           "mode": "lines+markers",
           "name": "False, last",
           "orientation": "v",
           "showlegend": false,
           "type": "scatter",
           "x": [
            0.5454545454545454
           ],
           "xaxis": "x",
           "y": [
            0.76
           ],
           "yaxis": "y"
          },
          {
           "hovertemplate": "<b>%{hovertext}</b><br><br>main=False<br>type=last<br>step=23<br>name=3<br>x=%{x}<br>y=%{y}<extra></extra>",
           "hovertext": [
            "Last node of 3 <br> reward: 0 <br> action: [5, 0, 4, 1, 0, 4, 0, 4, 2, 0] <br> in system: 1.0"
           ],
           "legendgroup": "False, last",
           "line": {
            "color": "#EF553B",
            "dash": "solid"
           },
           "marker": {
            "symbol": "circle"
           },
           "mode": "lines+markers",
           "name": "False, last",
           "orientation": "v",
           "showlegend": false,
           "type": "scatter",
           "x": [
            0.42045454545454547
           ],
           "xaxis": "x",
           "y": [
            0.38
           ],
           "yaxis": "y"
          },
          {
           "hovertemplate": "<b>%{hovertext}</b><br><br>main=False<br>type=last<br>step=23<br>name=4<br>x=%{x}<br>y=%{y}<extra></extra>",
           "hovertext": [
            "Last node of 4 <br> reward: 0 <br> action: [5, 0, 4, 1, 0, 4, 0, 4, 2, 0] <br> in system: 1.0"
           ],
           "legendgroup": "False, last",
           "line": {
            "color": "#EF553B",
            "dash": "solid"
           },
           "marker": {
            "symbol": "circle"
           },
           "mode": "lines+markers",
           "name": "False, last",
           "orientation": "v",
           "showlegend": false,
           "type": "scatter",
           "x": [
            0.9431818181818182
           ],
           "xaxis": "x",
           "y": [
            0.86
           ],
           "yaxis": "y"
          },
          {
           "hovertemplate": "<b>%{hovertext}</b><br><br>main=False<br>type=last<br>step=23<br>name=5<br>x=%{x}<br>y=%{y}<extra></extra>",
           "hovertext": [
            "Last node of 5 <br> reward: 0 <br> action: [5, 0, 4, 1, 0, 4, 0, 4, 2, 0] <br> in system: 0.0"
           ],
           "legendgroup": "False, last",
           "line": {
            "color": "#EF553B",
            "dash": "solid"
           },
           "marker": {
            "symbol": "circle"
           },
           "mode": "lines+markers",
           "name": "False, last",
           "orientation": "v",
           "showlegend": false,
           "type": "scatter",
           "x": [
            0
           ],
           "xaxis": "x",
           "y": [
            0
           ],
           "yaxis": "y"
          },
          {
           "hovertemplate": "<b>%{hovertext}</b><br><br>main=False<br>type=last<br>step=23<br>name=6<br>x=%{x}<br>y=%{y}<extra></extra>",
           "hovertext": [
            "Last node of 6 <br> reward: 0 <br> action: [5, 0, 4, 1, 0, 4, 0, 4, 2, 0] <br> in system: 1.0"
           ],
           "legendgroup": "False, last",
           "line": {
            "color": "#EF553B",
            "dash": "solid"
           },
           "marker": {
            "symbol": "circle"
           },
           "mode": "lines+markers",
           "name": "False, last",
           "orientation": "v",
           "showlegend": false,
           "type": "scatter",
           "x": [
            0.32954545454545453
           ],
           "xaxis": "x",
           "y": [
            0.428
           ],
           "yaxis": "y"
          },
          {
           "hovertemplate": "<b>%{hovertext}</b><br><br>main=False<br>type=last<br>step=23<br>name=7<br>x=%{x}<br>y=%{y}<extra></extra>",
           "hovertext": [
            "Last node of 7 <br> reward: 0 <br> action: [5, 0, 4, 1, 0, 4, 0, 4, 2, 0] <br> in system: 0.0"
           ],
           "legendgroup": "False, last",
           "line": {
            "color": "#EF553B",
            "dash": "solid"
           },
           "marker": {
            "symbol": "circle"
           },
           "mode": "lines+markers",
           "name": "False, last",
           "orientation": "v",
           "showlegend": false,
           "type": "scatter",
           "x": [
            0
           ],
           "xaxis": "x",
           "y": [
            0
           ],
           "yaxis": "y"
          },
          {
           "hovertemplate": "<b>%{hovertext}</b><br><br>main=False<br>type=last<br>step=23<br>name=8<br>x=%{x}<br>y=%{y}<extra></extra>",
           "hovertext": [
            "Last node of 8 <br> reward: 0 <br> action: [5, 0, 4, 1, 0, 4, 0, 4, 2, 0] <br> in system: 0.0"
           ],
           "legendgroup": "False, last",
           "line": {
            "color": "#EF553B",
            "dash": "solid"
           },
           "marker": {
            "symbol": "circle"
           },
           "mode": "lines+markers",
           "name": "False, last",
           "orientation": "v",
           "showlegend": false,
           "type": "scatter",
           "x": [
            0
           ],
           "xaxis": "x",
           "y": [
            0
           ],
           "yaxis": "y"
          },
          {
           "hovertemplate": "<b>%{hovertext}</b><br><br>main=False<br>type=last<br>step=23<br>name=9<br>x=%{x}<br>y=%{y}<extra></extra>",
           "hovertext": [
            "Last node of 9 <br> reward: 0 <br> action: [5, 0, 4, 1, 0, 4, 0, 4, 2, 0] <br> in system: 0.0"
           ],
           "legendgroup": "False, last",
           "line": {
            "color": "#EF553B",
            "dash": "solid"
           },
           "marker": {
            "symbol": "circle"
           },
           "mode": "lines+markers",
           "name": "False, last",
           "orientation": "v",
           "showlegend": false,
           "type": "scatter",
           "x": [
            0
           ],
           "xaxis": "x",
           "y": [
            0
           ],
           "yaxis": "y"
          },
          {
           "hovertemplate": "<b>%{hovertext}</b><br><br>main=False<br>type=next<br>step=23<br>name=1<br>x=%{x}<br>y=%{y}<extra></extra>",
           "hovertext": [
            "Next node of 1 <br> reward: 0 <br> action: [5, 0, 4, 1, 0, 4, 0, 4, 2, 0] <br> in system: 1.0"
           ],
           "legendgroup": "False, next",
           "line": {
            "color": "#EF553B",
            "dash": "solid"
           },
           "marker": {
            "symbol": "diamond"
           },
           "mode": "lines+markers",
           "name": "False, next",
           "orientation": "v",
           "showlegend": true,
           "type": "scatter",
           "x": [
            0.32954545454545453
           ],
           "xaxis": "x",
           "y": [
            0.428
           ],
           "yaxis": "y"
          },
          {
           "hovertemplate": "<b>%{hovertext}</b><br><br>main=False<br>type=next<br>step=23<br>name=2<br>x=%{x}<br>y=%{y}<extra></extra>",
           "hovertext": [
            "Next node of 2 <br> reward: 0 <br> action: [5, 0, 4, 1, 0, 4, 0, 4, 2, 0] <br> in system: 1.0"
           ],
           "legendgroup": "False, next",
           "line": {
            "color": "#EF553B",
            "dash": "solid"
           },
           "marker": {
            "symbol": "diamond"
           },
           "mode": "lines+markers",
           "name": "False, next",
           "orientation": "v",
           "showlegend": false,
           "type": "scatter",
           "x": [
            0.5727272727272728
           ],
           "xaxis": "x",
           "y": [
            0.62
           ],
           "yaxis": "y"
          },
          {
           "hovertemplate": "<b>%{hovertext}</b><br><br>main=False<br>type=next<br>step=23<br>name=3<br>x=%{x}<br>y=%{y}<extra></extra>",
           "hovertext": [
            "Next node of 3 <br> reward: 0 <br> action: [5, 0, 4, 1, 0, 4, 0, 4, 2, 0] <br> in system: 1.0"
           ],
           "legendgroup": "False, next",
           "line": {
            "color": "#EF553B",
            "dash": "solid"
           },
           "marker": {
            "symbol": "diamond"
           },
           "mode": "lines+markers",
           "name": "False, next",
           "orientation": "v",
           "showlegend": false,
           "type": "scatter",
           "x": [
            0.4772727272727273
           ],
           "xaxis": "x",
           "y": [
            0.38
           ],
           "yaxis": "y"
          },
          {
           "hovertemplate": "<b>%{hovertext}</b><br><br>main=False<br>type=next<br>step=23<br>name=4<br>x=%{x}<br>y=%{y}<extra></extra>",
           "hovertext": [
            "Next node of 4 <br> reward: 0 <br> action: [5, 0, 4, 1, 0, 4, 0, 4, 2, 0] <br> in system: 1.0"
           ],
           "legendgroup": "False, next",
           "line": {
            "color": "#EF553B",
            "dash": "solid"
           },
           "marker": {
            "symbol": "diamond"
           },
           "mode": "lines+markers",
           "name": "False, next",
           "orientation": "v",
           "showlegend": false,
           "type": "scatter",
           "x": [
            1
           ],
           "xaxis": "x",
           "y": [
            0.86
           ],
           "yaxis": "y"
          },
          {
           "hovertemplate": "<b>%{hovertext}</b><br><br>main=False<br>type=next<br>step=23<br>name=5<br>x=%{x}<br>y=%{y}<extra></extra>",
           "hovertext": [
            "Next node of 5 <br> reward: 0 <br> action: [5, 0, 4, 1, 0, 4, 0, 4, 2, 0] <br> in system: 0.0"
           ],
           "legendgroup": "False, next",
           "line": {
            "color": "#EF553B",
            "dash": "solid"
           },
           "marker": {
            "symbol": "diamond"
           },
           "mode": "lines+markers",
           "name": "False, next",
           "orientation": "v",
           "showlegend": false,
           "type": "scatter",
           "x": [
            0
           ],
           "xaxis": "x",
           "y": [
            0
           ],
           "yaxis": "y"
          },
          {
           "hovertemplate": "<b>%{hovertext}</b><br><br>main=False<br>type=next<br>step=23<br>name=6<br>x=%{x}<br>y=%{y}<extra></extra>",
           "hovertext": [
            "Next node of 6 <br> reward: 0 <br> action: [5, 0, 4, 1, 0, 4, 0, 4, 2, 0] <br> in system: 1.0"
           ],
           "legendgroup": "False, next",
           "line": {
            "color": "#EF553B",
            "dash": "solid"
           },
           "marker": {
            "symbol": "diamond"
           },
           "mode": "lines+markers",
           "name": "False, next",
           "orientation": "v",
           "showlegend": false,
           "type": "scatter",
           "x": [
            0.42045454545454547
           ],
           "xaxis": "x",
           "y": [
            0.48
           ],
           "yaxis": "y"
          },
          {
           "hovertemplate": "<b>%{hovertext}</b><br><br>main=False<br>type=next<br>step=23<br>name=7<br>x=%{x}<br>y=%{y}<extra></extra>",
           "hovertext": [
            "Next node of 7 <br> reward: 0 <br> action: [5, 0, 4, 1, 0, 4, 0, 4, 2, 0] <br> in system: 0.0"
           ],
           "legendgroup": "False, next",
           "line": {
            "color": "#EF553B",
            "dash": "solid"
           },
           "marker": {
            "symbol": "diamond"
           },
           "mode": "lines+markers",
           "name": "False, next",
           "orientation": "v",
           "showlegend": false,
           "type": "scatter",
           "x": [
            0
           ],
           "xaxis": "x",
           "y": [
            0
           ],
           "yaxis": "y"
          },
          {
           "hovertemplate": "<b>%{hovertext}</b><br><br>main=False<br>type=next<br>step=23<br>name=8<br>x=%{x}<br>y=%{y}<extra></extra>",
           "hovertext": [
            "Next node of 8 <br> reward: 0 <br> action: [5, 0, 4, 1, 0, 4, 0, 4, 2, 0] <br> in system: 0.0"
           ],
           "legendgroup": "False, next",
           "line": {
            "color": "#EF553B",
            "dash": "solid"
           },
           "marker": {
            "symbol": "diamond"
           },
           "mode": "lines+markers",
           "name": "False, next",
           "orientation": "v",
           "showlegend": false,
           "type": "scatter",
           "x": [
            0
           ],
           "xaxis": "x",
           "y": [
            0
           ],
           "yaxis": "y"
          },
          {
           "hovertemplate": "<b>%{hovertext}</b><br><br>main=False<br>type=next<br>step=23<br>name=9<br>x=%{x}<br>y=%{y}<extra></extra>",
           "hovertext": [
            "Next node of 9 <br> reward: 0 <br> action: [5, 0, 4, 1, 0, 4, 0, 4, 2, 0] <br> in system: 0.0"
           ],
           "legendgroup": "False, next",
           "line": {
            "color": "#EF553B",
            "dash": "solid"
           },
           "marker": {
            "symbol": "diamond"
           },
           "mode": "lines+markers",
           "name": "False, next",
           "orientation": "v",
           "showlegend": false,
           "type": "scatter",
           "x": [
            0
           ],
           "xaxis": "x",
           "y": [
            0
           ],
           "yaxis": "y"
          }
         ],
         "name": "23"
        },
        {
         "data": [
          {
           "hovertemplate": "<b>%{hovertext}</b><br><br>main=True<br>type=last<br>step=24<br>name=0<br>x=%{x}<br>y=%{y}<extra></extra>",
           "hovertext": [
            "Last node of 0 <br> reward: 1.0 <br> action: [2, 5, 3, 4, 2, 0, 3, 5, 2, 2] <br> in system: 1.0"
           ],
           "legendgroup": "True, last",
           "line": {
            "color": "#636efa",
            "dash": "solid"
           },
           "marker": {
            "symbol": "circle"
           },
           "mode": "lines+markers",
           "name": "True, last",
           "orientation": "v",
           "showlegend": true,
           "type": "scatter",
           "x": [
            0.7613636363636364
           ],
           "xaxis": "x",
           "y": [
            0.86
           ],
           "yaxis": "y"
          },
          {
           "hovertemplate": "<b>%{hovertext}</b><br><br>main=True<br>type=next<br>step=24<br>name=0<br>x=%{x}<br>y=%{y}<extra></extra>",
           "hovertext": [
            "Next node of 0 <br> reward: 1.0 <br> action: [2, 5, 3, 4, 2, 0, 3, 5, 2, 2] <br> in system: 1.0"
           ],
           "legendgroup": "True, next",
           "line": {
            "color": "#636efa",
            "dash": "solid"
           },
           "marker": {
            "symbol": "diamond"
           },
           "mode": "lines+markers",
           "name": "True, next",
           "orientation": "v",
           "showlegend": true,
           "type": "scatter",
           "x": [
            0.7613636363636364
           ],
           "xaxis": "x",
           "y": [
            0.76
           ],
           "yaxis": "y"
          },
          {
           "hovertemplate": "<b>%{hovertext}</b><br><br>main=False<br>type=last<br>step=24<br>name=1<br>x=%{x}<br>y=%{y}<extra></extra>",
           "hovertext": [
            "Last node of 1 <br> reward: 1.0 <br> action: [2, 5, 3, 4, 2, 0, 3, 5, 2, 2] <br> in system: 0.0"
           ],
           "legendgroup": "False, last",
           "line": {
            "color": "#EF553B",
            "dash": "solid"
           },
           "marker": {
            "symbol": "circle"
           },
           "mode": "lines+markers",
           "name": "False, last",
           "orientation": "v",
           "showlegend": true,
           "type": "scatter",
           "x": [
            0
           ],
           "xaxis": "x",
           "y": [
            0
           ],
           "yaxis": "y"
          },
          {
           "hovertemplate": "<b>%{hovertext}</b><br><br>main=False<br>type=last<br>step=24<br>name=2<br>x=%{x}<br>y=%{y}<extra></extra>",
           "hovertext": [
            "Last node of 2 <br> reward: 1.0 <br> action: [2, 5, 3, 4, 2, 0, 3, 5, 2, 2] <br> in system: 1.0"
           ],
           "legendgroup": "False, last",
           "line": {
            "color": "#EF553B",
            "dash": "solid"
           },
           "marker": {
            "symbol": "circle"
           },
           "mode": "lines+markers",
           "name": "False, last",
           "orientation": "v",
           "showlegend": false,
           "type": "scatter",
           "x": [
            0.42045454545454547
           ],
           "xaxis": "x",
           "y": [
            0.38
           ],
           "yaxis": "y"
          },
          {
           "hovertemplate": "<b>%{hovertext}</b><br><br>main=False<br>type=last<br>step=24<br>name=3<br>x=%{x}<br>y=%{y}<extra></extra>",
           "hovertext": [
            "Last node of 3 <br> reward: 1.0 <br> action: [2, 5, 3, 4, 2, 0, 3, 5, 2, 2] <br> in system: 1.0"
           ],
           "legendgroup": "False, last",
           "line": {
            "color": "#EF553B",
            "dash": "solid"
           },
           "marker": {
            "symbol": "circle"
           },
           "mode": "lines+markers",
           "name": "False, last",
           "orientation": "v",
           "showlegend": false,
           "type": "scatter",
           "x": [
            0.32954545454545453
           ],
           "xaxis": "x",
           "y": [
            0.428
           ],
           "yaxis": "y"
          },
          {
           "hovertemplate": "<b>%{hovertext}</b><br><br>main=False<br>type=last<br>step=24<br>name=4<br>x=%{x}<br>y=%{y}<extra></extra>",
           "hovertext": [
            "Last node of 4 <br> reward: 1.0 <br> action: [2, 5, 3, 4, 2, 0, 3, 5, 2, 2] <br> in system: 0.0"
           ],
           "legendgroup": "False, last",
           "line": {
            "color": "#EF553B",
            "dash": "solid"
           },
           "marker": {
            "symbol": "circle"
           },
           "mode": "lines+markers",
           "name": "False, last",
           "orientation": "v",
           "showlegend": false,
           "type": "scatter",
           "x": [
            0
           ],
           "xaxis": "x",
           "y": [
            0
           ],
           "yaxis": "y"
          },
          {
           "hovertemplate": "<b>%{hovertext}</b><br><br>main=False<br>type=last<br>step=24<br>name=5<br>x=%{x}<br>y=%{y}<extra></extra>",
           "hovertext": [
            "Last node of 5 <br> reward: 1.0 <br> action: [2, 5, 3, 4, 2, 0, 3, 5, 2, 2] <br> in system: 1.0"
           ],
           "legendgroup": "False, last",
           "line": {
            "color": "#EF553B",
            "dash": "solid"
           },
           "marker": {
            "symbol": "circle"
           },
           "mode": "lines+markers",
           "name": "False, last",
           "orientation": "v",
           "showlegend": false,
           "type": "scatter",
           "x": [
            0.42045454545454547
           ],
           "xaxis": "x",
           "y": [
            0.38
           ],
           "yaxis": "y"
          },
          {
           "hovertemplate": "<b>%{hovertext}</b><br><br>main=False<br>type=last<br>step=24<br>name=6<br>x=%{x}<br>y=%{y}<extra></extra>",
           "hovertext": [
            "Last node of 6 <br> reward: 1.0 <br> action: [2, 5, 3, 4, 2, 0, 3, 5, 2, 2] <br> in system: 1.0"
           ],
           "legendgroup": "False, last",
           "line": {
            "color": "#EF553B",
            "dash": "solid"
           },
           "marker": {
            "symbol": "circle"
           },
           "mode": "lines+markers",
           "name": "False, last",
           "orientation": "v",
           "showlegend": false,
           "type": "scatter",
           "x": [
            0.9431818181818182
           ],
           "xaxis": "x",
           "y": [
            0.86
           ],
           "yaxis": "y"
          },
          {
           "hovertemplate": "<b>%{hovertext}</b><br><br>main=False<br>type=last<br>step=24<br>name=7<br>x=%{x}<br>y=%{y}<extra></extra>",
           "hovertext": [
            "Last node of 7 <br> reward: 1.0 <br> action: [2, 5, 3, 4, 2, 0, 3, 5, 2, 2] <br> in system: 0.0"
           ],
           "legendgroup": "False, last",
           "line": {
            "color": "#EF553B",
            "dash": "solid"
           },
           "marker": {
            "symbol": "circle"
           },
           "mode": "lines+markers",
           "name": "False, last",
           "orientation": "v",
           "showlegend": false,
           "type": "scatter",
           "x": [
            0
           ],
           "xaxis": "x",
           "y": [
            0
           ],
           "yaxis": "y"
          },
          {
           "hovertemplate": "<b>%{hovertext}</b><br><br>main=False<br>type=last<br>step=24<br>name=8<br>x=%{x}<br>y=%{y}<extra></extra>",
           "hovertext": [
            "Last node of 8 <br> reward: 1.0 <br> action: [2, 5, 3, 4, 2, 0, 3, 5, 2, 2] <br> in system: 0.0"
           ],
           "legendgroup": "False, last",
           "line": {
            "color": "#EF553B",
            "dash": "solid"
           },
           "marker": {
            "symbol": "circle"
           },
           "mode": "lines+markers",
           "name": "False, last",
           "orientation": "v",
           "showlegend": false,
           "type": "scatter",
           "x": [
            0
           ],
           "xaxis": "x",
           "y": [
            0
           ],
           "yaxis": "y"
          },
          {
           "hovertemplate": "<b>%{hovertext}</b><br><br>main=False<br>type=last<br>step=24<br>name=9<br>x=%{x}<br>y=%{y}<extra></extra>",
           "hovertext": [
            "Last node of 9 <br> reward: 1.0 <br> action: [2, 5, 3, 4, 2, 0, 3, 5, 2, 2] <br> in system: 1.0"
           ],
           "legendgroup": "False, last",
           "line": {
            "color": "#EF553B",
            "dash": "solid"
           },
           "marker": {
            "symbol": "circle"
           },
           "mode": "lines+markers",
           "name": "False, last",
           "orientation": "v",
           "showlegend": false,
           "type": "scatter",
           "x": [
            0.5454545454545454
           ],
           "xaxis": "x",
           "y": [
            0.76
           ],
           "yaxis": "y"
          },
          {
           "hovertemplate": "<b>%{hovertext}</b><br><br>main=False<br>type=next<br>step=24<br>name=1<br>x=%{x}<br>y=%{y}<extra></extra>",
           "hovertext": [
            "Next node of 1 <br> reward: 1.0 <br> action: [2, 5, 3, 4, 2, 0, 3, 5, 2, 2] <br> in system: 0.0"
           ],
           "legendgroup": "False, next",
           "line": {
            "color": "#EF553B",
            "dash": "solid"
           },
           "marker": {
            "symbol": "diamond"
           },
           "mode": "lines+markers",
           "name": "False, next",
           "orientation": "v",
           "showlegend": true,
           "type": "scatter",
           "x": [
            0
           ],
           "xaxis": "x",
           "y": [
            0
           ],
           "yaxis": "y"
          },
          {
           "hovertemplate": "<b>%{hovertext}</b><br><br>main=False<br>type=next<br>step=24<br>name=2<br>x=%{x}<br>y=%{y}<extra></extra>",
           "hovertext": [
            "Next node of 2 <br> reward: 1.0 <br> action: [2, 5, 3, 4, 2, 0, 3, 5, 2, 2] <br> in system: 1.0"
           ],
           "legendgroup": "False, next",
           "line": {
            "color": "#EF553B",
            "dash": "solid"
           },
           "marker": {
            "symbol": "diamond"
           },
           "mode": "lines+markers",
           "name": "False, next",
           "orientation": "v",
           "showlegend": false,
           "type": "scatter",
           "x": [
            0.32954545454545453
           ],
           "xaxis": "x",
           "y": [
            0.428
           ],
           "yaxis": "y"
          },
          {
           "hovertemplate": "<b>%{hovertext}</b><br><br>main=False<br>type=next<br>step=24<br>name=3<br>x=%{x}<br>y=%{y}<extra></extra>",
           "hovertext": [
            "Next node of 3 <br> reward: 1.0 <br> action: [2, 5, 3, 4, 2, 0, 3, 5, 2, 2] <br> in system: 1.0"
           ],
           "legendgroup": "False, next",
           "line": {
            "color": "#EF553B",
            "dash": "solid"
           },
           "marker": {
            "symbol": "diamond"
           },
           "mode": "lines+markers",
           "name": "False, next",
           "orientation": "v",
           "showlegend": false,
           "type": "scatter",
           "x": [
            0.42045454545454547
           ],
           "xaxis": "x",
           "y": [
            0.48
           ],
           "yaxis": "y"
          },
          {
           "hovertemplate": "<b>%{hovertext}</b><br><br>main=False<br>type=next<br>step=24<br>name=4<br>x=%{x}<br>y=%{y}<extra></extra>",
           "hovertext": [
            "Next node of 4 <br> reward: 1.0 <br> action: [2, 5, 3, 4, 2, 0, 3, 5, 2, 2] <br> in system: 0.0"
           ],
           "legendgroup": "False, next",
           "line": {
            "color": "#EF553B",
            "dash": "solid"
           },
           "marker": {
            "symbol": "diamond"
           },
           "mode": "lines+markers",
           "name": "False, next",
           "orientation": "v",
           "showlegend": false,
           "type": "scatter",
           "x": [
            0
           ],
           "xaxis": "x",
           "y": [
            0
           ],
           "yaxis": "y"
          },
          {
           "hovertemplate": "<b>%{hovertext}</b><br><br>main=False<br>type=next<br>step=24<br>name=5<br>x=%{x}<br>y=%{y}<extra></extra>",
           "hovertext": [
            "Next node of 5 <br> reward: 1.0 <br> action: [2, 5, 3, 4, 2, 0, 3, 5, 2, 2] <br> in system: 1.0"
           ],
           "legendgroup": "False, next",
           "line": {
            "color": "#EF553B",
            "dash": "solid"
           },
           "marker": {
            "symbol": "diamond"
           },
           "mode": "lines+markers",
           "name": "False, next",
           "orientation": "v",
           "showlegend": false,
           "type": "scatter",
           "x": [
            0.4772727272727273
           ],
           "xaxis": "x",
           "y": [
            0.38
           ],
           "yaxis": "y"
          },
          {
           "hovertemplate": "<b>%{hovertext}</b><br><br>main=False<br>type=next<br>step=24<br>name=6<br>x=%{x}<br>y=%{y}<extra></extra>",
           "hovertext": [
            "Next node of 6 <br> reward: 1.0 <br> action: [2, 5, 3, 4, 2, 0, 3, 5, 2, 2] <br> in system: 1.0"
           ],
           "legendgroup": "False, next",
           "line": {
            "color": "#EF553B",
            "dash": "solid"
           },
           "marker": {
            "symbol": "diamond"
           },
           "mode": "lines+markers",
           "name": "False, next",
           "orientation": "v",
           "showlegend": false,
           "type": "scatter",
           "x": [
            1
           ],
           "xaxis": "x",
           "y": [
            0.86
           ],
           "yaxis": "y"
          },
          {
           "hovertemplate": "<b>%{hovertext}</b><br><br>main=False<br>type=next<br>step=24<br>name=7<br>x=%{x}<br>y=%{y}<extra></extra>",
           "hovertext": [
            "Next node of 7 <br> reward: 1.0 <br> action: [2, 5, 3, 4, 2, 0, 3, 5, 2, 2] <br> in system: 0.0"
           ],
           "legendgroup": "False, next",
           "line": {
            "color": "#EF553B",
            "dash": "solid"
           },
           "marker": {
            "symbol": "diamond"
           },
           "mode": "lines+markers",
           "name": "False, next",
           "orientation": "v",
           "showlegend": false,
           "type": "scatter",
           "x": [
            0
           ],
           "xaxis": "x",
           "y": [
            0
           ],
           "yaxis": "y"
          },
          {
           "hovertemplate": "<b>%{hovertext}</b><br><br>main=False<br>type=next<br>step=24<br>name=8<br>x=%{x}<br>y=%{y}<extra></extra>",
           "hovertext": [
            "Next node of 8 <br> reward: 1.0 <br> action: [2, 5, 3, 4, 2, 0, 3, 5, 2, 2] <br> in system: 0.0"
           ],
           "legendgroup": "False, next",
           "line": {
            "color": "#EF553B",
            "dash": "solid"
           },
           "marker": {
            "symbol": "diamond"
           },
           "mode": "lines+markers",
           "name": "False, next",
           "orientation": "v",
           "showlegend": false,
           "type": "scatter",
           "x": [
            0
           ],
           "xaxis": "x",
           "y": [
            0
           ],
           "yaxis": "y"
          },
          {
           "hovertemplate": "<b>%{hovertext}</b><br><br>main=False<br>type=next<br>step=24<br>name=9<br>x=%{x}<br>y=%{y}<extra></extra>",
           "hovertext": [
            "Next node of 9 <br> reward: 1.0 <br> action: [2, 5, 3, 4, 2, 0, 3, 5, 2, 2] <br> in system: 1.0"
           ],
           "legendgroup": "False, next",
           "line": {
            "color": "#EF553B",
            "dash": "solid"
           },
           "marker": {
            "symbol": "diamond"
           },
           "mode": "lines+markers",
           "name": "False, next",
           "orientation": "v",
           "showlegend": false,
           "type": "scatter",
           "x": [
            0.5727272727272728
           ],
           "xaxis": "x",
           "y": [
            0.62
           ],
           "yaxis": "y"
          }
         ],
         "name": "24"
        },
        {
         "data": [
          {
           "hovertemplate": "<b>%{hovertext}</b><br><br>main=True<br>type=last<br>step=25<br>name=0<br>x=%{x}<br>y=%{y}<extra></extra>",
           "hovertext": [
            "Last node of 0 <br> reward: 0 <br> action: [0, 3, 2, 2, 5, 2, 1, 0, 3, 0] <br> in system: 1.0"
           ],
           "legendgroup": "True, last",
           "line": {
            "color": "#636efa",
            "dash": "solid"
           },
           "marker": {
            "symbol": "circle"
           },
           "mode": "lines+markers",
           "name": "True, last",
           "orientation": "v",
           "showlegend": true,
           "type": "scatter",
           "x": [
            0.7613636363636364
           ],
           "xaxis": "x",
           "y": [
            0.76
           ],
           "yaxis": "y"
          },
          {
           "hovertemplate": "<b>%{hovertext}</b><br><br>main=True<br>type=next<br>step=25<br>name=0<br>x=%{x}<br>y=%{y}<extra></extra>",
           "hovertext": [
            "Next node of 0 <br> reward: 0 <br> action: [0, 3, 2, 2, 5, 2, 1, 0, 3, 0] <br> in system: 1.0"
           ],
           "legendgroup": "True, next",
           "line": {
            "color": "#636efa",
            "dash": "solid"
           },
           "marker": {
            "symbol": "diamond"
           },
           "mode": "lines+markers",
           "name": "True, next",
           "orientation": "v",
           "showlegend": true,
           "type": "scatter",
           "x": [
            0.7909090909090909
           ],
           "xaxis": "x",
           "y": [
            0.62
           ],
           "yaxis": "y"
          },
          {
           "hovertemplate": "<b>%{hovertext}</b><br><br>main=False<br>type=last<br>step=25<br>name=1<br>x=%{x}<br>y=%{y}<extra></extra>",
           "hovertext": [
            "Last node of 1 <br> reward: 0 <br> action: [0, 3, 2, 2, 5, 2, 1, 0, 3, 0] <br> in system: 1.0"
           ],
           "legendgroup": "False, last",
           "line": {
            "color": "#EF553B",
            "dash": "solid"
           },
           "marker": {
            "symbol": "circle"
           },
           "mode": "lines+markers",
           "name": "False, last",
           "orientation": "v",
           "showlegend": true,
           "type": "scatter",
           "x": [
            1
           ],
           "xaxis": "x",
           "y": [
            0.86
           ],
           "yaxis": "y"
          },
          {
           "hovertemplate": "<b>%{hovertext}</b><br><br>main=False<br>type=last<br>step=25<br>name=2<br>x=%{x}<br>y=%{y}<extra></extra>",
           "hovertext": [
            "Last node of 2 <br> reward: 0 <br> action: [0, 3, 2, 2, 5, 2, 1, 0, 3, 0] <br> in system: 0.0"
           ],
           "legendgroup": "False, last",
           "line": {
            "color": "#EF553B",
            "dash": "solid"
           },
           "marker": {
            "symbol": "circle"
           },
           "mode": "lines+markers",
           "name": "False, last",
           "orientation": "v",
           "showlegend": false,
           "type": "scatter",
           "x": [
            0
           ],
           "xaxis": "x",
           "y": [
            0
           ],
           "yaxis": "y"
          },
          {
           "hovertemplate": "<b>%{hovertext}</b><br><br>main=False<br>type=last<br>step=25<br>name=3<br>x=%{x}<br>y=%{y}<extra></extra>",
           "hovertext": [
            "Last node of 3 <br> reward: 0 <br> action: [0, 3, 2, 2, 5, 2, 1, 0, 3, 0] <br> in system: 1.0"
           ],
           "legendgroup": "False, last",
           "line": {
            "color": "#EF553B",
            "dash": "solid"
           },
           "marker": {
            "symbol": "circle"
           },
           "mode": "lines+markers",
           "name": "False, last",
           "orientation": "v",
           "showlegend": false,
           "type": "scatter",
           "x": [
            0.5454545454545454
           ],
           "xaxis": "x",
           "y": [
            0.76
           ],
           "yaxis": "y"
          },
          {
           "hovertemplate": "<b>%{hovertext}</b><br><br>main=False<br>type=last<br>step=25<br>name=4<br>x=%{x}<br>y=%{y}<extra></extra>",
           "hovertext": [
            "Last node of 4 <br> reward: 0 <br> action: [0, 3, 2, 2, 5, 2, 1, 0, 3, 0] <br> in system: 0.0"
           ],
           "legendgroup": "False, last",
           "line": {
            "color": "#EF553B",
            "dash": "solid"
           },
           "marker": {
            "symbol": "circle"
           },
           "mode": "lines+markers",
           "name": "False, last",
           "orientation": "v",
           "showlegend": false,
           "type": "scatter",
           "x": [
            0
           ],
           "xaxis": "x",
           "y": [
            0
           ],
           "yaxis": "y"
          },
          {
           "hovertemplate": "<b>%{hovertext}</b><br><br>main=False<br>type=last<br>step=25<br>name=5<br>x=%{x}<br>y=%{y}<extra></extra>",
           "hovertext": [
            "Last node of 5 <br> reward: 0 <br> action: [0, 3, 2, 2, 5, 2, 1, 0, 3, 0] <br> in system: 1.0"
           ],
           "legendgroup": "False, last",
           "line": {
            "color": "#EF553B",
            "dash": "solid"
           },
           "marker": {
            "symbol": "circle"
           },
           "mode": "lines+markers",
           "name": "False, last",
           "orientation": "v",
           "showlegend": false,
           "type": "scatter",
           "x": [
            0.42045454545454547
           ],
           "xaxis": "x",
           "y": [
            0.38
           ],
           "yaxis": "y"
          },
          {
           "hovertemplate": "<b>%{hovertext}</b><br><br>main=False<br>type=last<br>step=25<br>name=6<br>x=%{x}<br>y=%{y}<extra></extra>",
           "hovertext": [
            "Last node of 6 <br> reward: 0 <br> action: [0, 3, 2, 2, 5, 2, 1, 0, 3, 0] <br> in system: 0.0"
           ],
           "legendgroup": "False, last",
           "line": {
            "color": "#EF553B",
            "dash": "solid"
           },
           "marker": {
            "symbol": "circle"
           },
           "mode": "lines+markers",
           "name": "False, last",
           "orientation": "v",
           "showlegend": false,
           "type": "scatter",
           "x": [
            0
           ],
           "xaxis": "x",
           "y": [
            0
           ],
           "yaxis": "y"
          },
          {
           "hovertemplate": "<b>%{hovertext}</b><br><br>main=False<br>type=last<br>step=25<br>name=7<br>x=%{x}<br>y=%{y}<extra></extra>",
           "hovertext": [
            "Last node of 7 <br> reward: 0 <br> action: [0, 3, 2, 2, 5, 2, 1, 0, 3, 0] <br> in system: 1.0"
           ],
           "legendgroup": "False, last",
           "line": {
            "color": "#EF553B",
            "dash": "solid"
           },
           "marker": {
            "symbol": "circle"
           },
           "mode": "lines+markers",
           "name": "False, last",
           "orientation": "v",
           "showlegend": false,
           "type": "scatter",
           "x": [
            0.4772727272727273
           ],
           "xaxis": "x",
           "y": [
            0.48
           ],
           "yaxis": "y"
          },
          {
           "hovertemplate": "<b>%{hovertext}</b><br><br>main=False<br>type=last<br>step=25<br>name=8<br>x=%{x}<br>y=%{y}<extra></extra>",
           "hovertext": [
            "Last node of 8 <br> reward: 0 <br> action: [0, 3, 2, 2, 5, 2, 1, 0, 3, 0] <br> in system: 0.0"
           ],
           "legendgroup": "False, last",
           "line": {
            "color": "#EF553B",
            "dash": "solid"
           },
           "marker": {
            "symbol": "circle"
           },
           "mode": "lines+markers",
           "name": "False, last",
           "orientation": "v",
           "showlegend": false,
           "type": "scatter",
           "x": [
            0
           ],
           "xaxis": "x",
           "y": [
            0
           ],
           "yaxis": "y"
          },
          {
           "hovertemplate": "<b>%{hovertext}</b><br><br>main=False<br>type=last<br>step=25<br>name=9<br>x=%{x}<br>y=%{y}<extra></extra>",
           "hovertext": [
            "Last node of 9 <br> reward: 0 <br> action: [0, 3, 2, 2, 5, 2, 1, 0, 3, 0] <br> in system: 1.0"
           ],
           "legendgroup": "False, last",
           "line": {
            "color": "#EF553B",
            "dash": "solid"
           },
           "marker": {
            "symbol": "circle"
           },
           "mode": "lines+markers",
           "name": "False, last",
           "orientation": "v",
           "showlegend": false,
           "type": "scatter",
           "x": [
            0.42045454545454547
           ],
           "xaxis": "x",
           "y": [
            0.38
           ],
           "yaxis": "y"
          },
          {
           "hovertemplate": "<b>%{hovertext}</b><br><br>main=False<br>type=next<br>step=25<br>name=1<br>x=%{x}<br>y=%{y}<extra></extra>",
           "hovertext": [
            "Next node of 1 <br> reward: 0 <br> action: [0, 3, 2, 2, 5, 2, 1, 0, 3, 0] <br> in system: 1.0"
           ],
           "legendgroup": "False, next",
           "line": {
            "color": "#EF553B",
            "dash": "solid"
           },
           "marker": {
            "symbol": "diamond"
           },
           "mode": "lines+markers",
           "name": "False, next",
           "orientation": "v",
           "showlegend": true,
           "type": "scatter",
           "x": [
            0.9727272727272728
           ],
           "xaxis": "x",
           "y": [
            1
           ],
           "yaxis": "y"
          },
          {
           "hovertemplate": "<b>%{hovertext}</b><br><br>main=False<br>type=next<br>step=25<br>name=2<br>x=%{x}<br>y=%{y}<extra></extra>",
           "hovertext": [
            "Next node of 2 <br> reward: 0 <br> action: [0, 3, 2, 2, 5, 2, 1, 0, 3, 0] <br> in system: 0.0"
           ],
           "legendgroup": "False, next",
           "line": {
            "color": "#EF553B",
            "dash": "solid"
           },
           "marker": {
            "symbol": "diamond"
           },
           "mode": "lines+markers",
           "name": "False, next",
           "orientation": "v",
           "showlegend": false,
           "type": "scatter",
           "x": [
            0
           ],
           "xaxis": "x",
           "y": [
            0
           ],
           "yaxis": "y"
          },
          {
           "hovertemplate": "<b>%{hovertext}</b><br><br>main=False<br>type=next<br>step=25<br>name=3<br>x=%{x}<br>y=%{y}<extra></extra>",
           "hovertext": [
            "Next node of 3 <br> reward: 0 <br> action: [0, 3, 2, 2, 5, 2, 1, 0, 3, 0] <br> in system: 1.0"
           ],
           "legendgroup": "False, next",
           "line": {
            "color": "#EF553B",
            "dash": "solid"
           },
           "marker": {
            "symbol": "diamond"
           },
           "mode": "lines+markers",
           "name": "False, next",
           "orientation": "v",
           "showlegend": false,
           "type": "scatter",
           "x": [
            0.5727272727272728
           ],
           "xaxis": "x",
           "y": [
            0.62
           ],
           "yaxis": "y"
          },
          {
           "hovertemplate": "<b>%{hovertext}</b><br><br>main=False<br>type=next<br>step=25<br>name=4<br>x=%{x}<br>y=%{y}<extra></extra>",
           "hovertext": [
            "Next node of 4 <br> reward: 0 <br> action: [0, 3, 2, 2, 5, 2, 1, 0, 3, 0] <br> in system: 0.0"
           ],
           "legendgroup": "False, next",
           "line": {
            "color": "#EF553B",
            "dash": "solid"
           },
           "marker": {
            "symbol": "diamond"
           },
           "mode": "lines+markers",
           "name": "False, next",
           "orientation": "v",
           "showlegend": false,
           "type": "scatter",
           "x": [
            0
           ],
           "xaxis": "x",
           "y": [
            0
           ],
           "yaxis": "y"
          },
          {
           "hovertemplate": "<b>%{hovertext}</b><br><br>main=False<br>type=next<br>step=25<br>name=5<br>x=%{x}<br>y=%{y}<extra></extra>",
           "hovertext": [
            "Next node of 5 <br> reward: 0 <br> action: [0, 3, 2, 2, 5, 2, 1, 0, 3, 0] <br> in system: 1.0"
           ],
           "legendgroup": "False, next",
           "line": {
            "color": "#EF553B",
            "dash": "solid"
           },
           "marker": {
            "symbol": "diamond"
           },
           "mode": "lines+markers",
           "name": "False, next",
           "orientation": "v",
           "showlegend": false,
           "type": "scatter",
           "x": [
            0.4772727272727273
           ],
           "xaxis": "x",
           "y": [
            0.38
           ],
           "yaxis": "y"
          },
          {
           "hovertemplate": "<b>%{hovertext}</b><br><br>main=False<br>type=next<br>step=25<br>name=6<br>x=%{x}<br>y=%{y}<extra></extra>",
           "hovertext": [
            "Next node of 6 <br> reward: 0 <br> action: [0, 3, 2, 2, 5, 2, 1, 0, 3, 0] <br> in system: 0.0"
           ],
           "legendgroup": "False, next",
           "line": {
            "color": "#EF553B",
            "dash": "solid"
           },
           "marker": {
            "symbol": "diamond"
           },
           "mode": "lines+markers",
           "name": "False, next",
           "orientation": "v",
           "showlegend": false,
           "type": "scatter",
           "x": [
            0
           ],
           "xaxis": "x",
           "y": [
            0
           ],
           "yaxis": "y"
          },
          {
           "hovertemplate": "<b>%{hovertext}</b><br><br>main=False<br>type=next<br>step=25<br>name=7<br>x=%{x}<br>y=%{y}<extra></extra>",
           "hovertext": [
            "Next node of 7 <br> reward: 0 <br> action: [0, 3, 2, 2, 5, 2, 1, 0, 3, 0] <br> in system: 1.0"
           ],
           "legendgroup": "False, next",
           "line": {
            "color": "#EF553B",
            "dash": "solid"
           },
           "marker": {
            "symbol": "diamond"
           },
           "mode": "lines+markers",
           "name": "False, next",
           "orientation": "v",
           "showlegend": false,
           "type": "scatter",
           "x": [
            0.4772727272727273
           ],
           "xaxis": "x",
           "y": [
            0.76
           ],
           "yaxis": "y"
          },
          {
           "hovertemplate": "<b>%{hovertext}</b><br><br>main=False<br>type=next<br>step=25<br>name=8<br>x=%{x}<br>y=%{y}<extra></extra>",
           "hovertext": [
            "Next node of 8 <br> reward: 0 <br> action: [0, 3, 2, 2, 5, 2, 1, 0, 3, 0] <br> in system: 0.0"
           ],
           "legendgroup": "False, next",
           "line": {
            "color": "#EF553B",
            "dash": "solid"
           },
           "marker": {
            "symbol": "diamond"
           },
           "mode": "lines+markers",
           "name": "False, next",
           "orientation": "v",
           "showlegend": false,
           "type": "scatter",
           "x": [
            0
           ],
           "xaxis": "x",
           "y": [
            0
           ],
           "yaxis": "y"
          },
          {
           "hovertemplate": "<b>%{hovertext}</b><br><br>main=False<br>type=next<br>step=25<br>name=9<br>x=%{x}<br>y=%{y}<extra></extra>",
           "hovertext": [
            "Next node of 9 <br> reward: 0 <br> action: [0, 3, 2, 2, 5, 2, 1, 0, 3, 0] <br> in system: 1.0"
           ],
           "legendgroup": "False, next",
           "line": {
            "color": "#EF553B",
            "dash": "solid"
           },
           "marker": {
            "symbol": "diamond"
           },
           "mode": "lines+markers",
           "name": "False, next",
           "orientation": "v",
           "showlegend": false,
           "type": "scatter",
           "x": [
            0.32954545454545453
           ],
           "xaxis": "x",
           "y": [
            0.428
           ],
           "yaxis": "y"
          }
         ],
         "name": "25"
        },
        {
         "data": [
          {
           "hovertemplate": "<b>%{hovertext}</b><br><br>main=True<br>type=last<br>step=26<br>name=0<br>x=%{x}<br>y=%{y}<extra></extra>",
           "hovertext": [
            "Last node of 0 <br> reward: 1.0 <br> action: [1, 5, 4, 5, 5, 1, 5, 3, 0, 0] <br> in system: 1.0"
           ],
           "legendgroup": "True, last",
           "line": {
            "color": "#636efa",
            "dash": "solid"
           },
           "marker": {
            "symbol": "circle"
           },
           "mode": "lines+markers",
           "name": "True, last",
           "orientation": "v",
           "showlegend": true,
           "type": "scatter",
           "x": [
            0.7613636363636364
           ],
           "xaxis": "x",
           "y": [
            0.76
           ],
           "yaxis": "y"
          },
          {
           "hovertemplate": "<b>%{hovertext}</b><br><br>main=True<br>type=next<br>step=26<br>name=0<br>x=%{x}<br>y=%{y}<extra></extra>",
           "hovertext": [
            "Next node of 0 <br> reward: 1.0 <br> action: [1, 5, 4, 5, 5, 1, 5, 3, 0, 0] <br> in system: 1.0"
           ],
           "legendgroup": "True, next",
           "line": {
            "color": "#636efa",
            "dash": "solid"
           },
           "marker": {
            "symbol": "diamond"
           },
           "mode": "lines+markers",
           "name": "True, next",
           "orientation": "v",
           "showlegend": true,
           "type": "scatter",
           "x": [
            0.7909090909090909
           ],
           "xaxis": "x",
           "y": [
            0.62
           ],
           "yaxis": "y"
          },
          {
           "hovertemplate": "<b>%{hovertext}</b><br><br>main=False<br>type=last<br>step=26<br>name=1<br>x=%{x}<br>y=%{y}<extra></extra>",
           "hovertext": [
            "Last node of 1 <br> reward: 1.0 <br> action: [1, 5, 4, 5, 5, 1, 5, 3, 0, 0] <br> in system: 0.0"
           ],
           "legendgroup": "False, last",
           "line": {
            "color": "#EF553B",
            "dash": "solid"
           },
           "marker": {
            "symbol": "circle"
           },
           "mode": "lines+markers",
           "name": "False, last",
           "orientation": "v",
           "showlegend": true,
           "type": "scatter",
           "x": [
            0
           ],
           "xaxis": "x",
           "y": [
            0
           ],
           "yaxis": "y"
          },
          {
           "hovertemplate": "<b>%{hovertext}</b><br><br>main=False<br>type=last<br>step=26<br>name=2<br>x=%{x}<br>y=%{y}<extra></extra>",
           "hovertext": [
            "Last node of 2 <br> reward: 1.0 <br> action: [1, 5, 4, 5, 5, 1, 5, 3, 0, 0] <br> in system: 1.0"
           ],
           "legendgroup": "False, last",
           "line": {
            "color": "#EF553B",
            "dash": "solid"
           },
           "marker": {
            "symbol": "circle"
           },
           "mode": "lines+markers",
           "name": "False, last",
           "orientation": "v",
           "showlegend": false,
           "type": "scatter",
           "x": [
            0.42045454545454547
           ],
           "xaxis": "x",
           "y": [
            0.38
           ],
           "yaxis": "y"
          },
          {
           "hovertemplate": "<b>%{hovertext}</b><br><br>main=False<br>type=last<br>step=26<br>name=3<br>x=%{x}<br>y=%{y}<extra></extra>",
           "hovertext": [
            "Last node of 3 <br> reward: 1.0 <br> action: [1, 5, 4, 5, 5, 1, 5, 3, 0, 0] <br> in system: 0.0"
           ],
           "legendgroup": "False, last",
           "line": {
            "color": "#EF553B",
            "dash": "solid"
           },
           "marker": {
            "symbol": "circle"
           },
           "mode": "lines+markers",
           "name": "False, last",
           "orientation": "v",
           "showlegend": false,
           "type": "scatter",
           "x": [
            0
           ],
           "xaxis": "x",
           "y": [
            0
           ],
           "yaxis": "y"
          },
          {
           "hovertemplate": "<b>%{hovertext}</b><br><br>main=False<br>type=last<br>step=26<br>name=4<br>x=%{x}<br>y=%{y}<extra></extra>",
           "hovertext": [
            "Last node of 4 <br> reward: 1.0 <br> action: [1, 5, 4, 5, 5, 1, 5, 3, 0, 0] <br> in system: 1.0"
           ],
           "legendgroup": "False, last",
           "line": {
            "color": "#EF553B",
            "dash": "solid"
           },
           "marker": {
            "symbol": "circle"
           },
           "mode": "lines+markers",
           "name": "False, last",
           "orientation": "v",
           "showlegend": false,
           "type": "scatter",
           "x": [
            0.5454545454545454
           ],
           "xaxis": "x",
           "y": [
            0.76
           ],
           "yaxis": "y"
          },
          {
           "hovertemplate": "<b>%{hovertext}</b><br><br>main=False<br>type=last<br>step=26<br>name=5<br>x=%{x}<br>y=%{y}<extra></extra>",
           "hovertext": [
            "Last node of 5 <br> reward: 1.0 <br> action: [1, 5, 4, 5, 5, 1, 5, 3, 0, 0] <br> in system: 0.0"
           ],
           "legendgroup": "False, last",
           "line": {
            "color": "#EF553B",
            "dash": "solid"
           },
           "marker": {
            "symbol": "circle"
           },
           "mode": "lines+markers",
           "name": "False, last",
           "orientation": "v",
           "showlegend": false,
           "type": "scatter",
           "x": [
            0
           ],
           "xaxis": "x",
           "y": [
            0
           ],
           "yaxis": "y"
          },
          {
           "hovertemplate": "<b>%{hovertext}</b><br><br>main=False<br>type=last<br>step=26<br>name=6<br>x=%{x}<br>y=%{y}<extra></extra>",
           "hovertext": [
            "Last node of 6 <br> reward: 1.0 <br> action: [1, 5, 4, 5, 5, 1, 5, 3, 0, 0] <br> in system: 1.0"
           ],
           "legendgroup": "False, last",
           "line": {
            "color": "#EF553B",
            "dash": "solid"
           },
           "marker": {
            "symbol": "circle"
           },
           "mode": "lines+markers",
           "name": "False, last",
           "orientation": "v",
           "showlegend": false,
           "type": "scatter",
           "x": [
            0.42045454545454547
           ],
           "xaxis": "x",
           "y": [
            0.38
           ],
           "yaxis": "y"
          },
          {
           "hovertemplate": "<b>%{hovertext}</b><br><br>main=False<br>type=last<br>step=26<br>name=7<br>x=%{x}<br>y=%{y}<extra></extra>",
           "hovertext": [
            "Last node of 7 <br> reward: 1.0 <br> action: [1, 5, 4, 5, 5, 1, 5, 3, 0, 0] <br> in system: 1.0"
           ],
           "legendgroup": "False, last",
           "line": {
            "color": "#EF553B",
            "dash": "solid"
           },
           "marker": {
            "symbol": "circle"
           },
           "mode": "lines+markers",
           "name": "False, last",
           "orientation": "v",
           "showlegend": false,
           "type": "scatter",
           "x": [
            0.4772727272727273
           ],
           "xaxis": "x",
           "y": [
            0.48
           ],
           "yaxis": "y"
          },
          {
           "hovertemplate": "<b>%{hovertext}</b><br><br>main=False<br>type=last<br>step=26<br>name=8<br>x=%{x}<br>y=%{y}<extra></extra>",
           "hovertext": [
            "Last node of 8 <br> reward: 1.0 <br> action: [1, 5, 4, 5, 5, 1, 5, 3, 0, 0] <br> in system: 1.0"
           ],
           "legendgroup": "False, last",
           "line": {
            "color": "#EF553B",
            "dash": "solid"
           },
           "marker": {
            "symbol": "circle"
           },
           "mode": "lines+markers",
           "name": "False, last",
           "orientation": "v",
           "showlegend": false,
           "type": "scatter",
           "x": [
            1
           ],
           "xaxis": "x",
           "y": [
            0.86
           ],
           "yaxis": "y"
          },
          {
           "hovertemplate": "<b>%{hovertext}</b><br><br>main=False<br>type=last<br>step=26<br>name=9<br>x=%{x}<br>y=%{y}<extra></extra>",
           "hovertext": [
            "Last node of 9 <br> reward: 1.0 <br> action: [1, 5, 4, 5, 5, 1, 5, 3, 0, 0] <br> in system: 0.0"
           ],
           "legendgroup": "False, last",
           "line": {
            "color": "#EF553B",
            "dash": "solid"
           },
           "marker": {
            "symbol": "circle"
           },
           "mode": "lines+markers",
           "name": "False, last",
           "orientation": "v",
           "showlegend": false,
           "type": "scatter",
           "x": [
            0
           ],
           "xaxis": "x",
           "y": [
            0
           ],
           "yaxis": "y"
          },
          {
           "hovertemplate": "<b>%{hovertext}</b><br><br>main=False<br>type=next<br>step=26<br>name=1<br>x=%{x}<br>y=%{y}<extra></extra>",
           "hovertext": [
            "Next node of 1 <br> reward: 1.0 <br> action: [1, 5, 4, 5, 5, 1, 5, 3, 0, 0] <br> in system: 0.0"
           ],
           "legendgroup": "False, next",
           "line": {
            "color": "#EF553B",
            "dash": "solid"
           },
           "marker": {
            "symbol": "diamond"
           },
           "mode": "lines+markers",
           "name": "False, next",
           "orientation": "v",
           "showlegend": true,
           "type": "scatter",
           "x": [
            0
           ],
           "xaxis": "x",
           "y": [
            0
           ],
           "yaxis": "y"
          },
          {
           "hovertemplate": "<b>%{hovertext}</b><br><br>main=False<br>type=next<br>step=26<br>name=2<br>x=%{x}<br>y=%{y}<extra></extra>",
           "hovertext": [
            "Next node of 2 <br> reward: 1.0 <br> action: [1, 5, 4, 5, 5, 1, 5, 3, 0, 0] <br> in system: 1.0"
           ],
           "legendgroup": "False, next",
           "line": {
            "color": "#EF553B",
            "dash": "solid"
           },
           "marker": {
            "symbol": "diamond"
           },
           "mode": "lines+markers",
           "name": "False, next",
           "orientation": "v",
           "showlegend": false,
           "type": "scatter",
           "x": [
            0.32954545454545453
           ],
           "xaxis": "x",
           "y": [
            0.428
           ],
           "yaxis": "y"
          },
          {
           "hovertemplate": "<b>%{hovertext}</b><br><br>main=False<br>type=next<br>step=26<br>name=3<br>x=%{x}<br>y=%{y}<extra></extra>",
           "hovertext": [
            "Next node of 3 <br> reward: 1.0 <br> action: [1, 5, 4, 5, 5, 1, 5, 3, 0, 0] <br> in system: 0.0"
           ],
           "legendgroup": "False, next",
           "line": {
            "color": "#EF553B",
            "dash": "solid"
           },
           "marker": {
            "symbol": "diamond"
           },
           "mode": "lines+markers",
           "name": "False, next",
           "orientation": "v",
           "showlegend": false,
           "type": "scatter",
           "x": [
            0
           ],
           "xaxis": "x",
           "y": [
            0
           ],
           "yaxis": "y"
          },
          {
           "hovertemplate": "<b>%{hovertext}</b><br><br>main=False<br>type=next<br>step=26<br>name=4<br>x=%{x}<br>y=%{y}<extra></extra>",
           "hovertext": [
            "Next node of 4 <br> reward: 1.0 <br> action: [1, 5, 4, 5, 5, 1, 5, 3, 0, 0] <br> in system: 1.0"
           ],
           "legendgroup": "False, next",
           "line": {
            "color": "#EF553B",
            "dash": "solid"
           },
           "marker": {
            "symbol": "diamond"
           },
           "mode": "lines+markers",
           "name": "False, next",
           "orientation": "v",
           "showlegend": false,
           "type": "scatter",
           "x": [
            0.5727272727272728
           ],
           "xaxis": "x",
           "y": [
            0.62
           ],
           "yaxis": "y"
          },
          {
           "hovertemplate": "<b>%{hovertext}</b><br><br>main=False<br>type=next<br>step=26<br>name=5<br>x=%{x}<br>y=%{y}<extra></extra>",
           "hovertext": [
            "Next node of 5 <br> reward: 1.0 <br> action: [1, 5, 4, 5, 5, 1, 5, 3, 0, 0] <br> in system: 0.0"
           ],
           "legendgroup": "False, next",
           "line": {
            "color": "#EF553B",
            "dash": "solid"
           },
           "marker": {
            "symbol": "diamond"
           },
           "mode": "lines+markers",
           "name": "False, next",
           "orientation": "v",
           "showlegend": false,
           "type": "scatter",
           "x": [
            0
           ],
           "xaxis": "x",
           "y": [
            0
           ],
           "yaxis": "y"
          },
          {
           "hovertemplate": "<b>%{hovertext}</b><br><br>main=False<br>type=next<br>step=26<br>name=6<br>x=%{x}<br>y=%{y}<extra></extra>",
           "hovertext": [
            "Next node of 6 <br> reward: 1.0 <br> action: [1, 5, 4, 5, 5, 1, 5, 3, 0, 0] <br> in system: 1.0"
           ],
           "legendgroup": "False, next",
           "line": {
            "color": "#EF553B",
            "dash": "solid"
           },
           "marker": {
            "symbol": "diamond"
           },
           "mode": "lines+markers",
           "name": "False, next",
           "orientation": "v",
           "showlegend": false,
           "type": "scatter",
           "x": [
            0.4772727272727273
           ],
           "xaxis": "x",
           "y": [
            0.38
           ],
           "yaxis": "y"
          },
          {
           "hovertemplate": "<b>%{hovertext}</b><br><br>main=False<br>type=next<br>step=26<br>name=7<br>x=%{x}<br>y=%{y}<extra></extra>",
           "hovertext": [
            "Next node of 7 <br> reward: 1.0 <br> action: [1, 5, 4, 5, 5, 1, 5, 3, 0, 0] <br> in system: 1.0"
           ],
           "legendgroup": "False, next",
           "line": {
            "color": "#EF553B",
            "dash": "solid"
           },
           "marker": {
            "symbol": "diamond"
           },
           "mode": "lines+markers",
           "name": "False, next",
           "orientation": "v",
           "showlegend": false,
           "type": "scatter",
           "x": [
            0.4772727272727273
           ],
           "xaxis": "x",
           "y": [
            0.76
           ],
           "yaxis": "y"
          },
          {
           "hovertemplate": "<b>%{hovertext}</b><br><br>main=False<br>type=next<br>step=26<br>name=8<br>x=%{x}<br>y=%{y}<extra></extra>",
           "hovertext": [
            "Next node of 8 <br> reward: 1.0 <br> action: [1, 5, 4, 5, 5, 1, 5, 3, 0, 0] <br> in system: 1.0"
           ],
           "legendgroup": "False, next",
           "line": {
            "color": "#EF553B",
            "dash": "solid"
           },
           "marker": {
            "symbol": "diamond"
           },
           "mode": "lines+markers",
           "name": "False, next",
           "orientation": "v",
           "showlegend": false,
           "type": "scatter",
           "x": [
            0.9727272727272728
           ],
           "xaxis": "x",
           "y": [
            1
           ],
           "yaxis": "y"
          },
          {
           "hovertemplate": "<b>%{hovertext}</b><br><br>main=False<br>type=next<br>step=26<br>name=9<br>x=%{x}<br>y=%{y}<extra></extra>",
           "hovertext": [
            "Next node of 9 <br> reward: 1.0 <br> action: [1, 5, 4, 5, 5, 1, 5, 3, 0, 0] <br> in system: 0.0"
           ],
           "legendgroup": "False, next",
           "line": {
            "color": "#EF553B",
            "dash": "solid"
           },
           "marker": {
            "symbol": "diamond"
           },
           "mode": "lines+markers",
           "name": "False, next",
           "orientation": "v",
           "showlegend": false,
           "type": "scatter",
           "x": [
            0
           ],
           "xaxis": "x",
           "y": [
            0
           ],
           "yaxis": "y"
          }
         ],
         "name": "26"
        },
        {
         "data": [
          {
           "hovertemplate": "<b>%{hovertext}</b><br><br>main=True<br>type=last<br>step=27<br>name=0<br>x=%{x}<br>y=%{y}<extra></extra>",
           "hovertext": [
            "Last node of 0 <br> reward: 1.0 <br> action: [4, 1, 4, 1, 0, 4, 2, 0, 4, 5] <br> in system: 1.0"
           ],
           "legendgroup": "True, last",
           "line": {
            "color": "#636efa",
            "dash": "solid"
           },
           "marker": {
            "symbol": "circle"
           },
           "mode": "lines+markers",
           "name": "True, last",
           "orientation": "v",
           "showlegend": true,
           "type": "scatter",
           "x": [
            0.7613636363636364
           ],
           "xaxis": "x",
           "y": [
            0.76
           ],
           "yaxis": "y"
          },
          {
           "hovertemplate": "<b>%{hovertext}</b><br><br>main=True<br>type=next<br>step=27<br>name=0<br>x=%{x}<br>y=%{y}<extra></extra>",
           "hovertext": [
            "Next node of 0 <br> reward: 1.0 <br> action: [4, 1, 4, 1, 0, 4, 2, 0, 4, 5] <br> in system: 1.0"
           ],
           "legendgroup": "True, next",
           "line": {
            "color": "#636efa",
            "dash": "solid"
           },
           "marker": {
            "symbol": "diamond"
           },
           "mode": "lines+markers",
           "name": "True, next",
           "orientation": "v",
           "showlegend": true,
           "type": "scatter",
           "x": [
            0.7909090909090909
           ],
           "xaxis": "x",
           "y": [
            0.62
           ],
           "yaxis": "y"
          },
          {
           "hovertemplate": "<b>%{hovertext}</b><br><br>main=False<br>type=last<br>step=27<br>name=1<br>x=%{x}<br>y=%{y}<extra></extra>",
           "hovertext": [
            "Last node of 1 <br> reward: 1.0 <br> action: [4, 1, 4, 1, 0, 4, 2, 0, 4, 5] <br> in system: 1.0"
           ],
           "legendgroup": "False, last",
           "line": {
            "color": "#EF553B",
            "dash": "solid"
           },
           "marker": {
            "symbol": "circle"
           },
           "mode": "lines+markers",
           "name": "False, last",
           "orientation": "v",
           "showlegend": true,
           "type": "scatter",
           "x": [
            0.4772727272727273
           ],
           "xaxis": "x",
           "y": [
            0.48
           ],
           "yaxis": "y"
          },
          {
           "hovertemplate": "<b>%{hovertext}</b><br><br>main=False<br>type=last<br>step=27<br>name=2<br>x=%{x}<br>y=%{y}<extra></extra>",
           "hovertext": [
            "Last node of 2 <br> reward: 1.0 <br> action: [4, 1, 4, 1, 0, 4, 2, 0, 4, 5] <br> in system: 1.0"
           ],
           "legendgroup": "False, last",
           "line": {
            "color": "#EF553B",
            "dash": "solid"
           },
           "marker": {
            "symbol": "circle"
           },
           "mode": "lines+markers",
           "name": "False, last",
           "orientation": "v",
           "showlegend": false,
           "type": "scatter",
           "x": [
            0.5454545454545454
           ],
           "xaxis": "x",
           "y": [
            0.76
           ],
           "yaxis": "y"
          },
          {
           "hovertemplate": "<b>%{hovertext}</b><br><br>main=False<br>type=last<br>step=27<br>name=3<br>x=%{x}<br>y=%{y}<extra></extra>",
           "hovertext": [
            "Last node of 3 <br> reward: 1.0 <br> action: [4, 1, 4, 1, 0, 4, 2, 0, 4, 5] <br> in system: 1.0"
           ],
           "legendgroup": "False, last",
           "line": {
            "color": "#EF553B",
            "dash": "solid"
           },
           "marker": {
            "symbol": "circle"
           },
           "mode": "lines+markers",
           "name": "False, last",
           "orientation": "v",
           "showlegend": false,
           "type": "scatter",
           "x": [
            0.9727272727272728
           ],
           "xaxis": "x",
           "y": [
            1
           ],
           "yaxis": "y"
          },
          {
           "hovertemplate": "<b>%{hovertext}</b><br><br>main=False<br>type=last<br>step=27<br>name=4<br>x=%{x}<br>y=%{y}<extra></extra>",
           "hovertext": [
            "Last node of 4 <br> reward: 1.0 <br> action: [4, 1, 4, 1, 0, 4, 2, 0, 4, 5] <br> in system: 1.0"
           ],
           "legendgroup": "False, last",
           "line": {
            "color": "#EF553B",
            "dash": "solid"
           },
           "marker": {
            "symbol": "circle"
           },
           "mode": "lines+markers",
           "name": "False, last",
           "orientation": "v",
           "showlegend": false,
           "type": "scatter",
           "x": [
            0.4772727272727273
           ],
           "xaxis": "x",
           "y": [
            0.38
           ],
           "yaxis": "y"
          },
          {
           "hovertemplate": "<b>%{hovertext}</b><br><br>main=False<br>type=last<br>step=27<br>name=5<br>x=%{x}<br>y=%{y}<extra></extra>",
           "hovertext": [
            "Last node of 5 <br> reward: 1.0 <br> action: [4, 1, 4, 1, 0, 4, 2, 0, 4, 5] <br> in system: 0.0"
           ],
           "legendgroup": "False, last",
           "line": {
            "color": "#EF553B",
            "dash": "solid"
           },
           "marker": {
            "symbol": "circle"
           },
           "mode": "lines+markers",
           "name": "False, last",
           "orientation": "v",
           "showlegend": false,
           "type": "scatter",
           "x": [
            0
           ],
           "xaxis": "x",
           "y": [
            0
           ],
           "yaxis": "y"
          },
          {
           "hovertemplate": "<b>%{hovertext}</b><br><br>main=False<br>type=last<br>step=27<br>name=6<br>x=%{x}<br>y=%{y}<extra></extra>",
           "hovertext": [
            "Last node of 6 <br> reward: 1.0 <br> action: [4, 1, 4, 1, 0, 4, 2, 0, 4, 5] <br> in system: 0.0"
           ],
           "legendgroup": "False, last",
           "line": {
            "color": "#EF553B",
            "dash": "solid"
           },
           "marker": {
            "symbol": "circle"
           },
           "mode": "lines+markers",
           "name": "False, last",
           "orientation": "v",
           "showlegend": false,
           "type": "scatter",
           "x": [
            0
           ],
           "xaxis": "x",
           "y": [
            0
           ],
           "yaxis": "y"
          },
          {
           "hovertemplate": "<b>%{hovertext}</b><br><br>main=False<br>type=last<br>step=27<br>name=7<br>x=%{x}<br>y=%{y}<extra></extra>",
           "hovertext": [
            "Last node of 7 <br> reward: 1.0 <br> action: [4, 1, 4, 1, 0, 4, 2, 0, 4, 5] <br> in system: 0.0"
           ],
           "legendgroup": "False, last",
           "line": {
            "color": "#EF553B",
            "dash": "solid"
           },
           "marker": {
            "symbol": "circle"
           },
           "mode": "lines+markers",
           "name": "False, last",
           "orientation": "v",
           "showlegend": false,
           "type": "scatter",
           "x": [
            0
           ],
           "xaxis": "x",
           "y": [
            0
           ],
           "yaxis": "y"
          },
          {
           "hovertemplate": "<b>%{hovertext}</b><br><br>main=False<br>type=last<br>step=27<br>name=8<br>x=%{x}<br>y=%{y}<extra></extra>",
           "hovertext": [
            "Last node of 8 <br> reward: 1.0 <br> action: [4, 1, 4, 1, 0, 4, 2, 0, 4, 5] <br> in system: 0.0"
           ],
           "legendgroup": "False, last",
           "line": {
            "color": "#EF553B",
            "dash": "solid"
           },
           "marker": {
            "symbol": "circle"
           },
           "mode": "lines+markers",
           "name": "False, last",
           "orientation": "v",
           "showlegend": false,
           "type": "scatter",
           "x": [
            0
           ],
           "xaxis": "x",
           "y": [
            0
           ],
           "yaxis": "y"
          },
          {
           "hovertemplate": "<b>%{hovertext}</b><br><br>main=False<br>type=last<br>step=27<br>name=9<br>x=%{x}<br>y=%{y}<extra></extra>",
           "hovertext": [
            "Last node of 9 <br> reward: 1.0 <br> action: [4, 1, 4, 1, 0, 4, 2, 0, 4, 5] <br> in system: 1.0"
           ],
           "legendgroup": "False, last",
           "line": {
            "color": "#EF553B",
            "dash": "solid"
           },
           "marker": {
            "symbol": "circle"
           },
           "mode": "lines+markers",
           "name": "False, last",
           "orientation": "v",
           "showlegend": false,
           "type": "scatter",
           "x": [
            0.42045454545454547
           ],
           "xaxis": "x",
           "y": [
            0.38
           ],
           "yaxis": "y"
          },
          {
           "hovertemplate": "<b>%{hovertext}</b><br><br>main=False<br>type=next<br>step=27<br>name=1<br>x=%{x}<br>y=%{y}<extra></extra>",
           "hovertext": [
            "Next node of 1 <br> reward: 1.0 <br> action: [4, 1, 4, 1, 0, 4, 2, 0, 4, 5] <br> in system: 1.0"
           ],
           "legendgroup": "False, next",
           "line": {
            "color": "#EF553B",
            "dash": "solid"
           },
           "marker": {
            "symbol": "diamond"
           },
           "mode": "lines+markers",
           "name": "False, next",
           "orientation": "v",
           "showlegend": true,
           "type": "scatter",
           "x": [
            0.4772727272727273
           ],
           "xaxis": "x",
           "y": [
            0.76
           ],
           "yaxis": "y"
          },
          {
           "hovertemplate": "<b>%{hovertext}</b><br><br>main=False<br>type=next<br>step=27<br>name=2<br>x=%{x}<br>y=%{y}<extra></extra>",
           "hovertext": [
            "Next node of 2 <br> reward: 1.0 <br> action: [4, 1, 4, 1, 0, 4, 2, 0, 4, 5] <br> in system: 1.0"
           ],
           "legendgroup": "False, next",
           "line": {
            "color": "#EF553B",
            "dash": "solid"
           },
           "marker": {
            "symbol": "diamond"
           },
           "mode": "lines+markers",
           "name": "False, next",
           "orientation": "v",
           "showlegend": false,
           "type": "scatter",
           "x": [
            0.5727272727272728
           ],
           "xaxis": "x",
           "y": [
            0.62
           ],
           "yaxis": "y"
          },
          {
           "hovertemplate": "<b>%{hovertext}</b><br><br>main=False<br>type=next<br>step=27<br>name=3<br>x=%{x}<br>y=%{y}<extra></extra>",
           "hovertext": [
            "Next node of 3 <br> reward: 1.0 <br> action: [4, 1, 4, 1, 0, 4, 2, 0, 4, 5] <br> in system: 1.0"
           ],
           "legendgroup": "False, next",
           "line": {
            "color": "#EF553B",
            "dash": "solid"
           },
           "marker": {
            "symbol": "diamond"
           },
           "mode": "lines+markers",
           "name": "False, next",
           "orientation": "v",
           "showlegend": false,
           "type": "scatter",
           "x": [
            0.9431818181818182
           ],
           "xaxis": "x",
           "y": [
            0.86
           ],
           "yaxis": "y"
          },
          {
           "hovertemplate": "<b>%{hovertext}</b><br><br>main=False<br>type=next<br>step=27<br>name=4<br>x=%{x}<br>y=%{y}<extra></extra>",
           "hovertext": [
            "Next node of 4 <br> reward: 1.0 <br> action: [4, 1, 4, 1, 0, 4, 2, 0, 4, 5] <br> in system: 1.0"
           ],
           "legendgroup": "False, next",
           "line": {
            "color": "#EF553B",
            "dash": "solid"
           },
           "marker": {
            "symbol": "diamond"
           },
           "mode": "lines+markers",
           "name": "False, next",
           "orientation": "v",
           "showlegend": false,
           "type": "scatter",
           "x": [
            0.4772727272727273
           ],
           "xaxis": "x",
           "y": [
            0.48
           ],
           "yaxis": "y"
          },
          {
           "hovertemplate": "<b>%{hovertext}</b><br><br>main=False<br>type=next<br>step=27<br>name=5<br>x=%{x}<br>y=%{y}<extra></extra>",
           "hovertext": [
            "Next node of 5 <br> reward: 1.0 <br> action: [4, 1, 4, 1, 0, 4, 2, 0, 4, 5] <br> in system: 0.0"
           ],
           "legendgroup": "False, next",
           "line": {
            "color": "#EF553B",
            "dash": "solid"
           },
           "marker": {
            "symbol": "diamond"
           },
           "mode": "lines+markers",
           "name": "False, next",
           "orientation": "v",
           "showlegend": false,
           "type": "scatter",
           "x": [
            0
           ],
           "xaxis": "x",
           "y": [
            0
           ],
           "yaxis": "y"
          },
          {
           "hovertemplate": "<b>%{hovertext}</b><br><br>main=False<br>type=next<br>step=27<br>name=6<br>x=%{x}<br>y=%{y}<extra></extra>",
           "hovertext": [
            "Next node of 6 <br> reward: 1.0 <br> action: [4, 1, 4, 1, 0, 4, 2, 0, 4, 5] <br> in system: 0.0"
           ],
           "legendgroup": "False, next",
           "line": {
            "color": "#EF553B",
            "dash": "solid"
           },
           "marker": {
            "symbol": "diamond"
           },
           "mode": "lines+markers",
           "name": "False, next",
           "orientation": "v",
           "showlegend": false,
           "type": "scatter",
           "x": [
            0
           ],
           "xaxis": "x",
           "y": [
            0
           ],
           "yaxis": "y"
          },
          {
           "hovertemplate": "<b>%{hovertext}</b><br><br>main=False<br>type=next<br>step=27<br>name=7<br>x=%{x}<br>y=%{y}<extra></extra>",
           "hovertext": [
            "Next node of 7 <br> reward: 1.0 <br> action: [4, 1, 4, 1, 0, 4, 2, 0, 4, 5] <br> in system: 0.0"
           ],
           "legendgroup": "False, next",
           "line": {
            "color": "#EF553B",
            "dash": "solid"
           },
           "marker": {
            "symbol": "diamond"
           },
           "mode": "lines+markers",
           "name": "False, next",
           "orientation": "v",
           "showlegend": false,
           "type": "scatter",
           "x": [
            0
           ],
           "xaxis": "x",
           "y": [
            0
           ],
           "yaxis": "y"
          },
          {
           "hovertemplate": "<b>%{hovertext}</b><br><br>main=False<br>type=next<br>step=27<br>name=8<br>x=%{x}<br>y=%{y}<extra></extra>",
           "hovertext": [
            "Next node of 8 <br> reward: 1.0 <br> action: [4, 1, 4, 1, 0, 4, 2, 0, 4, 5] <br> in system: 0.0"
           ],
           "legendgroup": "False, next",
           "line": {
            "color": "#EF553B",
            "dash": "solid"
           },
           "marker": {
            "symbol": "diamond"
           },
           "mode": "lines+markers",
           "name": "False, next",
           "orientation": "v",
           "showlegend": false,
           "type": "scatter",
           "x": [
            0
           ],
           "xaxis": "x",
           "y": [
            0
           ],
           "yaxis": "y"
          },
          {
           "hovertemplate": "<b>%{hovertext}</b><br><br>main=False<br>type=next<br>step=27<br>name=9<br>x=%{x}<br>y=%{y}<extra></extra>",
           "hovertext": [
            "Next node of 9 <br> reward: 1.0 <br> action: [4, 1, 4, 1, 0, 4, 2, 0, 4, 5] <br> in system: 1.0"
           ],
           "legendgroup": "False, next",
           "line": {
            "color": "#EF553B",
            "dash": "solid"
           },
           "marker": {
            "symbol": "diamond"
           },
           "mode": "lines+markers",
           "name": "False, next",
           "orientation": "v",
           "showlegend": false,
           "type": "scatter",
           "x": [
            0.32954545454545453
           ],
           "xaxis": "x",
           "y": [
            0.428
           ],
           "yaxis": "y"
          }
         ],
         "name": "27"
        },
        {
         "data": [
          {
           "hovertemplate": "<b>%{hovertext}</b><br><br>main=True<br>type=last<br>step=28<br>name=0<br>x=%{x}<br>y=%{y}<extra></extra>",
           "hovertext": [
            "Last node of 0 <br> reward: 0 <br> action: [4, 1, 3, 2, 0, 1, 5, 1, 4, 4] <br> in system: 1.0"
           ],
           "legendgroup": "True, last",
           "line": {
            "color": "#636efa",
            "dash": "solid"
           },
           "marker": {
            "symbol": "circle"
           },
           "mode": "lines+markers",
           "name": "True, last",
           "orientation": "v",
           "showlegend": true,
           "type": "scatter",
           "x": [
            0.7909090909090909
           ],
           "xaxis": "x",
           "y": [
            0.62
           ],
           "yaxis": "y"
          },
          {
           "hovertemplate": "<b>%{hovertext}</b><br><br>main=True<br>type=next<br>step=28<br>name=0<br>x=%{x}<br>y=%{y}<extra></extra>",
           "hovertext": [
            "Next node of 0 <br> reward: 0 <br> action: [4, 1, 3, 2, 0, 1, 5, 1, 4, 4] <br> in system: 1.0"
           ],
           "legendgroup": "True, next",
           "line": {
            "color": "#636efa",
            "dash": "solid"
           },
           "marker": {
            "symbol": "diamond"
           },
           "mode": "lines+markers",
           "name": "True, next",
           "orientation": "v",
           "showlegend": true,
           "type": "scatter",
           "x": [
            0.8181818181818182
           ],
           "xaxis": "x",
           "y": [
            0.76
           ],
           "yaxis": "y"
          },
          {
           "hovertemplate": "<b>%{hovertext}</b><br><br>main=False<br>type=last<br>step=28<br>name=1<br>x=%{x}<br>y=%{y}<extra></extra>",
           "hovertext": [
            "Last node of 1 <br> reward: 0 <br> action: [4, 1, 3, 2, 0, 1, 5, 1, 4, 4] <br> in system: 1.0"
           ],
           "legendgroup": "False, last",
           "line": {
            "color": "#EF553B",
            "dash": "solid"
           },
           "marker": {
            "symbol": "circle"
           },
           "mode": "lines+markers",
           "name": "False, last",
           "orientation": "v",
           "showlegend": true,
           "type": "scatter",
           "x": [
            0.4772727272727273
           ],
           "xaxis": "x",
           "y": [
            0.38
           ],
           "yaxis": "y"
          },
          {
           "hovertemplate": "<b>%{hovertext}</b><br><br>main=False<br>type=last<br>step=28<br>name=2<br>x=%{x}<br>y=%{y}<extra></extra>",
           "hovertext": [
            "Last node of 2 <br> reward: 0 <br> action: [4, 1, 3, 2, 0, 1, 5, 1, 4, 4] <br> in system: 1.0"
           ],
           "legendgroup": "False, last",
           "line": {
            "color": "#EF553B",
            "dash": "solid"
           },
           "marker": {
            "symbol": "circle"
           },
           "mode": "lines+markers",
           "name": "False, last",
           "orientation": "v",
           "showlegend": false,
           "type": "scatter",
           "x": [
            0.32954545454545453
           ],
           "xaxis": "x",
           "y": [
            0.428
           ],
           "yaxis": "y"
          },
          {
           "hovertemplate": "<b>%{hovertext}</b><br><br>main=False<br>type=last<br>step=28<br>name=3<br>x=%{x}<br>y=%{y}<extra></extra>",
           "hovertext": [
            "Last node of 3 <br> reward: 0 <br> action: [4, 1, 3, 2, 0, 1, 5, 1, 4, 4] <br> in system: 0.0"
           ],
           "legendgroup": "False, last",
           "line": {
            "color": "#EF553B",
            "dash": "solid"
           },
           "marker": {
            "symbol": "circle"
           },
           "mode": "lines+markers",
           "name": "False, last",
           "orientation": "v",
           "showlegend": false,
           "type": "scatter",
           "x": [
            0
           ],
           "xaxis": "x",
           "y": [
            0
           ],
           "yaxis": "y"
          },
          {
           "hovertemplate": "<b>%{hovertext}</b><br><br>main=False<br>type=last<br>step=28<br>name=4<br>x=%{x}<br>y=%{y}<extra></extra>",
           "hovertext": [
            "Last node of 4 <br> reward: 0 <br> action: [4, 1, 3, 2, 0, 1, 5, 1, 4, 4] <br> in system: 1.0"
           ],
           "legendgroup": "False, last",
           "line": {
            "color": "#EF553B",
            "dash": "solid"
           },
           "marker": {
            "symbol": "circle"
           },
           "mode": "lines+markers",
           "name": "False, last",
           "orientation": "v",
           "showlegend": false,
           "type": "scatter",
           "x": [
            0.42045454545454547
           ],
           "xaxis": "x",
           "y": [
            0.76
           ],
           "yaxis": "y"
          },
          {
           "hovertemplate": "<b>%{hovertext}</b><br><br>main=False<br>type=last<br>step=28<br>name=5<br>x=%{x}<br>y=%{y}<extra></extra>",
           "hovertext": [
            "Last node of 5 <br> reward: 0 <br> action: [4, 1, 3, 2, 0, 1, 5, 1, 4, 4] <br> in system: 1.0"
           ],
           "legendgroup": "False, last",
           "line": {
            "color": "#EF553B",
            "dash": "solid"
           },
           "marker": {
            "symbol": "circle"
           },
           "mode": "lines+markers",
           "name": "False, last",
           "orientation": "v",
           "showlegend": false,
           "type": "scatter",
           "x": [
            0.9431818181818182
           ],
           "xaxis": "x",
           "y": [
            0.86
           ],
           "yaxis": "y"
          },
          {
           "hovertemplate": "<b>%{hovertext}</b><br><br>main=False<br>type=last<br>step=28<br>name=6<br>x=%{x}<br>y=%{y}<extra></extra>",
           "hovertext": [
            "Last node of 6 <br> reward: 0 <br> action: [4, 1, 3, 2, 0, 1, 5, 1, 4, 4] <br> in system: 1.0"
           ],
           "legendgroup": "False, last",
           "line": {
            "color": "#EF553B",
            "dash": "solid"
           },
           "marker": {
            "symbol": "circle"
           },
           "mode": "lines+markers",
           "name": "False, last",
           "orientation": "v",
           "showlegend": false,
           "type": "scatter",
           "x": [
            0.5454545454545454
           ],
           "xaxis": "x",
           "y": [
            0.76
           ],
           "yaxis": "y"
          },
          {
           "hovertemplate": "<b>%{hovertext}</b><br><br>main=False<br>type=last<br>step=28<br>name=7<br>x=%{x}<br>y=%{y}<extra></extra>",
           "hovertext": [
            "Last node of 7 <br> reward: 0 <br> action: [4, 1, 3, 2, 0, 1, 5, 1, 4, 4] <br> in system: 0.0"
           ],
           "legendgroup": "False, last",
           "line": {
            "color": "#EF553B",
            "dash": "solid"
           },
           "marker": {
            "symbol": "circle"
           },
           "mode": "lines+markers",
           "name": "False, last",
           "orientation": "v",
           "showlegend": false,
           "type": "scatter",
           "x": [
            0
           ],
           "xaxis": "x",
           "y": [
            0
           ],
           "yaxis": "y"
          },
          {
           "hovertemplate": "<b>%{hovertext}</b><br><br>main=False<br>type=last<br>step=28<br>name=8<br>x=%{x}<br>y=%{y}<extra></extra>",
           "hovertext": [
            "Last node of 8 <br> reward: 0 <br> action: [4, 1, 3, 2, 0, 1, 5, 1, 4, 4] <br> in system: 0.0"
           ],
           "legendgroup": "False, last",
           "line": {
            "color": "#EF553B",
            "dash": "solid"
           },
           "marker": {
            "symbol": "circle"
           },
           "mode": "lines+markers",
           "name": "False, last",
           "orientation": "v",
           "showlegend": false,
           "type": "scatter",
           "x": [
            0
           ],
           "xaxis": "x",
           "y": [
            0
           ],
           "yaxis": "y"
          },
          {
           "hovertemplate": "<b>%{hovertext}</b><br><br>main=False<br>type=last<br>step=28<br>name=9<br>x=%{x}<br>y=%{y}<extra></extra>",
           "hovertext": [
            "Last node of 9 <br> reward: 0 <br> action: [4, 1, 3, 2, 0, 1, 5, 1, 4, 4] <br> in system: 0.0"
           ],
           "legendgroup": "False, last",
           "line": {
            "color": "#EF553B",
            "dash": "solid"
           },
           "marker": {
            "symbol": "circle"
           },
           "mode": "lines+markers",
           "name": "False, last",
           "orientation": "v",
           "showlegend": false,
           "type": "scatter",
           "x": [
            0
           ],
           "xaxis": "x",
           "y": [
            0
           ],
           "yaxis": "y"
          },
          {
           "hovertemplate": "<b>%{hovertext}</b><br><br>main=False<br>type=next<br>step=28<br>name=1<br>x=%{x}<br>y=%{y}<extra></extra>",
           "hovertext": [
            "Next node of 1 <br> reward: 0 <br> action: [4, 1, 3, 2, 0, 1, 5, 1, 4, 4] <br> in system: 1.0"
           ],
           "legendgroup": "False, next",
           "line": {
            "color": "#EF553B",
            "dash": "solid"
           },
           "marker": {
            "symbol": "diamond"
           },
           "mode": "lines+markers",
           "name": "False, next",
           "orientation": "v",
           "showlegend": true,
           "type": "scatter",
           "x": [
            0.4772727272727273
           ],
           "xaxis": "x",
           "y": [
            0.48
           ],
           "yaxis": "y"
          },
          {
           "hovertemplate": "<b>%{hovertext}</b><br><br>main=False<br>type=next<br>step=28<br>name=2<br>x=%{x}<br>y=%{y}<extra></extra>",
           "hovertext": [
            "Next node of 2 <br> reward: 0 <br> action: [4, 1, 3, 2, 0, 1, 5, 1, 4, 4] <br> in system: 1.0"
           ],
           "legendgroup": "False, next",
           "line": {
            "color": "#EF553B",
            "dash": "solid"
           },
           "marker": {
            "symbol": "diamond"
           },
           "mode": "lines+markers",
           "name": "False, next",
           "orientation": "v",
           "showlegend": false,
           "type": "scatter",
           "x": [
            0.42045454545454547
           ],
           "xaxis": "x",
           "y": [
            0.48
           ],
           "yaxis": "y"
          },
          {
           "hovertemplate": "<b>%{hovertext}</b><br><br>main=False<br>type=next<br>step=28<br>name=3<br>x=%{x}<br>y=%{y}<extra></extra>",
           "hovertext": [
            "Next node of 3 <br> reward: 0 <br> action: [4, 1, 3, 2, 0, 1, 5, 1, 4, 4] <br> in system: 0.0"
           ],
           "legendgroup": "False, next",
           "line": {
            "color": "#EF553B",
            "dash": "solid"
           },
           "marker": {
            "symbol": "diamond"
           },
           "mode": "lines+markers",
           "name": "False, next",
           "orientation": "v",
           "showlegend": false,
           "type": "scatter",
           "x": [
            0
           ],
           "xaxis": "x",
           "y": [
            0
           ],
           "yaxis": "y"
          },
          {
           "hovertemplate": "<b>%{hovertext}</b><br><br>main=False<br>type=next<br>step=28<br>name=4<br>x=%{x}<br>y=%{y}<extra></extra>",
           "hovertext": [
            "Next node of 4 <br> reward: 0 <br> action: [4, 1, 3, 2, 0, 1, 5, 1, 4, 4] <br> in system: 1.0"
           ],
           "legendgroup": "False, next",
           "line": {
            "color": "#EF553B",
            "dash": "solid"
           },
           "marker": {
            "symbol": "diamond"
           },
           "mode": "lines+markers",
           "name": "False, next",
           "orientation": "v",
           "showlegend": false,
           "type": "scatter",
           "x": [
            0.32954545454545453
           ],
           "xaxis": "x",
           "y": [
            0.808
           ],
           "yaxis": "y"
          },
          {
           "hovertemplate": "<b>%{hovertext}</b><br><br>main=False<br>type=next<br>step=28<br>name=5<br>x=%{x}<br>y=%{y}<extra></extra>",
           "hovertext": [
            "Next node of 5 <br> reward: 0 <br> action: [4, 1, 3, 2, 0, 1, 5, 1, 4, 4] <br> in system: 1.0"
           ],
           "legendgroup": "False, next",
           "line": {
            "color": "#EF553B",
            "dash": "solid"
           },
           "marker": {
            "symbol": "diamond"
           },
           "mode": "lines+markers",
           "name": "False, next",
           "orientation": "v",
           "showlegend": false,
           "type": "scatter",
           "x": [
            0.9431818181818182
           ],
           "xaxis": "x",
           "y": [
            0.76
           ],
           "yaxis": "y"
          },
          {
           "hovertemplate": "<b>%{hovertext}</b><br><br>main=False<br>type=next<br>step=28<br>name=6<br>x=%{x}<br>y=%{y}<extra></extra>",
           "hovertext": [
            "Next node of 6 <br> reward: 0 <br> action: [4, 1, 3, 2, 0, 1, 5, 1, 4, 4] <br> in system: 1.0"
           ],
           "legendgroup": "False, next",
           "line": {
            "color": "#EF553B",
            "dash": "solid"
           },
           "marker": {
            "symbol": "diamond"
           },
           "mode": "lines+markers",
           "name": "False, next",
           "orientation": "v",
           "showlegend": false,
           "type": "scatter",
           "x": [
            0.5727272727272728
           ],
           "xaxis": "x",
           "y": [
            0.62
           ],
           "yaxis": "y"
          },
          {
           "hovertemplate": "<b>%{hovertext}</b><br><br>main=False<br>type=next<br>step=28<br>name=7<br>x=%{x}<br>y=%{y}<extra></extra>",
           "hovertext": [
            "Next node of 7 <br> reward: 0 <br> action: [4, 1, 3, 2, 0, 1, 5, 1, 4, 4] <br> in system: 0.0"
           ],
           "legendgroup": "False, next",
           "line": {
            "color": "#EF553B",
            "dash": "solid"
           },
           "marker": {
            "symbol": "diamond"
           },
           "mode": "lines+markers",
           "name": "False, next",
           "orientation": "v",
           "showlegend": false,
           "type": "scatter",
           "x": [
            0
           ],
           "xaxis": "x",
           "y": [
            0
           ],
           "yaxis": "y"
          },
          {
           "hovertemplate": "<b>%{hovertext}</b><br><br>main=False<br>type=next<br>step=28<br>name=8<br>x=%{x}<br>y=%{y}<extra></extra>",
           "hovertext": [
            "Next node of 8 <br> reward: 0 <br> action: [4, 1, 3, 2, 0, 1, 5, 1, 4, 4] <br> in system: 0.0"
           ],
           "legendgroup": "False, next",
           "line": {
            "color": "#EF553B",
            "dash": "solid"
           },
           "marker": {
            "symbol": "diamond"
           },
           "mode": "lines+markers",
           "name": "False, next",
           "orientation": "v",
           "showlegend": false,
           "type": "scatter",
           "x": [
            0
           ],
           "xaxis": "x",
           "y": [
            0
           ],
           "yaxis": "y"
          },
          {
           "hovertemplate": "<b>%{hovertext}</b><br><br>main=False<br>type=next<br>step=28<br>name=9<br>x=%{x}<br>y=%{y}<extra></extra>",
           "hovertext": [
            "Next node of 9 <br> reward: 0 <br> action: [4, 1, 3, 2, 0, 1, 5, 1, 4, 4] <br> in system: 0.0"
           ],
           "legendgroup": "False, next",
           "line": {
            "color": "#EF553B",
            "dash": "solid"
           },
           "marker": {
            "symbol": "diamond"
           },
           "mode": "lines+markers",
           "name": "False, next",
           "orientation": "v",
           "showlegend": false,
           "type": "scatter",
           "x": [
            0
           ],
           "xaxis": "x",
           "y": [
            0
           ],
           "yaxis": "y"
          }
         ],
         "name": "28"
        },
        {
         "data": [
          {
           "hovertemplate": "<b>%{hovertext}</b><br><br>main=True<br>type=last<br>step=29<br>name=0<br>x=%{x}<br>y=%{y}<extra></extra>",
           "hovertext": [
            "Last node of 0 <br> reward: 0 <br> action: [2, 1, 5, 4, 5, 1, 0, 1, 0, 1] <br> in system: 1.0"
           ],
           "legendgroup": "True, last",
           "line": {
            "color": "#636efa",
            "dash": "solid"
           },
           "marker": {
            "symbol": "circle"
           },
           "mode": "lines+markers",
           "name": "True, last",
           "orientation": "v",
           "showlegend": true,
           "type": "scatter",
           "x": [
            0.8181818181818182
           ],
           "xaxis": "x",
           "y": [
            0.76
           ],
           "yaxis": "y"
          },
          {
           "hovertemplate": "<b>%{hovertext}</b><br><br>main=True<br>type=next<br>step=29<br>name=0<br>x=%{x}<br>y=%{y}<extra></extra>",
           "hovertext": [
            "Next node of 0 <br> reward: 0 <br> action: [2, 1, 5, 4, 5, 1, 0, 1, 0, 1] <br> in system: 1.0"
           ],
           "legendgroup": "True, next",
           "line": {
            "color": "#636efa",
            "dash": "solid"
           },
           "marker": {
            "symbol": "diamond"
           },
           "mode": "lines+markers",
           "name": "True, next",
           "orientation": "v",
           "showlegend": true,
           "type": "scatter",
           "x": [
            0.8181818181818182
           ],
           "xaxis": "x",
           "y": [
            0.86
           ],
           "yaxis": "y"
          },
          {
           "hovertemplate": "<b>%{hovertext}</b><br><br>main=False<br>type=last<br>step=29<br>name=1<br>x=%{x}<br>y=%{y}<extra></extra>",
           "hovertext": [
            "Last node of 1 <br> reward: 0 <br> action: [2, 1, 5, 4, 5, 1, 0, 1, 0, 1] <br> in system: 1.0"
           ],
           "legendgroup": "False, last",
           "line": {
            "color": "#EF553B",
            "dash": "solid"
           },
           "marker": {
            "symbol": "circle"
           },
           "mode": "lines+markers",
           "name": "False, last",
           "orientation": "v",
           "showlegend": true,
           "type": "scatter",
           "x": [
            0.4772727272727273
           ],
           "xaxis": "x",
           "y": [
            0.38
           ],
           "yaxis": "y"
          },
          {
           "hovertemplate": "<b>%{hovertext}</b><br><br>main=False<br>type=last<br>step=29<br>name=2<br>x=%{x}<br>y=%{y}<extra></extra>",
           "hovertext": [
            "Last node of 2 <br> reward: 0 <br> action: [2, 1, 5, 4, 5, 1, 0, 1, 0, 1] <br> in system: 1.0"
           ],
           "legendgroup": "False, last",
           "line": {
            "color": "#EF553B",
            "dash": "solid"
           },
           "marker": {
            "symbol": "circle"
           },
           "mode": "lines+markers",
           "name": "False, last",
           "orientation": "v",
           "showlegend": false,
           "type": "scatter",
           "x": [
            0.42045454545454547
           ],
           "xaxis": "x",
           "y": [
            0.76
           ],
           "yaxis": "y"
          },
          {
           "hovertemplate": "<b>%{hovertext}</b><br><br>main=False<br>type=last<br>step=29<br>name=3<br>x=%{x}<br>y=%{y}<extra></extra>",
           "hovertext": [
            "Last node of 3 <br> reward: 0 <br> action: [2, 1, 5, 4, 5, 1, 0, 1, 0, 1] <br> in system: 0.0"
           ],
           "legendgroup": "False, last",
           "line": {
            "color": "#EF553B",
            "dash": "solid"
           },
           "marker": {
            "symbol": "circle"
           },
           "mode": "lines+markers",
           "name": "False, last",
           "orientation": "v",
           "showlegend": false,
           "type": "scatter",
           "x": [
            0
           ],
           "xaxis": "x",
           "y": [
            0
           ],
           "yaxis": "y"
          },
          {
           "hovertemplate": "<b>%{hovertext}</b><br><br>main=False<br>type=last<br>step=29<br>name=4<br>x=%{x}<br>y=%{y}<extra></extra>",
           "hovertext": [
            "Last node of 4 <br> reward: 0 <br> action: [2, 1, 5, 4, 5, 1, 0, 1, 0, 1] <br> in system: 0.0"
           ],
           "legendgroup": "False, last",
           "line": {
            "color": "#EF553B",
            "dash": "solid"
           },
           "marker": {
            "symbol": "circle"
           },
           "mode": "lines+markers",
           "name": "False, last",
           "orientation": "v",
           "showlegend": false,
           "type": "scatter",
           "x": [
            0
           ],
           "xaxis": "x",
           "y": [
            0
           ],
           "yaxis": "y"
          },
          {
           "hovertemplate": "<b>%{hovertext}</b><br><br>main=False<br>type=last<br>step=29<br>name=5<br>x=%{x}<br>y=%{y}<extra></extra>",
           "hovertext": [
            "Last node of 5 <br> reward: 0 <br> action: [2, 1, 5, 4, 5, 1, 0, 1, 0, 1] <br> in system: 1.0"
           ],
           "legendgroup": "False, last",
           "line": {
            "color": "#EF553B",
            "dash": "solid"
           },
           "marker": {
            "symbol": "circle"
           },
           "mode": "lines+markers",
           "name": "False, last",
           "orientation": "v",
           "showlegend": false,
           "type": "scatter",
           "x": [
            0.9431818181818182
           ],
           "xaxis": "x",
           "y": [
            0.76
           ],
           "yaxis": "y"
          },
          {
           "hovertemplate": "<b>%{hovertext}</b><br><br>main=False<br>type=last<br>step=29<br>name=6<br>x=%{x}<br>y=%{y}<extra></extra>",
           "hovertext": [
            "Last node of 6 <br> reward: 0 <br> action: [2, 1, 5, 4, 5, 1, 0, 1, 0, 1] <br> in system: 0.0"
           ],
           "legendgroup": "False, last",
           "line": {
            "color": "#EF553B",
            "dash": "solid"
           },
           "marker": {
            "symbol": "circle"
           },
           "mode": "lines+markers",
           "name": "False, last",
           "orientation": "v",
           "showlegend": false,
           "type": "scatter",
           "x": [
            0
           ],
           "xaxis": "x",
           "y": [
            0
           ],
           "yaxis": "y"
          },
          {
           "hovertemplate": "<b>%{hovertext}</b><br><br>main=False<br>type=last<br>step=29<br>name=7<br>x=%{x}<br>y=%{y}<extra></extra>",
           "hovertext": [
            "Last node of 7 <br> reward: 0 <br> action: [2, 1, 5, 4, 5, 1, 0, 1, 0, 1] <br> in system: 1.0"
           ],
           "legendgroup": "False, last",
           "line": {
            "color": "#EF553B",
            "dash": "solid"
           },
           "marker": {
            "symbol": "circle"
           },
           "mode": "lines+markers",
           "name": "False, last",
           "orientation": "v",
           "showlegend": false,
           "type": "scatter",
           "x": [
            0.5727272727272728
           ],
           "xaxis": "x",
           "y": [
            0.62
           ],
           "yaxis": "y"
          },
          {
           "hovertemplate": "<b>%{hovertext}</b><br><br>main=False<br>type=last<br>step=29<br>name=8<br>x=%{x}<br>y=%{y}<extra></extra>",
           "hovertext": [
            "Last node of 8 <br> reward: 0 <br> action: [2, 1, 5, 4, 5, 1, 0, 1, 0, 1] <br> in system: 0.0"
           ],
           "legendgroup": "False, last",
           "line": {
            "color": "#EF553B",
            "dash": "solid"
           },
           "marker": {
            "symbol": "circle"
           },
           "mode": "lines+markers",
           "name": "False, last",
           "orientation": "v",
           "showlegend": false,
           "type": "scatter",
           "x": [
            0
           ],
           "xaxis": "x",
           "y": [
            0
           ],
           "yaxis": "y"
          },
          {
           "hovertemplate": "<b>%{hovertext}</b><br><br>main=False<br>type=last<br>step=29<br>name=9<br>x=%{x}<br>y=%{y}<extra></extra>",
           "hovertext": [
            "Last node of 9 <br> reward: 0 <br> action: [2, 1, 5, 4, 5, 1, 0, 1, 0, 1] <br> in system: 1.0"
           ],
           "legendgroup": "False, last",
           "line": {
            "color": "#EF553B",
            "dash": "solid"
           },
           "marker": {
            "symbol": "circle"
           },
           "mode": "lines+markers",
           "name": "False, last",
           "orientation": "v",
           "showlegend": false,
           "type": "scatter",
           "x": [
            0.32954545454545453
           ],
           "xaxis": "x",
           "y": [
            0.428
           ],
           "yaxis": "y"
          },
          {
           "hovertemplate": "<b>%{hovertext}</b><br><br>main=False<br>type=next<br>step=29<br>name=1<br>x=%{x}<br>y=%{y}<extra></extra>",
           "hovertext": [
            "Next node of 1 <br> reward: 0 <br> action: [2, 1, 5, 4, 5, 1, 0, 1, 0, 1] <br> in system: 1.0"
           ],
           "legendgroup": "False, next",
           "line": {
            "color": "#EF553B",
            "dash": "solid"
           },
           "marker": {
            "symbol": "diamond"
           },
           "mode": "lines+markers",
           "name": "False, next",
           "orientation": "v",
           "showlegend": true,
           "type": "scatter",
           "x": [
            0.4772727272727273
           ],
           "xaxis": "x",
           "y": [
            0.48
           ],
           "yaxis": "y"
          },
          {
           "hovertemplate": "<b>%{hovertext}</b><br><br>main=False<br>type=next<br>step=29<br>name=2<br>x=%{x}<br>y=%{y}<extra></extra>",
           "hovertext": [
            "Next node of 2 <br> reward: 0 <br> action: [2, 1, 5, 4, 5, 1, 0, 1, 0, 1] <br> in system: 1.0"
           ],
           "legendgroup": "False, next",
           "line": {
            "color": "#EF553B",
            "dash": "solid"
           },
           "marker": {
            "symbol": "diamond"
           },
           "mode": "lines+markers",
           "name": "False, next",
           "orientation": "v",
           "showlegend": false,
           "type": "scatter",
           "x": [
            0.32954545454545453
           ],
           "xaxis": "x",
           "y": [
            0.808
           ],
           "yaxis": "y"
          },
          {
           "hovertemplate": "<b>%{hovertext}</b><br><br>main=False<br>type=next<br>step=29<br>name=3<br>x=%{x}<br>y=%{y}<extra></extra>",
           "hovertext": [
            "Next node of 3 <br> reward: 0 <br> action: [2, 1, 5, 4, 5, 1, 0, 1, 0, 1] <br> in system: 0.0"
           ],
           "legendgroup": "False, next",
           "line": {
            "color": "#EF553B",
            "dash": "solid"
           },
           "marker": {
            "symbol": "diamond"
           },
           "mode": "lines+markers",
           "name": "False, next",
           "orientation": "v",
           "showlegend": false,
           "type": "scatter",
           "x": [
            0
           ],
           "xaxis": "x",
           "y": [
            0
           ],
           "yaxis": "y"
          },
          {
           "hovertemplate": "<b>%{hovertext}</b><br><br>main=False<br>type=next<br>step=29<br>name=4<br>x=%{x}<br>y=%{y}<extra></extra>",
           "hovertext": [
            "Next node of 4 <br> reward: 0 <br> action: [2, 1, 5, 4, 5, 1, 0, 1, 0, 1] <br> in system: 0.0"
           ],
           "legendgroup": "False, next",
           "line": {
            "color": "#EF553B",
            "dash": "solid"
           },
           "marker": {
            "symbol": "diamond"
           },
           "mode": "lines+markers",
           "name": "False, next",
           "orientation": "v",
           "showlegend": false,
           "type": "scatter",
           "x": [
            0
           ],
           "xaxis": "x",
           "y": [
            0
           ],
           "yaxis": "y"
          },
          {
           "hovertemplate": "<b>%{hovertext}</b><br><br>main=False<br>type=next<br>step=29<br>name=5<br>x=%{x}<br>y=%{y}<extra></extra>",
           "hovertext": [
            "Next node of 5 <br> reward: 0 <br> action: [2, 1, 5, 4, 5, 1, 0, 1, 0, 1] <br> in system: 1.0"
           ],
           "legendgroup": "False, next",
           "line": {
            "color": "#EF553B",
            "dash": "solid"
           },
           "marker": {
            "symbol": "diamond"
           },
           "mode": "lines+markers",
           "name": "False, next",
           "orientation": "v",
           "showlegend": false,
           "type": "scatter",
           "x": [
            0.9727272727272728
           ],
           "xaxis": "x",
           "y": [
            0.62
           ],
           "yaxis": "y"
          },
          {
           "hovertemplate": "<b>%{hovertext}</b><br><br>main=False<br>type=next<br>step=29<br>name=6<br>x=%{x}<br>y=%{y}<extra></extra>",
           "hovertext": [
            "Next node of 6 <br> reward: 0 <br> action: [2, 1, 5, 4, 5, 1, 0, 1, 0, 1] <br> in system: 0.0"
           ],
           "legendgroup": "False, next",
           "line": {
            "color": "#EF553B",
            "dash": "solid"
           },
           "marker": {
            "symbol": "diamond"
           },
           "mode": "lines+markers",
           "name": "False, next",
           "orientation": "v",
           "showlegend": false,
           "type": "scatter",
           "x": [
            0
           ],
           "xaxis": "x",
           "y": [
            0
           ],
           "yaxis": "y"
          },
          {
           "hovertemplate": "<b>%{hovertext}</b><br><br>main=False<br>type=next<br>step=29<br>name=7<br>x=%{x}<br>y=%{y}<extra></extra>",
           "hovertext": [
            "Next node of 7 <br> reward: 0 <br> action: [2, 1, 5, 4, 5, 1, 0, 1, 0, 1] <br> in system: 1.0"
           ],
           "legendgroup": "False, next",
           "line": {
            "color": "#EF553B",
            "dash": "solid"
           },
           "marker": {
            "symbol": "diamond"
           },
           "mode": "lines+markers",
           "name": "False, next",
           "orientation": "v",
           "showlegend": false,
           "type": "scatter",
           "x": [
            0.6022727272727273
           ],
           "xaxis": "x",
           "y": [
            0.76
           ],
           "yaxis": "y"
          },
          {
           "hovertemplate": "<b>%{hovertext}</b><br><br>main=False<br>type=next<br>step=29<br>name=8<br>x=%{x}<br>y=%{y}<extra></extra>",
           "hovertext": [
            "Next node of 8 <br> reward: 0 <br> action: [2, 1, 5, 4, 5, 1, 0, 1, 0, 1] <br> in system: 0.0"
           ],
           "legendgroup": "False, next",
           "line": {
            "color": "#EF553B",
            "dash": "solid"
           },
           "marker": {
            "symbol": "diamond"
           },
           "mode": "lines+markers",
           "name": "False, next",
           "orientation": "v",
           "showlegend": false,
           "type": "scatter",
           "x": [
            0
           ],
           "xaxis": "x",
           "y": [
            0
           ],
           "yaxis": "y"
          },
          {
           "hovertemplate": "<b>%{hovertext}</b><br><br>main=False<br>type=next<br>step=29<br>name=9<br>x=%{x}<br>y=%{y}<extra></extra>",
           "hovertext": [
            "Next node of 9 <br> reward: 0 <br> action: [2, 1, 5, 4, 5, 1, 0, 1, 0, 1] <br> in system: 1.0"
           ],
           "legendgroup": "False, next",
           "line": {
            "color": "#EF553B",
            "dash": "solid"
           },
           "marker": {
            "symbol": "diamond"
           },
           "mode": "lines+markers",
           "name": "False, next",
           "orientation": "v",
           "showlegend": false,
           "type": "scatter",
           "x": [
            0.42045454545454547
           ],
           "xaxis": "x",
           "y": [
            0.48
           ],
           "yaxis": "y"
          }
         ],
         "name": "29"
        },
        {
         "data": [
          {
           "hovertemplate": "<b>%{hovertext}</b><br><br>main=True<br>type=last<br>step=30<br>name=0<br>x=%{x}<br>y=%{y}<extra></extra>",
           "hovertext": [
            "Last node of 0 <br> reward: 1.0 <br> action: [2, 3, 2, 2, 4, 2, 0, 4, 5, 1] <br> in system: 1.0"
           ],
           "legendgroup": "True, last",
           "line": {
            "color": "#636efa",
            "dash": "solid"
           },
           "marker": {
            "symbol": "circle"
           },
           "mode": "lines+markers",
           "name": "True, last",
           "orientation": "v",
           "showlegend": true,
           "type": "scatter",
           "x": [
            0.8181818181818182
           ],
           "xaxis": "x",
           "y": [
            0.76
           ],
           "yaxis": "y"
          },
          {
           "hovertemplate": "<b>%{hovertext}</b><br><br>main=True<br>type=next<br>step=30<br>name=0<br>x=%{x}<br>y=%{y}<extra></extra>",
           "hovertext": [
            "Next node of 0 <br> reward: 1.0 <br> action: [2, 3, 2, 2, 4, 2, 0, 4, 5, 1] <br> in system: 1.0"
           ],
           "legendgroup": "True, next",
           "line": {
            "color": "#636efa",
            "dash": "solid"
           },
           "marker": {
            "symbol": "diamond"
           },
           "mode": "lines+markers",
           "name": "True, next",
           "orientation": "v",
           "showlegend": true,
           "type": "scatter",
           "x": [
            0.8181818181818182
           ],
           "xaxis": "x",
           "y": [
            0.86
           ],
           "yaxis": "y"
          },
          {
           "hovertemplate": "<b>%{hovertext}</b><br><br>main=False<br>type=last<br>step=30<br>name=1<br>x=%{x}<br>y=%{y}<extra></extra>",
           "hovertext": [
            "Last node of 1 <br> reward: 1.0 <br> action: [2, 3, 2, 2, 4, 2, 0, 4, 5, 1] <br> in system: 1.0"
           ],
           "legendgroup": "False, last",
           "line": {
            "color": "#EF553B",
            "dash": "solid"
           },
           "marker": {
            "symbol": "circle"
           },
           "mode": "lines+markers",
           "name": "False, last",
           "orientation": "v",
           "showlegend": true,
           "type": "scatter",
           "x": [
            0.4772727272727273
           ],
           "xaxis": "x",
           "y": [
            0.38
           ],
           "yaxis": "y"
          },
          {
           "hovertemplate": "<b>%{hovertext}</b><br><br>main=False<br>type=last<br>step=30<br>name=2<br>x=%{x}<br>y=%{y}<extra></extra>",
           "hovertext": [
            "Last node of 2 <br> reward: 1.0 <br> action: [2, 3, 2, 2, 4, 2, 0, 4, 5, 1] <br> in system: 0.0"
           ],
           "legendgroup": "False, last",
           "line": {
            "color": "#EF553B",
            "dash": "solid"
           },
           "marker": {
            "symbol": "circle"
           },
           "mode": "lines+markers",
           "name": "False, last",
           "orientation": "v",
           "showlegend": false,
           "type": "scatter",
           "x": [
            0
           ],
           "xaxis": "x",
           "y": [
            0
           ],
           "yaxis": "y"
          },
          {
           "hovertemplate": "<b>%{hovertext}</b><br><br>main=False<br>type=last<br>step=30<br>name=3<br>x=%{x}<br>y=%{y}<extra></extra>",
           "hovertext": [
            "Last node of 3 <br> reward: 1.0 <br> action: [2, 3, 2, 2, 4, 2, 0, 4, 5, 1] <br> in system: 1.0"
           ],
           "legendgroup": "False, last",
           "line": {
            "color": "#EF553B",
            "dash": "solid"
           },
           "marker": {
            "symbol": "circle"
           },
           "mode": "lines+markers",
           "name": "False, last",
           "orientation": "v",
           "showlegend": false,
           "type": "scatter",
           "x": [
            0.9431818181818182
           ],
           "xaxis": "x",
           "y": [
            0.76
           ],
           "yaxis": "y"
          },
          {
           "hovertemplate": "<b>%{hovertext}</b><br><br>main=False<br>type=last<br>step=30<br>name=4<br>x=%{x}<br>y=%{y}<extra></extra>",
           "hovertext": [
            "Last node of 4 <br> reward: 1.0 <br> action: [2, 3, 2, 2, 4, 2, 0, 4, 5, 1] <br> in system: 1.0"
           ],
           "legendgroup": "False, last",
           "line": {
            "color": "#EF553B",
            "dash": "solid"
           },
           "marker": {
            "symbol": "circle"
           },
           "mode": "lines+markers",
           "name": "False, last",
           "orientation": "v",
           "showlegend": false,
           "type": "scatter",
           "x": [
            0.32954545454545453
           ],
           "xaxis": "x",
           "y": [
            0.428
           ],
           "yaxis": "y"
          },
          {
           "hovertemplate": "<b>%{hovertext}</b><br><br>main=False<br>type=last<br>step=30<br>name=5<br>x=%{x}<br>y=%{y}<extra></extra>",
           "hovertext": [
            "Last node of 5 <br> reward: 1.0 <br> action: [2, 3, 2, 2, 4, 2, 0, 4, 5, 1] <br> in system: 0.0"
           ],
           "legendgroup": "False, last",
           "line": {
            "color": "#EF553B",
            "dash": "solid"
           },
           "marker": {
            "symbol": "circle"
           },
           "mode": "lines+markers",
           "name": "False, last",
           "orientation": "v",
           "showlegend": false,
           "type": "scatter",
           "x": [
            0
           ],
           "xaxis": "x",
           "y": [
            0
           ],
           "yaxis": "y"
          },
          {
           "hovertemplate": "<b>%{hovertext}</b><br><br>main=False<br>type=last<br>step=30<br>name=6<br>x=%{x}<br>y=%{y}<extra></extra>",
           "hovertext": [
            "Last node of 6 <br> reward: 1.0 <br> action: [2, 3, 2, 2, 4, 2, 0, 4, 5, 1] <br> in system: 1.0"
           ],
           "legendgroup": "False, last",
           "line": {
            "color": "#EF553B",
            "dash": "solid"
           },
           "marker": {
            "symbol": "circle"
           },
           "mode": "lines+markers",
           "name": "False, last",
           "orientation": "v",
           "showlegend": false,
           "type": "scatter",
           "x": [
            0.5727272727272728
           ],
           "xaxis": "x",
           "y": [
            0.62
           ],
           "yaxis": "y"
          },
          {
           "hovertemplate": "<b>%{hovertext}</b><br><br>main=False<br>type=last<br>step=30<br>name=7<br>x=%{x}<br>y=%{y}<extra></extra>",
           "hovertext": [
            "Last node of 7 <br> reward: 1.0 <br> action: [2, 3, 2, 2, 4, 2, 0, 4, 5, 1] <br> in system: 1.0"
           ],
           "legendgroup": "False, last",
           "line": {
            "color": "#EF553B",
            "dash": "solid"
           },
           "marker": {
            "symbol": "circle"
           },
           "mode": "lines+markers",
           "name": "False, last",
           "orientation": "v",
           "showlegend": false,
           "type": "scatter",
           "x": [
            0.42045454545454547
           ],
           "xaxis": "x",
           "y": [
            0.76
           ],
           "yaxis": "y"
          },
          {
           "hovertemplate": "<b>%{hovertext}</b><br><br>main=False<br>type=last<br>step=30<br>name=8<br>x=%{x}<br>y=%{y}<extra></extra>",
           "hovertext": [
            "Last node of 8 <br> reward: 1.0 <br> action: [2, 3, 2, 2, 4, 2, 0, 4, 5, 1] <br> in system: 0.0"
           ],
           "legendgroup": "False, last",
           "line": {
            "color": "#EF553B",
            "dash": "solid"
           },
           "marker": {
            "symbol": "circle"
           },
           "mode": "lines+markers",
           "name": "False, last",
           "orientation": "v",
           "showlegend": false,
           "type": "scatter",
           "x": [
            0
           ],
           "xaxis": "x",
           "y": [
            0
           ],
           "yaxis": "y"
          },
          {
           "hovertemplate": "<b>%{hovertext}</b><br><br>main=False<br>type=last<br>step=30<br>name=9<br>x=%{x}<br>y=%{y}<extra></extra>",
           "hovertext": [
            "Last node of 9 <br> reward: 1.0 <br> action: [2, 3, 2, 2, 4, 2, 0, 4, 5, 1] <br> in system: 0.0"
           ],
           "legendgroup": "False, last",
           "line": {
            "color": "#EF553B",
            "dash": "solid"
           },
           "marker": {
            "symbol": "circle"
           },
           "mode": "lines+markers",
           "name": "False, last",
           "orientation": "v",
           "showlegend": false,
           "type": "scatter",
           "x": [
            0
           ],
           "xaxis": "x",
           "y": [
            0
           ],
           "yaxis": "y"
          },
          {
           "hovertemplate": "<b>%{hovertext}</b><br><br>main=False<br>type=next<br>step=30<br>name=1<br>x=%{x}<br>y=%{y}<extra></extra>",
           "hovertext": [
            "Next node of 1 <br> reward: 1.0 <br> action: [2, 3, 2, 2, 4, 2, 0, 4, 5, 1] <br> in system: 1.0"
           ],
           "legendgroup": "False, next",
           "line": {
            "color": "#EF553B",
            "dash": "solid"
           },
           "marker": {
            "symbol": "diamond"
           },
           "mode": "lines+markers",
           "name": "False, next",
           "orientation": "v",
           "showlegend": true,
           "type": "scatter",
           "x": [
            0.4772727272727273
           ],
           "xaxis": "x",
           "y": [
            0.48
           ],
           "yaxis": "y"
          },
          {
           "hovertemplate": "<b>%{hovertext}</b><br><br>main=False<br>type=next<br>step=30<br>name=2<br>x=%{x}<br>y=%{y}<extra></extra>",
           "hovertext": [
            "Next node of 2 <br> reward: 1.0 <br> action: [2, 3, 2, 2, 4, 2, 0, 4, 5, 1] <br> in system: 0.0"
           ],
           "legendgroup": "False, next",
           "line": {
            "color": "#EF553B",
            "dash": "solid"
           },
           "marker": {
            "symbol": "diamond"
           },
           "mode": "lines+markers",
           "name": "False, next",
           "orientation": "v",
           "showlegend": false,
           "type": "scatter",
           "x": [
            0
           ],
           "xaxis": "x",
           "y": [
            0
           ],
           "yaxis": "y"
          },
          {
           "hovertemplate": "<b>%{hovertext}</b><br><br>main=False<br>type=next<br>step=30<br>name=3<br>x=%{x}<br>y=%{y}<extra></extra>",
           "hovertext": [
            "Next node of 3 <br> reward: 1.0 <br> action: [2, 3, 2, 2, 4, 2, 0, 4, 5, 1] <br> in system: 1.0"
           ],
           "legendgroup": "False, next",
           "line": {
            "color": "#EF553B",
            "dash": "solid"
           },
           "marker": {
            "symbol": "diamond"
           },
           "mode": "lines+markers",
           "name": "False, next",
           "orientation": "v",
           "showlegend": false,
           "type": "scatter",
           "x": [
            0.9727272727272728
           ],
           "xaxis": "x",
           "y": [
            0.62
           ],
           "yaxis": "y"
          },
          {
           "hovertemplate": "<b>%{hovertext}</b><br><br>main=False<br>type=next<br>step=30<br>name=4<br>x=%{x}<br>y=%{y}<extra></extra>",
           "hovertext": [
            "Next node of 4 <br> reward: 1.0 <br> action: [2, 3, 2, 2, 4, 2, 0, 4, 5, 1] <br> in system: 1.0"
           ],
           "legendgroup": "False, next",
           "line": {
            "color": "#EF553B",
            "dash": "solid"
           },
           "marker": {
            "symbol": "diamond"
           },
           "mode": "lines+markers",
           "name": "False, next",
           "orientation": "v",
           "showlegend": false,
           "type": "scatter",
           "x": [
            0.42045454545454547
           ],
           "xaxis": "x",
           "y": [
            0.48
           ],
           "yaxis": "y"
          },
          {
           "hovertemplate": "<b>%{hovertext}</b><br><br>main=False<br>type=next<br>step=30<br>name=5<br>x=%{x}<br>y=%{y}<extra></extra>",
           "hovertext": [
            "Next node of 5 <br> reward: 1.0 <br> action: [2, 3, 2, 2, 4, 2, 0, 4, 5, 1] <br> in system: 0.0"
           ],
           "legendgroup": "False, next",
           "line": {
            "color": "#EF553B",
            "dash": "solid"
           },
           "marker": {
            "symbol": "diamond"
           },
           "mode": "lines+markers",
           "name": "False, next",
           "orientation": "v",
           "showlegend": false,
           "type": "scatter",
           "x": [
            0
           ],
           "xaxis": "x",
           "y": [
            0
           ],
           "yaxis": "y"
          },
          {
           "hovertemplate": "<b>%{hovertext}</b><br><br>main=False<br>type=next<br>step=30<br>name=6<br>x=%{x}<br>y=%{y}<extra></extra>",
           "hovertext": [
            "Next node of 6 <br> reward: 1.0 <br> action: [2, 3, 2, 2, 4, 2, 0, 4, 5, 1] <br> in system: 1.0"
           ],
           "legendgroup": "False, next",
           "line": {
            "color": "#EF553B",
            "dash": "solid"
           },
           "marker": {
            "symbol": "diamond"
           },
           "mode": "lines+markers",
           "name": "False, next",
           "orientation": "v",
           "showlegend": false,
           "type": "scatter",
           "x": [
            0.6022727272727273
           ],
           "xaxis": "x",
           "y": [
            0.76
           ],
           "yaxis": "y"
          },
          {
           "hovertemplate": "<b>%{hovertext}</b><br><br>main=False<br>type=next<br>step=30<br>name=7<br>x=%{x}<br>y=%{y}<extra></extra>",
           "hovertext": [
            "Next node of 7 <br> reward: 1.0 <br> action: [2, 3, 2, 2, 4, 2, 0, 4, 5, 1] <br> in system: 1.0"
           ],
           "legendgroup": "False, next",
           "line": {
            "color": "#EF553B",
            "dash": "solid"
           },
           "marker": {
            "symbol": "diamond"
           },
           "mode": "lines+markers",
           "name": "False, next",
           "orientation": "v",
           "showlegend": false,
           "type": "scatter",
           "x": [
            0.32954545454545453
           ],
           "xaxis": "x",
           "y": [
            0.808
           ],
           "yaxis": "y"
          },
          {
           "hovertemplate": "<b>%{hovertext}</b><br><br>main=False<br>type=next<br>step=30<br>name=8<br>x=%{x}<br>y=%{y}<extra></extra>",
           "hovertext": [
            "Next node of 8 <br> reward: 1.0 <br> action: [2, 3, 2, 2, 4, 2, 0, 4, 5, 1] <br> in system: 0.0"
           ],
           "legendgroup": "False, next",
           "line": {
            "color": "#EF553B",
            "dash": "solid"
           },
           "marker": {
            "symbol": "diamond"
           },
           "mode": "lines+markers",
           "name": "False, next",
           "orientation": "v",
           "showlegend": false,
           "type": "scatter",
           "x": [
            0
           ],
           "xaxis": "x",
           "y": [
            0
           ],
           "yaxis": "y"
          },
          {
           "hovertemplate": "<b>%{hovertext}</b><br><br>main=False<br>type=next<br>step=30<br>name=9<br>x=%{x}<br>y=%{y}<extra></extra>",
           "hovertext": [
            "Next node of 9 <br> reward: 1.0 <br> action: [2, 3, 2, 2, 4, 2, 0, 4, 5, 1] <br> in system: 0.0"
           ],
           "legendgroup": "False, next",
           "line": {
            "color": "#EF553B",
            "dash": "solid"
           },
           "marker": {
            "symbol": "diamond"
           },
           "mode": "lines+markers",
           "name": "False, next",
           "orientation": "v",
           "showlegend": false,
           "type": "scatter",
           "x": [
            0
           ],
           "xaxis": "x",
           "y": [
            0
           ],
           "yaxis": "y"
          }
         ],
         "name": "30"
        },
        {
         "data": [
          {
           "hovertemplate": "<b>%{hovertext}</b><br><br>main=True<br>type=last<br>step=31<br>name=0<br>x=%{x}<br>y=%{y}<extra></extra>",
           "hovertext": [
            "Last node of 0 <br> reward: 1.0 <br> action: [5, 2, 2, 1, 0, 4, 3, 1, 5, 3] <br> in system: 1.0"
           ],
           "legendgroup": "True, last",
           "line": {
            "color": "#636efa",
            "dash": "solid"
           },
           "marker": {
            "symbol": "circle"
           },
           "mode": "lines+markers",
           "name": "True, last",
           "orientation": "v",
           "showlegend": true,
           "type": "scatter",
           "x": [
            0.8181818181818182
           ],
           "xaxis": "x",
           "y": [
            0.76
           ],
           "yaxis": "y"
          },
          {
           "hovertemplate": "<b>%{hovertext}</b><br><br>main=True<br>type=next<br>step=31<br>name=0<br>x=%{x}<br>y=%{y}<extra></extra>",
           "hovertext": [
            "Next node of 0 <br> reward: 1.0 <br> action: [5, 2, 2, 1, 0, 4, 3, 1, 5, 3] <br> in system: 1.0"
           ],
           "legendgroup": "True, next",
           "line": {
            "color": "#636efa",
            "dash": "solid"
           },
           "marker": {
            "symbol": "diamond"
           },
           "mode": "lines+markers",
           "name": "True, next",
           "orientation": "v",
           "showlegend": true,
           "type": "scatter",
           "x": [
            0.8181818181818182
           ],
           "xaxis": "x",
           "y": [
            0.86
           ],
           "yaxis": "y"
          },
          {
           "hovertemplate": "<b>%{hovertext}</b><br><br>main=False<br>type=last<br>step=31<br>name=1<br>x=%{x}<br>y=%{y}<extra></extra>",
           "hovertext": [
            "Last node of 1 <br> reward: 1.0 <br> action: [5, 2, 2, 1, 0, 4, 3, 1, 5, 3] <br> in system: 0.0"
           ],
           "legendgroup": "False, last",
           "line": {
            "color": "#EF553B",
            "dash": "solid"
           },
           "marker": {
            "symbol": "circle"
           },
           "mode": "lines+markers",
           "name": "False, last",
           "orientation": "v",
           "showlegend": true,
           "type": "scatter",
           "x": [
            0
           ],
           "xaxis": "x",
           "y": [
            0
           ],
           "yaxis": "y"
          },
          {
           "hovertemplate": "<b>%{hovertext}</b><br><br>main=False<br>type=last<br>step=31<br>name=2<br>x=%{x}<br>y=%{y}<extra></extra>",
           "hovertext": [
            "Last node of 2 <br> reward: 1.0 <br> action: [5, 2, 2, 1, 0, 4, 3, 1, 5, 3] <br> in system: 1.0"
           ],
           "legendgroup": "False, last",
           "line": {
            "color": "#EF553B",
            "dash": "solid"
           },
           "marker": {
            "symbol": "circle"
           },
           "mode": "lines+markers",
           "name": "False, last",
           "orientation": "v",
           "showlegend": false,
           "type": "scatter",
           "x": [
            0.5727272727272728
           ],
           "xaxis": "x",
           "y": [
            0.62
           ],
           "yaxis": "y"
          },
          {
           "hovertemplate": "<b>%{hovertext}</b><br><br>main=False<br>type=last<br>step=31<br>name=3<br>x=%{x}<br>y=%{y}<extra></extra>",
           "hovertext": [
            "Last node of 3 <br> reward: 1.0 <br> action: [5, 2, 2, 1, 0, 4, 3, 1, 5, 3] <br> in system: 1.0"
           ],
           "legendgroup": "False, last",
           "line": {
            "color": "#EF553B",
            "dash": "solid"
           },
           "marker": {
            "symbol": "circle"
           },
           "mode": "lines+markers",
           "name": "False, last",
           "orientation": "v",
           "showlegend": false,
           "type": "scatter",
           "x": [
            0.42045454545454547
           ],
           "xaxis": "x",
           "y": [
            0.76
           ],
           "yaxis": "y"
          },
          {
           "hovertemplate": "<b>%{hovertext}</b><br><br>main=False<br>type=last<br>step=31<br>name=4<br>x=%{x}<br>y=%{y}<extra></extra>",
           "hovertext": [
            "Last node of 4 <br> reward: 1.0 <br> action: [5, 2, 2, 1, 0, 4, 3, 1, 5, 3] <br> in system: 0.0"
           ],
           "legendgroup": "False, last",
           "line": {
            "color": "#EF553B",
            "dash": "solid"
           },
           "marker": {
            "symbol": "circle"
           },
           "mode": "lines+markers",
           "name": "False, last",
           "orientation": "v",
           "showlegend": false,
           "type": "scatter",
           "x": [
            0
           ],
           "xaxis": "x",
           "y": [
            0
           ],
           "yaxis": "y"
          },
          {
           "hovertemplate": "<b>%{hovertext}</b><br><br>main=False<br>type=last<br>step=31<br>name=5<br>x=%{x}<br>y=%{y}<extra></extra>",
           "hovertext": [
            "Last node of 5 <br> reward: 1.0 <br> action: [5, 2, 2, 1, 0, 4, 3, 1, 5, 3] <br> in system: 1.0"
           ],
           "legendgroup": "False, last",
           "line": {
            "color": "#EF553B",
            "dash": "solid"
           },
           "marker": {
            "symbol": "circle"
           },
           "mode": "lines+markers",
           "name": "False, last",
           "orientation": "v",
           "showlegend": false,
           "type": "scatter",
           "x": [
            0.4772727272727273
           ],
           "xaxis": "x",
           "y": [
            0.48
           ],
           "yaxis": "y"
          },
          {
           "hovertemplate": "<b>%{hovertext}</b><br><br>main=False<br>type=last<br>step=31<br>name=6<br>x=%{x}<br>y=%{y}<extra></extra>",
           "hovertext": [
            "Last node of 6 <br> reward: 1.0 <br> action: [5, 2, 2, 1, 0, 4, 3, 1, 5, 3] <br> in system: 0.0"
           ],
           "legendgroup": "False, last",
           "line": {
            "color": "#EF553B",
            "dash": "solid"
           },
           "marker": {
            "symbol": "circle"
           },
           "mode": "lines+markers",
           "name": "False, last",
           "orientation": "v",
           "showlegend": false,
           "type": "scatter",
           "x": [
            0
           ],
           "xaxis": "x",
           "y": [
            0
           ],
           "yaxis": "y"
          },
          {
           "hovertemplate": "<b>%{hovertext}</b><br><br>main=False<br>type=last<br>step=31<br>name=7<br>x=%{x}<br>y=%{y}<extra></extra>",
           "hovertext": [
            "Last node of 7 <br> reward: 1.0 <br> action: [5, 2, 2, 1, 0, 4, 3, 1, 5, 3] <br> in system: 1.0"
           ],
           "legendgroup": "False, last",
           "line": {
            "color": "#EF553B",
            "dash": "solid"
           },
           "marker": {
            "symbol": "circle"
           },
           "mode": "lines+markers",
           "name": "False, last",
           "orientation": "v",
           "showlegend": false,
           "type": "scatter",
           "x": [
            0.42045454545454547
           ],
           "xaxis": "x",
           "y": [
            0.48
           ],
           "yaxis": "y"
          },
          {
           "hovertemplate": "<b>%{hovertext}</b><br><br>main=False<br>type=last<br>step=31<br>name=8<br>x=%{x}<br>y=%{y}<extra></extra>",
           "hovertext": [
            "Last node of 8 <br> reward: 1.0 <br> action: [5, 2, 2, 1, 0, 4, 3, 1, 5, 3] <br> in system: 1.0"
           ],
           "legendgroup": "False, last",
           "line": {
            "color": "#EF553B",
            "dash": "solid"
           },
           "marker": {
            "symbol": "circle"
           },
           "mode": "lines+markers",
           "name": "False, last",
           "orientation": "v",
           "showlegend": false,
           "type": "scatter",
           "x": [
            0.9431818181818182
           ],
           "xaxis": "x",
           "y": [
            0.76
           ],
           "yaxis": "y"
          },
          {
           "hovertemplate": "<b>%{hovertext}</b><br><br>main=False<br>type=last<br>step=31<br>name=9<br>x=%{x}<br>y=%{y}<extra></extra>",
           "hovertext": [
            "Last node of 9 <br> reward: 1.0 <br> action: [5, 2, 2, 1, 0, 4, 3, 1, 5, 3] <br> in system: 0.0"
           ],
           "legendgroup": "False, last",
           "line": {
            "color": "#EF553B",
            "dash": "solid"
           },
           "marker": {
            "symbol": "circle"
           },
           "mode": "lines+markers",
           "name": "False, last",
           "orientation": "v",
           "showlegend": false,
           "type": "scatter",
           "x": [
            0
           ],
           "xaxis": "x",
           "y": [
            0
           ],
           "yaxis": "y"
          },
          {
           "hovertemplate": "<b>%{hovertext}</b><br><br>main=False<br>type=next<br>step=31<br>name=1<br>x=%{x}<br>y=%{y}<extra></extra>",
           "hovertext": [
            "Next node of 1 <br> reward: 1.0 <br> action: [5, 2, 2, 1, 0, 4, 3, 1, 5, 3] <br> in system: 0.0"
           ],
           "legendgroup": "False, next",
           "line": {
            "color": "#EF553B",
            "dash": "solid"
           },
           "marker": {
            "symbol": "diamond"
           },
           "mode": "lines+markers",
           "name": "False, next",
           "orientation": "v",
           "showlegend": true,
           "type": "scatter",
           "x": [
            0
           ],
           "xaxis": "x",
           "y": [
            0
           ],
           "yaxis": "y"
          },
          {
           "hovertemplate": "<b>%{hovertext}</b><br><br>main=False<br>type=next<br>step=31<br>name=2<br>x=%{x}<br>y=%{y}<extra></extra>",
           "hovertext": [
            "Next node of 2 <br> reward: 1.0 <br> action: [5, 2, 2, 1, 0, 4, 3, 1, 5, 3] <br> in system: 1.0"
           ],
           "legendgroup": "False, next",
           "line": {
            "color": "#EF553B",
            "dash": "solid"
           },
           "marker": {
            "symbol": "diamond"
           },
           "mode": "lines+markers",
           "name": "False, next",
           "orientation": "v",
           "showlegend": false,
           "type": "scatter",
           "x": [
            0.6022727272727273
           ],
           "xaxis": "x",
           "y": [
            0.76
           ],
           "yaxis": "y"
          },
          {
           "hovertemplate": "<b>%{hovertext}</b><br><br>main=False<br>type=next<br>step=31<br>name=3<br>x=%{x}<br>y=%{y}<extra></extra>",
           "hovertext": [
            "Next node of 3 <br> reward: 1.0 <br> action: [5, 2, 2, 1, 0, 4, 3, 1, 5, 3] <br> in system: 1.0"
           ],
           "legendgroup": "False, next",
           "line": {
            "color": "#EF553B",
            "dash": "solid"
           },
           "marker": {
            "symbol": "diamond"
           },
           "mode": "lines+markers",
           "name": "False, next",
           "orientation": "v",
           "showlegend": false,
           "type": "scatter",
           "x": [
            0.32954545454545453
           ],
           "xaxis": "x",
           "y": [
            0.808
           ],
           "yaxis": "y"
          },
          {
           "hovertemplate": "<b>%{hovertext}</b><br><br>main=False<br>type=next<br>step=31<br>name=4<br>x=%{x}<br>y=%{y}<extra></extra>",
           "hovertext": [
            "Next node of 4 <br> reward: 1.0 <br> action: [5, 2, 2, 1, 0, 4, 3, 1, 5, 3] <br> in system: 0.0"
           ],
           "legendgroup": "False, next",
           "line": {
            "color": "#EF553B",
            "dash": "solid"
           },
           "marker": {
            "symbol": "diamond"
           },
           "mode": "lines+markers",
           "name": "False, next",
           "orientation": "v",
           "showlegend": false,
           "type": "scatter",
           "x": [
            0
           ],
           "xaxis": "x",
           "y": [
            0
           ],
           "yaxis": "y"
          },
          {
           "hovertemplate": "<b>%{hovertext}</b><br><br>main=False<br>type=next<br>step=31<br>name=5<br>x=%{x}<br>y=%{y}<extra></extra>",
           "hovertext": [
            "Next node of 5 <br> reward: 1.0 <br> action: [5, 2, 2, 1, 0, 4, 3, 1, 5, 3] <br> in system: 1.0"
           ],
           "legendgroup": "False, next",
           "line": {
            "color": "#EF553B",
            "dash": "solid"
           },
           "marker": {
            "symbol": "diamond"
           },
           "mode": "lines+markers",
           "name": "False, next",
           "orientation": "v",
           "showlegend": false,
           "type": "scatter",
           "x": [
            0.42045454545454547
           ],
           "xaxis": "x",
           "y": [
            0.48
           ],
           "yaxis": "y"
          },
          {
           "hovertemplate": "<b>%{hovertext}</b><br><br>main=False<br>type=next<br>step=31<br>name=6<br>x=%{x}<br>y=%{y}<extra></extra>",
           "hovertext": [
            "Next node of 6 <br> reward: 1.0 <br> action: [5, 2, 2, 1, 0, 4, 3, 1, 5, 3] <br> in system: 0.0"
           ],
           "legendgroup": "False, next",
           "line": {
            "color": "#EF553B",
            "dash": "solid"
           },
           "marker": {
            "symbol": "diamond"
           },
           "mode": "lines+markers",
           "name": "False, next",
           "orientation": "v",
           "showlegend": false,
           "type": "scatter",
           "x": [
            0
           ],
           "xaxis": "x",
           "y": [
            0
           ],
           "yaxis": "y"
          },
          {
           "hovertemplate": "<b>%{hovertext}</b><br><br>main=False<br>type=next<br>step=31<br>name=7<br>x=%{x}<br>y=%{y}<extra></extra>",
           "hovertext": [
            "Next node of 7 <br> reward: 1.0 <br> action: [5, 2, 2, 1, 0, 4, 3, 1, 5, 3] <br> in system: 1.0"
           ],
           "legendgroup": "False, next",
           "line": {
            "color": "#EF553B",
            "dash": "solid"
           },
           "marker": {
            "symbol": "diamond"
           },
           "mode": "lines+markers",
           "name": "False, next",
           "orientation": "v",
           "showlegend": false,
           "type": "scatter",
           "x": [
            0.42045454545454547
           ],
           "xaxis": "x",
           "y": [
            0.76
           ],
           "yaxis": "y"
          },
          {
           "hovertemplate": "<b>%{hovertext}</b><br><br>main=False<br>type=next<br>step=31<br>name=8<br>x=%{x}<br>y=%{y}<extra></extra>",
           "hovertext": [
            "Next node of 8 <br> reward: 1.0 <br> action: [5, 2, 2, 1, 0, 4, 3, 1, 5, 3] <br> in system: 1.0"
           ],
           "legendgroup": "False, next",
           "line": {
            "color": "#EF553B",
            "dash": "solid"
           },
           "marker": {
            "symbol": "diamond"
           },
           "mode": "lines+markers",
           "name": "False, next",
           "orientation": "v",
           "showlegend": false,
           "type": "scatter",
           "x": [
            0.9727272727272728
           ],
           "xaxis": "x",
           "y": [
            0.62
           ],
           "yaxis": "y"
          },
          {
           "hovertemplate": "<b>%{hovertext}</b><br><br>main=False<br>type=next<br>step=31<br>name=9<br>x=%{x}<br>y=%{y}<extra></extra>",
           "hovertext": [
            "Next node of 9 <br> reward: 1.0 <br> action: [5, 2, 2, 1, 0, 4, 3, 1, 5, 3] <br> in system: 0.0"
           ],
           "legendgroup": "False, next",
           "line": {
            "color": "#EF553B",
            "dash": "solid"
           },
           "marker": {
            "symbol": "diamond"
           },
           "mode": "lines+markers",
           "name": "False, next",
           "orientation": "v",
           "showlegend": false,
           "type": "scatter",
           "x": [
            0
           ],
           "xaxis": "x",
           "y": [
            0
           ],
           "yaxis": "y"
          }
         ],
         "name": "31"
        },
        {
         "data": [
          {
           "hovertemplate": "<b>%{hovertext}</b><br><br>main=True<br>type=last<br>step=32<br>name=0<br>x=%{x}<br>y=%{y}<extra></extra>",
           "hovertext": [
            "Last node of 0 <br> reward: 1.0 <br> action: [3, 0, 4, 2, 5, 5, 4, 2, 5, 5] <br> in system: 1.0"
           ],
           "legendgroup": "True, last",
           "line": {
            "color": "#636efa",
            "dash": "solid"
           },
           "marker": {
            "symbol": "circle"
           },
           "mode": "lines+markers",
           "name": "True, last",
           "orientation": "v",
           "showlegend": true,
           "type": "scatter",
           "x": [
            0.8181818181818182
           ],
           "xaxis": "x",
           "y": [
            0.76
           ],
           "yaxis": "y"
          },
          {
           "hovertemplate": "<b>%{hovertext}</b><br><br>main=True<br>type=next<br>step=32<br>name=0<br>x=%{x}<br>y=%{y}<extra></extra>",
           "hovertext": [
            "Next node of 0 <br> reward: 1.0 <br> action: [3, 0, 4, 2, 5, 5, 4, 2, 5, 5] <br> in system: 1.0"
           ],
           "legendgroup": "True, next",
           "line": {
            "color": "#636efa",
            "dash": "solid"
           },
           "marker": {
            "symbol": "diamond"
           },
           "mode": "lines+markers",
           "name": "True, next",
           "orientation": "v",
           "showlegend": true,
           "type": "scatter",
           "x": [
            0.8181818181818182
           ],
           "xaxis": "x",
           "y": [
            0.86
           ],
           "yaxis": "y"
          },
          {
           "hovertemplate": "<b>%{hovertext}</b><br><br>main=False<br>type=last<br>step=32<br>name=1<br>x=%{x}<br>y=%{y}<extra></extra>",
           "hovertext": [
            "Last node of 1 <br> reward: 1.0 <br> action: [3, 0, 4, 2, 5, 5, 4, 2, 5, 5] <br> in system: 1.0"
           ],
           "legendgroup": "False, last",
           "line": {
            "color": "#EF553B",
            "dash": "solid"
           },
           "marker": {
            "symbol": "circle"
           },
           "mode": "lines+markers",
           "name": "False, last",
           "orientation": "v",
           "showlegend": true,
           "type": "scatter",
           "x": [
            0.5727272727272728
           ],
           "xaxis": "x",
           "y": [
            0.62
           ],
           "yaxis": "y"
          },
          {
           "hovertemplate": "<b>%{hovertext}</b><br><br>main=False<br>type=last<br>step=32<br>name=2<br>x=%{x}<br>y=%{y}<extra></extra>",
           "hovertext": [
            "Last node of 2 <br> reward: 1.0 <br> action: [3, 0, 4, 2, 5, 5, 4, 2, 5, 5] <br> in system: 1.0"
           ],
           "legendgroup": "False, last",
           "line": {
            "color": "#EF553B",
            "dash": "solid"
           },
           "marker": {
            "symbol": "circle"
           },
           "mode": "lines+markers",
           "name": "False, last",
           "orientation": "v",
           "showlegend": false,
           "type": "scatter",
           "x": [
            0.42045454545454547
           ],
           "xaxis": "x",
           "y": [
            0.48
           ],
           "yaxis": "y"
          },
          {
           "hovertemplate": "<b>%{hovertext}</b><br><br>main=False<br>type=last<br>step=32<br>name=3<br>x=%{x}<br>y=%{y}<extra></extra>",
           "hovertext": [
            "Last node of 3 <br> reward: 1.0 <br> action: [3, 0, 4, 2, 5, 5, 4, 2, 5, 5] <br> in system: 0.0"
           ],
           "legendgroup": "False, last",
           "line": {
            "color": "#EF553B",
            "dash": "solid"
           },
           "marker": {
            "symbol": "circle"
           },
           "mode": "lines+markers",
           "name": "False, last",
           "orientation": "v",
           "showlegend": false,
           "type": "scatter",
           "x": [
            0
           ],
           "xaxis": "x",
           "y": [
            0
           ],
           "yaxis": "y"
          },
          {
           "hovertemplate": "<b>%{hovertext}</b><br><br>main=False<br>type=last<br>step=32<br>name=4<br>x=%{x}<br>y=%{y}<extra></extra>",
           "hovertext": [
            "Last node of 4 <br> reward: 1.0 <br> action: [3, 0, 4, 2, 5, 5, 4, 2, 5, 5] <br> in system: 1.0"
           ],
           "legendgroup": "False, last",
           "line": {
            "color": "#EF553B",
            "dash": "solid"
           },
           "marker": {
            "symbol": "circle"
           },
           "mode": "lines+markers",
           "name": "False, last",
           "orientation": "v",
           "showlegend": false,
           "type": "scatter",
           "x": [
            0.32954545454545453
           ],
           "xaxis": "x",
           "y": [
            0.808
           ],
           "yaxis": "y"
          },
          {
           "hovertemplate": "<b>%{hovertext}</b><br><br>main=False<br>type=last<br>step=32<br>name=5<br>x=%{x}<br>y=%{y}<extra></extra>",
           "hovertext": [
            "Last node of 5 <br> reward: 1.0 <br> action: [3, 0, 4, 2, 5, 5, 4, 2, 5, 5] <br> in system: 1.0"
           ],
           "legendgroup": "False, last",
           "line": {
            "color": "#EF553B",
            "dash": "solid"
           },
           "marker": {
            "symbol": "circle"
           },
           "mode": "lines+markers",
           "name": "False, last",
           "orientation": "v",
           "showlegend": false,
           "type": "scatter",
           "x": [
            0.9431818181818182
           ],
           "xaxis": "x",
           "y": [
            0.76
           ],
           "yaxis": "y"
          },
          {
           "hovertemplate": "<b>%{hovertext}</b><br><br>main=False<br>type=last<br>step=32<br>name=6<br>x=%{x}<br>y=%{y}<extra></extra>",
           "hovertext": [
            "Last node of 6 <br> reward: 1.0 <br> action: [3, 0, 4, 2, 5, 5, 4, 2, 5, 5] <br> in system: 0.0"
           ],
           "legendgroup": "False, last",
           "line": {
            "color": "#EF553B",
            "dash": "solid"
           },
           "marker": {
            "symbol": "circle"
           },
           "mode": "lines+markers",
           "name": "False, last",
           "orientation": "v",
           "showlegend": false,
           "type": "scatter",
           "x": [
            0
           ],
           "xaxis": "x",
           "y": [
            0
           ],
           "yaxis": "y"
          },
          {
           "hovertemplate": "<b>%{hovertext}</b><br><br>main=False<br>type=last<br>step=32<br>name=7<br>x=%{x}<br>y=%{y}<extra></extra>",
           "hovertext": [
            "Last node of 7 <br> reward: 1.0 <br> action: [3, 0, 4, 2, 5, 5, 4, 2, 5, 5] <br> in system: 1.0"
           ],
           "legendgroup": "False, last",
           "line": {
            "color": "#EF553B",
            "dash": "solid"
           },
           "marker": {
            "symbol": "circle"
           },
           "mode": "lines+markers",
           "name": "False, last",
           "orientation": "v",
           "showlegend": false,
           "type": "scatter",
           "x": [
            0.4772727272727273
           ],
           "xaxis": "x",
           "y": [
            0.48
           ],
           "yaxis": "y"
          },
          {
           "hovertemplate": "<b>%{hovertext}</b><br><br>main=False<br>type=last<br>step=32<br>name=8<br>x=%{x}<br>y=%{y}<extra></extra>",
           "hovertext": [
            "Last node of 8 <br> reward: 1.0 <br> action: [3, 0, 4, 2, 5, 5, 4, 2, 5, 5] <br> in system: 0.0"
           ],
           "legendgroup": "False, last",
           "line": {
            "color": "#EF553B",
            "dash": "solid"
           },
           "marker": {
            "symbol": "circle"
           },
           "mode": "lines+markers",
           "name": "False, last",
           "orientation": "v",
           "showlegend": false,
           "type": "scatter",
           "x": [
            0
           ],
           "xaxis": "x",
           "y": [
            0
           ],
           "yaxis": "y"
          },
          {
           "hovertemplate": "<b>%{hovertext}</b><br><br>main=False<br>type=last<br>step=32<br>name=9<br>x=%{x}<br>y=%{y}<extra></extra>",
           "hovertext": [
            "Last node of 9 <br> reward: 1.0 <br> action: [3, 0, 4, 2, 5, 5, 4, 2, 5, 5] <br> in system: 0.0"
           ],
           "legendgroup": "False, last",
           "line": {
            "color": "#EF553B",
            "dash": "solid"
           },
           "marker": {
            "symbol": "circle"
           },
           "mode": "lines+markers",
           "name": "False, last",
           "orientation": "v",
           "showlegend": false,
           "type": "scatter",
           "x": [
            0
           ],
           "xaxis": "x",
           "y": [
            0
           ],
           "yaxis": "y"
          },
          {
           "hovertemplate": "<b>%{hovertext}</b><br><br>main=False<br>type=next<br>step=32<br>name=1<br>x=%{x}<br>y=%{y}<extra></extra>",
           "hovertext": [
            "Next node of 1 <br> reward: 1.0 <br> action: [3, 0, 4, 2, 5, 5, 4, 2, 5, 5] <br> in system: 1.0"
           ],
           "legendgroup": "False, next",
           "line": {
            "color": "#EF553B",
            "dash": "solid"
           },
           "marker": {
            "symbol": "diamond"
           },
           "mode": "lines+markers",
           "name": "False, next",
           "orientation": "v",
           "showlegend": true,
           "type": "scatter",
           "x": [
            0.6022727272727273
           ],
           "xaxis": "x",
           "y": [
            0.76
           ],
           "yaxis": "y"
          },
          {
           "hovertemplate": "<b>%{hovertext}</b><br><br>main=False<br>type=next<br>step=32<br>name=2<br>x=%{x}<br>y=%{y}<extra></extra>",
           "hovertext": [
            "Next node of 2 <br> reward: 1.0 <br> action: [3, 0, 4, 2, 5, 5, 4, 2, 5, 5] <br> in system: 1.0"
           ],
           "legendgroup": "False, next",
           "line": {
            "color": "#EF553B",
            "dash": "solid"
           },
           "marker": {
            "symbol": "diamond"
           },
           "mode": "lines+markers",
           "name": "False, next",
           "orientation": "v",
           "showlegend": false,
           "type": "scatter",
           "x": [
            0.42045454545454547
           ],
           "xaxis": "x",
           "y": [
            0.76
           ],
           "yaxis": "y"
          },
          {
           "hovertemplate": "<b>%{hovertext}</b><br><br>main=False<br>type=next<br>step=32<br>name=3<br>x=%{x}<br>y=%{y}<extra></extra>",
           "hovertext": [
            "Next node of 3 <br> reward: 1.0 <br> action: [3, 0, 4, 2, 5, 5, 4, 2, 5, 5] <br> in system: 0.0"
           ],
           "legendgroup": "False, next",
           "line": {
            "color": "#EF553B",
            "dash": "solid"
           },
           "marker": {
            "symbol": "diamond"
           },
           "mode": "lines+markers",
           "name": "False, next",
           "orientation": "v",
           "showlegend": false,
           "type": "scatter",
           "x": [
            0
           ],
           "xaxis": "x",
           "y": [
            0
           ],
           "yaxis": "y"
          },
          {
           "hovertemplate": "<b>%{hovertext}</b><br><br>main=False<br>type=next<br>step=32<br>name=4<br>x=%{x}<br>y=%{y}<extra></extra>",
           "hovertext": [
            "Next node of 4 <br> reward: 1.0 <br> action: [3, 0, 4, 2, 5, 5, 4, 2, 5, 5] <br> in system: 1.0"
           ],
           "legendgroup": "False, next",
           "line": {
            "color": "#EF553B",
            "dash": "solid"
           },
           "marker": {
            "symbol": "diamond"
           },
           "mode": "lines+markers",
           "name": "False, next",
           "orientation": "v",
           "showlegend": false,
           "type": "scatter",
           "x": [
            0.42045454545454547
           ],
           "xaxis": "x",
           "y": [
            0.86
           ],
           "yaxis": "y"
          },
          {
           "hovertemplate": "<b>%{hovertext}</b><br><br>main=False<br>type=next<br>step=32<br>name=5<br>x=%{x}<br>y=%{y}<extra></extra>",
           "hovertext": [
            "Next node of 5 <br> reward: 1.0 <br> action: [3, 0, 4, 2, 5, 5, 4, 2, 5, 5] <br> in system: 1.0"
           ],
           "legendgroup": "False, next",
           "line": {
            "color": "#EF553B",
            "dash": "solid"
           },
           "marker": {
            "symbol": "diamond"
           },
           "mode": "lines+markers",
           "name": "False, next",
           "orientation": "v",
           "showlegend": false,
           "type": "scatter",
           "x": [
            0.9727272727272728
           ],
           "xaxis": "x",
           "y": [
            0.62
           ],
           "yaxis": "y"
          },
          {
           "hovertemplate": "<b>%{hovertext}</b><br><br>main=False<br>type=next<br>step=32<br>name=6<br>x=%{x}<br>y=%{y}<extra></extra>",
           "hovertext": [
            "Next node of 6 <br> reward: 1.0 <br> action: [3, 0, 4, 2, 5, 5, 4, 2, 5, 5] <br> in system: 0.0"
           ],
           "legendgroup": "False, next",
           "line": {
            "color": "#EF553B",
            "dash": "solid"
           },
           "marker": {
            "symbol": "diamond"
           },
           "mode": "lines+markers",
           "name": "False, next",
           "orientation": "v",
           "showlegend": false,
           "type": "scatter",
           "x": [
            0
           ],
           "xaxis": "x",
           "y": [
            0
           ],
           "yaxis": "y"
          },
          {
           "hovertemplate": "<b>%{hovertext}</b><br><br>main=False<br>type=next<br>step=32<br>name=7<br>x=%{x}<br>y=%{y}<extra></extra>",
           "hovertext": [
            "Next node of 7 <br> reward: 1.0 <br> action: [3, 0, 4, 2, 5, 5, 4, 2, 5, 5] <br> in system: 1.0"
           ],
           "legendgroup": "False, next",
           "line": {
            "color": "#EF553B",
            "dash": "solid"
           },
           "marker": {
            "symbol": "diamond"
           },
           "mode": "lines+markers",
           "name": "False, next",
           "orientation": "v",
           "showlegend": false,
           "type": "scatter",
           "x": [
            0.42045454545454547
           ],
           "xaxis": "x",
           "y": [
            0.48
           ],
           "yaxis": "y"
          },
          {
           "hovertemplate": "<b>%{hovertext}</b><br><br>main=False<br>type=next<br>step=32<br>name=8<br>x=%{x}<br>y=%{y}<extra></extra>",
           "hovertext": [
            "Next node of 8 <br> reward: 1.0 <br> action: [3, 0, 4, 2, 5, 5, 4, 2, 5, 5] <br> in system: 0.0"
           ],
           "legendgroup": "False, next",
           "line": {
            "color": "#EF553B",
            "dash": "solid"
           },
           "marker": {
            "symbol": "diamond"
           },
           "mode": "lines+markers",
           "name": "False, next",
           "orientation": "v",
           "showlegend": false,
           "type": "scatter",
           "x": [
            0
           ],
           "xaxis": "x",
           "y": [
            0
           ],
           "yaxis": "y"
          },
          {
           "hovertemplate": "<b>%{hovertext}</b><br><br>main=False<br>type=next<br>step=32<br>name=9<br>x=%{x}<br>y=%{y}<extra></extra>",
           "hovertext": [
            "Next node of 9 <br> reward: 1.0 <br> action: [3, 0, 4, 2, 5, 5, 4, 2, 5, 5] <br> in system: 0.0"
           ],
           "legendgroup": "False, next",
           "line": {
            "color": "#EF553B",
            "dash": "solid"
           },
           "marker": {
            "symbol": "diamond"
           },
           "mode": "lines+markers",
           "name": "False, next",
           "orientation": "v",
           "showlegend": false,
           "type": "scatter",
           "x": [
            0
           ],
           "xaxis": "x",
           "y": [
            0
           ],
           "yaxis": "y"
          }
         ],
         "name": "32"
        },
        {
         "data": [
          {
           "hovertemplate": "<b>%{hovertext}</b><br><br>main=True<br>type=last<br>step=33<br>name=0<br>x=%{x}<br>y=%{y}<extra></extra>",
           "hovertext": [
            "Last node of 0 <br> reward: 0 <br> action: [3, 5, 1, 3, 3, 3, 5, 4, 5, 0] <br> in system: 1.0"
           ],
           "legendgroup": "True, last",
           "line": {
            "color": "#636efa",
            "dash": "solid"
           },
           "marker": {
            "symbol": "circle"
           },
           "mode": "lines+markers",
           "name": "True, last",
           "orientation": "v",
           "showlegend": true,
           "type": "scatter",
           "x": [
            0.8181818181818182
           ],
           "xaxis": "x",
           "y": [
            0.86
           ],
           "yaxis": "y"
          },
          {
           "hovertemplate": "<b>%{hovertext}</b><br><br>main=True<br>type=next<br>step=33<br>name=0<br>x=%{x}<br>y=%{y}<extra></extra>",
           "hovertext": [
            "Next node of 0 <br> reward: 0 <br> action: [3, 5, 1, 3, 3, 3, 5, 4, 5, 0] <br> in system: 1.0"
           ],
           "legendgroup": "True, next",
           "line": {
            "color": "#636efa",
            "dash": "solid"
           },
           "marker": {
            "symbol": "diamond"
           },
           "mode": "lines+markers",
           "name": "True, next",
           "orientation": "v",
           "showlegend": true,
           "type": "scatter",
           "x": [
            0.9431818181818182
           ],
           "xaxis": "x",
           "y": [
            0.86
           ],
           "yaxis": "y"
          },
          {
           "hovertemplate": "<b>%{hovertext}</b><br><br>main=False<br>type=last<br>step=33<br>name=1<br>x=%{x}<br>y=%{y}<extra></extra>",
           "hovertext": [
            "Last node of 1 <br> reward: 0 <br> action: [3, 5, 1, 3, 3, 3, 5, 4, 5, 0] <br> in system: 1.0"
           ],
           "legendgroup": "False, last",
           "line": {
            "color": "#EF553B",
            "dash": "solid"
           },
           "marker": {
            "symbol": "circle"
           },
           "mode": "lines+markers",
           "name": "False, last",
           "orientation": "v",
           "showlegend": true,
           "type": "scatter",
           "x": [
            0.4772727272727273
           ],
           "xaxis": "x",
           "y": [
            0.48
           ],
           "yaxis": "y"
          },
          {
           "hovertemplate": "<b>%{hovertext}</b><br><br>main=False<br>type=last<br>step=33<br>name=2<br>x=%{x}<br>y=%{y}<extra></extra>",
           "hovertext": [
            "Last node of 2 <br> reward: 0 <br> action: [3, 5, 1, 3, 3, 3, 5, 4, 5, 0] <br> in system: 1.0"
           ],
           "legendgroup": "False, last",
           "line": {
            "color": "#EF553B",
            "dash": "solid"
           },
           "marker": {
            "symbol": "circle"
           },
           "mode": "lines+markers",
           "name": "False, last",
           "orientation": "v",
           "showlegend": false,
           "type": "scatter",
           "x": [
            0.6022727272727273
           ],
           "xaxis": "x",
           "y": [
            0.76
           ],
           "yaxis": "y"
          },
          {
           "hovertemplate": "<b>%{hovertext}</b><br><br>main=False<br>type=last<br>step=33<br>name=3<br>x=%{x}<br>y=%{y}<extra></extra>",
           "hovertext": [
            "Last node of 3 <br> reward: 0 <br> action: [3, 5, 1, 3, 3, 3, 5, 4, 5, 0] <br> in system: 1.0"
           ],
           "legendgroup": "False, last",
           "line": {
            "color": "#EF553B",
            "dash": "solid"
           },
           "marker": {
            "symbol": "circle"
           },
           "mode": "lines+markers",
           "name": "False, last",
           "orientation": "v",
           "showlegend": false,
           "type": "scatter",
           "x": [
            0.9431818181818182
           ],
           "xaxis": "x",
           "y": [
            0.76
           ],
           "yaxis": "y"
          },
          {
           "hovertemplate": "<b>%{hovertext}</b><br><br>main=False<br>type=last<br>step=33<br>name=4<br>x=%{x}<br>y=%{y}<extra></extra>",
           "hovertext": [
            "Last node of 4 <br> reward: 0 <br> action: [3, 5, 1, 3, 3, 3, 5, 4, 5, 0] <br> in system: 0.0"
           ],
           "legendgroup": "False, last",
           "line": {
            "color": "#EF553B",
            "dash": "solid"
           },
           "marker": {
            "symbol": "circle"
           },
           "mode": "lines+markers",
           "name": "False, last",
           "orientation": "v",
           "showlegend": false,
           "type": "scatter",
           "x": [
            0
           ],
           "xaxis": "x",
           "y": [
            0
           ],
           "yaxis": "y"
          },
          {
           "hovertemplate": "<b>%{hovertext}</b><br><br>main=False<br>type=last<br>step=33<br>name=5<br>x=%{x}<br>y=%{y}<extra></extra>",
           "hovertext": [
            "Last node of 5 <br> reward: 0 <br> action: [3, 5, 1, 3, 3, 3, 5, 4, 5, 0] <br> in system: 1.0"
           ],
           "legendgroup": "False, last",
           "line": {
            "color": "#EF553B",
            "dash": "solid"
           },
           "marker": {
            "symbol": "circle"
           },
           "mode": "lines+markers",
           "name": "False, last",
           "orientation": "v",
           "showlegend": false,
           "type": "scatter",
           "x": [
            0.42045454545454547
           ],
           "xaxis": "x",
           "y": [
            0.48
           ],
           "yaxis": "y"
          },
          {
           "hovertemplate": "<b>%{hovertext}</b><br><br>main=False<br>type=last<br>step=33<br>name=6<br>x=%{x}<br>y=%{y}<extra></extra>",
           "hovertext": [
            "Last node of 6 <br> reward: 0 <br> action: [3, 5, 1, 3, 3, 3, 5, 4, 5, 0] <br> in system: 0.0"
           ],
           "legendgroup": "False, last",
           "line": {
            "color": "#EF553B",
            "dash": "solid"
           },
           "marker": {
            "symbol": "circle"
           },
           "mode": "lines+markers",
           "name": "False, last",
           "orientation": "v",
           "showlegend": false,
           "type": "scatter",
           "x": [
            0
           ],
           "xaxis": "x",
           "y": [
            0
           ],
           "yaxis": "y"
          },
          {
           "hovertemplate": "<b>%{hovertext}</b><br><br>main=False<br>type=last<br>step=33<br>name=7<br>x=%{x}<br>y=%{y}<extra></extra>",
           "hovertext": [
            "Last node of 7 <br> reward: 0 <br> action: [3, 5, 1, 3, 3, 3, 5, 4, 5, 0] <br> in system: 0.0"
           ],
           "legendgroup": "False, last",
           "line": {
            "color": "#EF553B",
            "dash": "solid"
           },
           "marker": {
            "symbol": "circle"
           },
           "mode": "lines+markers",
           "name": "False, last",
           "orientation": "v",
           "showlegend": false,
           "type": "scatter",
           "x": [
            0
           ],
           "xaxis": "x",
           "y": [
            0
           ],
           "yaxis": "y"
          },
          {
           "hovertemplate": "<b>%{hovertext}</b><br><br>main=False<br>type=last<br>step=33<br>name=8<br>x=%{x}<br>y=%{y}<extra></extra>",
           "hovertext": [
            "Last node of 8 <br> reward: 0 <br> action: [3, 5, 1, 3, 3, 3, 5, 4, 5, 0] <br> in system: 0.0"
           ],
           "legendgroup": "False, last",
           "line": {
            "color": "#EF553B",
            "dash": "solid"
           },
           "marker": {
            "symbol": "circle"
           },
           "mode": "lines+markers",
           "name": "False, last",
           "orientation": "v",
           "showlegend": false,
           "type": "scatter",
           "x": [
            0
           ],
           "xaxis": "x",
           "y": [
            0
           ],
           "yaxis": "y"
          },
          {
           "hovertemplate": "<b>%{hovertext}</b><br><br>main=False<br>type=last<br>step=33<br>name=9<br>x=%{x}<br>y=%{y}<extra></extra>",
           "hovertext": [
            "Last node of 9 <br> reward: 0 <br> action: [3, 5, 1, 3, 3, 3, 5, 4, 5, 0] <br> in system: 1.0"
           ],
           "legendgroup": "False, last",
           "line": {
            "color": "#EF553B",
            "dash": "solid"
           },
           "marker": {
            "symbol": "circle"
           },
           "mode": "lines+markers",
           "name": "False, last",
           "orientation": "v",
           "showlegend": false,
           "type": "scatter",
           "x": [
            0.42045454545454547
           ],
           "xaxis": "x",
           "y": [
            0.86
           ],
           "yaxis": "y"
          },
          {
           "hovertemplate": "<b>%{hovertext}</b><br><br>main=False<br>type=next<br>step=33<br>name=1<br>x=%{x}<br>y=%{y}<extra></extra>",
           "hovertext": [
            "Next node of 1 <br> reward: 0 <br> action: [3, 5, 1, 3, 3, 3, 5, 4, 5, 0] <br> in system: 1.0"
           ],
           "legendgroup": "False, next",
           "line": {
            "color": "#EF553B",
            "dash": "solid"
           },
           "marker": {
            "symbol": "diamond"
           },
           "mode": "lines+markers",
           "name": "False, next",
           "orientation": "v",
           "showlegend": true,
           "type": "scatter",
           "x": [
            0.42045454545454547
           ],
           "xaxis": "x",
           "y": [
            0.48
           ],
           "yaxis": "y"
          },
          {
           "hovertemplate": "<b>%{hovertext}</b><br><br>main=False<br>type=next<br>step=33<br>name=2<br>x=%{x}<br>y=%{y}<extra></extra>",
           "hovertext": [
            "Next node of 2 <br> reward: 0 <br> action: [3, 5, 1, 3, 3, 3, 5, 4, 5, 0] <br> in system: 1.0"
           ],
           "legendgroup": "False, next",
           "line": {
            "color": "#EF553B",
            "dash": "solid"
           },
           "marker": {
            "symbol": "diamond"
           },
           "mode": "lines+markers",
           "name": "False, next",
           "orientation": "v",
           "showlegend": false,
           "type": "scatter",
           "x": [
            0.5454545454545454
           ],
           "xaxis": "x",
           "y": [
            0.76
           ],
           "yaxis": "y"
          },
          {
           "hovertemplate": "<b>%{hovertext}</b><br><br>main=False<br>type=next<br>step=33<br>name=3<br>x=%{x}<br>y=%{y}<extra></extra>",
           "hovertext": [
            "Next node of 3 <br> reward: 0 <br> action: [3, 5, 1, 3, 3, 3, 5, 4, 5, 0] <br> in system: 1.0"
           ],
           "legendgroup": "False, next",
           "line": {
            "color": "#EF553B",
            "dash": "solid"
           },
           "marker": {
            "symbol": "diamond"
           },
           "mode": "lines+markers",
           "name": "False, next",
           "orientation": "v",
           "showlegend": false,
           "type": "scatter",
           "x": [
            0.9727272727272728
           ],
           "xaxis": "x",
           "y": [
            0.62
           ],
           "yaxis": "y"
          },
          {
           "hovertemplate": "<b>%{hovertext}</b><br><br>main=False<br>type=next<br>step=33<br>name=4<br>x=%{x}<br>y=%{y}<extra></extra>",
           "hovertext": [
            "Next node of 4 <br> reward: 0 <br> action: [3, 5, 1, 3, 3, 3, 5, 4, 5, 0] <br> in system: 0.0"
           ],
           "legendgroup": "False, next",
           "line": {
            "color": "#EF553B",
            "dash": "solid"
           },
           "marker": {
            "symbol": "diamond"
           },
           "mode": "lines+markers",
           "name": "False, next",
           "orientation": "v",
           "showlegend": false,
           "type": "scatter",
           "x": [
            0
           ],
           "xaxis": "x",
           "y": [
            0
           ],
           "yaxis": "y"
          },
          {
           "hovertemplate": "<b>%{hovertext}</b><br><br>main=False<br>type=next<br>step=33<br>name=5<br>x=%{x}<br>y=%{y}<extra></extra>",
           "hovertext": [
            "Next node of 5 <br> reward: 0 <br> action: [3, 5, 1, 3, 3, 3, 5, 4, 5, 0] <br> in system: 1.0"
           ],
           "legendgroup": "False, next",
           "line": {
            "color": "#EF553B",
            "dash": "solid"
           },
           "marker": {
            "symbol": "diamond"
           },
           "mode": "lines+markers",
           "name": "False, next",
           "orientation": "v",
           "showlegend": false,
           "type": "scatter",
           "x": [
            0.42045454545454547
           ],
           "xaxis": "x",
           "y": [
            0.76
           ],
           "yaxis": "y"
          },
          {
           "hovertemplate": "<b>%{hovertext}</b><br><br>main=False<br>type=next<br>step=33<br>name=6<br>x=%{x}<br>y=%{y}<extra></extra>",
           "hovertext": [
            "Next node of 6 <br> reward: 0 <br> action: [3, 5, 1, 3, 3, 3, 5, 4, 5, 0] <br> in system: 0.0"
           ],
           "legendgroup": "False, next",
           "line": {
            "color": "#EF553B",
            "dash": "solid"
           },
           "marker": {
            "symbol": "diamond"
           },
           "mode": "lines+markers",
           "name": "False, next",
           "orientation": "v",
           "showlegend": false,
           "type": "scatter",
           "x": [
            0
           ],
           "xaxis": "x",
           "y": [
            0
           ],
           "yaxis": "y"
          },
          {
           "hovertemplate": "<b>%{hovertext}</b><br><br>main=False<br>type=next<br>step=33<br>name=7<br>x=%{x}<br>y=%{y}<extra></extra>",
           "hovertext": [
            "Next node of 7 <br> reward: 0 <br> action: [3, 5, 1, 3, 3, 3, 5, 4, 5, 0] <br> in system: 0.0"
           ],
           "legendgroup": "False, next",
           "line": {
            "color": "#EF553B",
            "dash": "solid"
           },
           "marker": {
            "symbol": "diamond"
           },
           "mode": "lines+markers",
           "name": "False, next",
           "orientation": "v",
           "showlegend": false,
           "type": "scatter",
           "x": [
            0
           ],
           "xaxis": "x",
           "y": [
            0
           ],
           "yaxis": "y"
          },
          {
           "hovertemplate": "<b>%{hovertext}</b><br><br>main=False<br>type=next<br>step=33<br>name=8<br>x=%{x}<br>y=%{y}<extra></extra>",
           "hovertext": [
            "Next node of 8 <br> reward: 0 <br> action: [3, 5, 1, 3, 3, 3, 5, 4, 5, 0] <br> in system: 0.0"
           ],
           "legendgroup": "False, next",
           "line": {
            "color": "#EF553B",
            "dash": "solid"
           },
           "marker": {
            "symbol": "diamond"
           },
           "mode": "lines+markers",
           "name": "False, next",
           "orientation": "v",
           "showlegend": false,
           "type": "scatter",
           "x": [
            0
           ],
           "xaxis": "x",
           "y": [
            0
           ],
           "yaxis": "y"
          },
          {
           "hovertemplate": "<b>%{hovertext}</b><br><br>main=False<br>type=next<br>step=33<br>name=9<br>x=%{x}<br>y=%{y}<extra></extra>",
           "hovertext": [
            "Next node of 9 <br> reward: 0 <br> action: [3, 5, 1, 3, 3, 3, 5, 4, 5, 0] <br> in system: 1.0"
           ],
           "legendgroup": "False, next",
           "line": {
            "color": "#EF553B",
            "dash": "solid"
           },
           "marker": {
            "symbol": "diamond"
           },
           "mode": "lines+markers",
           "name": "False, next",
           "orientation": "v",
           "showlegend": false,
           "type": "scatter",
           "x": [
            0.42045454545454547
           ],
           "xaxis": "x",
           "y": [
            0.76
           ],
           "yaxis": "y"
          }
         ],
         "name": "33"
        },
        {
         "data": [
          {
           "hovertemplate": "<b>%{hovertext}</b><br><br>main=True<br>type=last<br>step=34<br>name=0<br>x=%{x}<br>y=%{y}<extra></extra>",
           "hovertext": [
            "Last node of 0 <br> reward: 0 <br> action: [3, 0, 4, 0, 3, 2, 3, 3, 3, 5] <br> in system: 1.0"
           ],
           "legendgroup": "True, last",
           "line": {
            "color": "#636efa",
            "dash": "solid"
           },
           "marker": {
            "symbol": "circle"
           },
           "mode": "lines+markers",
           "name": "True, last",
           "orientation": "v",
           "showlegend": true,
           "type": "scatter",
           "x": [
            0.9431818181818182
           ],
           "xaxis": "x",
           "y": [
            0.86
           ],
           "yaxis": "y"
          },
          {
           "hovertemplate": "<b>%{hovertext}</b><br><br>main=True<br>type=next<br>step=34<br>name=0<br>x=%{x}<br>y=%{y}<extra></extra>",
           "hovertext": [
            "Next node of 0 <br> reward: 0 <br> action: [3, 0, 4, 0, 3, 2, 3, 3, 3, 5] <br> in system: 1.0"
           ],
           "legendgroup": "True, next",
           "line": {
            "color": "#636efa",
            "dash": "solid"
           },
           "marker": {
            "symbol": "diamond"
           },
           "mode": "lines+markers",
           "name": "True, next",
           "orientation": "v",
           "showlegend": true,
           "type": "scatter",
           "x": [
            1
           ],
           "xaxis": "x",
           "y": [
            0.86
           ],
           "yaxis": "y"
          },
          {
           "hovertemplate": "<b>%{hovertext}</b><br><br>main=False<br>type=last<br>step=34<br>name=1<br>x=%{x}<br>y=%{y}<extra></extra>",
           "hovertext": [
            "Last node of 1 <br> reward: 0 <br> action: [3, 0, 4, 0, 3, 2, 3, 3, 3, 5] <br> in system: 1.0"
           ],
           "legendgroup": "False, last",
           "line": {
            "color": "#EF553B",
            "dash": "solid"
           },
           "marker": {
            "symbol": "circle"
           },
           "mode": "lines+markers",
           "name": "False, last",
           "orientation": "v",
           "showlegend": true,
           "type": "scatter",
           "x": [
            0.6022727272727273
           ],
           "xaxis": "x",
           "y": [
            0.76
           ],
           "yaxis": "y"
          },
          {
           "hovertemplate": "<b>%{hovertext}</b><br><br>main=False<br>type=last<br>step=34<br>name=2<br>x=%{x}<br>y=%{y}<extra></extra>",
           "hovertext": [
            "Last node of 2 <br> reward: 0 <br> action: [3, 0, 4, 0, 3, 2, 3, 3, 3, 5] <br> in system: 1.0"
           ],
           "legendgroup": "False, last",
           "line": {
            "color": "#EF553B",
            "dash": "solid"
           },
           "marker": {
            "symbol": "circle"
           },
           "mode": "lines+markers",
           "name": "False, last",
           "orientation": "v",
           "showlegend": false,
           "type": "scatter",
           "x": [
            0.42045454545454547
           ],
           "xaxis": "x",
           "y": [
            0.86
           ],
           "yaxis": "y"
          },
          {
           "hovertemplate": "<b>%{hovertext}</b><br><br>main=False<br>type=last<br>step=34<br>name=3<br>x=%{x}<br>y=%{y}<extra></extra>",
           "hovertext": [
            "Last node of 3 <br> reward: 0 <br> action: [3, 0, 4, 0, 3, 2, 3, 3, 3, 5] <br> in system: 1.0"
           ],
           "legendgroup": "False, last",
           "line": {
            "color": "#EF553B",
            "dash": "solid"
           },
           "marker": {
            "symbol": "circle"
           },
           "mode": "lines+markers",
           "name": "False, last",
           "orientation": "v",
           "showlegend": false,
           "type": "scatter",
           "x": [
            0.42045454545454547
           ],
           "xaxis": "x",
           "y": [
            0.48
           ],
           "yaxis": "y"
          },
          {
           "hovertemplate": "<b>%{hovertext}</b><br><br>main=False<br>type=last<br>step=34<br>name=4<br>x=%{x}<br>y=%{y}<extra></extra>",
           "hovertext": [
            "Last node of 4 <br> reward: 0 <br> action: [3, 0, 4, 0, 3, 2, 3, 3, 3, 5] <br> in system: 1.0"
           ],
           "legendgroup": "False, last",
           "line": {
            "color": "#EF553B",
            "dash": "solid"
           },
           "marker": {
            "symbol": "circle"
           },
           "mode": "lines+markers",
           "name": "False, last",
           "orientation": "v",
           "showlegend": false,
           "type": "scatter",
           "x": [
            0.9431818181818182
           ],
           "xaxis": "x",
           "y": [
            0.76
           ],
           "yaxis": "y"
          },
          {
           "hovertemplate": "<b>%{hovertext}</b><br><br>main=False<br>type=last<br>step=34<br>name=5<br>x=%{x}<br>y=%{y}<extra></extra>",
           "hovertext": [
            "Last node of 5 <br> reward: 0 <br> action: [3, 0, 4, 0, 3, 2, 3, 3, 3, 5] <br> in system: 0.0"
           ],
           "legendgroup": "False, last",
           "line": {
            "color": "#EF553B",
            "dash": "solid"
           },
           "marker": {
            "symbol": "circle"
           },
           "mode": "lines+markers",
           "name": "False, last",
           "orientation": "v",
           "showlegend": false,
           "type": "scatter",
           "x": [
            0
           ],
           "xaxis": "x",
           "y": [
            0
           ],
           "yaxis": "y"
          },
          {
           "hovertemplate": "<b>%{hovertext}</b><br><br>main=False<br>type=last<br>step=34<br>name=6<br>x=%{x}<br>y=%{y}<extra></extra>",
           "hovertext": [
            "Last node of 6 <br> reward: 0 <br> action: [3, 0, 4, 0, 3, 2, 3, 3, 3, 5] <br> in system: 0.0"
           ],
           "legendgroup": "False, last",
           "line": {
            "color": "#EF553B",
            "dash": "solid"
           },
           "marker": {
            "symbol": "circle"
           },
           "mode": "lines+markers",
           "name": "False, last",
           "orientation": "v",
           "showlegend": false,
           "type": "scatter",
           "x": [
            0
           ],
           "xaxis": "x",
           "y": [
            0
           ],
           "yaxis": "y"
          },
          {
           "hovertemplate": "<b>%{hovertext}</b><br><br>main=False<br>type=last<br>step=34<br>name=7<br>x=%{x}<br>y=%{y}<extra></extra>",
           "hovertext": [
            "Last node of 7 <br> reward: 0 <br> action: [3, 0, 4, 0, 3, 2, 3, 3, 3, 5] <br> in system: 0.0"
           ],
           "legendgroup": "False, last",
           "line": {
            "color": "#EF553B",
            "dash": "solid"
           },
           "marker": {
            "symbol": "circle"
           },
           "mode": "lines+markers",
           "name": "False, last",
           "orientation": "v",
           "showlegend": false,
           "type": "scatter",
           "x": [
            0
           ],
           "xaxis": "x",
           "y": [
            0
           ],
           "yaxis": "y"
          },
          {
           "hovertemplate": "<b>%{hovertext}</b><br><br>main=False<br>type=last<br>step=34<br>name=8<br>x=%{x}<br>y=%{y}<extra></extra>",
           "hovertext": [
            "Last node of 8 <br> reward: 0 <br> action: [3, 0, 4, 0, 3, 2, 3, 3, 3, 5] <br> in system: 1.0"
           ],
           "legendgroup": "False, last",
           "line": {
            "color": "#EF553B",
            "dash": "solid"
           },
           "marker": {
            "symbol": "circle"
           },
           "mode": "lines+markers",
           "name": "False, last",
           "orientation": "v",
           "showlegend": false,
           "type": "scatter",
           "x": [
            0.42045454545454547
           ],
           "xaxis": "x",
           "y": [
            0.48
           ],
           "yaxis": "y"
          },
          {
           "hovertemplate": "<b>%{hovertext}</b><br><br>main=False<br>type=last<br>step=34<br>name=9<br>x=%{x}<br>y=%{y}<extra></extra>",
           "hovertext": [
            "Last node of 9 <br> reward: 0 <br> action: [3, 0, 4, 0, 3, 2, 3, 3, 3, 5] <br> in system: 0.0"
           ],
           "legendgroup": "False, last",
           "line": {
            "color": "#EF553B",
            "dash": "solid"
           },
           "marker": {
            "symbol": "circle"
           },
           "mode": "lines+markers",
           "name": "False, last",
           "orientation": "v",
           "showlegend": false,
           "type": "scatter",
           "x": [
            0
           ],
           "xaxis": "x",
           "y": [
            0
           ],
           "yaxis": "y"
          },
          {
           "hovertemplate": "<b>%{hovertext}</b><br><br>main=False<br>type=next<br>step=34<br>name=1<br>x=%{x}<br>y=%{y}<extra></extra>",
           "hovertext": [
            "Next node of 1 <br> reward: 0 <br> action: [3, 0, 4, 0, 3, 2, 3, 3, 3, 5] <br> in system: 1.0"
           ],
           "legendgroup": "False, next",
           "line": {
            "color": "#EF553B",
            "dash": "solid"
           },
           "marker": {
            "symbol": "diamond"
           },
           "mode": "lines+markers",
           "name": "False, next",
           "orientation": "v",
           "showlegend": true,
           "type": "scatter",
           "x": [
            0.5454545454545454
           ],
           "xaxis": "x",
           "y": [
            0.76
           ],
           "yaxis": "y"
          },
          {
           "hovertemplate": "<b>%{hovertext}</b><br><br>main=False<br>type=next<br>step=34<br>name=2<br>x=%{x}<br>y=%{y}<extra></extra>",
           "hovertext": [
            "Next node of 2 <br> reward: 0 <br> action: [3, 0, 4, 0, 3, 2, 3, 3, 3, 5] <br> in system: 1.0"
           ],
           "legendgroup": "False, next",
           "line": {
            "color": "#EF553B",
            "dash": "solid"
           },
           "marker": {
            "symbol": "diamond"
           },
           "mode": "lines+markers",
           "name": "False, next",
           "orientation": "v",
           "showlegend": false,
           "type": "scatter",
           "x": [
            0.42045454545454547
           ],
           "xaxis": "x",
           "y": [
            0.76
           ],
           "yaxis": "y"
          },
          {
           "hovertemplate": "<b>%{hovertext}</b><br><br>main=False<br>type=next<br>step=34<br>name=3<br>x=%{x}<br>y=%{y}<extra></extra>",
           "hovertext": [
            "Next node of 3 <br> reward: 0 <br> action: [3, 0, 4, 0, 3, 2, 3, 3, 3, 5] <br> in system: 1.0"
           ],
           "legendgroup": "False, next",
           "line": {
            "color": "#EF553B",
            "dash": "solid"
           },
           "marker": {
            "symbol": "diamond"
           },
           "mode": "lines+markers",
           "name": "False, next",
           "orientation": "v",
           "showlegend": false,
           "type": "scatter",
           "x": [
            0.42045454545454547
           ],
           "xaxis": "x",
           "y": [
            0.76
           ],
           "yaxis": "y"
          },
          {
           "hovertemplate": "<b>%{hovertext}</b><br><br>main=False<br>type=next<br>step=34<br>name=4<br>x=%{x}<br>y=%{y}<extra></extra>",
           "hovertext": [
            "Next node of 4 <br> reward: 0 <br> action: [3, 0, 4, 0, 3, 2, 3, 3, 3, 5] <br> in system: 1.0"
           ],
           "legendgroup": "False, next",
           "line": {
            "color": "#EF553B",
            "dash": "solid"
           },
           "marker": {
            "symbol": "diamond"
           },
           "mode": "lines+markers",
           "name": "False, next",
           "orientation": "v",
           "showlegend": false,
           "type": "scatter",
           "x": [
            0.9727272727272728
           ],
           "xaxis": "x",
           "y": [
            0.62
           ],
           "yaxis": "y"
          },
          {
           "hovertemplate": "<b>%{hovertext}</b><br><br>main=False<br>type=next<br>step=34<br>name=5<br>x=%{x}<br>y=%{y}<extra></extra>",
           "hovertext": [
            "Next node of 5 <br> reward: 0 <br> action: [3, 0, 4, 0, 3, 2, 3, 3, 3, 5] <br> in system: 0.0"
           ],
           "legendgroup": "False, next",
           "line": {
            "color": "#EF553B",
            "dash": "solid"
           },
           "marker": {
            "symbol": "diamond"
           },
           "mode": "lines+markers",
           "name": "False, next",
           "orientation": "v",
           "showlegend": false,
           "type": "scatter",
           "x": [
            0
           ],
           "xaxis": "x",
           "y": [
            0
           ],
           "yaxis": "y"
          },
          {
           "hovertemplate": "<b>%{hovertext}</b><br><br>main=False<br>type=next<br>step=34<br>name=6<br>x=%{x}<br>y=%{y}<extra></extra>",
           "hovertext": [
            "Next node of 6 <br> reward: 0 <br> action: [3, 0, 4, 0, 3, 2, 3, 3, 3, 5] <br> in system: 0.0"
           ],
           "legendgroup": "False, next",
           "line": {
            "color": "#EF553B",
            "dash": "solid"
           },
           "marker": {
            "symbol": "diamond"
           },
           "mode": "lines+markers",
           "name": "False, next",
           "orientation": "v",
           "showlegend": false,
           "type": "scatter",
           "x": [
            0
           ],
           "xaxis": "x",
           "y": [
            0
           ],
           "yaxis": "y"
          },
          {
           "hovertemplate": "<b>%{hovertext}</b><br><br>main=False<br>type=next<br>step=34<br>name=7<br>x=%{x}<br>y=%{y}<extra></extra>",
           "hovertext": [
            "Next node of 7 <br> reward: 0 <br> action: [3, 0, 4, 0, 3, 2, 3, 3, 3, 5] <br> in system: 0.0"
           ],
           "legendgroup": "False, next",
           "line": {
            "color": "#EF553B",
            "dash": "solid"
           },
           "marker": {
            "symbol": "diamond"
           },
           "mode": "lines+markers",
           "name": "False, next",
           "orientation": "v",
           "showlegend": false,
           "type": "scatter",
           "x": [
            0
           ],
           "xaxis": "x",
           "y": [
            0
           ],
           "yaxis": "y"
          },
          {
           "hovertemplate": "<b>%{hovertext}</b><br><br>main=False<br>type=next<br>step=34<br>name=8<br>x=%{x}<br>y=%{y}<extra></extra>",
           "hovertext": [
            "Next node of 8 <br> reward: 0 <br> action: [3, 0, 4, 0, 3, 2, 3, 3, 3, 5] <br> in system: 1.0"
           ],
           "legendgroup": "False, next",
           "line": {
            "color": "#EF553B",
            "dash": "solid"
           },
           "marker": {
            "symbol": "diamond"
           },
           "mode": "lines+markers",
           "name": "False, next",
           "orientation": "v",
           "showlegend": false,
           "type": "scatter",
           "x": [
            0.42045454545454547
           ],
           "xaxis": "x",
           "y": [
            0.76
           ],
           "yaxis": "y"
          },
          {
           "hovertemplate": "<b>%{hovertext}</b><br><br>main=False<br>type=next<br>step=34<br>name=9<br>x=%{x}<br>y=%{y}<extra></extra>",
           "hovertext": [
            "Next node of 9 <br> reward: 0 <br> action: [3, 0, 4, 0, 3, 2, 3, 3, 3, 5] <br> in system: 0.0"
           ],
           "legendgroup": "False, next",
           "line": {
            "color": "#EF553B",
            "dash": "solid"
           },
           "marker": {
            "symbol": "diamond"
           },
           "mode": "lines+markers",
           "name": "False, next",
           "orientation": "v",
           "showlegend": false,
           "type": "scatter",
           "x": [
            0
           ],
           "xaxis": "x",
           "y": [
            0
           ],
           "yaxis": "y"
          }
         ],
         "name": "34"
        },
        {
         "data": [
          {
           "hovertemplate": "<b>%{hovertext}</b><br><br>main=True<br>type=last<br>step=35<br>name=0<br>x=%{x}<br>y=%{y}<extra></extra>",
           "hovertext": [
            "Last node of 0 <br> reward: 1.0 <br> action: [2, 4, 5, 5, 2, 1, 0, 2, 5, 5] <br> in system: 1.0"
           ],
           "legendgroup": "True, last",
           "line": {
            "color": "#636efa",
            "dash": "solid"
           },
           "marker": {
            "symbol": "circle"
           },
           "mode": "lines+markers",
           "name": "True, last",
           "orientation": "v",
           "showlegend": true,
           "type": "scatter",
           "x": [
            0.9431818181818182
           ],
           "xaxis": "x",
           "y": [
            0.86
           ],
           "yaxis": "y"
          },
          {
           "hovertemplate": "<b>%{hovertext}</b><br><br>main=True<br>type=next<br>step=35<br>name=0<br>x=%{x}<br>y=%{y}<extra></extra>",
           "hovertext": [
            "Next node of 0 <br> reward: 1.0 <br> action: [2, 4, 5, 5, 2, 1, 0, 2, 5, 5] <br> in system: 1.0"
           ],
           "legendgroup": "True, next",
           "line": {
            "color": "#636efa",
            "dash": "solid"
           },
           "marker": {
            "symbol": "diamond"
           },
           "mode": "lines+markers",
           "name": "True, next",
           "orientation": "v",
           "showlegend": true,
           "type": "scatter",
           "x": [
            1
           ],
           "xaxis": "x",
           "y": [
            0.86
           ],
           "yaxis": "y"
          },
          {
           "hovertemplate": "<b>%{hovertext}</b><br><br>main=False<br>type=last<br>step=35<br>name=1<br>x=%{x}<br>y=%{y}<extra></extra>",
           "hovertext": [
            "Last node of 1 <br> reward: 1.0 <br> action: [2, 4, 5, 5, 2, 1, 0, 2, 5, 5] <br> in system: 0.0"
           ],
           "legendgroup": "False, last",
           "line": {
            "color": "#EF553B",
            "dash": "solid"
           },
           "marker": {
            "symbol": "circle"
           },
           "mode": "lines+markers",
           "name": "False, last",
           "orientation": "v",
           "showlegend": true,
           "type": "scatter",
           "x": [
            0
           ],
           "xaxis": "x",
           "y": [
            0
           ],
           "yaxis": "y"
          },
          {
           "hovertemplate": "<b>%{hovertext}</b><br><br>main=False<br>type=last<br>step=35<br>name=2<br>x=%{x}<br>y=%{y}<extra></extra>",
           "hovertext": [
            "Last node of 2 <br> reward: 1.0 <br> action: [2, 4, 5, 5, 2, 1, 0, 2, 5, 5] <br> in system: 0.0"
           ],
           "legendgroup": "False, last",
           "line": {
            "color": "#EF553B",
            "dash": "solid"
           },
           "marker": {
            "symbol": "circle"
           },
           "mode": "lines+markers",
           "name": "False, last",
           "orientation": "v",
           "showlegend": false,
           "type": "scatter",
           "x": [
            0
           ],
           "xaxis": "x",
           "y": [
            0
           ],
           "yaxis": "y"
          },
          {
           "hovertemplate": "<b>%{hovertext}</b><br><br>main=False<br>type=last<br>step=35<br>name=3<br>x=%{x}<br>y=%{y}<extra></extra>",
           "hovertext": [
            "Last node of 3 <br> reward: 1.0 <br> action: [2, 4, 5, 5, 2, 1, 0, 2, 5, 5] <br> in system: 1.0"
           ],
           "legendgroup": "False, last",
           "line": {
            "color": "#EF553B",
            "dash": "solid"
           },
           "marker": {
            "symbol": "circle"
           },
           "mode": "lines+markers",
           "name": "False, last",
           "orientation": "v",
           "showlegend": false,
           "type": "scatter",
           "x": [
            0.42045454545454547
           ],
           "xaxis": "x",
           "y": [
            0.48
           ],
           "yaxis": "y"
          },
          {
           "hovertemplate": "<b>%{hovertext}</b><br><br>main=False<br>type=last<br>step=35<br>name=4<br>x=%{x}<br>y=%{y}<extra></extra>",
           "hovertext": [
            "Last node of 4 <br> reward: 1.0 <br> action: [2, 4, 5, 5, 2, 1, 0, 2, 5, 5] <br> in system: 1.0"
           ],
           "legendgroup": "False, last",
           "line": {
            "color": "#EF553B",
            "dash": "solid"
           },
           "marker": {
            "symbol": "circle"
           },
           "mode": "lines+markers",
           "name": "False, last",
           "orientation": "v",
           "showlegend": false,
           "type": "scatter",
           "x": [
            0.5454545454545454
           ],
           "xaxis": "x",
           "y": [
            0.76
           ],
           "yaxis": "y"
          },
          {
           "hovertemplate": "<b>%{hovertext}</b><br><br>main=False<br>type=last<br>step=35<br>name=5<br>x=%{x}<br>y=%{y}<extra></extra>",
           "hovertext": [
            "Last node of 5 <br> reward: 1.0 <br> action: [2, 4, 5, 5, 2, 1, 0, 2, 5, 5] <br> in system: 1.0"
           ],
           "legendgroup": "False, last",
           "line": {
            "color": "#EF553B",
            "dash": "solid"
           },
           "marker": {
            "symbol": "circle"
           },
           "mode": "lines+markers",
           "name": "False, last",
           "orientation": "v",
           "showlegend": false,
           "type": "scatter",
           "x": [
            0.42045454545454547
           ],
           "xaxis": "x",
           "y": [
            0.86
           ],
           "yaxis": "y"
          },
          {
           "hovertemplate": "<b>%{hovertext}</b><br><br>main=False<br>type=last<br>step=35<br>name=6<br>x=%{x}<br>y=%{y}<extra></extra>",
           "hovertext": [
            "Last node of 6 <br> reward: 1.0 <br> action: [2, 4, 5, 5, 2, 1, 0, 2, 5, 5] <br> in system: 1.0"
           ],
           "legendgroup": "False, last",
           "line": {
            "color": "#EF553B",
            "dash": "solid"
           },
           "marker": {
            "symbol": "circle"
           },
           "mode": "lines+markers",
           "name": "False, last",
           "orientation": "v",
           "showlegend": false,
           "type": "scatter",
           "x": [
            0.42045454545454547
           ],
           "xaxis": "x",
           "y": [
            0.76
           ],
           "yaxis": "y"
          },
          {
           "hovertemplate": "<b>%{hovertext}</b><br><br>main=False<br>type=last<br>step=35<br>name=7<br>x=%{x}<br>y=%{y}<extra></extra>",
           "hovertext": [
            "Last node of 7 <br> reward: 1.0 <br> action: [2, 4, 5, 5, 2, 1, 0, 2, 5, 5] <br> in system: 0.0"
           ],
           "legendgroup": "False, last",
           "line": {
            "color": "#EF553B",
            "dash": "solid"
           },
           "marker": {
            "symbol": "circle"
           },
           "mode": "lines+markers",
           "name": "False, last",
           "orientation": "v",
           "showlegend": false,
           "type": "scatter",
           "x": [
            0
           ],
           "xaxis": "x",
           "y": [
            0
           ],
           "yaxis": "y"
          },
          {
           "hovertemplate": "<b>%{hovertext}</b><br><br>main=False<br>type=last<br>step=35<br>name=8<br>x=%{x}<br>y=%{y}<extra></extra>",
           "hovertext": [
            "Last node of 8 <br> reward: 1.0 <br> action: [2, 4, 5, 5, 2, 1, 0, 2, 5, 5] <br> in system: 1.0"
           ],
           "legendgroup": "False, last",
           "line": {
            "color": "#EF553B",
            "dash": "solid"
           },
           "marker": {
            "symbol": "circle"
           },
           "mode": "lines+markers",
           "name": "False, last",
           "orientation": "v",
           "showlegend": false,
           "type": "scatter",
           "x": [
            0.9431818181818182
           ],
           "xaxis": "x",
           "y": [
            0.76
           ],
           "yaxis": "y"
          },
          {
           "hovertemplate": "<b>%{hovertext}</b><br><br>main=False<br>type=last<br>step=35<br>name=9<br>x=%{x}<br>y=%{y}<extra></extra>",
           "hovertext": [
            "Last node of 9 <br> reward: 1.0 <br> action: [2, 4, 5, 5, 2, 1, 0, 2, 5, 5] <br> in system: 0.0"
           ],
           "legendgroup": "False, last",
           "line": {
            "color": "#EF553B",
            "dash": "solid"
           },
           "marker": {
            "symbol": "circle"
           },
           "mode": "lines+markers",
           "name": "False, last",
           "orientation": "v",
           "showlegend": false,
           "type": "scatter",
           "x": [
            0
           ],
           "xaxis": "x",
           "y": [
            0
           ],
           "yaxis": "y"
          },
          {
           "hovertemplate": "<b>%{hovertext}</b><br><br>main=False<br>type=next<br>step=35<br>name=1<br>x=%{x}<br>y=%{y}<extra></extra>",
           "hovertext": [
            "Next node of 1 <br> reward: 1.0 <br> action: [2, 4, 5, 5, 2, 1, 0, 2, 5, 5] <br> in system: 0.0"
           ],
           "legendgroup": "False, next",
           "line": {
            "color": "#EF553B",
            "dash": "solid"
           },
           "marker": {
            "symbol": "diamond"
           },
           "mode": "lines+markers",
           "name": "False, next",
           "orientation": "v",
           "showlegend": true,
           "type": "scatter",
           "x": [
            0
           ],
           "xaxis": "x",
           "y": [
            0
           ],
           "yaxis": "y"
          },
          {
           "hovertemplate": "<b>%{hovertext}</b><br><br>main=False<br>type=next<br>step=35<br>name=2<br>x=%{x}<br>y=%{y}<extra></extra>",
           "hovertext": [
            "Next node of 2 <br> reward: 1.0 <br> action: [2, 4, 5, 5, 2, 1, 0, 2, 5, 5] <br> in system: 0.0"
           ],
           "legendgroup": "False, next",
           "line": {
            "color": "#EF553B",
            "dash": "solid"
           },
           "marker": {
            "symbol": "diamond"
           },
           "mode": "lines+markers",
           "name": "False, next",
           "orientation": "v",
           "showlegend": false,
           "type": "scatter",
           "x": [
            0
           ],
           "xaxis": "x",
           "y": [
            0
           ],
           "yaxis": "y"
          },
          {
           "hovertemplate": "<b>%{hovertext}</b><br><br>main=False<br>type=next<br>step=35<br>name=3<br>x=%{x}<br>y=%{y}<extra></extra>",
           "hovertext": [
            "Next node of 3 <br> reward: 1.0 <br> action: [2, 4, 5, 5, 2, 1, 0, 2, 5, 5] <br> in system: 1.0"
           ],
           "legendgroup": "False, next",
           "line": {
            "color": "#EF553B",
            "dash": "solid"
           },
           "marker": {
            "symbol": "diamond"
           },
           "mode": "lines+markers",
           "name": "False, next",
           "orientation": "v",
           "showlegend": false,
           "type": "scatter",
           "x": [
            0.42045454545454547
           ],
           "xaxis": "x",
           "y": [
            0.76
           ],
           "yaxis": "y"
          },
          {
           "hovertemplate": "<b>%{hovertext}</b><br><br>main=False<br>type=next<br>step=35<br>name=4<br>x=%{x}<br>y=%{y}<extra></extra>",
           "hovertext": [
            "Next node of 4 <br> reward: 1.0 <br> action: [2, 4, 5, 5, 2, 1, 0, 2, 5, 5] <br> in system: 1.0"
           ],
           "legendgroup": "False, next",
           "line": {
            "color": "#EF553B",
            "dash": "solid"
           },
           "marker": {
            "symbol": "diamond"
           },
           "mode": "lines+markers",
           "name": "False, next",
           "orientation": "v",
           "showlegend": false,
           "type": "scatter",
           "x": [
            0.5454545454545454
           ],
           "xaxis": "x",
           "y": [
            0.86
           ],
           "yaxis": "y"
          },
          {
           "hovertemplate": "<b>%{hovertext}</b><br><br>main=False<br>type=next<br>step=35<br>name=5<br>x=%{x}<br>y=%{y}<extra></extra>",
           "hovertext": [
            "Next node of 5 <br> reward: 1.0 <br> action: [2, 4, 5, 5, 2, 1, 0, 2, 5, 5] <br> in system: 1.0"
           ],
           "legendgroup": "False, next",
           "line": {
            "color": "#EF553B",
            "dash": "solid"
           },
           "marker": {
            "symbol": "diamond"
           },
           "mode": "lines+markers",
           "name": "False, next",
           "orientation": "v",
           "showlegend": false,
           "type": "scatter",
           "x": [
            0.42045454545454547
           ],
           "xaxis": "x",
           "y": [
            0.76
           ],
           "yaxis": "y"
          },
          {
           "hovertemplate": "<b>%{hovertext}</b><br><br>main=False<br>type=next<br>step=35<br>name=6<br>x=%{x}<br>y=%{y}<extra></extra>",
           "hovertext": [
            "Next node of 6 <br> reward: 1.0 <br> action: [2, 4, 5, 5, 2, 1, 0, 2, 5, 5] <br> in system: 1.0"
           ],
           "legendgroup": "False, next",
           "line": {
            "color": "#EF553B",
            "dash": "solid"
           },
           "marker": {
            "symbol": "diamond"
           },
           "mode": "lines+markers",
           "name": "False, next",
           "orientation": "v",
           "showlegend": false,
           "type": "scatter",
           "x": [
            0.4772727272727273
           ],
           "xaxis": "x",
           "y": [
            0.76
           ],
           "yaxis": "y"
          },
          {
           "hovertemplate": "<b>%{hovertext}</b><br><br>main=False<br>type=next<br>step=35<br>name=7<br>x=%{x}<br>y=%{y}<extra></extra>",
           "hovertext": [
            "Next node of 7 <br> reward: 1.0 <br> action: [2, 4, 5, 5, 2, 1, 0, 2, 5, 5] <br> in system: 0.0"
           ],
           "legendgroup": "False, next",
           "line": {
            "color": "#EF553B",
            "dash": "solid"
           },
           "marker": {
            "symbol": "diamond"
           },
           "mode": "lines+markers",
           "name": "False, next",
           "orientation": "v",
           "showlegend": false,
           "type": "scatter",
           "x": [
            0
           ],
           "xaxis": "x",
           "y": [
            0
           ],
           "yaxis": "y"
          },
          {
           "hovertemplate": "<b>%{hovertext}</b><br><br>main=False<br>type=next<br>step=35<br>name=8<br>x=%{x}<br>y=%{y}<extra></extra>",
           "hovertext": [
            "Next node of 8 <br> reward: 1.0 <br> action: [2, 4, 5, 5, 2, 1, 0, 2, 5, 5] <br> in system: 1.0"
           ],
           "legendgroup": "False, next",
           "line": {
            "color": "#EF553B",
            "dash": "solid"
           },
           "marker": {
            "symbol": "diamond"
           },
           "mode": "lines+markers",
           "name": "False, next",
           "orientation": "v",
           "showlegend": false,
           "type": "scatter",
           "x": [
            0.9727272727272728
           ],
           "xaxis": "x",
           "y": [
            0.62
           ],
           "yaxis": "y"
          },
          {
           "hovertemplate": "<b>%{hovertext}</b><br><br>main=False<br>type=next<br>step=35<br>name=9<br>x=%{x}<br>y=%{y}<extra></extra>",
           "hovertext": [
            "Next node of 9 <br> reward: 1.0 <br> action: [2, 4, 5, 5, 2, 1, 0, 2, 5, 5] <br> in system: 0.0"
           ],
           "legendgroup": "False, next",
           "line": {
            "color": "#EF553B",
            "dash": "solid"
           },
           "marker": {
            "symbol": "diamond"
           },
           "mode": "lines+markers",
           "name": "False, next",
           "orientation": "v",
           "showlegend": false,
           "type": "scatter",
           "x": [
            0
           ],
           "xaxis": "x",
           "y": [
            0
           ],
           "yaxis": "y"
          }
         ],
         "name": "35"
        },
        {
         "data": [
          {
           "hovertemplate": "<b>%{hovertext}</b><br><br>main=True<br>type=last<br>step=36<br>name=0<br>x=%{x}<br>y=%{y}<extra></extra>",
           "hovertext": [
            "Last node of 0 <br> reward: 0 <br> action: [2, 1, 4, 1, 1, 2, 5, 3, 1, 1] <br> in system: 1.0"
           ],
           "legendgroup": "True, last",
           "line": {
            "color": "#636efa",
            "dash": "solid"
           },
           "marker": {
            "symbol": "circle"
           },
           "mode": "lines+markers",
           "name": "True, last",
           "orientation": "v",
           "showlegend": true,
           "type": "scatter",
           "x": [
            1
           ],
           "xaxis": "x",
           "y": [
            0.86
           ],
           "yaxis": "y"
          },
          {
           "hovertemplate": "<b>%{hovertext}</b><br><br>main=True<br>type=next<br>step=36<br>name=0<br>x=%{x}<br>y=%{y}<extra></extra>",
           "hovertext": [
            "Next node of 0 <br> reward: 0 <br> action: [2, 1, 4, 1, 1, 2, 5, 3, 1, 1] <br> in system: 1.0"
           ],
           "legendgroup": "True, next",
           "line": {
            "color": "#636efa",
            "dash": "solid"
           },
           "marker": {
            "symbol": "diamond"
           },
           "mode": "lines+markers",
           "name": "True, next",
           "orientation": "v",
           "showlegend": true,
           "type": "scatter",
           "x": [
            1
           ],
           "xaxis": "x",
           "y": [
            0.76
           ],
           "yaxis": "y"
          },
          {
           "hovertemplate": "<b>%{hovertext}</b><br><br>main=False<br>type=last<br>step=36<br>name=1<br>x=%{x}<br>y=%{y}<extra></extra>",
           "hovertext": [
            "Last node of 1 <br> reward: 0 <br> action: [2, 1, 4, 1, 1, 2, 5, 3, 1, 1] <br> in system: 1.0"
           ],
           "legendgroup": "False, last",
           "line": {
            "color": "#EF553B",
            "dash": "solid"
           },
           "marker": {
            "symbol": "circle"
           },
           "mode": "lines+markers",
           "name": "False, last",
           "orientation": "v",
           "showlegend": true,
           "type": "scatter",
           "x": [
            0.9727272727272728
           ],
           "xaxis": "x",
           "y": [
            0.62
           ],
           "yaxis": "y"
          },
          {
           "hovertemplate": "<b>%{hovertext}</b><br><br>main=False<br>type=last<br>step=36<br>name=2<br>x=%{x}<br>y=%{y}<extra></extra>",
           "hovertext": [
            "Last node of 2 <br> reward: 0 <br> action: [2, 1, 4, 1, 1, 2, 5, 3, 1, 1] <br> in system: 0.0"
           ],
           "legendgroup": "False, last",
           "line": {
            "color": "#EF553B",
            "dash": "solid"
           },
           "marker": {
            "symbol": "circle"
           },
           "mode": "lines+markers",
           "name": "False, last",
           "orientation": "v",
           "showlegend": false,
           "type": "scatter",
           "x": [
            0
           ],
           "xaxis": "x",
           "y": [
            0
           ],
           "yaxis": "y"
          },
          {
           "hovertemplate": "<b>%{hovertext}</b><br><br>main=False<br>type=last<br>step=36<br>name=3<br>x=%{x}<br>y=%{y}<extra></extra>",
           "hovertext": [
            "Last node of 3 <br> reward: 0 <br> action: [2, 1, 4, 1, 1, 2, 5, 3, 1, 1] <br> in system: 1.0"
           ],
           "legendgroup": "False, last",
           "line": {
            "color": "#EF553B",
            "dash": "solid"
           },
           "marker": {
            "symbol": "circle"
           },
           "mode": "lines+markers",
           "name": "False, last",
           "orientation": "v",
           "showlegend": false,
           "type": "scatter",
           "x": [
            0.42045454545454547
           ],
           "xaxis": "x",
           "y": [
            0.76
           ],
           "yaxis": "y"
          },
          {
           "hovertemplate": "<b>%{hovertext}</b><br><br>main=False<br>type=last<br>step=36<br>name=4<br>x=%{x}<br>y=%{y}<extra></extra>",
           "hovertext": [
            "Last node of 4 <br> reward: 0 <br> action: [2, 1, 4, 1, 1, 2, 5, 3, 1, 1] <br> in system: 0.0"
           ],
           "legendgroup": "False, last",
           "line": {
            "color": "#EF553B",
            "dash": "solid"
           },
           "marker": {
            "symbol": "circle"
           },
           "mode": "lines+markers",
           "name": "False, last",
           "orientation": "v",
           "showlegend": false,
           "type": "scatter",
           "x": [
            0
           ],
           "xaxis": "x",
           "y": [
            0
           ],
           "yaxis": "y"
          },
          {
           "hovertemplate": "<b>%{hovertext}</b><br><br>main=False<br>type=last<br>step=36<br>name=5<br>x=%{x}<br>y=%{y}<extra></extra>",
           "hovertext": [
            "Last node of 5 <br> reward: 0 <br> action: [2, 1, 4, 1, 1, 2, 5, 3, 1, 1] <br> in system: 1.0"
           ],
           "legendgroup": "False, last",
           "line": {
            "color": "#EF553B",
            "dash": "solid"
           },
           "marker": {
            "symbol": "circle"
           },
           "mode": "lines+markers",
           "name": "False, last",
           "orientation": "v",
           "showlegend": false,
           "type": "scatter",
           "x": [
            0.42045454545454547
           ],
           "xaxis": "x",
           "y": [
            0.48
           ],
           "yaxis": "y"
          },
          {
           "hovertemplate": "<b>%{hovertext}</b><br><br>main=False<br>type=last<br>step=36<br>name=6<br>x=%{x}<br>y=%{y}<extra></extra>",
           "hovertext": [
            "Last node of 6 <br> reward: 0 <br> action: [2, 1, 4, 1, 1, 2, 5, 3, 1, 1] <br> in system: 1.0"
           ],
           "legendgroup": "False, last",
           "line": {
            "color": "#EF553B",
            "dash": "solid"
           },
           "marker": {
            "symbol": "circle"
           },
           "mode": "lines+markers",
           "name": "False, last",
           "orientation": "v",
           "showlegend": false,
           "type": "scatter",
           "x": [
            0.42045454545454547
           ],
           "xaxis": "x",
           "y": [
            0.86
           ],
           "yaxis": "y"
          },
          {
           "hovertemplate": "<b>%{hovertext}</b><br><br>main=False<br>type=last<br>step=36<br>name=7<br>x=%{x}<br>y=%{y}<extra></extra>",
           "hovertext": [
            "Last node of 7 <br> reward: 0 <br> action: [2, 1, 4, 1, 1, 2, 5, 3, 1, 1] <br> in system: 0.0"
           ],
           "legendgroup": "False, last",
           "line": {
            "color": "#EF553B",
            "dash": "solid"
           },
           "marker": {
            "symbol": "circle"
           },
           "mode": "lines+markers",
           "name": "False, last",
           "orientation": "v",
           "showlegend": false,
           "type": "scatter",
           "x": [
            0
           ],
           "xaxis": "x",
           "y": [
            0
           ],
           "yaxis": "y"
          },
          {
           "hovertemplate": "<b>%{hovertext}</b><br><br>main=False<br>type=last<br>step=36<br>name=8<br>x=%{x}<br>y=%{y}<extra></extra>",
           "hovertext": [
            "Last node of 8 <br> reward: 0 <br> action: [2, 1, 4, 1, 1, 2, 5, 3, 1, 1] <br> in system: 1.0"
           ],
           "legendgroup": "False, last",
           "line": {
            "color": "#EF553B",
            "dash": "solid"
           },
           "marker": {
            "symbol": "circle"
           },
           "mode": "lines+markers",
           "name": "False, last",
           "orientation": "v",
           "showlegend": false,
           "type": "scatter",
           "x": [
            0.5454545454545454
           ],
           "xaxis": "x",
           "y": [
            0.76
           ],
           "yaxis": "y"
          },
          {
           "hovertemplate": "<b>%{hovertext}</b><br><br>main=False<br>type=last<br>step=36<br>name=9<br>x=%{x}<br>y=%{y}<extra></extra>",
           "hovertext": [
            "Last node of 9 <br> reward: 0 <br> action: [2, 1, 4, 1, 1, 2, 5, 3, 1, 1] <br> in system: 0.0"
           ],
           "legendgroup": "False, last",
           "line": {
            "color": "#EF553B",
            "dash": "solid"
           },
           "marker": {
            "symbol": "circle"
           },
           "mode": "lines+markers",
           "name": "False, last",
           "orientation": "v",
           "showlegend": false,
           "type": "scatter",
           "x": [
            0
           ],
           "xaxis": "x",
           "y": [
            0
           ],
           "yaxis": "y"
          },
          {
           "hovertemplate": "<b>%{hovertext}</b><br><br>main=False<br>type=next<br>step=36<br>name=1<br>x=%{x}<br>y=%{y}<extra></extra>",
           "hovertext": [
            "Next node of 1 <br> reward: 0 <br> action: [2, 1, 4, 1, 1, 2, 5, 3, 1, 1] <br> in system: 1.0"
           ],
           "legendgroup": "False, next",
           "line": {
            "color": "#EF553B",
            "dash": "solid"
           },
           "marker": {
            "symbol": "diamond"
           },
           "mode": "lines+markers",
           "name": "False, next",
           "orientation": "v",
           "showlegend": true,
           "type": "scatter",
           "x": [
            1
           ],
           "xaxis": "x",
           "y": [
            0.76
           ],
           "yaxis": "y"
          },
          {
           "hovertemplate": "<b>%{hovertext}</b><br><br>main=False<br>type=next<br>step=36<br>name=2<br>x=%{x}<br>y=%{y}<extra></extra>",
           "hovertext": [
            "Next node of 2 <br> reward: 0 <br> action: [2, 1, 4, 1, 1, 2, 5, 3, 1, 1] <br> in system: 0.0"
           ],
           "legendgroup": "False, next",
           "line": {
            "color": "#EF553B",
            "dash": "solid"
           },
           "marker": {
            "symbol": "diamond"
           },
           "mode": "lines+markers",
           "name": "False, next",
           "orientation": "v",
           "showlegend": false,
           "type": "scatter",
           "x": [
            0
           ],
           "xaxis": "x",
           "y": [
            0
           ],
           "yaxis": "y"
          },
          {
           "hovertemplate": "<b>%{hovertext}</b><br><br>main=False<br>type=next<br>step=36<br>name=3<br>x=%{x}<br>y=%{y}<extra></extra>",
           "hovertext": [
            "Next node of 3 <br> reward: 0 <br> action: [2, 1, 4, 1, 1, 2, 5, 3, 1, 1] <br> in system: 1.0"
           ],
           "legendgroup": "False, next",
           "line": {
            "color": "#EF553B",
            "dash": "solid"
           },
           "marker": {
            "symbol": "diamond"
           },
           "mode": "lines+markers",
           "name": "False, next",
           "orientation": "v",
           "showlegend": false,
           "type": "scatter",
           "x": [
            0.4772727272727273
           ],
           "xaxis": "x",
           "y": [
            0.76
           ],
           "yaxis": "y"
          },
          {
           "hovertemplate": "<b>%{hovertext}</b><br><br>main=False<br>type=next<br>step=36<br>name=4<br>x=%{x}<br>y=%{y}<extra></extra>",
           "hovertext": [
            "Next node of 4 <br> reward: 0 <br> action: [2, 1, 4, 1, 1, 2, 5, 3, 1, 1] <br> in system: 0.0"
           ],
           "legendgroup": "False, next",
           "line": {
            "color": "#EF553B",
            "dash": "solid"
           },
           "marker": {
            "symbol": "diamond"
           },
           "mode": "lines+markers",
           "name": "False, next",
           "orientation": "v",
           "showlegend": false,
           "type": "scatter",
           "x": [
            0
           ],
           "xaxis": "x",
           "y": [
            0
           ],
           "yaxis": "y"
          },
          {
           "hovertemplate": "<b>%{hovertext}</b><br><br>main=False<br>type=next<br>step=36<br>name=5<br>x=%{x}<br>y=%{y}<extra></extra>",
           "hovertext": [
            "Next node of 5 <br> reward: 0 <br> action: [2, 1, 4, 1, 1, 2, 5, 3, 1, 1] <br> in system: 1.0"
           ],
           "legendgroup": "False, next",
           "line": {
            "color": "#EF553B",
            "dash": "solid"
           },
           "marker": {
            "symbol": "diamond"
           },
           "mode": "lines+markers",
           "name": "False, next",
           "orientation": "v",
           "showlegend": false,
           "type": "scatter",
           "x": [
            0.42045454545454547
           ],
           "xaxis": "x",
           "y": [
            0.76
           ],
           "yaxis": "y"
          },
          {
           "hovertemplate": "<b>%{hovertext}</b><br><br>main=False<br>type=next<br>step=36<br>name=6<br>x=%{x}<br>y=%{y}<extra></extra>",
           "hovertext": [
            "Next node of 6 <br> reward: 0 <br> action: [2, 1, 4, 1, 1, 2, 5, 3, 1, 1] <br> in system: 1.0"
           ],
           "legendgroup": "False, next",
           "line": {
            "color": "#EF553B",
            "dash": "solid"
           },
           "marker": {
            "symbol": "diamond"
           },
           "mode": "lines+markers",
           "name": "False, next",
           "orientation": "v",
           "showlegend": false,
           "type": "scatter",
           "x": [
            0.42045454545454547
           ],
           "xaxis": "x",
           "y": [
            0.76
           ],
           "yaxis": "y"
          },
          {
           "hovertemplate": "<b>%{hovertext}</b><br><br>main=False<br>type=next<br>step=36<br>name=7<br>x=%{x}<br>y=%{y}<extra></extra>",
           "hovertext": [
            "Next node of 7 <br> reward: 0 <br> action: [2, 1, 4, 1, 1, 2, 5, 3, 1, 1] <br> in system: 0.0"
           ],
           "legendgroup": "False, next",
           "line": {
            "color": "#EF553B",
            "dash": "solid"
           },
           "marker": {
            "symbol": "diamond"
           },
           "mode": "lines+markers",
           "name": "False, next",
           "orientation": "v",
           "showlegend": false,
           "type": "scatter",
           "x": [
            0
           ],
           "xaxis": "x",
           "y": [
            0
           ],
           "yaxis": "y"
          },
          {
           "hovertemplate": "<b>%{hovertext}</b><br><br>main=False<br>type=next<br>step=36<br>name=8<br>x=%{x}<br>y=%{y}<extra></extra>",
           "hovertext": [
            "Next node of 8 <br> reward: 0 <br> action: [2, 1, 4, 1, 1, 2, 5, 3, 1, 1] <br> in system: 1.0"
           ],
           "legendgroup": "False, next",
           "line": {
            "color": "#EF553B",
            "dash": "solid"
           },
           "marker": {
            "symbol": "diamond"
           },
           "mode": "lines+markers",
           "name": "False, next",
           "orientation": "v",
           "showlegend": false,
           "type": "scatter",
           "x": [
            0.5454545454545454
           ],
           "xaxis": "x",
           "y": [
            0.86
           ],
           "yaxis": "y"
          },
          {
           "hovertemplate": "<b>%{hovertext}</b><br><br>main=False<br>type=next<br>step=36<br>name=9<br>x=%{x}<br>y=%{y}<extra></extra>",
           "hovertext": [
            "Next node of 9 <br> reward: 0 <br> action: [2, 1, 4, 1, 1, 2, 5, 3, 1, 1] <br> in system: 0.0"
           ],
           "legendgroup": "False, next",
           "line": {
            "color": "#EF553B",
            "dash": "solid"
           },
           "marker": {
            "symbol": "diamond"
           },
           "mode": "lines+markers",
           "name": "False, next",
           "orientation": "v",
           "showlegend": false,
           "type": "scatter",
           "x": [
            0
           ],
           "xaxis": "x",
           "y": [
            0
           ],
           "yaxis": "y"
          }
         ],
         "name": "36"
        },
        {
         "data": [
          {
           "hovertemplate": "<b>%{hovertext}</b><br><br>main=True<br>type=last<br>step=37<br>name=0<br>x=%{x}<br>y=%{y}<extra></extra>",
           "hovertext": [
            "Last node of 0 <br> reward: 0 <br> action: [2, 4, 3, 3, 4, 3, 4, 4, 5, 2] <br> in system: 0.0"
           ],
           "legendgroup": "True, last",
           "line": {
            "color": "#636efa",
            "dash": "solid"
           },
           "marker": {
            "symbol": "circle"
           },
           "mode": "lines+markers",
           "name": "True, last",
           "orientation": "v",
           "showlegend": true,
           "type": "scatter",
           "x": [
            1
           ],
           "xaxis": "x",
           "y": [
            0.76
           ],
           "yaxis": "y"
          },
          {
           "hovertemplate": "<b>%{hovertext}</b><br><br>main=True<br>type=next<br>step=37<br>name=0<br>x=%{x}<br>y=%{y}<extra></extra>",
           "hovertext": [
            "Next node of 0 <br> reward: 0 <br> action: [2, 4, 3, 3, 4, 3, 4, 4, 5, 2] <br> in system: 0.0"
           ],
           "legendgroup": "True, next",
           "line": {
            "color": "#636efa",
            "dash": "solid"
           },
           "marker": {
            "symbol": "diamond"
           },
           "mode": "lines+markers",
           "name": "True, next",
           "orientation": "v",
           "showlegend": true,
           "type": "scatter",
           "x": [
            0.9727272727272728
           ],
           "xaxis": "x",
           "y": [
            0.62
           ],
           "yaxis": "y"
          },
          {
           "hovertemplate": "<b>%{hovertext}</b><br><br>main=False<br>type=last<br>step=37<br>name=1<br>x=%{x}<br>y=%{y}<extra></extra>",
           "hovertext": [
            "Last node of 1 <br> reward: 0 <br> action: [2, 4, 3, 3, 4, 3, 4, 4, 5, 2] <br> in system: 0.0"
           ],
           "legendgroup": "False, last",
           "line": {
            "color": "#EF553B",
            "dash": "solid"
           },
           "marker": {
            "symbol": "circle"
           },
           "mode": "lines+markers",
           "name": "False, last",
           "orientation": "v",
           "showlegend": true,
           "type": "scatter",
           "x": [
            0
           ],
           "xaxis": "x",
           "y": [
            0
           ],
           "yaxis": "y"
          },
          {
           "hovertemplate": "<b>%{hovertext}</b><br><br>main=False<br>type=last<br>step=37<br>name=2<br>x=%{x}<br>y=%{y}<extra></extra>",
           "hovertext": [
            "Last node of 2 <br> reward: 0 <br> action: [2, 4, 3, 3, 4, 3, 4, 4, 5, 2] <br> in system: 0.0"
           ],
           "legendgroup": "False, last",
           "line": {
            "color": "#EF553B",
            "dash": "solid"
           },
           "marker": {
            "symbol": "circle"
           },
           "mode": "lines+markers",
           "name": "False, last",
           "orientation": "v",
           "showlegend": false,
           "type": "scatter",
           "x": [
            0
           ],
           "xaxis": "x",
           "y": [
            0
           ],
           "yaxis": "y"
          },
          {
           "hovertemplate": "<b>%{hovertext}</b><br><br>main=False<br>type=last<br>step=37<br>name=3<br>x=%{x}<br>y=%{y}<extra></extra>",
           "hovertext": [
            "Last node of 3 <br> reward: 0 <br> action: [2, 4, 3, 3, 4, 3, 4, 4, 5, 2] <br> in system: 0.0"
           ],
           "legendgroup": "False, last",
           "line": {
            "color": "#EF553B",
            "dash": "solid"
           },
           "marker": {
            "symbol": "circle"
           },
           "mode": "lines+markers",
           "name": "False, last",
           "orientation": "v",
           "showlegend": false,
           "type": "scatter",
           "x": [
            0
           ],
           "xaxis": "x",
           "y": [
            0
           ],
           "yaxis": "y"
          },
          {
           "hovertemplate": "<b>%{hovertext}</b><br><br>main=False<br>type=last<br>step=37<br>name=4<br>x=%{x}<br>y=%{y}<extra></extra>",
           "hovertext": [
            "Last node of 4 <br> reward: 0 <br> action: [2, 4, 3, 3, 4, 3, 4, 4, 5, 2] <br> in system: 1.0"
           ],
           "legendgroup": "False, last",
           "line": {
            "color": "#EF553B",
            "dash": "solid"
           },
           "marker": {
            "symbol": "circle"
           },
           "mode": "lines+markers",
           "name": "False, last",
           "orientation": "v",
           "showlegend": false,
           "type": "scatter",
           "x": [
            0.42045454545454547
           ],
           "xaxis": "x",
           "y": [
            0.48
           ],
           "yaxis": "y"
          },
          {
           "hovertemplate": "<b>%{hovertext}</b><br><br>main=False<br>type=last<br>step=37<br>name=5<br>x=%{x}<br>y=%{y}<extra></extra>",
           "hovertext": [
            "Last node of 5 <br> reward: 0 <br> action: [2, 4, 3, 3, 4, 3, 4, 4, 5, 2] <br> in system: 1.0"
           ],
           "legendgroup": "False, last",
           "line": {
            "color": "#EF553B",
            "dash": "solid"
           },
           "marker": {
            "symbol": "circle"
           },
           "mode": "lines+markers",
           "name": "False, last",
           "orientation": "v",
           "showlegend": false,
           "type": "scatter",
           "x": [
            0.42045454545454547
           ],
           "xaxis": "x",
           "y": [
            0.76
           ],
           "yaxis": "y"
          },
          {
           "hovertemplate": "<b>%{hovertext}</b><br><br>main=False<br>type=last<br>step=37<br>name=6<br>x=%{x}<br>y=%{y}<extra></extra>",
           "hovertext": [
            "Last node of 6 <br> reward: 0 <br> action: [2, 4, 3, 3, 4, 3, 4, 4, 5, 2] <br> in system: 1.0"
           ],
           "legendgroup": "False, last",
           "line": {
            "color": "#EF553B",
            "dash": "solid"
           },
           "marker": {
            "symbol": "circle"
           },
           "mode": "lines+markers",
           "name": "False, last",
           "orientation": "v",
           "showlegend": false,
           "type": "scatter",
           "x": [
            0.42045454545454547
           ],
           "xaxis": "x",
           "y": [
            0.86
           ],
           "yaxis": "y"
          },
          {
           "hovertemplate": "<b>%{hovertext}</b><br><br>main=False<br>type=last<br>step=37<br>name=7<br>x=%{x}<br>y=%{y}<extra></extra>",
           "hovertext": [
            "Last node of 7 <br> reward: 0 <br> action: [2, 4, 3, 3, 4, 3, 4, 4, 5, 2] <br> in system: 1.0"
           ],
           "legendgroup": "False, last",
           "line": {
            "color": "#EF553B",
            "dash": "solid"
           },
           "marker": {
            "symbol": "circle"
           },
           "mode": "lines+markers",
           "name": "False, last",
           "orientation": "v",
           "showlegend": false,
           "type": "scatter",
           "x": [
            0.5454545454545454
           ],
           "xaxis": "x",
           "y": [
            0.76
           ],
           "yaxis": "y"
          },
          {
           "hovertemplate": "<b>%{hovertext}</b><br><br>main=False<br>type=last<br>step=37<br>name=8<br>x=%{x}<br>y=%{y}<extra></extra>",
           "hovertext": [
            "Last node of 8 <br> reward: 0 <br> action: [2, 4, 3, 3, 4, 3, 4, 4, 5, 2] <br> in system: 1.0"
           ],
           "legendgroup": "False, last",
           "line": {
            "color": "#EF553B",
            "dash": "solid"
           },
           "marker": {
            "symbol": "circle"
           },
           "mode": "lines+markers",
           "name": "False, last",
           "orientation": "v",
           "showlegend": false,
           "type": "scatter",
           "x": [
            0.9727272727272728
           ],
           "xaxis": "x",
           "y": [
            0.62
           ],
           "yaxis": "y"
          },
          {
           "hovertemplate": "<b>%{hovertext}</b><br><br>main=False<br>type=last<br>step=37<br>name=9<br>x=%{x}<br>y=%{y}<extra></extra>",
           "hovertext": [
            "Last node of 9 <br> reward: 0 <br> action: [2, 4, 3, 3, 4, 3, 4, 4, 5, 2] <br> in system: 0.0"
           ],
           "legendgroup": "False, last",
           "line": {
            "color": "#EF553B",
            "dash": "solid"
           },
           "marker": {
            "symbol": "circle"
           },
           "mode": "lines+markers",
           "name": "False, last",
           "orientation": "v",
           "showlegend": false,
           "type": "scatter",
           "x": [
            0
           ],
           "xaxis": "x",
           "y": [
            0
           ],
           "yaxis": "y"
          },
          {
           "hovertemplate": "<b>%{hovertext}</b><br><br>main=False<br>type=next<br>step=37<br>name=1<br>x=%{x}<br>y=%{y}<extra></extra>",
           "hovertext": [
            "Next node of 1 <br> reward: 0 <br> action: [2, 4, 3, 3, 4, 3, 4, 4, 5, 2] <br> in system: 0.0"
           ],
           "legendgroup": "False, next",
           "line": {
            "color": "#EF553B",
            "dash": "solid"
           },
           "marker": {
            "symbol": "diamond"
           },
           "mode": "lines+markers",
           "name": "False, next",
           "orientation": "v",
           "showlegend": true,
           "type": "scatter",
           "x": [
            0
           ],
           "xaxis": "x",
           "y": [
            0
           ],
           "yaxis": "y"
          },
          {
           "hovertemplate": "<b>%{hovertext}</b><br><br>main=False<br>type=next<br>step=37<br>name=2<br>x=%{x}<br>y=%{y}<extra></extra>",
           "hovertext": [
            "Next node of 2 <br> reward: 0 <br> action: [2, 4, 3, 3, 4, 3, 4, 4, 5, 2] <br> in system: 0.0"
           ],
           "legendgroup": "False, next",
           "line": {
            "color": "#EF553B",
            "dash": "solid"
           },
           "marker": {
            "symbol": "diamond"
           },
           "mode": "lines+markers",
           "name": "False, next",
           "orientation": "v",
           "showlegend": false,
           "type": "scatter",
           "x": [
            0
           ],
           "xaxis": "x",
           "y": [
            0
           ],
           "yaxis": "y"
          },
          {
           "hovertemplate": "<b>%{hovertext}</b><br><br>main=False<br>type=next<br>step=37<br>name=3<br>x=%{x}<br>y=%{y}<extra></extra>",
           "hovertext": [
            "Next node of 3 <br> reward: 0 <br> action: [2, 4, 3, 3, 4, 3, 4, 4, 5, 2] <br> in system: 0.0"
           ],
           "legendgroup": "False, next",
           "line": {
            "color": "#EF553B",
            "dash": "solid"
           },
           "marker": {
            "symbol": "diamond"
           },
           "mode": "lines+markers",
           "name": "False, next",
           "orientation": "v",
           "showlegend": false,
           "type": "scatter",
           "x": [
            0
           ],
           "xaxis": "x",
           "y": [
            0
           ],
           "yaxis": "y"
          },
          {
           "hovertemplate": "<b>%{hovertext}</b><br><br>main=False<br>type=next<br>step=37<br>name=4<br>x=%{x}<br>y=%{y}<extra></extra>",
           "hovertext": [
            "Next node of 4 <br> reward: 0 <br> action: [2, 4, 3, 3, 4, 3, 4, 4, 5, 2] <br> in system: 1.0"
           ],
           "legendgroup": "False, next",
           "line": {
            "color": "#EF553B",
            "dash": "solid"
           },
           "marker": {
            "symbol": "diamond"
           },
           "mode": "lines+markers",
           "name": "False, next",
           "orientation": "v",
           "showlegend": false,
           "type": "scatter",
           "x": [
            0.42045454545454547
           ],
           "xaxis": "x",
           "y": [
            0.76
           ],
           "yaxis": "y"
          },
          {
           "hovertemplate": "<b>%{hovertext}</b><br><br>main=False<br>type=next<br>step=37<br>name=5<br>x=%{x}<br>y=%{y}<extra></extra>",
           "hovertext": [
            "Next node of 5 <br> reward: 0 <br> action: [2, 4, 3, 3, 4, 3, 4, 4, 5, 2] <br> in system: 1.0"
           ],
           "legendgroup": "False, next",
           "line": {
            "color": "#EF553B",
            "dash": "solid"
           },
           "marker": {
            "symbol": "diamond"
           },
           "mode": "lines+markers",
           "name": "False, next",
           "orientation": "v",
           "showlegend": false,
           "type": "scatter",
           "x": [
            0.4772727272727273
           ],
           "xaxis": "x",
           "y": [
            0.76
           ],
           "yaxis": "y"
          },
          {
           "hovertemplate": "<b>%{hovertext}</b><br><br>main=False<br>type=next<br>step=37<br>name=6<br>x=%{x}<br>y=%{y}<extra></extra>",
           "hovertext": [
            "Next node of 6 <br> reward: 0 <br> action: [2, 4, 3, 3, 4, 3, 4, 4, 5, 2] <br> in system: 1.0"
           ],
           "legendgroup": "False, next",
           "line": {
            "color": "#EF553B",
            "dash": "solid"
           },
           "marker": {
            "symbol": "diamond"
           },
           "mode": "lines+markers",
           "name": "False, next",
           "orientation": "v",
           "showlegend": false,
           "type": "scatter",
           "x": [
            0.42045454545454547
           ],
           "xaxis": "x",
           "y": [
            0.76
           ],
           "yaxis": "y"
          },
          {
           "hovertemplate": "<b>%{hovertext}</b><br><br>main=False<br>type=next<br>step=37<br>name=7<br>x=%{x}<br>y=%{y}<extra></extra>",
           "hovertext": [
            "Next node of 7 <br> reward: 0 <br> action: [2, 4, 3, 3, 4, 3, 4, 4, 5, 2] <br> in system: 1.0"
           ],
           "legendgroup": "False, next",
           "line": {
            "color": "#EF553B",
            "dash": "solid"
           },
           "marker": {
            "symbol": "diamond"
           },
           "mode": "lines+markers",
           "name": "False, next",
           "orientation": "v",
           "showlegend": false,
           "type": "scatter",
           "x": [
            0.5454545454545454
           ],
           "xaxis": "x",
           "y": [
            0.86
           ],
           "yaxis": "y"
          },
          {
           "hovertemplate": "<b>%{hovertext}</b><br><br>main=False<br>type=next<br>step=37<br>name=8<br>x=%{x}<br>y=%{y}<extra></extra>",
           "hovertext": [
            "Next node of 8 <br> reward: 0 <br> action: [2, 4, 3, 3, 4, 3, 4, 4, 5, 2] <br> in system: 1.0"
           ],
           "legendgroup": "False, next",
           "line": {
            "color": "#EF553B",
            "dash": "solid"
           },
           "marker": {
            "symbol": "diamond"
           },
           "mode": "lines+markers",
           "name": "False, next",
           "orientation": "v",
           "showlegend": false,
           "type": "scatter",
           "x": [
            1
           ],
           "xaxis": "x",
           "y": [
            0.76
           ],
           "yaxis": "y"
          },
          {
           "hovertemplate": "<b>%{hovertext}</b><br><br>main=False<br>type=next<br>step=37<br>name=9<br>x=%{x}<br>y=%{y}<extra></extra>",
           "hovertext": [
            "Next node of 9 <br> reward: 0 <br> action: [2, 4, 3, 3, 4, 3, 4, 4, 5, 2] <br> in system: 0.0"
           ],
           "legendgroup": "False, next",
           "line": {
            "color": "#EF553B",
            "dash": "solid"
           },
           "marker": {
            "symbol": "diamond"
           },
           "mode": "lines+markers",
           "name": "False, next",
           "orientation": "v",
           "showlegend": false,
           "type": "scatter",
           "x": [
            0
           ],
           "xaxis": "x",
           "y": [
            0
           ],
           "yaxis": "y"
          }
         ],
         "name": "37"
        }
       ],
       "layout": {
        "height": 600,
        "legend": {
         "title": {
          "text": "main, type"
         },
         "tracegroupgap": 0
        },
        "margin": {
         "t": 60
        },
        "sliders": [
         {
          "active": 0,
          "currentvalue": {
           "prefix": "step="
          },
          "len": 0.9,
          "pad": {
           "b": 10,
           "t": 60
          },
          "steps": [
           {
            "args": [
             [
              "0"
             ],
             {
              "frame": {
               "duration": 0,
               "redraw": false
              },
              "fromcurrent": true,
              "mode": "immediate",
              "transition": {
               "duration": 0,
               "easing": "linear"
              }
             }
            ],
            "label": "0",
            "method": "animate"
           },
           {
            "args": [
             [
              "1"
             ],
             {
              "frame": {
               "duration": 0,
               "redraw": false
              },
              "fromcurrent": true,
              "mode": "immediate",
              "transition": {
               "duration": 0,
               "easing": "linear"
              }
             }
            ],
            "label": "1",
            "method": "animate"
           },
           {
            "args": [
             [
              "2"
             ],
             {
              "frame": {
               "duration": 0,
               "redraw": false
              },
              "fromcurrent": true,
              "mode": "immediate",
              "transition": {
               "duration": 0,
               "easing": "linear"
              }
             }
            ],
            "label": "2",
            "method": "animate"
           },
           {
            "args": [
             [
              "3"
             ],
             {
              "frame": {
               "duration": 0,
               "redraw": false
              },
              "fromcurrent": true,
              "mode": "immediate",
              "transition": {
               "duration": 0,
               "easing": "linear"
              }
             }
            ],
            "label": "3",
            "method": "animate"
           },
           {
            "args": [
             [
              "4"
             ],
             {
              "frame": {
               "duration": 0,
               "redraw": false
              },
              "fromcurrent": true,
              "mode": "immediate",
              "transition": {
               "duration": 0,
               "easing": "linear"
              }
             }
            ],
            "label": "4",
            "method": "animate"
           },
           {
            "args": [
             [
              "5"
             ],
             {
              "frame": {
               "duration": 0,
               "redraw": false
              },
              "fromcurrent": true,
              "mode": "immediate",
              "transition": {
               "duration": 0,
               "easing": "linear"
              }
             }
            ],
            "label": "5",
            "method": "animate"
           },
           {
            "args": [
             [
              "6"
             ],
             {
              "frame": {
               "duration": 0,
               "redraw": false
              },
              "fromcurrent": true,
              "mode": "immediate",
              "transition": {
               "duration": 0,
               "easing": "linear"
              }
             }
            ],
            "label": "6",
            "method": "animate"
           },
           {
            "args": [
             [
              "7"
             ],
             {
              "frame": {
               "duration": 0,
               "redraw": false
              },
              "fromcurrent": true,
              "mode": "immediate",
              "transition": {
               "duration": 0,
               "easing": "linear"
              }
             }
            ],
            "label": "7",
            "method": "animate"
           },
           {
            "args": [
             [
              "8"
             ],
             {
              "frame": {
               "duration": 0,
               "redraw": false
              },
              "fromcurrent": true,
              "mode": "immediate",
              "transition": {
               "duration": 0,
               "easing": "linear"
              }
             }
            ],
            "label": "8",
            "method": "animate"
           },
           {
            "args": [
             [
              "9"
             ],
             {
              "frame": {
               "duration": 0,
               "redraw": false
              },
              "fromcurrent": true,
              "mode": "immediate",
              "transition": {
               "duration": 0,
               "easing": "linear"
              }
             }
            ],
            "label": "9",
            "method": "animate"
           },
           {
            "args": [
             [
              "10"
             ],
             {
              "frame": {
               "duration": 0,
               "redraw": false
              },
              "fromcurrent": true,
              "mode": "immediate",
              "transition": {
               "duration": 0,
               "easing": "linear"
              }
             }
            ],
            "label": "10",
            "method": "animate"
           },
           {
            "args": [
             [
              "11"
             ],
             {
              "frame": {
               "duration": 0,
               "redraw": false
              },
              "fromcurrent": true,
              "mode": "immediate",
              "transition": {
               "duration": 0,
               "easing": "linear"
              }
             }
            ],
            "label": "11",
            "method": "animate"
           },
           {
            "args": [
             [
              "12"
             ],
             {
              "frame": {
               "duration": 0,
               "redraw": false
              },
              "fromcurrent": true,
              "mode": "immediate",
              "transition": {
               "duration": 0,
               "easing": "linear"
              }
             }
            ],
            "label": "12",
            "method": "animate"
           },
           {
            "args": [
             [
              "13"
             ],
             {
              "frame": {
               "duration": 0,
               "redraw": false
              },
              "fromcurrent": true,
              "mode": "immediate",
              "transition": {
               "duration": 0,
               "easing": "linear"
              }
             }
            ],
            "label": "13",
            "method": "animate"
           },
           {
            "args": [
             [
              "14"
             ],
             {
              "frame": {
               "duration": 0,
               "redraw": false
              },
              "fromcurrent": true,
              "mode": "immediate",
              "transition": {
               "duration": 0,
               "easing": "linear"
              }
             }
            ],
            "label": "14",
            "method": "animate"
           },
           {
            "args": [
             [
              "15"
             ],
             {
              "frame": {
               "duration": 0,
               "redraw": false
              },
              "fromcurrent": true,
              "mode": "immediate",
              "transition": {
               "duration": 0,
               "easing": "linear"
              }
             }
            ],
            "label": "15",
            "method": "animate"
           },
           {
            "args": [
             [
              "16"
             ],
             {
              "frame": {
               "duration": 0,
               "redraw": false
              },
              "fromcurrent": true,
              "mode": "immediate",
              "transition": {
               "duration": 0,
               "easing": "linear"
              }
             }
            ],
            "label": "16",
            "method": "animate"
           },
           {
            "args": [
             [
              "17"
             ],
             {
              "frame": {
               "duration": 0,
               "redraw": false
              },
              "fromcurrent": true,
              "mode": "immediate",
              "transition": {
               "duration": 0,
               "easing": "linear"
              }
             }
            ],
            "label": "17",
            "method": "animate"
           },
           {
            "args": [
             [
              "18"
             ],
             {
              "frame": {
               "duration": 0,
               "redraw": false
              },
              "fromcurrent": true,
              "mode": "immediate",
              "transition": {
               "duration": 0,
               "easing": "linear"
              }
             }
            ],
            "label": "18",
            "method": "animate"
           },
           {
            "args": [
             [
              "19"
             ],
             {
              "frame": {
               "duration": 0,
               "redraw": false
              },
              "fromcurrent": true,
              "mode": "immediate",
              "transition": {
               "duration": 0,
               "easing": "linear"
              }
             }
            ],
            "label": "19",
            "method": "animate"
           },
           {
            "args": [
             [
              "20"
             ],
             {
              "frame": {
               "duration": 0,
               "redraw": false
              },
              "fromcurrent": true,
              "mode": "immediate",
              "transition": {
               "duration": 0,
               "easing": "linear"
              }
             }
            ],
            "label": "20",
            "method": "animate"
           },
           {
            "args": [
             [
              "21"
             ],
             {
              "frame": {
               "duration": 0,
               "redraw": false
              },
              "fromcurrent": true,
              "mode": "immediate",
              "transition": {
               "duration": 0,
               "easing": "linear"
              }
             }
            ],
            "label": "21",
            "method": "animate"
           },
           {
            "args": [
             [
              "22"
             ],
             {
              "frame": {
               "duration": 0,
               "redraw": false
              },
              "fromcurrent": true,
              "mode": "immediate",
              "transition": {
               "duration": 0,
               "easing": "linear"
              }
             }
            ],
            "label": "22",
            "method": "animate"
           },
           {
            "args": [
             [
              "23"
             ],
             {
              "frame": {
               "duration": 0,
               "redraw": false
              },
              "fromcurrent": true,
              "mode": "immediate",
              "transition": {
               "duration": 0,
               "easing": "linear"
              }
             }
            ],
            "label": "23",
            "method": "animate"
           },
           {
            "args": [
             [
              "24"
             ],
             {
              "frame": {
               "duration": 0,
               "redraw": false
              },
              "fromcurrent": true,
              "mode": "immediate",
              "transition": {
               "duration": 0,
               "easing": "linear"
              }
             }
            ],
            "label": "24",
            "method": "animate"
           },
           {
            "args": [
             [
              "25"
             ],
             {
              "frame": {
               "duration": 0,
               "redraw": false
              },
              "fromcurrent": true,
              "mode": "immediate",
              "transition": {
               "duration": 0,
               "easing": "linear"
              }
             }
            ],
            "label": "25",
            "method": "animate"
           },
           {
            "args": [
             [
              "26"
             ],
             {
              "frame": {
               "duration": 0,
               "redraw": false
              },
              "fromcurrent": true,
              "mode": "immediate",
              "transition": {
               "duration": 0,
               "easing": "linear"
              }
             }
            ],
            "label": "26",
            "method": "animate"
           },
           {
            "args": [
             [
              "27"
             ],
             {
              "frame": {
               "duration": 0,
               "redraw": false
              },
              "fromcurrent": true,
              "mode": "immediate",
              "transition": {
               "duration": 0,
               "easing": "linear"
              }
             }
            ],
            "label": "27",
            "method": "animate"
           },
           {
            "args": [
             [
              "28"
             ],
             {
              "frame": {
               "duration": 0,
               "redraw": false
              },
              "fromcurrent": true,
              "mode": "immediate",
              "transition": {
               "duration": 0,
               "easing": "linear"
              }
             }
            ],
            "label": "28",
            "method": "animate"
           },
           {
            "args": [
             [
              "29"
             ],
             {
              "frame": {
               "duration": 0,
               "redraw": false
              },
              "fromcurrent": true,
              "mode": "immediate",
              "transition": {
               "duration": 0,
               "easing": "linear"
              }
             }
            ],
            "label": "29",
            "method": "animate"
           },
           {
            "args": [
             [
              "30"
             ],
             {
              "frame": {
               "duration": 0,
               "redraw": false
              },
              "fromcurrent": true,
              "mode": "immediate",
              "transition": {
               "duration": 0,
               "easing": "linear"
              }
             }
            ],
            "label": "30",
            "method": "animate"
           },
           {
            "args": [
             [
              "31"
             ],
             {
              "frame": {
               "duration": 0,
               "redraw": false
              },
              "fromcurrent": true,
              "mode": "immediate",
              "transition": {
               "duration": 0,
               "easing": "linear"
              }
             }
            ],
            "label": "31",
            "method": "animate"
           },
           {
            "args": [
             [
              "32"
             ],
             {
              "frame": {
               "duration": 0,
               "redraw": false
              },
              "fromcurrent": true,
              "mode": "immediate",
              "transition": {
               "duration": 0,
               "easing": "linear"
              }
             }
            ],
            "label": "32",
            "method": "animate"
           },
           {
            "args": [
             [
              "33"
             ],
             {
              "frame": {
               "duration": 0,
               "redraw": false
              },
              "fromcurrent": true,
              "mode": "immediate",
              "transition": {
               "duration": 0,
               "easing": "linear"
              }
             }
            ],
            "label": "33",
            "method": "animate"
           },
           {
            "args": [
             [
              "34"
             ],
             {
              "frame": {
               "duration": 0,
               "redraw": false
              },
              "fromcurrent": true,
              "mode": "immediate",
              "transition": {
               "duration": 0,
               "easing": "linear"
              }
             }
            ],
            "label": "34",
            "method": "animate"
           },
           {
            "args": [
             [
              "35"
             ],
             {
              "frame": {
               "duration": 0,
               "redraw": false
              },
              "fromcurrent": true,
              "mode": "immediate",
              "transition": {
               "duration": 0,
               "easing": "linear"
              }
             }
            ],
            "label": "35",
            "method": "animate"
           },
           {
            "args": [
             [
              "36"
             ],
             {
              "frame": {
               "duration": 0,
               "redraw": false
              },
              "fromcurrent": true,
              "mode": "immediate",
              "transition": {
               "duration": 0,
               "easing": "linear"
              }
             }
            ],
            "label": "36",
            "method": "animate"
           },
           {
            "args": [
             [
              "37"
             ],
             {
              "frame": {
               "duration": 0,
               "redraw": false
              },
              "fromcurrent": true,
              "mode": "immediate",
              "transition": {
               "duration": 0,
               "easing": "linear"
              }
             }
            ],
            "label": "37",
            "method": "animate"
           }
          ],
          "x": 0.1,
          "xanchor": "left",
          "y": 0,
          "yanchor": "top"
         }
        ],
        "template": {
         "data": {
          "bar": [
           {
            "error_x": {
             "color": "#2a3f5f"
            },
            "error_y": {
             "color": "#2a3f5f"
            },
            "marker": {
             "line": {
              "color": "#E5ECF6",
              "width": 0.5
             },
             "pattern": {
              "fillmode": "overlay",
              "size": 10,
              "solidity": 0.2
             }
            },
            "type": "bar"
           }
          ],
          "barpolar": [
           {
            "marker": {
             "line": {
              "color": "#E5ECF6",
              "width": 0.5
             },
             "pattern": {
              "fillmode": "overlay",
              "size": 10,
              "solidity": 0.2
             }
            },
            "type": "barpolar"
           }
          ],
          "carpet": [
           {
            "aaxis": {
             "endlinecolor": "#2a3f5f",
             "gridcolor": "white",
             "linecolor": "white",
             "minorgridcolor": "white",
             "startlinecolor": "#2a3f5f"
            },
            "baxis": {
             "endlinecolor": "#2a3f5f",
             "gridcolor": "white",
             "linecolor": "white",
             "minorgridcolor": "white",
             "startlinecolor": "#2a3f5f"
            },
            "type": "carpet"
           }
          ],
          "choropleth": [
           {
            "colorbar": {
             "outlinewidth": 0,
             "ticks": ""
            },
            "type": "choropleth"
           }
          ],
          "contour": [
           {
            "colorbar": {
             "outlinewidth": 0,
             "ticks": ""
            },
            "colorscale": [
             [
              0,
              "#0d0887"
             ],
             [
              0.1111111111111111,
              "#46039f"
             ],
             [
              0.2222222222222222,
              "#7201a8"
             ],
             [
              0.3333333333333333,
              "#9c179e"
             ],
             [
              0.4444444444444444,
              "#bd3786"
             ],
             [
              0.5555555555555556,
              "#d8576b"
             ],
             [
              0.6666666666666666,
              "#ed7953"
             ],
             [
              0.7777777777777778,
              "#fb9f3a"
             ],
             [
              0.8888888888888888,
              "#fdca26"
             ],
             [
              1,
              "#f0f921"
             ]
            ],
            "type": "contour"
           }
          ],
          "contourcarpet": [
           {
            "colorbar": {
             "outlinewidth": 0,
             "ticks": ""
            },
            "type": "contourcarpet"
           }
          ],
          "heatmap": [
           {
            "colorbar": {
             "outlinewidth": 0,
             "ticks": ""
            },
            "colorscale": [
             [
              0,
              "#0d0887"
             ],
             [
              0.1111111111111111,
              "#46039f"
             ],
             [
              0.2222222222222222,
              "#7201a8"
             ],
             [
              0.3333333333333333,
              "#9c179e"
             ],
             [
              0.4444444444444444,
              "#bd3786"
             ],
             [
              0.5555555555555556,
              "#d8576b"
             ],
             [
              0.6666666666666666,
              "#ed7953"
             ],
             [
              0.7777777777777778,
              "#fb9f3a"
             ],
             [
              0.8888888888888888,
              "#fdca26"
             ],
             [
              1,
              "#f0f921"
             ]
            ],
            "type": "heatmap"
           }
          ],
          "heatmapgl": [
           {
            "colorbar": {
             "outlinewidth": 0,
             "ticks": ""
            },
            "colorscale": [
             [
              0,
              "#0d0887"
             ],
             [
              0.1111111111111111,
              "#46039f"
             ],
             [
              0.2222222222222222,
              "#7201a8"
             ],
             [
              0.3333333333333333,
              "#9c179e"
             ],
             [
              0.4444444444444444,
              "#bd3786"
             ],
             [
              0.5555555555555556,
              "#d8576b"
             ],
             [
              0.6666666666666666,
              "#ed7953"
             ],
             [
              0.7777777777777778,
              "#fb9f3a"
             ],
             [
              0.8888888888888888,
              "#fdca26"
             ],
             [
              1,
              "#f0f921"
             ]
            ],
            "type": "heatmapgl"
           }
          ],
          "histogram": [
           {
            "marker": {
             "pattern": {
              "fillmode": "overlay",
              "size": 10,
              "solidity": 0.2
             }
            },
            "type": "histogram"
           }
          ],
          "histogram2d": [
           {
            "colorbar": {
             "outlinewidth": 0,
             "ticks": ""
            },
            "colorscale": [
             [
              0,
              "#0d0887"
             ],
             [
              0.1111111111111111,
              "#46039f"
             ],
             [
              0.2222222222222222,
              "#7201a8"
             ],
             [
              0.3333333333333333,
              "#9c179e"
             ],
             [
              0.4444444444444444,
              "#bd3786"
             ],
             [
              0.5555555555555556,
              "#d8576b"
             ],
             [
              0.6666666666666666,
              "#ed7953"
             ],
             [
              0.7777777777777778,
              "#fb9f3a"
             ],
             [
              0.8888888888888888,
              "#fdca26"
             ],
             [
              1,
              "#f0f921"
             ]
            ],
            "type": "histogram2d"
           }
          ],
          "histogram2dcontour": [
           {
            "colorbar": {
             "outlinewidth": 0,
             "ticks": ""
            },
            "colorscale": [
             [
              0,
              "#0d0887"
             ],
             [
              0.1111111111111111,
              "#46039f"
             ],
             [
              0.2222222222222222,
              "#7201a8"
             ],
             [
              0.3333333333333333,
              "#9c179e"
             ],
             [
              0.4444444444444444,
              "#bd3786"
             ],
             [
              0.5555555555555556,
              "#d8576b"
             ],
             [
              0.6666666666666666,
              "#ed7953"
             ],
             [
              0.7777777777777778,
              "#fb9f3a"
             ],
             [
              0.8888888888888888,
              "#fdca26"
             ],
             [
              1,
              "#f0f921"
             ]
            ],
            "type": "histogram2dcontour"
           }
          ],
          "mesh3d": [
           {
            "colorbar": {
             "outlinewidth": 0,
             "ticks": ""
            },
            "type": "mesh3d"
           }
          ],
          "parcoords": [
           {
            "line": {
             "colorbar": {
              "outlinewidth": 0,
              "ticks": ""
             }
            },
            "type": "parcoords"
           }
          ],
          "pie": [
           {
            "automargin": true,
            "type": "pie"
           }
          ],
          "scatter": [
           {
            "fillpattern": {
             "fillmode": "overlay",
             "size": 10,
             "solidity": 0.2
            },
            "type": "scatter"
           }
          ],
          "scatter3d": [
           {
            "line": {
             "colorbar": {
              "outlinewidth": 0,
              "ticks": ""
             }
            },
            "marker": {
             "colorbar": {
              "outlinewidth": 0,
              "ticks": ""
             }
            },
            "type": "scatter3d"
           }
          ],
          "scattercarpet": [
           {
            "marker": {
             "colorbar": {
              "outlinewidth": 0,
              "ticks": ""
             }
            },
            "type": "scattercarpet"
           }
          ],
          "scattergeo": [
           {
            "marker": {
             "colorbar": {
              "outlinewidth": 0,
              "ticks": ""
             }
            },
            "type": "scattergeo"
           }
          ],
          "scattergl": [
           {
            "marker": {
             "colorbar": {
              "outlinewidth": 0,
              "ticks": ""
             }
            },
            "type": "scattergl"
           }
          ],
          "scattermapbox": [
           {
            "marker": {
             "colorbar": {
              "outlinewidth": 0,
              "ticks": ""
             }
            },
            "type": "scattermapbox"
           }
          ],
          "scatterpolar": [
           {
            "marker": {
             "colorbar": {
              "outlinewidth": 0,
              "ticks": ""
             }
            },
            "type": "scatterpolar"
           }
          ],
          "scatterpolargl": [
           {
            "marker": {
             "colorbar": {
              "outlinewidth": 0,
              "ticks": ""
             }
            },
            "type": "scatterpolargl"
           }
          ],
          "scatterternary": [
           {
            "marker": {
             "colorbar": {
              "outlinewidth": 0,
              "ticks": ""
             }
            },
            "type": "scatterternary"
           }
          ],
          "surface": [
           {
            "colorbar": {
             "outlinewidth": 0,
             "ticks": ""
            },
            "colorscale": [
             [
              0,
              "#0d0887"
             ],
             [
              0.1111111111111111,
              "#46039f"
             ],
             [
              0.2222222222222222,
              "#7201a8"
             ],
             [
              0.3333333333333333,
              "#9c179e"
             ],
             [
              0.4444444444444444,
              "#bd3786"
             ],
             [
              0.5555555555555556,
              "#d8576b"
             ],
             [
              0.6666666666666666,
              "#ed7953"
             ],
             [
              0.7777777777777778,
              "#fb9f3a"
             ],
             [
              0.8888888888888888,
              "#fdca26"
             ],
             [
              1,
              "#f0f921"
             ]
            ],
            "type": "surface"
           }
          ],
          "table": [
           {
            "cells": {
             "fill": {
              "color": "#EBF0F8"
             },
             "line": {
              "color": "white"
             }
            },
            "header": {
             "fill": {
              "color": "#C8D4E3"
             },
             "line": {
              "color": "white"
             }
            },
            "type": "table"
           }
          ]
         },
         "layout": {
          "annotationdefaults": {
           "arrowcolor": "#2a3f5f",
           "arrowhead": 0,
           "arrowwidth": 1
          },
          "autotypenumbers": "strict",
          "coloraxis": {
           "colorbar": {
            "outlinewidth": 0,
            "ticks": ""
           }
          },
          "colorscale": {
           "diverging": [
            [
             0,
             "#8e0152"
            ],
            [
             0.1,
             "#c51b7d"
            ],
            [
             0.2,
             "#de77ae"
            ],
            [
             0.3,
             "#f1b6da"
            ],
            [
             0.4,
             "#fde0ef"
            ],
            [
             0.5,
             "#f7f7f7"
            ],
            [
             0.6,
             "#e6f5d0"
            ],
            [
             0.7,
             "#b8e186"
            ],
            [
             0.8,
             "#7fbc41"
            ],
            [
             0.9,
             "#4d9221"
            ],
            [
             1,
             "#276419"
            ]
           ],
           "sequential": [
            [
             0,
             "#0d0887"
            ],
            [
             0.1111111111111111,
             "#46039f"
            ],
            [
             0.2222222222222222,
             "#7201a8"
            ],
            [
             0.3333333333333333,
             "#9c179e"
            ],
            [
             0.4444444444444444,
             "#bd3786"
            ],
            [
             0.5555555555555556,
             "#d8576b"
            ],
            [
             0.6666666666666666,
             "#ed7953"
            ],
            [
             0.7777777777777778,
             "#fb9f3a"
            ],
            [
             0.8888888888888888,
             "#fdca26"
            ],
            [
             1,
             "#f0f921"
            ]
           ],
           "sequentialminus": [
            [
             0,
             "#0d0887"
            ],
            [
             0.1111111111111111,
             "#46039f"
            ],
            [
             0.2222222222222222,
             "#7201a8"
            ],
            [
             0.3333333333333333,
             "#9c179e"
            ],
            [
             0.4444444444444444,
             "#bd3786"
            ],
            [
             0.5555555555555556,
             "#d8576b"
            ],
            [
             0.6666666666666666,
             "#ed7953"
            ],
            [
             0.7777777777777778,
             "#fb9f3a"
            ],
            [
             0.8888888888888888,
             "#fdca26"
            ],
            [
             1,
             "#f0f921"
            ]
           ]
          },
          "colorway": [
           "#636efa",
           "#EF553B",
           "#00cc96",
           "#ab63fa",
           "#FFA15A",
           "#19d3f3",
           "#FF6692",
           "#B6E880",
           "#FF97FF",
           "#FECB52"
          ],
          "font": {
           "color": "#2a3f5f"
          },
          "geo": {
           "bgcolor": "white",
           "lakecolor": "white",
           "landcolor": "#E5ECF6",
           "showlakes": true,
           "showland": true,
           "subunitcolor": "white"
          },
          "hoverlabel": {
           "align": "left"
          },
          "hovermode": "closest",
          "mapbox": {
           "style": "light"
          },
          "paper_bgcolor": "white",
          "plot_bgcolor": "#E5ECF6",
          "polar": {
           "angularaxis": {
            "gridcolor": "white",
            "linecolor": "white",
            "ticks": ""
           },
           "bgcolor": "#E5ECF6",
           "radialaxis": {
            "gridcolor": "white",
            "linecolor": "white",
            "ticks": ""
           }
          },
          "scene": {
           "xaxis": {
            "backgroundcolor": "#E5ECF6",
            "gridcolor": "white",
            "gridwidth": 2,
            "linecolor": "white",
            "showbackground": true,
            "ticks": "",
            "zerolinecolor": "white"
           },
           "yaxis": {
            "backgroundcolor": "#E5ECF6",
            "gridcolor": "white",
            "gridwidth": 2,
            "linecolor": "white",
            "showbackground": true,
            "ticks": "",
            "zerolinecolor": "white"
           },
           "zaxis": {
            "backgroundcolor": "#E5ECF6",
            "gridcolor": "white",
            "gridwidth": 2,
            "linecolor": "white",
            "showbackground": true,
            "ticks": "",
            "zerolinecolor": "white"
           }
          },
          "shapedefaults": {
           "line": {
            "color": "#2a3f5f"
           }
          },
          "ternary": {
           "aaxis": {
            "gridcolor": "white",
            "linecolor": "white",
            "ticks": ""
           },
           "baxis": {
            "gridcolor": "white",
            "linecolor": "white",
            "ticks": ""
           },
           "bgcolor": "#E5ECF6",
           "caxis": {
            "gridcolor": "white",
            "linecolor": "white",
            "ticks": ""
           }
          },
          "title": {
           "x": 0.05
          },
          "xaxis": {
           "automargin": true,
           "gridcolor": "white",
           "linecolor": "white",
           "ticks": "",
           "title": {
            "standoff": 15
           },
           "zerolinecolor": "white",
           "zerolinewidth": 2
          },
          "yaxis": {
           "automargin": true,
           "gridcolor": "white",
           "linecolor": "white",
           "ticks": "",
           "title": {
            "standoff": 15
           },
           "zerolinecolor": "white",
           "zerolinewidth": 2
          }
         }
        },
        "updatemenus": [
         {
          "buttons": [
           {
            "args": [
             null,
             {
              "frame": {
               "duration": 500,
               "redraw": false
              },
              "fromcurrent": true,
              "mode": "immediate",
              "transition": {
               "duration": 500,
               "easing": "linear"
              }
             }
            ],
            "label": "&#9654;",
            "method": "animate"
           },
           {
            "args": [
             [
              null
             ],
             {
              "frame": {
               "duration": 0,
               "redraw": false
              },
              "fromcurrent": true,
              "mode": "immediate",
              "transition": {
               "duration": 0,
               "easing": "linear"
              }
             }
            ],
            "label": "&#9724;",
            "method": "animate"
           }
          ],
          "direction": "left",
          "pad": {
           "r": 10,
           "t": 70
          },
          "showactive": false,
          "type": "buttons",
          "x": 0.1,
          "xanchor": "right",
          "y": 0,
          "yanchor": "top"
         }
        ],
        "width": 1000,
        "xaxis": {
         "anchor": "y",
         "domain": [
          0,
          1
         ],
         "range": [
          0,
          1.1
         ],
         "title": {
          "text": "x"
         }
        },
        "yaxis": {
         "anchor": "x",
         "domain": [
          0,
          1
         ],
         "range": [
          1.1,
          0
         ],
         "title": {
          "text": "y"
         }
        }
       }
      }
     },
     "metadata": {},
     "output_type": "display_data"
    }
   ],
   "source": [
    "chk.plot(\"6\")"
   ]
  }
 ],
 "metadata": {
  "kernelspec": {
   "display_name": "Python 3.9.15 ('thesis3_9')",
   "language": "python",
   "name": "python3"
  },
  "language_info": {
   "codemirror_mode": {
    "name": "ipython",
    "version": 3
   },
   "file_extension": ".py",
   "mimetype": "text/x-python",
   "name": "python",
   "nbconvert_exporter": "python",
   "pygments_lexer": "ipython3",
   "version": "3.9.15"
  },
  "orig_nbformat": 4,
  "vscode": {
   "interpreter": {
    "hash": "a0516e323c1d6337405feeccc202b0dbcb07dc1a4aafa5eedf3cd6ee0d411108"
   }
  }
 },
 "nbformat": 4,
 "nbformat_minor": 2
}
