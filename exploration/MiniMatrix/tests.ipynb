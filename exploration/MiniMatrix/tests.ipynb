{
 "cells": [
  {
   "cell_type": "code",
   "execution_count": 3,
   "metadata": {},
   "outputs": [],
   "source": [
    "import random\n",
    "sys.path.append(\"../..\")\n",
    "from thesis.utils.env_checker import RewardCheck\n",
    "from thesis.envs.matrix import Matrix\n",
    "import numpy as np"
   ]
  },
  {
   "cell_type": "code",
   "execution_count": 2,
   "metadata": {},
   "outputs": [
    {
     "name": "stderr",
     "output_type": "stream",
     "text": [
      "c:\\Users\\Wegma\\.conda\\envs\\thesis\\lib\\site-packages\\alpyne\\client\\utils.py:124: UserWarning: Unzipping to temporary directory (C:\\Users\\Wegma\\AppData\\Local\\Temp\\alpyne_72198_qveexfyy)\n",
      "  warn(f\"Unzipping to temporary directory ({tmp_dir})\")\n"
     ]
    }
   ],
   "source": [
    "env = Matrix(\n",
    "    model_path = \"../../envs/MiniMatrix.zip\",\n",
    "    startport = 51146,\n",
    "    max_seconds = 5*60,\n",
    "    fleetsize = 6,\n",
    "    max_fleetsize = 10,    \n",
    "    pseudo_dispatcher = True,\n",
    "    routing_agent_death= True,\n",
    "    sim_config = dict(\n",
    "        dispatch = True,\n",
    "        routing_ma = True,\n",
    "        dispatching_ma = True,\n",
    "        reward_reached_target = 0, \n",
    "        reward_removed_for_block = 0, \n",
    "        reward_invalid=0,\n",
    "        block_timeout = 20,\n",
    "        reward_accepted_in_station = 1,\n",
    "        reward_declined_in_station = -1,\n",
    "        dispatching_interval=240,\n",
    "        io_quote = 0.99  ,\n",
    "        availability = 0.95,\n",
    "        mttr = 5*60,\n",
    "    )\n",
    ")"
   ]
  },
  {
   "cell_type": "code",
   "execution_count": 3,
   "metadata": {},
   "outputs": [],
   "source": [
    "chk = RewardCheck(env)"
   ]
  },
  {
   "cell_type": "code",
   "execution_count": 4,
   "metadata": {},
   "outputs": [
    {
     "name": "stdout",
     "output_type": "stream",
     "text": [
      "++++++++++++++++++++\n",
      "Total Reward: 0; 469 steps taken\n",
      "Mean Step Time: 0.5147783146229888s ; Max: 224.24502682685852s ; Min: 0.013996362686157227s\n"
     ]
    }
   ],
   "source": [
    "chk.run(1, seed = 0)"
   ]
  },
  {
   "cell_type": "code",
   "execution_count": 49,
   "metadata": {},
   "outputs": [
    {
     "data": {
      "text/plain": [
       "{'jobDone': 0.0,\n",
       " 'newPart': 5.0,\n",
       " 'dispatch': 42.0,\n",
       " 'taken_invalid': 1335.0,\n",
       " 'wrongTarget': 81.0,\n",
       " 'block': 66.0,\n",
       " 'targetReached': 17.0}"
      ]
     },
     "execution_count": 49,
     "metadata": {},
     "output_type": "execute_result"
    }
   ],
   "source": [
    "env.statistics"
   ]
  },
  {
   "cell_type": "code",
   "execution_count": 7,
   "metadata": {},
   "outputs": [
    {
     "name": "stdout",
     "output_type": "stream",
     "text": [
      "AGENT 0 --- STEP 27 --- ACTION [2, 0, 0, 1, 2, 3, 0, 3, 2, 0] --- REWARD 0\n"
     ]
    },
    {
     "data": {
      "image/png": "[encoded data removed]",
      "text/plain": [
       "<PIL.Image.Image image mode=RGB size=410x210>"
      ]
     },
     "metadata": {},
     "output_type": "display_data"
    }
   ],
   "source": [
    "chk.replay(\"0\", 0.5)"
   ]
  },
  {
   "cell_type": "code",
   "execution_count": 57,
   "metadata": {},
   "outputs": [
    {
     "name": "stdout",
     "output_type": "stream",
     "text": [
      "AGENT 7 --- STEP 42 --- ACTION [4, 2, 0, 5, 2, 4, 2, 0, 4, 3] --- REWARD 0\n"
     ]
    },
    {
     "data": {
      "image/png": "[encoded data removed]",
      "text/plain": [
       "<PIL.Image.Image image mode=RGB size=410x210>"
      ]
     },
     "metadata": {},
     "output_type": "display_data"
    },
    {
     "data": {
      "text/plain": [
       "[('3', 12),\n",
       " ('3', 24),\n",
       " ('7', 38),\n",
       " ('14', 50),\n",
       " ('25', 65),\n",
       " ('30', 2),\n",
       " ('36', 1),\n",
       " ('49', 0),\n",
       " ('51', 51),\n",
       " ('51', 68),\n",
       " ('51', 110),\n",
       " ('52', 24),\n",
       " ('54', 24),\n",
       " ('62', 0),\n",
       " ('63', 0)]"
      ]
     },
     "execution_count": 57,
     "metadata": {},
     "output_type": "execute_result"
    }
   ],
   "source": [
    "chk.get_reward_situations(reward_above = 0.5, reward_below = 1.5, play_random = True)"
   ]
  },
  {
   "cell_type": "code",
   "execution_count": 30,
   "metadata": {},
   "outputs": [
    {
     "data": {
      "application/vnd.plotly.v1+json": {
       "config": {
        "plotlyServerURL": "https://plot.ly"
       },
       "data": [
        {
         "hovertemplate": "<b>%{hovertext}</b><br><br>main=True<br>type=last<br>step=0<br>name=0<br>x=%{x}<br>y=%{y}<extra></extra>",
         "hovertext": [
          "Last node of 0 <br> reward: 1.0 <br> action: [5, 0, 5, 0, 4, 2, 0, 0, 3, 0] <br> in system: 1.0"
         ],
         "legendgroup": "True, last",
         "line": {
          "color": "#636efa",
          "dash": "solid"
         },
         "marker": {
          "symbol": "circle"
         },
         "mode": "lines+markers",
         "name": "True, last",
         "orientation": "v",
         "showlegend": true,
         "type": "scatter",
         "x": [
          1
         ],
         "xaxis": "x",
         "y": [
          0.86
         ],
         "yaxis": "y"
        },
        {
         "hovertemplate": "<b>%{hovertext}</b><br><br>main=True<br>type=next<br>step=0<br>name=0<br>x=%{x}<br>y=%{y}<extra></extra>",
         "hovertext": [
          "Next node of 0 <br> reward: 1.0 <br> action: [5, 0, 5, 0, 4, 2, 0, 0, 3, 0] <br> in system: 1.0"
         ],
         "legendgroup": "True, next",
         "line": {
          "color": "#636efa",
          "dash": "solid"
         },
         "marker": {
          "symbol": "diamond"
         },
         "mode": "lines+markers",
         "name": "True, next",
         "orientation": "v",
         "showlegend": true,
         "type": "scatter",
         "x": [
          1
         ],
         "xaxis": "x",
         "y": [
          0.86
         ],
         "yaxis": "y"
        },
        {
         "hovertemplate": "<b>%{hovertext}</b><br><br>main=False<br>type=last<br>step=0<br>name=1<br>x=%{x}<br>y=%{y}<extra></extra>",
         "hovertext": [
          "Last node of 1 <br> reward: 1.0 <br> action: [5, 0, 5, 0, 4, 2, 0, 0, 3, 0] <br> in system: 1.0"
         ],
         "legendgroup": "False, last",
         "line": {
          "color": "#EF553B",
          "dash": "solid"
         },
         "marker": {
          "symbol": "circle"
         },
         "mode": "lines+markers",
         "name": "False, last",
         "orientation": "v",
         "showlegend": true,
         "type": "scatter",
         "x": [
          0.4772727272727273
         ],
         "xaxis": "x",
         "y": [
          0.86
         ],
         "yaxis": "y"
        },
        {
         "hovertemplate": "<b>%{hovertext}</b><br><br>main=False<br>type=last<br>step=0<br>name=2<br>x=%{x}<br>y=%{y}<extra></extra>",
         "hovertext": [
          "Last node of 2 <br> reward: 1.0 <br> action: [5, 0, 5, 0, 4, 2, 0, 0, 3, 0] <br> in system: 0.0"
         ],
         "legendgroup": "False, last",
         "line": {
          "color": "#EF553B",
          "dash": "solid"
         },
         "marker": {
          "symbol": "circle"
         },
         "mode": "lines+markers",
         "name": "False, last",
         "orientation": "v",
         "showlegend": false,
         "type": "scatter",
         "x": [
          0
         ],
         "xaxis": "x",
         "y": [
          0
         ],
         "yaxis": "y"
        },
        {
         "hovertemplate": "<b>%{hovertext}</b><br><br>main=False<br>type=last<br>step=0<br>name=3<br>x=%{x}<br>y=%{y}<extra></extra>",
         "hovertext": [
          "Last node of 3 <br> reward: 1.0 <br> action: [5, 0, 5, 0, 4, 2, 0, 0, 3, 0] <br> in system: 0.0"
         ],
         "legendgroup": "False, last",
         "line": {
          "color": "#EF553B",
          "dash": "solid"
         },
         "marker": {
          "symbol": "circle"
         },
         "mode": "lines+markers",
         "name": "False, last",
         "orientation": "v",
         "showlegend": false,
         "type": "scatter",
         "x": [
          0
         ],
         "xaxis": "x",
         "y": [
          0
         ],
         "yaxis": "y"
        },
        {
         "hovertemplate": "<b>%{hovertext}</b><br><br>main=False<br>type=last<br>step=0<br>name=4<br>x=%{x}<br>y=%{y}<extra></extra>",
         "hovertext": [
          "Last node of 4 <br> reward: 1.0 <br> action: [5, 0, 5, 0, 4, 2, 0, 0, 3, 0] <br> in system: 0.0"
         ],
         "legendgroup": "False, last",
         "line": {
          "color": "#EF553B",
          "dash": "solid"
         },
         "marker": {
          "symbol": "circle"
         },
         "mode": "lines+markers",
         "name": "False, last",
         "orientation": "v",
         "showlegend": false,
         "type": "scatter",
         "x": [
          0
         ],
         "xaxis": "x",
         "y": [
          0
         ],
         "yaxis": "y"
        },
        {
         "hovertemplate": "<b>%{hovertext}</b><br><br>main=False<br>type=last<br>step=0<br>name=5<br>x=%{x}<br>y=%{y}<extra></extra>",
         "hovertext": [
          "Last node of 5 <br> reward: 1.0 <br> action: [5, 0, 5, 0, 4, 2, 0, 0, 3, 0] <br> in system: 0.0"
         ],
         "legendgroup": "False, last",
         "line": {
          "color": "#EF553B",
          "dash": "solid"
         },
         "marker": {
          "symbol": "circle"
         },
         "mode": "lines+markers",
         "name": "False, last",
         "orientation": "v",
         "showlegend": false,
         "type": "scatter",
         "x": [
          0
         ],
         "xaxis": "x",
         "y": [
          0
         ],
         "yaxis": "y"
        },
        {
         "hovertemplate": "<b>%{hovertext}</b><br><br>main=False<br>type=last<br>step=0<br>name=6<br>x=%{x}<br>y=%{y}<extra></extra>",
         "hovertext": [
          "Last node of 6 <br> reward: 1.0 <br> action: [5, 0, 5, 0, 4, 2, 0, 0, 3, 0] <br> in system: 0.0"
         ],
         "legendgroup": "False, last",
         "line": {
          "color": "#EF553B",
          "dash": "solid"
         },
         "marker": {
          "symbol": "circle"
         },
         "mode": "lines+markers",
         "name": "False, last",
         "orientation": "v",
         "showlegend": false,
         "type": "scatter",
         "x": [
          1
         ],
         "xaxis": "x",
         "y": [
          0.86
         ],
         "yaxis": "y"
        },
        {
         "hovertemplate": "<b>%{hovertext}</b><br><br>main=False<br>type=last<br>step=0<br>name=7<br>x=%{x}<br>y=%{y}<extra></extra>",
         "hovertext": [
          "Last node of 7 <br> reward: 1.0 <br> action: [5, 0, 5, 0, 4, 2, 0, 0, 3, 0] <br> in system: 1.0"
         ],
         "legendgroup": "False, last",
         "line": {
          "color": "#EF553B",
          "dash": "solid"
         },
         "marker": {
          "symbol": "circle"
         },
         "mode": "lines+markers",
         "name": "False, last",
         "orientation": "v",
         "showlegend": false,
         "type": "scatter",
         "x": [
          0.9431818181818182
         ],
         "xaxis": "x",
         "y": [
          0.86
         ],
         "yaxis": "y"
        },
        {
         "hovertemplate": "<b>%{hovertext}</b><br><br>main=False<br>type=last<br>step=0<br>name=8<br>x=%{x}<br>y=%{y}<extra></extra>",
         "hovertext": [
          "Last node of 8 <br> reward: 1.0 <br> action: [5, 0, 5, 0, 4, 2, 0, 0, 3, 0] <br> in system: 1.0"
         ],
         "legendgroup": "False, last",
         "line": {
          "color": "#EF553B",
          "dash": "solid"
         },
         "marker": {
          "symbol": "circle"
         },
         "mode": "lines+markers",
         "name": "False, last",
         "orientation": "v",
         "showlegend": false,
         "type": "scatter",
         "x": [
          0.7909090909090909
         ],
         "xaxis": "x",
         "y": [
          0.62
         ],
         "yaxis": "y"
        },
        {
         "hovertemplate": "<b>%{hovertext}</b><br><br>main=False<br>type=last<br>step=0<br>name=9<br>x=%{x}<br>y=%{y}<extra></extra>",
         "hovertext": [
          "Last node of 9 <br> reward: 1.0 <br> action: [5, 0, 5, 0, 4, 2, 0, 0, 3, 0] <br> in system: 0.0"
         ],
         "legendgroup": "False, last",
         "line": {
          "color": "#EF553B",
          "dash": "solid"
         },
         "marker": {
          "symbol": "circle"
         },
         "mode": "lines+markers",
         "name": "False, last",
         "orientation": "v",
         "showlegend": false,
         "type": "scatter",
         "x": [
          1
         ],
         "xaxis": "x",
         "y": [
          0.76
         ],
         "yaxis": "y"
        },
        {
         "hovertemplate": "<b>%{hovertext}</b><br><br>main=False<br>type=next<br>step=0<br>name=1<br>x=%{x}<br>y=%{y}<extra></extra>",
         "hovertext": [
          "Next node of 1 <br> reward: 1.0 <br> action: [5, 0, 5, 0, 4, 2, 0, 0, 3, 0] <br> in system: 1.0"
         ],
         "legendgroup": "False, next",
         "line": {
          "color": "#EF553B",
          "dash": "solid"
         },
         "marker": {
          "symbol": "diamond"
         },
         "mode": "lines+markers",
         "name": "False, next",
         "orientation": "v",
         "showlegend": true,
         "type": "scatter",
         "x": [
          0.42045454545454547
         ],
         "xaxis": "x",
         "y": [
          0.86
         ],
         "yaxis": "y"
        },
        {
         "hovertemplate": "<b>%{hovertext}</b><br><br>main=False<br>type=next<br>step=0<br>name=2<br>x=%{x}<br>y=%{y}<extra></extra>",
         "hovertext": [
          "Next node of 2 <br> reward: 1.0 <br> action: [5, 0, 5, 0, 4, 2, 0, 0, 3, 0] <br> in system: 0.0"
         ],
         "legendgroup": "False, next",
         "line": {
          "color": "#EF553B",
          "dash": "solid"
         },
         "marker": {
          "symbol": "diamond"
         },
         "mode": "lines+markers",
         "name": "False, next",
         "orientation": "v",
         "showlegend": false,
         "type": "scatter",
         "x": [
          0
         ],
         "xaxis": "x",
         "y": [
          0
         ],
         "yaxis": "y"
        },
        {
         "hovertemplate": "<b>%{hovertext}</b><br><br>main=False<br>type=next<br>step=0<br>name=3<br>x=%{x}<br>y=%{y}<extra></extra>",
         "hovertext": [
          "Next node of 3 <br> reward: 1.0 <br> action: [5, 0, 5, 0, 4, 2, 0, 0, 3, 0] <br> in system: 0.0"
         ],
         "legendgroup": "False, next",
         "line": {
          "color": "#EF553B",
          "dash": "solid"
         },
         "marker": {
          "symbol": "diamond"
         },
         "mode": "lines+markers",
         "name": "False, next",
         "orientation": "v",
         "showlegend": false,
         "type": "scatter",
         "x": [
          0
         ],
         "xaxis": "x",
         "y": [
          0
         ],
         "yaxis": "y"
        },
        {
         "hovertemplate": "<b>%{hovertext}</b><br><br>main=False<br>type=next<br>step=0<br>name=4<br>x=%{x}<br>y=%{y}<extra></extra>",
         "hovertext": [
          "Next node of 4 <br> reward: 1.0 <br> action: [5, 0, 5, 0, 4, 2, 0, 0, 3, 0] <br> in system: 0.0"
         ],
         "legendgroup": "False, next",
         "line": {
          "color": "#EF553B",
          "dash": "solid"
         },
         "marker": {
          "symbol": "diamond"
         },
         "mode": "lines+markers",
         "name": "False, next",
         "orientation": "v",
         "showlegend": false,
         "type": "scatter",
         "x": [
          0
         ],
         "xaxis": "x",
         "y": [
          0
         ],
         "yaxis": "y"
        },
        {
         "hovertemplate": "<b>%{hovertext}</b><br><br>main=False<br>type=next<br>step=0<br>name=5<br>x=%{x}<br>y=%{y}<extra></extra>",
         "hovertext": [
          "Next node of 5 <br> reward: 1.0 <br> action: [5, 0, 5, 0, 4, 2, 0, 0, 3, 0] <br> in system: 0.0"
         ],
         "legendgroup": "False, next",
         "line": {
          "color": "#EF553B",
          "dash": "solid"
         },
         "marker": {
          "symbol": "diamond"
         },
         "mode": "lines+markers",
         "name": "False, next",
         "orientation": "v",
         "showlegend": false,
         "type": "scatter",
         "x": [
          0
         ],
         "xaxis": "x",
         "y": [
          0
         ],
         "yaxis": "y"
        },
        {
         "hovertemplate": "<b>%{hovertext}</b><br><br>main=False<br>type=next<br>step=0<br>name=6<br>x=%{x}<br>y=%{y}<extra></extra>",
         "hovertext": [
          "Next node of 6 <br> reward: 1.0 <br> action: [5, 0, 5, 0, 4, 2, 0, 0, 3, 0] <br> in system: 0.0"
         ],
         "legendgroup": "False, next",
         "line": {
          "color": "#EF553B",
          "dash": "solid"
         },
         "marker": {
          "symbol": "diamond"
         },
         "mode": "lines+markers",
         "name": "False, next",
         "orientation": "v",
         "showlegend": false,
         "type": "scatter",
         "x": [
          1
         ],
         "xaxis": "x",
         "y": [
          0.76
         ],
         "yaxis": "y"
        },
        {
         "hovertemplate": "<b>%{hovertext}</b><br><br>main=False<br>type=next<br>step=0<br>name=7<br>x=%{x}<br>y=%{y}<extra></extra>",
         "hovertext": [
          "Next node of 7 <br> reward: 1.0 <br> action: [5, 0, 5, 0, 4, 2, 0, 0, 3, 0] <br> in system: 1.0"
         ],
         "legendgroup": "False, next",
         "line": {
          "color": "#EF553B",
          "dash": "solid"
         },
         "marker": {
          "symbol": "diamond"
         },
         "mode": "lines+markers",
         "name": "False, next",
         "orientation": "v",
         "showlegend": false,
         "type": "scatter",
         "x": [
          0.9431818181818182
         ],
         "xaxis": "x",
         "y": [
          0.86
         ],
         "yaxis": "y"
        },
        {
         "hovertemplate": "<b>%{hovertext}</b><br><br>main=False<br>type=next<br>step=0<br>name=8<br>x=%{x}<br>y=%{y}<extra></extra>",
         "hovertext": [
          "Next node of 8 <br> reward: 1.0 <br> action: [5, 0, 5, 0, 4, 2, 0, 0, 3, 0] <br> in system: 1.0"
         ],
         "legendgroup": "False, next",
         "line": {
          "color": "#EF553B",
          "dash": "solid"
         },
         "marker": {
          "symbol": "diamond"
         },
         "mode": "lines+markers",
         "name": "False, next",
         "orientation": "v",
         "showlegend": false,
         "type": "scatter",
         "x": [
          0.8181818181818182
         ],
         "xaxis": "x",
         "y": [
          0.76
         ],
         "yaxis": "y"
        },
        {
         "hovertemplate": "<b>%{hovertext}</b><br><br>main=False<br>type=next<br>step=0<br>name=9<br>x=%{x}<br>y=%{y}<extra></extra>",
         "hovertext": [
          "Next node of 9 <br> reward: 1.0 <br> action: [5, 0, 5, 0, 4, 2, 0, 0, 3, 0] <br> in system: 0.0"
         ],
         "legendgroup": "False, next",
         "line": {
          "color": "#EF553B",
          "dash": "solid"
         },
         "marker": {
          "symbol": "diamond"
         },
         "mode": "lines+markers",
         "name": "False, next",
         "orientation": "v",
         "showlegend": false,
         "type": "scatter",
         "x": [
          1
         ],
         "xaxis": "x",
         "y": [
          0.86
         ],
         "yaxis": "y"
        }
       ],
       "frames": [
        {
         "data": [
          {
           "hovertemplate": "<b>%{hovertext}</b><br><br>main=True<br>type=last<br>step=0<br>name=0<br>x=%{x}<br>y=%{y}<extra></extra>",
           "hovertext": [
            "Last node of 0 <br> reward: 1.0 <br> action: [5, 0, 5, 0, 4, 2, 0, 0, 3, 0] <br> in system: 1.0"
           ],
           "legendgroup": "True, last",
           "line": {
            "color": "#636efa",
            "dash": "solid"
           },
           "marker": {
            "symbol": "circle"
           },
           "mode": "lines+markers",
           "name": "True, last",
           "orientation": "v",
           "showlegend": true,
           "type": "scatter",
           "x": [
            1
           ],
           "xaxis": "x",
           "y": [
            0.86
           ],
           "yaxis": "y"
          },
          {
           "hovertemplate": "<b>%{hovertext}</b><br><br>main=True<br>type=next<br>step=0<br>name=0<br>x=%{x}<br>y=%{y}<extra></extra>",
           "hovertext": [
            "Next node of 0 <br> reward: 1.0 <br> action: [5, 0, 5, 0, 4, 2, 0, 0, 3, 0] <br> in system: 1.0"
           ],
           "legendgroup": "True, next",
           "line": {
            "color": "#636efa",
            "dash": "solid"
           },
           "marker": {
            "symbol": "diamond"
           },
           "mode": "lines+markers",
           "name": "True, next",
           "orientation": "v",
           "showlegend": true,
           "type": "scatter",
           "x": [
            1
           ],
           "xaxis": "x",
           "y": [
            0.86
           ],
           "yaxis": "y"
          },
          {
           "hovertemplate": "<b>%{hovertext}</b><br><br>main=False<br>type=last<br>step=0<br>name=1<br>x=%{x}<br>y=%{y}<extra></extra>",
           "hovertext": [
            "Last node of 1 <br> reward: 1.0 <br> action: [5, 0, 5, 0, 4, 2, 0, 0, 3, 0] <br> in system: 1.0"
           ],
           "legendgroup": "False, last",
           "line": {
            "color": "#EF553B",
            "dash": "solid"
           },
           "marker": {
            "symbol": "circle"
           },
           "mode": "lines+markers",
           "name": "False, last",
           "orientation": "v",
           "showlegend": true,
           "type": "scatter",
           "x": [
            0.4772727272727273
           ],
           "xaxis": "x",
           "y": [
            0.86
           ],
           "yaxis": "y"
          },
          {
           "hovertemplate": "<b>%{hovertext}</b><br><br>main=False<br>type=last<br>step=0<br>name=2<br>x=%{x}<br>y=%{y}<extra></extra>",
           "hovertext": [
            "Last node of 2 <br> reward: 1.0 <br> action: [5, 0, 5, 0, 4, 2, 0, 0, 3, 0] <br> in system: 0.0"
           ],
           "legendgroup": "False, last",
           "line": {
            "color": "#EF553B",
            "dash": "solid"
           },
           "marker": {
            "symbol": "circle"
           },
           "mode": "lines+markers",
           "name": "False, last",
           "orientation": "v",
           "showlegend": false,
           "type": "scatter",
           "x": [
            0
           ],
           "xaxis": "x",
           "y": [
            0
           ],
           "yaxis": "y"
          },
          {
           "hovertemplate": "<b>%{hovertext}</b><br><br>main=False<br>type=last<br>step=0<br>name=3<br>x=%{x}<br>y=%{y}<extra></extra>",
           "hovertext": [
            "Last node of 3 <br> reward: 1.0 <br> action: [5, 0, 5, 0, 4, 2, 0, 0, 3, 0] <br> in system: 0.0"
           ],
           "legendgroup": "False, last",
           "line": {
            "color": "#EF553B",
            "dash": "solid"
           },
           "marker": {
            "symbol": "circle"
           },
           "mode": "lines+markers",
           "name": "False, last",
           "orientation": "v",
           "showlegend": false,
           "type": "scatter",
           "x": [
            0
           ],
           "xaxis": "x",
           "y": [
            0
           ],
           "yaxis": "y"
          },
          {
           "hovertemplate": "<b>%{hovertext}</b><br><br>main=False<br>type=last<br>step=0<br>name=4<br>x=%{x}<br>y=%{y}<extra></extra>",
           "hovertext": [
            "Last node of 4 <br> reward: 1.0 <br> action: [5, 0, 5, 0, 4, 2, 0, 0, 3, 0] <br> in system: 0.0"
           ],
           "legendgroup": "False, last",
           "line": {
            "color": "#EF553B",
            "dash": "solid"
           },
           "marker": {
            "symbol": "circle"
           },
           "mode": "lines+markers",
           "name": "False, last",
           "orientation": "v",
           "showlegend": false,
           "type": "scatter",
           "x": [
            0
           ],
           "xaxis": "x",
           "y": [
            0
           ],
           "yaxis": "y"
          },
          {
           "hovertemplate": "<b>%{hovertext}</b><br><br>main=False<br>type=last<br>step=0<br>name=5<br>x=%{x}<br>y=%{y}<extra></extra>",
           "hovertext": [
            "Last node of 5 <br> reward: 1.0 <br> action: [5, 0, 5, 0, 4, 2, 0, 0, 3, 0] <br> in system: 0.0"
           ],
           "legendgroup": "False, last",
           "line": {
            "color": "#EF553B",
            "dash": "solid"
           },
           "marker": {
            "symbol": "circle"
           },
           "mode": "lines+markers",
           "name": "False, last",
           "orientation": "v",
           "showlegend": false,
           "type": "scatter",
           "x": [
            0
           ],
           "xaxis": "x",
           "y": [
            0
           ],
           "yaxis": "y"
          },
          {
           "hovertemplate": "<b>%{hovertext}</b><br><br>main=False<br>type=last<br>step=0<br>name=6<br>x=%{x}<br>y=%{y}<extra></extra>",
           "hovertext": [
            "Last node of 6 <br> reward: 1.0 <br> action: [5, 0, 5, 0, 4, 2, 0, 0, 3, 0] <br> in system: 0.0"
           ],
           "legendgroup": "False, last",
           "line": {
            "color": "#EF553B",
            "dash": "solid"
           },
           "marker": {
            "symbol": "circle"
           },
           "mode": "lines+markers",
           "name": "False, last",
           "orientation": "v",
           "showlegend": false,
           "type": "scatter",
           "x": [
            1
           ],
           "xaxis": "x",
           "y": [
            0.86
           ],
           "yaxis": "y"
          },
          {
           "hovertemplate": "<b>%{hovertext}</b><br><br>main=False<br>type=last<br>step=0<br>name=7<br>x=%{x}<br>y=%{y}<extra></extra>",
           "hovertext": [
            "Last node of 7 <br> reward: 1.0 <br> action: [5, 0, 5, 0, 4, 2, 0, 0, 3, 0] <br> in system: 1.0"
           ],
           "legendgroup": "False, last",
           "line": {
            "color": "#EF553B",
            "dash": "solid"
           },
           "marker": {
            "symbol": "circle"
           },
           "mode": "lines+markers",
           "name": "False, last",
           "orientation": "v",
           "showlegend": false,
           "type": "scatter",
           "x": [
            0.9431818181818182
           ],
           "xaxis": "x",
           "y": [
            0.86
           ],
           "yaxis": "y"
          },
          {
           "hovertemplate": "<b>%{hovertext}</b><br><br>main=False<br>type=last<br>step=0<br>name=8<br>x=%{x}<br>y=%{y}<extra></extra>",
           "hovertext": [
            "Last node of 8 <br> reward: 1.0 <br> action: [5, 0, 5, 0, 4, 2, 0, 0, 3, 0] <br> in system: 1.0"
           ],
           "legendgroup": "False, last",
           "line": {
            "color": "#EF553B",
            "dash": "solid"
           },
           "marker": {
            "symbol": "circle"
           },
           "mode": "lines+markers",
           "name": "False, last",
           "orientation": "v",
           "showlegend": false,
           "type": "scatter",
           "x": [
            0.7909090909090909
           ],
           "xaxis": "x",
           "y": [
            0.62
           ],
           "yaxis": "y"
          },
          {
           "hovertemplate": "<b>%{hovertext}</b><br><br>main=False<br>type=last<br>step=0<br>name=9<br>x=%{x}<br>y=%{y}<extra></extra>",
           "hovertext": [
            "Last node of 9 <br> reward: 1.0 <br> action: [5, 0, 5, 0, 4, 2, 0, 0, 3, 0] <br> in system: 0.0"
           ],
           "legendgroup": "False, last",
           "line": {
            "color": "#EF553B",
            "dash": "solid"
           },
           "marker": {
            "symbol": "circle"
           },
           "mode": "lines+markers",
           "name": "False, last",
           "orientation": "v",
           "showlegend": false,
           "type": "scatter",
           "x": [
            1
           ],
           "xaxis": "x",
           "y": [
            0.76
           ],
           "yaxis": "y"
          },
          {
           "hovertemplate": "<b>%{hovertext}</b><br><br>main=False<br>type=next<br>step=0<br>name=1<br>x=%{x}<br>y=%{y}<extra></extra>",
           "hovertext": [
            "Next node of 1 <br> reward: 1.0 <br> action: [5, 0, 5, 0, 4, 2, 0, 0, 3, 0] <br> in system: 1.0"
           ],
           "legendgroup": "False, next",
           "line": {
            "color": "#EF553B",
            "dash": "solid"
           },
           "marker": {
            "symbol": "diamond"
           },
           "mode": "lines+markers",
           "name": "False, next",
           "orientation": "v",
           "showlegend": true,
           "type": "scatter",
           "x": [
            0.42045454545454547
           ],
           "xaxis": "x",
           "y": [
            0.86
           ],
           "yaxis": "y"
          },
          {
           "hovertemplate": "<b>%{hovertext}</b><br><br>main=False<br>type=next<br>step=0<br>name=2<br>x=%{x}<br>y=%{y}<extra></extra>",
           "hovertext": [
            "Next node of 2 <br> reward: 1.0 <br> action: [5, 0, 5, 0, 4, 2, 0, 0, 3, 0] <br> in system: 0.0"
           ],
           "legendgroup": "False, next",
           "line": {
            "color": "#EF553B",
            "dash": "solid"
           },
           "marker": {
            "symbol": "diamond"
           },
           "mode": "lines+markers",
           "name": "False, next",
           "orientation": "v",
           "showlegend": false,
           "type": "scatter",
           "x": [
            0
           ],
           "xaxis": "x",
           "y": [
            0
           ],
           "yaxis": "y"
          },
          {
           "hovertemplate": "<b>%{hovertext}</b><br><br>main=False<br>type=next<br>step=0<br>name=3<br>x=%{x}<br>y=%{y}<extra></extra>",
           "hovertext": [
            "Next node of 3 <br> reward: 1.0 <br> action: [5, 0, 5, 0, 4, 2, 0, 0, 3, 0] <br> in system: 0.0"
           ],
           "legendgroup": "False, next",
           "line": {
            "color": "#EF553B",
            "dash": "solid"
           },
           "marker": {
            "symbol": "diamond"
           },
           "mode": "lines+markers",
           "name": "False, next",
           "orientation": "v",
           "showlegend": false,
           "type": "scatter",
           "x": [
            0
           ],
           "xaxis": "x",
           "y": [
            0
           ],
           "yaxis": "y"
          },
          {
           "hovertemplate": "<b>%{hovertext}</b><br><br>main=False<br>type=next<br>step=0<br>name=4<br>x=%{x}<br>y=%{y}<extra></extra>",
           "hovertext": [
            "Next node of 4 <br> reward: 1.0 <br> action: [5, 0, 5, 0, 4, 2, 0, 0, 3, 0] <br> in system: 0.0"
           ],
           "legendgroup": "False, next",
           "line": {
            "color": "#EF553B",
            "dash": "solid"
           },
           "marker": {
            "symbol": "diamond"
           },
           "mode": "lines+markers",
           "name": "False, next",
           "orientation": "v",
           "showlegend": false,
           "type": "scatter",
           "x": [
            0
           ],
           "xaxis": "x",
           "y": [
            0
           ],
           "yaxis": "y"
          },
          {
           "hovertemplate": "<b>%{hovertext}</b><br><br>main=False<br>type=next<br>step=0<br>name=5<br>x=%{x}<br>y=%{y}<extra></extra>",
           "hovertext": [
            "Next node of 5 <br> reward: 1.0 <br> action: [5, 0, 5, 0, 4, 2, 0, 0, 3, 0] <br> in system: 0.0"
           ],
           "legendgroup": "False, next",
           "line": {
            "color": "#EF553B",
            "dash": "solid"
           },
           "marker": {
            "symbol": "diamond"
           },
           "mode": "lines+markers",
           "name": "False, next",
           "orientation": "v",
           "showlegend": false,
           "type": "scatter",
           "x": [
            0
           ],
           "xaxis": "x",
           "y": [
            0
           ],
           "yaxis": "y"
          },
          {
           "hovertemplate": "<b>%{hovertext}</b><br><br>main=False<br>type=next<br>step=0<br>name=6<br>x=%{x}<br>y=%{y}<extra></extra>",
           "hovertext": [
            "Next node of 6 <br> reward: 1.0 <br> action: [5, 0, 5, 0, 4, 2, 0, 0, 3, 0] <br> in system: 0.0"
           ],
           "legendgroup": "False, next",
           "line": {
            "color": "#EF553B",
            "dash": "solid"
           },
           "marker": {
            "symbol": "diamond"
           },
           "mode": "lines+markers",
           "name": "False, next",
           "orientation": "v",
           "showlegend": false,
           "type": "scatter",
           "x": [
            1
           ],
           "xaxis": "x",
           "y": [
            0.76
           ],
           "yaxis": "y"
          },
          {
           "hovertemplate": "<b>%{hovertext}</b><br><br>main=False<br>type=next<br>step=0<br>name=7<br>x=%{x}<br>y=%{y}<extra></extra>",
           "hovertext": [
            "Next node of 7 <br> reward: 1.0 <br> action: [5, 0, 5, 0, 4, 2, 0, 0, 3, 0] <br> in system: 1.0"
           ],
           "legendgroup": "False, next",
           "line": {
            "color": "#EF553B",
            "dash": "solid"
           },
           "marker": {
            "symbol": "diamond"
           },
           "mode": "lines+markers",
           "name": "False, next",
           "orientation": "v",
           "showlegend": false,
           "type": "scatter",
           "x": [
            0.9431818181818182
           ],
           "xaxis": "x",
           "y": [
            0.86
           ],
           "yaxis": "y"
          },
          {
           "hovertemplate": "<b>%{hovertext}</b><br><br>main=False<br>type=next<br>step=0<br>name=8<br>x=%{x}<br>y=%{y}<extra></extra>",
           "hovertext": [
            "Next node of 8 <br> reward: 1.0 <br> action: [5, 0, 5, 0, 4, 2, 0, 0, 3, 0] <br> in system: 1.0"
           ],
           "legendgroup": "False, next",
           "line": {
            "color": "#EF553B",
            "dash": "solid"
           },
           "marker": {
            "symbol": "diamond"
           },
           "mode": "lines+markers",
           "name": "False, next",
           "orientation": "v",
           "showlegend": false,
           "type": "scatter",
           "x": [
            0.8181818181818182
           ],
           "xaxis": "x",
           "y": [
            0.76
           ],
           "yaxis": "y"
          },
          {
           "hovertemplate": "<b>%{hovertext}</b><br><br>main=False<br>type=next<br>step=0<br>name=9<br>x=%{x}<br>y=%{y}<extra></extra>",
           "hovertext": [
            "Next node of 9 <br> reward: 1.0 <br> action: [5, 0, 5, 0, 4, 2, 0, 0, 3, 0] <br> in system: 0.0"
           ],
           "legendgroup": "False, next",
           "line": {
            "color": "#EF553B",
            "dash": "solid"
           },
           "marker": {
            "symbol": "diamond"
           },
           "mode": "lines+markers",
           "name": "False, next",
           "orientation": "v",
           "showlegend": false,
           "type": "scatter",
           "x": [
            1
           ],
           "xaxis": "x",
           "y": [
            0.86
           ],
           "yaxis": "y"
          }
         ],
         "name": "0"
        },
        {
         "data": [
          {
           "hovertemplate": "<b>%{hovertext}</b><br><br>main=True<br>type=last<br>step=1<br>name=0<br>x=%{x}<br>y=%{y}<extra></extra>",
           "hovertext": [
            "Last node of 0 <br> reward: 1.0 <br> action: [3, 1, 0, 4, 5, 1, 3, 1, 4, 2] <br> in system: 1.0"
           ],
           "legendgroup": "True, last",
           "line": {
            "color": "#636efa",
            "dash": "solid"
           },
           "marker": {
            "symbol": "circle"
           },
           "mode": "lines+markers",
           "name": "True, last",
           "orientation": "v",
           "showlegend": true,
           "type": "scatter",
           "x": [
            1
           ],
           "xaxis": "x",
           "y": [
            0.86
           ],
           "yaxis": "y"
          },
          {
           "hovertemplate": "<b>%{hovertext}</b><br><br>main=True<br>type=next<br>step=1<br>name=0<br>x=%{x}<br>y=%{y}<extra></extra>",
           "hovertext": [
            "Next node of 0 <br> reward: 1.0 <br> action: [3, 1, 0, 4, 5, 1, 3, 1, 4, 2] <br> in system: 1.0"
           ],
           "legendgroup": "True, next",
           "line": {
            "color": "#636efa",
            "dash": "solid"
           },
           "marker": {
            "symbol": "diamond"
           },
           "mode": "lines+markers",
           "name": "True, next",
           "orientation": "v",
           "showlegend": true,
           "type": "scatter",
           "x": [
            1
           ],
           "xaxis": "x",
           "y": [
            0.86
           ],
           "yaxis": "y"
          },
          {
           "hovertemplate": "<b>%{hovertext}</b><br><br>main=False<br>type=last<br>step=1<br>name=1<br>x=%{x}<br>y=%{y}<extra></extra>",
           "hovertext": [
            "Last node of 1 <br> reward: 1.0 <br> action: [3, 1, 0, 4, 5, 1, 3, 1, 4, 2] <br> in system: 0.0"
           ],
           "legendgroup": "False, last",
           "line": {
            "color": "#EF553B",
            "dash": "solid"
           },
           "marker": {
            "symbol": "circle"
           },
           "mode": "lines+markers",
           "name": "False, last",
           "orientation": "v",
           "showlegend": true,
           "type": "scatter",
           "x": [
            0
           ],
           "xaxis": "x",
           "y": [
            0
           ],
           "yaxis": "y"
          },
          {
           "hovertemplate": "<b>%{hovertext}</b><br><br>main=False<br>type=last<br>step=1<br>name=2<br>x=%{x}<br>y=%{y}<extra></extra>",
           "hovertext": [
            "Last node of 2 <br> reward: 1.0 <br> action: [3, 1, 0, 4, 5, 1, 3, 1, 4, 2] <br> in system: 0.0"
           ],
           "legendgroup": "False, last",
           "line": {
            "color": "#EF553B",
            "dash": "solid"
           },
           "marker": {
            "symbol": "circle"
           },
           "mode": "lines+markers",
           "name": "False, last",
           "orientation": "v",
           "showlegend": false,
           "type": "scatter",
           "x": [
            0
           ],
           "xaxis": "x",
           "y": [
            0
           ],
           "yaxis": "y"
          },
          {
           "hovertemplate": "<b>%{hovertext}</b><br><br>main=False<br>type=last<br>step=1<br>name=3<br>x=%{x}<br>y=%{y}<extra></extra>",
           "hovertext": [
            "Last node of 3 <br> reward: 1.0 <br> action: [3, 1, 0, 4, 5, 1, 3, 1, 4, 2] <br> in system: 0.0"
           ],
           "legendgroup": "False, last",
           "line": {
            "color": "#EF553B",
            "dash": "solid"
           },
           "marker": {
            "symbol": "circle"
           },
           "mode": "lines+markers",
           "name": "False, last",
           "orientation": "v",
           "showlegend": false,
           "type": "scatter",
           "x": [
            1
           ],
           "xaxis": "x",
           "y": [
            0.76
           ],
           "yaxis": "y"
          },
          {
           "hovertemplate": "<b>%{hovertext}</b><br><br>main=False<br>type=last<br>step=1<br>name=4<br>x=%{x}<br>y=%{y}<extra></extra>",
           "hovertext": [
            "Last node of 4 <br> reward: 1.0 <br> action: [3, 1, 0, 4, 5, 1, 3, 1, 4, 2] <br> in system: 1.0"
           ],
           "legendgroup": "False, last",
           "line": {
            "color": "#EF553B",
            "dash": "solid"
           },
           "marker": {
            "symbol": "circle"
           },
           "mode": "lines+markers",
           "name": "False, last",
           "orientation": "v",
           "showlegend": false,
           "type": "scatter",
           "x": [
            0.9431818181818182
           ],
           "xaxis": "x",
           "y": [
            0.86
           ],
           "yaxis": "y"
          },
          {
           "hovertemplate": "<b>%{hovertext}</b><br><br>main=False<br>type=last<br>step=1<br>name=5<br>x=%{x}<br>y=%{y}<extra></extra>",
           "hovertext": [
            "Last node of 5 <br> reward: 1.0 <br> action: [3, 1, 0, 4, 5, 1, 3, 1, 4, 2] <br> in system: 1.0"
           ],
           "legendgroup": "False, last",
           "line": {
            "color": "#EF553B",
            "dash": "solid"
           },
           "marker": {
            "symbol": "circle"
           },
           "mode": "lines+markers",
           "name": "False, last",
           "orientation": "v",
           "showlegend": false,
           "type": "scatter",
           "x": [
            0.7909090909090909
           ],
           "xaxis": "x",
           "y": [
            0.62
           ],
           "yaxis": "y"
          },
          {
           "hovertemplate": "<b>%{hovertext}</b><br><br>main=False<br>type=last<br>step=1<br>name=6<br>x=%{x}<br>y=%{y}<extra></extra>",
           "hovertext": [
            "Last node of 6 <br> reward: 1.0 <br> action: [3, 1, 0, 4, 5, 1, 3, 1, 4, 2] <br> in system: 0.0"
           ],
           "legendgroup": "False, last",
           "line": {
            "color": "#EF553B",
            "dash": "solid"
           },
           "marker": {
            "symbol": "circle"
           },
           "mode": "lines+markers",
           "name": "False, last",
           "orientation": "v",
           "showlegend": false,
           "type": "scatter",
           "x": [
            0
           ],
           "xaxis": "x",
           "y": [
            0
           ],
           "yaxis": "y"
          },
          {
           "hovertemplate": "<b>%{hovertext}</b><br><br>main=False<br>type=last<br>step=1<br>name=7<br>x=%{x}<br>y=%{y}<extra></extra>",
           "hovertext": [
            "Last node of 7 <br> reward: 1.0 <br> action: [3, 1, 0, 4, 5, 1, 3, 1, 4, 2] <br> in system: 1.0"
           ],
           "legendgroup": "False, last",
           "line": {
            "color": "#EF553B",
            "dash": "solid"
           },
           "marker": {
            "symbol": "circle"
           },
           "mode": "lines+markers",
           "name": "False, last",
           "orientation": "v",
           "showlegend": false,
           "type": "scatter",
           "x": [
            0.42045454545454547
           ],
           "xaxis": "x",
           "y": [
            0.86
           ],
           "yaxis": "y"
          },
          {
           "hovertemplate": "<b>%{hovertext}</b><br><br>main=False<br>type=last<br>step=1<br>name=8<br>x=%{x}<br>y=%{y}<extra></extra>",
           "hovertext": [
            "Last node of 8 <br> reward: 1.0 <br> action: [3, 1, 0, 4, 5, 1, 3, 1, 4, 2] <br> in system: 0.0"
           ],
           "legendgroup": "False, last",
           "line": {
            "color": "#EF553B",
            "dash": "solid"
           },
           "marker": {
            "symbol": "circle"
           },
           "mode": "lines+markers",
           "name": "False, last",
           "orientation": "v",
           "showlegend": false,
           "type": "scatter",
           "x": [
            0
           ],
           "xaxis": "x",
           "y": [
            0
           ],
           "yaxis": "y"
          },
          {
           "hovertemplate": "<b>%{hovertext}</b><br><br>main=False<br>type=last<br>step=1<br>name=9<br>x=%{x}<br>y=%{y}<extra></extra>",
           "hovertext": [
            "Last node of 9 <br> reward: 1.0 <br> action: [3, 1, 0, 4, 5, 1, 3, 1, 4, 2] <br> in system: 0.0"
           ],
           "legendgroup": "False, last",
           "line": {
            "color": "#EF553B",
            "dash": "solid"
           },
           "marker": {
            "symbol": "circle"
           },
           "mode": "lines+markers",
           "name": "False, last",
           "orientation": "v",
           "showlegend": false,
           "type": "scatter",
           "x": [
            1
           ],
           "xaxis": "x",
           "y": [
            0.86
           ],
           "yaxis": "y"
          },
          {
           "hovertemplate": "<b>%{hovertext}</b><br><br>main=False<br>type=next<br>step=1<br>name=1<br>x=%{x}<br>y=%{y}<extra></extra>",
           "hovertext": [
            "Next node of 1 <br> reward: 1.0 <br> action: [3, 1, 0, 4, 5, 1, 3, 1, 4, 2] <br> in system: 0.0"
           ],
           "legendgroup": "False, next",
           "line": {
            "color": "#EF553B",
            "dash": "solid"
           },
           "marker": {
            "symbol": "diamond"
           },
           "mode": "lines+markers",
           "name": "False, next",
           "orientation": "v",
           "showlegend": true,
           "type": "scatter",
           "x": [
            0
           ],
           "xaxis": "x",
           "y": [
            0
           ],
           "yaxis": "y"
          },
          {
           "hovertemplate": "<b>%{hovertext}</b><br><br>main=False<br>type=next<br>step=1<br>name=2<br>x=%{x}<br>y=%{y}<extra></extra>",
           "hovertext": [
            "Next node of 2 <br> reward: 1.0 <br> action: [3, 1, 0, 4, 5, 1, 3, 1, 4, 2] <br> in system: 0.0"
           ],
           "legendgroup": "False, next",
           "line": {
            "color": "#EF553B",
            "dash": "solid"
           },
           "marker": {
            "symbol": "diamond"
           },
           "mode": "lines+markers",
           "name": "False, next",
           "orientation": "v",
           "showlegend": false,
           "type": "scatter",
           "x": [
            0
           ],
           "xaxis": "x",
           "y": [
            0
           ],
           "yaxis": "y"
          },
          {
           "hovertemplate": "<b>%{hovertext}</b><br><br>main=False<br>type=next<br>step=1<br>name=3<br>x=%{x}<br>y=%{y}<extra></extra>",
           "hovertext": [
            "Next node of 3 <br> reward: 1.0 <br> action: [3, 1, 0, 4, 5, 1, 3, 1, 4, 2] <br> in system: 0.0"
           ],
           "legendgroup": "False, next",
           "line": {
            "color": "#EF553B",
            "dash": "solid"
           },
           "marker": {
            "symbol": "diamond"
           },
           "mode": "lines+markers",
           "name": "False, next",
           "orientation": "v",
           "showlegend": false,
           "type": "scatter",
           "x": [
            1
           ],
           "xaxis": "x",
           "y": [
            0.86
           ],
           "yaxis": "y"
          },
          {
           "hovertemplate": "<b>%{hovertext}</b><br><br>main=False<br>type=next<br>step=1<br>name=4<br>x=%{x}<br>y=%{y}<extra></extra>",
           "hovertext": [
            "Next node of 4 <br> reward: 1.0 <br> action: [3, 1, 0, 4, 5, 1, 3, 1, 4, 2] <br> in system: 1.0"
           ],
           "legendgroup": "False, next",
           "line": {
            "color": "#EF553B",
            "dash": "solid"
           },
           "marker": {
            "symbol": "diamond"
           },
           "mode": "lines+markers",
           "name": "False, next",
           "orientation": "v",
           "showlegend": false,
           "type": "scatter",
           "x": [
            1
           ],
           "xaxis": "x",
           "y": [
            0.86
           ],
           "yaxis": "y"
          },
          {
           "hovertemplate": "<b>%{hovertext}</b><br><br>main=False<br>type=next<br>step=1<br>name=5<br>x=%{x}<br>y=%{y}<extra></extra>",
           "hovertext": [
            "Next node of 5 <br> reward: 1.0 <br> action: [3, 1, 0, 4, 5, 1, 3, 1, 4, 2] <br> in system: 1.0"
           ],
           "legendgroup": "False, next",
           "line": {
            "color": "#EF553B",
            "dash": "solid"
           },
           "marker": {
            "symbol": "diamond"
           },
           "mode": "lines+markers",
           "name": "False, next",
           "orientation": "v",
           "showlegend": false,
           "type": "scatter",
           "x": [
            0.8181818181818182
           ],
           "xaxis": "x",
           "y": [
            0.76
           ],
           "yaxis": "y"
          },
          {
           "hovertemplate": "<b>%{hovertext}</b><br><br>main=False<br>type=next<br>step=1<br>name=6<br>x=%{x}<br>y=%{y}<extra></extra>",
           "hovertext": [
            "Next node of 6 <br> reward: 1.0 <br> action: [3, 1, 0, 4, 5, 1, 3, 1, 4, 2] <br> in system: 0.0"
           ],
           "legendgroup": "False, next",
           "line": {
            "color": "#EF553B",
            "dash": "solid"
           },
           "marker": {
            "symbol": "diamond"
           },
           "mode": "lines+markers",
           "name": "False, next",
           "orientation": "v",
           "showlegend": false,
           "type": "scatter",
           "x": [
            0
           ],
           "xaxis": "x",
           "y": [
            0
           ],
           "yaxis": "y"
          },
          {
           "hovertemplate": "<b>%{hovertext}</b><br><br>main=False<br>type=next<br>step=1<br>name=7<br>x=%{x}<br>y=%{y}<extra></extra>",
           "hovertext": [
            "Next node of 7 <br> reward: 1.0 <br> action: [3, 1, 0, 4, 5, 1, 3, 1, 4, 2] <br> in system: 1.0"
           ],
           "legendgroup": "False, next",
           "line": {
            "color": "#EF553B",
            "dash": "solid"
           },
           "marker": {
            "symbol": "diamond"
           },
           "mode": "lines+markers",
           "name": "False, next",
           "orientation": "v",
           "showlegend": false,
           "type": "scatter",
           "x": [
            0.42045454545454547
           ],
           "xaxis": "x",
           "y": [
            0.76
           ],
           "yaxis": "y"
          },
          {
           "hovertemplate": "<b>%{hovertext}</b><br><br>main=False<br>type=next<br>step=1<br>name=8<br>x=%{x}<br>y=%{y}<extra></extra>",
           "hovertext": [
            "Next node of 8 <br> reward: 1.0 <br> action: [3, 1, 0, 4, 5, 1, 3, 1, 4, 2] <br> in system: 0.0"
           ],
           "legendgroup": "False, next",
           "line": {
            "color": "#EF553B",
            "dash": "solid"
           },
           "marker": {
            "symbol": "diamond"
           },
           "mode": "lines+markers",
           "name": "False, next",
           "orientation": "v",
           "showlegend": false,
           "type": "scatter",
           "x": [
            0
           ],
           "xaxis": "x",
           "y": [
            0
           ],
           "yaxis": "y"
          },
          {
           "hovertemplate": "<b>%{hovertext}</b><br><br>main=False<br>type=next<br>step=1<br>name=9<br>x=%{x}<br>y=%{y}<extra></extra>",
           "hovertext": [
            "Next node of 9 <br> reward: 1.0 <br> action: [3, 1, 0, 4, 5, 1, 3, 1, 4, 2] <br> in system: 0.0"
           ],
           "legendgroup": "False, next",
           "line": {
            "color": "#EF553B",
            "dash": "solid"
           },
           "marker": {
            "symbol": "diamond"
           },
           "mode": "lines+markers",
           "name": "False, next",
           "orientation": "v",
           "showlegend": false,
           "type": "scatter",
           "x": [
            1
           ],
           "xaxis": "x",
           "y": [
            0.76
           ],
           "yaxis": "y"
          }
         ],
         "name": "1"
        },
        {
         "data": [
          {
           "hovertemplate": "<b>%{hovertext}</b><br><br>main=True<br>type=last<br>step=2<br>name=0<br>x=%{x}<br>y=%{y}<extra></extra>",
           "hovertext": [
            "Last node of 0 <br> reward: 1.0 <br> action: [5, 3, 0, 5, 2, 3, 3, 0, 2, 0] <br> in system: 1.0"
           ],
           "legendgroup": "True, last",
           "line": {
            "color": "#636efa",
            "dash": "solid"
           },
           "marker": {
            "symbol": "circle"
           },
           "mode": "lines+markers",
           "name": "True, last",
           "orientation": "v",
           "showlegend": true,
           "type": "scatter",
           "x": [
            1
           ],
           "xaxis": "x",
           "y": [
            0.86
           ],
           "yaxis": "y"
          },
          {
           "hovertemplate": "<b>%{hovertext}</b><br><br>main=True<br>type=next<br>step=2<br>name=0<br>x=%{x}<br>y=%{y}<extra></extra>",
           "hovertext": [
            "Next node of 0 <br> reward: 1.0 <br> action: [5, 3, 0, 5, 2, 3, 3, 0, 2, 0] <br> in system: 1.0"
           ],
           "legendgroup": "True, next",
           "line": {
            "color": "#636efa",
            "dash": "solid"
           },
           "marker": {
            "symbol": "diamond"
           },
           "mode": "lines+markers",
           "name": "True, next",
           "orientation": "v",
           "showlegend": true,
           "type": "scatter",
           "x": [
            1
           ],
           "xaxis": "x",
           "y": [
            0.86
           ],
           "yaxis": "y"
          },
          {
           "hovertemplate": "<b>%{hovertext}</b><br><br>main=False<br>type=last<br>step=2<br>name=1<br>x=%{x}<br>y=%{y}<extra></extra>",
           "hovertext": [
            "Last node of 1 <br> reward: 1.0 <br> action: [5, 3, 0, 5, 2, 3, 3, 0, 2, 0] <br> in system: 0.0"
           ],
           "legendgroup": "False, last",
           "line": {
            "color": "#EF553B",
            "dash": "solid"
           },
           "marker": {
            "symbol": "circle"
           },
           "mode": "lines+markers",
           "name": "False, last",
           "orientation": "v",
           "showlegend": true,
           "type": "scatter",
           "x": [
            0
           ],
           "xaxis": "x",
           "y": [
            0
           ],
           "yaxis": "y"
          },
          {
           "hovertemplate": "<b>%{hovertext}</b><br><br>main=False<br>type=last<br>step=2<br>name=2<br>x=%{x}<br>y=%{y}<extra></extra>",
           "hovertext": [
            "Last node of 2 <br> reward: 1.0 <br> action: [5, 3, 0, 5, 2, 3, 3, 0, 2, 0] <br> in system: 0.0"
           ],
           "legendgroup": "False, last",
           "line": {
            "color": "#EF553B",
            "dash": "solid"
           },
           "marker": {
            "symbol": "circle"
           },
           "mode": "lines+markers",
           "name": "False, last",
           "orientation": "v",
           "showlegend": false,
           "type": "scatter",
           "x": [
            0
           ],
           "xaxis": "x",
           "y": [
            0
           ],
           "yaxis": "y"
          },
          {
           "hovertemplate": "<b>%{hovertext}</b><br><br>main=False<br>type=last<br>step=2<br>name=3<br>x=%{x}<br>y=%{y}<extra></extra>",
           "hovertext": [
            "Last node of 3 <br> reward: 1.0 <br> action: [5, 3, 0, 5, 2, 3, 3, 0, 2, 0] <br> in system: 0.0"
           ],
           "legendgroup": "False, last",
           "line": {
            "color": "#EF553B",
            "dash": "solid"
           },
           "marker": {
            "symbol": "circle"
           },
           "mode": "lines+markers",
           "name": "False, last",
           "orientation": "v",
           "showlegend": false,
           "type": "scatter",
           "x": [
            0
           ],
           "xaxis": "x",
           "y": [
            0
           ],
           "yaxis": "y"
          },
          {
           "hovertemplate": "<b>%{hovertext}</b><br><br>main=False<br>type=last<br>step=2<br>name=4<br>x=%{x}<br>y=%{y}<extra></extra>",
           "hovertext": [
            "Last node of 4 <br> reward: 1.0 <br> action: [5, 3, 0, 5, 2, 3, 3, 0, 2, 0] <br> in system: 1.0"
           ],
           "legendgroup": "False, last",
           "line": {
            "color": "#EF553B",
            "dash": "solid"
           },
           "marker": {
            "symbol": "circle"
           },
           "mode": "lines+markers",
           "name": "False, last",
           "orientation": "v",
           "showlegend": false,
           "type": "scatter",
           "x": [
            0.42045454545454547
           ],
           "xaxis": "x",
           "y": [
            0.86
           ],
           "yaxis": "y"
          },
          {
           "hovertemplate": "<b>%{hovertext}</b><br><br>main=False<br>type=last<br>step=2<br>name=5<br>x=%{x}<br>y=%{y}<extra></extra>",
           "hovertext": [
            "Last node of 5 <br> reward: 1.0 <br> action: [5, 3, 0, 5, 2, 3, 3, 0, 2, 0] <br> in system: 0.0"
           ],
           "legendgroup": "False, last",
           "line": {
            "color": "#EF553B",
            "dash": "solid"
           },
           "marker": {
            "symbol": "circle"
           },
           "mode": "lines+markers",
           "name": "False, last",
           "orientation": "v",
           "showlegend": false,
           "type": "scatter",
           "x": [
            1
           ],
           "xaxis": "x",
           "y": [
            0.86
           ],
           "yaxis": "y"
          },
          {
           "hovertemplate": "<b>%{hovertext}</b><br><br>main=False<br>type=last<br>step=2<br>name=6<br>x=%{x}<br>y=%{y}<extra></extra>",
           "hovertext": [
            "Last node of 6 <br> reward: 1.0 <br> action: [5, 3, 0, 5, 2, 3, 3, 0, 2, 0] <br> in system: 1.0"
           ],
           "legendgroup": "False, last",
           "line": {
            "color": "#EF553B",
            "dash": "solid"
           },
           "marker": {
            "symbol": "circle"
           },
           "mode": "lines+markers",
           "name": "False, last",
           "orientation": "v",
           "showlegend": false,
           "type": "scatter",
           "x": [
            0.8181818181818182
           ],
           "xaxis": "x",
           "y": [
            0.76
           ],
           "yaxis": "y"
          },
          {
           "hovertemplate": "<b>%{hovertext}</b><br><br>main=False<br>type=last<br>step=2<br>name=7<br>x=%{x}<br>y=%{y}<extra></extra>",
           "hovertext": [
            "Last node of 7 <br> reward: 1.0 <br> action: [5, 3, 0, 5, 2, 3, 3, 0, 2, 0] <br> in system: 1.0"
           ],
           "legendgroup": "False, last",
           "line": {
            "color": "#EF553B",
            "dash": "solid"
           },
           "marker": {
            "symbol": "circle"
           },
           "mode": "lines+markers",
           "name": "False, last",
           "orientation": "v",
           "showlegend": false,
           "type": "scatter",
           "x": [
            0.9431818181818182
           ],
           "xaxis": "x",
           "y": [
            0.86
           ],
           "yaxis": "y"
          },
          {
           "hovertemplate": "<b>%{hovertext}</b><br><br>main=False<br>type=last<br>step=2<br>name=8<br>x=%{x}<br>y=%{y}<extra></extra>",
           "hovertext": [
            "Last node of 8 <br> reward: 1.0 <br> action: [5, 3, 0, 5, 2, 3, 3, 0, 2, 0] <br> in system: 0.0"
           ],
           "legendgroup": "False, last",
           "line": {
            "color": "#EF553B",
            "dash": "solid"
           },
           "marker": {
            "symbol": "circle"
           },
           "mode": "lines+markers",
           "name": "False, last",
           "orientation": "v",
           "showlegend": false,
           "type": "scatter",
           "x": [
            0
           ],
           "xaxis": "x",
           "y": [
            0
           ],
           "yaxis": "y"
          },
          {
           "hovertemplate": "<b>%{hovertext}</b><br><br>main=False<br>type=last<br>step=2<br>name=9<br>x=%{x}<br>y=%{y}<extra></extra>",
           "hovertext": [
            "Last node of 9 <br> reward: 1.0 <br> action: [5, 3, 0, 5, 2, 3, 3, 0, 2, 0] <br> in system: 0.0"
           ],
           "legendgroup": "False, last",
           "line": {
            "color": "#EF553B",
            "dash": "solid"
           },
           "marker": {
            "symbol": "circle"
           },
           "mode": "lines+markers",
           "name": "False, last",
           "orientation": "v",
           "showlegend": false,
           "type": "scatter",
           "x": [
            1
           ],
           "xaxis": "x",
           "y": [
            0.76
           ],
           "yaxis": "y"
          },
          {
           "hovertemplate": "<b>%{hovertext}</b><br><br>main=False<br>type=next<br>step=2<br>name=1<br>x=%{x}<br>y=%{y}<extra></extra>",
           "hovertext": [
            "Next node of 1 <br> reward: 1.0 <br> action: [5, 3, 0, 5, 2, 3, 3, 0, 2, 0] <br> in system: 0.0"
           ],
           "legendgroup": "False, next",
           "line": {
            "color": "#EF553B",
            "dash": "solid"
           },
           "marker": {
            "symbol": "diamond"
           },
           "mode": "lines+markers",
           "name": "False, next",
           "orientation": "v",
           "showlegend": true,
           "type": "scatter",
           "x": [
            0
           ],
           "xaxis": "x",
           "y": [
            0
           ],
           "yaxis": "y"
          },
          {
           "hovertemplate": "<b>%{hovertext}</b><br><br>main=False<br>type=next<br>step=2<br>name=2<br>x=%{x}<br>y=%{y}<extra></extra>",
           "hovertext": [
            "Next node of 2 <br> reward: 1.0 <br> action: [5, 3, 0, 5, 2, 3, 3, 0, 2, 0] <br> in system: 0.0"
           ],
           "legendgroup": "False, next",
           "line": {
            "color": "#EF553B",
            "dash": "solid"
           },
           "marker": {
            "symbol": "diamond"
           },
           "mode": "lines+markers",
           "name": "False, next",
           "orientation": "v",
           "showlegend": false,
           "type": "scatter",
           "x": [
            0
           ],
           "xaxis": "x",
           "y": [
            0
           ],
           "yaxis": "y"
          },
          {
           "hovertemplate": "<b>%{hovertext}</b><br><br>main=False<br>type=next<br>step=2<br>name=3<br>x=%{x}<br>y=%{y}<extra></extra>",
           "hovertext": [
            "Next node of 3 <br> reward: 1.0 <br> action: [5, 3, 0, 5, 2, 3, 3, 0, 2, 0] <br> in system: 0.0"
           ],
           "legendgroup": "False, next",
           "line": {
            "color": "#EF553B",
            "dash": "solid"
           },
           "marker": {
            "symbol": "diamond"
           },
           "mode": "lines+markers",
           "name": "False, next",
           "orientation": "v",
           "showlegend": false,
           "type": "scatter",
           "x": [
            0
           ],
           "xaxis": "x",
           "y": [
            0
           ],
           "yaxis": "y"
          },
          {
           "hovertemplate": "<b>%{hovertext}</b><br><br>main=False<br>type=next<br>step=2<br>name=4<br>x=%{x}<br>y=%{y}<extra></extra>",
           "hovertext": [
            "Next node of 4 <br> reward: 1.0 <br> action: [5, 3, 0, 5, 2, 3, 3, 0, 2, 0] <br> in system: 1.0"
           ],
           "legendgroup": "False, next",
           "line": {
            "color": "#EF553B",
            "dash": "solid"
           },
           "marker": {
            "symbol": "diamond"
           },
           "mode": "lines+markers",
           "name": "False, next",
           "orientation": "v",
           "showlegend": false,
           "type": "scatter",
           "x": [
            0.42045454545454547
           ],
           "xaxis": "x",
           "y": [
            0.76
           ],
           "yaxis": "y"
          },
          {
           "hovertemplate": "<b>%{hovertext}</b><br><br>main=False<br>type=next<br>step=2<br>name=5<br>x=%{x}<br>y=%{y}<extra></extra>",
           "hovertext": [
            "Next node of 5 <br> reward: 1.0 <br> action: [5, 3, 0, 5, 2, 3, 3, 0, 2, 0] <br> in system: 0.0"
           ],
           "legendgroup": "False, next",
           "line": {
            "color": "#EF553B",
            "dash": "solid"
           },
           "marker": {
            "symbol": "diamond"
           },
           "mode": "lines+markers",
           "name": "False, next",
           "orientation": "v",
           "showlegend": false,
           "type": "scatter",
           "x": [
            1
           ],
           "xaxis": "x",
           "y": [
            0.76
           ],
           "yaxis": "y"
          },
          {
           "hovertemplate": "<b>%{hovertext}</b><br><br>main=False<br>type=next<br>step=2<br>name=6<br>x=%{x}<br>y=%{y}<extra></extra>",
           "hovertext": [
            "Next node of 6 <br> reward: 1.0 <br> action: [5, 3, 0, 5, 2, 3, 3, 0, 2, 0] <br> in system: 1.0"
           ],
           "legendgroup": "False, next",
           "line": {
            "color": "#EF553B",
            "dash": "solid"
           },
           "marker": {
            "symbol": "diamond"
           },
           "mode": "lines+markers",
           "name": "False, next",
           "orientation": "v",
           "showlegend": false,
           "type": "scatter",
           "x": [
            0.7613636363636364
           ],
           "xaxis": "x",
           "y": [
            0.76
           ],
           "yaxis": "y"
          },
          {
           "hovertemplate": "<b>%{hovertext}</b><br><br>main=False<br>type=next<br>step=2<br>name=7<br>x=%{x}<br>y=%{y}<extra></extra>",
           "hovertext": [
            "Next node of 7 <br> reward: 1.0 <br> action: [5, 3, 0, 5, 2, 3, 3, 0, 2, 0] <br> in system: 1.0"
           ],
           "legendgroup": "False, next",
           "line": {
            "color": "#EF553B",
            "dash": "solid"
           },
           "marker": {
            "symbol": "diamond"
           },
           "mode": "lines+markers",
           "name": "False, next",
           "orientation": "v",
           "showlegend": false,
           "type": "scatter",
           "x": [
            1
           ],
           "xaxis": "x",
           "y": [
            0.86
           ],
           "yaxis": "y"
          },
          {
           "hovertemplate": "<b>%{hovertext}</b><br><br>main=False<br>type=next<br>step=2<br>name=8<br>x=%{x}<br>y=%{y}<extra></extra>",
           "hovertext": [
            "Next node of 8 <br> reward: 1.0 <br> action: [5, 3, 0, 5, 2, 3, 3, 0, 2, 0] <br> in system: 0.0"
           ],
           "legendgroup": "False, next",
           "line": {
            "color": "#EF553B",
            "dash": "solid"
           },
           "marker": {
            "symbol": "diamond"
           },
           "mode": "lines+markers",
           "name": "False, next",
           "orientation": "v",
           "showlegend": false,
           "type": "scatter",
           "x": [
            0
           ],
           "xaxis": "x",
           "y": [
            0
           ],
           "yaxis": "y"
          },
          {
           "hovertemplate": "<b>%{hovertext}</b><br><br>main=False<br>type=next<br>step=2<br>name=9<br>x=%{x}<br>y=%{y}<extra></extra>",
           "hovertext": [
            "Next node of 9 <br> reward: 1.0 <br> action: [5, 3, 0, 5, 2, 3, 3, 0, 2, 0] <br> in system: 0.0"
           ],
           "legendgroup": "False, next",
           "line": {
            "color": "#EF553B",
            "dash": "solid"
           },
           "marker": {
            "symbol": "diamond"
           },
           "mode": "lines+markers",
           "name": "False, next",
           "orientation": "v",
           "showlegend": false,
           "type": "scatter",
           "x": [
            1
           ],
           "xaxis": "x",
           "y": [
            0.86
           ],
           "yaxis": "y"
          }
         ],
         "name": "2"
        },
        {
         "data": [
          {
           "hovertemplate": "<b>%{hovertext}</b><br><br>main=True<br>type=last<br>step=3<br>name=0<br>x=%{x}<br>y=%{y}<extra></extra>",
           "hovertext": [
            "Last node of 0 <br> reward: 1.0 <br> action: [5, 0, 3, 0, 2, 1, 4, 3, 1, 4] <br> in system: 1.0"
           ],
           "legendgroup": "True, last",
           "line": {
            "color": "#636efa",
            "dash": "solid"
           },
           "marker": {
            "symbol": "circle"
           },
           "mode": "lines+markers",
           "name": "True, last",
           "orientation": "v",
           "showlegend": true,
           "type": "scatter",
           "x": [
            1
           ],
           "xaxis": "x",
           "y": [
            0.86
           ],
           "yaxis": "y"
          },
          {
           "hovertemplate": "<b>%{hovertext}</b><br><br>main=True<br>type=next<br>step=3<br>name=0<br>x=%{x}<br>y=%{y}<extra></extra>",
           "hovertext": [
            "Next node of 0 <br> reward: 1.0 <br> action: [5, 0, 3, 0, 2, 1, 4, 3, 1, 4] <br> in system: 1.0"
           ],
           "legendgroup": "True, next",
           "line": {
            "color": "#636efa",
            "dash": "solid"
           },
           "marker": {
            "symbol": "diamond"
           },
           "mode": "lines+markers",
           "name": "True, next",
           "orientation": "v",
           "showlegend": true,
           "type": "scatter",
           "x": [
            1
           ],
           "xaxis": "x",
           "y": [
            0.86
           ],
           "yaxis": "y"
          },
          {
           "hovertemplate": "<b>%{hovertext}</b><br><br>main=False<br>type=last<br>step=3<br>name=1<br>x=%{x}<br>y=%{y}<extra></extra>",
           "hovertext": [
            "Last node of 1 <br> reward: 1.0 <br> action: [5, 0, 3, 0, 2, 1, 4, 3, 1, 4] <br> in system: 1.0"
           ],
           "legendgroup": "False, last",
           "line": {
            "color": "#EF553B",
            "dash": "solid"
           },
           "marker": {
            "symbol": "circle"
           },
           "mode": "lines+markers",
           "name": "False, last",
           "orientation": "v",
           "showlegend": true,
           "type": "scatter",
           "x": [
            0.42045454545454547
           ],
           "xaxis": "x",
           "y": [
            0.86
           ],
           "yaxis": "y"
          },
          {
           "hovertemplate": "<b>%{hovertext}</b><br><br>main=False<br>type=last<br>step=3<br>name=2<br>x=%{x}<br>y=%{y}<extra></extra>",
           "hovertext": [
            "Last node of 2 <br> reward: 1.0 <br> action: [5, 0, 3, 0, 2, 1, 4, 3, 1, 4] <br> in system: 0.0"
           ],
           "legendgroup": "False, last",
           "line": {
            "color": "#EF553B",
            "dash": "solid"
           },
           "marker": {
            "symbol": "circle"
           },
           "mode": "lines+markers",
           "name": "False, last",
           "orientation": "v",
           "showlegend": false,
           "type": "scatter",
           "x": [
            0
           ],
           "xaxis": "x",
           "y": [
            0
           ],
           "yaxis": "y"
          },
          {
           "hovertemplate": "<b>%{hovertext}</b><br><br>main=False<br>type=last<br>step=3<br>name=3<br>x=%{x}<br>y=%{y}<extra></extra>",
           "hovertext": [
            "Last node of 3 <br> reward: 1.0 <br> action: [5, 0, 3, 0, 2, 1, 4, 3, 1, 4] <br> in system: 0.0"
           ],
           "legendgroup": "False, last",
           "line": {
            "color": "#EF553B",
            "dash": "solid"
           },
           "marker": {
            "symbol": "circle"
           },
           "mode": "lines+markers",
           "name": "False, last",
           "orientation": "v",
           "showlegend": false,
           "type": "scatter",
           "x": [
            0
           ],
           "xaxis": "x",
           "y": [
            0
           ],
           "yaxis": "y"
          },
          {
           "hovertemplate": "<b>%{hovertext}</b><br><br>main=False<br>type=last<br>step=3<br>name=4<br>x=%{x}<br>y=%{y}<extra></extra>",
           "hovertext": [
            "Last node of 4 <br> reward: 1.0 <br> action: [5, 0, 3, 0, 2, 1, 4, 3, 1, 4] <br> in system: 1.0"
           ],
           "legendgroup": "False, last",
           "line": {
            "color": "#EF553B",
            "dash": "solid"
           },
           "marker": {
            "symbol": "circle"
           },
           "mode": "lines+markers",
           "name": "False, last",
           "orientation": "v",
           "showlegend": false,
           "type": "scatter",
           "x": [
            0.9431818181818182
           ],
           "xaxis": "x",
           "y": [
            0.86
           ],
           "yaxis": "y"
          },
          {
           "hovertemplate": "<b>%{hovertext}</b><br><br>main=False<br>type=last<br>step=3<br>name=5<br>x=%{x}<br>y=%{y}<extra></extra>",
           "hovertext": [
            "Last node of 5 <br> reward: 1.0 <br> action: [5, 0, 3, 0, 2, 1, 4, 3, 1, 4] <br> in system: 0.0"
           ],
           "legendgroup": "False, last",
           "line": {
            "color": "#EF553B",
            "dash": "solid"
           },
           "marker": {
            "symbol": "circle"
           },
           "mode": "lines+markers",
           "name": "False, last",
           "orientation": "v",
           "showlegend": false,
           "type": "scatter",
           "x": [
            0
           ],
           "xaxis": "x",
           "y": [
            0
           ],
           "yaxis": "y"
          },
          {
           "hovertemplate": "<b>%{hovertext}</b><br><br>main=False<br>type=last<br>step=3<br>name=6<br>x=%{x}<br>y=%{y}<extra></extra>",
           "hovertext": [
            "Last node of 6 <br> reward: 1.0 <br> action: [5, 0, 3, 0, 2, 1, 4, 3, 1, 4] <br> in system: 0.0"
           ],
           "legendgroup": "False, last",
           "line": {
            "color": "#EF553B",
            "dash": "solid"
           },
           "marker": {
            "symbol": "circle"
           },
           "mode": "lines+markers",
           "name": "False, last",
           "orientation": "v",
           "showlegend": false,
           "type": "scatter",
           "x": [
            1
           ],
           "xaxis": "x",
           "y": [
            0.76
           ],
           "yaxis": "y"
          },
          {
           "hovertemplate": "<b>%{hovertext}</b><br><br>main=False<br>type=last<br>step=3<br>name=7<br>x=%{x}<br>y=%{y}<extra></extra>",
           "hovertext": [
            "Last node of 7 <br> reward: 1.0 <br> action: [5, 0, 3, 0, 2, 1, 4, 3, 1, 4] <br> in system: 0.0"
           ],
           "legendgroup": "False, last",
           "line": {
            "color": "#EF553B",
            "dash": "solid"
           },
           "marker": {
            "symbol": "circle"
           },
           "mode": "lines+markers",
           "name": "False, last",
           "orientation": "v",
           "showlegend": false,
           "type": "scatter",
           "x": [
            0
           ],
           "xaxis": "x",
           "y": [
            0
           ],
           "yaxis": "y"
          },
          {
           "hovertemplate": "<b>%{hovertext}</b><br><br>main=False<br>type=last<br>step=3<br>name=8<br>x=%{x}<br>y=%{y}<extra></extra>",
           "hovertext": [
            "Last node of 8 <br> reward: 1.0 <br> action: [5, 0, 3, 0, 2, 1, 4, 3, 1, 4] <br> in system: 0.0"
           ],
           "legendgroup": "False, last",
           "line": {
            "color": "#EF553B",
            "dash": "solid"
           },
           "marker": {
            "symbol": "circle"
           },
           "mode": "lines+markers",
           "name": "False, last",
           "orientation": "v",
           "showlegend": false,
           "type": "scatter",
           "x": [
            1
           ],
           "xaxis": "x",
           "y": [
            0.86
           ],
           "yaxis": "y"
          },
          {
           "hovertemplate": "<b>%{hovertext}</b><br><br>main=False<br>type=last<br>step=3<br>name=9<br>x=%{x}<br>y=%{y}<extra></extra>",
           "hovertext": [
            "Last node of 9 <br> reward: 1.0 <br> action: [5, 0, 3, 0, 2, 1, 4, 3, 1, 4] <br> in system: 1.0"
           ],
           "legendgroup": "False, last",
           "line": {
            "color": "#EF553B",
            "dash": "solid"
           },
           "marker": {
            "symbol": "circle"
           },
           "mode": "lines+markers",
           "name": "False, last",
           "orientation": "v",
           "showlegend": false,
           "type": "scatter",
           "x": [
            0.8181818181818182
           ],
           "xaxis": "x",
           "y": [
            0.76
           ],
           "yaxis": "y"
          },
          {
           "hovertemplate": "<b>%{hovertext}</b><br><br>main=False<br>type=next<br>step=3<br>name=1<br>x=%{x}<br>y=%{y}<extra></extra>",
           "hovertext": [
            "Next node of 1 <br> reward: 1.0 <br> action: [5, 0, 3, 0, 2, 1, 4, 3, 1, 4] <br> in system: 1.0"
           ],
           "legendgroup": "False, next",
           "line": {
            "color": "#EF553B",
            "dash": "solid"
           },
           "marker": {
            "symbol": "diamond"
           },
           "mode": "lines+markers",
           "name": "False, next",
           "orientation": "v",
           "showlegend": true,
           "type": "scatter",
           "x": [
            0.42045454545454547
           ],
           "xaxis": "x",
           "y": [
            0.76
           ],
           "yaxis": "y"
          },
          {
           "hovertemplate": "<b>%{hovertext}</b><br><br>main=False<br>type=next<br>step=3<br>name=2<br>x=%{x}<br>y=%{y}<extra></extra>",
           "hovertext": [
            "Next node of 2 <br> reward: 1.0 <br> action: [5, 0, 3, 0, 2, 1, 4, 3, 1, 4] <br> in system: 0.0"
           ],
           "legendgroup": "False, next",
           "line": {
            "color": "#EF553B",
            "dash": "solid"
           },
           "marker": {
            "symbol": "diamond"
           },
           "mode": "lines+markers",
           "name": "False, next",
           "orientation": "v",
           "showlegend": false,
           "type": "scatter",
           "x": [
            0
           ],
           "xaxis": "x",
           "y": [
            0
           ],
           "yaxis": "y"
          },
          {
           "hovertemplate": "<b>%{hovertext}</b><br><br>main=False<br>type=next<br>step=3<br>name=3<br>x=%{x}<br>y=%{y}<extra></extra>",
           "hovertext": [
            "Next node of 3 <br> reward: 1.0 <br> action: [5, 0, 3, 0, 2, 1, 4, 3, 1, 4] <br> in system: 0.0"
           ],
           "legendgroup": "False, next",
           "line": {
            "color": "#EF553B",
            "dash": "solid"
           },
           "marker": {
            "symbol": "diamond"
           },
           "mode": "lines+markers",
           "name": "False, next",
           "orientation": "v",
           "showlegend": false,
           "type": "scatter",
           "x": [
            0
           ],
           "xaxis": "x",
           "y": [
            0
           ],
           "yaxis": "y"
          },
          {
           "hovertemplate": "<b>%{hovertext}</b><br><br>main=False<br>type=next<br>step=3<br>name=4<br>x=%{x}<br>y=%{y}<extra></extra>",
           "hovertext": [
            "Next node of 4 <br> reward: 1.0 <br> action: [5, 0, 3, 0, 2, 1, 4, 3, 1, 4] <br> in system: 1.0"
           ],
           "legendgroup": "False, next",
           "line": {
            "color": "#EF553B",
            "dash": "solid"
           },
           "marker": {
            "symbol": "diamond"
           },
           "mode": "lines+markers",
           "name": "False, next",
           "orientation": "v",
           "showlegend": false,
           "type": "scatter",
           "x": [
            1
           ],
           "xaxis": "x",
           "y": [
            0.86
           ],
           "yaxis": "y"
          },
          {
           "hovertemplate": "<b>%{hovertext}</b><br><br>main=False<br>type=next<br>step=3<br>name=5<br>x=%{x}<br>y=%{y}<extra></extra>",
           "hovertext": [
            "Next node of 5 <br> reward: 1.0 <br> action: [5, 0, 3, 0, 2, 1, 4, 3, 1, 4] <br> in system: 0.0"
           ],
           "legendgroup": "False, next",
           "line": {
            "color": "#EF553B",
            "dash": "solid"
           },
           "marker": {
            "symbol": "diamond"
           },
           "mode": "lines+markers",
           "name": "False, next",
           "orientation": "v",
           "showlegend": false,
           "type": "scatter",
           "x": [
            0
           ],
           "xaxis": "x",
           "y": [
            0
           ],
           "yaxis": "y"
          },
          {
           "hovertemplate": "<b>%{hovertext}</b><br><br>main=False<br>type=next<br>step=3<br>name=6<br>x=%{x}<br>y=%{y}<extra></extra>",
           "hovertext": [
            "Next node of 6 <br> reward: 1.0 <br> action: [5, 0, 3, 0, 2, 1, 4, 3, 1, 4] <br> in system: 0.0"
           ],
           "legendgroup": "False, next",
           "line": {
            "color": "#EF553B",
            "dash": "solid"
           },
           "marker": {
            "symbol": "diamond"
           },
           "mode": "lines+markers",
           "name": "False, next",
           "orientation": "v",
           "showlegend": false,
           "type": "scatter",
           "x": [
            1
           ],
           "xaxis": "x",
           "y": [
            0.86
           ],
           "yaxis": "y"
          },
          {
           "hovertemplate": "<b>%{hovertext}</b><br><br>main=False<br>type=next<br>step=3<br>name=7<br>x=%{x}<br>y=%{y}<extra></extra>",
           "hovertext": [
            "Next node of 7 <br> reward: 1.0 <br> action: [5, 0, 3, 0, 2, 1, 4, 3, 1, 4] <br> in system: 0.0"
           ],
           "legendgroup": "False, next",
           "line": {
            "color": "#EF553B",
            "dash": "solid"
           },
           "marker": {
            "symbol": "diamond"
           },
           "mode": "lines+markers",
           "name": "False, next",
           "orientation": "v",
           "showlegend": false,
           "type": "scatter",
           "x": [
            0
           ],
           "xaxis": "x",
           "y": [
            0
           ],
           "yaxis": "y"
          },
          {
           "hovertemplate": "<b>%{hovertext}</b><br><br>main=False<br>type=next<br>step=3<br>name=8<br>x=%{x}<br>y=%{y}<extra></extra>",
           "hovertext": [
            "Next node of 8 <br> reward: 1.0 <br> action: [5, 0, 3, 0, 2, 1, 4, 3, 1, 4] <br> in system: 0.0"
           ],
           "legendgroup": "False, next",
           "line": {
            "color": "#EF553B",
            "dash": "solid"
           },
           "marker": {
            "symbol": "diamond"
           },
           "mode": "lines+markers",
           "name": "False, next",
           "orientation": "v",
           "showlegend": false,
           "type": "scatter",
           "x": [
            1
           ],
           "xaxis": "x",
           "y": [
            0.76
           ],
           "yaxis": "y"
          },
          {
           "hovertemplate": "<b>%{hovertext}</b><br><br>main=False<br>type=next<br>step=3<br>name=9<br>x=%{x}<br>y=%{y}<extra></extra>",
           "hovertext": [
            "Next node of 9 <br> reward: 1.0 <br> action: [5, 0, 3, 0, 2, 1, 4, 3, 1, 4] <br> in system: 1.0"
           ],
           "legendgroup": "False, next",
           "line": {
            "color": "#EF553B",
            "dash": "solid"
           },
           "marker": {
            "symbol": "diamond"
           },
           "mode": "lines+markers",
           "name": "False, next",
           "orientation": "v",
           "showlegend": false,
           "type": "scatter",
           "x": [
            0.7613636363636364
           ],
           "xaxis": "x",
           "y": [
            0.76
           ],
           "yaxis": "y"
          }
         ],
         "name": "3"
        },
        {
         "data": [
          {
           "hovertemplate": "<b>%{hovertext}</b><br><br>main=True<br>type=last<br>step=4<br>name=0<br>x=%{x}<br>y=%{y}<extra></extra>",
           "hovertext": [
            "Last node of 0 <br> reward: 1.0 <br> action: [0, 4, 2, 5, 1, 5, 4, 2, 5, 1] <br> in system: 1.0"
           ],
           "legendgroup": "True, last",
           "line": {
            "color": "#636efa",
            "dash": "solid"
           },
           "marker": {
            "symbol": "circle"
           },
           "mode": "lines+markers",
           "name": "True, last",
           "orientation": "v",
           "showlegend": true,
           "type": "scatter",
           "x": [
            1
           ],
           "xaxis": "x",
           "y": [
            0.86
           ],
           "yaxis": "y"
          },
          {
           "hovertemplate": "<b>%{hovertext}</b><br><br>main=True<br>type=next<br>step=4<br>name=0<br>x=%{x}<br>y=%{y}<extra></extra>",
           "hovertext": [
            "Next node of 0 <br> reward: 1.0 <br> action: [0, 4, 2, 5, 1, 5, 4, 2, 5, 1] <br> in system: 1.0"
           ],
           "legendgroup": "True, next",
           "line": {
            "color": "#636efa",
            "dash": "solid"
           },
           "marker": {
            "symbol": "diamond"
           },
           "mode": "lines+markers",
           "name": "True, next",
           "orientation": "v",
           "showlegend": true,
           "type": "scatter",
           "x": [
            1
           ],
           "xaxis": "x",
           "y": [
            0.86
           ],
           "yaxis": "y"
          },
          {
           "hovertemplate": "<b>%{hovertext}</b><br><br>main=False<br>type=last<br>step=4<br>name=1<br>x=%{x}<br>y=%{y}<extra></extra>",
           "hovertext": [
            "Last node of 1 <br> reward: 1.0 <br> action: [0, 4, 2, 5, 1, 5, 4, 2, 5, 1] <br> in system: 0.0"
           ],
           "legendgroup": "False, last",
           "line": {
            "color": "#EF553B",
            "dash": "solid"
           },
           "marker": {
            "symbol": "circle"
           },
           "mode": "lines+markers",
           "name": "False, last",
           "orientation": "v",
           "showlegend": true,
           "type": "scatter",
           "x": [
            0
           ],
           "xaxis": "x",
           "y": [
            0
           ],
           "yaxis": "y"
          },
          {
           "hovertemplate": "<b>%{hovertext}</b><br><br>main=False<br>type=last<br>step=4<br>name=2<br>x=%{x}<br>y=%{y}<extra></extra>",
           "hovertext": [
            "Last node of 2 <br> reward: 1.0 <br> action: [0, 4, 2, 5, 1, 5, 4, 2, 5, 1] <br> in system: 1.0"
           ],
           "legendgroup": "False, last",
           "line": {
            "color": "#EF553B",
            "dash": "solid"
           },
           "marker": {
            "symbol": "circle"
           },
           "mode": "lines+markers",
           "name": "False, last",
           "orientation": "v",
           "showlegend": false,
           "type": "scatter",
           "x": [
            0.42045454545454547
           ],
           "xaxis": "x",
           "y": [
            0.86
           ],
           "yaxis": "y"
          },
          {
           "hovertemplate": "<b>%{hovertext}</b><br><br>main=False<br>type=last<br>step=4<br>name=3<br>x=%{x}<br>y=%{y}<extra></extra>",
           "hovertext": [
            "Last node of 3 <br> reward: 1.0 <br> action: [0, 4, 2, 5, 1, 5, 4, 2, 5, 1] <br> in system: 0.0"
           ],
           "legendgroup": "False, last",
           "line": {
            "color": "#EF553B",
            "dash": "solid"
           },
           "marker": {
            "symbol": "circle"
           },
           "mode": "lines+markers",
           "name": "False, last",
           "orientation": "v",
           "showlegend": false,
           "type": "scatter",
           "x": [
            1
           ],
           "xaxis": "x",
           "y": [
            0.86
           ],
           "yaxis": "y"
          },
          {
           "hovertemplate": "<b>%{hovertext}</b><br><br>main=False<br>type=last<br>step=4<br>name=4<br>x=%{x}<br>y=%{y}<extra></extra>",
           "hovertext": [
            "Last node of 4 <br> reward: 1.0 <br> action: [0, 4, 2, 5, 1, 5, 4, 2, 5, 1] <br> in system: 0.0"
           ],
           "legendgroup": "False, last",
           "line": {
            "color": "#EF553B",
            "dash": "solid"
           },
           "marker": {
            "symbol": "circle"
           },
           "mode": "lines+markers",
           "name": "False, last",
           "orientation": "v",
           "showlegend": false,
           "type": "scatter",
           "x": [
            0
           ],
           "xaxis": "x",
           "y": [
            0
           ],
           "yaxis": "y"
          },
          {
           "hovertemplate": "<b>%{hovertext}</b><br><br>main=False<br>type=last<br>step=4<br>name=5<br>x=%{x}<br>y=%{y}<extra></extra>",
           "hovertext": [
            "Last node of 5 <br> reward: 1.0 <br> action: [0, 4, 2, 5, 1, 5, 4, 2, 5, 1] <br> in system: 0.0"
           ],
           "legendgroup": "False, last",
           "line": {
            "color": "#EF553B",
            "dash": "solid"
           },
           "marker": {
            "symbol": "circle"
           },
           "mode": "lines+markers",
           "name": "False, last",
           "orientation": "v",
           "showlegend": false,
           "type": "scatter",
           "x": [
            0
           ],
           "xaxis": "x",
           "y": [
            0
           ],
           "yaxis": "y"
          },
          {
           "hovertemplate": "<b>%{hovertext}</b><br><br>main=False<br>type=last<br>step=4<br>name=6<br>x=%{x}<br>y=%{y}<extra></extra>",
           "hovertext": [
            "Last node of 6 <br> reward: 1.0 <br> action: [0, 4, 2, 5, 1, 5, 4, 2, 5, 1] <br> in system: 0.0"
           ],
           "legendgroup": "False, last",
           "line": {
            "color": "#EF553B",
            "dash": "solid"
           },
           "marker": {
            "symbol": "circle"
           },
           "mode": "lines+markers",
           "name": "False, last",
           "orientation": "v",
           "showlegend": false,
           "type": "scatter",
           "x": [
            1
           ],
           "xaxis": "x",
           "y": [
            0.76
           ],
           "yaxis": "y"
          },
          {
           "hovertemplate": "<b>%{hovertext}</b><br><br>main=False<br>type=last<br>step=4<br>name=7<br>x=%{x}<br>y=%{y}<extra></extra>",
           "hovertext": [
            "Last node of 7 <br> reward: 1.0 <br> action: [0, 4, 2, 5, 1, 5, 4, 2, 5, 1] <br> in system: 0.0"
           ],
           "legendgroup": "False, last",
           "line": {
            "color": "#EF553B",
            "dash": "solid"
           },
           "marker": {
            "symbol": "circle"
           },
           "mode": "lines+markers",
           "name": "False, last",
           "orientation": "v",
           "showlegend": false,
           "type": "scatter",
           "x": [
            0
           ],
           "xaxis": "x",
           "y": [
            0
           ],
           "yaxis": "y"
          },
          {
           "hovertemplate": "<b>%{hovertext}</b><br><br>main=False<br>type=last<br>step=4<br>name=8<br>x=%{x}<br>y=%{y}<extra></extra>",
           "hovertext": [
            "Last node of 8 <br> reward: 1.0 <br> action: [0, 4, 2, 5, 1, 5, 4, 2, 5, 1] <br> in system: 1.0"
           ],
           "legendgroup": "False, last",
           "line": {
            "color": "#EF553B",
            "dash": "solid"
           },
           "marker": {
            "symbol": "circle"
           },
           "mode": "lines+markers",
           "name": "False, last",
           "orientation": "v",
           "showlegend": false,
           "type": "scatter",
           "x": [
            0.9431818181818182
           ],
           "xaxis": "x",
           "y": [
            0.86
           ],
           "yaxis": "y"
          },
          {
           "hovertemplate": "<b>%{hovertext}</b><br><br>main=False<br>type=last<br>step=4<br>name=9<br>x=%{x}<br>y=%{y}<extra></extra>",
           "hovertext": [
            "Last node of 9 <br> reward: 1.0 <br> action: [0, 4, 2, 5, 1, 5, 4, 2, 5, 1] <br> in system: 1.0"
           ],
           "legendgroup": "False, last",
           "line": {
            "color": "#EF553B",
            "dash": "solid"
           },
           "marker": {
            "symbol": "circle"
           },
           "mode": "lines+markers",
           "name": "False, last",
           "orientation": "v",
           "showlegend": false,
           "type": "scatter",
           "x": [
            0.7613636363636364
           ],
           "xaxis": "x",
           "y": [
            0.76
           ],
           "yaxis": "y"
          },
          {
           "hovertemplate": "<b>%{hovertext}</b><br><br>main=False<br>type=next<br>step=4<br>name=1<br>x=%{x}<br>y=%{y}<extra></extra>",
           "hovertext": [
            "Next node of 1 <br> reward: 1.0 <br> action: [0, 4, 2, 5, 1, 5, 4, 2, 5, 1] <br> in system: 0.0"
           ],
           "legendgroup": "False, next",
           "line": {
            "color": "#EF553B",
            "dash": "solid"
           },
           "marker": {
            "symbol": "diamond"
           },
           "mode": "lines+markers",
           "name": "False, next",
           "orientation": "v",
           "showlegend": true,
           "type": "scatter",
           "x": [
            0
           ],
           "xaxis": "x",
           "y": [
            0
           ],
           "yaxis": "y"
          },
          {
           "hovertemplate": "<b>%{hovertext}</b><br><br>main=False<br>type=next<br>step=4<br>name=2<br>x=%{x}<br>y=%{y}<extra></extra>",
           "hovertext": [
            "Next node of 2 <br> reward: 1.0 <br> action: [0, 4, 2, 5, 1, 5, 4, 2, 5, 1] <br> in system: 1.0"
           ],
           "legendgroup": "False, next",
           "line": {
            "color": "#EF553B",
            "dash": "solid"
           },
           "marker": {
            "symbol": "diamond"
           },
           "mode": "lines+markers",
           "name": "False, next",
           "orientation": "v",
           "showlegend": false,
           "type": "scatter",
           "x": [
            0.42045454545454547
           ],
           "xaxis": "x",
           "y": [
            0.76
           ],
           "yaxis": "y"
          },
          {
           "hovertemplate": "<b>%{hovertext}</b><br><br>main=False<br>type=next<br>step=4<br>name=3<br>x=%{x}<br>y=%{y}<extra></extra>",
           "hovertext": [
            "Next node of 3 <br> reward: 1.0 <br> action: [0, 4, 2, 5, 1, 5, 4, 2, 5, 1] <br> in system: 0.0"
           ],
           "legendgroup": "False, next",
           "line": {
            "color": "#EF553B",
            "dash": "solid"
           },
           "marker": {
            "symbol": "diamond"
           },
           "mode": "lines+markers",
           "name": "False, next",
           "orientation": "v",
           "showlegend": false,
           "type": "scatter",
           "x": [
            1
           ],
           "xaxis": "x",
           "y": [
            0.76
           ],
           "yaxis": "y"
          },
          {
           "hovertemplate": "<b>%{hovertext}</b><br><br>main=False<br>type=next<br>step=4<br>name=4<br>x=%{x}<br>y=%{y}<extra></extra>",
           "hovertext": [
            "Next node of 4 <br> reward: 1.0 <br> action: [0, 4, 2, 5, 1, 5, 4, 2, 5, 1] <br> in system: 0.0"
           ],
           "legendgroup": "False, next",
           "line": {
            "color": "#EF553B",
            "dash": "solid"
           },
           "marker": {
            "symbol": "diamond"
           },
           "mode": "lines+markers",
           "name": "False, next",
           "orientation": "v",
           "showlegend": false,
           "type": "scatter",
           "x": [
            0
           ],
           "xaxis": "x",
           "y": [
            0
           ],
           "yaxis": "y"
          },
          {
           "hovertemplate": "<b>%{hovertext}</b><br><br>main=False<br>type=next<br>step=4<br>name=5<br>x=%{x}<br>y=%{y}<extra></extra>",
           "hovertext": [
            "Next node of 5 <br> reward: 1.0 <br> action: [0, 4, 2, 5, 1, 5, 4, 2, 5, 1] <br> in system: 0.0"
           ],
           "legendgroup": "False, next",
           "line": {
            "color": "#EF553B",
            "dash": "solid"
           },
           "marker": {
            "symbol": "diamond"
           },
           "mode": "lines+markers",
           "name": "False, next",
           "orientation": "v",
           "showlegend": false,
           "type": "scatter",
           "x": [
            0
           ],
           "xaxis": "x",
           "y": [
            0
           ],
           "yaxis": "y"
          },
          {
           "hovertemplate": "<b>%{hovertext}</b><br><br>main=False<br>type=next<br>step=4<br>name=6<br>x=%{x}<br>y=%{y}<extra></extra>",
           "hovertext": [
            "Next node of 6 <br> reward: 1.0 <br> action: [0, 4, 2, 5, 1, 5, 4, 2, 5, 1] <br> in system: 0.0"
           ],
           "legendgroup": "False, next",
           "line": {
            "color": "#EF553B",
            "dash": "solid"
           },
           "marker": {
            "symbol": "diamond"
           },
           "mode": "lines+markers",
           "name": "False, next",
           "orientation": "v",
           "showlegend": false,
           "type": "scatter",
           "x": [
            1
           ],
           "xaxis": "x",
           "y": [
            0.86
           ],
           "yaxis": "y"
          },
          {
           "hovertemplate": "<b>%{hovertext}</b><br><br>main=False<br>type=next<br>step=4<br>name=7<br>x=%{x}<br>y=%{y}<extra></extra>",
           "hovertext": [
            "Next node of 7 <br> reward: 1.0 <br> action: [0, 4, 2, 5, 1, 5, 4, 2, 5, 1] <br> in system: 0.0"
           ],
           "legendgroup": "False, next",
           "line": {
            "color": "#EF553B",
            "dash": "solid"
           },
           "marker": {
            "symbol": "diamond"
           },
           "mode": "lines+markers",
           "name": "False, next",
           "orientation": "v",
           "showlegend": false,
           "type": "scatter",
           "x": [
            0
           ],
           "xaxis": "x",
           "y": [
            0
           ],
           "yaxis": "y"
          },
          {
           "hovertemplate": "<b>%{hovertext}</b><br><br>main=False<br>type=next<br>step=4<br>name=8<br>x=%{x}<br>y=%{y}<extra></extra>",
           "hovertext": [
            "Next node of 8 <br> reward: 1.0 <br> action: [0, 4, 2, 5, 1, 5, 4, 2, 5, 1] <br> in system: 1.0"
           ],
           "legendgroup": "False, next",
           "line": {
            "color": "#EF553B",
            "dash": "solid"
           },
           "marker": {
            "symbol": "diamond"
           },
           "mode": "lines+markers",
           "name": "False, next",
           "orientation": "v",
           "showlegend": false,
           "type": "scatter",
           "x": [
            1
           ],
           "xaxis": "x",
           "y": [
            0.86
           ],
           "yaxis": "y"
          },
          {
           "hovertemplate": "<b>%{hovertext}</b><br><br>main=False<br>type=next<br>step=4<br>name=9<br>x=%{x}<br>y=%{y}<extra></extra>",
           "hovertext": [
            "Next node of 9 <br> reward: 1.0 <br> action: [0, 4, 2, 5, 1, 5, 4, 2, 5, 1] <br> in system: 1.0"
           ],
           "legendgroup": "False, next",
           "line": {
            "color": "#EF553B",
            "dash": "solid"
           },
           "marker": {
            "symbol": "diamond"
           },
           "mode": "lines+markers",
           "name": "False, next",
           "orientation": "v",
           "showlegend": false,
           "type": "scatter",
           "x": [
            0.7613636363636364
           ],
           "xaxis": "x",
           "y": [
            0.86
           ],
           "yaxis": "y"
          }
         ],
         "name": "4"
        },
        {
         "data": [
          {
           "hovertemplate": "<b>%{hovertext}</b><br><br>main=True<br>type=last<br>step=5<br>name=0<br>x=%{x}<br>y=%{y}<extra></extra>",
           "hovertext": [
            "Last node of 0 <br> reward: 1.0 <br> action: [3, 2, 2, 3, 3, 1, 2, 1, 4, 5] <br> in system: 1.0"
           ],
           "legendgroup": "True, last",
           "line": {
            "color": "#636efa",
            "dash": "solid"
           },
           "marker": {
            "symbol": "circle"
           },
           "mode": "lines+markers",
           "name": "True, last",
           "orientation": "v",
           "showlegend": true,
           "type": "scatter",
           "x": [
            1
           ],
           "xaxis": "x",
           "y": [
            0.86
           ],
           "yaxis": "y"
          },
          {
           "hovertemplate": "<b>%{hovertext}</b><br><br>main=True<br>type=next<br>step=5<br>name=0<br>x=%{x}<br>y=%{y}<extra></extra>",
           "hovertext": [
            "Next node of 0 <br> reward: 1.0 <br> action: [3, 2, 2, 3, 3, 1, 2, 1, 4, 5] <br> in system: 1.0"
           ],
           "legendgroup": "True, next",
           "line": {
            "color": "#636efa",
            "dash": "solid"
           },
           "marker": {
            "symbol": "diamond"
           },
           "mode": "lines+markers",
           "name": "True, next",
           "orientation": "v",
           "showlegend": true,
           "type": "scatter",
           "x": [
            1
           ],
           "xaxis": "x",
           "y": [
            0.86
           ],
           "yaxis": "y"
          },
          {
           "hovertemplate": "<b>%{hovertext}</b><br><br>main=False<br>type=last<br>step=5<br>name=1<br>x=%{x}<br>y=%{y}<extra></extra>",
           "hovertext": [
            "Last node of 1 <br> reward: 1.0 <br> action: [3, 2, 2, 3, 3, 1, 2, 1, 4, 5] <br> in system: 0.0"
           ],
           "legendgroup": "False, last",
           "line": {
            "color": "#EF553B",
            "dash": "solid"
           },
           "marker": {
            "symbol": "circle"
           },
           "mode": "lines+markers",
           "name": "False, last",
           "orientation": "v",
           "showlegend": true,
           "type": "scatter",
           "x": [
            1
           ],
           "xaxis": "x",
           "y": [
            0.76
           ],
           "yaxis": "y"
          },
          {
           "hovertemplate": "<b>%{hovertext}</b><br><br>main=False<br>type=last<br>step=5<br>name=2<br>x=%{x}<br>y=%{y}<extra></extra>",
           "hovertext": [
            "Last node of 2 <br> reward: 1.0 <br> action: [3, 2, 2, 3, 3, 1, 2, 1, 4, 5] <br> in system: 0.0"
           ],
           "legendgroup": "False, last",
           "line": {
            "color": "#EF553B",
            "dash": "solid"
           },
           "marker": {
            "symbol": "circle"
           },
           "mode": "lines+markers",
           "name": "False, last",
           "orientation": "v",
           "showlegend": false,
           "type": "scatter",
           "x": [
            0
           ],
           "xaxis": "x",
           "y": [
            0
           ],
           "yaxis": "y"
          },
          {
           "hovertemplate": "<b>%{hovertext}</b><br><br>main=False<br>type=last<br>step=5<br>name=3<br>x=%{x}<br>y=%{y}<extra></extra>",
           "hovertext": [
            "Last node of 3 <br> reward: 1.0 <br> action: [3, 2, 2, 3, 3, 1, 2, 1, 4, 5] <br> in system: 1.0"
           ],
           "legendgroup": "False, last",
           "line": {
            "color": "#EF553B",
            "dash": "solid"
           },
           "marker": {
            "symbol": "circle"
           },
           "mode": "lines+markers",
           "name": "False, last",
           "orientation": "v",
           "showlegend": false,
           "type": "scatter",
           "x": [
            0.9431818181818182
           ],
           "xaxis": "x",
           "y": [
            0.86
           ],
           "yaxis": "y"
          },
          {
           "hovertemplate": "<b>%{hovertext}</b><br><br>main=False<br>type=last<br>step=5<br>name=4<br>x=%{x}<br>y=%{y}<extra></extra>",
           "hovertext": [
            "Last node of 4 <br> reward: 1.0 <br> action: [3, 2, 2, 3, 3, 1, 2, 1, 4, 5] <br> in system: 0.0"
           ],
           "legendgroup": "False, last",
           "line": {
            "color": "#EF553B",
            "dash": "solid"
           },
           "marker": {
            "symbol": "circle"
           },
           "mode": "lines+markers",
           "name": "False, last",
           "orientation": "v",
           "showlegend": false,
           "type": "scatter",
           "x": [
            1
           ],
           "xaxis": "x",
           "y": [
            0.86
           ],
           "yaxis": "y"
          },
          {
           "hovertemplate": "<b>%{hovertext}</b><br><br>main=False<br>type=last<br>step=5<br>name=5<br>x=%{x}<br>y=%{y}<extra></extra>",
           "hovertext": [
            "Last node of 5 <br> reward: 1.0 <br> action: [3, 2, 2, 3, 3, 1, 2, 1, 4, 5] <br> in system: 0.0"
           ],
           "legendgroup": "False, last",
           "line": {
            "color": "#EF553B",
            "dash": "solid"
           },
           "marker": {
            "symbol": "circle"
           },
           "mode": "lines+markers",
           "name": "False, last",
           "orientation": "v",
           "showlegend": false,
           "type": "scatter",
           "x": [
            0
           ],
           "xaxis": "x",
           "y": [
            0
           ],
           "yaxis": "y"
          },
          {
           "hovertemplate": "<b>%{hovertext}</b><br><br>main=False<br>type=last<br>step=5<br>name=6<br>x=%{x}<br>y=%{y}<extra></extra>",
           "hovertext": [
            "Last node of 6 <br> reward: 1.0 <br> action: [3, 2, 2, 3, 3, 1, 2, 1, 4, 5] <br> in system: 1.0"
           ],
           "legendgroup": "False, last",
           "line": {
            "color": "#EF553B",
            "dash": "solid"
           },
           "marker": {
            "symbol": "circle"
           },
           "mode": "lines+markers",
           "name": "False, last",
           "orientation": "v",
           "showlegend": false,
           "type": "scatter",
           "x": [
            0.7613636363636364
           ],
           "xaxis": "x",
           "y": [
            0.76
           ],
           "yaxis": "y"
          },
          {
           "hovertemplate": "<b>%{hovertext}</b><br><br>main=False<br>type=last<br>step=5<br>name=7<br>x=%{x}<br>y=%{y}<extra></extra>",
           "hovertext": [
            "Last node of 7 <br> reward: 1.0 <br> action: [3, 2, 2, 3, 3, 1, 2, 1, 4, 5] <br> in system: 1.0"
           ],
           "legendgroup": "False, last",
           "line": {
            "color": "#EF553B",
            "dash": "solid"
           },
           "marker": {
            "symbol": "circle"
           },
           "mode": "lines+markers",
           "name": "False, last",
           "orientation": "v",
           "showlegend": false,
           "type": "scatter",
           "x": [
            0.42045454545454547
           ],
           "xaxis": "x",
           "y": [
            0.76
           ],
           "yaxis": "y"
          },
          {
           "hovertemplate": "<b>%{hovertext}</b><br><br>main=False<br>type=last<br>step=5<br>name=8<br>x=%{x}<br>y=%{y}<extra></extra>",
           "hovertext": [
            "Last node of 8 <br> reward: 1.0 <br> action: [3, 2, 2, 3, 3, 1, 2, 1, 4, 5] <br> in system: 0.0"
           ],
           "legendgroup": "False, last",
           "line": {
            "color": "#EF553B",
            "dash": "solid"
           },
           "marker": {
            "symbol": "circle"
           },
           "mode": "lines+markers",
           "name": "False, last",
           "orientation": "v",
           "showlegend": false,
           "type": "scatter",
           "x": [
            0
           ],
           "xaxis": "x",
           "y": [
            0
           ],
           "yaxis": "y"
          },
          {
           "hovertemplate": "<b>%{hovertext}</b><br><br>main=False<br>type=last<br>step=5<br>name=9<br>x=%{x}<br>y=%{y}<extra></extra>",
           "hovertext": [
            "Last node of 9 <br> reward: 1.0 <br> action: [3, 2, 2, 3, 3, 1, 2, 1, 4, 5] <br> in system: 0.0"
           ],
           "legendgroup": "False, last",
           "line": {
            "color": "#EF553B",
            "dash": "solid"
           },
           "marker": {
            "symbol": "circle"
           },
           "mode": "lines+markers",
           "name": "False, last",
           "orientation": "v",
           "showlegend": false,
           "type": "scatter",
           "x": [
            0
           ],
           "xaxis": "x",
           "y": [
            0
           ],
           "yaxis": "y"
          },
          {
           "hovertemplate": "<b>%{hovertext}</b><br><br>main=False<br>type=next<br>step=5<br>name=1<br>x=%{x}<br>y=%{y}<extra></extra>",
           "hovertext": [
            "Next node of 1 <br> reward: 1.0 <br> action: [3, 2, 2, 3, 3, 1, 2, 1, 4, 5] <br> in system: 0.0"
           ],
           "legendgroup": "False, next",
           "line": {
            "color": "#EF553B",
            "dash": "solid"
           },
           "marker": {
            "symbol": "diamond"
           },
           "mode": "lines+markers",
           "name": "False, next",
           "orientation": "v",
           "showlegend": true,
           "type": "scatter",
           "x": [
            1
           ],
           "xaxis": "x",
           "y": [
            0.86
           ],
           "yaxis": "y"
          },
          {
           "hovertemplate": "<b>%{hovertext}</b><br><br>main=False<br>type=next<br>step=5<br>name=2<br>x=%{x}<br>y=%{y}<extra></extra>",
           "hovertext": [
            "Next node of 2 <br> reward: 1.0 <br> action: [3, 2, 2, 3, 3, 1, 2, 1, 4, 5] <br> in system: 0.0"
           ],
           "legendgroup": "False, next",
           "line": {
            "color": "#EF553B",
            "dash": "solid"
           },
           "marker": {
            "symbol": "diamond"
           },
           "mode": "lines+markers",
           "name": "False, next",
           "orientation": "v",
           "showlegend": false,
           "type": "scatter",
           "x": [
            0
           ],
           "xaxis": "x",
           "y": [
            0
           ],
           "yaxis": "y"
          },
          {
           "hovertemplate": "<b>%{hovertext}</b><br><br>main=False<br>type=next<br>step=5<br>name=3<br>x=%{x}<br>y=%{y}<extra></extra>",
           "hovertext": [
            "Next node of 3 <br> reward: 1.0 <br> action: [3, 2, 2, 3, 3, 1, 2, 1, 4, 5] <br> in system: 1.0"
           ],
           "legendgroup": "False, next",
           "line": {
            "color": "#EF553B",
            "dash": "solid"
           },
           "marker": {
            "symbol": "diamond"
           },
           "mode": "lines+markers",
           "name": "False, next",
           "orientation": "v",
           "showlegend": false,
           "type": "scatter",
           "x": [
            1
           ],
           "xaxis": "x",
           "y": [
            0.86
           ],
           "yaxis": "y"
          },
          {
           "hovertemplate": "<b>%{hovertext}</b><br><br>main=False<br>type=next<br>step=5<br>name=4<br>x=%{x}<br>y=%{y}<extra></extra>",
           "hovertext": [
            "Next node of 4 <br> reward: 1.0 <br> action: [3, 2, 2, 3, 3, 1, 2, 1, 4, 5] <br> in system: 0.0"
           ],
           "legendgroup": "False, next",
           "line": {
            "color": "#EF553B",
            "dash": "solid"
           },
           "marker": {
            "symbol": "diamond"
           },
           "mode": "lines+markers",
           "name": "False, next",
           "orientation": "v",
           "showlegend": false,
           "type": "scatter",
           "x": [
            1
           ],
           "xaxis": "x",
           "y": [
            0.76
           ],
           "yaxis": "y"
          },
          {
           "hovertemplate": "<b>%{hovertext}</b><br><br>main=False<br>type=next<br>step=5<br>name=5<br>x=%{x}<br>y=%{y}<extra></extra>",
           "hovertext": [
            "Next node of 5 <br> reward: 1.0 <br> action: [3, 2, 2, 3, 3, 1, 2, 1, 4, 5] <br> in system: 0.0"
           ],
           "legendgroup": "False, next",
           "line": {
            "color": "#EF553B",
            "dash": "solid"
           },
           "marker": {
            "symbol": "diamond"
           },
           "mode": "lines+markers",
           "name": "False, next",
           "orientation": "v",
           "showlegend": false,
           "type": "scatter",
           "x": [
            0
           ],
           "xaxis": "x",
           "y": [
            0
           ],
           "yaxis": "y"
          },
          {
           "hovertemplate": "<b>%{hovertext}</b><br><br>main=False<br>type=next<br>step=5<br>name=6<br>x=%{x}<br>y=%{y}<extra></extra>",
           "hovertext": [
            "Next node of 6 <br> reward: 1.0 <br> action: [3, 2, 2, 3, 3, 1, 2, 1, 4, 5] <br> in system: 1.0"
           ],
           "legendgroup": "False, next",
           "line": {
            "color": "#EF553B",
            "dash": "solid"
           },
           "marker": {
            "symbol": "diamond"
           },
           "mode": "lines+markers",
           "name": "False, next",
           "orientation": "v",
           "showlegend": false,
           "type": "scatter",
           "x": [
            0.7613636363636364
           ],
           "xaxis": "x",
           "y": [
            0.86
           ],
           "yaxis": "y"
          },
          {
           "hovertemplate": "<b>%{hovertext}</b><br><br>main=False<br>type=next<br>step=5<br>name=7<br>x=%{x}<br>y=%{y}<extra></extra>",
           "hovertext": [
            "Next node of 7 <br> reward: 1.0 <br> action: [3, 2, 2, 3, 3, 1, 2, 1, 4, 5] <br> in system: 1.0"
           ],
           "legendgroup": "False, next",
           "line": {
            "color": "#EF553B",
            "dash": "solid"
           },
           "marker": {
            "symbol": "diamond"
           },
           "mode": "lines+markers",
           "name": "False, next",
           "orientation": "v",
           "showlegend": false,
           "type": "scatter",
           "x": [
            0.42045454545454547
           ],
           "xaxis": "x",
           "y": [
            0.48
           ],
           "yaxis": "y"
          },
          {
           "hovertemplate": "<b>%{hovertext}</b><br><br>main=False<br>type=next<br>step=5<br>name=8<br>x=%{x}<br>y=%{y}<extra></extra>",
           "hovertext": [
            "Next node of 8 <br> reward: 1.0 <br> action: [3, 2, 2, 3, 3, 1, 2, 1, 4, 5] <br> in system: 0.0"
           ],
           "legendgroup": "False, next",
           "line": {
            "color": "#EF553B",
            "dash": "solid"
           },
           "marker": {
            "symbol": "diamond"
           },
           "mode": "lines+markers",
           "name": "False, next",
           "orientation": "v",
           "showlegend": false,
           "type": "scatter",
           "x": [
            0
           ],
           "xaxis": "x",
           "y": [
            0
           ],
           "yaxis": "y"
          },
          {
           "hovertemplate": "<b>%{hovertext}</b><br><br>main=False<br>type=next<br>step=5<br>name=9<br>x=%{x}<br>y=%{y}<extra></extra>",
           "hovertext": [
            "Next node of 9 <br> reward: 1.0 <br> action: [3, 2, 2, 3, 3, 1, 2, 1, 4, 5] <br> in system: 0.0"
           ],
           "legendgroup": "False, next",
           "line": {
            "color": "#EF553B",
            "dash": "solid"
           },
           "marker": {
            "symbol": "diamond"
           },
           "mode": "lines+markers",
           "name": "False, next",
           "orientation": "v",
           "showlegend": false,
           "type": "scatter",
           "x": [
            0
           ],
           "xaxis": "x",
           "y": [
            0
           ],
           "yaxis": "y"
          }
         ],
         "name": "5"
        },
        {
         "data": [
          {
           "hovertemplate": "<b>%{hovertext}</b><br><br>main=True<br>type=last<br>step=6<br>name=0<br>x=%{x}<br>y=%{y}<extra></extra>",
           "hovertext": [
            "Last node of 0 <br> reward: 1.0 <br> action: [0, 5, 5, 2, 4, 5, 0, 5, 5, 5] <br> in system: 1.0"
           ],
           "legendgroup": "True, last",
           "line": {
            "color": "#636efa",
            "dash": "solid"
           },
           "marker": {
            "symbol": "circle"
           },
           "mode": "lines+markers",
           "name": "True, last",
           "orientation": "v",
           "showlegend": true,
           "type": "scatter",
           "x": [
            1
           ],
           "xaxis": "x",
           "y": [
            0.86
           ],
           "yaxis": "y"
          },
          {
           "hovertemplate": "<b>%{hovertext}</b><br><br>main=True<br>type=next<br>step=6<br>name=0<br>x=%{x}<br>y=%{y}<extra></extra>",
           "hovertext": [
            "Next node of 0 <br> reward: 1.0 <br> action: [0, 5, 5, 2, 4, 5, 0, 5, 5, 5] <br> in system: 1.0"
           ],
           "legendgroup": "True, next",
           "line": {
            "color": "#636efa",
            "dash": "solid"
           },
           "marker": {
            "symbol": "diamond"
           },
           "mode": "lines+markers",
           "name": "True, next",
           "orientation": "v",
           "showlegend": true,
           "type": "scatter",
           "x": [
            1
           ],
           "xaxis": "x",
           "y": [
            0.86
           ],
           "yaxis": "y"
          },
          {
           "hovertemplate": "<b>%{hovertext}</b><br><br>main=False<br>type=last<br>step=6<br>name=1<br>x=%{x}<br>y=%{y}<extra></extra>",
           "hovertext": [
            "Last node of 1 <br> reward: 1.0 <br> action: [0, 5, 5, 2, 4, 5, 0, 5, 5, 5] <br> in system: 1.0"
           ],
           "legendgroup": "False, last",
           "line": {
            "color": "#EF553B",
            "dash": "solid"
           },
           "marker": {
            "symbol": "circle"
           },
           "mode": "lines+markers",
           "name": "False, last",
           "orientation": "v",
           "showlegend": true,
           "type": "scatter",
           "x": [
            0.42045454545454547
           ],
           "xaxis": "x",
           "y": [
            0.38
           ],
           "yaxis": "y"
          },
          {
           "hovertemplate": "<b>%{hovertext}</b><br><br>main=False<br>type=last<br>step=6<br>name=2<br>x=%{x}<br>y=%{y}<extra></extra>",
           "hovertext": [
            "Last node of 2 <br> reward: 1.0 <br> action: [0, 5, 5, 2, 4, 5, 0, 5, 5, 5] <br> in system: 1.0"
           ],
           "legendgroup": "False, last",
           "line": {
            "color": "#EF553B",
            "dash": "solid"
           },
           "marker": {
            "symbol": "circle"
           },
           "mode": "lines+markers",
           "name": "False, last",
           "orientation": "v",
           "showlegend": false,
           "type": "scatter",
           "x": [
            0.42045454545454547
           ],
           "xaxis": "x",
           "y": [
            0.76
           ],
           "yaxis": "y"
          },
          {
           "hovertemplate": "<b>%{hovertext}</b><br><br>main=False<br>type=last<br>step=6<br>name=3<br>x=%{x}<br>y=%{y}<extra></extra>",
           "hovertext": [
            "Last node of 3 <br> reward: 1.0 <br> action: [0, 5, 5, 2, 4, 5, 0, 5, 5, 5] <br> in system: 1.0"
           ],
           "legendgroup": "False, last",
           "line": {
            "color": "#EF553B",
            "dash": "solid"
           },
           "marker": {
            "symbol": "circle"
           },
           "mode": "lines+markers",
           "name": "False, last",
           "orientation": "v",
           "showlegend": false,
           "type": "scatter",
           "x": [
            0.7613636363636364
           ],
           "xaxis": "x",
           "y": [
            0.76
           ],
           "yaxis": "y"
          },
          {
           "hovertemplate": "<b>%{hovertext}</b><br><br>main=False<br>type=last<br>step=6<br>name=4<br>x=%{x}<br>y=%{y}<extra></extra>",
           "hovertext": [
            "Last node of 4 <br> reward: 1.0 <br> action: [0, 5, 5, 2, 4, 5, 0, 5, 5, 5] <br> in system: 0.0"
           ],
           "legendgroup": "False, last",
           "line": {
            "color": "#EF553B",
            "dash": "solid"
           },
           "marker": {
            "symbol": "circle"
           },
           "mode": "lines+markers",
           "name": "False, last",
           "orientation": "v",
           "showlegend": false,
           "type": "scatter",
           "x": [
            0
           ],
           "xaxis": "x",
           "y": [
            0
           ],
           "yaxis": "y"
          },
          {
           "hovertemplate": "<b>%{hovertext}</b><br><br>main=False<br>type=last<br>step=6<br>name=5<br>x=%{x}<br>y=%{y}<extra></extra>",
           "hovertext": [
            "Last node of 5 <br> reward: 1.0 <br> action: [0, 5, 5, 2, 4, 5, 0, 5, 5, 5] <br> in system: 1.0"
           ],
           "legendgroup": "False, last",
           "line": {
            "color": "#EF553B",
            "dash": "solid"
           },
           "marker": {
            "symbol": "circle"
           },
           "mode": "lines+markers",
           "name": "False, last",
           "orientation": "v",
           "showlegend": false,
           "type": "scatter",
           "x": [
            0.32954545454545453
           ],
           "xaxis": "x",
           "y": [
            0.428
           ],
           "yaxis": "y"
          },
          {
           "hovertemplate": "<b>%{hovertext}</b><br><br>main=False<br>type=last<br>step=6<br>name=6<br>x=%{x}<br>y=%{y}<extra></extra>",
           "hovertext": [
            "Last node of 6 <br> reward: 1.0 <br> action: [0, 5, 5, 2, 4, 5, 0, 5, 5, 5] <br> in system: 0.0"
           ],
           "legendgroup": "False, last",
           "line": {
            "color": "#EF553B",
            "dash": "solid"
           },
           "marker": {
            "symbol": "circle"
           },
           "mode": "lines+markers",
           "name": "False, last",
           "orientation": "v",
           "showlegend": false,
           "type": "scatter",
           "x": [
            0
           ],
           "xaxis": "x",
           "y": [
            0
           ],
           "yaxis": "y"
          },
          {
           "hovertemplate": "<b>%{hovertext}</b><br><br>main=False<br>type=last<br>step=6<br>name=7<br>x=%{x}<br>y=%{y}<extra></extra>",
           "hovertext": [
            "Last node of 7 <br> reward: 1.0 <br> action: [0, 5, 5, 2, 4, 5, 0, 5, 5, 5] <br> in system: 0.0"
           ],
           "legendgroup": "False, last",
           "line": {
            "color": "#EF553B",
            "dash": "solid"
           },
           "marker": {
            "symbol": "circle"
           },
           "mode": "lines+markers",
           "name": "False, last",
           "orientation": "v",
           "showlegend": false,
           "type": "scatter",
           "x": [
            0
           ],
           "xaxis": "x",
           "y": [
            0
           ],
           "yaxis": "y"
          },
          {
           "hovertemplate": "<b>%{hovertext}</b><br><br>main=False<br>type=last<br>step=6<br>name=8<br>x=%{x}<br>y=%{y}<extra></extra>",
           "hovertext": [
            "Last node of 8 <br> reward: 1.0 <br> action: [0, 5, 5, 2, 4, 5, 0, 5, 5, 5] <br> in system: 0.0"
           ],
           "legendgroup": "False, last",
           "line": {
            "color": "#EF553B",
            "dash": "solid"
           },
           "marker": {
            "symbol": "circle"
           },
           "mode": "lines+markers",
           "name": "False, last",
           "orientation": "v",
           "showlegend": false,
           "type": "scatter",
           "x": [
            0
           ],
           "xaxis": "x",
           "y": [
            0
           ],
           "yaxis": "y"
          },
          {
           "hovertemplate": "<b>%{hovertext}</b><br><br>main=False<br>type=last<br>step=6<br>name=9<br>x=%{x}<br>y=%{y}<extra></extra>",
           "hovertext": [
            "Last node of 9 <br> reward: 1.0 <br> action: [0, 5, 5, 2, 4, 5, 0, 5, 5, 5] <br> in system: 1.0"
           ],
           "legendgroup": "False, last",
           "line": {
            "color": "#EF553B",
            "dash": "solid"
           },
           "marker": {
            "symbol": "circle"
           },
           "mode": "lines+markers",
           "name": "False, last",
           "orientation": "v",
           "showlegend": false,
           "type": "scatter",
           "x": [
            0.9431818181818182
           ],
           "xaxis": "x",
           "y": [
            0.86
           ],
           "yaxis": "y"
          },
          {
           "hovertemplate": "<b>%{hovertext}</b><br><br>main=False<br>type=next<br>step=6<br>name=1<br>x=%{x}<br>y=%{y}<extra></extra>",
           "hovertext": [
            "Next node of 1 <br> reward: 1.0 <br> action: [0, 5, 5, 2, 4, 5, 0, 5, 5, 5] <br> in system: 1.0"
           ],
           "legendgroup": "False, next",
           "line": {
            "color": "#EF553B",
            "dash": "solid"
           },
           "marker": {
            "symbol": "diamond"
           },
           "mode": "lines+markers",
           "name": "False, next",
           "orientation": "v",
           "showlegend": true,
           "type": "scatter",
           "x": [
            0.42045454545454547
           ],
           "xaxis": "x",
           "y": [
            0.38
           ],
           "yaxis": "y"
          },
          {
           "hovertemplate": "<b>%{hovertext}</b><br><br>main=False<br>type=next<br>step=6<br>name=2<br>x=%{x}<br>y=%{y}<extra></extra>",
           "hovertext": [
            "Next node of 2 <br> reward: 1.0 <br> action: [0, 5, 5, 2, 4, 5, 0, 5, 5, 5] <br> in system: 1.0"
           ],
           "legendgroup": "False, next",
           "line": {
            "color": "#EF553B",
            "dash": "solid"
           },
           "marker": {
            "symbol": "diamond"
           },
           "mode": "lines+markers",
           "name": "False, next",
           "orientation": "v",
           "showlegend": false,
           "type": "scatter",
           "x": [
            0.42045454545454547
           ],
           "xaxis": "x",
           "y": [
            0.48
           ],
           "yaxis": "y"
          },
          {
           "hovertemplate": "<b>%{hovertext}</b><br><br>main=False<br>type=next<br>step=6<br>name=3<br>x=%{x}<br>y=%{y}<extra></extra>",
           "hovertext": [
            "Next node of 3 <br> reward: 1.0 <br> action: [0, 5, 5, 2, 4, 5, 0, 5, 5, 5] <br> in system: 1.0"
           ],
           "legendgroup": "False, next",
           "line": {
            "color": "#EF553B",
            "dash": "solid"
           },
           "marker": {
            "symbol": "diamond"
           },
           "mode": "lines+markers",
           "name": "False, next",
           "orientation": "v",
           "showlegend": false,
           "type": "scatter",
           "x": [
            0.7613636363636364
           ],
           "xaxis": "x",
           "y": [
            0.86
           ],
           "yaxis": "y"
          },
          {
           "hovertemplate": "<b>%{hovertext}</b><br><br>main=False<br>type=next<br>step=6<br>name=4<br>x=%{x}<br>y=%{y}<extra></extra>",
           "hovertext": [
            "Next node of 4 <br> reward: 1.0 <br> action: [0, 5, 5, 2, 4, 5, 0, 5, 5, 5] <br> in system: 0.0"
           ],
           "legendgroup": "False, next",
           "line": {
            "color": "#EF553B",
            "dash": "solid"
           },
           "marker": {
            "symbol": "diamond"
           },
           "mode": "lines+markers",
           "name": "False, next",
           "orientation": "v",
           "showlegend": false,
           "type": "scatter",
           "x": [
            0
           ],
           "xaxis": "x",
           "y": [
            0
           ],
           "yaxis": "y"
          },
          {
           "hovertemplate": "<b>%{hovertext}</b><br><br>main=False<br>type=next<br>step=6<br>name=5<br>x=%{x}<br>y=%{y}<extra></extra>",
           "hovertext": [
            "Next node of 5 <br> reward: 1.0 <br> action: [0, 5, 5, 2, 4, 5, 0, 5, 5, 5] <br> in system: 1.0"
           ],
           "legendgroup": "False, next",
           "line": {
            "color": "#EF553B",
            "dash": "solid"
           },
           "marker": {
            "symbol": "diamond"
           },
           "mode": "lines+markers",
           "name": "False, next",
           "orientation": "v",
           "showlegend": false,
           "type": "scatter",
           "x": [
            0.32954545454545453
           ],
           "xaxis": "x",
           "y": [
            0.428
           ],
           "yaxis": "y"
          },
          {
           "hovertemplate": "<b>%{hovertext}</b><br><br>main=False<br>type=next<br>step=6<br>name=6<br>x=%{x}<br>y=%{y}<extra></extra>",
           "hovertext": [
            "Next node of 6 <br> reward: 1.0 <br> action: [0, 5, 5, 2, 4, 5, 0, 5, 5, 5] <br> in system: 0.0"
           ],
           "legendgroup": "False, next",
           "line": {
            "color": "#EF553B",
            "dash": "solid"
           },
           "marker": {
            "symbol": "diamond"
           },
           "mode": "lines+markers",
           "name": "False, next",
           "orientation": "v",
           "showlegend": false,
           "type": "scatter",
           "x": [
            0
           ],
           "xaxis": "x",
           "y": [
            0
           ],
           "yaxis": "y"
          },
          {
           "hovertemplate": "<b>%{hovertext}</b><br><br>main=False<br>type=next<br>step=6<br>name=7<br>x=%{x}<br>y=%{y}<extra></extra>",
           "hovertext": [
            "Next node of 7 <br> reward: 1.0 <br> action: [0, 5, 5, 2, 4, 5, 0, 5, 5, 5] <br> in system: 0.0"
           ],
           "legendgroup": "False, next",
           "line": {
            "color": "#EF553B",
            "dash": "solid"
           },
           "marker": {
            "symbol": "diamond"
           },
           "mode": "lines+markers",
           "name": "False, next",
           "orientation": "v",
           "showlegend": false,
           "type": "scatter",
           "x": [
            0
           ],
           "xaxis": "x",
           "y": [
            0
           ],
           "yaxis": "y"
          },
          {
           "hovertemplate": "<b>%{hovertext}</b><br><br>main=False<br>type=next<br>step=6<br>name=8<br>x=%{x}<br>y=%{y}<extra></extra>",
           "hovertext": [
            "Next node of 8 <br> reward: 1.0 <br> action: [0, 5, 5, 2, 4, 5, 0, 5, 5, 5] <br> in system: 0.0"
           ],
           "legendgroup": "False, next",
           "line": {
            "color": "#EF553B",
            "dash": "solid"
           },
           "marker": {
            "symbol": "diamond"
           },
           "mode": "lines+markers",
           "name": "False, next",
           "orientation": "v",
           "showlegend": false,
           "type": "scatter",
           "x": [
            0
           ],
           "xaxis": "x",
           "y": [
            0
           ],
           "yaxis": "y"
          },
          {
           "hovertemplate": "<b>%{hovertext}</b><br><br>main=False<br>type=next<br>step=6<br>name=9<br>x=%{x}<br>y=%{y}<extra></extra>",
           "hovertext": [
            "Next node of 9 <br> reward: 1.0 <br> action: [0, 5, 5, 2, 4, 5, 0, 5, 5, 5] <br> in system: 1.0"
           ],
           "legendgroup": "False, next",
           "line": {
            "color": "#EF553B",
            "dash": "solid"
           },
           "marker": {
            "symbol": "diamond"
           },
           "mode": "lines+markers",
           "name": "False, next",
           "orientation": "v",
           "showlegend": false,
           "type": "scatter",
           "x": [
            1
           ],
           "xaxis": "x",
           "y": [
            0.86
           ],
           "yaxis": "y"
          }
         ],
         "name": "6"
        },
        {
         "data": [
          {
           "hovertemplate": "<b>%{hovertext}</b><br><br>main=True<br>type=last<br>step=7<br>name=0<br>x=%{x}<br>y=%{y}<extra></extra>",
           "hovertext": [
            "Last node of 0 <br> reward: 1.0 <br> action: [5, 5, 2, 4, 3, 3, 3, 5, 1, 0] <br> in system: 1.0"
           ],
           "legendgroup": "True, last",
           "line": {
            "color": "#636efa",
            "dash": "solid"
           },
           "marker": {
            "symbol": "circle"
           },
           "mode": "lines+markers",
           "name": "True, last",
           "orientation": "v",
           "showlegend": true,
           "type": "scatter",
           "x": [
            1
           ],
           "xaxis": "x",
           "y": [
            0.86
           ],
           "yaxis": "y"
          },
          {
           "hovertemplate": "<b>%{hovertext}</b><br><br>main=True<br>type=next<br>step=7<br>name=0<br>x=%{x}<br>y=%{y}<extra></extra>",
           "hovertext": [
            "Next node of 0 <br> reward: 1.0 <br> action: [5, 5, 2, 4, 3, 3, 3, 5, 1, 0] <br> in system: 1.0"
           ],
           "legendgroup": "True, next",
           "line": {
            "color": "#636efa",
            "dash": "solid"
           },
           "marker": {
            "symbol": "diamond"
           },
           "mode": "lines+markers",
           "name": "True, next",
           "orientation": "v",
           "showlegend": true,
           "type": "scatter",
           "x": [
            1
           ],
           "xaxis": "x",
           "y": [
            0.86
           ],
           "yaxis": "y"
          },
          {
           "hovertemplate": "<b>%{hovertext}</b><br><br>main=False<br>type=last<br>step=7<br>name=1<br>x=%{x}<br>y=%{y}<extra></extra>",
           "hovertext": [
            "Last node of 1 <br> reward: 1.0 <br> action: [5, 5, 2, 4, 3, 3, 3, 5, 1, 0] <br> in system: 1.0"
           ],
           "legendgroup": "False, last",
           "line": {
            "color": "#EF553B",
            "dash": "solid"
           },
           "marker": {
            "symbol": "circle"
           },
           "mode": "lines+markers",
           "name": "False, last",
           "orientation": "v",
           "showlegend": true,
           "type": "scatter",
           "x": [
            0.7613636363636364
           ],
           "xaxis": "x",
           "y": [
            0.76
           ],
           "yaxis": "y"
          },
          {
           "hovertemplate": "<b>%{hovertext}</b><br><br>main=False<br>type=last<br>step=7<br>name=2<br>x=%{x}<br>y=%{y}<extra></extra>",
           "hovertext": [
            "Last node of 2 <br> reward: 1.0 <br> action: [5, 5, 2, 4, 3, 3, 3, 5, 1, 0] <br> in system: 1.0"
           ],
           "legendgroup": "False, last",
           "line": {
            "color": "#EF553B",
            "dash": "solid"
           },
           "marker": {
            "symbol": "circle"
           },
           "mode": "lines+markers",
           "name": "False, last",
           "orientation": "v",
           "showlegend": false,
           "type": "scatter",
           "x": [
            0.32954545454545453
           ],
           "xaxis": "x",
           "y": [
            0.428
           ],
           "yaxis": "y"
          },
          {
           "hovertemplate": "<b>%{hovertext}</b><br><br>main=False<br>type=last<br>step=7<br>name=3<br>x=%{x}<br>y=%{y}<extra></extra>",
           "hovertext": [
            "Last node of 3 <br> reward: 1.0 <br> action: [5, 5, 2, 4, 3, 3, 3, 5, 1, 0] <br> in system: 0.0"
           ],
           "legendgroup": "False, last",
           "line": {
            "color": "#EF553B",
            "dash": "solid"
           },
           "marker": {
            "symbol": "circle"
           },
           "mode": "lines+markers",
           "name": "False, last",
           "orientation": "v",
           "showlegend": false,
           "type": "scatter",
           "x": [
            0
           ],
           "xaxis": "x",
           "y": [
            0
           ],
           "yaxis": "y"
          },
          {
           "hovertemplate": "<b>%{hovertext}</b><br><br>main=False<br>type=last<br>step=7<br>name=4<br>x=%{x}<br>y=%{y}<extra></extra>",
           "hovertext": [
            "Last node of 4 <br> reward: 1.0 <br> action: [5, 5, 2, 4, 3, 3, 3, 5, 1, 0] <br> in system: 1.0"
           ],
           "legendgroup": "False, last",
           "line": {
            "color": "#EF553B",
            "dash": "solid"
           },
           "marker": {
            "symbol": "circle"
           },
           "mode": "lines+markers",
           "name": "False, last",
           "orientation": "v",
           "showlegend": false,
           "type": "scatter",
           "x": [
            0.9431818181818182
           ],
           "xaxis": "x",
           "y": [
            0.86
           ],
           "yaxis": "y"
          },
          {
           "hovertemplate": "<b>%{hovertext}</b><br><br>main=False<br>type=last<br>step=7<br>name=5<br>x=%{x}<br>y=%{y}<extra></extra>",
           "hovertext": [
            "Last node of 5 <br> reward: 1.0 <br> action: [5, 5, 2, 4, 3, 3, 3, 5, 1, 0] <br> in system: 1.0"
           ],
           "legendgroup": "False, last",
           "line": {
            "color": "#EF553B",
            "dash": "solid"
           },
           "marker": {
            "symbol": "circle"
           },
           "mode": "lines+markers",
           "name": "False, last",
           "orientation": "v",
           "showlegend": false,
           "type": "scatter",
           "x": [
            0.42045454545454547
           ],
           "xaxis": "x",
           "y": [
            0.76
           ],
           "yaxis": "y"
          },
          {
           "hovertemplate": "<b>%{hovertext}</b><br><br>main=False<br>type=last<br>step=7<br>name=6<br>x=%{x}<br>y=%{y}<extra></extra>",
           "hovertext": [
            "Last node of 6 <br> reward: 1.0 <br> action: [5, 5, 2, 4, 3, 3, 3, 5, 1, 0] <br> in system: 0.0"
           ],
           "legendgroup": "False, last",
           "line": {
            "color": "#EF553B",
            "dash": "solid"
           },
           "marker": {
            "symbol": "circle"
           },
           "mode": "lines+markers",
           "name": "False, last",
           "orientation": "v",
           "showlegend": false,
           "type": "scatter",
           "x": [
            0
           ],
           "xaxis": "x",
           "y": [
            0
           ],
           "yaxis": "y"
          },
          {
           "hovertemplate": "<b>%{hovertext}</b><br><br>main=False<br>type=last<br>step=7<br>name=7<br>x=%{x}<br>y=%{y}<extra></extra>",
           "hovertext": [
            "Last node of 7 <br> reward: 1.0 <br> action: [5, 5, 2, 4, 3, 3, 3, 5, 1, 0] <br> in system: 0.0"
           ],
           "legendgroup": "False, last",
           "line": {
            "color": "#EF553B",
            "dash": "solid"
           },
           "marker": {
            "symbol": "circle"
           },
           "mode": "lines+markers",
           "name": "False, last",
           "orientation": "v",
           "showlegend": false,
           "type": "scatter",
           "x": [
            0
           ],
           "xaxis": "x",
           "y": [
            0
           ],
           "yaxis": "y"
          },
          {
           "hovertemplate": "<b>%{hovertext}</b><br><br>main=False<br>type=last<br>step=7<br>name=8<br>x=%{x}<br>y=%{y}<extra></extra>",
           "hovertext": [
            "Last node of 8 <br> reward: 1.0 <br> action: [5, 5, 2, 4, 3, 3, 3, 5, 1, 0] <br> in system: 1.0"
           ],
           "legendgroup": "False, last",
           "line": {
            "color": "#EF553B",
            "dash": "solid"
           },
           "marker": {
            "symbol": "circle"
           },
           "mode": "lines+markers",
           "name": "False, last",
           "orientation": "v",
           "showlegend": false,
           "type": "scatter",
           "x": [
            0.42045454545454547
           ],
           "xaxis": "x",
           "y": [
            0.38
           ],
           "yaxis": "y"
          },
          {
           "hovertemplate": "<b>%{hovertext}</b><br><br>main=False<br>type=last<br>step=7<br>name=9<br>x=%{x}<br>y=%{y}<extra></extra>",
           "hovertext": [
            "Last node of 9 <br> reward: 1.0 <br> action: [5, 5, 2, 4, 3, 3, 3, 5, 1, 0] <br> in system: 0.0"
           ],
           "legendgroup": "False, last",
           "line": {
            "color": "#EF553B",
            "dash": "solid"
           },
           "marker": {
            "symbol": "circle"
           },
           "mode": "lines+markers",
           "name": "False, last",
           "orientation": "v",
           "showlegend": false,
           "type": "scatter",
           "x": [
            0
           ],
           "xaxis": "x",
           "y": [
            0
           ],
           "yaxis": "y"
          },
          {
           "hovertemplate": "<b>%{hovertext}</b><br><br>main=False<br>type=next<br>step=7<br>name=1<br>x=%{x}<br>y=%{y}<extra></extra>",
           "hovertext": [
            "Next node of 1 <br> reward: 1.0 <br> action: [5, 5, 2, 4, 3, 3, 3, 5, 1, 0] <br> in system: 1.0"
           ],
           "legendgroup": "False, next",
           "line": {
            "color": "#EF553B",
            "dash": "solid"
           },
           "marker": {
            "symbol": "diamond"
           },
           "mode": "lines+markers",
           "name": "False, next",
           "orientation": "v",
           "showlegend": true,
           "type": "scatter",
           "x": [
            0.7613636363636364
           ],
           "xaxis": "x",
           "y": [
            0.86
           ],
           "yaxis": "y"
          },
          {
           "hovertemplate": "<b>%{hovertext}</b><br><br>main=False<br>type=next<br>step=7<br>name=2<br>x=%{x}<br>y=%{y}<extra></extra>",
           "hovertext": [
            "Next node of 2 <br> reward: 1.0 <br> action: [5, 5, 2, 4, 3, 3, 3, 5, 1, 0] <br> in system: 1.0"
           ],
           "legendgroup": "False, next",
           "line": {
            "color": "#EF553B",
            "dash": "solid"
           },
           "marker": {
            "symbol": "diamond"
           },
           "mode": "lines+markers",
           "name": "False, next",
           "orientation": "v",
           "showlegend": false,
           "type": "scatter",
           "x": [
            0.32954545454545453
           ],
           "xaxis": "x",
           "y": [
            0.428
           ],
           "yaxis": "y"
          },
          {
           "hovertemplate": "<b>%{hovertext}</b><br><br>main=False<br>type=next<br>step=7<br>name=3<br>x=%{x}<br>y=%{y}<extra></extra>",
           "hovertext": [
            "Next node of 3 <br> reward: 1.0 <br> action: [5, 5, 2, 4, 3, 3, 3, 5, 1, 0] <br> in system: 0.0"
           ],
           "legendgroup": "False, next",
           "line": {
            "color": "#EF553B",
            "dash": "solid"
           },
           "marker": {
            "symbol": "diamond"
           },
           "mode": "lines+markers",
           "name": "False, next",
           "orientation": "v",
           "showlegend": false,
           "type": "scatter",
           "x": [
            0
           ],
           "xaxis": "x",
           "y": [
            0
           ],
           "yaxis": "y"
          },
          {
           "hovertemplate": "<b>%{hovertext}</b><br><br>main=False<br>type=next<br>step=7<br>name=4<br>x=%{x}<br>y=%{y}<extra></extra>",
           "hovertext": [
            "Next node of 4 <br> reward: 1.0 <br> action: [5, 5, 2, 4, 3, 3, 3, 5, 1, 0] <br> in system: 1.0"
           ],
           "legendgroup": "False, next",
           "line": {
            "color": "#EF553B",
            "dash": "solid"
           },
           "marker": {
            "symbol": "diamond"
           },
           "mode": "lines+markers",
           "name": "False, next",
           "orientation": "v",
           "showlegend": false,
           "type": "scatter",
           "x": [
            1
           ],
           "xaxis": "x",
           "y": [
            0.86
           ],
           "yaxis": "y"
          },
          {
           "hovertemplate": "<b>%{hovertext}</b><br><br>main=False<br>type=next<br>step=7<br>name=5<br>x=%{x}<br>y=%{y}<extra></extra>",
           "hovertext": [
            "Next node of 5 <br> reward: 1.0 <br> action: [5, 5, 2, 4, 3, 3, 3, 5, 1, 0] <br> in system: 1.0"
           ],
           "legendgroup": "False, next",
           "line": {
            "color": "#EF553B",
            "dash": "solid"
           },
           "marker": {
            "symbol": "diamond"
           },
           "mode": "lines+markers",
           "name": "False, next",
           "orientation": "v",
           "showlegend": false,
           "type": "scatter",
           "x": [
            0.42045454545454547
           ],
           "xaxis": "x",
           "y": [
            0.48
           ],
           "yaxis": "y"
          },
          {
           "hovertemplate": "<b>%{hovertext}</b><br><br>main=False<br>type=next<br>step=7<br>name=6<br>x=%{x}<br>y=%{y}<extra></extra>",
           "hovertext": [
            "Next node of 6 <br> reward: 1.0 <br> action: [5, 5, 2, 4, 3, 3, 3, 5, 1, 0] <br> in system: 0.0"
           ],
           "legendgroup": "False, next",
           "line": {
            "color": "#EF553B",
            "dash": "solid"
           },
           "marker": {
            "symbol": "diamond"
           },
           "mode": "lines+markers",
           "name": "False, next",
           "orientation": "v",
           "showlegend": false,
           "type": "scatter",
           "x": [
            0
           ],
           "xaxis": "x",
           "y": [
            0
           ],
           "yaxis": "y"
          },
          {
           "hovertemplate": "<b>%{hovertext}</b><br><br>main=False<br>type=next<br>step=7<br>name=7<br>x=%{x}<br>y=%{y}<extra></extra>",
           "hovertext": [
            "Next node of 7 <br> reward: 1.0 <br> action: [5, 5, 2, 4, 3, 3, 3, 5, 1, 0] <br> in system: 0.0"
           ],
           "legendgroup": "False, next",
           "line": {
            "color": "#EF553B",
            "dash": "solid"
           },
           "marker": {
            "symbol": "diamond"
           },
           "mode": "lines+markers",
           "name": "False, next",
           "orientation": "v",
           "showlegend": false,
           "type": "scatter",
           "x": [
            0
           ],
           "xaxis": "x",
           "y": [
            0
           ],
           "yaxis": "y"
          },
          {
           "hovertemplate": "<b>%{hovertext}</b><br><br>main=False<br>type=next<br>step=7<br>name=8<br>x=%{x}<br>y=%{y}<extra></extra>",
           "hovertext": [
            "Next node of 8 <br> reward: 1.0 <br> action: [5, 5, 2, 4, 3, 3, 3, 5, 1, 0] <br> in system: 1.0"
           ],
           "legendgroup": "False, next",
           "line": {
            "color": "#EF553B",
            "dash": "solid"
           },
           "marker": {
            "symbol": "diamond"
           },
           "mode": "lines+markers",
           "name": "False, next",
           "orientation": "v",
           "showlegend": false,
           "type": "scatter",
           "x": [
            0.42045454545454547
           ],
           "xaxis": "x",
           "y": [
            0.38
           ],
           "yaxis": "y"
          },
          {
           "hovertemplate": "<b>%{hovertext}</b><br><br>main=False<br>type=next<br>step=7<br>name=9<br>x=%{x}<br>y=%{y}<extra></extra>",
           "hovertext": [
            "Next node of 9 <br> reward: 1.0 <br> action: [5, 5, 2, 4, 3, 3, 3, 5, 1, 0] <br> in system: 0.0"
           ],
           "legendgroup": "False, next",
           "line": {
            "color": "#EF553B",
            "dash": "solid"
           },
           "marker": {
            "symbol": "diamond"
           },
           "mode": "lines+markers",
           "name": "False, next",
           "orientation": "v",
           "showlegend": false,
           "type": "scatter",
           "x": [
            0
           ],
           "xaxis": "x",
           "y": [
            0
           ],
           "yaxis": "y"
          }
         ],
         "name": "7"
        },
        {
         "data": [
          {
           "hovertemplate": "<b>%{hovertext}</b><br><br>main=True<br>type=last<br>step=8<br>name=0<br>x=%{x}<br>y=%{y}<extra></extra>",
           "hovertext": [
            "Last node of 0 <br> reward: 1.0 <br> action: [3, 1, 0, 1, 5, 5, 4, 3, 2, 0] <br> in system: 1.0"
           ],
           "legendgroup": "True, last",
           "line": {
            "color": "#636efa",
            "dash": "solid"
           },
           "marker": {
            "symbol": "circle"
           },
           "mode": "lines+markers",
           "name": "True, last",
           "orientation": "v",
           "showlegend": true,
           "type": "scatter",
           "x": [
            1
           ],
           "xaxis": "x",
           "y": [
            0.86
           ],
           "yaxis": "y"
          },
          {
           "hovertemplate": "<b>%{hovertext}</b><br><br>main=True<br>type=next<br>step=8<br>name=0<br>x=%{x}<br>y=%{y}<extra></extra>",
           "hovertext": [
            "Next node of 0 <br> reward: 1.0 <br> action: [3, 1, 0, 1, 5, 5, 4, 3, 2, 0] <br> in system: 1.0"
           ],
           "legendgroup": "True, next",
           "line": {
            "color": "#636efa",
            "dash": "solid"
           },
           "marker": {
            "symbol": "diamond"
           },
           "mode": "lines+markers",
           "name": "True, next",
           "orientation": "v",
           "showlegend": true,
           "type": "scatter",
           "x": [
            1
           ],
           "xaxis": "x",
           "y": [
            0.86
           ],
           "yaxis": "y"
          },
          {
           "hovertemplate": "<b>%{hovertext}</b><br><br>main=False<br>type=last<br>step=8<br>name=1<br>x=%{x}<br>y=%{y}<extra></extra>",
           "hovertext": [
            "Last node of 1 <br> reward: 1.0 <br> action: [3, 1, 0, 1, 5, 5, 4, 3, 2, 0] <br> in system: 1.0"
           ],
           "legendgroup": "False, last",
           "line": {
            "color": "#EF553B",
            "dash": "solid"
           },
           "marker": {
            "symbol": "circle"
           },
           "mode": "lines+markers",
           "name": "False, last",
           "orientation": "v",
           "showlegend": true,
           "type": "scatter",
           "x": [
            0.7613636363636364
           ],
           "xaxis": "x",
           "y": [
            0.76
           ],
           "yaxis": "y"
          },
          {
           "hovertemplate": "<b>%{hovertext}</b><br><br>main=False<br>type=last<br>step=8<br>name=2<br>x=%{x}<br>y=%{y}<extra></extra>",
           "hovertext": [
            "Last node of 2 <br> reward: 1.0 <br> action: [3, 1, 0, 1, 5, 5, 4, 3, 2, 0] <br> in system: 0.0"
           ],
           "legendgroup": "False, last",
           "line": {
            "color": "#EF553B",
            "dash": "solid"
           },
           "marker": {
            "symbol": "circle"
           },
           "mode": "lines+markers",
           "name": "False, last",
           "orientation": "v",
           "showlegend": false,
           "type": "scatter",
           "x": [
            0
           ],
           "xaxis": "x",
           "y": [
            0
           ],
           "yaxis": "y"
          },
          {
           "hovertemplate": "<b>%{hovertext}</b><br><br>main=False<br>type=last<br>step=8<br>name=3<br>x=%{x}<br>y=%{y}<extra></extra>",
           "hovertext": [
            "Last node of 3 <br> reward: 1.0 <br> action: [3, 1, 0, 1, 5, 5, 4, 3, 2, 0] <br> in system: 0.0"
           ],
           "legendgroup": "False, last",
           "line": {
            "color": "#EF553B",
            "dash": "solid"
           },
           "marker": {
            "symbol": "circle"
           },
           "mode": "lines+markers",
           "name": "False, last",
           "orientation": "v",
           "showlegend": false,
           "type": "scatter",
           "x": [
            0
           ],
           "xaxis": "x",
           "y": [
            0
           ],
           "yaxis": "y"
          },
          {
           "hovertemplate": "<b>%{hovertext}</b><br><br>main=False<br>type=last<br>step=8<br>name=4<br>x=%{x}<br>y=%{y}<extra></extra>",
           "hovertext": [
            "Last node of 4 <br> reward: 1.0 <br> action: [3, 1, 0, 1, 5, 5, 4, 3, 2, 0] <br> in system: 1.0"
           ],
           "legendgroup": "False, last",
           "line": {
            "color": "#EF553B",
            "dash": "solid"
           },
           "marker": {
            "symbol": "circle"
           },
           "mode": "lines+markers",
           "name": "False, last",
           "orientation": "v",
           "showlegend": false,
           "type": "scatter",
           "x": [
            0.32954545454545453
           ],
           "xaxis": "x",
           "y": [
            0.428
           ],
           "yaxis": "y"
          },
          {
           "hovertemplate": "<b>%{hovertext}</b><br><br>main=False<br>type=last<br>step=8<br>name=5<br>x=%{x}<br>y=%{y}<extra></extra>",
           "hovertext": [
            "Last node of 5 <br> reward: 1.0 <br> action: [3, 1, 0, 1, 5, 5, 4, 3, 2, 0] <br> in system: 0.0"
           ],
           "legendgroup": "False, last",
           "line": {
            "color": "#EF553B",
            "dash": "solid"
           },
           "marker": {
            "symbol": "circle"
           },
           "mode": "lines+markers",
           "name": "False, last",
           "orientation": "v",
           "showlegend": false,
           "type": "scatter",
           "x": [
            0
           ],
           "xaxis": "x",
           "y": [
            0
           ],
           "yaxis": "y"
          },
          {
           "hovertemplate": "<b>%{hovertext}</b><br><br>main=False<br>type=last<br>step=8<br>name=6<br>x=%{x}<br>y=%{y}<extra></extra>",
           "hovertext": [
            "Last node of 6 <br> reward: 1.0 <br> action: [3, 1, 0, 1, 5, 5, 4, 3, 2, 0] <br> in system: 1.0"
           ],
           "legendgroup": "False, last",
           "line": {
            "color": "#EF553B",
            "dash": "solid"
           },
           "marker": {
            "symbol": "circle"
           },
           "mode": "lines+markers",
           "name": "False, last",
           "orientation": "v",
           "showlegend": false,
           "type": "scatter",
           "x": [
            0.9431818181818182
           ],
           "xaxis": "x",
           "y": [
            0.86
           ],
           "yaxis": "y"
          },
          {
           "hovertemplate": "<b>%{hovertext}</b><br><br>main=False<br>type=last<br>step=8<br>name=7<br>x=%{x}<br>y=%{y}<extra></extra>",
           "hovertext": [
            "Last node of 7 <br> reward: 1.0 <br> action: [3, 1, 0, 1, 5, 5, 4, 3, 2, 0] <br> in system: 1.0"
           ],
           "legendgroup": "False, last",
           "line": {
            "color": "#EF553B",
            "dash": "solid"
           },
           "marker": {
            "symbol": "circle"
           },
           "mode": "lines+markers",
           "name": "False, last",
           "orientation": "v",
           "showlegend": false,
           "type": "scatter",
           "x": [
            0.42045454545454547
           ],
           "xaxis": "x",
           "y": [
            0.76
           ],
           "yaxis": "y"
          },
          {
           "hovertemplate": "<b>%{hovertext}</b><br><br>main=False<br>type=last<br>step=8<br>name=8<br>x=%{x}<br>y=%{y}<extra></extra>",
           "hovertext": [
            "Last node of 8 <br> reward: 1.0 <br> action: [3, 1, 0, 1, 5, 5, 4, 3, 2, 0] <br> in system: 0.0"
           ],
           "legendgroup": "False, last",
           "line": {
            "color": "#EF553B",
            "dash": "solid"
           },
           "marker": {
            "symbol": "circle"
           },
           "mode": "lines+markers",
           "name": "False, last",
           "orientation": "v",
           "showlegend": false,
           "type": "scatter",
           "x": [
            0
           ],
           "xaxis": "x",
           "y": [
            0
           ],
           "yaxis": "y"
          },
          {
           "hovertemplate": "<b>%{hovertext}</b><br><br>main=False<br>type=last<br>step=8<br>name=9<br>x=%{x}<br>y=%{y}<extra></extra>",
           "hovertext": [
            "Last node of 9 <br> reward: 1.0 <br> action: [3, 1, 0, 1, 5, 5, 4, 3, 2, 0] <br> in system: 1.0"
           ],
           "legendgroup": "False, last",
           "line": {
            "color": "#EF553B",
            "dash": "solid"
           },
           "marker": {
            "symbol": "circle"
           },
           "mode": "lines+markers",
           "name": "False, last",
           "orientation": "v",
           "showlegend": false,
           "type": "scatter",
           "x": [
            0.42045454545454547
           ],
           "xaxis": "x",
           "y": [
            0.38
           ],
           "yaxis": "y"
          },
          {
           "hovertemplate": "<b>%{hovertext}</b><br><br>main=False<br>type=next<br>step=8<br>name=1<br>x=%{x}<br>y=%{y}<extra></extra>",
           "hovertext": [
            "Next node of 1 <br> reward: 1.0 <br> action: [3, 1, 0, 1, 5, 5, 4, 3, 2, 0] <br> in system: 1.0"
           ],
           "legendgroup": "False, next",
           "line": {
            "color": "#EF553B",
            "dash": "solid"
           },
           "marker": {
            "symbol": "diamond"
           },
           "mode": "lines+markers",
           "name": "False, next",
           "orientation": "v",
           "showlegend": true,
           "type": "scatter",
           "x": [
            0.7613636363636364
           ],
           "xaxis": "x",
           "y": [
            0.86
           ],
           "yaxis": "y"
          },
          {
           "hovertemplate": "<b>%{hovertext}</b><br><br>main=False<br>type=next<br>step=8<br>name=2<br>x=%{x}<br>y=%{y}<extra></extra>",
           "hovertext": [
            "Next node of 2 <br> reward: 1.0 <br> action: [3, 1, 0, 1, 5, 5, 4, 3, 2, 0] <br> in system: 0.0"
           ],
           "legendgroup": "False, next",
           "line": {
            "color": "#EF553B",
            "dash": "solid"
           },
           "marker": {
            "symbol": "diamond"
           },
           "mode": "lines+markers",
           "name": "False, next",
           "orientation": "v",
           "showlegend": false,
           "type": "scatter",
           "x": [
            0
           ],
           "xaxis": "x",
           "y": [
            0
           ],
           "yaxis": "y"
          },
          {
           "hovertemplate": "<b>%{hovertext}</b><br><br>main=False<br>type=next<br>step=8<br>name=3<br>x=%{x}<br>y=%{y}<extra></extra>",
           "hovertext": [
            "Next node of 3 <br> reward: 1.0 <br> action: [3, 1, 0, 1, 5, 5, 4, 3, 2, 0] <br> in system: 0.0"
           ],
           "legendgroup": "False, next",
           "line": {
            "color": "#EF553B",
            "dash": "solid"
           },
           "marker": {
            "symbol": "diamond"
           },
           "mode": "lines+markers",
           "name": "False, next",
           "orientation": "v",
           "showlegend": false,
           "type": "scatter",
           "x": [
            0
           ],
           "xaxis": "x",
           "y": [
            0
           ],
           "yaxis": "y"
          },
          {
           "hovertemplate": "<b>%{hovertext}</b><br><br>main=False<br>type=next<br>step=8<br>name=4<br>x=%{x}<br>y=%{y}<extra></extra>",
           "hovertext": [
            "Next node of 4 <br> reward: 1.0 <br> action: [3, 1, 0, 1, 5, 5, 4, 3, 2, 0] <br> in system: 1.0"
           ],
           "legendgroup": "False, next",
           "line": {
            "color": "#EF553B",
            "dash": "solid"
           },
           "marker": {
            "symbol": "diamond"
           },
           "mode": "lines+markers",
           "name": "False, next",
           "orientation": "v",
           "showlegend": false,
           "type": "scatter",
           "x": [
            0.32954545454545453
           ],
           "xaxis": "x",
           "y": [
            0.428
           ],
           "yaxis": "y"
          },
          {
           "hovertemplate": "<b>%{hovertext}</b><br><br>main=False<br>type=next<br>step=8<br>name=5<br>x=%{x}<br>y=%{y}<extra></extra>",
           "hovertext": [
            "Next node of 5 <br> reward: 1.0 <br> action: [3, 1, 0, 1, 5, 5, 4, 3, 2, 0] <br> in system: 0.0"
           ],
           "legendgroup": "False, next",
           "line": {
            "color": "#EF553B",
            "dash": "solid"
           },
           "marker": {
            "symbol": "diamond"
           },
           "mode": "lines+markers",
           "name": "False, next",
           "orientation": "v",
           "showlegend": false,
           "type": "scatter",
           "x": [
            0
           ],
           "xaxis": "x",
           "y": [
            0
           ],
           "yaxis": "y"
          },
          {
           "hovertemplate": "<b>%{hovertext}</b><br><br>main=False<br>type=next<br>step=8<br>name=6<br>x=%{x}<br>y=%{y}<extra></extra>",
           "hovertext": [
            "Next node of 6 <br> reward: 1.0 <br> action: [3, 1, 0, 1, 5, 5, 4, 3, 2, 0] <br> in system: 1.0"
           ],
           "legendgroup": "False, next",
           "line": {
            "color": "#EF553B",
            "dash": "solid"
           },
           "marker": {
            "symbol": "diamond"
           },
           "mode": "lines+markers",
           "name": "False, next",
           "orientation": "v",
           "showlegend": false,
           "type": "scatter",
           "x": [
            1
           ],
           "xaxis": "x",
           "y": [
            0.86
           ],
           "yaxis": "y"
          },
          {
           "hovertemplate": "<b>%{hovertext}</b><br><br>main=False<br>type=next<br>step=8<br>name=7<br>x=%{x}<br>y=%{y}<extra></extra>",
           "hovertext": [
            "Next node of 7 <br> reward: 1.0 <br> action: [3, 1, 0, 1, 5, 5, 4, 3, 2, 0] <br> in system: 1.0"
           ],
           "legendgroup": "False, next",
           "line": {
            "color": "#EF553B",
            "dash": "solid"
           },
           "marker": {
            "symbol": "diamond"
           },
           "mode": "lines+markers",
           "name": "False, next",
           "orientation": "v",
           "showlegend": false,
           "type": "scatter",
           "x": [
            0.42045454545454547
           ],
           "xaxis": "x",
           "y": [
            0.48
           ],
           "yaxis": "y"
          },
          {
           "hovertemplate": "<b>%{hovertext}</b><br><br>main=False<br>type=next<br>step=8<br>name=8<br>x=%{x}<br>y=%{y}<extra></extra>",
           "hovertext": [
            "Next node of 8 <br> reward: 1.0 <br> action: [3, 1, 0, 1, 5, 5, 4, 3, 2, 0] <br> in system: 0.0"
           ],
           "legendgroup": "False, next",
           "line": {
            "color": "#EF553B",
            "dash": "solid"
           },
           "marker": {
            "symbol": "diamond"
           },
           "mode": "lines+markers",
           "name": "False, next",
           "orientation": "v",
           "showlegend": false,
           "type": "scatter",
           "x": [
            0
           ],
           "xaxis": "x",
           "y": [
            0
           ],
           "yaxis": "y"
          },
          {
           "hovertemplate": "<b>%{hovertext}</b><br><br>main=False<br>type=next<br>step=8<br>name=9<br>x=%{x}<br>y=%{y}<extra></extra>",
           "hovertext": [
            "Next node of 9 <br> reward: 1.0 <br> action: [3, 1, 0, 1, 5, 5, 4, 3, 2, 0] <br> in system: 1.0"
           ],
           "legendgroup": "False, next",
           "line": {
            "color": "#EF553B",
            "dash": "solid"
           },
           "marker": {
            "symbol": "diamond"
           },
           "mode": "lines+markers",
           "name": "False, next",
           "orientation": "v",
           "showlegend": false,
           "type": "scatter",
           "x": [
            0.32954545454545453
           ],
           "xaxis": "x",
           "y": [
            0.428
           ],
           "yaxis": "y"
          }
         ],
         "name": "8"
        },
        {
         "data": [
          {
           "hovertemplate": "<b>%{hovertext}</b><br><br>main=True<br>type=last<br>step=9<br>name=0<br>x=%{x}<br>y=%{y}<extra></extra>",
           "hovertext": [
            "Last node of 0 <br> reward: 1.0 <br> action: [2, 0, 3, 3, 3, 4, 0, 1, 1, 0] <br> in system: 1.0"
           ],
           "legendgroup": "True, last",
           "line": {
            "color": "#636efa",
            "dash": "solid"
           },
           "marker": {
            "symbol": "circle"
           },
           "mode": "lines+markers",
           "name": "True, last",
           "orientation": "v",
           "showlegend": true,
           "type": "scatter",
           "x": [
            1
           ],
           "xaxis": "x",
           "y": [
            0.86
           ],
           "yaxis": "y"
          },
          {
           "hovertemplate": "<b>%{hovertext}</b><br><br>main=True<br>type=next<br>step=9<br>name=0<br>x=%{x}<br>y=%{y}<extra></extra>",
           "hovertext": [
            "Next node of 0 <br> reward: 1.0 <br> action: [2, 0, 3, 3, 3, 4, 0, 1, 1, 0] <br> in system: 1.0"
           ],
           "legendgroup": "True, next",
           "line": {
            "color": "#636efa",
            "dash": "solid"
           },
           "marker": {
            "symbol": "diamond"
           },
           "mode": "lines+markers",
           "name": "True, next",
           "orientation": "v",
           "showlegend": true,
           "type": "scatter",
           "x": [
            1
           ],
           "xaxis": "x",
           "y": [
            0.86
           ],
           "yaxis": "y"
          },
          {
           "hovertemplate": "<b>%{hovertext}</b><br><br>main=False<br>type=last<br>step=9<br>name=1<br>x=%{x}<br>y=%{y}<extra></extra>",
           "hovertext": [
            "Last node of 1 <br> reward: 1.0 <br> action: [2, 0, 3, 3, 3, 4, 0, 1, 1, 0] <br> in system: 1.0"
           ],
           "legendgroup": "False, last",
           "line": {
            "color": "#EF553B",
            "dash": "solid"
           },
           "marker": {
            "symbol": "circle"
           },
           "mode": "lines+markers",
           "name": "False, last",
           "orientation": "v",
           "showlegend": true,
           "type": "scatter",
           "x": [
            0.9431818181818182
           ],
           "xaxis": "x",
           "y": [
            0.86
           ],
           "yaxis": "y"
          },
          {
           "hovertemplate": "<b>%{hovertext}</b><br><br>main=False<br>type=last<br>step=9<br>name=2<br>x=%{x}<br>y=%{y}<extra></extra>",
           "hovertext": [
            "Last node of 2 <br> reward: 1.0 <br> action: [2, 0, 3, 3, 3, 4, 0, 1, 1, 0] <br> in system: 0.0"
           ],
           "legendgroup": "False, last",
           "line": {
            "color": "#EF553B",
            "dash": "solid"
           },
           "marker": {
            "symbol": "circle"
           },
           "mode": "lines+markers",
           "name": "False, last",
           "orientation": "v",
           "showlegend": false,
           "type": "scatter",
           "x": [
            0
           ],
           "xaxis": "x",
           "y": [
            0
           ],
           "yaxis": "y"
          },
          {
           "hovertemplate": "<b>%{hovertext}</b><br><br>main=False<br>type=last<br>step=9<br>name=3<br>x=%{x}<br>y=%{y}<extra></extra>",
           "hovertext": [
            "Last node of 3 <br> reward: 1.0 <br> action: [2, 0, 3, 3, 3, 4, 0, 1, 1, 0] <br> in system: 0.0"
           ],
           "legendgroup": "False, last",
           "line": {
            "color": "#EF553B",
            "dash": "solid"
           },
           "marker": {
            "symbol": "circle"
           },
           "mode": "lines+markers",
           "name": "False, last",
           "orientation": "v",
           "showlegend": false,
           "type": "scatter",
           "x": [
            0
           ],
           "xaxis": "x",
           "y": [
            0
           ],
           "yaxis": "y"
          },
          {
           "hovertemplate": "<b>%{hovertext}</b><br><br>main=False<br>type=last<br>step=9<br>name=4<br>x=%{x}<br>y=%{y}<extra></extra>",
           "hovertext": [
            "Last node of 4 <br> reward: 1.0 <br> action: [2, 0, 3, 3, 3, 4, 0, 1, 1, 0] <br> in system: 0.0"
           ],
           "legendgroup": "False, last",
           "line": {
            "color": "#EF553B",
            "dash": "solid"
           },
           "marker": {
            "symbol": "circle"
           },
           "mode": "lines+markers",
           "name": "False, last",
           "orientation": "v",
           "showlegend": false,
           "type": "scatter",
           "x": [
            0
           ],
           "xaxis": "x",
           "y": [
            0
           ],
           "yaxis": "y"
          },
          {
           "hovertemplate": "<b>%{hovertext}</b><br><br>main=False<br>type=last<br>step=9<br>name=5<br>x=%{x}<br>y=%{y}<extra></extra>",
           "hovertext": [
            "Last node of 5 <br> reward: 1.0 <br> action: [2, 0, 3, 3, 3, 4, 0, 1, 1, 0] <br> in system: 1.0"
           ],
           "legendgroup": "False, last",
           "line": {
            "color": "#EF553B",
            "dash": "solid"
           },
           "marker": {
            "symbol": "circle"
           },
           "mode": "lines+markers",
           "name": "False, last",
           "orientation": "v",
           "showlegend": false,
           "type": "scatter",
           "x": [
            0.7613636363636364
           ],
           "xaxis": "x",
           "y": [
            0.76
           ],
           "yaxis": "y"
          },
          {
           "hovertemplate": "<b>%{hovertext}</b><br><br>main=False<br>type=last<br>step=9<br>name=6<br>x=%{x}<br>y=%{y}<extra></extra>",
           "hovertext": [
            "Last node of 6 <br> reward: 1.0 <br> action: [2, 0, 3, 3, 3, 4, 0, 1, 1, 0] <br> in system: 1.0"
           ],
           "legendgroup": "False, last",
           "line": {
            "color": "#EF553B",
            "dash": "solid"
           },
           "marker": {
            "symbol": "circle"
           },
           "mode": "lines+markers",
           "name": "False, last",
           "orientation": "v",
           "showlegend": false,
           "type": "scatter",
           "x": [
            0.32954545454545453
           ],
           "xaxis": "x",
           "y": [
            0.428
           ],
           "yaxis": "y"
          },
          {
           "hovertemplate": "<b>%{hovertext}</b><br><br>main=False<br>type=last<br>step=9<br>name=7<br>x=%{x}<br>y=%{y}<extra></extra>",
           "hovertext": [
            "Last node of 7 <br> reward: 1.0 <br> action: [2, 0, 3, 3, 3, 4, 0, 1, 1, 0] <br> in system: 0.0"
           ],
           "legendgroup": "False, last",
           "line": {
            "color": "#EF553B",
            "dash": "solid"
           },
           "marker": {
            "symbol": "circle"
           },
           "mode": "lines+markers",
           "name": "False, last",
           "orientation": "v",
           "showlegend": false,
           "type": "scatter",
           "x": [
            0
           ],
           "xaxis": "x",
           "y": [
            0
           ],
           "yaxis": "y"
          },
          {
           "hovertemplate": "<b>%{hovertext}</b><br><br>main=False<br>type=last<br>step=9<br>name=8<br>x=%{x}<br>y=%{y}<extra></extra>",
           "hovertext": [
            "Last node of 8 <br> reward: 1.0 <br> action: [2, 0, 3, 3, 3, 4, 0, 1, 1, 0] <br> in system: 1.0"
           ],
           "legendgroup": "False, last",
           "line": {
            "color": "#EF553B",
            "dash": "solid"
           },
           "marker": {
            "symbol": "circle"
           },
           "mode": "lines+markers",
           "name": "False, last",
           "orientation": "v",
           "showlegend": false,
           "type": "scatter",
           "x": [
            0.42045454545454547
           ],
           "xaxis": "x",
           "y": [
            0.38
           ],
           "yaxis": "y"
          },
          {
           "hovertemplate": "<b>%{hovertext}</b><br><br>main=False<br>type=last<br>step=9<br>name=9<br>x=%{x}<br>y=%{y}<extra></extra>",
           "hovertext": [
            "Last node of 9 <br> reward: 1.0 <br> action: [2, 0, 3, 3, 3, 4, 0, 1, 1, 0] <br> in system: 1.0"
           ],
           "legendgroup": "False, last",
           "line": {
            "color": "#EF553B",
            "dash": "solid"
           },
           "marker": {
            "symbol": "circle"
           },
           "mode": "lines+markers",
           "name": "False, last",
           "orientation": "v",
           "showlegend": false,
           "type": "scatter",
           "x": [
            0.42045454545454547
           ],
           "xaxis": "x",
           "y": [
            0.48
           ],
           "yaxis": "y"
          },
          {
           "hovertemplate": "<b>%{hovertext}</b><br><br>main=False<br>type=next<br>step=9<br>name=1<br>x=%{x}<br>y=%{y}<extra></extra>",
           "hovertext": [
            "Next node of 1 <br> reward: 1.0 <br> action: [2, 0, 3, 3, 3, 4, 0, 1, 1, 0] <br> in system: 1.0"
           ],
           "legendgroup": "False, next",
           "line": {
            "color": "#EF553B",
            "dash": "solid"
           },
           "marker": {
            "symbol": "diamond"
           },
           "mode": "lines+markers",
           "name": "False, next",
           "orientation": "v",
           "showlegend": true,
           "type": "scatter",
           "x": [
            1
           ],
           "xaxis": "x",
           "y": [
            0.86
           ],
           "yaxis": "y"
          },
          {
           "hovertemplate": "<b>%{hovertext}</b><br><br>main=False<br>type=next<br>step=9<br>name=2<br>x=%{x}<br>y=%{y}<extra></extra>",
           "hovertext": [
            "Next node of 2 <br> reward: 1.0 <br> action: [2, 0, 3, 3, 3, 4, 0, 1, 1, 0] <br> in system: 0.0"
           ],
           "legendgroup": "False, next",
           "line": {
            "color": "#EF553B",
            "dash": "solid"
           },
           "marker": {
            "symbol": "diamond"
           },
           "mode": "lines+markers",
           "name": "False, next",
           "orientation": "v",
           "showlegend": false,
           "type": "scatter",
           "x": [
            0
           ],
           "xaxis": "x",
           "y": [
            0
           ],
           "yaxis": "y"
          },
          {
           "hovertemplate": "<b>%{hovertext}</b><br><br>main=False<br>type=next<br>step=9<br>name=3<br>x=%{x}<br>y=%{y}<extra></extra>",
           "hovertext": [
            "Next node of 3 <br> reward: 1.0 <br> action: [2, 0, 3, 3, 3, 4, 0, 1, 1, 0] <br> in system: 0.0"
           ],
           "legendgroup": "False, next",
           "line": {
            "color": "#EF553B",
            "dash": "solid"
           },
           "marker": {
            "symbol": "diamond"
           },
           "mode": "lines+markers",
           "name": "False, next",
           "orientation": "v",
           "showlegend": false,
           "type": "scatter",
           "x": [
            0
           ],
           "xaxis": "x",
           "y": [
            0
           ],
           "yaxis": "y"
          },
          {
           "hovertemplate": "<b>%{hovertext}</b><br><br>main=False<br>type=next<br>step=9<br>name=4<br>x=%{x}<br>y=%{y}<extra></extra>",
           "hovertext": [
            "Next node of 4 <br> reward: 1.0 <br> action: [2, 0, 3, 3, 3, 4, 0, 1, 1, 0] <br> in system: 0.0"
           ],
           "legendgroup": "False, next",
           "line": {
            "color": "#EF553B",
            "dash": "solid"
           },
           "marker": {
            "symbol": "diamond"
           },
           "mode": "lines+markers",
           "name": "False, next",
           "orientation": "v",
           "showlegend": false,
           "type": "scatter",
           "x": [
            0
           ],
           "xaxis": "x",
           "y": [
            0
           ],
           "yaxis": "y"
          },
          {
           "hovertemplate": "<b>%{hovertext}</b><br><br>main=False<br>type=next<br>step=9<br>name=5<br>x=%{x}<br>y=%{y}<extra></extra>",
           "hovertext": [
            "Next node of 5 <br> reward: 1.0 <br> action: [2, 0, 3, 3, 3, 4, 0, 1, 1, 0] <br> in system: 1.0"
           ],
           "legendgroup": "False, next",
           "line": {
            "color": "#EF553B",
            "dash": "solid"
           },
           "marker": {
            "symbol": "diamond"
           },
           "mode": "lines+markers",
           "name": "False, next",
           "orientation": "v",
           "showlegend": false,
           "type": "scatter",
           "x": [
            0.7613636363636364
           ],
           "xaxis": "x",
           "y": [
            0.86
           ],
           "yaxis": "y"
          },
          {
           "hovertemplate": "<b>%{hovertext}</b><br><br>main=False<br>type=next<br>step=9<br>name=6<br>x=%{x}<br>y=%{y}<extra></extra>",
           "hovertext": [
            "Next node of 6 <br> reward: 1.0 <br> action: [2, 0, 3, 3, 3, 4, 0, 1, 1, 0] <br> in system: 1.0"
           ],
           "legendgroup": "False, next",
           "line": {
            "color": "#EF553B",
            "dash": "solid"
           },
           "marker": {
            "symbol": "diamond"
           },
           "mode": "lines+markers",
           "name": "False, next",
           "orientation": "v",
           "showlegend": false,
           "type": "scatter",
           "x": [
            0.32954545454545453
           ],
           "xaxis": "x",
           "y": [
            0.428
           ],
           "yaxis": "y"
          },
          {
           "hovertemplate": "<b>%{hovertext}</b><br><br>main=False<br>type=next<br>step=9<br>name=7<br>x=%{x}<br>y=%{y}<extra></extra>",
           "hovertext": [
            "Next node of 7 <br> reward: 1.0 <br> action: [2, 0, 3, 3, 3, 4, 0, 1, 1, 0] <br> in system: 0.0"
           ],
           "legendgroup": "False, next",
           "line": {
            "color": "#EF553B",
            "dash": "solid"
           },
           "marker": {
            "symbol": "diamond"
           },
           "mode": "lines+markers",
           "name": "False, next",
           "orientation": "v",
           "showlegend": false,
           "type": "scatter",
           "x": [
            0
           ],
           "xaxis": "x",
           "y": [
            0
           ],
           "yaxis": "y"
          },
          {
           "hovertemplate": "<b>%{hovertext}</b><br><br>main=False<br>type=next<br>step=9<br>name=8<br>x=%{x}<br>y=%{y}<extra></extra>",
           "hovertext": [
            "Next node of 8 <br> reward: 1.0 <br> action: [2, 0, 3, 3, 3, 4, 0, 1, 1, 0] <br> in system: 1.0"
           ],
           "legendgroup": "False, next",
           "line": {
            "color": "#EF553B",
            "dash": "solid"
           },
           "marker": {
            "symbol": "diamond"
           },
           "mode": "lines+markers",
           "name": "False, next",
           "orientation": "v",
           "showlegend": false,
           "type": "scatter",
           "x": [
            0.32954545454545453
           ],
           "xaxis": "x",
           "y": [
            0.428
           ],
           "yaxis": "y"
          },
          {
           "hovertemplate": "<b>%{hovertext}</b><br><br>main=False<br>type=next<br>step=9<br>name=9<br>x=%{x}<br>y=%{y}<extra></extra>",
           "hovertext": [
            "Next node of 9 <br> reward: 1.0 <br> action: [2, 0, 3, 3, 3, 4, 0, 1, 1, 0] <br> in system: 1.0"
           ],
           "legendgroup": "False, next",
           "line": {
            "color": "#EF553B",
            "dash": "solid"
           },
           "marker": {
            "symbol": "diamond"
           },
           "mode": "lines+markers",
           "name": "False, next",
           "orientation": "v",
           "showlegend": false,
           "type": "scatter",
           "x": [
            0.42045454545454547
           ],
           "xaxis": "x",
           "y": [
            0.38
           ],
           "yaxis": "y"
          }
         ],
         "name": "9"
        },
        {
         "data": [
          {
           "hovertemplate": "<b>%{hovertext}</b><br><br>main=True<br>type=last<br>step=10<br>name=0<br>x=%{x}<br>y=%{y}<extra></extra>",
           "hovertext": [
            "Last node of 0 <br> reward: 0 <br> action: [1, 0, 4, 3, 1, 2, 1, 0, 2, 4] <br> in system: 1.0"
           ],
           "legendgroup": "True, last",
           "line": {
            "color": "#636efa",
            "dash": "solid"
           },
           "marker": {
            "symbol": "circle"
           },
           "mode": "lines+markers",
           "name": "True, last",
           "orientation": "v",
           "showlegend": true,
           "type": "scatter",
           "x": [
            1
           ],
           "xaxis": "x",
           "y": [
            0.86
           ],
           "yaxis": "y"
          },
          {
           "hovertemplate": "<b>%{hovertext}</b><br><br>main=True<br>type=next<br>step=10<br>name=0<br>x=%{x}<br>y=%{y}<extra></extra>",
           "hovertext": [
            "Next node of 0 <br> reward: 0 <br> action: [1, 0, 4, 3, 1, 2, 1, 0, 2, 4] <br> in system: 1.0"
           ],
           "legendgroup": "True, next",
           "line": {
            "color": "#636efa",
            "dash": "solid"
           },
           "marker": {
            "symbol": "diamond"
           },
           "mode": "lines+markers",
           "name": "True, next",
           "orientation": "v",
           "showlegend": true,
           "type": "scatter",
           "x": [
            1
           ],
           "xaxis": "x",
           "y": [
            0.76
           ],
           "yaxis": "y"
          },
          {
           "hovertemplate": "<b>%{hovertext}</b><br><br>main=False<br>type=last<br>step=10<br>name=1<br>x=%{x}<br>y=%{y}<extra></extra>",
           "hovertext": [
            "Last node of 1 <br> reward: 0 <br> action: [1, 0, 4, 3, 1, 2, 1, 0, 2, 4] <br> in system: 0.0"
           ],
           "legendgroup": "False, last",
           "line": {
            "color": "#EF553B",
            "dash": "solid"
           },
           "marker": {
            "symbol": "circle"
           },
           "mode": "lines+markers",
           "name": "False, last",
           "orientation": "v",
           "showlegend": true,
           "type": "scatter",
           "x": [
            0
           ],
           "xaxis": "x",
           "y": [
            0
           ],
           "yaxis": "y"
          },
          {
           "hovertemplate": "<b>%{hovertext}</b><br><br>main=False<br>type=last<br>step=10<br>name=2<br>x=%{x}<br>y=%{y}<extra></extra>",
           "hovertext": [
            "Last node of 2 <br> reward: 0 <br> action: [1, 0, 4, 3, 1, 2, 1, 0, 2, 4] <br> in system: 1.0"
           ],
           "legendgroup": "False, last",
           "line": {
            "color": "#EF553B",
            "dash": "solid"
           },
           "marker": {
            "symbol": "circle"
           },
           "mode": "lines+markers",
           "name": "False, last",
           "orientation": "v",
           "showlegend": false,
           "type": "scatter",
           "x": [
            0.7613636363636364
           ],
           "xaxis": "x",
           "y": [
            0.76
           ],
           "yaxis": "y"
          },
          {
           "hovertemplate": "<b>%{hovertext}</b><br><br>main=False<br>type=last<br>step=10<br>name=3<br>x=%{x}<br>y=%{y}<extra></extra>",
           "hovertext": [
            "Last node of 3 <br> reward: 0 <br> action: [1, 0, 4, 3, 1, 2, 1, 0, 2, 4] <br> in system: 0.0"
           ],
           "legendgroup": "False, last",
           "line": {
            "color": "#EF553B",
            "dash": "solid"
           },
           "marker": {
            "symbol": "circle"
           },
           "mode": "lines+markers",
           "name": "False, last",
           "orientation": "v",
           "showlegend": false,
           "type": "scatter",
           "x": [
            0
           ],
           "xaxis": "x",
           "y": [
            0
           ],
           "yaxis": "y"
          },
          {
           "hovertemplate": "<b>%{hovertext}</b><br><br>main=False<br>type=last<br>step=10<br>name=4<br>x=%{x}<br>y=%{y}<extra></extra>",
           "hovertext": [
            "Last node of 4 <br> reward: 0 <br> action: [1, 0, 4, 3, 1, 2, 1, 0, 2, 4] <br> in system: 1.0"
           ],
           "legendgroup": "False, last",
           "line": {
            "color": "#EF553B",
            "dash": "solid"
           },
           "marker": {
            "symbol": "circle"
           },
           "mode": "lines+markers",
           "name": "False, last",
           "orientation": "v",
           "showlegend": false,
           "type": "scatter",
           "x": [
            0.32954545454545453
           ],
           "xaxis": "x",
           "y": [
            0.428
           ],
           "yaxis": "y"
          },
          {
           "hovertemplate": "<b>%{hovertext}</b><br><br>main=False<br>type=last<br>step=10<br>name=5<br>x=%{x}<br>y=%{y}<extra></extra>",
           "hovertext": [
            "Last node of 5 <br> reward: 0 <br> action: [1, 0, 4, 3, 1, 2, 1, 0, 2, 4] <br> in system: 0.0"
           ],
           "legendgroup": "False, last",
           "line": {
            "color": "#EF553B",
            "dash": "solid"
           },
           "marker": {
            "symbol": "circle"
           },
           "mode": "lines+markers",
           "name": "False, last",
           "orientation": "v",
           "showlegend": false,
           "type": "scatter",
           "x": [
            0
           ],
           "xaxis": "x",
           "y": [
            0
           ],
           "yaxis": "y"
          },
          {
           "hovertemplate": "<b>%{hovertext}</b><br><br>main=False<br>type=last<br>step=10<br>name=6<br>x=%{x}<br>y=%{y}<extra></extra>",
           "hovertext": [
            "Last node of 6 <br> reward: 0 <br> action: [1, 0, 4, 3, 1, 2, 1, 0, 2, 4] <br> in system: 1.0"
           ],
           "legendgroup": "False, last",
           "line": {
            "color": "#EF553B",
            "dash": "solid"
           },
           "marker": {
            "symbol": "circle"
           },
           "mode": "lines+markers",
           "name": "False, last",
           "orientation": "v",
           "showlegend": false,
           "type": "scatter",
           "x": [
            0.9431818181818182
           ],
           "xaxis": "x",
           "y": [
            0.86
           ],
           "yaxis": "y"
          },
          {
           "hovertemplate": "<b>%{hovertext}</b><br><br>main=False<br>type=last<br>step=10<br>name=7<br>x=%{x}<br>y=%{y}<extra></extra>",
           "hovertext": [
            "Last node of 7 <br> reward: 0 <br> action: [1, 0, 4, 3, 1, 2, 1, 0, 2, 4] <br> in system: 0.0"
           ],
           "legendgroup": "False, last",
           "line": {
            "color": "#EF553B",
            "dash": "solid"
           },
           "marker": {
            "symbol": "circle"
           },
           "mode": "lines+markers",
           "name": "False, last",
           "orientation": "v",
           "showlegend": false,
           "type": "scatter",
           "x": [
            0
           ],
           "xaxis": "x",
           "y": [
            0
           ],
           "yaxis": "y"
          },
          {
           "hovertemplate": "<b>%{hovertext}</b><br><br>main=False<br>type=last<br>step=10<br>name=8<br>x=%{x}<br>y=%{y}<extra></extra>",
           "hovertext": [
            "Last node of 8 <br> reward: 0 <br> action: [1, 0, 4, 3, 1, 2, 1, 0, 2, 4] <br> in system: 1.0"
           ],
           "legendgroup": "False, last",
           "line": {
            "color": "#EF553B",
            "dash": "solid"
           },
           "marker": {
            "symbol": "circle"
           },
           "mode": "lines+markers",
           "name": "False, last",
           "orientation": "v",
           "showlegend": false,
           "type": "scatter",
           "x": [
            0.42045454545454547
           ],
           "xaxis": "x",
           "y": [
            0.38
           ],
           "yaxis": "y"
          },
          {
           "hovertemplate": "<b>%{hovertext}</b><br><br>main=False<br>type=last<br>step=10<br>name=9<br>x=%{x}<br>y=%{y}<extra></extra>",
           "hovertext": [
            "Last node of 9 <br> reward: 0 <br> action: [1, 0, 4, 3, 1, 2, 1, 0, 2, 4] <br> in system: 1.0"
           ],
           "legendgroup": "False, last",
           "line": {
            "color": "#EF553B",
            "dash": "solid"
           },
           "marker": {
            "symbol": "circle"
           },
           "mode": "lines+markers",
           "name": "False, last",
           "orientation": "v",
           "showlegend": false,
           "type": "scatter",
           "x": [
            0.42045454545454547
           ],
           "xaxis": "x",
           "y": [
            0.48
           ],
           "yaxis": "y"
          },
          {
           "hovertemplate": "<b>%{hovertext}</b><br><br>main=False<br>type=next<br>step=10<br>name=1<br>x=%{x}<br>y=%{y}<extra></extra>",
           "hovertext": [
            "Next node of 1 <br> reward: 0 <br> action: [1, 0, 4, 3, 1, 2, 1, 0, 2, 4] <br> in system: 0.0"
           ],
           "legendgroup": "False, next",
           "line": {
            "color": "#EF553B",
            "dash": "solid"
           },
           "marker": {
            "symbol": "diamond"
           },
           "mode": "lines+markers",
           "name": "False, next",
           "orientation": "v",
           "showlegend": true,
           "type": "scatter",
           "x": [
            0
           ],
           "xaxis": "x",
           "y": [
            0
           ],
           "yaxis": "y"
          },
          {
           "hovertemplate": "<b>%{hovertext}</b><br><br>main=False<br>type=next<br>step=10<br>name=2<br>x=%{x}<br>y=%{y}<extra></extra>",
           "hovertext": [
            "Next node of 2 <br> reward: 0 <br> action: [1, 0, 4, 3, 1, 2, 1, 0, 2, 4] <br> in system: 1.0"
           ],
           "legendgroup": "False, next",
           "line": {
            "color": "#EF553B",
            "dash": "solid"
           },
           "marker": {
            "symbol": "diamond"
           },
           "mode": "lines+markers",
           "name": "False, next",
           "orientation": "v",
           "showlegend": false,
           "type": "scatter",
           "x": [
            0.7613636363636364
           ],
           "xaxis": "x",
           "y": [
            0.86
           ],
           "yaxis": "y"
          },
          {
           "hovertemplate": "<b>%{hovertext}</b><br><br>main=False<br>type=next<br>step=10<br>name=3<br>x=%{x}<br>y=%{y}<extra></extra>",
           "hovertext": [
            "Next node of 3 <br> reward: 0 <br> action: [1, 0, 4, 3, 1, 2, 1, 0, 2, 4] <br> in system: 0.0"
           ],
           "legendgroup": "False, next",
           "line": {
            "color": "#EF553B",
            "dash": "solid"
           },
           "marker": {
            "symbol": "diamond"
           },
           "mode": "lines+markers",
           "name": "False, next",
           "orientation": "v",
           "showlegend": false,
           "type": "scatter",
           "x": [
            0
           ],
           "xaxis": "x",
           "y": [
            0
           ],
           "yaxis": "y"
          },
          {
           "hovertemplate": "<b>%{hovertext}</b><br><br>main=False<br>type=next<br>step=10<br>name=4<br>x=%{x}<br>y=%{y}<extra></extra>",
           "hovertext": [
            "Next node of 4 <br> reward: 0 <br> action: [1, 0, 4, 3, 1, 2, 1, 0, 2, 4] <br> in system: 1.0"
           ],
           "legendgroup": "False, next",
           "line": {
            "color": "#EF553B",
            "dash": "solid"
           },
           "marker": {
            "symbol": "diamond"
           },
           "mode": "lines+markers",
           "name": "False, next",
           "orientation": "v",
           "showlegend": false,
           "type": "scatter",
           "x": [
            0.32954545454545453
           ],
           "xaxis": "x",
           "y": [
            0.428
           ],
           "yaxis": "y"
          },
          {
           "hovertemplate": "<b>%{hovertext}</b><br><br>main=False<br>type=next<br>step=10<br>name=5<br>x=%{x}<br>y=%{y}<extra></extra>",
           "hovertext": [
            "Next node of 5 <br> reward: 0 <br> action: [1, 0, 4, 3, 1, 2, 1, 0, 2, 4] <br> in system: 0.0"
           ],
           "legendgroup": "False, next",
           "line": {
            "color": "#EF553B",
            "dash": "solid"
           },
           "marker": {
            "symbol": "diamond"
           },
           "mode": "lines+markers",
           "name": "False, next",
           "orientation": "v",
           "showlegend": false,
           "type": "scatter",
           "x": [
            0
           ],
           "xaxis": "x",
           "y": [
            0
           ],
           "yaxis": "y"
          },
          {
           "hovertemplate": "<b>%{hovertext}</b><br><br>main=False<br>type=next<br>step=10<br>name=6<br>x=%{x}<br>y=%{y}<extra></extra>",
           "hovertext": [
            "Next node of 6 <br> reward: 0 <br> action: [1, 0, 4, 3, 1, 2, 1, 0, 2, 4] <br> in system: 1.0"
           ],
           "legendgroup": "False, next",
           "line": {
            "color": "#EF553B",
            "dash": "solid"
           },
           "marker": {
            "symbol": "diamond"
           },
           "mode": "lines+markers",
           "name": "False, next",
           "orientation": "v",
           "showlegend": false,
           "type": "scatter",
           "x": [
            1
           ],
           "xaxis": "x",
           "y": [
            0.86
           ],
           "yaxis": "y"
          },
          {
           "hovertemplate": "<b>%{hovertext}</b><br><br>main=False<br>type=next<br>step=10<br>name=7<br>x=%{x}<br>y=%{y}<extra></extra>",
           "hovertext": [
            "Next node of 7 <br> reward: 0 <br> action: [1, 0, 4, 3, 1, 2, 1, 0, 2, 4] <br> in system: 0.0"
           ],
           "legendgroup": "False, next",
           "line": {
            "color": "#EF553B",
            "dash": "solid"
           },
           "marker": {
            "symbol": "diamond"
           },
           "mode": "lines+markers",
           "name": "False, next",
           "orientation": "v",
           "showlegend": false,
           "type": "scatter",
           "x": [
            0
           ],
           "xaxis": "x",
           "y": [
            0
           ],
           "yaxis": "y"
          },
          {
           "hovertemplate": "<b>%{hovertext}</b><br><br>main=False<br>type=next<br>step=10<br>name=8<br>x=%{x}<br>y=%{y}<extra></extra>",
           "hovertext": [
            "Next node of 8 <br> reward: 0 <br> action: [1, 0, 4, 3, 1, 2, 1, 0, 2, 4] <br> in system: 1.0"
           ],
           "legendgroup": "False, next",
           "line": {
            "color": "#EF553B",
            "dash": "solid"
           },
           "marker": {
            "symbol": "diamond"
           },
           "mode": "lines+markers",
           "name": "False, next",
           "orientation": "v",
           "showlegend": false,
           "type": "scatter",
           "x": [
            0.32954545454545453
           ],
           "xaxis": "x",
           "y": [
            0.428
           ],
           "yaxis": "y"
          },
          {
           "hovertemplate": "<b>%{hovertext}</b><br><br>main=False<br>type=next<br>step=10<br>name=9<br>x=%{x}<br>y=%{y}<extra></extra>",
           "hovertext": [
            "Next node of 9 <br> reward: 0 <br> action: [1, 0, 4, 3, 1, 2, 1, 0, 2, 4] <br> in system: 1.0"
           ],
           "legendgroup": "False, next",
           "line": {
            "color": "#EF553B",
            "dash": "solid"
           },
           "marker": {
            "symbol": "diamond"
           },
           "mode": "lines+markers",
           "name": "False, next",
           "orientation": "v",
           "showlegend": false,
           "type": "scatter",
           "x": [
            0.42045454545454547
           ],
           "xaxis": "x",
           "y": [
            0.38
           ],
           "yaxis": "y"
          }
         ],
         "name": "10"
        },
        {
         "data": [
          {
           "hovertemplate": "<b>%{hovertext}</b><br><br>main=True<br>type=last<br>step=11<br>name=0<br>x=%{x}<br>y=%{y}<extra></extra>",
           "hovertext": [
            "Last node of 0 <br> reward: 0 <br> action: [0, 1, 2, 0, 2, 2, 1, 3, 0, 4] <br> in system: 1.0"
           ],
           "legendgroup": "True, last",
           "line": {
            "color": "#636efa",
            "dash": "solid"
           },
           "marker": {
            "symbol": "circle"
           },
           "mode": "lines+markers",
           "name": "True, last",
           "orientation": "v",
           "showlegend": true,
           "type": "scatter",
           "x": [
            1
           ],
           "xaxis": "x",
           "y": [
            0.76
           ],
           "yaxis": "y"
          },
          {
           "hovertemplate": "<b>%{hovertext}</b><br><br>main=True<br>type=next<br>step=11<br>name=0<br>x=%{x}<br>y=%{y}<extra></extra>",
           "hovertext": [
            "Next node of 0 <br> reward: 0 <br> action: [0, 1, 2, 0, 2, 2, 1, 3, 0, 4] <br> in system: 1.0"
           ],
           "legendgroup": "True, next",
           "line": {
            "color": "#636efa",
            "dash": "solid"
           },
           "marker": {
            "symbol": "diamond"
           },
           "mode": "lines+markers",
           "name": "True, next",
           "orientation": "v",
           "showlegend": true,
           "type": "scatter",
           "x": [
            0.9431818181818182
           ],
           "xaxis": "x",
           "y": [
            0.76
           ],
           "yaxis": "y"
          },
          {
           "hovertemplate": "<b>%{hovertext}</b><br><br>main=False<br>type=last<br>step=11<br>name=1<br>x=%{x}<br>y=%{y}<extra></extra>",
           "hovertext": [
            "Last node of 1 <br> reward: 0 <br> action: [0, 1, 2, 0, 2, 2, 1, 3, 0, 4] <br> in system: 1.0"
           ],
           "legendgroup": "False, last",
           "line": {
            "color": "#EF553B",
            "dash": "solid"
           },
           "marker": {
            "symbol": "circle"
           },
           "mode": "lines+markers",
           "name": "False, last",
           "orientation": "v",
           "showlegend": true,
           "type": "scatter",
           "x": [
            0.42045454545454547
           ],
           "xaxis": "x",
           "y": [
            0.38
           ],
           "yaxis": "y"
          },
          {
           "hovertemplate": "<b>%{hovertext}</b><br><br>main=False<br>type=last<br>step=11<br>name=2<br>x=%{x}<br>y=%{y}<extra></extra>",
           "hovertext": [
            "Last node of 2 <br> reward: 0 <br> action: [0, 1, 2, 0, 2, 2, 1, 3, 0, 4] <br> in system: 1.0"
           ],
           "legendgroup": "False, last",
           "line": {
            "color": "#EF553B",
            "dash": "solid"
           },
           "marker": {
            "symbol": "circle"
           },
           "mode": "lines+markers",
           "name": "False, last",
           "orientation": "v",
           "showlegend": false,
           "type": "scatter",
           "x": [
            0.9431818181818182
           ],
           "xaxis": "x",
           "y": [
            0.86
           ],
           "yaxis": "y"
          },
          {
           "hovertemplate": "<b>%{hovertext}</b><br><br>main=False<br>type=last<br>step=11<br>name=3<br>x=%{x}<br>y=%{y}<extra></extra>",
           "hovertext": [
            "Last node of 3 <br> reward: 0 <br> action: [0, 1, 2, 0, 2, 2, 1, 3, 0, 4] <br> in system: 1.0"
           ],
           "legendgroup": "False, last",
           "line": {
            "color": "#EF553B",
            "dash": "solid"
           },
           "marker": {
            "symbol": "circle"
           },
           "mode": "lines+markers",
           "name": "False, last",
           "orientation": "v",
           "showlegend": false,
           "type": "scatter",
           "x": [
            0.42045454545454547
           ],
           "xaxis": "x",
           "y": [
            0.38
           ],
           "yaxis": "y"
          },
          {
           "hovertemplate": "<b>%{hovertext}</b><br><br>main=False<br>type=last<br>step=11<br>name=4<br>x=%{x}<br>y=%{y}<extra></extra>",
           "hovertext": [
            "Last node of 4 <br> reward: 0 <br> action: [0, 1, 2, 0, 2, 2, 1, 3, 0, 4] <br> in system: 0.0"
           ],
           "legendgroup": "False, last",
           "line": {
            "color": "#EF553B",
            "dash": "solid"
           },
           "marker": {
            "symbol": "circle"
           },
           "mode": "lines+markers",
           "name": "False, last",
           "orientation": "v",
           "showlegend": false,
           "type": "scatter",
           "x": [
            0
           ],
           "xaxis": "x",
           "y": [
            0
           ],
           "yaxis": "y"
          },
          {
           "hovertemplate": "<b>%{hovertext}</b><br><br>main=False<br>type=last<br>step=11<br>name=5<br>x=%{x}<br>y=%{y}<extra></extra>",
           "hovertext": [
            "Last node of 5 <br> reward: 0 <br> action: [0, 1, 2, 0, 2, 2, 1, 3, 0, 4] <br> in system: 0.0"
           ],
           "legendgroup": "False, last",
           "line": {
            "color": "#EF553B",
            "dash": "solid"
           },
           "marker": {
            "symbol": "circle"
           },
           "mode": "lines+markers",
           "name": "False, last",
           "orientation": "v",
           "showlegend": false,
           "type": "scatter",
           "x": [
            0
           ],
           "xaxis": "x",
           "y": [
            0
           ],
           "yaxis": "y"
          },
          {
           "hovertemplate": "<b>%{hovertext}</b><br><br>main=False<br>type=last<br>step=11<br>name=6<br>x=%{x}<br>y=%{y}<extra></extra>",
           "hovertext": [
            "Last node of 6 <br> reward: 0 <br> action: [0, 1, 2, 0, 2, 2, 1, 3, 0, 4] <br> in system: 1.0"
           ],
           "legendgroup": "False, last",
           "line": {
            "color": "#EF553B",
            "dash": "solid"
           },
           "marker": {
            "symbol": "circle"
           },
           "mode": "lines+markers",
           "name": "False, last",
           "orientation": "v",
           "showlegend": false,
           "type": "scatter",
           "x": [
            0.7613636363636364
           ],
           "xaxis": "x",
           "y": [
            0.76
           ],
           "yaxis": "y"
          },
          {
           "hovertemplate": "<b>%{hovertext}</b><br><br>main=False<br>type=last<br>step=11<br>name=7<br>x=%{x}<br>y=%{y}<extra></extra>",
           "hovertext": [
            "Last node of 7 <br> reward: 0 <br> action: [0, 1, 2, 0, 2, 2, 1, 3, 0, 4] <br> in system: 0.0"
           ],
           "legendgroup": "False, last",
           "line": {
            "color": "#EF553B",
            "dash": "solid"
           },
           "marker": {
            "symbol": "circle"
           },
           "mode": "lines+markers",
           "name": "False, last",
           "orientation": "v",
           "showlegend": false,
           "type": "scatter",
           "x": [
            0
           ],
           "xaxis": "x",
           "y": [
            0
           ],
           "yaxis": "y"
          },
          {
           "hovertemplate": "<b>%{hovertext}</b><br><br>main=False<br>type=last<br>step=11<br>name=8<br>x=%{x}<br>y=%{y}<extra></extra>",
           "hovertext": [
            "Last node of 8 <br> reward: 0 <br> action: [0, 1, 2, 0, 2, 2, 1, 3, 0, 4] <br> in system: 0.0"
           ],
           "legendgroup": "False, last",
           "line": {
            "color": "#EF553B",
            "dash": "solid"
           },
           "marker": {
            "symbol": "circle"
           },
           "mode": "lines+markers",
           "name": "False, last",
           "orientation": "v",
           "showlegend": false,
           "type": "scatter",
           "x": [
            0
           ],
           "xaxis": "x",
           "y": [
            0
           ],
           "yaxis": "y"
          },
          {
           "hovertemplate": "<b>%{hovertext}</b><br><br>main=False<br>type=last<br>step=11<br>name=9<br>x=%{x}<br>y=%{y}<extra></extra>",
           "hovertext": [
            "Last node of 9 <br> reward: 0 <br> action: [0, 1, 2, 0, 2, 2, 1, 3, 0, 4] <br> in system: 1.0"
           ],
           "legendgroup": "False, last",
           "line": {
            "color": "#EF553B",
            "dash": "solid"
           },
           "marker": {
            "symbol": "circle"
           },
           "mode": "lines+markers",
           "name": "False, last",
           "orientation": "v",
           "showlegend": false,
           "type": "scatter",
           "x": [
            0.32954545454545453
           ],
           "xaxis": "x",
           "y": [
            0.428
           ],
           "yaxis": "y"
          },
          {
           "hovertemplate": "<b>%{hovertext}</b><br><br>main=False<br>type=next<br>step=11<br>name=1<br>x=%{x}<br>y=%{y}<extra></extra>",
           "hovertext": [
            "Next node of 1 <br> reward: 0 <br> action: [0, 1, 2, 0, 2, 2, 1, 3, 0, 4] <br> in system: 1.0"
           ],
           "legendgroup": "False, next",
           "line": {
            "color": "#EF553B",
            "dash": "solid"
           },
           "marker": {
            "symbol": "diamond"
           },
           "mode": "lines+markers",
           "name": "False, next",
           "orientation": "v",
           "showlegend": true,
           "type": "scatter",
           "x": [
            0.32954545454545453
           ],
           "xaxis": "x",
           "y": [
            0.428
           ],
           "yaxis": "y"
          },
          {
           "hovertemplate": "<b>%{hovertext}</b><br><br>main=False<br>type=next<br>step=11<br>name=2<br>x=%{x}<br>y=%{y}<extra></extra>",
           "hovertext": [
            "Next node of 2 <br> reward: 0 <br> action: [0, 1, 2, 0, 2, 2, 1, 3, 0, 4] <br> in system: 1.0"
           ],
           "legendgroup": "False, next",
           "line": {
            "color": "#EF553B",
            "dash": "solid"
           },
           "marker": {
            "symbol": "diamond"
           },
           "mode": "lines+markers",
           "name": "False, next",
           "orientation": "v",
           "showlegend": false,
           "type": "scatter",
           "x": [
            1
           ],
           "xaxis": "x",
           "y": [
            0.86
           ],
           "yaxis": "y"
          },
          {
           "hovertemplate": "<b>%{hovertext}</b><br><br>main=False<br>type=next<br>step=11<br>name=3<br>x=%{x}<br>y=%{y}<extra></extra>",
           "hovertext": [
            "Next node of 3 <br> reward: 0 <br> action: [0, 1, 2, 0, 2, 2, 1, 3, 0, 4] <br> in system: 1.0"
           ],
           "legendgroup": "False, next",
           "line": {
            "color": "#EF553B",
            "dash": "solid"
           },
           "marker": {
            "symbol": "diamond"
           },
           "mode": "lines+markers",
           "name": "False, next",
           "orientation": "v",
           "showlegend": false,
           "type": "scatter",
           "x": [
            0.4772727272727273
           ],
           "xaxis": "x",
           "y": [
            0.38
           ],
           "yaxis": "y"
          },
          {
           "hovertemplate": "<b>%{hovertext}</b><br><br>main=False<br>type=next<br>step=11<br>name=4<br>x=%{x}<br>y=%{y}<extra></extra>",
           "hovertext": [
            "Next node of 4 <br> reward: 0 <br> action: [0, 1, 2, 0, 2, 2, 1, 3, 0, 4] <br> in system: 0.0"
           ],
           "legendgroup": "False, next",
           "line": {
            "color": "#EF553B",
            "dash": "solid"
           },
           "marker": {
            "symbol": "diamond"
           },
           "mode": "lines+markers",
           "name": "False, next",
           "orientation": "v",
           "showlegend": false,
           "type": "scatter",
           "x": [
            0
           ],
           "xaxis": "x",
           "y": [
            0
           ],
           "yaxis": "y"
          },
          {
           "hovertemplate": "<b>%{hovertext}</b><br><br>main=False<br>type=next<br>step=11<br>name=5<br>x=%{x}<br>y=%{y}<extra></extra>",
           "hovertext": [
            "Next node of 5 <br> reward: 0 <br> action: [0, 1, 2, 0, 2, 2, 1, 3, 0, 4] <br> in system: 0.0"
           ],
           "legendgroup": "False, next",
           "line": {
            "color": "#EF553B",
            "dash": "solid"
           },
           "marker": {
            "symbol": "diamond"
           },
           "mode": "lines+markers",
           "name": "False, next",
           "orientation": "v",
           "showlegend": false,
           "type": "scatter",
           "x": [
            0
           ],
           "xaxis": "x",
           "y": [
            0
           ],
           "yaxis": "y"
          },
          {
           "hovertemplate": "<b>%{hovertext}</b><br><br>main=False<br>type=next<br>step=11<br>name=6<br>x=%{x}<br>y=%{y}<extra></extra>",
           "hovertext": [
            "Next node of 6 <br> reward: 0 <br> action: [0, 1, 2, 0, 2, 2, 1, 3, 0, 4] <br> in system: 1.0"
           ],
           "legendgroup": "False, next",
           "line": {
            "color": "#EF553B",
            "dash": "solid"
           },
           "marker": {
            "symbol": "diamond"
           },
           "mode": "lines+markers",
           "name": "False, next",
           "orientation": "v",
           "showlegend": false,
           "type": "scatter",
           "x": [
            0.7613636363636364
           ],
           "xaxis": "x",
           "y": [
            0.86
           ],
           "yaxis": "y"
          },
          {
           "hovertemplate": "<b>%{hovertext}</b><br><br>main=False<br>type=next<br>step=11<br>name=7<br>x=%{x}<br>y=%{y}<extra></extra>",
           "hovertext": [
            "Next node of 7 <br> reward: 0 <br> action: [0, 1, 2, 0, 2, 2, 1, 3, 0, 4] <br> in system: 0.0"
           ],
           "legendgroup": "False, next",
           "line": {
            "color": "#EF553B",
            "dash": "solid"
           },
           "marker": {
            "symbol": "diamond"
           },
           "mode": "lines+markers",
           "name": "False, next",
           "orientation": "v",
           "showlegend": false,
           "type": "scatter",
           "x": [
            0
           ],
           "xaxis": "x",
           "y": [
            0
           ],
           "yaxis": "y"
          },
          {
           "hovertemplate": "<b>%{hovertext}</b><br><br>main=False<br>type=next<br>step=11<br>name=8<br>x=%{x}<br>y=%{y}<extra></extra>",
           "hovertext": [
            "Next node of 8 <br> reward: 0 <br> action: [0, 1, 2, 0, 2, 2, 1, 3, 0, 4] <br> in system: 0.0"
           ],
           "legendgroup": "False, next",
           "line": {
            "color": "#EF553B",
            "dash": "solid"
           },
           "marker": {
            "symbol": "diamond"
           },
           "mode": "lines+markers",
           "name": "False, next",
           "orientation": "v",
           "showlegend": false,
           "type": "scatter",
           "x": [
            0
           ],
           "xaxis": "x",
           "y": [
            0
           ],
           "yaxis": "y"
          },
          {
           "hovertemplate": "<b>%{hovertext}</b><br><br>main=False<br>type=next<br>step=11<br>name=9<br>x=%{x}<br>y=%{y}<extra></extra>",
           "hovertext": [
            "Next node of 9 <br> reward: 0 <br> action: [0, 1, 2, 0, 2, 2, 1, 3, 0, 4] <br> in system: 1.0"
           ],
           "legendgroup": "False, next",
           "line": {
            "color": "#EF553B",
            "dash": "solid"
           },
           "marker": {
            "symbol": "diamond"
           },
           "mode": "lines+markers",
           "name": "False, next",
           "orientation": "v",
           "showlegend": false,
           "type": "scatter",
           "x": [
            0.32954545454545453
           ],
           "xaxis": "x",
           "y": [
            0.428
           ],
           "yaxis": "y"
          }
         ],
         "name": "11"
        },
        {
         "data": [
          {
           "hovertemplate": "<b>%{hovertext}</b><br><br>main=True<br>type=last<br>step=12<br>name=0<br>x=%{x}<br>y=%{y}<extra></extra>",
           "hovertext": [
            "Last node of 0 <br> reward: 1.0 <br> action: [1, 0, 3, 4, 2, 3, 4, 0, 4, 5] <br> in system: 1.0"
           ],
           "legendgroup": "True, last",
           "line": {
            "color": "#636efa",
            "dash": "solid"
           },
           "marker": {
            "symbol": "circle"
           },
           "mode": "lines+markers",
           "name": "True, last",
           "orientation": "v",
           "showlegend": true,
           "type": "scatter",
           "x": [
            1
           ],
           "xaxis": "x",
           "y": [
            0.76
           ],
           "yaxis": "y"
          },
          {
           "hovertemplate": "<b>%{hovertext}</b><br><br>main=True<br>type=next<br>step=12<br>name=0<br>x=%{x}<br>y=%{y}<extra></extra>",
           "hovertext": [
            "Next node of 0 <br> reward: 1.0 <br> action: [1, 0, 3, 4, 2, 3, 4, 0, 4, 5] <br> in system: 1.0"
           ],
           "legendgroup": "True, next",
           "line": {
            "color": "#636efa",
            "dash": "solid"
           },
           "marker": {
            "symbol": "diamond"
           },
           "mode": "lines+markers",
           "name": "True, next",
           "orientation": "v",
           "showlegend": true,
           "type": "scatter",
           "x": [
            0.9431818181818182
           ],
           "xaxis": "x",
           "y": [
            0.76
           ],
           "yaxis": "y"
          },
          {
           "hovertemplate": "<b>%{hovertext}</b><br><br>main=False<br>type=last<br>step=12<br>name=1<br>x=%{x}<br>y=%{y}<extra></extra>",
           "hovertext": [
            "Last node of 1 <br> reward: 1.0 <br> action: [1, 0, 3, 4, 2, 3, 4, 0, 4, 5] <br> in system: 1.0"
           ],
           "legendgroup": "False, last",
           "line": {
            "color": "#EF553B",
            "dash": "solid"
           },
           "marker": {
            "symbol": "circle"
           },
           "mode": "lines+markers",
           "name": "False, last",
           "orientation": "v",
           "showlegend": true,
           "type": "scatter",
           "x": [
            0.32954545454545453
           ],
           "xaxis": "x",
           "y": [
            0.428
           ],
           "yaxis": "y"
          },
          {
           "hovertemplate": "<b>%{hovertext}</b><br><br>main=False<br>type=last<br>step=12<br>name=2<br>x=%{x}<br>y=%{y}<extra></extra>",
           "hovertext": [
            "Last node of 2 <br> reward: 1.0 <br> action: [1, 0, 3, 4, 2, 3, 4, 0, 4, 5] <br> in system: 0.0"
           ],
           "legendgroup": "False, last",
           "line": {
            "color": "#EF553B",
            "dash": "solid"
           },
           "marker": {
            "symbol": "circle"
           },
           "mode": "lines+markers",
           "name": "False, last",
           "orientation": "v",
           "showlegend": false,
           "type": "scatter",
           "x": [
            0
           ],
           "xaxis": "x",
           "y": [
            0
           ],
           "yaxis": "y"
          },
          {
           "hovertemplate": "<b>%{hovertext}</b><br><br>main=False<br>type=last<br>step=12<br>name=3<br>x=%{x}<br>y=%{y}<extra></extra>",
           "hovertext": [
            "Last node of 3 <br> reward: 1.0 <br> action: [1, 0, 3, 4, 2, 3, 4, 0, 4, 5] <br> in system: 0.0"
           ],
           "legendgroup": "False, last",
           "line": {
            "color": "#EF553B",
            "dash": "solid"
           },
           "marker": {
            "symbol": "circle"
           },
           "mode": "lines+markers",
           "name": "False, last",
           "orientation": "v",
           "showlegend": false,
           "type": "scatter",
           "x": [
            0
           ],
           "xaxis": "x",
           "y": [
            0
           ],
           "yaxis": "y"
          },
          {
           "hovertemplate": "<b>%{hovertext}</b><br><br>main=False<br>type=last<br>step=12<br>name=4<br>x=%{x}<br>y=%{y}<extra></extra>",
           "hovertext": [
            "Last node of 4 <br> reward: 1.0 <br> action: [1, 0, 3, 4, 2, 3, 4, 0, 4, 5] <br> in system: 1.0"
           ],
           "legendgroup": "False, last",
           "line": {
            "color": "#EF553B",
            "dash": "solid"
           },
           "marker": {
            "symbol": "circle"
           },
           "mode": "lines+markers",
           "name": "False, last",
           "orientation": "v",
           "showlegend": false,
           "type": "scatter",
           "x": [
            0.7613636363636364
           ],
           "xaxis": "x",
           "y": [
            0.86
           ],
           "yaxis": "y"
          },
          {
           "hovertemplate": "<b>%{hovertext}</b><br><br>main=False<br>type=last<br>step=12<br>name=5<br>x=%{x}<br>y=%{y}<extra></extra>",
           "hovertext": [
            "Last node of 5 <br> reward: 1.0 <br> action: [1, 0, 3, 4, 2, 3, 4, 0, 4, 5] <br> in system: 1.0"
           ],
           "legendgroup": "False, last",
           "line": {
            "color": "#EF553B",
            "dash": "solid"
           },
           "marker": {
            "symbol": "circle"
           },
           "mode": "lines+markers",
           "name": "False, last",
           "orientation": "v",
           "showlegend": false,
           "type": "scatter",
           "x": [
            0.42045454545454547
           ],
           "xaxis": "x",
           "y": [
            0.38
           ],
           "yaxis": "y"
          },
          {
           "hovertemplate": "<b>%{hovertext}</b><br><br>main=False<br>type=last<br>step=12<br>name=6<br>x=%{x}<br>y=%{y}<extra></extra>",
           "hovertext": [
            "Last node of 6 <br> reward: 1.0 <br> action: [1, 0, 3, 4, 2, 3, 4, 0, 4, 5] <br> in system: 1.0"
           ],
           "legendgroup": "False, last",
           "line": {
            "color": "#EF553B",
            "dash": "solid"
           },
           "marker": {
            "symbol": "circle"
           },
           "mode": "lines+markers",
           "name": "False, last",
           "orientation": "v",
           "showlegend": false,
           "type": "scatter",
           "x": [
            0.42045454545454547
           ],
           "xaxis": "x",
           "y": [
            0.38
           ],
           "yaxis": "y"
          },
          {
           "hovertemplate": "<b>%{hovertext}</b><br><br>main=False<br>type=last<br>step=12<br>name=7<br>x=%{x}<br>y=%{y}<extra></extra>",
           "hovertext": [
            "Last node of 7 <br> reward: 1.0 <br> action: [1, 0, 3, 4, 2, 3, 4, 0, 4, 5] <br> in system: 0.0"
           ],
           "legendgroup": "False, last",
           "line": {
            "color": "#EF553B",
            "dash": "solid"
           },
           "marker": {
            "symbol": "circle"
           },
           "mode": "lines+markers",
           "name": "False, last",
           "orientation": "v",
           "showlegend": false,
           "type": "scatter",
           "x": [
            0
           ],
           "xaxis": "x",
           "y": [
            0
           ],
           "yaxis": "y"
          },
          {
           "hovertemplate": "<b>%{hovertext}</b><br><br>main=False<br>type=last<br>step=12<br>name=8<br>x=%{x}<br>y=%{y}<extra></extra>",
           "hovertext": [
            "Last node of 8 <br> reward: 1.0 <br> action: [1, 0, 3, 4, 2, 3, 4, 0, 4, 5] <br> in system: 1.0"
           ],
           "legendgroup": "False, last",
           "line": {
            "color": "#EF553B",
            "dash": "solid"
           },
           "marker": {
            "symbol": "circle"
           },
           "mode": "lines+markers",
           "name": "False, last",
           "orientation": "v",
           "showlegend": false,
           "type": "scatter",
           "x": [
            0.9431818181818182
           ],
           "xaxis": "x",
           "y": [
            0.86
           ],
           "yaxis": "y"
          },
          {
           "hovertemplate": "<b>%{hovertext}</b><br><br>main=False<br>type=last<br>step=12<br>name=9<br>x=%{x}<br>y=%{y}<extra></extra>",
           "hovertext": [
            "Last node of 9 <br> reward: 1.0 <br> action: [1, 0, 3, 4, 2, 3, 4, 0, 4, 5] <br> in system: 0.0"
           ],
           "legendgroup": "False, last",
           "line": {
            "color": "#EF553B",
            "dash": "solid"
           },
           "marker": {
            "symbol": "circle"
           },
           "mode": "lines+markers",
           "name": "False, last",
           "orientation": "v",
           "showlegend": false,
           "type": "scatter",
           "x": [
            0
           ],
           "xaxis": "x",
           "y": [
            0
           ],
           "yaxis": "y"
          },
          {
           "hovertemplate": "<b>%{hovertext}</b><br><br>main=False<br>type=next<br>step=12<br>name=1<br>x=%{x}<br>y=%{y}<extra></extra>",
           "hovertext": [
            "Next node of 1 <br> reward: 1.0 <br> action: [1, 0, 3, 4, 2, 3, 4, 0, 4, 5] <br> in system: 1.0"
           ],
           "legendgroup": "False, next",
           "line": {
            "color": "#EF553B",
            "dash": "solid"
           },
           "marker": {
            "symbol": "diamond"
           },
           "mode": "lines+markers",
           "name": "False, next",
           "orientation": "v",
           "showlegend": true,
           "type": "scatter",
           "x": [
            0.32954545454545453
           ],
           "xaxis": "x",
           "y": [
            0.428
           ],
           "yaxis": "y"
          },
          {
           "hovertemplate": "<b>%{hovertext}</b><br><br>main=False<br>type=next<br>step=12<br>name=2<br>x=%{x}<br>y=%{y}<extra></extra>",
           "hovertext": [
            "Next node of 2 <br> reward: 1.0 <br> action: [1, 0, 3, 4, 2, 3, 4, 0, 4, 5] <br> in system: 0.0"
           ],
           "legendgroup": "False, next",
           "line": {
            "color": "#EF553B",
            "dash": "solid"
           },
           "marker": {
            "symbol": "diamond"
           },
           "mode": "lines+markers",
           "name": "False, next",
           "orientation": "v",
           "showlegend": false,
           "type": "scatter",
           "x": [
            0
           ],
           "xaxis": "x",
           "y": [
            0
           ],
           "yaxis": "y"
          },
          {
           "hovertemplate": "<b>%{hovertext}</b><br><br>main=False<br>type=next<br>step=12<br>name=3<br>x=%{x}<br>y=%{y}<extra></extra>",
           "hovertext": [
            "Next node of 3 <br> reward: 1.0 <br> action: [1, 0, 3, 4, 2, 3, 4, 0, 4, 5] <br> in system: 0.0"
           ],
           "legendgroup": "False, next",
           "line": {
            "color": "#EF553B",
            "dash": "solid"
           },
           "marker": {
            "symbol": "diamond"
           },
           "mode": "lines+markers",
           "name": "False, next",
           "orientation": "v",
           "showlegend": false,
           "type": "scatter",
           "x": [
            0
           ],
           "xaxis": "x",
           "y": [
            0
           ],
           "yaxis": "y"
          },
          {
           "hovertemplate": "<b>%{hovertext}</b><br><br>main=False<br>type=next<br>step=12<br>name=4<br>x=%{x}<br>y=%{y}<extra></extra>",
           "hovertext": [
            "Next node of 4 <br> reward: 1.0 <br> action: [1, 0, 3, 4, 2, 3, 4, 0, 4, 5] <br> in system: 1.0"
           ],
           "legendgroup": "False, next",
           "line": {
            "color": "#EF553B",
            "dash": "solid"
           },
           "marker": {
            "symbol": "diamond"
           },
           "mode": "lines+markers",
           "name": "False, next",
           "orientation": "v",
           "showlegend": false,
           "type": "scatter",
           "x": [
            0.6022727272727273
           ],
           "xaxis": "x",
           "y": [
            0.86
           ],
           "yaxis": "y"
          },
          {
           "hovertemplate": "<b>%{hovertext}</b><br><br>main=False<br>type=next<br>step=12<br>name=5<br>x=%{x}<br>y=%{y}<extra></extra>",
           "hovertext": [
            "Next node of 5 <br> reward: 1.0 <br> action: [1, 0, 3, 4, 2, 3, 4, 0, 4, 5] <br> in system: 1.0"
           ],
           "legendgroup": "False, next",
           "line": {
            "color": "#EF553B",
            "dash": "solid"
           },
           "marker": {
            "symbol": "diamond"
           },
           "mode": "lines+markers",
           "name": "False, next",
           "orientation": "v",
           "showlegend": false,
           "type": "scatter",
           "x": [
            0.4772727272727273
           ],
           "xaxis": "x",
           "y": [
            0.38
           ],
           "yaxis": "y"
          },
          {
           "hovertemplate": "<b>%{hovertext}</b><br><br>main=False<br>type=next<br>step=12<br>name=6<br>x=%{x}<br>y=%{y}<extra></extra>",
           "hovertext": [
            "Next node of 6 <br> reward: 1.0 <br> action: [1, 0, 3, 4, 2, 3, 4, 0, 4, 5] <br> in system: 1.0"
           ],
           "legendgroup": "False, next",
           "line": {
            "color": "#EF553B",
            "dash": "solid"
           },
           "marker": {
            "symbol": "diamond"
           },
           "mode": "lines+markers",
           "name": "False, next",
           "orientation": "v",
           "showlegend": false,
           "type": "scatter",
           "x": [
            0.32954545454545453
           ],
           "xaxis": "x",
           "y": [
            0.428
           ],
           "yaxis": "y"
          },
          {
           "hovertemplate": "<b>%{hovertext}</b><br><br>main=False<br>type=next<br>step=12<br>name=7<br>x=%{x}<br>y=%{y}<extra></extra>",
           "hovertext": [
            "Next node of 7 <br> reward: 1.0 <br> action: [1, 0, 3, 4, 2, 3, 4, 0, 4, 5] <br> in system: 0.0"
           ],
           "legendgroup": "False, next",
           "line": {
            "color": "#EF553B",
            "dash": "solid"
           },
           "marker": {
            "symbol": "diamond"
           },
           "mode": "lines+markers",
           "name": "False, next",
           "orientation": "v",
           "showlegend": false,
           "type": "scatter",
           "x": [
            0
           ],
           "xaxis": "x",
           "y": [
            0
           ],
           "yaxis": "y"
          },
          {
           "hovertemplate": "<b>%{hovertext}</b><br><br>main=False<br>type=next<br>step=12<br>name=8<br>x=%{x}<br>y=%{y}<extra></extra>",
           "hovertext": [
            "Next node of 8 <br> reward: 1.0 <br> action: [1, 0, 3, 4, 2, 3, 4, 0, 4, 5] <br> in system: 1.0"
           ],
           "legendgroup": "False, next",
           "line": {
            "color": "#EF553B",
            "dash": "solid"
           },
           "marker": {
            "symbol": "diamond"
           },
           "mode": "lines+markers",
           "name": "False, next",
           "orientation": "v",
           "showlegend": false,
           "type": "scatter",
           "x": [
            1
           ],
           "xaxis": "x",
           "y": [
            0.86
           ],
           "yaxis": "y"
          },
          {
           "hovertemplate": "<b>%{hovertext}</b><br><br>main=False<br>type=next<br>step=12<br>name=9<br>x=%{x}<br>y=%{y}<extra></extra>",
           "hovertext": [
            "Next node of 9 <br> reward: 1.0 <br> action: [1, 0, 3, 4, 2, 3, 4, 0, 4, 5] <br> in system: 0.0"
           ],
           "legendgroup": "False, next",
           "line": {
            "color": "#EF553B",
            "dash": "solid"
           },
           "marker": {
            "symbol": "diamond"
           },
           "mode": "lines+markers",
           "name": "False, next",
           "orientation": "v",
           "showlegend": false,
           "type": "scatter",
           "x": [
            0
           ],
           "xaxis": "x",
           "y": [
            0
           ],
           "yaxis": "y"
          }
         ],
         "name": "12"
        },
        {
         "data": [
          {
           "hovertemplate": "<b>%{hovertext}</b><br><br>main=True<br>type=last<br>step=13<br>name=0<br>x=%{x}<br>y=%{y}<extra></extra>",
           "hovertext": [
            "Last node of 0 <br> reward: 0 <br> action: [3, 4, 4, 3, 1, 2, 4, 4, 0, 0] <br> in system: 1.0"
           ],
           "legendgroup": "True, last",
           "line": {
            "color": "#636efa",
            "dash": "solid"
           },
           "marker": {
            "symbol": "circle"
           },
           "mode": "lines+markers",
           "name": "True, last",
           "orientation": "v",
           "showlegend": true,
           "type": "scatter",
           "x": [
            0.9431818181818182
           ],
           "xaxis": "x",
           "y": [
            0.76
           ],
           "yaxis": "y"
          },
          {
           "hovertemplate": "<b>%{hovertext}</b><br><br>main=True<br>type=next<br>step=13<br>name=0<br>x=%{x}<br>y=%{y}<extra></extra>",
           "hovertext": [
            "Next node of 0 <br> reward: 0 <br> action: [3, 4, 4, 3, 1, 2, 4, 4, 0, 0] <br> in system: 1.0"
           ],
           "legendgroup": "True, next",
           "line": {
            "color": "#636efa",
            "dash": "solid"
           },
           "marker": {
            "symbol": "diamond"
           },
           "mode": "lines+markers",
           "name": "True, next",
           "orientation": "v",
           "showlegend": true,
           "type": "scatter",
           "x": [
            0.8181818181818182
           ],
           "xaxis": "x",
           "y": [
            0.76
           ],
           "yaxis": "y"
          },
          {
           "hovertemplate": "<b>%{hovertext}</b><br><br>main=False<br>type=last<br>step=13<br>name=1<br>x=%{x}<br>y=%{y}<extra></extra>",
           "hovertext": [
            "Last node of 1 <br> reward: 0 <br> action: [3, 4, 4, 3, 1, 2, 4, 4, 0, 0] <br> in system: 0.0"
           ],
           "legendgroup": "False, last",
           "line": {
            "color": "#EF553B",
            "dash": "solid"
           },
           "marker": {
            "symbol": "circle"
           },
           "mode": "lines+markers",
           "name": "False, last",
           "orientation": "v",
           "showlegend": true,
           "type": "scatter",
           "x": [
            0
           ],
           "xaxis": "x",
           "y": [
            0
           ],
           "yaxis": "y"
          },
          {
           "hovertemplate": "<b>%{hovertext}</b><br><br>main=False<br>type=last<br>step=13<br>name=2<br>x=%{x}<br>y=%{y}<extra></extra>",
           "hovertext": [
            "Last node of 2 <br> reward: 0 <br> action: [3, 4, 4, 3, 1, 2, 4, 4, 0, 0] <br> in system: 1.0"
           ],
           "legendgroup": "False, last",
           "line": {
            "color": "#EF553B",
            "dash": "solid"
           },
           "marker": {
            "symbol": "circle"
           },
           "mode": "lines+markers",
           "name": "False, last",
           "orientation": "v",
           "showlegend": false,
           "type": "scatter",
           "x": [
            0.42045454545454547
           ],
           "xaxis": "x",
           "y": [
            0.38
           ],
           "yaxis": "y"
          },
          {
           "hovertemplate": "<b>%{hovertext}</b><br><br>main=False<br>type=last<br>step=13<br>name=3<br>x=%{x}<br>y=%{y}<extra></extra>",
           "hovertext": [
            "Last node of 3 <br> reward: 0 <br> action: [3, 4, 4, 3, 1, 2, 4, 4, 0, 0] <br> in system: 0.0"
           ],
           "legendgroup": "False, last",
           "line": {
            "color": "#EF553B",
            "dash": "solid"
           },
           "marker": {
            "symbol": "circle"
           },
           "mode": "lines+markers",
           "name": "False, last",
           "orientation": "v",
           "showlegend": false,
           "type": "scatter",
           "x": [
            0
           ],
           "xaxis": "x",
           "y": [
            0
           ],
           "yaxis": "y"
          },
          {
           "hovertemplate": "<b>%{hovertext}</b><br><br>main=False<br>type=last<br>step=13<br>name=4<br>x=%{x}<br>y=%{y}<extra></extra>",
           "hovertext": [
            "Last node of 4 <br> reward: 0 <br> action: [3, 4, 4, 3, 1, 2, 4, 4, 0, 0] <br> in system: 1.0"
           ],
           "legendgroup": "False, last",
           "line": {
            "color": "#EF553B",
            "dash": "solid"
           },
           "marker": {
            "symbol": "circle"
           },
           "mode": "lines+markers",
           "name": "False, last",
           "orientation": "v",
           "showlegend": false,
           "type": "scatter",
           "x": [
            0.7613636363636364
           ],
           "xaxis": "x",
           "y": [
            0.86
           ],
           "yaxis": "y"
          },
          {
           "hovertemplate": "<b>%{hovertext}</b><br><br>main=False<br>type=last<br>step=13<br>name=5<br>x=%{x}<br>y=%{y}<extra></extra>",
           "hovertext": [
            "Last node of 5 <br> reward: 0 <br> action: [3, 4, 4, 3, 1, 2, 4, 4, 0, 0] <br> in system: 0.0"
           ],
           "legendgroup": "False, last",
           "line": {
            "color": "#EF553B",
            "dash": "solid"
           },
           "marker": {
            "symbol": "circle"
           },
           "mode": "lines+markers",
           "name": "False, last",
           "orientation": "v",
           "showlegend": false,
           "type": "scatter",
           "x": [
            0
           ],
           "xaxis": "x",
           "y": [
            0
           ],
           "yaxis": "y"
          },
          {
           "hovertemplate": "<b>%{hovertext}</b><br><br>main=False<br>type=last<br>step=13<br>name=6<br>x=%{x}<br>y=%{y}<extra></extra>",
           "hovertext": [
            "Last node of 6 <br> reward: 0 <br> action: [3, 4, 4, 3, 1, 2, 4, 4, 0, 0] <br> in system: 1.0"
           ],
           "legendgroup": "False, last",
           "line": {
            "color": "#EF553B",
            "dash": "solid"
           },
           "marker": {
            "symbol": "circle"
           },
           "mode": "lines+markers",
           "name": "False, last",
           "orientation": "v",
           "showlegend": false,
           "type": "scatter",
           "x": [
            0.9431818181818182
           ],
           "xaxis": "x",
           "y": [
            0.86
           ],
           "yaxis": "y"
          },
          {
           "hovertemplate": "<b>%{hovertext}</b><br><br>main=False<br>type=last<br>step=13<br>name=7<br>x=%{x}<br>y=%{y}<extra></extra>",
           "hovertext": [
            "Last node of 7 <br> reward: 0 <br> action: [3, 4, 4, 3, 1, 2, 4, 4, 0, 0] <br> in system: 1.0"
           ],
           "legendgroup": "False, last",
           "line": {
            "color": "#EF553B",
            "dash": "solid"
           },
           "marker": {
            "symbol": "circle"
           },
           "mode": "lines+markers",
           "name": "False, last",
           "orientation": "v",
           "showlegend": false,
           "type": "scatter",
           "x": [
            0.42045454545454547
           ],
           "xaxis": "x",
           "y": [
            0.38
           ],
           "yaxis": "y"
          },
          {
           "hovertemplate": "<b>%{hovertext}</b><br><br>main=False<br>type=last<br>step=13<br>name=8<br>x=%{x}<br>y=%{y}<extra></extra>",
           "hovertext": [
            "Last node of 8 <br> reward: 0 <br> action: [3, 4, 4, 3, 1, 2, 4, 4, 0, 0] <br> in system: 1.0"
           ],
           "legendgroup": "False, last",
           "line": {
            "color": "#EF553B",
            "dash": "solid"
           },
           "marker": {
            "symbol": "circle"
           },
           "mode": "lines+markers",
           "name": "False, last",
           "orientation": "v",
           "showlegend": false,
           "type": "scatter",
           "x": [
            0.32954545454545453
           ],
           "xaxis": "x",
           "y": [
            0.428
           ],
           "yaxis": "y"
          },
          {
           "hovertemplate": "<b>%{hovertext}</b><br><br>main=False<br>type=last<br>step=13<br>name=9<br>x=%{x}<br>y=%{y}<extra></extra>",
           "hovertext": [
            "Last node of 9 <br> reward: 0 <br> action: [3, 4, 4, 3, 1, 2, 4, 4, 0, 0] <br> in system: 0.0"
           ],
           "legendgroup": "False, last",
           "line": {
            "color": "#EF553B",
            "dash": "solid"
           },
           "marker": {
            "symbol": "circle"
           },
           "mode": "lines+markers",
           "name": "False, last",
           "orientation": "v",
           "showlegend": false,
           "type": "scatter",
           "x": [
            0
           ],
           "xaxis": "x",
           "y": [
            0
           ],
           "yaxis": "y"
          },
          {
           "hovertemplate": "<b>%{hovertext}</b><br><br>main=False<br>type=next<br>step=13<br>name=1<br>x=%{x}<br>y=%{y}<extra></extra>",
           "hovertext": [
            "Next node of 1 <br> reward: 0 <br> action: [3, 4, 4, 3, 1, 2, 4, 4, 0, 0] <br> in system: 0.0"
           ],
           "legendgroup": "False, next",
           "line": {
            "color": "#EF553B",
            "dash": "solid"
           },
           "marker": {
            "symbol": "diamond"
           },
           "mode": "lines+markers",
           "name": "False, next",
           "orientation": "v",
           "showlegend": true,
           "type": "scatter",
           "x": [
            0
           ],
           "xaxis": "x",
           "y": [
            0
           ],
           "yaxis": "y"
          },
          {
           "hovertemplate": "<b>%{hovertext}</b><br><br>main=False<br>type=next<br>step=13<br>name=2<br>x=%{x}<br>y=%{y}<extra></extra>",
           "hovertext": [
            "Next node of 2 <br> reward: 0 <br> action: [3, 4, 4, 3, 1, 2, 4, 4, 0, 0] <br> in system: 1.0"
           ],
           "legendgroup": "False, next",
           "line": {
            "color": "#EF553B",
            "dash": "solid"
           },
           "marker": {
            "symbol": "diamond"
           },
           "mode": "lines+markers",
           "name": "False, next",
           "orientation": "v",
           "showlegend": false,
           "type": "scatter",
           "x": [
            0.32954545454545453
           ],
           "xaxis": "x",
           "y": [
            0.428
           ],
           "yaxis": "y"
          },
          {
           "hovertemplate": "<b>%{hovertext}</b><br><br>main=False<br>type=next<br>step=13<br>name=3<br>x=%{x}<br>y=%{y}<extra></extra>",
           "hovertext": [
            "Next node of 3 <br> reward: 0 <br> action: [3, 4, 4, 3, 1, 2, 4, 4, 0, 0] <br> in system: 0.0"
           ],
           "legendgroup": "False, next",
           "line": {
            "color": "#EF553B",
            "dash": "solid"
           },
           "marker": {
            "symbol": "diamond"
           },
           "mode": "lines+markers",
           "name": "False, next",
           "orientation": "v",
           "showlegend": false,
           "type": "scatter",
           "x": [
            0
           ],
           "xaxis": "x",
           "y": [
            0
           ],
           "yaxis": "y"
          },
          {
           "hovertemplate": "<b>%{hovertext}</b><br><br>main=False<br>type=next<br>step=13<br>name=4<br>x=%{x}<br>y=%{y}<extra></extra>",
           "hovertext": [
            "Next node of 4 <br> reward: 0 <br> action: [3, 4, 4, 3, 1, 2, 4, 4, 0, 0] <br> in system: 1.0"
           ],
           "legendgroup": "False, next",
           "line": {
            "color": "#EF553B",
            "dash": "solid"
           },
           "marker": {
            "symbol": "diamond"
           },
           "mode": "lines+markers",
           "name": "False, next",
           "orientation": "v",
           "showlegend": false,
           "type": "scatter",
           "x": [
            0.6022727272727273
           ],
           "xaxis": "x",
           "y": [
            0.86
           ],
           "yaxis": "y"
          },
          {
           "hovertemplate": "<b>%{hovertext}</b><br><br>main=False<br>type=next<br>step=13<br>name=5<br>x=%{x}<br>y=%{y}<extra></extra>",
           "hovertext": [
            "Next node of 5 <br> reward: 0 <br> action: [3, 4, 4, 3, 1, 2, 4, 4, 0, 0] <br> in system: 0.0"
           ],
           "legendgroup": "False, next",
           "line": {
            "color": "#EF553B",
            "dash": "solid"
           },
           "marker": {
            "symbol": "diamond"
           },
           "mode": "lines+markers",
           "name": "False, next",
           "orientation": "v",
           "showlegend": false,
           "type": "scatter",
           "x": [
            0
           ],
           "xaxis": "x",
           "y": [
            0
           ],
           "yaxis": "y"
          },
          {
           "hovertemplate": "<b>%{hovertext}</b><br><br>main=False<br>type=next<br>step=13<br>name=6<br>x=%{x}<br>y=%{y}<extra></extra>",
           "hovertext": [
            "Next node of 6 <br> reward: 0 <br> action: [3, 4, 4, 3, 1, 2, 4, 4, 0, 0] <br> in system: 1.0"
           ],
           "legendgroup": "False, next",
           "line": {
            "color": "#EF553B",
            "dash": "solid"
           },
           "marker": {
            "symbol": "diamond"
           },
           "mode": "lines+markers",
           "name": "False, next",
           "orientation": "v",
           "showlegend": false,
           "type": "scatter",
           "x": [
            1
           ],
           "xaxis": "x",
           "y": [
            0.86
           ],
           "yaxis": "y"
          },
          {
           "hovertemplate": "<b>%{hovertext}</b><br><br>main=False<br>type=next<br>step=13<br>name=7<br>x=%{x}<br>y=%{y}<extra></extra>",
           "hovertext": [
            "Next node of 7 <br> reward: 0 <br> action: [3, 4, 4, 3, 1, 2, 4, 4, 0, 0] <br> in system: 1.0"
           ],
           "legendgroup": "False, next",
           "line": {
            "color": "#EF553B",
            "dash": "solid"
           },
           "marker": {
            "symbol": "diamond"
           },
           "mode": "lines+markers",
           "name": "False, next",
           "orientation": "v",
           "showlegend": false,
           "type": "scatter",
           "x": [
            0.4772727272727273
           ],
           "xaxis": "x",
           "y": [
            0.38
           ],
           "yaxis": "y"
          },
          {
           "hovertemplate": "<b>%{hovertext}</b><br><br>main=False<br>type=next<br>step=13<br>name=8<br>x=%{x}<br>y=%{y}<extra></extra>",
           "hovertext": [
            "Next node of 8 <br> reward: 0 <br> action: [3, 4, 4, 3, 1, 2, 4, 4, 0, 0] <br> in system: 1.0"
           ],
           "legendgroup": "False, next",
           "line": {
            "color": "#EF553B",
            "dash": "solid"
           },
           "marker": {
            "symbol": "diamond"
           },
           "mode": "lines+markers",
           "name": "False, next",
           "orientation": "v",
           "showlegend": false,
           "type": "scatter",
           "x": [
            0.32954545454545453
           ],
           "xaxis": "x",
           "y": [
            0.428
           ],
           "yaxis": "y"
          },
          {
           "hovertemplate": "<b>%{hovertext}</b><br><br>main=False<br>type=next<br>step=13<br>name=9<br>x=%{x}<br>y=%{y}<extra></extra>",
           "hovertext": [
            "Next node of 9 <br> reward: 0 <br> action: [3, 4, 4, 3, 1, 2, 4, 4, 0, 0] <br> in system: 0.0"
           ],
           "legendgroup": "False, next",
           "line": {
            "color": "#EF553B",
            "dash": "solid"
           },
           "marker": {
            "symbol": "diamond"
           },
           "mode": "lines+markers",
           "name": "False, next",
           "orientation": "v",
           "showlegend": false,
           "type": "scatter",
           "x": [
            0
           ],
           "xaxis": "x",
           "y": [
            0
           ],
           "yaxis": "y"
          }
         ],
         "name": "13"
        },
        {
         "data": [
          {
           "hovertemplate": "<b>%{hovertext}</b><br><br>main=True<br>type=last<br>step=14<br>name=0<br>x=%{x}<br>y=%{y}<extra></extra>",
           "hovertext": [
            "Last node of 0 <br> reward: 1.0 <br> action: [5, 5, 3, 3, 2, 3, 2, 1, 2, 5] <br> in system: 1.0"
           ],
           "legendgroup": "True, last",
           "line": {
            "color": "#636efa",
            "dash": "solid"
           },
           "marker": {
            "symbol": "circle"
           },
           "mode": "lines+markers",
           "name": "True, last",
           "orientation": "v",
           "showlegend": true,
           "type": "scatter",
           "x": [
            0.9431818181818182
           ],
           "xaxis": "x",
           "y": [
            0.76
           ],
           "yaxis": "y"
          },
          {
           "hovertemplate": "<b>%{hovertext}</b><br><br>main=True<br>type=next<br>step=14<br>name=0<br>x=%{x}<br>y=%{y}<extra></extra>",
           "hovertext": [
            "Next node of 0 <br> reward: 1.0 <br> action: [5, 5, 3, 3, 2, 3, 2, 1, 2, 5] <br> in system: 1.0"
           ],
           "legendgroup": "True, next",
           "line": {
            "color": "#636efa",
            "dash": "solid"
           },
           "marker": {
            "symbol": "diamond"
           },
           "mode": "lines+markers",
           "name": "True, next",
           "orientation": "v",
           "showlegend": true,
           "type": "scatter",
           "x": [
            0.8181818181818182
           ],
           "xaxis": "x",
           "y": [
            0.76
           ],
           "yaxis": "y"
          },
          {
           "hovertemplate": "<b>%{hovertext}</b><br><br>main=False<br>type=last<br>step=14<br>name=1<br>x=%{x}<br>y=%{y}<extra></extra>",
           "hovertext": [
            "Last node of 1 <br> reward: 1.0 <br> action: [5, 5, 3, 3, 2, 3, 2, 1, 2, 5] <br> in system: 0.0"
           ],
           "legendgroup": "False, last",
           "line": {
            "color": "#EF553B",
            "dash": "solid"
           },
           "marker": {
            "symbol": "circle"
           },
           "mode": "lines+markers",
           "name": "False, last",
           "orientation": "v",
           "showlegend": true,
           "type": "scatter",
           "x": [
            0
           ],
           "xaxis": "x",
           "y": [
            0
           ],
           "yaxis": "y"
          },
          {
           "hovertemplate": "<b>%{hovertext}</b><br><br>main=False<br>type=last<br>step=14<br>name=2<br>x=%{x}<br>y=%{y}<extra></extra>",
           "hovertext": [
            "Last node of 2 <br> reward: 1.0 <br> action: [5, 5, 3, 3, 2, 3, 2, 1, 2, 5] <br> in system: 1.0"
           ],
           "legendgroup": "False, last",
           "line": {
            "color": "#EF553B",
            "dash": "solid"
           },
           "marker": {
            "symbol": "circle"
           },
           "mode": "lines+markers",
           "name": "False, last",
           "orientation": "v",
           "showlegend": false,
           "type": "scatter",
           "x": [
            0.42045454545454547
           ],
           "xaxis": "x",
           "y": [
            0.38
           ],
           "yaxis": "y"
          },
          {
           "hovertemplate": "<b>%{hovertext}</b><br><br>main=False<br>type=last<br>step=14<br>name=3<br>x=%{x}<br>y=%{y}<extra></extra>",
           "hovertext": [
            "Last node of 3 <br> reward: 1.0 <br> action: [5, 5, 3, 3, 2, 3, 2, 1, 2, 5] <br> in system: 1.0"
           ],
           "legendgroup": "False, last",
           "line": {
            "color": "#EF553B",
            "dash": "solid"
           },
           "marker": {
            "symbol": "circle"
           },
           "mode": "lines+markers",
           "name": "False, last",
           "orientation": "v",
           "showlegend": false,
           "type": "scatter",
           "x": [
            0.7613636363636364
           ],
           "xaxis": "x",
           "y": [
            0.86
           ],
           "yaxis": "y"
          },
          {
           "hovertemplate": "<b>%{hovertext}</b><br><br>main=False<br>type=last<br>step=14<br>name=4<br>x=%{x}<br>y=%{y}<extra></extra>",
           "hovertext": [
            "Last node of 4 <br> reward: 1.0 <br> action: [5, 5, 3, 3, 2, 3, 2, 1, 2, 5] <br> in system: 1.0"
           ],
           "legendgroup": "False, last",
           "line": {
            "color": "#EF553B",
            "dash": "solid"
           },
           "marker": {
            "symbol": "circle"
           },
           "mode": "lines+markers",
           "name": "False, last",
           "orientation": "v",
           "showlegend": false,
           "type": "scatter",
           "x": [
            0.42045454545454547
           ],
           "xaxis": "x",
           "y": [
            0.38
           ],
           "yaxis": "y"
          },
          {
           "hovertemplate": "<b>%{hovertext}</b><br><br>main=False<br>type=last<br>step=14<br>name=5<br>x=%{x}<br>y=%{y}<extra></extra>",
           "hovertext": [
            "Last node of 5 <br> reward: 1.0 <br> action: [5, 5, 3, 3, 2, 3, 2, 1, 2, 5] <br> in system: 1.0"
           ],
           "legendgroup": "False, last",
           "line": {
            "color": "#EF553B",
            "dash": "solid"
           },
           "marker": {
            "symbol": "circle"
           },
           "mode": "lines+markers",
           "name": "False, last",
           "orientation": "v",
           "showlegend": false,
           "type": "scatter",
           "x": [
            0.32954545454545453
           ],
           "xaxis": "x",
           "y": [
            0.428
           ],
           "yaxis": "y"
          },
          {
           "hovertemplate": "<b>%{hovertext}</b><br><br>main=False<br>type=last<br>step=14<br>name=6<br>x=%{x}<br>y=%{y}<extra></extra>",
           "hovertext": [
            "Last node of 6 <br> reward: 1.0 <br> action: [5, 5, 3, 3, 2, 3, 2, 1, 2, 5] <br> in system: 0.0"
           ],
           "legendgroup": "False, last",
           "line": {
            "color": "#EF553B",
            "dash": "solid"
           },
           "marker": {
            "symbol": "circle"
           },
           "mode": "lines+markers",
           "name": "False, last",
           "orientation": "v",
           "showlegend": false,
           "type": "scatter",
           "x": [
            0
           ],
           "xaxis": "x",
           "y": [
            0
           ],
           "yaxis": "y"
          },
          {
           "hovertemplate": "<b>%{hovertext}</b><br><br>main=False<br>type=last<br>step=14<br>name=7<br>x=%{x}<br>y=%{y}<extra></extra>",
           "hovertext": [
            "Last node of 7 <br> reward: 1.0 <br> action: [5, 5, 3, 3, 2, 3, 2, 1, 2, 5] <br> in system: 0.0"
           ],
           "legendgroup": "False, last",
           "line": {
            "color": "#EF553B",
            "dash": "solid"
           },
           "marker": {
            "symbol": "circle"
           },
           "mode": "lines+markers",
           "name": "False, last",
           "orientation": "v",
           "showlegend": false,
           "type": "scatter",
           "x": [
            0
           ],
           "xaxis": "x",
           "y": [
            0
           ],
           "yaxis": "y"
          },
          {
           "hovertemplate": "<b>%{hovertext}</b><br><br>main=False<br>type=last<br>step=14<br>name=8<br>x=%{x}<br>y=%{y}<extra></extra>",
           "hovertext": [
            "Last node of 8 <br> reward: 1.0 <br> action: [5, 5, 3, 3, 2, 3, 2, 1, 2, 5] <br> in system: 1.0"
           ],
           "legendgroup": "False, last",
           "line": {
            "color": "#EF553B",
            "dash": "solid"
           },
           "marker": {
            "symbol": "circle"
           },
           "mode": "lines+markers",
           "name": "False, last",
           "orientation": "v",
           "showlegend": false,
           "type": "scatter",
           "x": [
            0.9431818181818182
           ],
           "xaxis": "x",
           "y": [
            0.86
           ],
           "yaxis": "y"
          },
          {
           "hovertemplate": "<b>%{hovertext}</b><br><br>main=False<br>type=last<br>step=14<br>name=9<br>x=%{x}<br>y=%{y}<extra></extra>",
           "hovertext": [
            "Last node of 9 <br> reward: 1.0 <br> action: [5, 5, 3, 3, 2, 3, 2, 1, 2, 5] <br> in system: 0.0"
           ],
           "legendgroup": "False, last",
           "line": {
            "color": "#EF553B",
            "dash": "solid"
           },
           "marker": {
            "symbol": "circle"
           },
           "mode": "lines+markers",
           "name": "False, last",
           "orientation": "v",
           "showlegend": false,
           "type": "scatter",
           "x": [
            0
           ],
           "xaxis": "x",
           "y": [
            0
           ],
           "yaxis": "y"
          },
          {
           "hovertemplate": "<b>%{hovertext}</b><br><br>main=False<br>type=next<br>step=14<br>name=1<br>x=%{x}<br>y=%{y}<extra></extra>",
           "hovertext": [
            "Next node of 1 <br> reward: 1.0 <br> action: [5, 5, 3, 3, 2, 3, 2, 1, 2, 5] <br> in system: 0.0"
           ],
           "legendgroup": "False, next",
           "line": {
            "color": "#EF553B",
            "dash": "solid"
           },
           "marker": {
            "symbol": "diamond"
           },
           "mode": "lines+markers",
           "name": "False, next",
           "orientation": "v",
           "showlegend": true,
           "type": "scatter",
           "x": [
            0
           ],
           "xaxis": "x",
           "y": [
            0
           ],
           "yaxis": "y"
          },
          {
           "hovertemplate": "<b>%{hovertext}</b><br><br>main=False<br>type=next<br>step=14<br>name=2<br>x=%{x}<br>y=%{y}<extra></extra>",
           "hovertext": [
            "Next node of 2 <br> reward: 1.0 <br> action: [5, 5, 3, 3, 2, 3, 2, 1, 2, 5] <br> in system: 1.0"
           ],
           "legendgroup": "False, next",
           "line": {
            "color": "#EF553B",
            "dash": "solid"
           },
           "marker": {
            "symbol": "diamond"
           },
           "mode": "lines+markers",
           "name": "False, next",
           "orientation": "v",
           "showlegend": false,
           "type": "scatter",
           "x": [
            0.32954545454545453
           ],
           "xaxis": "x",
           "y": [
            0.428
           ],
           "yaxis": "y"
          },
          {
           "hovertemplate": "<b>%{hovertext}</b><br><br>main=False<br>type=next<br>step=14<br>name=3<br>x=%{x}<br>y=%{y}<extra></extra>",
           "hovertext": [
            "Next node of 3 <br> reward: 1.0 <br> action: [5, 5, 3, 3, 2, 3, 2, 1, 2, 5] <br> in system: 1.0"
           ],
           "legendgroup": "False, next",
           "line": {
            "color": "#EF553B",
            "dash": "solid"
           },
           "marker": {
            "symbol": "diamond"
           },
           "mode": "lines+markers",
           "name": "False, next",
           "orientation": "v",
           "showlegend": false,
           "type": "scatter",
           "x": [
            0.6022727272727273
           ],
           "xaxis": "x",
           "y": [
            0.86
           ],
           "yaxis": "y"
          },
          {
           "hovertemplate": "<b>%{hovertext}</b><br><br>main=False<br>type=next<br>step=14<br>name=4<br>x=%{x}<br>y=%{y}<extra></extra>",
           "hovertext": [
            "Next node of 4 <br> reward: 1.0 <br> action: [5, 5, 3, 3, 2, 3, 2, 1, 2, 5] <br> in system: 1.0"
           ],
           "legendgroup": "False, next",
           "line": {
            "color": "#EF553B",
            "dash": "solid"
           },
           "marker": {
            "symbol": "diamond"
           },
           "mode": "lines+markers",
           "name": "False, next",
           "orientation": "v",
           "showlegend": false,
           "type": "scatter",
           "x": [
            0.4772727272727273
           ],
           "xaxis": "x",
           "y": [
            0.38
           ],
           "yaxis": "y"
          },
          {
           "hovertemplate": "<b>%{hovertext}</b><br><br>main=False<br>type=next<br>step=14<br>name=5<br>x=%{x}<br>y=%{y}<extra></extra>",
           "hovertext": [
            "Next node of 5 <br> reward: 1.0 <br> action: [5, 5, 3, 3, 2, 3, 2, 1, 2, 5] <br> in system: 1.0"
           ],
           "legendgroup": "False, next",
           "line": {
            "color": "#EF553B",
            "dash": "solid"
           },
           "marker": {
            "symbol": "diamond"
           },
           "mode": "lines+markers",
           "name": "False, next",
           "orientation": "v",
           "showlegend": false,
           "type": "scatter",
           "x": [
            0.32954545454545453
           ],
           "xaxis": "x",
           "y": [
            0.428
           ],
           "yaxis": "y"
          },
          {
           "hovertemplate": "<b>%{hovertext}</b><br><br>main=False<br>type=next<br>step=14<br>name=6<br>x=%{x}<br>y=%{y}<extra></extra>",
           "hovertext": [
            "Next node of 6 <br> reward: 1.0 <br> action: [5, 5, 3, 3, 2, 3, 2, 1, 2, 5] <br> in system: 0.0"
           ],
           "legendgroup": "False, next",
           "line": {
            "color": "#EF553B",
            "dash": "solid"
           },
           "marker": {
            "symbol": "diamond"
           },
           "mode": "lines+markers",
           "name": "False, next",
           "orientation": "v",
           "showlegend": false,
           "type": "scatter",
           "x": [
            0
           ],
           "xaxis": "x",
           "y": [
            0
           ],
           "yaxis": "y"
          },
          {
           "hovertemplate": "<b>%{hovertext}</b><br><br>main=False<br>type=next<br>step=14<br>name=7<br>x=%{x}<br>y=%{y}<extra></extra>",
           "hovertext": [
            "Next node of 7 <br> reward: 1.0 <br> action: [5, 5, 3, 3, 2, 3, 2, 1, 2, 5] <br> in system: 0.0"
           ],
           "legendgroup": "False, next",
           "line": {
            "color": "#EF553B",
            "dash": "solid"
           },
           "marker": {
            "symbol": "diamond"
           },
           "mode": "lines+markers",
           "name": "False, next",
           "orientation": "v",
           "showlegend": false,
           "type": "scatter",
           "x": [
            0
           ],
           "xaxis": "x",
           "y": [
            0
           ],
           "yaxis": "y"
          },
          {
           "hovertemplate": "<b>%{hovertext}</b><br><br>main=False<br>type=next<br>step=14<br>name=8<br>x=%{x}<br>y=%{y}<extra></extra>",
           "hovertext": [
            "Next node of 8 <br> reward: 1.0 <br> action: [5, 5, 3, 3, 2, 3, 2, 1, 2, 5] <br> in system: 1.0"
           ],
           "legendgroup": "False, next",
           "line": {
            "color": "#EF553B",
            "dash": "solid"
           },
           "marker": {
            "symbol": "diamond"
           },
           "mode": "lines+markers",
           "name": "False, next",
           "orientation": "v",
           "showlegend": false,
           "type": "scatter",
           "x": [
            1
           ],
           "xaxis": "x",
           "y": [
            0.86
           ],
           "yaxis": "y"
          },
          {
           "hovertemplate": "<b>%{hovertext}</b><br><br>main=False<br>type=next<br>step=14<br>name=9<br>x=%{x}<br>y=%{y}<extra></extra>",
           "hovertext": [
            "Next node of 9 <br> reward: 1.0 <br> action: [5, 5, 3, 3, 2, 3, 2, 1, 2, 5] <br> in system: 0.0"
           ],
           "legendgroup": "False, next",
           "line": {
            "color": "#EF553B",
            "dash": "solid"
           },
           "marker": {
            "symbol": "diamond"
           },
           "mode": "lines+markers",
           "name": "False, next",
           "orientation": "v",
           "showlegend": false,
           "type": "scatter",
           "x": [
            0
           ],
           "xaxis": "x",
           "y": [
            0
           ],
           "yaxis": "y"
          }
         ],
         "name": "14"
        },
        {
         "data": [
          {
           "hovertemplate": "<b>%{hovertext}</b><br><br>main=True<br>type=last<br>step=15<br>name=0<br>x=%{x}<br>y=%{y}<extra></extra>",
           "hovertext": [
            "Last node of 0 <br> reward: 1.0 <br> action: [0, 4, 2, 2, 3, 2, 0, 0, 3, 5] <br> in system: 1.0"
           ],
           "legendgroup": "True, last",
           "line": {
            "color": "#636efa",
            "dash": "solid"
           },
           "marker": {
            "symbol": "circle"
           },
           "mode": "lines+markers",
           "name": "True, last",
           "orientation": "v",
           "showlegend": true,
           "type": "scatter",
           "x": [
            0.9431818181818182
           ],
           "xaxis": "x",
           "y": [
            0.76
           ],
           "yaxis": "y"
          },
          {
           "hovertemplate": "<b>%{hovertext}</b><br><br>main=True<br>type=next<br>step=15<br>name=0<br>x=%{x}<br>y=%{y}<extra></extra>",
           "hovertext": [
            "Next node of 0 <br> reward: 1.0 <br> action: [0, 4, 2, 2, 3, 2, 0, 0, 3, 5] <br> in system: 1.0"
           ],
           "legendgroup": "True, next",
           "line": {
            "color": "#636efa",
            "dash": "solid"
           },
           "marker": {
            "symbol": "diamond"
           },
           "mode": "lines+markers",
           "name": "True, next",
           "orientation": "v",
           "showlegend": true,
           "type": "scatter",
           "x": [
            0.8181818181818182
           ],
           "xaxis": "x",
           "y": [
            0.76
           ],
           "yaxis": "y"
          },
          {
           "hovertemplate": "<b>%{hovertext}</b><br><br>main=False<br>type=last<br>step=15<br>name=1<br>x=%{x}<br>y=%{y}<extra></extra>",
           "hovertext": [
            "Last node of 1 <br> reward: 1.0 <br> action: [0, 4, 2, 2, 3, 2, 0, 0, 3, 5] <br> in system: 0.0"
           ],
           "legendgroup": "False, last",
           "line": {
            "color": "#EF553B",
            "dash": "solid"
           },
           "marker": {
            "symbol": "circle"
           },
           "mode": "lines+markers",
           "name": "False, last",
           "orientation": "v",
           "showlegend": true,
           "type": "scatter",
           "x": [
            0
           ],
           "xaxis": "x",
           "y": [
            0
           ],
           "yaxis": "y"
          },
          {
           "hovertemplate": "<b>%{hovertext}</b><br><br>main=False<br>type=last<br>step=15<br>name=2<br>x=%{x}<br>y=%{y}<extra></extra>",
           "hovertext": [
            "Last node of 2 <br> reward: 1.0 <br> action: [0, 4, 2, 2, 3, 2, 0, 0, 3, 5] <br> in system: 1.0"
           ],
           "legendgroup": "False, last",
           "line": {
            "color": "#EF553B",
            "dash": "solid"
           },
           "marker": {
            "symbol": "circle"
           },
           "mode": "lines+markers",
           "name": "False, last",
           "orientation": "v",
           "showlegend": false,
           "type": "scatter",
           "x": [
            0.42045454545454547
           ],
           "xaxis": "x",
           "y": [
            0.38
           ],
           "yaxis": "y"
          },
          {
           "hovertemplate": "<b>%{hovertext}</b><br><br>main=False<br>type=last<br>step=15<br>name=3<br>x=%{x}<br>y=%{y}<extra></extra>",
           "hovertext": [
            "Last node of 3 <br> reward: 1.0 <br> action: [0, 4, 2, 2, 3, 2, 0, 0, 3, 5] <br> in system: 0.0"
           ],
           "legendgroup": "False, last",
           "line": {
            "color": "#EF553B",
            "dash": "solid"
           },
           "marker": {
            "symbol": "circle"
           },
           "mode": "lines+markers",
           "name": "False, last",
           "orientation": "v",
           "showlegend": false,
           "type": "scatter",
           "x": [
            0
           ],
           "xaxis": "x",
           "y": [
            0
           ],
           "yaxis": "y"
          },
          {
           "hovertemplate": "<b>%{hovertext}</b><br><br>main=False<br>type=last<br>step=15<br>name=4<br>x=%{x}<br>y=%{y}<extra></extra>",
           "hovertext": [
            "Last node of 4 <br> reward: 1.0 <br> action: [0, 4, 2, 2, 3, 2, 0, 0, 3, 5] <br> in system: 1.0"
           ],
           "legendgroup": "False, last",
           "line": {
            "color": "#EF553B",
            "dash": "solid"
           },
           "marker": {
            "symbol": "circle"
           },
           "mode": "lines+markers",
           "name": "False, last",
           "orientation": "v",
           "showlegend": false,
           "type": "scatter",
           "x": [
            0.7613636363636364
           ],
           "xaxis": "x",
           "y": [
            0.86
           ],
           "yaxis": "y"
          },
          {
           "hovertemplate": "<b>%{hovertext}</b><br><br>main=False<br>type=last<br>step=15<br>name=5<br>x=%{x}<br>y=%{y}<extra></extra>",
           "hovertext": [
            "Last node of 5 <br> reward: 1.0 <br> action: [0, 4, 2, 2, 3, 2, 0, 0, 3, 5] <br> in system: 1.0"
           ],
           "legendgroup": "False, last",
           "line": {
            "color": "#EF553B",
            "dash": "solid"
           },
           "marker": {
            "symbol": "circle"
           },
           "mode": "lines+markers",
           "name": "False, last",
           "orientation": "v",
           "showlegend": false,
           "type": "scatter",
           "x": [
            1
           ],
           "xaxis": "x",
           "y": [
            0.86
           ],
           "yaxis": "y"
          },
          {
           "hovertemplate": "<b>%{hovertext}</b><br><br>main=False<br>type=last<br>step=15<br>name=6<br>x=%{x}<br>y=%{y}<extra></extra>",
           "hovertext": [
            "Last node of 6 <br> reward: 1.0 <br> action: [0, 4, 2, 2, 3, 2, 0, 0, 3, 5] <br> in system: 0.0"
           ],
           "legendgroup": "False, last",
           "line": {
            "color": "#EF553B",
            "dash": "solid"
           },
           "marker": {
            "symbol": "circle"
           },
           "mode": "lines+markers",
           "name": "False, last",
           "orientation": "v",
           "showlegend": false,
           "type": "scatter",
           "x": [
            0
           ],
           "xaxis": "x",
           "y": [
            0
           ],
           "yaxis": "y"
          },
          {
           "hovertemplate": "<b>%{hovertext}</b><br><br>main=False<br>type=last<br>step=15<br>name=7<br>x=%{x}<br>y=%{y}<extra></extra>",
           "hovertext": [
            "Last node of 7 <br> reward: 1.0 <br> action: [0, 4, 2, 2, 3, 2, 0, 0, 3, 5] <br> in system: 1.0"
           ],
           "legendgroup": "False, last",
           "line": {
            "color": "#EF553B",
            "dash": "solid"
           },
           "marker": {
            "symbol": "circle"
           },
           "mode": "lines+markers",
           "name": "False, last",
           "orientation": "v",
           "showlegend": false,
           "type": "scatter",
           "x": [
            0.42045454545454547
           ],
           "xaxis": "x",
           "y": [
            0.38
           ],
           "yaxis": "y"
          },
          {
           "hovertemplate": "<b>%{hovertext}</b><br><br>main=False<br>type=last<br>step=15<br>name=8<br>x=%{x}<br>y=%{y}<extra></extra>",
           "hovertext": [
            "Last node of 8 <br> reward: 1.0 <br> action: [0, 4, 2, 2, 3, 2, 0, 0, 3, 5] <br> in system: 1.0"
           ],
           "legendgroup": "False, last",
           "line": {
            "color": "#EF553B",
            "dash": "solid"
           },
           "marker": {
            "symbol": "circle"
           },
           "mode": "lines+markers",
           "name": "False, last",
           "orientation": "v",
           "showlegend": false,
           "type": "scatter",
           "x": [
            0.32954545454545453
           ],
           "xaxis": "x",
           "y": [
            0.428
           ],
           "yaxis": "y"
          },
          {
           "hovertemplate": "<b>%{hovertext}</b><br><br>main=False<br>type=last<br>step=15<br>name=9<br>x=%{x}<br>y=%{y}<extra></extra>",
           "hovertext": [
            "Last node of 9 <br> reward: 1.0 <br> action: [0, 4, 2, 2, 3, 2, 0, 0, 3, 5] <br> in system: 0.0"
           ],
           "legendgroup": "False, last",
           "line": {
            "color": "#EF553B",
            "dash": "solid"
           },
           "marker": {
            "symbol": "circle"
           },
           "mode": "lines+markers",
           "name": "False, last",
           "orientation": "v",
           "showlegend": false,
           "type": "scatter",
           "x": [
            0
           ],
           "xaxis": "x",
           "y": [
            0
           ],
           "yaxis": "y"
          },
          {
           "hovertemplate": "<b>%{hovertext}</b><br><br>main=False<br>type=next<br>step=15<br>name=1<br>x=%{x}<br>y=%{y}<extra></extra>",
           "hovertext": [
            "Next node of 1 <br> reward: 1.0 <br> action: [0, 4, 2, 2, 3, 2, 0, 0, 3, 5] <br> in system: 0.0"
           ],
           "legendgroup": "False, next",
           "line": {
            "color": "#EF553B",
            "dash": "solid"
           },
           "marker": {
            "symbol": "diamond"
           },
           "mode": "lines+markers",
           "name": "False, next",
           "orientation": "v",
           "showlegend": true,
           "type": "scatter",
           "x": [
            0
           ],
           "xaxis": "x",
           "y": [
            0
           ],
           "yaxis": "y"
          },
          {
           "hovertemplate": "<b>%{hovertext}</b><br><br>main=False<br>type=next<br>step=15<br>name=2<br>x=%{x}<br>y=%{y}<extra></extra>",
           "hovertext": [
            "Next node of 2 <br> reward: 1.0 <br> action: [0, 4, 2, 2, 3, 2, 0, 0, 3, 5] <br> in system: 1.0"
           ],
           "legendgroup": "False, next",
           "line": {
            "color": "#EF553B",
            "dash": "solid"
           },
           "marker": {
            "symbol": "diamond"
           },
           "mode": "lines+markers",
           "name": "False, next",
           "orientation": "v",
           "showlegend": false,
           "type": "scatter",
           "x": [
            0.32954545454545453
           ],
           "xaxis": "x",
           "y": [
            0.428
           ],
           "yaxis": "y"
          },
          {
           "hovertemplate": "<b>%{hovertext}</b><br><br>main=False<br>type=next<br>step=15<br>name=3<br>x=%{x}<br>y=%{y}<extra></extra>",
           "hovertext": [
            "Next node of 3 <br> reward: 1.0 <br> action: [0, 4, 2, 2, 3, 2, 0, 0, 3, 5] <br> in system: 0.0"
           ],
           "legendgroup": "False, next",
           "line": {
            "color": "#EF553B",
            "dash": "solid"
           },
           "marker": {
            "symbol": "diamond"
           },
           "mode": "lines+markers",
           "name": "False, next",
           "orientation": "v",
           "showlegend": false,
           "type": "scatter",
           "x": [
            0
           ],
           "xaxis": "x",
           "y": [
            0
           ],
           "yaxis": "y"
          },
          {
           "hovertemplate": "<b>%{hovertext}</b><br><br>main=False<br>type=next<br>step=15<br>name=4<br>x=%{x}<br>y=%{y}<extra></extra>",
           "hovertext": [
            "Next node of 4 <br> reward: 1.0 <br> action: [0, 4, 2, 2, 3, 2, 0, 0, 3, 5] <br> in system: 1.0"
           ],
           "legendgroup": "False, next",
           "line": {
            "color": "#EF553B",
            "dash": "solid"
           },
           "marker": {
            "symbol": "diamond"
           },
           "mode": "lines+markers",
           "name": "False, next",
           "orientation": "v",
           "showlegend": false,
           "type": "scatter",
           "x": [
            0.6022727272727273
           ],
           "xaxis": "x",
           "y": [
            0.86
           ],
           "yaxis": "y"
          },
          {
           "hovertemplate": "<b>%{hovertext}</b><br><br>main=False<br>type=next<br>step=15<br>name=5<br>x=%{x}<br>y=%{y}<extra></extra>",
           "hovertext": [
            "Next node of 5 <br> reward: 1.0 <br> action: [0, 4, 2, 2, 3, 2, 0, 0, 3, 5] <br> in system: 1.0"
           ],
           "legendgroup": "False, next",
           "line": {
            "color": "#EF553B",
            "dash": "solid"
           },
           "marker": {
            "symbol": "diamond"
           },
           "mode": "lines+markers",
           "name": "False, next",
           "orientation": "v",
           "showlegend": false,
           "type": "scatter",
           "x": [
            1
           ],
           "xaxis": "x",
           "y": [
            0.76
           ],
           "yaxis": "y"
          },
          {
           "hovertemplate": "<b>%{hovertext}</b><br><br>main=False<br>type=next<br>step=15<br>name=6<br>x=%{x}<br>y=%{y}<extra></extra>",
           "hovertext": [
            "Next node of 6 <br> reward: 1.0 <br> action: [0, 4, 2, 2, 3, 2, 0, 0, 3, 5] <br> in system: 0.0"
           ],
           "legendgroup": "False, next",
           "line": {
            "color": "#EF553B",
            "dash": "solid"
           },
           "marker": {
            "symbol": "diamond"
           },
           "mode": "lines+markers",
           "name": "False, next",
           "orientation": "v",
           "showlegend": false,
           "type": "scatter",
           "x": [
            0
           ],
           "xaxis": "x",
           "y": [
            0
           ],
           "yaxis": "y"
          },
          {
           "hovertemplate": "<b>%{hovertext}</b><br><br>main=False<br>type=next<br>step=15<br>name=7<br>x=%{x}<br>y=%{y}<extra></extra>",
           "hovertext": [
            "Next node of 7 <br> reward: 1.0 <br> action: [0, 4, 2, 2, 3, 2, 0, 0, 3, 5] <br> in system: 1.0"
           ],
           "legendgroup": "False, next",
           "line": {
            "color": "#EF553B",
            "dash": "solid"
           },
           "marker": {
            "symbol": "diamond"
           },
           "mode": "lines+markers",
           "name": "False, next",
           "orientation": "v",
           "showlegend": false,
           "type": "scatter",
           "x": [
            0.4772727272727273
           ],
           "xaxis": "x",
           "y": [
            0.38
           ],
           "yaxis": "y"
          },
          {
           "hovertemplate": "<b>%{hovertext}</b><br><br>main=False<br>type=next<br>step=15<br>name=8<br>x=%{x}<br>y=%{y}<extra></extra>",
           "hovertext": [
            "Next node of 8 <br> reward: 1.0 <br> action: [0, 4, 2, 2, 3, 2, 0, 0, 3, 5] <br> in system: 1.0"
           ],
           "legendgroup": "False, next",
           "line": {
            "color": "#EF553B",
            "dash": "solid"
           },
           "marker": {
            "symbol": "diamond"
           },
           "mode": "lines+markers",
           "name": "False, next",
           "orientation": "v",
           "showlegend": false,
           "type": "scatter",
           "x": [
            0.32954545454545453
           ],
           "xaxis": "x",
           "y": [
            0.428
           ],
           "yaxis": "y"
          },
          {
           "hovertemplate": "<b>%{hovertext}</b><br><br>main=False<br>type=next<br>step=15<br>name=9<br>x=%{x}<br>y=%{y}<extra></extra>",
           "hovertext": [
            "Next node of 9 <br> reward: 1.0 <br> action: [0, 4, 2, 2, 3, 2, 0, 0, 3, 5] <br> in system: 0.0"
           ],
           "legendgroup": "False, next",
           "line": {
            "color": "#EF553B",
            "dash": "solid"
           },
           "marker": {
            "symbol": "diamond"
           },
           "mode": "lines+markers",
           "name": "False, next",
           "orientation": "v",
           "showlegend": false,
           "type": "scatter",
           "x": [
            0
           ],
           "xaxis": "x",
           "y": [
            0
           ],
           "yaxis": "y"
          }
         ],
         "name": "15"
        },
        {
         "data": [
          {
           "hovertemplate": "<b>%{hovertext}</b><br><br>main=True<br>type=last<br>step=16<br>name=0<br>x=%{x}<br>y=%{y}<extra></extra>",
           "hovertext": [
            "Last node of 0 <br> reward: 1.0 <br> action: [1, 4, 0, 0, 5, 3, 2, 4, 1, 0] <br> in system: 1.0"
           ],
           "legendgroup": "True, last",
           "line": {
            "color": "#636efa",
            "dash": "solid"
           },
           "marker": {
            "symbol": "circle"
           },
           "mode": "lines+markers",
           "name": "True, last",
           "orientation": "v",
           "showlegend": true,
           "type": "scatter",
           "x": [
            0.9431818181818182
           ],
           "xaxis": "x",
           "y": [
            0.76
           ],
           "yaxis": "y"
          },
          {
           "hovertemplate": "<b>%{hovertext}</b><br><br>main=True<br>type=next<br>step=16<br>name=0<br>x=%{x}<br>y=%{y}<extra></extra>",
           "hovertext": [
            "Next node of 0 <br> reward: 1.0 <br> action: [1, 4, 0, 0, 5, 3, 2, 4, 1, 0] <br> in system: 1.0"
           ],
           "legendgroup": "True, next",
           "line": {
            "color": "#636efa",
            "dash": "solid"
           },
           "marker": {
            "symbol": "diamond"
           },
           "mode": "lines+markers",
           "name": "True, next",
           "orientation": "v",
           "showlegend": true,
           "type": "scatter",
           "x": [
            0.8181818181818182
           ],
           "xaxis": "x",
           "y": [
            0.76
           ],
           "yaxis": "y"
          },
          {
           "hovertemplate": "<b>%{hovertext}</b><br><br>main=False<br>type=last<br>step=16<br>name=1<br>x=%{x}<br>y=%{y}<extra></extra>",
           "hovertext": [
            "Last node of 1 <br> reward: 1.0 <br> action: [1, 4, 0, 0, 5, 3, 2, 4, 1, 0] <br> in system: 0.0"
           ],
           "legendgroup": "False, last",
           "line": {
            "color": "#EF553B",
            "dash": "solid"
           },
           "marker": {
            "symbol": "circle"
           },
           "mode": "lines+markers",
           "name": "False, last",
           "orientation": "v",
           "showlegend": true,
           "type": "scatter",
           "x": [
            0
           ],
           "xaxis": "x",
           "y": [
            0
           ],
           "yaxis": "y"
          },
          {
           "hovertemplate": "<b>%{hovertext}</b><br><br>main=False<br>type=last<br>step=16<br>name=2<br>x=%{x}<br>y=%{y}<extra></extra>",
           "hovertext": [
            "Last node of 2 <br> reward: 1.0 <br> action: [1, 4, 0, 0, 5, 3, 2, 4, 1, 0] <br> in system: 1.0"
           ],
           "legendgroup": "False, last",
           "line": {
            "color": "#EF553B",
            "dash": "solid"
           },
           "marker": {
            "symbol": "circle"
           },
           "mode": "lines+markers",
           "name": "False, last",
           "orientation": "v",
           "showlegend": false,
           "type": "scatter",
           "x": [
            0.7613636363636364
           ],
           "xaxis": "x",
           "y": [
            0.86
           ],
           "yaxis": "y"
          },
          {
           "hovertemplate": "<b>%{hovertext}</b><br><br>main=False<br>type=last<br>step=16<br>name=3<br>x=%{x}<br>y=%{y}<extra></extra>",
           "hovertext": [
            "Last node of 3 <br> reward: 1.0 <br> action: [1, 4, 0, 0, 5, 3, 2, 4, 1, 0] <br> in system: 1.0"
           ],
           "legendgroup": "False, last",
           "line": {
            "color": "#EF553B",
            "dash": "solid"
           },
           "marker": {
            "symbol": "circle"
           },
           "mode": "lines+markers",
           "name": "False, last",
           "orientation": "v",
           "showlegend": false,
           "type": "scatter",
           "x": [
            1
           ],
           "xaxis": "x",
           "y": [
            0.76
           ],
           "yaxis": "y"
          },
          {
           "hovertemplate": "<b>%{hovertext}</b><br><br>main=False<br>type=last<br>step=16<br>name=4<br>x=%{x}<br>y=%{y}<extra></extra>",
           "hovertext": [
            "Last node of 4 <br> reward: 1.0 <br> action: [1, 4, 0, 0, 5, 3, 2, 4, 1, 0] <br> in system: 0.0"
           ],
           "legendgroup": "False, last",
           "line": {
            "color": "#EF553B",
            "dash": "solid"
           },
           "marker": {
            "symbol": "circle"
           },
           "mode": "lines+markers",
           "name": "False, last",
           "orientation": "v",
           "showlegend": false,
           "type": "scatter",
           "x": [
            0
           ],
           "xaxis": "x",
           "y": [
            0
           ],
           "yaxis": "y"
          },
          {
           "hovertemplate": "<b>%{hovertext}</b><br><br>main=False<br>type=last<br>step=16<br>name=5<br>x=%{x}<br>y=%{y}<extra></extra>",
           "hovertext": [
            "Last node of 5 <br> reward: 1.0 <br> action: [1, 4, 0, 0, 5, 3, 2, 4, 1, 0] <br> in system: 0.0"
           ],
           "legendgroup": "False, last",
           "line": {
            "color": "#EF553B",
            "dash": "solid"
           },
           "marker": {
            "symbol": "circle"
           },
           "mode": "lines+markers",
           "name": "False, last",
           "orientation": "v",
           "showlegend": false,
           "type": "scatter",
           "x": [
            0
           ],
           "xaxis": "x",
           "y": [
            0
           ],
           "yaxis": "y"
          },
          {
           "hovertemplate": "<b>%{hovertext}</b><br><br>main=False<br>type=last<br>step=16<br>name=6<br>x=%{x}<br>y=%{y}<extra></extra>",
           "hovertext": [
            "Last node of 6 <br> reward: 1.0 <br> action: [1, 4, 0, 0, 5, 3, 2, 4, 1, 0] <br> in system: 1.0"
           ],
           "legendgroup": "False, last",
           "line": {
            "color": "#EF553B",
            "dash": "solid"
           },
           "marker": {
            "symbol": "circle"
           },
           "mode": "lines+markers",
           "name": "False, last",
           "orientation": "v",
           "showlegend": false,
           "type": "scatter",
           "x": [
            0.32954545454545453
           ],
           "xaxis": "x",
           "y": [
            0.428
           ],
           "yaxis": "y"
          },
          {
           "hovertemplate": "<b>%{hovertext}</b><br><br>main=False<br>type=last<br>step=16<br>name=7<br>x=%{x}<br>y=%{y}<extra></extra>",
           "hovertext": [
            "Last node of 7 <br> reward: 1.0 <br> action: [1, 4, 0, 0, 5, 3, 2, 4, 1, 0] <br> in system: 1.0"
           ],
           "legendgroup": "False, last",
           "line": {
            "color": "#EF553B",
            "dash": "solid"
           },
           "marker": {
            "symbol": "circle"
           },
           "mode": "lines+markers",
           "name": "False, last",
           "orientation": "v",
           "showlegend": false,
           "type": "scatter",
           "x": [
            0.42045454545454547
           ],
           "xaxis": "x",
           "y": [
            0.38
           ],
           "yaxis": "y"
          },
          {
           "hovertemplate": "<b>%{hovertext}</b><br><br>main=False<br>type=last<br>step=16<br>name=8<br>x=%{x}<br>y=%{y}<extra></extra>",
           "hovertext": [
            "Last node of 8 <br> reward: 1.0 <br> action: [1, 4, 0, 0, 5, 3, 2, 4, 1, 0] <br> in system: 0.0"
           ],
           "legendgroup": "False, last",
           "line": {
            "color": "#EF553B",
            "dash": "solid"
           },
           "marker": {
            "symbol": "circle"
           },
           "mode": "lines+markers",
           "name": "False, last",
           "orientation": "v",
           "showlegend": false,
           "type": "scatter",
           "x": [
            0
           ],
           "xaxis": "x",
           "y": [
            0
           ],
           "yaxis": "y"
          },
          {
           "hovertemplate": "<b>%{hovertext}</b><br><br>main=False<br>type=last<br>step=16<br>name=9<br>x=%{x}<br>y=%{y}<extra></extra>",
           "hovertext": [
            "Last node of 9 <br> reward: 1.0 <br> action: [1, 4, 0, 0, 5, 3, 2, 4, 1, 0] <br> in system: 1.0"
           ],
           "legendgroup": "False, last",
           "line": {
            "color": "#EF553B",
            "dash": "solid"
           },
           "marker": {
            "symbol": "circle"
           },
           "mode": "lines+markers",
           "name": "False, last",
           "orientation": "v",
           "showlegend": false,
           "type": "scatter",
           "x": [
            0.4772727272727273
           ],
           "xaxis": "x",
           "y": [
            0.38
           ],
           "yaxis": "y"
          },
          {
           "hovertemplate": "<b>%{hovertext}</b><br><br>main=False<br>type=next<br>step=16<br>name=1<br>x=%{x}<br>y=%{y}<extra></extra>",
           "hovertext": [
            "Next node of 1 <br> reward: 1.0 <br> action: [1, 4, 0, 0, 5, 3, 2, 4, 1, 0] <br> in system: 0.0"
           ],
           "legendgroup": "False, next",
           "line": {
            "color": "#EF553B",
            "dash": "solid"
           },
           "marker": {
            "symbol": "diamond"
           },
           "mode": "lines+markers",
           "name": "False, next",
           "orientation": "v",
           "showlegend": true,
           "type": "scatter",
           "x": [
            0
           ],
           "xaxis": "x",
           "y": [
            0
           ],
           "yaxis": "y"
          },
          {
           "hovertemplate": "<b>%{hovertext}</b><br><br>main=False<br>type=next<br>step=16<br>name=2<br>x=%{x}<br>y=%{y}<extra></extra>",
           "hovertext": [
            "Next node of 2 <br> reward: 1.0 <br> action: [1, 4, 0, 0, 5, 3, 2, 4, 1, 0] <br> in system: 1.0"
           ],
           "legendgroup": "False, next",
           "line": {
            "color": "#EF553B",
            "dash": "solid"
           },
           "marker": {
            "symbol": "diamond"
           },
           "mode": "lines+markers",
           "name": "False, next",
           "orientation": "v",
           "showlegend": false,
           "type": "scatter",
           "x": [
            0.6022727272727273
           ],
           "xaxis": "x",
           "y": [
            0.86
           ],
           "yaxis": "y"
          },
          {
           "hovertemplate": "<b>%{hovertext}</b><br><br>main=False<br>type=next<br>step=16<br>name=3<br>x=%{x}<br>y=%{y}<extra></extra>",
           "hovertext": [
            "Next node of 3 <br> reward: 1.0 <br> action: [1, 4, 0, 0, 5, 3, 2, 4, 1, 0] <br> in system: 1.0"
           ],
           "legendgroup": "False, next",
           "line": {
            "color": "#EF553B",
            "dash": "solid"
           },
           "marker": {
            "symbol": "diamond"
           },
           "mode": "lines+markers",
           "name": "False, next",
           "orientation": "v",
           "showlegend": false,
           "type": "scatter",
           "x": [
            0.9431818181818182
           ],
           "xaxis": "x",
           "y": [
            0.76
           ],
           "yaxis": "y"
          },
          {
           "hovertemplate": "<b>%{hovertext}</b><br><br>main=False<br>type=next<br>step=16<br>name=4<br>x=%{x}<br>y=%{y}<extra></extra>",
           "hovertext": [
            "Next node of 4 <br> reward: 1.0 <br> action: [1, 4, 0, 0, 5, 3, 2, 4, 1, 0] <br> in system: 0.0"
           ],
           "legendgroup": "False, next",
           "line": {
            "color": "#EF553B",
            "dash": "solid"
           },
           "marker": {
            "symbol": "diamond"
           },
           "mode": "lines+markers",
           "name": "False, next",
           "orientation": "v",
           "showlegend": false,
           "type": "scatter",
           "x": [
            0
           ],
           "xaxis": "x",
           "y": [
            0
           ],
           "yaxis": "y"
          },
          {
           "hovertemplate": "<b>%{hovertext}</b><br><br>main=False<br>type=next<br>step=16<br>name=5<br>x=%{x}<br>y=%{y}<extra></extra>",
           "hovertext": [
            "Next node of 5 <br> reward: 1.0 <br> action: [1, 4, 0, 0, 5, 3, 2, 4, 1, 0] <br> in system: 0.0"
           ],
           "legendgroup": "False, next",
           "line": {
            "color": "#EF553B",
            "dash": "solid"
           },
           "marker": {
            "symbol": "diamond"
           },
           "mode": "lines+markers",
           "name": "False, next",
           "orientation": "v",
           "showlegend": false,
           "type": "scatter",
           "x": [
            0
           ],
           "xaxis": "x",
           "y": [
            0
           ],
           "yaxis": "y"
          },
          {
           "hovertemplate": "<b>%{hovertext}</b><br><br>main=False<br>type=next<br>step=16<br>name=6<br>x=%{x}<br>y=%{y}<extra></extra>",
           "hovertext": [
            "Next node of 6 <br> reward: 1.0 <br> action: [1, 4, 0, 0, 5, 3, 2, 4, 1, 0] <br> in system: 1.0"
           ],
           "legendgroup": "False, next",
           "line": {
            "color": "#EF553B",
            "dash": "solid"
           },
           "marker": {
            "symbol": "diamond"
           },
           "mode": "lines+markers",
           "name": "False, next",
           "orientation": "v",
           "showlegend": false,
           "type": "scatter",
           "x": [
            0.32954545454545453
           ],
           "xaxis": "x",
           "y": [
            0.428
           ],
           "yaxis": "y"
          },
          {
           "hovertemplate": "<b>%{hovertext}</b><br><br>main=False<br>type=next<br>step=16<br>name=7<br>x=%{x}<br>y=%{y}<extra></extra>",
           "hovertext": [
            "Next node of 7 <br> reward: 1.0 <br> action: [1, 4, 0, 0, 5, 3, 2, 4, 1, 0] <br> in system: 1.0"
           ],
           "legendgroup": "False, next",
           "line": {
            "color": "#EF553B",
            "dash": "solid"
           },
           "marker": {
            "symbol": "diamond"
           },
           "mode": "lines+markers",
           "name": "False, next",
           "orientation": "v",
           "showlegend": false,
           "type": "scatter",
           "x": [
            0.32954545454545453
           ],
           "xaxis": "x",
           "y": [
            0.428
           ],
           "yaxis": "y"
          },
          {
           "hovertemplate": "<b>%{hovertext}</b><br><br>main=False<br>type=next<br>step=16<br>name=8<br>x=%{x}<br>y=%{y}<extra></extra>",
           "hovertext": [
            "Next node of 8 <br> reward: 1.0 <br> action: [1, 4, 0, 0, 5, 3, 2, 4, 1, 0] <br> in system: 0.0"
           ],
           "legendgroup": "False, next",
           "line": {
            "color": "#EF553B",
            "dash": "solid"
           },
           "marker": {
            "symbol": "diamond"
           },
           "mode": "lines+markers",
           "name": "False, next",
           "orientation": "v",
           "showlegend": false,
           "type": "scatter",
           "x": [
            0
           ],
           "xaxis": "x",
           "y": [
            0
           ],
           "yaxis": "y"
          },
          {
           "hovertemplate": "<b>%{hovertext}</b><br><br>main=False<br>type=next<br>step=16<br>name=9<br>x=%{x}<br>y=%{y}<extra></extra>",
           "hovertext": [
            "Next node of 9 <br> reward: 1.0 <br> action: [1, 4, 0, 0, 5, 3, 2, 4, 1, 0] <br> in system: 1.0"
           ],
           "legendgroup": "False, next",
           "line": {
            "color": "#EF553B",
            "dash": "solid"
           },
           "marker": {
            "symbol": "diamond"
           },
           "mode": "lines+markers",
           "name": "False, next",
           "orientation": "v",
           "showlegend": false,
           "type": "scatter",
           "x": [
            0.4772727272727273
           ],
           "xaxis": "x",
           "y": [
            0.48
           ],
           "yaxis": "y"
          }
         ],
         "name": "16"
        },
        {
         "data": [
          {
           "hovertemplate": "<b>%{hovertext}</b><br><br>main=True<br>type=last<br>step=17<br>name=0<br>x=%{x}<br>y=%{y}<extra></extra>",
           "hovertext": [
            "Last node of 0 <br> reward: 0 <br> action: [1, 3, 4, 0, 2, 5, 4, 5, 0, 5] <br> in system: 1.0"
           ],
           "legendgroup": "True, last",
           "line": {
            "color": "#636efa",
            "dash": "solid"
           },
           "marker": {
            "symbol": "circle"
           },
           "mode": "lines+markers",
           "name": "True, last",
           "orientation": "v",
           "showlegend": true,
           "type": "scatter",
           "x": [
            0.8181818181818182
           ],
           "xaxis": "x",
           "y": [
            0.76
           ],
           "yaxis": "y"
          },
          {
           "hovertemplate": "<b>%{hovertext}</b><br><br>main=True<br>type=next<br>step=17<br>name=0<br>x=%{x}<br>y=%{y}<extra></extra>",
           "hovertext": [
            "Next node of 0 <br> reward: 0 <br> action: [1, 3, 4, 0, 2, 5, 4, 5, 0, 5] <br> in system: 1.0"
           ],
           "legendgroup": "True, next",
           "line": {
            "color": "#636efa",
            "dash": "solid"
           },
           "marker": {
            "symbol": "diamond"
           },
           "mode": "lines+markers",
           "name": "True, next",
           "orientation": "v",
           "showlegend": true,
           "type": "scatter",
           "x": [
            0.7613636363636364
           ],
           "xaxis": "x",
           "y": [
            0.76
           ],
           "yaxis": "y"
          },
          {
           "hovertemplate": "<b>%{hovertext}</b><br><br>main=False<br>type=last<br>step=17<br>name=1<br>x=%{x}<br>y=%{y}<extra></extra>",
           "hovertext": [
            "Last node of 1 <br> reward: 0 <br> action: [1, 3, 4, 0, 2, 5, 4, 5, 0, 5] <br> in system: 1.0"
           ],
           "legendgroup": "False, last",
           "line": {
            "color": "#EF553B",
            "dash": "solid"
           },
           "marker": {
            "symbol": "circle"
           },
           "mode": "lines+markers",
           "name": "False, last",
           "orientation": "v",
           "showlegend": true,
           "type": "scatter",
           "x": [
            0.42045454545454547
           ],
           "xaxis": "x",
           "y": [
            0.38
           ],
           "yaxis": "y"
          },
          {
           "hovertemplate": "<b>%{hovertext}</b><br><br>main=False<br>type=last<br>step=17<br>name=2<br>x=%{x}<br>y=%{y}<extra></extra>",
           "hovertext": [
            "Last node of 2 <br> reward: 0 <br> action: [1, 3, 4, 0, 2, 5, 4, 5, 0, 5] <br> in system: 0.0"
           ],
           "legendgroup": "False, last",
           "line": {
            "color": "#EF553B",
            "dash": "solid"
           },
           "marker": {
            "symbol": "circle"
           },
           "mode": "lines+markers",
           "name": "False, last",
           "orientation": "v",
           "showlegend": false,
           "type": "scatter",
           "x": [
            0
           ],
           "xaxis": "x",
           "y": [
            0
           ],
           "yaxis": "y"
          },
          {
           "hovertemplate": "<b>%{hovertext}</b><br><br>main=False<br>type=last<br>step=17<br>name=3<br>x=%{x}<br>y=%{y}<extra></extra>",
           "hovertext": [
            "Last node of 3 <br> reward: 0 <br> action: [1, 3, 4, 0, 2, 5, 4, 5, 0, 5] <br> in system: 0.0"
           ],
           "legendgroup": "False, last",
           "line": {
            "color": "#EF553B",
            "dash": "solid"
           },
           "marker": {
            "symbol": "circle"
           },
           "mode": "lines+markers",
           "name": "False, last",
           "orientation": "v",
           "showlegend": false,
           "type": "scatter",
           "x": [
            0
           ],
           "xaxis": "x",
           "y": [
            0
           ],
           "yaxis": "y"
          },
          {
           "hovertemplate": "<b>%{hovertext}</b><br><br>main=False<br>type=last<br>step=17<br>name=4<br>x=%{x}<br>y=%{y}<extra></extra>",
           "hovertext": [
            "Last node of 4 <br> reward: 0 <br> action: [1, 3, 4, 0, 2, 5, 4, 5, 0, 5] <br> in system: 1.0"
           ],
           "legendgroup": "False, last",
           "line": {
            "color": "#EF553B",
            "dash": "solid"
           },
           "marker": {
            "symbol": "circle"
           },
           "mode": "lines+markers",
           "name": "False, last",
           "orientation": "v",
           "showlegend": false,
           "type": "scatter",
           "x": [
            0.32954545454545453
           ],
           "xaxis": "x",
           "y": [
            0.428
           ],
           "yaxis": "y"
          },
          {
           "hovertemplate": "<b>%{hovertext}</b><br><br>main=False<br>type=last<br>step=17<br>name=5<br>x=%{x}<br>y=%{y}<extra></extra>",
           "hovertext": [
            "Last node of 5 <br> reward: 0 <br> action: [1, 3, 4, 0, 2, 5, 4, 5, 0, 5] <br> in system: 1.0"
           ],
           "legendgroup": "False, last",
           "line": {
            "color": "#EF553B",
            "dash": "solid"
           },
           "marker": {
            "symbol": "circle"
           },
           "mode": "lines+markers",
           "name": "False, last",
           "orientation": "v",
           "showlegend": false,
           "type": "scatter",
           "x": [
            0.7613636363636364
           ],
           "xaxis": "x",
           "y": [
            0.86
           ],
           "yaxis": "y"
          },
          {
           "hovertemplate": "<b>%{hovertext}</b><br><br>main=False<br>type=last<br>step=17<br>name=6<br>x=%{x}<br>y=%{y}<extra></extra>",
           "hovertext": [
            "Last node of 6 <br> reward: 0 <br> action: [1, 3, 4, 0, 2, 5, 4, 5, 0, 5] <br> in system: 0.0"
           ],
           "legendgroup": "False, last",
           "line": {
            "color": "#EF553B",
            "dash": "solid"
           },
           "marker": {
            "symbol": "circle"
           },
           "mode": "lines+markers",
           "name": "False, last",
           "orientation": "v",
           "showlegend": false,
           "type": "scatter",
           "x": [
            0
           ],
           "xaxis": "x",
           "y": [
            0
           ],
           "yaxis": "y"
          },
          {
           "hovertemplate": "<b>%{hovertext}</b><br><br>main=False<br>type=last<br>step=17<br>name=7<br>x=%{x}<br>y=%{y}<extra></extra>",
           "hovertext": [
            "Last node of 7 <br> reward: 0 <br> action: [1, 3, 4, 0, 2, 5, 4, 5, 0, 5] <br> in system: 1.0"
           ],
           "legendgroup": "False, last",
           "line": {
            "color": "#EF553B",
            "dash": "solid"
           },
           "marker": {
            "symbol": "circle"
           },
           "mode": "lines+markers",
           "name": "False, last",
           "orientation": "v",
           "showlegend": false,
           "type": "scatter",
           "x": [
            1
           ],
           "xaxis": "x",
           "y": [
            0.76
           ],
           "yaxis": "y"
          },
          {
           "hovertemplate": "<b>%{hovertext}</b><br><br>main=False<br>type=last<br>step=17<br>name=8<br>x=%{x}<br>y=%{y}<extra></extra>",
           "hovertext": [
            "Last node of 8 <br> reward: 0 <br> action: [1, 3, 4, 0, 2, 5, 4, 5, 0, 5] <br> in system: 0.0"
           ],
           "legendgroup": "False, last",
           "line": {
            "color": "#EF553B",
            "dash": "solid"
           },
           "marker": {
            "symbol": "circle"
           },
           "mode": "lines+markers",
           "name": "False, last",
           "orientation": "v",
           "showlegend": false,
           "type": "scatter",
           "x": [
            0
           ],
           "xaxis": "x",
           "y": [
            0
           ],
           "yaxis": "y"
          },
          {
           "hovertemplate": "<b>%{hovertext}</b><br><br>main=False<br>type=last<br>step=17<br>name=9<br>x=%{x}<br>y=%{y}<extra></extra>",
           "hovertext": [
            "Last node of 9 <br> reward: 0 <br> action: [1, 3, 4, 0, 2, 5, 4, 5, 0, 5] <br> in system: 1.0"
           ],
           "legendgroup": "False, last",
           "line": {
            "color": "#EF553B",
            "dash": "solid"
           },
           "marker": {
            "symbol": "circle"
           },
           "mode": "lines+markers",
           "name": "False, last",
           "orientation": "v",
           "showlegend": false,
           "type": "scatter",
           "x": [
            0.4772727272727273
           ],
           "xaxis": "x",
           "y": [
            0.38
           ],
           "yaxis": "y"
          },
          {
           "hovertemplate": "<b>%{hovertext}</b><br><br>main=False<br>type=next<br>step=17<br>name=1<br>x=%{x}<br>y=%{y}<extra></extra>",
           "hovertext": [
            "Next node of 1 <br> reward: 0 <br> action: [1, 3, 4, 0, 2, 5, 4, 5, 0, 5] <br> in system: 1.0"
           ],
           "legendgroup": "False, next",
           "line": {
            "color": "#EF553B",
            "dash": "solid"
           },
           "marker": {
            "symbol": "diamond"
           },
           "mode": "lines+markers",
           "name": "False, next",
           "orientation": "v",
           "showlegend": true,
           "type": "scatter",
           "x": [
            0.32954545454545453
           ],
           "xaxis": "x",
           "y": [
            0.428
           ],
           "yaxis": "y"
          },
          {
           "hovertemplate": "<b>%{hovertext}</b><br><br>main=False<br>type=next<br>step=17<br>name=2<br>x=%{x}<br>y=%{y}<extra></extra>",
           "hovertext": [
            "Next node of 2 <br> reward: 0 <br> action: [1, 3, 4, 0, 2, 5, 4, 5, 0, 5] <br> in system: 0.0"
           ],
           "legendgroup": "False, next",
           "line": {
            "color": "#EF553B",
            "dash": "solid"
           },
           "marker": {
            "symbol": "diamond"
           },
           "mode": "lines+markers",
           "name": "False, next",
           "orientation": "v",
           "showlegend": false,
           "type": "scatter",
           "x": [
            0
           ],
           "xaxis": "x",
           "y": [
            0
           ],
           "yaxis": "y"
          },
          {
           "hovertemplate": "<b>%{hovertext}</b><br><br>main=False<br>type=next<br>step=17<br>name=3<br>x=%{x}<br>y=%{y}<extra></extra>",
           "hovertext": [
            "Next node of 3 <br> reward: 0 <br> action: [1, 3, 4, 0, 2, 5, 4, 5, 0, 5] <br> in system: 0.0"
           ],
           "legendgroup": "False, next",
           "line": {
            "color": "#EF553B",
            "dash": "solid"
           },
           "marker": {
            "symbol": "diamond"
           },
           "mode": "lines+markers",
           "name": "False, next",
           "orientation": "v",
           "showlegend": false,
           "type": "scatter",
           "x": [
            0
           ],
           "xaxis": "x",
           "y": [
            0
           ],
           "yaxis": "y"
          },
          {
           "hovertemplate": "<b>%{hovertext}</b><br><br>main=False<br>type=next<br>step=17<br>name=4<br>x=%{x}<br>y=%{y}<extra></extra>",
           "hovertext": [
            "Next node of 4 <br> reward: 0 <br> action: [1, 3, 4, 0, 2, 5, 4, 5, 0, 5] <br> in system: 1.0"
           ],
           "legendgroup": "False, next",
           "line": {
            "color": "#EF553B",
            "dash": "solid"
           },
           "marker": {
            "symbol": "diamond"
           },
           "mode": "lines+markers",
           "name": "False, next",
           "orientation": "v",
           "showlegend": false,
           "type": "scatter",
           "x": [
            0.32954545454545453
           ],
           "xaxis": "x",
           "y": [
            0.428
           ],
           "yaxis": "y"
          },
          {
           "hovertemplate": "<b>%{hovertext}</b><br><br>main=False<br>type=next<br>step=17<br>name=5<br>x=%{x}<br>y=%{y}<extra></extra>",
           "hovertext": [
            "Next node of 5 <br> reward: 0 <br> action: [1, 3, 4, 0, 2, 5, 4, 5, 0, 5] <br> in system: 1.0"
           ],
           "legendgroup": "False, next",
           "line": {
            "color": "#EF553B",
            "dash": "solid"
           },
           "marker": {
            "symbol": "diamond"
           },
           "mode": "lines+markers",
           "name": "False, next",
           "orientation": "v",
           "showlegend": false,
           "type": "scatter",
           "x": [
            0.6022727272727273
           ],
           "xaxis": "x",
           "y": [
            0.86
           ],
           "yaxis": "y"
          },
          {
           "hovertemplate": "<b>%{hovertext}</b><br><br>main=False<br>type=next<br>step=17<br>name=6<br>x=%{x}<br>y=%{y}<extra></extra>",
           "hovertext": [
            "Next node of 6 <br> reward: 0 <br> action: [1, 3, 4, 0, 2, 5, 4, 5, 0, 5] <br> in system: 0.0"
           ],
           "legendgroup": "False, next",
           "line": {
            "color": "#EF553B",
            "dash": "solid"
           },
           "marker": {
            "symbol": "diamond"
           },
           "mode": "lines+markers",
           "name": "False, next",
           "orientation": "v",
           "showlegend": false,
           "type": "scatter",
           "x": [
            0
           ],
           "xaxis": "x",
           "y": [
            0
           ],
           "yaxis": "y"
          },
          {
           "hovertemplate": "<b>%{hovertext}</b><br><br>main=False<br>type=next<br>step=17<br>name=7<br>x=%{x}<br>y=%{y}<extra></extra>",
           "hovertext": [
            "Next node of 7 <br> reward: 0 <br> action: [1, 3, 4, 0, 2, 5, 4, 5, 0, 5] <br> in system: 1.0"
           ],
           "legendgroup": "False, next",
           "line": {
            "color": "#EF553B",
            "dash": "solid"
           },
           "marker": {
            "symbol": "diamond"
           },
           "mode": "lines+markers",
           "name": "False, next",
           "orientation": "v",
           "showlegend": false,
           "type": "scatter",
           "x": [
            0.9431818181818182
           ],
           "xaxis": "x",
           "y": [
            0.76
           ],
           "yaxis": "y"
          },
          {
           "hovertemplate": "<b>%{hovertext}</b><br><br>main=False<br>type=next<br>step=17<br>name=8<br>x=%{x}<br>y=%{y}<extra></extra>",
           "hovertext": [
            "Next node of 8 <br> reward: 0 <br> action: [1, 3, 4, 0, 2, 5, 4, 5, 0, 5] <br> in system: 0.0"
           ],
           "legendgroup": "False, next",
           "line": {
            "color": "#EF553B",
            "dash": "solid"
           },
           "marker": {
            "symbol": "diamond"
           },
           "mode": "lines+markers",
           "name": "False, next",
           "orientation": "v",
           "showlegend": false,
           "type": "scatter",
           "x": [
            0
           ],
           "xaxis": "x",
           "y": [
            0
           ],
           "yaxis": "y"
          },
          {
           "hovertemplate": "<b>%{hovertext}</b><br><br>main=False<br>type=next<br>step=17<br>name=9<br>x=%{x}<br>y=%{y}<extra></extra>",
           "hovertext": [
            "Next node of 9 <br> reward: 0 <br> action: [1, 3, 4, 0, 2, 5, 4, 5, 0, 5] <br> in system: 1.0"
           ],
           "legendgroup": "False, next",
           "line": {
            "color": "#EF553B",
            "dash": "solid"
           },
           "marker": {
            "symbol": "diamond"
           },
           "mode": "lines+markers",
           "name": "False, next",
           "orientation": "v",
           "showlegend": false,
           "type": "scatter",
           "x": [
            0.4772727272727273
           ],
           "xaxis": "x",
           "y": [
            0.48
           ],
           "yaxis": "y"
          }
         ],
         "name": "17"
        },
        {
         "data": [
          {
           "hovertemplate": "<b>%{hovertext}</b><br><br>main=True<br>type=last<br>step=18<br>name=0<br>x=%{x}<br>y=%{y}<extra></extra>",
           "hovertext": [
            "Last node of 0 <br> reward: 0 <br> action: [3, 2, 5, 1, 2, 3, 5, 2, 4, 3] <br> in system: 1.0"
           ],
           "legendgroup": "True, last",
           "line": {
            "color": "#636efa",
            "dash": "solid"
           },
           "marker": {
            "symbol": "circle"
           },
           "mode": "lines+markers",
           "name": "True, last",
           "orientation": "v",
           "showlegend": true,
           "type": "scatter",
           "x": [
            0.7613636363636364
           ],
           "xaxis": "x",
           "y": [
            0.76
           ],
           "yaxis": "y"
          },
          {
           "hovertemplate": "<b>%{hovertext}</b><br><br>main=True<br>type=next<br>step=18<br>name=0<br>x=%{x}<br>y=%{y}<extra></extra>",
           "hovertext": [
            "Next node of 0 <br> reward: 0 <br> action: [3, 2, 5, 1, 2, 3, 5, 2, 4, 3] <br> in system: 1.0"
           ],
           "legendgroup": "True, next",
           "line": {
            "color": "#636efa",
            "dash": "solid"
           },
           "marker": {
            "symbol": "diamond"
           },
           "mode": "lines+markers",
           "name": "True, next",
           "orientation": "v",
           "showlegend": true,
           "type": "scatter",
           "x": [
            0.6022727272727273
           ],
           "xaxis": "x",
           "y": [
            0.76
           ],
           "yaxis": "y"
          },
          {
           "hovertemplate": "<b>%{hovertext}</b><br><br>main=False<br>type=last<br>step=18<br>name=1<br>x=%{x}<br>y=%{y}<extra></extra>",
           "hovertext": [
            "Last node of 1 <br> reward: 0 <br> action: [3, 2, 5, 1, 2, 3, 5, 2, 4, 3] <br> in system: 1.0"
           ],
           "legendgroup": "False, last",
           "line": {
            "color": "#EF553B",
            "dash": "solid"
           },
           "marker": {
            "symbol": "circle"
           },
           "mode": "lines+markers",
           "name": "False, last",
           "orientation": "v",
           "showlegend": true,
           "type": "scatter",
           "x": [
            0.9431818181818182
           ],
           "xaxis": "x",
           "y": [
            0.76
           ],
           "yaxis": "y"
          },
          {
           "hovertemplate": "<b>%{hovertext}</b><br><br>main=False<br>type=last<br>step=18<br>name=2<br>x=%{x}<br>y=%{y}<extra></extra>",
           "hovertext": [
            "Last node of 2 <br> reward: 0 <br> action: [3, 2, 5, 1, 2, 3, 5, 2, 4, 3] <br> in system: 1.0"
           ],
           "legendgroup": "False, last",
           "line": {
            "color": "#EF553B",
            "dash": "solid"
           },
           "marker": {
            "symbol": "circle"
           },
           "mode": "lines+markers",
           "name": "False, last",
           "orientation": "v",
           "showlegend": false,
           "type": "scatter",
           "x": [
            0.6022727272727273
           ],
           "xaxis": "x",
           "y": [
            0.86
           ],
           "yaxis": "y"
          },
          {
           "hovertemplate": "<b>%{hovertext}</b><br><br>main=False<br>type=last<br>step=18<br>name=3<br>x=%{x}<br>y=%{y}<extra></extra>",
           "hovertext": [
            "Last node of 3 <br> reward: 0 <br> action: [3, 2, 5, 1, 2, 3, 5, 2, 4, 3] <br> in system: 1.0"
           ],
           "legendgroup": "False, last",
           "line": {
            "color": "#EF553B",
            "dash": "solid"
           },
           "marker": {
            "symbol": "circle"
           },
           "mode": "lines+markers",
           "name": "False, last",
           "orientation": "v",
           "showlegend": false,
           "type": "scatter",
           "x": [
            0.42045454545454547
           ],
           "xaxis": "x",
           "y": [
            0.38
           ],
           "yaxis": "y"
          },
          {
           "hovertemplate": "<b>%{hovertext}</b><br><br>main=False<br>type=last<br>step=18<br>name=4<br>x=%{x}<br>y=%{y}<extra></extra>",
           "hovertext": [
            "Last node of 4 <br> reward: 0 <br> action: [3, 2, 5, 1, 2, 3, 5, 2, 4, 3] <br> in system: 1.0"
           ],
           "legendgroup": "False, last",
           "line": {
            "color": "#EF553B",
            "dash": "solid"
           },
           "marker": {
            "symbol": "circle"
           },
           "mode": "lines+markers",
           "name": "False, last",
           "orientation": "v",
           "showlegend": false,
           "type": "scatter",
           "x": [
            0.4772727272727273
           ],
           "xaxis": "x",
           "y": [
            0.48
           ],
           "yaxis": "y"
          },
          {
           "hovertemplate": "<b>%{hovertext}</b><br><br>main=False<br>type=last<br>step=18<br>name=5<br>x=%{x}<br>y=%{y}<extra></extra>",
           "hovertext": [
            "Last node of 5 <br> reward: 0 <br> action: [3, 2, 5, 1, 2, 3, 5, 2, 4, 3] <br> in system: 0.0"
           ],
           "legendgroup": "False, last",
           "line": {
            "color": "#EF553B",
            "dash": "solid"
           },
           "marker": {
            "symbol": "circle"
           },
           "mode": "lines+markers",
           "name": "False, last",
           "orientation": "v",
           "showlegend": false,
           "type": "scatter",
           "x": [
            0
           ],
           "xaxis": "x",
           "y": [
            0
           ],
           "yaxis": "y"
          },
          {
           "hovertemplate": "<b>%{hovertext}</b><br><br>main=False<br>type=last<br>step=18<br>name=6<br>x=%{x}<br>y=%{y}<extra></extra>",
           "hovertext": [
            "Last node of 6 <br> reward: 0 <br> action: [3, 2, 5, 1, 2, 3, 5, 2, 4, 3] <br> in system: 0.0"
           ],
           "legendgroup": "False, last",
           "line": {
            "color": "#EF553B",
            "dash": "solid"
           },
           "marker": {
            "symbol": "circle"
           },
           "mode": "lines+markers",
           "name": "False, last",
           "orientation": "v",
           "showlegend": false,
           "type": "scatter",
           "x": [
            0
           ],
           "xaxis": "x",
           "y": [
            0
           ],
           "yaxis": "y"
          },
          {
           "hovertemplate": "<b>%{hovertext}</b><br><br>main=False<br>type=last<br>step=18<br>name=7<br>x=%{x}<br>y=%{y}<extra></extra>",
           "hovertext": [
            "Last node of 7 <br> reward: 0 <br> action: [3, 2, 5, 1, 2, 3, 5, 2, 4, 3] <br> in system: 0.0"
           ],
           "legendgroup": "False, last",
           "line": {
            "color": "#EF553B",
            "dash": "solid"
           },
           "marker": {
            "symbol": "circle"
           },
           "mode": "lines+markers",
           "name": "False, last",
           "orientation": "v",
           "showlegend": false,
           "type": "scatter",
           "x": [
            0
           ],
           "xaxis": "x",
           "y": [
            0
           ],
           "yaxis": "y"
          },
          {
           "hovertemplate": "<b>%{hovertext}</b><br><br>main=False<br>type=last<br>step=18<br>name=8<br>x=%{x}<br>y=%{y}<extra></extra>",
           "hovertext": [
            "Last node of 8 <br> reward: 0 <br> action: [3, 2, 5, 1, 2, 3, 5, 2, 4, 3] <br> in system: 0.0"
           ],
           "legendgroup": "False, last",
           "line": {
            "color": "#EF553B",
            "dash": "solid"
           },
           "marker": {
            "symbol": "circle"
           },
           "mode": "lines+markers",
           "name": "False, last",
           "orientation": "v",
           "showlegend": false,
           "type": "scatter",
           "x": [
            0
           ],
           "xaxis": "x",
           "y": [
            0
           ],
           "yaxis": "y"
          },
          {
           "hovertemplate": "<b>%{hovertext}</b><br><br>main=False<br>type=last<br>step=18<br>name=9<br>x=%{x}<br>y=%{y}<extra></extra>",
           "hovertext": [
            "Last node of 9 <br> reward: 0 <br> action: [3, 2, 5, 1, 2, 3, 5, 2, 4, 3] <br> in system: 1.0"
           ],
           "legendgroup": "False, last",
           "line": {
            "color": "#EF553B",
            "dash": "solid"
           },
           "marker": {
            "symbol": "circle"
           },
           "mode": "lines+markers",
           "name": "False, last",
           "orientation": "v",
           "showlegend": false,
           "type": "scatter",
           "x": [
            0.32954545454545453
           ],
           "xaxis": "x",
           "y": [
            0.428
           ],
           "yaxis": "y"
          },
          {
           "hovertemplate": "<b>%{hovertext}</b><br><br>main=False<br>type=next<br>step=18<br>name=1<br>x=%{x}<br>y=%{y}<extra></extra>",
           "hovertext": [
            "Next node of 1 <br> reward: 0 <br> action: [3, 2, 5, 1, 2, 3, 5, 2, 4, 3] <br> in system: 1.0"
           ],
           "legendgroup": "False, next",
           "line": {
            "color": "#EF553B",
            "dash": "solid"
           },
           "marker": {
            "symbol": "diamond"
           },
           "mode": "lines+markers",
           "name": "False, next",
           "orientation": "v",
           "showlegend": true,
           "type": "scatter",
           "x": [
            0.8181818181818182
           ],
           "xaxis": "x",
           "y": [
            0.76
           ],
           "yaxis": "y"
          },
          {
           "hovertemplate": "<b>%{hovertext}</b><br><br>main=False<br>type=next<br>step=18<br>name=2<br>x=%{x}<br>y=%{y}<extra></extra>",
           "hovertext": [
            "Next node of 2 <br> reward: 0 <br> action: [3, 2, 5, 1, 2, 3, 5, 2, 4, 3] <br> in system: 1.0"
           ],
           "legendgroup": "False, next",
           "line": {
            "color": "#EF553B",
            "dash": "solid"
           },
           "marker": {
            "symbol": "diamond"
           },
           "mode": "lines+markers",
           "name": "False, next",
           "orientation": "v",
           "showlegend": false,
           "type": "scatter",
           "x": [
            0.5454545454545454
           ],
           "xaxis": "x",
           "y": [
            0.86
           ],
           "yaxis": "y"
          },
          {
           "hovertemplate": "<b>%{hovertext}</b><br><br>main=False<br>type=next<br>step=18<br>name=3<br>x=%{x}<br>y=%{y}<extra></extra>",
           "hovertext": [
            "Next node of 3 <br> reward: 0 <br> action: [3, 2, 5, 1, 2, 3, 5, 2, 4, 3] <br> in system: 1.0"
           ],
           "legendgroup": "False, next",
           "line": {
            "color": "#EF553B",
            "dash": "solid"
           },
           "marker": {
            "symbol": "diamond"
           },
           "mode": "lines+markers",
           "name": "False, next",
           "orientation": "v",
           "showlegend": false,
           "type": "scatter",
           "x": [
            0.32954545454545453
           ],
           "xaxis": "x",
           "y": [
            0.428
           ],
           "yaxis": "y"
          },
          {
           "hovertemplate": "<b>%{hovertext}</b><br><br>main=False<br>type=next<br>step=18<br>name=4<br>x=%{x}<br>y=%{y}<extra></extra>",
           "hovertext": [
            "Next node of 4 <br> reward: 0 <br> action: [3, 2, 5, 1, 2, 3, 5, 2, 4, 3] <br> in system: 1.0"
           ],
           "legendgroup": "False, next",
           "line": {
            "color": "#EF553B",
            "dash": "solid"
           },
           "marker": {
            "symbol": "diamond"
           },
           "mode": "lines+markers",
           "name": "False, next",
           "orientation": "v",
           "showlegend": false,
           "type": "scatter",
           "x": [
            0.42045454545454547
           ],
           "xaxis": "x",
           "y": [
            0.48
           ],
           "yaxis": "y"
          },
          {
           "hovertemplate": "<b>%{hovertext}</b><br><br>main=False<br>type=next<br>step=18<br>name=5<br>x=%{x}<br>y=%{y}<extra></extra>",
           "hovertext": [
            "Next node of 5 <br> reward: 0 <br> action: [3, 2, 5, 1, 2, 3, 5, 2, 4, 3] <br> in system: 0.0"
           ],
           "legendgroup": "False, next",
           "line": {
            "color": "#EF553B",
            "dash": "solid"
           },
           "marker": {
            "symbol": "diamond"
           },
           "mode": "lines+markers",
           "name": "False, next",
           "orientation": "v",
           "showlegend": false,
           "type": "scatter",
           "x": [
            0
           ],
           "xaxis": "x",
           "y": [
            0
           ],
           "yaxis": "y"
          },
          {
           "hovertemplate": "<b>%{hovertext}</b><br><br>main=False<br>type=next<br>step=18<br>name=6<br>x=%{x}<br>y=%{y}<extra></extra>",
           "hovertext": [
            "Next node of 6 <br> reward: 0 <br> action: [3, 2, 5, 1, 2, 3, 5, 2, 4, 3] <br> in system: 0.0"
           ],
           "legendgroup": "False, next",
           "line": {
            "color": "#EF553B",
            "dash": "solid"
           },
           "marker": {
            "symbol": "diamond"
           },
           "mode": "lines+markers",
           "name": "False, next",
           "orientation": "v",
           "showlegend": false,
           "type": "scatter",
           "x": [
            0
           ],
           "xaxis": "x",
           "y": [
            0
           ],
           "yaxis": "y"
          },
          {
           "hovertemplate": "<b>%{hovertext}</b><br><br>main=False<br>type=next<br>step=18<br>name=7<br>x=%{x}<br>y=%{y}<extra></extra>",
           "hovertext": [
            "Next node of 7 <br> reward: 0 <br> action: [3, 2, 5, 1, 2, 3, 5, 2, 4, 3] <br> in system: 0.0"
           ],
           "legendgroup": "False, next",
           "line": {
            "color": "#EF553B",
            "dash": "solid"
           },
           "marker": {
            "symbol": "diamond"
           },
           "mode": "lines+markers",
           "name": "False, next",
           "orientation": "v",
           "showlegend": false,
           "type": "scatter",
           "x": [
            0
           ],
           "xaxis": "x",
           "y": [
            0
           ],
           "yaxis": "y"
          },
          {
           "hovertemplate": "<b>%{hovertext}</b><br><br>main=False<br>type=next<br>step=18<br>name=8<br>x=%{x}<br>y=%{y}<extra></extra>",
           "hovertext": [
            "Next node of 8 <br> reward: 0 <br> action: [3, 2, 5, 1, 2, 3, 5, 2, 4, 3] <br> in system: 0.0"
           ],
           "legendgroup": "False, next",
           "line": {
            "color": "#EF553B",
            "dash": "solid"
           },
           "marker": {
            "symbol": "diamond"
           },
           "mode": "lines+markers",
           "name": "False, next",
           "orientation": "v",
           "showlegend": false,
           "type": "scatter",
           "x": [
            0
           ],
           "xaxis": "x",
           "y": [
            0
           ],
           "yaxis": "y"
          },
          {
           "hovertemplate": "<b>%{hovertext}</b><br><br>main=False<br>type=next<br>step=18<br>name=9<br>x=%{x}<br>y=%{y}<extra></extra>",
           "hovertext": [
            "Next node of 9 <br> reward: 0 <br> action: [3, 2, 5, 1, 2, 3, 5, 2, 4, 3] <br> in system: 1.0"
           ],
           "legendgroup": "False, next",
           "line": {
            "color": "#EF553B",
            "dash": "solid"
           },
           "marker": {
            "symbol": "diamond"
           },
           "mode": "lines+markers",
           "name": "False, next",
           "orientation": "v",
           "showlegend": false,
           "type": "scatter",
           "x": [
            0.32954545454545453
           ],
           "xaxis": "x",
           "y": [
            0.428
           ],
           "yaxis": "y"
          }
         ],
         "name": "18"
        },
        {
         "data": [
          {
           "hovertemplate": "<b>%{hovertext}</b><br><br>main=True<br>type=last<br>step=19<br>name=0<br>x=%{x}<br>y=%{y}<extra></extra>",
           "hovertext": [
            "Last node of 0 <br> reward: 1.0 <br> action: [4, 1, 4, 5, 2, 5, 2, 5, 0, 2] <br> in system: 1.0"
           ],
           "legendgroup": "True, last",
           "line": {
            "color": "#636efa",
            "dash": "solid"
           },
           "marker": {
            "symbol": "circle"
           },
           "mode": "lines+markers",
           "name": "True, last",
           "orientation": "v",
           "showlegend": true,
           "type": "scatter",
           "x": [
            0.7613636363636364
           ],
           "xaxis": "x",
           "y": [
            0.76
           ],
           "yaxis": "y"
          },
          {
           "hovertemplate": "<b>%{hovertext}</b><br><br>main=True<br>type=next<br>step=19<br>name=0<br>x=%{x}<br>y=%{y}<extra></extra>",
           "hovertext": [
            "Next node of 0 <br> reward: 1.0 <br> action: [4, 1, 4, 5, 2, 5, 2, 5, 0, 2] <br> in system: 1.0"
           ],
           "legendgroup": "True, next",
           "line": {
            "color": "#636efa",
            "dash": "solid"
           },
           "marker": {
            "symbol": "diamond"
           },
           "mode": "lines+markers",
           "name": "True, next",
           "orientation": "v",
           "showlegend": true,
           "type": "scatter",
           "x": [
            0.6022727272727273
           ],
           "xaxis": "x",
           "y": [
            0.76
           ],
           "yaxis": "y"
          },
          {
           "hovertemplate": "<b>%{hovertext}</b><br><br>main=False<br>type=last<br>step=19<br>name=1<br>x=%{x}<br>y=%{y}<extra></extra>",
           "hovertext": [
            "Last node of 1 <br> reward: 1.0 <br> action: [4, 1, 4, 5, 2, 5, 2, 5, 0, 2] <br> in system: 1.0"
           ],
           "legendgroup": "False, last",
           "line": {
            "color": "#EF553B",
            "dash": "solid"
           },
           "marker": {
            "symbol": "circle"
           },
           "mode": "lines+markers",
           "name": "False, last",
           "orientation": "v",
           "showlegend": true,
           "type": "scatter",
           "x": [
            0.42045454545454547
           ],
           "xaxis": "x",
           "y": [
            0.38
           ],
           "yaxis": "y"
          },
          {
           "hovertemplate": "<b>%{hovertext}</b><br><br>main=False<br>type=last<br>step=19<br>name=2<br>x=%{x}<br>y=%{y}<extra></extra>",
           "hovertext": [
            "Last node of 2 <br> reward: 1.0 <br> action: [4, 1, 4, 5, 2, 5, 2, 5, 0, 2] <br> in system: 1.0"
           ],
           "legendgroup": "False, last",
           "line": {
            "color": "#EF553B",
            "dash": "solid"
           },
           "marker": {
            "symbol": "circle"
           },
           "mode": "lines+markers",
           "name": "False, last",
           "orientation": "v",
           "showlegend": false,
           "type": "scatter",
           "x": [
            0.6022727272727273
           ],
           "xaxis": "x",
           "y": [
            0.86
           ],
           "yaxis": "y"
          },
          {
           "hovertemplate": "<b>%{hovertext}</b><br><br>main=False<br>type=last<br>step=19<br>name=3<br>x=%{x}<br>y=%{y}<extra></extra>",
           "hovertext": [
            "Last node of 3 <br> reward: 1.0 <br> action: [4, 1, 4, 5, 2, 5, 2, 5, 0, 2] <br> in system: 0.0"
           ],
           "legendgroup": "False, last",
           "line": {
            "color": "#EF553B",
            "dash": "solid"
           },
           "marker": {
            "symbol": "circle"
           },
           "mode": "lines+markers",
           "name": "False, last",
           "orientation": "v",
           "showlegend": false,
           "type": "scatter",
           "x": [
            0
           ],
           "xaxis": "x",
           "y": [
            0
           ],
           "yaxis": "y"
          },
          {
           "hovertemplate": "<b>%{hovertext}</b><br><br>main=False<br>type=last<br>step=19<br>name=4<br>x=%{x}<br>y=%{y}<extra></extra>",
           "hovertext": [
            "Last node of 4 <br> reward: 1.0 <br> action: [4, 1, 4, 5, 2, 5, 2, 5, 0, 2] <br> in system: 1.0"
           ],
           "legendgroup": "False, last",
           "line": {
            "color": "#EF553B",
            "dash": "solid"
           },
           "marker": {
            "symbol": "circle"
           },
           "mode": "lines+markers",
           "name": "False, last",
           "orientation": "v",
           "showlegend": false,
           "type": "scatter",
           "x": [
            0.9431818181818182
           ],
           "xaxis": "x",
           "y": [
            0.76
           ],
           "yaxis": "y"
          },
          {
           "hovertemplate": "<b>%{hovertext}</b><br><br>main=False<br>type=last<br>step=19<br>name=5<br>x=%{x}<br>y=%{y}<extra></extra>",
           "hovertext": [
            "Last node of 5 <br> reward: 1.0 <br> action: [4, 1, 4, 5, 2, 5, 2, 5, 0, 2] <br> in system: 0.0"
           ],
           "legendgroup": "False, last",
           "line": {
            "color": "#EF553B",
            "dash": "solid"
           },
           "marker": {
            "symbol": "circle"
           },
           "mode": "lines+markers",
           "name": "False, last",
           "orientation": "v",
           "showlegend": false,
           "type": "scatter",
           "x": [
            0
           ],
           "xaxis": "x",
           "y": [
            0
           ],
           "yaxis": "y"
          },
          {
           "hovertemplate": "<b>%{hovertext}</b><br><br>main=False<br>type=last<br>step=19<br>name=6<br>x=%{x}<br>y=%{y}<extra></extra>",
           "hovertext": [
            "Last node of 6 <br> reward: 1.0 <br> action: [4, 1, 4, 5, 2, 5, 2, 5, 0, 2] <br> in system: 1.0"
           ],
           "legendgroup": "False, last",
           "line": {
            "color": "#EF553B",
            "dash": "solid"
           },
           "marker": {
            "symbol": "circle"
           },
           "mode": "lines+markers",
           "name": "False, last",
           "orientation": "v",
           "showlegend": false,
           "type": "scatter",
           "x": [
            0.32954545454545453
           ],
           "xaxis": "x",
           "y": [
            0.428
           ],
           "yaxis": "y"
          },
          {
           "hovertemplate": "<b>%{hovertext}</b><br><br>main=False<br>type=last<br>step=19<br>name=7<br>x=%{x}<br>y=%{y}<extra></extra>",
           "hovertext": [
            "Last node of 7 <br> reward: 1.0 <br> action: [4, 1, 4, 5, 2, 5, 2, 5, 0, 2] <br> in system: 1.0"
           ],
           "legendgroup": "False, last",
           "line": {
            "color": "#EF553B",
            "dash": "solid"
           },
           "marker": {
            "symbol": "circle"
           },
           "mode": "lines+markers",
           "name": "False, last",
           "orientation": "v",
           "showlegend": false,
           "type": "scatter",
           "x": [
            0.42045454545454547
           ],
           "xaxis": "x",
           "y": [
            0.48
           ],
           "yaxis": "y"
          },
          {
           "hovertemplate": "<b>%{hovertext}</b><br><br>main=False<br>type=last<br>step=19<br>name=8<br>x=%{x}<br>y=%{y}<extra></extra>",
           "hovertext": [
            "Last node of 8 <br> reward: 1.0 <br> action: [4, 1, 4, 5, 2, 5, 2, 5, 0, 2] <br> in system: 0.0"
           ],
           "legendgroup": "False, last",
           "line": {
            "color": "#EF553B",
            "dash": "solid"
           },
           "marker": {
            "symbol": "circle"
           },
           "mode": "lines+markers",
           "name": "False, last",
           "orientation": "v",
           "showlegend": false,
           "type": "scatter",
           "x": [
            0
           ],
           "xaxis": "x",
           "y": [
            0
           ],
           "yaxis": "y"
          },
          {
           "hovertemplate": "<b>%{hovertext}</b><br><br>main=False<br>type=last<br>step=19<br>name=9<br>x=%{x}<br>y=%{y}<extra></extra>",
           "hovertext": [
            "Last node of 9 <br> reward: 1.0 <br> action: [4, 1, 4, 5, 2, 5, 2, 5, 0, 2] <br> in system: 0.0"
           ],
           "legendgroup": "False, last",
           "line": {
            "color": "#EF553B",
            "dash": "solid"
           },
           "marker": {
            "symbol": "circle"
           },
           "mode": "lines+markers",
           "name": "False, last",
           "orientation": "v",
           "showlegend": false,
           "type": "scatter",
           "x": [
            0
           ],
           "xaxis": "x",
           "y": [
            0
           ],
           "yaxis": "y"
          },
          {
           "hovertemplate": "<b>%{hovertext}</b><br><br>main=False<br>type=next<br>step=19<br>name=1<br>x=%{x}<br>y=%{y}<extra></extra>",
           "hovertext": [
            "Next node of 1 <br> reward: 1.0 <br> action: [4, 1, 4, 5, 2, 5, 2, 5, 0, 2] <br> in system: 1.0"
           ],
           "legendgroup": "False, next",
           "line": {
            "color": "#EF553B",
            "dash": "solid"
           },
           "marker": {
            "symbol": "diamond"
           },
           "mode": "lines+markers",
           "name": "False, next",
           "orientation": "v",
           "showlegend": true,
           "type": "scatter",
           "x": [
            0.32954545454545453
           ],
           "xaxis": "x",
           "y": [
            0.428
           ],
           "yaxis": "y"
          },
          {
           "hovertemplate": "<b>%{hovertext}</b><br><br>main=False<br>type=next<br>step=19<br>name=2<br>x=%{x}<br>y=%{y}<extra></extra>",
           "hovertext": [
            "Next node of 2 <br> reward: 1.0 <br> action: [4, 1, 4, 5, 2, 5, 2, 5, 0, 2] <br> in system: 1.0"
           ],
           "legendgroup": "False, next",
           "line": {
            "color": "#EF553B",
            "dash": "solid"
           },
           "marker": {
            "symbol": "diamond"
           },
           "mode": "lines+markers",
           "name": "False, next",
           "orientation": "v",
           "showlegend": false,
           "type": "scatter",
           "x": [
            0.5454545454545454
           ],
           "xaxis": "x",
           "y": [
            0.86
           ],
           "yaxis": "y"
          },
          {
           "hovertemplate": "<b>%{hovertext}</b><br><br>main=False<br>type=next<br>step=19<br>name=3<br>x=%{x}<br>y=%{y}<extra></extra>",
           "hovertext": [
            "Next node of 3 <br> reward: 1.0 <br> action: [4, 1, 4, 5, 2, 5, 2, 5, 0, 2] <br> in system: 0.0"
           ],
           "legendgroup": "False, next",
           "line": {
            "color": "#EF553B",
            "dash": "solid"
           },
           "marker": {
            "symbol": "diamond"
           },
           "mode": "lines+markers",
           "name": "False, next",
           "orientation": "v",
           "showlegend": false,
           "type": "scatter",
           "x": [
            0
           ],
           "xaxis": "x",
           "y": [
            0
           ],
           "yaxis": "y"
          },
          {
           "hovertemplate": "<b>%{hovertext}</b><br><br>main=False<br>type=next<br>step=19<br>name=4<br>x=%{x}<br>y=%{y}<extra></extra>",
           "hovertext": [
            "Next node of 4 <br> reward: 1.0 <br> action: [4, 1, 4, 5, 2, 5, 2, 5, 0, 2] <br> in system: 1.0"
           ],
           "legendgroup": "False, next",
           "line": {
            "color": "#EF553B",
            "dash": "solid"
           },
           "marker": {
            "symbol": "diamond"
           },
           "mode": "lines+markers",
           "name": "False, next",
           "orientation": "v",
           "showlegend": false,
           "type": "scatter",
           "x": [
            0.8181818181818182
           ],
           "xaxis": "x",
           "y": [
            0.76
           ],
           "yaxis": "y"
          },
          {
           "hovertemplate": "<b>%{hovertext}</b><br><br>main=False<br>type=next<br>step=19<br>name=5<br>x=%{x}<br>y=%{y}<extra></extra>",
           "hovertext": [
            "Next node of 5 <br> reward: 1.0 <br> action: [4, 1, 4, 5, 2, 5, 2, 5, 0, 2] <br> in system: 0.0"
           ],
           "legendgroup": "False, next",
           "line": {
            "color": "#EF553B",
            "dash": "solid"
           },
           "marker": {
            "symbol": "diamond"
           },
           "mode": "lines+markers",
           "name": "False, next",
           "orientation": "v",
           "showlegend": false,
           "type": "scatter",
           "x": [
            0
           ],
           "xaxis": "x",
           "y": [
            0
           ],
           "yaxis": "y"
          },
          {
           "hovertemplate": "<b>%{hovertext}</b><br><br>main=False<br>type=next<br>step=19<br>name=6<br>x=%{x}<br>y=%{y}<extra></extra>",
           "hovertext": [
            "Next node of 6 <br> reward: 1.0 <br> action: [4, 1, 4, 5, 2, 5, 2, 5, 0, 2] <br> in system: 1.0"
           ],
           "legendgroup": "False, next",
           "line": {
            "color": "#EF553B",
            "dash": "solid"
           },
           "marker": {
            "symbol": "diamond"
           },
           "mode": "lines+markers",
           "name": "False, next",
           "orientation": "v",
           "showlegend": false,
           "type": "scatter",
           "x": [
            0.32954545454545453
           ],
           "xaxis": "x",
           "y": [
            0.428
           ],
           "yaxis": "y"
          },
          {
           "hovertemplate": "<b>%{hovertext}</b><br><br>main=False<br>type=next<br>step=19<br>name=7<br>x=%{x}<br>y=%{y}<extra></extra>",
           "hovertext": [
            "Next node of 7 <br> reward: 1.0 <br> action: [4, 1, 4, 5, 2, 5, 2, 5, 0, 2] <br> in system: 1.0"
           ],
           "legendgroup": "False, next",
           "line": {
            "color": "#EF553B",
            "dash": "solid"
           },
           "marker": {
            "symbol": "diamond"
           },
           "mode": "lines+markers",
           "name": "False, next",
           "orientation": "v",
           "showlegend": false,
           "type": "scatter",
           "x": [
            0.42045454545454547
           ],
           "xaxis": "x",
           "y": [
            0.38
           ],
           "yaxis": "y"
          },
          {
           "hovertemplate": "<b>%{hovertext}</b><br><br>main=False<br>type=next<br>step=19<br>name=8<br>x=%{x}<br>y=%{y}<extra></extra>",
           "hovertext": [
            "Next node of 8 <br> reward: 1.0 <br> action: [4, 1, 4, 5, 2, 5, 2, 5, 0, 2] <br> in system: 0.0"
           ],
           "legendgroup": "False, next",
           "line": {
            "color": "#EF553B",
            "dash": "solid"
           },
           "marker": {
            "symbol": "diamond"
           },
           "mode": "lines+markers",
           "name": "False, next",
           "orientation": "v",
           "showlegend": false,
           "type": "scatter",
           "x": [
            0
           ],
           "xaxis": "x",
           "y": [
            0
           ],
           "yaxis": "y"
          },
          {
           "hovertemplate": "<b>%{hovertext}</b><br><br>main=False<br>type=next<br>step=19<br>name=9<br>x=%{x}<br>y=%{y}<extra></extra>",
           "hovertext": [
            "Next node of 9 <br> reward: 1.0 <br> action: [4, 1, 4, 5, 2, 5, 2, 5, 0, 2] <br> in system: 0.0"
           ],
           "legendgroup": "False, next",
           "line": {
            "color": "#EF553B",
            "dash": "solid"
           },
           "marker": {
            "symbol": "diamond"
           },
           "mode": "lines+markers",
           "name": "False, next",
           "orientation": "v",
           "showlegend": false,
           "type": "scatter",
           "x": [
            0
           ],
           "xaxis": "x",
           "y": [
            0
           ],
           "yaxis": "y"
          }
         ],
         "name": "19"
        },
        {
         "data": [
          {
           "hovertemplate": "<b>%{hovertext}</b><br><br>main=True<br>type=last<br>step=20<br>name=0<br>x=%{x}<br>y=%{y}<extra></extra>",
           "hovertext": [
            "Last node of 0 <br> reward: 0 <br> action: [3, 4, 2, 0, 5, 2, 3, 1, 2, 0] <br> in system: 1.0"
           ],
           "legendgroup": "True, last",
           "line": {
            "color": "#636efa",
            "dash": "solid"
           },
           "marker": {
            "symbol": "circle"
           },
           "mode": "lines+markers",
           "name": "True, last",
           "orientation": "v",
           "showlegend": true,
           "type": "scatter",
           "x": [
            0.6022727272727273
           ],
           "xaxis": "x",
           "y": [
            0.76
           ],
           "yaxis": "y"
          },
          {
           "hovertemplate": "<b>%{hovertext}</b><br><br>main=True<br>type=next<br>step=20<br>name=0<br>x=%{x}<br>y=%{y}<extra></extra>",
           "hovertext": [
            "Next node of 0 <br> reward: 0 <br> action: [3, 4, 2, 0, 5, 2, 3, 1, 2, 0] <br> in system: 1.0"
           ],
           "legendgroup": "True, next",
           "line": {
            "color": "#636efa",
            "dash": "solid"
           },
           "marker": {
            "symbol": "diamond"
           },
           "mode": "lines+markers",
           "name": "True, next",
           "orientation": "v",
           "showlegend": true,
           "type": "scatter",
           "x": [
            0.6022727272727273
           ],
           "xaxis": "x",
           "y": [
            0.86
           ],
           "yaxis": "y"
          },
          {
           "hovertemplate": "<b>%{hovertext}</b><br><br>main=False<br>type=last<br>step=20<br>name=1<br>x=%{x}<br>y=%{y}<extra></extra>",
           "hovertext": [
            "Last node of 1 <br> reward: 0 <br> action: [3, 4, 2, 0, 5, 2, 3, 1, 2, 0] <br> in system: 1.0"
           ],
           "legendgroup": "False, last",
           "line": {
            "color": "#EF553B",
            "dash": "solid"
           },
           "marker": {
            "symbol": "circle"
           },
           "mode": "lines+markers",
           "name": "False, last",
           "orientation": "v",
           "showlegend": true,
           "type": "scatter",
           "x": [
            0.8181818181818182
           ],
           "xaxis": "x",
           "y": [
            0.76
           ],
           "yaxis": "y"
          },
          {
           "hovertemplate": "<b>%{hovertext}</b><br><br>main=False<br>type=last<br>step=20<br>name=2<br>x=%{x}<br>y=%{y}<extra></extra>",
           "hovertext": [
            "Last node of 2 <br> reward: 0 <br> action: [3, 4, 2, 0, 5, 2, 3, 1, 2, 0] <br> in system: 0.0"
           ],
           "legendgroup": "False, last",
           "line": {
            "color": "#EF553B",
            "dash": "solid"
           },
           "marker": {
            "symbol": "circle"
           },
           "mode": "lines+markers",
           "name": "False, last",
           "orientation": "v",
           "showlegend": false,
           "type": "scatter",
           "x": [
            0
           ],
           "xaxis": "x",
           "y": [
            0
           ],
           "yaxis": "y"
          },
          {
           "hovertemplate": "<b>%{hovertext}</b><br><br>main=False<br>type=last<br>step=20<br>name=3<br>x=%{x}<br>y=%{y}<extra></extra>",
           "hovertext": [
            "Last node of 3 <br> reward: 0 <br> action: [3, 4, 2, 0, 5, 2, 3, 1, 2, 0] <br> in system: 1.0"
           ],
           "legendgroup": "False, last",
           "line": {
            "color": "#EF553B",
            "dash": "solid"
           },
           "marker": {
            "symbol": "circle"
           },
           "mode": "lines+markers",
           "name": "False, last",
           "orientation": "v",
           "showlegend": false,
           "type": "scatter",
           "x": [
            0.42045454545454547
           ],
           "xaxis": "x",
           "y": [
            0.48
           ],
           "yaxis": "y"
          },
          {
           "hovertemplate": "<b>%{hovertext}</b><br><br>main=False<br>type=last<br>step=20<br>name=4<br>x=%{x}<br>y=%{y}<extra></extra>",
           "hovertext": [
            "Last node of 4 <br> reward: 0 <br> action: [3, 4, 2, 0, 5, 2, 3, 1, 2, 0] <br> in system: 1.0"
           ],
           "legendgroup": "False, last",
           "line": {
            "color": "#EF553B",
            "dash": "solid"
           },
           "marker": {
            "symbol": "circle"
           },
           "mode": "lines+markers",
           "name": "False, last",
           "orientation": "v",
           "showlegend": false,
           "type": "scatter",
           "x": [
            0.6022727272727273
           ],
           "xaxis": "x",
           "y": [
            0.86
           ],
           "yaxis": "y"
          },
          {
           "hovertemplate": "<b>%{hovertext}</b><br><br>main=False<br>type=last<br>step=20<br>name=5<br>x=%{x}<br>y=%{y}<extra></extra>",
           "hovertext": [
            "Last node of 5 <br> reward: 0 <br> action: [3, 4, 2, 0, 5, 2, 3, 1, 2, 0] <br> in system: 0.0"
           ],
           "legendgroup": "False, last",
           "line": {
            "color": "#EF553B",
            "dash": "solid"
           },
           "marker": {
            "symbol": "circle"
           },
           "mode": "lines+markers",
           "name": "False, last",
           "orientation": "v",
           "showlegend": false,
           "type": "scatter",
           "x": [
            0
           ],
           "xaxis": "x",
           "y": [
            0
           ],
           "yaxis": "y"
          },
          {
           "hovertemplate": "<b>%{hovertext}</b><br><br>main=False<br>type=last<br>step=20<br>name=6<br>x=%{x}<br>y=%{y}<extra></extra>",
           "hovertext": [
            "Last node of 6 <br> reward: 0 <br> action: [3, 4, 2, 0, 5, 2, 3, 1, 2, 0] <br> in system: 0.0"
           ],
           "legendgroup": "False, last",
           "line": {
            "color": "#EF553B",
            "dash": "solid"
           },
           "marker": {
            "symbol": "circle"
           },
           "mode": "lines+markers",
           "name": "False, last",
           "orientation": "v",
           "showlegend": false,
           "type": "scatter",
           "x": [
            0
           ],
           "xaxis": "x",
           "y": [
            0
           ],
           "yaxis": "y"
          },
          {
           "hovertemplate": "<b>%{hovertext}</b><br><br>main=False<br>type=last<br>step=20<br>name=7<br>x=%{x}<br>y=%{y}<extra></extra>",
           "hovertext": [
            "Last node of 7 <br> reward: 0 <br> action: [3, 4, 2, 0, 5, 2, 3, 1, 2, 0] <br> in system: 1.0"
           ],
           "legendgroup": "False, last",
           "line": {
            "color": "#EF553B",
            "dash": "solid"
           },
           "marker": {
            "symbol": "circle"
           },
           "mode": "lines+markers",
           "name": "False, last",
           "orientation": "v",
           "showlegend": false,
           "type": "scatter",
           "x": [
            0.32954545454545453
           ],
           "xaxis": "x",
           "y": [
            0.428
           ],
           "yaxis": "y"
          },
          {
           "hovertemplate": "<b>%{hovertext}</b><br><br>main=False<br>type=last<br>step=20<br>name=8<br>x=%{x}<br>y=%{y}<extra></extra>",
           "hovertext": [
            "Last node of 8 <br> reward: 0 <br> action: [3, 4, 2, 0, 5, 2, 3, 1, 2, 0] <br> in system: 1.0"
           ],
           "legendgroup": "False, last",
           "line": {
            "color": "#EF553B",
            "dash": "solid"
           },
           "marker": {
            "symbol": "circle"
           },
           "mode": "lines+markers",
           "name": "False, last",
           "orientation": "v",
           "showlegend": false,
           "type": "scatter",
           "x": [
            0.42045454545454547
           ],
           "xaxis": "x",
           "y": [
            0.38
           ],
           "yaxis": "y"
          },
          {
           "hovertemplate": "<b>%{hovertext}</b><br><br>main=False<br>type=last<br>step=20<br>name=9<br>x=%{x}<br>y=%{y}<extra></extra>",
           "hovertext": [
            "Last node of 9 <br> reward: 0 <br> action: [3, 4, 2, 0, 5, 2, 3, 1, 2, 0] <br> in system: 0.0"
           ],
           "legendgroup": "False, last",
           "line": {
            "color": "#EF553B",
            "dash": "solid"
           },
           "marker": {
            "symbol": "circle"
           },
           "mode": "lines+markers",
           "name": "False, last",
           "orientation": "v",
           "showlegend": false,
           "type": "scatter",
           "x": [
            0
           ],
           "xaxis": "x",
           "y": [
            0
           ],
           "yaxis": "y"
          },
          {
           "hovertemplate": "<b>%{hovertext}</b><br><br>main=False<br>type=next<br>step=20<br>name=1<br>x=%{x}<br>y=%{y}<extra></extra>",
           "hovertext": [
            "Next node of 1 <br> reward: 0 <br> action: [3, 4, 2, 0, 5, 2, 3, 1, 2, 0] <br> in system: 1.0"
           ],
           "legendgroup": "False, next",
           "line": {
            "color": "#EF553B",
            "dash": "solid"
           },
           "marker": {
            "symbol": "diamond"
           },
           "mode": "lines+markers",
           "name": "False, next",
           "orientation": "v",
           "showlegend": true,
           "type": "scatter",
           "x": [
            0.8181818181818182
           ],
           "xaxis": "x",
           "y": [
            0.86
           ],
           "yaxis": "y"
          },
          {
           "hovertemplate": "<b>%{hovertext}</b><br><br>main=False<br>type=next<br>step=20<br>name=2<br>x=%{x}<br>y=%{y}<extra></extra>",
           "hovertext": [
            "Next node of 2 <br> reward: 0 <br> action: [3, 4, 2, 0, 5, 2, 3, 1, 2, 0] <br> in system: 0.0"
           ],
           "legendgroup": "False, next",
           "line": {
            "color": "#EF553B",
            "dash": "solid"
           },
           "marker": {
            "symbol": "diamond"
           },
           "mode": "lines+markers",
           "name": "False, next",
           "orientation": "v",
           "showlegend": false,
           "type": "scatter",
           "x": [
            0
           ],
           "xaxis": "x",
           "y": [
            0
           ],
           "yaxis": "y"
          },
          {
           "hovertemplate": "<b>%{hovertext}</b><br><br>main=False<br>type=next<br>step=20<br>name=3<br>x=%{x}<br>y=%{y}<extra></extra>",
           "hovertext": [
            "Next node of 3 <br> reward: 0 <br> action: [3, 4, 2, 0, 5, 2, 3, 1, 2, 0] <br> in system: 1.0"
           ],
           "legendgroup": "False, next",
           "line": {
            "color": "#EF553B",
            "dash": "solid"
           },
           "marker": {
            "symbol": "diamond"
           },
           "mode": "lines+markers",
           "name": "False, next",
           "orientation": "v",
           "showlegend": false,
           "type": "scatter",
           "x": [
            0.42045454545454547
           ],
           "xaxis": "x",
           "y": [
            0.38
           ],
           "yaxis": "y"
          },
          {
           "hovertemplate": "<b>%{hovertext}</b><br><br>main=False<br>type=next<br>step=20<br>name=4<br>x=%{x}<br>y=%{y}<extra></extra>",
           "hovertext": [
            "Next node of 4 <br> reward: 0 <br> action: [3, 4, 2, 0, 5, 2, 3, 1, 2, 0] <br> in system: 1.0"
           ],
           "legendgroup": "False, next",
           "line": {
            "color": "#EF553B",
            "dash": "solid"
           },
           "marker": {
            "symbol": "diamond"
           },
           "mode": "lines+markers",
           "name": "False, next",
           "orientation": "v",
           "showlegend": false,
           "type": "scatter",
           "x": [
            0.5454545454545454
           ],
           "xaxis": "x",
           "y": [
            0.86
           ],
           "yaxis": "y"
          },
          {
           "hovertemplate": "<b>%{hovertext}</b><br><br>main=False<br>type=next<br>step=20<br>name=5<br>x=%{x}<br>y=%{y}<extra></extra>",
           "hovertext": [
            "Next node of 5 <br> reward: 0 <br> action: [3, 4, 2, 0, 5, 2, 3, 1, 2, 0] <br> in system: 0.0"
           ],
           "legendgroup": "False, next",
           "line": {
            "color": "#EF553B",
            "dash": "solid"
           },
           "marker": {
            "symbol": "diamond"
           },
           "mode": "lines+markers",
           "name": "False, next",
           "orientation": "v",
           "showlegend": false,
           "type": "scatter",
           "x": [
            0
           ],
           "xaxis": "x",
           "y": [
            0
           ],
           "yaxis": "y"
          },
          {
           "hovertemplate": "<b>%{hovertext}</b><br><br>main=False<br>type=next<br>step=20<br>name=6<br>x=%{x}<br>y=%{y}<extra></extra>",
           "hovertext": [
            "Next node of 6 <br> reward: 0 <br> action: [3, 4, 2, 0, 5, 2, 3, 1, 2, 0] <br> in system: 0.0"
           ],
           "legendgroup": "False, next",
           "line": {
            "color": "#EF553B",
            "dash": "solid"
           },
           "marker": {
            "symbol": "diamond"
           },
           "mode": "lines+markers",
           "name": "False, next",
           "orientation": "v",
           "showlegend": false,
           "type": "scatter",
           "x": [
            0
           ],
           "xaxis": "x",
           "y": [
            0
           ],
           "yaxis": "y"
          },
          {
           "hovertemplate": "<b>%{hovertext}</b><br><br>main=False<br>type=next<br>step=20<br>name=7<br>x=%{x}<br>y=%{y}<extra></extra>",
           "hovertext": [
            "Next node of 7 <br> reward: 0 <br> action: [3, 4, 2, 0, 5, 2, 3, 1, 2, 0] <br> in system: 1.0"
           ],
           "legendgroup": "False, next",
           "line": {
            "color": "#EF553B",
            "dash": "solid"
           },
           "marker": {
            "symbol": "diamond"
           },
           "mode": "lines+markers",
           "name": "False, next",
           "orientation": "v",
           "showlegend": false,
           "type": "scatter",
           "x": [
            0.32954545454545453
           ],
           "xaxis": "x",
           "y": [
            0.428
           ],
           "yaxis": "y"
          },
          {
           "hovertemplate": "<b>%{hovertext}</b><br><br>main=False<br>type=next<br>step=20<br>name=8<br>x=%{x}<br>y=%{y}<extra></extra>",
           "hovertext": [
            "Next node of 8 <br> reward: 0 <br> action: [3, 4, 2, 0, 5, 2, 3, 1, 2, 0] <br> in system: 1.0"
           ],
           "legendgroup": "False, next",
           "line": {
            "color": "#EF553B",
            "dash": "solid"
           },
           "marker": {
            "symbol": "diamond"
           },
           "mode": "lines+markers",
           "name": "False, next",
           "orientation": "v",
           "showlegend": false,
           "type": "scatter",
           "x": [
            0.32954545454545453
           ],
           "xaxis": "x",
           "y": [
            0.428
           ],
           "yaxis": "y"
          },
          {
           "hovertemplate": "<b>%{hovertext}</b><br><br>main=False<br>type=next<br>step=20<br>name=9<br>x=%{x}<br>y=%{y}<extra></extra>",
           "hovertext": [
            "Next node of 9 <br> reward: 0 <br> action: [3, 4, 2, 0, 5, 2, 3, 1, 2, 0] <br> in system: 0.0"
           ],
           "legendgroup": "False, next",
           "line": {
            "color": "#EF553B",
            "dash": "solid"
           },
           "marker": {
            "symbol": "diamond"
           },
           "mode": "lines+markers",
           "name": "False, next",
           "orientation": "v",
           "showlegend": false,
           "type": "scatter",
           "x": [
            0
           ],
           "xaxis": "x",
           "y": [
            0
           ],
           "yaxis": "y"
          }
         ],
         "name": "20"
        },
        {
         "data": [
          {
           "hovertemplate": "<b>%{hovertext}</b><br><br>main=True<br>type=last<br>step=21<br>name=0<br>x=%{x}<br>y=%{y}<extra></extra>",
           "hovertext": [
            "Last node of 0 <br> reward: 0 <br> action: [5, 4, 0, 0, 0, 0, 4, 1, 5, 5] <br> in system: 1.0"
           ],
           "legendgroup": "True, last",
           "line": {
            "color": "#636efa",
            "dash": "solid"
           },
           "marker": {
            "symbol": "circle"
           },
           "mode": "lines+markers",
           "name": "True, last",
           "orientation": "v",
           "showlegend": true,
           "type": "scatter",
           "x": [
            0.6022727272727273
           ],
           "xaxis": "x",
           "y": [
            0.86
           ],
           "yaxis": "y"
          },
          {
           "hovertemplate": "<b>%{hovertext}</b><br><br>main=True<br>type=next<br>step=21<br>name=0<br>x=%{x}<br>y=%{y}<extra></extra>",
           "hovertext": [
            "Next node of 0 <br> reward: 0 <br> action: [5, 4, 0, 0, 0, 0, 4, 1, 5, 5] <br> in system: 1.0"
           ],
           "legendgroup": "True, next",
           "line": {
            "color": "#636efa",
            "dash": "solid"
           },
           "marker": {
            "symbol": "diamond"
           },
           "mode": "lines+markers",
           "name": "True, next",
           "orientation": "v",
           "showlegend": true,
           "type": "scatter",
           "x": [
            0.7613636363636364
           ],
           "xaxis": "x",
           "y": [
            0.86
           ],
           "yaxis": "y"
          },
          {
           "hovertemplate": "<b>%{hovertext}</b><br><br>main=False<br>type=last<br>step=21<br>name=1<br>x=%{x}<br>y=%{y}<extra></extra>",
           "hovertext": [
            "Last node of 1 <br> reward: 0 <br> action: [5, 4, 0, 0, 0, 0, 4, 1, 5, 5] <br> in system: 1.0"
           ],
           "legendgroup": "False, last",
           "line": {
            "color": "#EF553B",
            "dash": "solid"
           },
           "marker": {
            "symbol": "circle"
           },
           "mode": "lines+markers",
           "name": "False, last",
           "orientation": "v",
           "showlegend": true,
           "type": "scatter",
           "x": [
            0.8181818181818182
           ],
           "xaxis": "x",
           "y": [
            0.86
           ],
           "yaxis": "y"
          },
          {
           "hovertemplate": "<b>%{hovertext}</b><br><br>main=False<br>type=last<br>step=21<br>name=2<br>x=%{x}<br>y=%{y}<extra></extra>",
           "hovertext": [
            "Last node of 2 <br> reward: 0 <br> action: [5, 4, 0, 0, 0, 0, 4, 1, 5, 5] <br> in system: 1.0"
           ],
           "legendgroup": "False, last",
           "line": {
            "color": "#EF553B",
            "dash": "solid"
           },
           "marker": {
            "symbol": "circle"
           },
           "mode": "lines+markers",
           "name": "False, last",
           "orientation": "v",
           "showlegend": false,
           "type": "scatter",
           "x": [
            0.32954545454545453
           ],
           "xaxis": "x",
           "y": [
            0.428
           ],
           "yaxis": "y"
          },
          {
           "hovertemplate": "<b>%{hovertext}</b><br><br>main=False<br>type=last<br>step=21<br>name=3<br>x=%{x}<br>y=%{y}<extra></extra>",
           "hovertext": [
            "Last node of 3 <br> reward: 0 <br> action: [5, 4, 0, 0, 0, 0, 4, 1, 5, 5] <br> in system: 1.0"
           ],
           "legendgroup": "False, last",
           "line": {
            "color": "#EF553B",
            "dash": "solid"
           },
           "marker": {
            "symbol": "circle"
           },
           "mode": "lines+markers",
           "name": "False, last",
           "orientation": "v",
           "showlegend": false,
           "type": "scatter",
           "x": [
            0.42045454545454547
           ],
           "xaxis": "x",
           "y": [
            0.48
           ],
           "yaxis": "y"
          },
          {
           "hovertemplate": "<b>%{hovertext}</b><br><br>main=False<br>type=last<br>step=21<br>name=4<br>x=%{x}<br>y=%{y}<extra></extra>",
           "hovertext": [
            "Last node of 4 <br> reward: 0 <br> action: [5, 4, 0, 0, 0, 0, 4, 1, 5, 5] <br> in system: 0.0"
           ],
           "legendgroup": "False, last",
           "line": {
            "color": "#EF553B",
            "dash": "solid"
           },
           "marker": {
            "symbol": "circle"
           },
           "mode": "lines+markers",
           "name": "False, last",
           "orientation": "v",
           "showlegend": false,
           "type": "scatter",
           "x": [
            0
           ],
           "xaxis": "x",
           "y": [
            0
           ],
           "yaxis": "y"
          },
          {
           "hovertemplate": "<b>%{hovertext}</b><br><br>main=False<br>type=last<br>step=21<br>name=5<br>x=%{x}<br>y=%{y}<extra></extra>",
           "hovertext": [
            "Last node of 5 <br> reward: 0 <br> action: [5, 4, 0, 0, 0, 0, 4, 1, 5, 5] <br> in system: 0.0"
           ],
           "legendgroup": "False, last",
           "line": {
            "color": "#EF553B",
            "dash": "solid"
           },
           "marker": {
            "symbol": "circle"
           },
           "mode": "lines+markers",
           "name": "False, last",
           "orientation": "v",
           "showlegend": false,
           "type": "scatter",
           "x": [
            0
           ],
           "xaxis": "x",
           "y": [
            0
           ],
           "yaxis": "y"
          },
          {
           "hovertemplate": "<b>%{hovertext}</b><br><br>main=False<br>type=last<br>step=21<br>name=6<br>x=%{x}<br>y=%{y}<extra></extra>",
           "hovertext": [
            "Last node of 6 <br> reward: 0 <br> action: [5, 4, 0, 0, 0, 0, 4, 1, 5, 5] <br> in system: 0.0"
           ],
           "legendgroup": "False, last",
           "line": {
            "color": "#EF553B",
            "dash": "solid"
           },
           "marker": {
            "symbol": "circle"
           },
           "mode": "lines+markers",
           "name": "False, last",
           "orientation": "v",
           "showlegend": false,
           "type": "scatter",
           "x": [
            0
           ],
           "xaxis": "x",
           "y": [
            0
           ],
           "yaxis": "y"
          },
          {
           "hovertemplate": "<b>%{hovertext}</b><br><br>main=False<br>type=last<br>step=21<br>name=7<br>x=%{x}<br>y=%{y}<extra></extra>",
           "hovertext": [
            "Last node of 7 <br> reward: 0 <br> action: [5, 4, 0, 0, 0, 0, 4, 1, 5, 5] <br> in system: 1.0"
           ],
           "legendgroup": "False, last",
           "line": {
            "color": "#EF553B",
            "dash": "solid"
           },
           "marker": {
            "symbol": "circle"
           },
           "mode": "lines+markers",
           "name": "False, last",
           "orientation": "v",
           "showlegend": false,
           "type": "scatter",
           "x": [
            0.42045454545454547
           ],
           "xaxis": "x",
           "y": [
            0.38
           ],
           "yaxis": "y"
          },
          {
           "hovertemplate": "<b>%{hovertext}</b><br><br>main=False<br>type=last<br>step=21<br>name=8<br>x=%{x}<br>y=%{y}<extra></extra>",
           "hovertext": [
            "Last node of 8 <br> reward: 0 <br> action: [5, 4, 0, 0, 0, 0, 4, 1, 5, 5] <br> in system: 0.0"
           ],
           "legendgroup": "False, last",
           "line": {
            "color": "#EF553B",
            "dash": "solid"
           },
           "marker": {
            "symbol": "circle"
           },
           "mode": "lines+markers",
           "name": "False, last",
           "orientation": "v",
           "showlegend": false,
           "type": "scatter",
           "x": [
            0
           ],
           "xaxis": "x",
           "y": [
            0
           ],
           "yaxis": "y"
          },
          {
           "hovertemplate": "<b>%{hovertext}</b><br><br>main=False<br>type=last<br>step=21<br>name=9<br>x=%{x}<br>y=%{y}<extra></extra>",
           "hovertext": [
            "Last node of 9 <br> reward: 0 <br> action: [5, 4, 0, 0, 0, 0, 4, 1, 5, 5] <br> in system: 1.0"
           ],
           "legendgroup": "False, last",
           "line": {
            "color": "#EF553B",
            "dash": "solid"
           },
           "marker": {
            "symbol": "circle"
           },
           "mode": "lines+markers",
           "name": "False, last",
           "orientation": "v",
           "showlegend": false,
           "type": "scatter",
           "x": [
            0.5454545454545454
           ],
           "xaxis": "x",
           "y": [
            0.86
           ],
           "yaxis": "y"
          },
          {
           "hovertemplate": "<b>%{hovertext}</b><br><br>main=False<br>type=next<br>step=21<br>name=1<br>x=%{x}<br>y=%{y}<extra></extra>",
           "hovertext": [
            "Next node of 1 <br> reward: 0 <br> action: [5, 4, 0, 0, 0, 0, 4, 1, 5, 5] <br> in system: 1.0"
           ],
           "legendgroup": "False, next",
           "line": {
            "color": "#EF553B",
            "dash": "solid"
           },
           "marker": {
            "symbol": "diamond"
           },
           "mode": "lines+markers",
           "name": "False, next",
           "orientation": "v",
           "showlegend": true,
           "type": "scatter",
           "x": [
            0.9431818181818182
           ],
           "xaxis": "x",
           "y": [
            0.86
           ],
           "yaxis": "y"
          },
          {
           "hovertemplate": "<b>%{hovertext}</b><br><br>main=False<br>type=next<br>step=21<br>name=2<br>x=%{x}<br>y=%{y}<extra></extra>",
           "hovertext": [
            "Next node of 2 <br> reward: 0 <br> action: [5, 4, 0, 0, 0, 0, 4, 1, 5, 5] <br> in system: 1.0"
           ],
           "legendgroup": "False, next",
           "line": {
            "color": "#EF553B",
            "dash": "solid"
           },
           "marker": {
            "symbol": "diamond"
           },
           "mode": "lines+markers",
           "name": "False, next",
           "orientation": "v",
           "showlegend": false,
           "type": "scatter",
           "x": [
            0.32954545454545453
           ],
           "xaxis": "x",
           "y": [
            0.428
           ],
           "yaxis": "y"
          },
          {
           "hovertemplate": "<b>%{hovertext}</b><br><br>main=False<br>type=next<br>step=21<br>name=3<br>x=%{x}<br>y=%{y}<extra></extra>",
           "hovertext": [
            "Next node of 3 <br> reward: 0 <br> action: [5, 4, 0, 0, 0, 0, 4, 1, 5, 5] <br> in system: 1.0"
           ],
           "legendgroup": "False, next",
           "line": {
            "color": "#EF553B",
            "dash": "solid"
           },
           "marker": {
            "symbol": "diamond"
           },
           "mode": "lines+markers",
           "name": "False, next",
           "orientation": "v",
           "showlegend": false,
           "type": "scatter",
           "x": [
            0.42045454545454547
           ],
           "xaxis": "x",
           "y": [
            0.38
           ],
           "yaxis": "y"
          },
          {
           "hovertemplate": "<b>%{hovertext}</b><br><br>main=False<br>type=next<br>step=21<br>name=4<br>x=%{x}<br>y=%{y}<extra></extra>",
           "hovertext": [
            "Next node of 4 <br> reward: 0 <br> action: [5, 4, 0, 0, 0, 0, 4, 1, 5, 5] <br> in system: 0.0"
           ],
           "legendgroup": "False, next",
           "line": {
            "color": "#EF553B",
            "dash": "solid"
           },
           "marker": {
            "symbol": "diamond"
           },
           "mode": "lines+markers",
           "name": "False, next",
           "orientation": "v",
           "showlegend": false,
           "type": "scatter",
           "x": [
            0
           ],
           "xaxis": "x",
           "y": [
            0
           ],
           "yaxis": "y"
          },
          {
           "hovertemplate": "<b>%{hovertext}</b><br><br>main=False<br>type=next<br>step=21<br>name=5<br>x=%{x}<br>y=%{y}<extra></extra>",
           "hovertext": [
            "Next node of 5 <br> reward: 0 <br> action: [5, 4, 0, 0, 0, 0, 4, 1, 5, 5] <br> in system: 0.0"
           ],
           "legendgroup": "False, next",
           "line": {
            "color": "#EF553B",
            "dash": "solid"
           },
           "marker": {
            "symbol": "diamond"
           },
           "mode": "lines+markers",
           "name": "False, next",
           "orientation": "v",
           "showlegend": false,
           "type": "scatter",
           "x": [
            0
           ],
           "xaxis": "x",
           "y": [
            0
           ],
           "yaxis": "y"
          },
          {
           "hovertemplate": "<b>%{hovertext}</b><br><br>main=False<br>type=next<br>step=21<br>name=6<br>x=%{x}<br>y=%{y}<extra></extra>",
           "hovertext": [
            "Next node of 6 <br> reward: 0 <br> action: [5, 4, 0, 0, 0, 0, 4, 1, 5, 5] <br> in system: 0.0"
           ],
           "legendgroup": "False, next",
           "line": {
            "color": "#EF553B",
            "dash": "solid"
           },
           "marker": {
            "symbol": "diamond"
           },
           "mode": "lines+markers",
           "name": "False, next",
           "orientation": "v",
           "showlegend": false,
           "type": "scatter",
           "x": [
            0
           ],
           "xaxis": "x",
           "y": [
            0
           ],
           "yaxis": "y"
          },
          {
           "hovertemplate": "<b>%{hovertext}</b><br><br>main=False<br>type=next<br>step=21<br>name=7<br>x=%{x}<br>y=%{y}<extra></extra>",
           "hovertext": [
            "Next node of 7 <br> reward: 0 <br> action: [5, 4, 0, 0, 0, 0, 4, 1, 5, 5] <br> in system: 1.0"
           ],
           "legendgroup": "False, next",
           "line": {
            "color": "#EF553B",
            "dash": "solid"
           },
           "marker": {
            "symbol": "diamond"
           },
           "mode": "lines+markers",
           "name": "False, next",
           "orientation": "v",
           "showlegend": false,
           "type": "scatter",
           "x": [
            0.32954545454545453
           ],
           "xaxis": "x",
           "y": [
            0.428
           ],
           "yaxis": "y"
          },
          {
           "hovertemplate": "<b>%{hovertext}</b><br><br>main=False<br>type=next<br>step=21<br>name=8<br>x=%{x}<br>y=%{y}<extra></extra>",
           "hovertext": [
            "Next node of 8 <br> reward: 0 <br> action: [5, 4, 0, 0, 0, 0, 4, 1, 5, 5] <br> in system: 0.0"
           ],
           "legendgroup": "False, next",
           "line": {
            "color": "#EF553B",
            "dash": "solid"
           },
           "marker": {
            "symbol": "diamond"
           },
           "mode": "lines+markers",
           "name": "False, next",
           "orientation": "v",
           "showlegend": false,
           "type": "scatter",
           "x": [
            0
           ],
           "xaxis": "x",
           "y": [
            0
           ],
           "yaxis": "y"
          },
          {
           "hovertemplate": "<b>%{hovertext}</b><br><br>main=False<br>type=next<br>step=21<br>name=9<br>x=%{x}<br>y=%{y}<extra></extra>",
           "hovertext": [
            "Next node of 9 <br> reward: 0 <br> action: [5, 4, 0, 0, 0, 0, 4, 1, 5, 5] <br> in system: 1.0"
           ],
           "legendgroup": "False, next",
           "line": {
            "color": "#EF553B",
            "dash": "solid"
           },
           "marker": {
            "symbol": "diamond"
           },
           "mode": "lines+markers",
           "name": "False, next",
           "orientation": "v",
           "showlegend": false,
           "type": "scatter",
           "x": [
            0.5454545454545454
           ],
           "xaxis": "x",
           "y": [
            0.76
           ],
           "yaxis": "y"
          }
         ],
         "name": "21"
        },
        {
         "data": [
          {
           "hovertemplate": "<b>%{hovertext}</b><br><br>main=True<br>type=last<br>step=22<br>name=0<br>x=%{x}<br>y=%{y}<extra></extra>",
           "hovertext": [
            "Last node of 0 <br> reward: 1.0 <br> action: [2, 2, 2, 2, 3, 2, 0, 5, 4, 0] <br> in system: 1.0"
           ],
           "legendgroup": "True, last",
           "line": {
            "color": "#636efa",
            "dash": "solid"
           },
           "marker": {
            "symbol": "circle"
           },
           "mode": "lines+markers",
           "name": "True, last",
           "orientation": "v",
           "showlegend": true,
           "type": "scatter",
           "x": [
            0.6022727272727273
           ],
           "xaxis": "x",
           "y": [
            0.86
           ],
           "yaxis": "y"
          },
          {
           "hovertemplate": "<b>%{hovertext}</b><br><br>main=True<br>type=next<br>step=22<br>name=0<br>x=%{x}<br>y=%{y}<extra></extra>",
           "hovertext": [
            "Next node of 0 <br> reward: 1.0 <br> action: [2, 2, 2, 2, 3, 2, 0, 5, 4, 0] <br> in system: 1.0"
           ],
           "legendgroup": "True, next",
           "line": {
            "color": "#636efa",
            "dash": "solid"
           },
           "marker": {
            "symbol": "diamond"
           },
           "mode": "lines+markers",
           "name": "True, next",
           "orientation": "v",
           "showlegend": true,
           "type": "scatter",
           "x": [
            0.7613636363636364
           ],
           "xaxis": "x",
           "y": [
            0.86
           ],
           "yaxis": "y"
          },
          {
           "hovertemplate": "<b>%{hovertext}</b><br><br>main=False<br>type=last<br>step=22<br>name=1<br>x=%{x}<br>y=%{y}<extra></extra>",
           "hovertext": [
            "Last node of 1 <br> reward: 1.0 <br> action: [2, 2, 2, 2, 3, 2, 0, 5, 4, 0] <br> in system: 0.0"
           ],
           "legendgroup": "False, last",
           "line": {
            "color": "#EF553B",
            "dash": "solid"
           },
           "marker": {
            "symbol": "circle"
           },
           "mode": "lines+markers",
           "name": "False, last",
           "orientation": "v",
           "showlegend": true,
           "type": "scatter",
           "x": [
            0
           ],
           "xaxis": "x",
           "y": [
            0
           ],
           "yaxis": "y"
          },
          {
           "hovertemplate": "<b>%{hovertext}</b><br><br>main=False<br>type=last<br>step=22<br>name=2<br>x=%{x}<br>y=%{y}<extra></extra>",
           "hovertext": [
            "Last node of 2 <br> reward: 1.0 <br> action: [2, 2, 2, 2, 3, 2, 0, 5, 4, 0] <br> in system: 1.0"
           ],
           "legendgroup": "False, last",
           "line": {
            "color": "#EF553B",
            "dash": "solid"
           },
           "marker": {
            "symbol": "circle"
           },
           "mode": "lines+markers",
           "name": "False, last",
           "orientation": "v",
           "showlegend": false,
           "type": "scatter",
           "x": [
            0.42045454545454547
           ],
           "xaxis": "x",
           "y": [
            0.38
           ],
           "yaxis": "y"
          },
          {
           "hovertemplate": "<b>%{hovertext}</b><br><br>main=False<br>type=last<br>step=22<br>name=3<br>x=%{x}<br>y=%{y}<extra></extra>",
           "hovertext": [
            "Last node of 3 <br> reward: 1.0 <br> action: [2, 2, 2, 2, 3, 2, 0, 5, 4, 0] <br> in system: 0.0"
           ],
           "legendgroup": "False, last",
           "line": {
            "color": "#EF553B",
            "dash": "solid"
           },
           "marker": {
            "symbol": "circle"
           },
           "mode": "lines+markers",
           "name": "False, last",
           "orientation": "v",
           "showlegend": false,
           "type": "scatter",
           "x": [
            0
           ],
           "xaxis": "x",
           "y": [
            0
           ],
           "yaxis": "y"
          },
          {
           "hovertemplate": "<b>%{hovertext}</b><br><br>main=False<br>type=last<br>step=22<br>name=4<br>x=%{x}<br>y=%{y}<extra></extra>",
           "hovertext": [
            "Last node of 4 <br> reward: 1.0 <br> action: [2, 2, 2, 2, 3, 2, 0, 5, 4, 0] <br> in system: 1.0"
           ],
           "legendgroup": "False, last",
           "line": {
            "color": "#EF553B",
            "dash": "solid"
           },
           "marker": {
            "symbol": "circle"
           },
           "mode": "lines+markers",
           "name": "False, last",
           "orientation": "v",
           "showlegend": false,
           "type": "scatter",
           "x": [
            0.42045454545454547
           ],
           "xaxis": "x",
           "y": [
            0.48
           ],
           "yaxis": "y"
          },
          {
           "hovertemplate": "<b>%{hovertext}</b><br><br>main=False<br>type=last<br>step=22<br>name=5<br>x=%{x}<br>y=%{y}<extra></extra>",
           "hovertext": [
            "Last node of 5 <br> reward: 1.0 <br> action: [2, 2, 2, 2, 3, 2, 0, 5, 4, 0] <br> in system: 0.0"
           ],
           "legendgroup": "False, last",
           "line": {
            "color": "#EF553B",
            "dash": "solid"
           },
           "marker": {
            "symbol": "circle"
           },
           "mode": "lines+markers",
           "name": "False, last",
           "orientation": "v",
           "showlegend": false,
           "type": "scatter",
           "x": [
            0
           ],
           "xaxis": "x",
           "y": [
            0
           ],
           "yaxis": "y"
          },
          {
           "hovertemplate": "<b>%{hovertext}</b><br><br>main=False<br>type=last<br>step=22<br>name=6<br>x=%{x}<br>y=%{y}<extra></extra>",
           "hovertext": [
            "Last node of 6 <br> reward: 1.0 <br> action: [2, 2, 2, 2, 3, 2, 0, 5, 4, 0] <br> in system: 0.0"
           ],
           "legendgroup": "False, last",
           "line": {
            "color": "#EF553B",
            "dash": "solid"
           },
           "marker": {
            "symbol": "circle"
           },
           "mode": "lines+markers",
           "name": "False, last",
           "orientation": "v",
           "showlegend": false,
           "type": "scatter",
           "x": [
            0
           ],
           "xaxis": "x",
           "y": [
            0
           ],
           "yaxis": "y"
          },
          {
           "hovertemplate": "<b>%{hovertext}</b><br><br>main=False<br>type=last<br>step=22<br>name=7<br>x=%{x}<br>y=%{y}<extra></extra>",
           "hovertext": [
            "Last node of 7 <br> reward: 1.0 <br> action: [2, 2, 2, 2, 3, 2, 0, 5, 4, 0] <br> in system: 1.0"
           ],
           "legendgroup": "False, last",
           "line": {
            "color": "#EF553B",
            "dash": "solid"
           },
           "marker": {
            "symbol": "circle"
           },
           "mode": "lines+markers",
           "name": "False, last",
           "orientation": "v",
           "showlegend": false,
           "type": "scatter",
           "x": [
            0.9431818181818182
           ],
           "xaxis": "x",
           "y": [
            0.86
           ],
           "yaxis": "y"
          },
          {
           "hovertemplate": "<b>%{hovertext}</b><br><br>main=False<br>type=last<br>step=22<br>name=8<br>x=%{x}<br>y=%{y}<extra></extra>",
           "hovertext": [
            "Last node of 8 <br> reward: 1.0 <br> action: [2, 2, 2, 2, 3, 2, 0, 5, 4, 0] <br> in system: 1.0"
           ],
           "legendgroup": "False, last",
           "line": {
            "color": "#EF553B",
            "dash": "solid"
           },
           "marker": {
            "symbol": "circle"
           },
           "mode": "lines+markers",
           "name": "False, last",
           "orientation": "v",
           "showlegend": false,
           "type": "scatter",
           "x": [
            0.32954545454545453
           ],
           "xaxis": "x",
           "y": [
            0.428
           ],
           "yaxis": "y"
          },
          {
           "hovertemplate": "<b>%{hovertext}</b><br><br>main=False<br>type=last<br>step=22<br>name=9<br>x=%{x}<br>y=%{y}<extra></extra>",
           "hovertext": [
            "Last node of 9 <br> reward: 1.0 <br> action: [2, 2, 2, 2, 3, 2, 0, 5, 4, 0] <br> in system: 1.0"
           ],
           "legendgroup": "False, last",
           "line": {
            "color": "#EF553B",
            "dash": "solid"
           },
           "marker": {
            "symbol": "circle"
           },
           "mode": "lines+markers",
           "name": "False, last",
           "orientation": "v",
           "showlegend": false,
           "type": "scatter",
           "x": [
            0.5454545454545454
           ],
           "xaxis": "x",
           "y": [
            0.76
           ],
           "yaxis": "y"
          },
          {
           "hovertemplate": "<b>%{hovertext}</b><br><br>main=False<br>type=next<br>step=22<br>name=1<br>x=%{x}<br>y=%{y}<extra></extra>",
           "hovertext": [
            "Next node of 1 <br> reward: 1.0 <br> action: [2, 2, 2, 2, 3, 2, 0, 5, 4, 0] <br> in system: 0.0"
           ],
           "legendgroup": "False, next",
           "line": {
            "color": "#EF553B",
            "dash": "solid"
           },
           "marker": {
            "symbol": "diamond"
           },
           "mode": "lines+markers",
           "name": "False, next",
           "orientation": "v",
           "showlegend": true,
           "type": "scatter",
           "x": [
            0
           ],
           "xaxis": "x",
           "y": [
            0
           ],
           "yaxis": "y"
          },
          {
           "hovertemplate": "<b>%{hovertext}</b><br><br>main=False<br>type=next<br>step=22<br>name=2<br>x=%{x}<br>y=%{y}<extra></extra>",
           "hovertext": [
            "Next node of 2 <br> reward: 1.0 <br> action: [2, 2, 2, 2, 3, 2, 0, 5, 4, 0] <br> in system: 1.0"
           ],
           "legendgroup": "False, next",
           "line": {
            "color": "#EF553B",
            "dash": "solid"
           },
           "marker": {
            "symbol": "diamond"
           },
           "mode": "lines+markers",
           "name": "False, next",
           "orientation": "v",
           "showlegend": false,
           "type": "scatter",
           "x": [
            0.32954545454545453
           ],
           "xaxis": "x",
           "y": [
            0.428
           ],
           "yaxis": "y"
          },
          {
           "hovertemplate": "<b>%{hovertext}</b><br><br>main=False<br>type=next<br>step=22<br>name=3<br>x=%{x}<br>y=%{y}<extra></extra>",
           "hovertext": [
            "Next node of 3 <br> reward: 1.0 <br> action: [2, 2, 2, 2, 3, 2, 0, 5, 4, 0] <br> in system: 0.0"
           ],
           "legendgroup": "False, next",
           "line": {
            "color": "#EF553B",
            "dash": "solid"
           },
           "marker": {
            "symbol": "diamond"
           },
           "mode": "lines+markers",
           "name": "False, next",
           "orientation": "v",
           "showlegend": false,
           "type": "scatter",
           "x": [
            0
           ],
           "xaxis": "x",
           "y": [
            0
           ],
           "yaxis": "y"
          },
          {
           "hovertemplate": "<b>%{hovertext}</b><br><br>main=False<br>type=next<br>step=22<br>name=4<br>x=%{x}<br>y=%{y}<extra></extra>",
           "hovertext": [
            "Next node of 4 <br> reward: 1.0 <br> action: [2, 2, 2, 2, 3, 2, 0, 5, 4, 0] <br> in system: 1.0"
           ],
           "legendgroup": "False, next",
           "line": {
            "color": "#EF553B",
            "dash": "solid"
           },
           "marker": {
            "symbol": "diamond"
           },
           "mode": "lines+markers",
           "name": "False, next",
           "orientation": "v",
           "showlegend": false,
           "type": "scatter",
           "x": [
            0.42045454545454547
           ],
           "xaxis": "x",
           "y": [
            0.38
           ],
           "yaxis": "y"
          },
          {
           "hovertemplate": "<b>%{hovertext}</b><br><br>main=False<br>type=next<br>step=22<br>name=5<br>x=%{x}<br>y=%{y}<extra></extra>",
           "hovertext": [
            "Next node of 5 <br> reward: 1.0 <br> action: [2, 2, 2, 2, 3, 2, 0, 5, 4, 0] <br> in system: 0.0"
           ],
           "legendgroup": "False, next",
           "line": {
            "color": "#EF553B",
            "dash": "solid"
           },
           "marker": {
            "symbol": "diamond"
           },
           "mode": "lines+markers",
           "name": "False, next",
           "orientation": "v",
           "showlegend": false,
           "type": "scatter",
           "x": [
            0
           ],
           "xaxis": "x",
           "y": [
            0
           ],
           "yaxis": "y"
          },
          {
           "hovertemplate": "<b>%{hovertext}</b><br><br>main=False<br>type=next<br>step=22<br>name=6<br>x=%{x}<br>y=%{y}<extra></extra>",
           "hovertext": [
            "Next node of 6 <br> reward: 1.0 <br> action: [2, 2, 2, 2, 3, 2, 0, 5, 4, 0] <br> in system: 0.0"
           ],
           "legendgroup": "False, next",
           "line": {
            "color": "#EF553B",
            "dash": "solid"
           },
           "marker": {
            "symbol": "diamond"
           },
           "mode": "lines+markers",
           "name": "False, next",
           "orientation": "v",
           "showlegend": false,
           "type": "scatter",
           "x": [
            0
           ],
           "xaxis": "x",
           "y": [
            0
           ],
           "yaxis": "y"
          },
          {
           "hovertemplate": "<b>%{hovertext}</b><br><br>main=False<br>type=next<br>step=22<br>name=7<br>x=%{x}<br>y=%{y}<extra></extra>",
           "hovertext": [
            "Next node of 7 <br> reward: 1.0 <br> action: [2, 2, 2, 2, 3, 2, 0, 5, 4, 0] <br> in system: 1.0"
           ],
           "legendgroup": "False, next",
           "line": {
            "color": "#EF553B",
            "dash": "solid"
           },
           "marker": {
            "symbol": "diamond"
           },
           "mode": "lines+markers",
           "name": "False, next",
           "orientation": "v",
           "showlegend": false,
           "type": "scatter",
           "x": [
            1
           ],
           "xaxis": "x",
           "y": [
            0.86
           ],
           "yaxis": "y"
          },
          {
           "hovertemplate": "<b>%{hovertext}</b><br><br>main=False<br>type=next<br>step=22<br>name=8<br>x=%{x}<br>y=%{y}<extra></extra>",
           "hovertext": [
            "Next node of 8 <br> reward: 1.0 <br> action: [2, 2, 2, 2, 3, 2, 0, 5, 4, 0] <br> in system: 1.0"
           ],
           "legendgroup": "False, next",
           "line": {
            "color": "#EF553B",
            "dash": "solid"
           },
           "marker": {
            "symbol": "diamond"
           },
           "mode": "lines+markers",
           "name": "False, next",
           "orientation": "v",
           "showlegend": false,
           "type": "scatter",
           "x": [
            0.42045454545454547
           ],
           "xaxis": "x",
           "y": [
            0.48
           ],
           "yaxis": "y"
          },
          {
           "hovertemplate": "<b>%{hovertext}</b><br><br>main=False<br>type=next<br>step=22<br>name=9<br>x=%{x}<br>y=%{y}<extra></extra>",
           "hovertext": [
            "Next node of 9 <br> reward: 1.0 <br> action: [2, 2, 2, 2, 3, 2, 0, 5, 4, 0] <br> in system: 1.0"
           ],
           "legendgroup": "False, next",
           "line": {
            "color": "#EF553B",
            "dash": "solid"
           },
           "marker": {
            "symbol": "diamond"
           },
           "mode": "lines+markers",
           "name": "False, next",
           "orientation": "v",
           "showlegend": false,
           "type": "scatter",
           "x": [
            0.5727272727272728
           ],
           "xaxis": "x",
           "y": [
            0.62
           ],
           "yaxis": "y"
          }
         ],
         "name": "22"
        },
        {
         "data": [
          {
           "hovertemplate": "<b>%{hovertext}</b><br><br>main=True<br>type=last<br>step=23<br>name=0<br>x=%{x}<br>y=%{y}<extra></extra>",
           "hovertext": [
            "Last node of 0 <br> reward: 0 <br> action: [5, 0, 4, 1, 0, 4, 0, 4, 2, 0] <br> in system: 1.0"
           ],
           "legendgroup": "True, last",
           "line": {
            "color": "#636efa",
            "dash": "solid"
           },
           "marker": {
            "symbol": "circle"
           },
           "mode": "lines+markers",
           "name": "True, last",
           "orientation": "v",
           "showlegend": true,
           "type": "scatter",
           "x": [
            0.7613636363636364
           ],
           "xaxis": "x",
           "y": [
            0.86
           ],
           "yaxis": "y"
          },
          {
           "hovertemplate": "<b>%{hovertext}</b><br><br>main=True<br>type=next<br>step=23<br>name=0<br>x=%{x}<br>y=%{y}<extra></extra>",
           "hovertext": [
            "Next node of 0 <br> reward: 0 <br> action: [5, 0, 4, 1, 0, 4, 0, 4, 2, 0] <br> in system: 1.0"
           ],
           "legendgroup": "True, next",
           "line": {
            "color": "#636efa",
            "dash": "solid"
           },
           "marker": {
            "symbol": "diamond"
           },
           "mode": "lines+markers",
           "name": "True, next",
           "orientation": "v",
           "showlegend": true,
           "type": "scatter",
           "x": [
            0.7613636363636364
           ],
           "xaxis": "x",
           "y": [
            0.76
           ],
           "yaxis": "y"
          },
          {
           "hovertemplate": "<b>%{hovertext}</b><br><br>main=False<br>type=last<br>step=23<br>name=1<br>x=%{x}<br>y=%{y}<extra></extra>",
           "hovertext": [
            "Last node of 1 <br> reward: 0 <br> action: [5, 0, 4, 1, 0, 4, 0, 4, 2, 0] <br> in system: 1.0"
           ],
           "legendgroup": "False, last",
           "line": {
            "color": "#EF553B",
            "dash": "solid"
           },
           "marker": {
            "symbol": "circle"
           },
           "mode": "lines+markers",
           "name": "False, last",
           "orientation": "v",
           "showlegend": true,
           "type": "scatter",
           "x": [
            0.42045454545454547
           ],
           "xaxis": "x",
           "y": [
            0.38
           ],
           "yaxis": "y"
          },
          {
           "hovertemplate": "<b>%{hovertext}</b><br><br>main=False<br>type=last<br>step=23<br>name=2<br>x=%{x}<br>y=%{y}<extra></extra>",
           "hovertext": [
            "Last node of 2 <br> reward: 0 <br> action: [5, 0, 4, 1, 0, 4, 0, 4, 2, 0] <br> in system: 1.0"
           ],
           "legendgroup": "False, last",
           "line": {
            "color": "#EF553B",
            "dash": "solid"
           },
           "marker": {
            "symbol": "circle"
           },
           "mode": "lines+markers",
           "name": "False, last",
           "orientation": "v",
           "showlegend": false,
           "type": "scatter",
           "x": [
            0.5454545454545454
           ],
           "xaxis": "x",
           "y": [
            0.76
           ],
           "yaxis": "y"
          },
          {
           "hovertemplate": "<b>%{hovertext}</b><br><br>main=False<br>type=last<br>step=23<br>name=3<br>x=%{x}<br>y=%{y}<extra></extra>",
           "hovertext": [
            "Last node of 3 <br> reward: 0 <br> action: [5, 0, 4, 1, 0, 4, 0, 4, 2, 0] <br> in system: 1.0"
           ],
           "legendgroup": "False, last",
           "line": {
            "color": "#EF553B",
            "dash": "solid"
           },
           "marker": {
            "symbol": "circle"
           },
           "mode": "lines+markers",
           "name": "False, last",
           "orientation": "v",
           "showlegend": false,
           "type": "scatter",
           "x": [
            0.42045454545454547
           ],
           "xaxis": "x",
           "y": [
            0.38
           ],
           "yaxis": "y"
          },
          {
           "hovertemplate": "<b>%{hovertext}</b><br><br>main=False<br>type=last<br>step=23<br>name=4<br>x=%{x}<br>y=%{y}<extra></extra>",
           "hovertext": [
            "Last node of 4 <br> reward: 0 <br> action: [5, 0, 4, 1, 0, 4, 0, 4, 2, 0] <br> in system: 1.0"
           ],
           "legendgroup": "False, last",
           "line": {
            "color": "#EF553B",
            "dash": "solid"
           },
           "marker": {
            "symbol": "circle"
           },
           "mode": "lines+markers",
           "name": "False, last",
           "orientation": "v",
           "showlegend": false,
           "type": "scatter",
           "x": [
            0.9431818181818182
           ],
           "xaxis": "x",
           "y": [
            0.86
           ],
           "yaxis": "y"
          },
          {
           "hovertemplate": "<b>%{hovertext}</b><br><br>main=False<br>type=last<br>step=23<br>name=5<br>x=%{x}<br>y=%{y}<extra></extra>",
           "hovertext": [
            "Last node of 5 <br> reward: 0 <br> action: [5, 0, 4, 1, 0, 4, 0, 4, 2, 0] <br> in system: 0.0"
           ],
           "legendgroup": "False, last",
           "line": {
            "color": "#EF553B",
            "dash": "solid"
           },
           "marker": {
            "symbol": "circle"
           },
           "mode": "lines+markers",
           "name": "False, last",
           "orientation": "v",
           "showlegend": false,
           "type": "scatter",
           "x": [
            0
           ],
           "xaxis": "x",
           "y": [
            0
           ],
           "yaxis": "y"
          },
          {
           "hovertemplate": "<b>%{hovertext}</b><br><br>main=False<br>type=last<br>step=23<br>name=6<br>x=%{x}<br>y=%{y}<extra></extra>",
           "hovertext": [
            "Last node of 6 <br> reward: 0 <br> action: [5, 0, 4, 1, 0, 4, 0, 4, 2, 0] <br> in system: 1.0"
           ],
           "legendgroup": "False, last",
           "line": {
            "color": "#EF553B",
            "dash": "solid"
           },
           "marker": {
            "symbol": "circle"
           },
           "mode": "lines+markers",
           "name": "False, last",
           "orientation": "v",
           "showlegend": false,
           "type": "scatter",
           "x": [
            0.32954545454545453
           ],
           "xaxis": "x",
           "y": [
            0.428
           ],
           "yaxis": "y"
          },
          {
           "hovertemplate": "<b>%{hovertext}</b><br><br>main=False<br>type=last<br>step=23<br>name=7<br>x=%{x}<br>y=%{y}<extra></extra>",
           "hovertext": [
            "Last node of 7 <br> reward: 0 <br> action: [5, 0, 4, 1, 0, 4, 0, 4, 2, 0] <br> in system: 0.0"
           ],
           "legendgroup": "False, last",
           "line": {
            "color": "#EF553B",
            "dash": "solid"
           },
           "marker": {
            "symbol": "circle"
           },
           "mode": "lines+markers",
           "name": "False, last",
           "orientation": "v",
           "showlegend": false,
           "type": "scatter",
           "x": [
            0
           ],
           "xaxis": "x",
           "y": [
            0
           ],
           "yaxis": "y"
          },
          {
           "hovertemplate": "<b>%{hovertext}</b><br><br>main=False<br>type=last<br>step=23<br>name=8<br>x=%{x}<br>y=%{y}<extra></extra>",
           "hovertext": [
            "Last node of 8 <br> reward: 0 <br> action: [5, 0, 4, 1, 0, 4, 0, 4, 2, 0] <br> in system: 0.0"
           ],
           "legendgroup": "False, last",
           "line": {
            "color": "#EF553B",
            "dash": "solid"
           },
           "marker": {
            "symbol": "circle"
           },
           "mode": "lines+markers",
           "name": "False, last",
           "orientation": "v",
           "showlegend": false,
           "type": "scatter",
           "x": [
            0
           ],
           "xaxis": "x",
           "y": [
            0
           ],
           "yaxis": "y"
          },
          {
           "hovertemplate": "<b>%{hovertext}</b><br><br>main=False<br>type=last<br>step=23<br>name=9<br>x=%{x}<br>y=%{y}<extra></extra>",
           "hovertext": [
            "Last node of 9 <br> reward: 0 <br> action: [5, 0, 4, 1, 0, 4, 0, 4, 2, 0] <br> in system: 0.0"
           ],
           "legendgroup": "False, last",
           "line": {
            "color": "#EF553B",
            "dash": "solid"
           },
           "marker": {
            "symbol": "circle"
           },
           "mode": "lines+markers",
           "name": "False, last",
           "orientation": "v",
           "showlegend": false,
           "type": "scatter",
           "x": [
            0
           ],
           "xaxis": "x",
           "y": [
            0
           ],
           "yaxis": "y"
          },
          {
           "hovertemplate": "<b>%{hovertext}</b><br><br>main=False<br>type=next<br>step=23<br>name=1<br>x=%{x}<br>y=%{y}<extra></extra>",
           "hovertext": [
            "Next node of 1 <br> reward: 0 <br> action: [5, 0, 4, 1, 0, 4, 0, 4, 2, 0] <br> in system: 1.0"
           ],
           "legendgroup": "False, next",
           "line": {
            "color": "#EF553B",
            "dash": "solid"
           },
           "marker": {
            "symbol": "diamond"
           },
           "mode": "lines+markers",
           "name": "False, next",
           "orientation": "v",
           "showlegend": true,
           "type": "scatter",
           "x": [
            0.32954545454545453
           ],
           "xaxis": "x",
           "y": [
            0.428
           ],
           "yaxis": "y"
          },
          {
           "hovertemplate": "<b>%{hovertext}</b><br><br>main=False<br>type=next<br>step=23<br>name=2<br>x=%{x}<br>y=%{y}<extra></extra>",
           "hovertext": [
            "Next node of 2 <br> reward: 0 <br> action: [5, 0, 4, 1, 0, 4, 0, 4, 2, 0] <br> in system: 1.0"
           ],
           "legendgroup": "False, next",
           "line": {
            "color": "#EF553B",
            "dash": "solid"
           },
           "marker": {
            "symbol": "diamond"
           },
           "mode": "lines+markers",
           "name": "False, next",
           "orientation": "v",
           "showlegend": false,
           "type": "scatter",
           "x": [
            0.5727272727272728
           ],
           "xaxis": "x",
           "y": [
            0.62
           ],
           "yaxis": "y"
          },
          {
           "hovertemplate": "<b>%{hovertext}</b><br><br>main=False<br>type=next<br>step=23<br>name=3<br>x=%{x}<br>y=%{y}<extra></extra>",
           "hovertext": [
            "Next node of 3 <br> reward: 0 <br> action: [5, 0, 4, 1, 0, 4, 0, 4, 2, 0] <br> in system: 1.0"
           ],
           "legendgroup": "False, next",
           "line": {
            "color": "#EF553B",
            "dash": "solid"
           },
           "marker": {
            "symbol": "diamond"
           },
           "mode": "lines+markers",
           "name": "False, next",
           "orientation": "v",
           "showlegend": false,
           "type": "scatter",
           "x": [
            0.4772727272727273
           ],
           "xaxis": "x",
           "y": [
            0.38
           ],
           "yaxis": "y"
          },
          {
           "hovertemplate": "<b>%{hovertext}</b><br><br>main=False<br>type=next<br>step=23<br>name=4<br>x=%{x}<br>y=%{y}<extra></extra>",
           "hovertext": [
            "Next node of 4 <br> reward: 0 <br> action: [5, 0, 4, 1, 0, 4, 0, 4, 2, 0] <br> in system: 1.0"
           ],
           "legendgroup": "False, next",
           "line": {
            "color": "#EF553B",
            "dash": "solid"
           },
           "marker": {
            "symbol": "diamond"
           },
           "mode": "lines+markers",
           "name": "False, next",
           "orientation": "v",
           "showlegend": false,
           "type": "scatter",
           "x": [
            1
           ],
           "xaxis": "x",
           "y": [
            0.86
           ],
           "yaxis": "y"
          },
          {
           "hovertemplate": "<b>%{hovertext}</b><br><br>main=False<br>type=next<br>step=23<br>name=5<br>x=%{x}<br>y=%{y}<extra></extra>",
           "hovertext": [
            "Next node of 5 <br> reward: 0 <br> action: [5, 0, 4, 1, 0, 4, 0, 4, 2, 0] <br> in system: 0.0"
           ],
           "legendgroup": "False, next",
           "line": {
            "color": "#EF553B",
            "dash": "solid"
           },
           "marker": {
            "symbol": "diamond"
           },
           "mode": "lines+markers",
           "name": "False, next",
           "orientation": "v",
           "showlegend": false,
           "type": "scatter",
           "x": [
            0
           ],
           "xaxis": "x",
           "y": [
            0
           ],
           "yaxis": "y"
          },
          {
           "hovertemplate": "<b>%{hovertext}</b><br><br>main=False<br>type=next<br>step=23<br>name=6<br>x=%{x}<br>y=%{y}<extra></extra>",
           "hovertext": [
            "Next node of 6 <br> reward: 0 <br> action: [5, 0, 4, 1, 0, 4, 0, 4, 2, 0] <br> in system: 1.0"
           ],
           "legendgroup": "False, next",
           "line": {
            "color": "#EF553B",
            "dash": "solid"
           },
           "marker": {
            "symbol": "diamond"
           },
           "mode": "lines+markers",
           "name": "False, next",
           "orientation": "v",
           "showlegend": false,
           "type": "scatter",
           "x": [
            0.42045454545454547
           ],
           "xaxis": "x",
           "y": [
            0.48
           ],
           "yaxis": "y"
          },
          {
           "hovertemplate": "<b>%{hovertext}</b><br><br>main=False<br>type=next<br>step=23<br>name=7<br>x=%{x}<br>y=%{y}<extra></extra>",
           "hovertext": [
            "Next node of 7 <br> reward: 0 <br> action: [5, 0, 4, 1, 0, 4, 0, 4, 2, 0] <br> in system: 0.0"
           ],
           "legendgroup": "False, next",
           "line": {
            "color": "#EF553B",
            "dash": "solid"
           },
           "marker": {
            "symbol": "diamond"
           },
           "mode": "lines+markers",
           "name": "False, next",
           "orientation": "v",
           "showlegend": false,
           "type": "scatter",
           "x": [
            0
           ],
           "xaxis": "x",
           "y": [
            0
           ],
           "yaxis": "y"
          },
          {
           "hovertemplate": "<b>%{hovertext}</b><br><br>main=False<br>type=next<br>step=23<br>name=8<br>x=%{x}<br>y=%{y}<extra></extra>",
           "hovertext": [
            "Next node of 8 <br> reward: 0 <br> action: [5, 0, 4, 1, 0, 4, 0, 4, 2, 0] <br> in system: 0.0"
           ],
           "legendgroup": "False, next",
           "line": {
            "color": "#EF553B",
            "dash": "solid"
           },
           "marker": {
            "symbol": "diamond"
           },
           "mode": "lines+markers",
           "name": "False, next",
           "orientation": "v",
           "showlegend": false,
           "type": "scatter",
           "x": [
            0
           ],
           "xaxis": "x",
           "y": [
            0
           ],
           "yaxis": "y"
          },
          {
           "hovertemplate": "<b>%{hovertext}</b><br><br>main=False<br>type=next<br>step=23<br>name=9<br>x=%{x}<br>y=%{y}<extra></extra>",
           "hovertext": [
            "Next node of 9 <br> reward: 0 <br> action: [5, 0, 4, 1, 0, 4, 0, 4, 2, 0] <br> in system: 0.0"
           ],
           "legendgroup": "False, next",
           "line": {
            "color": "#EF553B",
            "dash": "solid"
           },
           "marker": {
            "symbol": "diamond"
           },
           "mode": "lines+markers",
           "name": "False, next",
           "orientation": "v",
           "showlegend": false,
           "type": "scatter",
           "x": [
            0
           ],
           "xaxis": "x",
           "y": [
            0
           ],
           "yaxis": "y"
          }
         ],
         "name": "23"
        },
        {
         "data": [
          {
           "hovertemplate": "<b>%{hovertext}</b><br><br>main=True<br>type=last<br>step=24<br>name=0<br>x=%{x}<br>y=%{y}<extra></extra>",
           "hovertext": [
            "Last node of 0 <br> reward: 1.0 <br> action: [2, 5, 3, 4, 2, 0, 3, 5, 2, 2] <br> in system: 1.0"
           ],
           "legendgroup": "True, last",
           "line": {
            "color": "#636efa",
            "dash": "solid"
           },
           "marker": {
            "symbol": "circle"
           },
           "mode": "lines+markers",
           "name": "True, last",
           "orientation": "v",
           "showlegend": true,
           "type": "scatter",
           "x": [
            0.7613636363636364
           ],
           "xaxis": "x",
           "y": [
            0.86
           ],
           "yaxis": "y"
          },
          {
           "hovertemplate": "<b>%{hovertext}</b><br><br>main=True<br>type=next<br>step=24<br>name=0<br>x=%{x}<br>y=%{y}<extra></extra>",
           "hovertext": [
            "Next node of 0 <br> reward: 1.0 <br> action: [2, 5, 3, 4, 2, 0, 3, 5, 2, 2] <br> in system: 1.0"
           ],
           "legendgroup": "True, next",
           "line": {
            "color": "#636efa",
            "dash": "solid"
           },
           "marker": {
            "symbol": "diamond"
           },
           "mode": "lines+markers",
           "name": "True, next",
           "orientation": "v",
           "showlegend": true,
           "type": "scatter",
           "x": [
            0.7613636363636364
           ],
           "xaxis": "x",
           "y": [
            0.76
           ],
           "yaxis": "y"
          },
          {
           "hovertemplate": "<b>%{hovertext}</b><br><br>main=False<br>type=last<br>step=24<br>name=1<br>x=%{x}<br>y=%{y}<extra></extra>",
           "hovertext": [
            "Last node of 1 <br> reward: 1.0 <br> action: [2, 5, 3, 4, 2, 0, 3, 5, 2, 2] <br> in system: 0.0"
           ],
           "legendgroup": "False, last",
           "line": {
            "color": "#EF553B",
            "dash": "solid"
           },
           "marker": {
            "symbol": "circle"
           },
           "mode": "lines+markers",
           "name": "False, last",
           "orientation": "v",
           "showlegend": true,
           "type": "scatter",
           "x": [
            0
           ],
           "xaxis": "x",
           "y": [
            0
           ],
           "yaxis": "y"
          },
          {
           "hovertemplate": "<b>%{hovertext}</b><br><br>main=False<br>type=last<br>step=24<br>name=2<br>x=%{x}<br>y=%{y}<extra></extra>",
           "hovertext": [
            "Last node of 2 <br> reward: 1.0 <br> action: [2, 5, 3, 4, 2, 0, 3, 5, 2, 2] <br> in system: 1.0"
           ],
           "legendgroup": "False, last",
           "line": {
            "color": "#EF553B",
            "dash": "solid"
           },
           "marker": {
            "symbol": "circle"
           },
           "mode": "lines+markers",
           "name": "False, last",
           "orientation": "v",
           "showlegend": false,
           "type": "scatter",
           "x": [
            0.42045454545454547
           ],
           "xaxis": "x",
           "y": [
            0.38
           ],
           "yaxis": "y"
          },
          {
           "hovertemplate": "<b>%{hovertext}</b><br><br>main=False<br>type=last<br>step=24<br>name=3<br>x=%{x}<br>y=%{y}<extra></extra>",
           "hovertext": [
            "Last node of 3 <br> reward: 1.0 <br> action: [2, 5, 3, 4, 2, 0, 3, 5, 2, 2] <br> in system: 1.0"
           ],
           "legendgroup": "False, last",
           "line": {
            "color": "#EF553B",
            "dash": "solid"
           },
           "marker": {
            "symbol": "circle"
           },
           "mode": "lines+markers",
           "name": "False, last",
           "orientation": "v",
           "showlegend": false,
           "type": "scatter",
           "x": [
            0.32954545454545453
           ],
           "xaxis": "x",
           "y": [
            0.428
           ],
           "yaxis": "y"
          },
          {
           "hovertemplate": "<b>%{hovertext}</b><br><br>main=False<br>type=last<br>step=24<br>name=4<br>x=%{x}<br>y=%{y}<extra></extra>",
           "hovertext": [
            "Last node of 4 <br> reward: 1.0 <br> action: [2, 5, 3, 4, 2, 0, 3, 5, 2, 2] <br> in system: 0.0"
           ],
           "legendgroup": "False, last",
           "line": {
            "color": "#EF553B",
            "dash": "solid"
           },
           "marker": {
            "symbol": "circle"
           },
           "mode": "lines+markers",
           "name": "False, last",
           "orientation": "v",
           "showlegend": false,
           "type": "scatter",
           "x": [
            0
           ],
           "xaxis": "x",
           "y": [
            0
           ],
           "yaxis": "y"
          },
          {
           "hovertemplate": "<b>%{hovertext}</b><br><br>main=False<br>type=last<br>step=24<br>name=5<br>x=%{x}<br>y=%{y}<extra></extra>",
           "hovertext": [
            "Last node of 5 <br> reward: 1.0 <br> action: [2, 5, 3, 4, 2, 0, 3, 5, 2, 2] <br> in system: 1.0"
           ],
           "legendgroup": "False, last",
           "line": {
            "color": "#EF553B",
            "dash": "solid"
           },
           "marker": {
            "symbol": "circle"
           },
           "mode": "lines+markers",
           "name": "False, last",
           "orientation": "v",
           "showlegend": false,
           "type": "scatter",
           "x": [
            0.42045454545454547
           ],
           "xaxis": "x",
           "y": [
            0.38
           ],
           "yaxis": "y"
          },
          {
           "hovertemplate": "<b>%{hovertext}</b><br><br>main=False<br>type=last<br>step=24<br>name=6<br>x=%{x}<br>y=%{y}<extra></extra>",
           "hovertext": [
            "Last node of 6 <br> reward: 1.0 <br> action: [2, 5, 3, 4, 2, 0, 3, 5, 2, 2] <br> in system: 1.0"
           ],
           "legendgroup": "False, last",
           "line": {
            "color": "#EF553B",
            "dash": "solid"
           },
           "marker": {
            "symbol": "circle"
           },
           "mode": "lines+markers",
           "name": "False, last",
           "orientation": "v",
           "showlegend": false,
           "type": "scatter",
           "x": [
            0.9431818181818182
           ],
           "xaxis": "x",
           "y": [
            0.86
           ],
           "yaxis": "y"
          },
          {
           "hovertemplate": "<b>%{hovertext}</b><br><br>main=False<br>type=last<br>step=24<br>name=7<br>x=%{x}<br>y=%{y}<extra></extra>",
           "hovertext": [
            "Last node of 7 <br> reward: 1.0 <br> action: [2, 5, 3, 4, 2, 0, 3, 5, 2, 2] <br> in system: 0.0"
           ],
           "legendgroup": "False, last",
           "line": {
            "color": "#EF553B",
            "dash": "solid"
           },
           "marker": {
            "symbol": "circle"
           },
           "mode": "lines+markers",
           "name": "False, last",
           "orientation": "v",
           "showlegend": false,
           "type": "scatter",
           "x": [
            0
           ],
           "xaxis": "x",
           "y": [
            0
           ],
           "yaxis": "y"
          },
          {
           "hovertemplate": "<b>%{hovertext}</b><br><br>main=False<br>type=last<br>step=24<br>name=8<br>x=%{x}<br>y=%{y}<extra></extra>",
           "hovertext": [
            "Last node of 8 <br> reward: 1.0 <br> action: [2, 5, 3, 4, 2, 0, 3, 5, 2, 2] <br> in system: 0.0"
           ],
           "legendgroup": "False, last",
           "line": {
            "color": "#EF553B",
            "dash": "solid"
           },
           "marker": {
            "symbol": "circle"
           },
           "mode": "lines+markers",
           "name": "False, last",
           "orientation": "v",
           "showlegend": false,
           "type": "scatter",
           "x": [
            0
           ],
           "xaxis": "x",
           "y": [
            0
           ],
           "yaxis": "y"
          },
          {
           "hovertemplate": "<b>%{hovertext}</b><br><br>main=False<br>type=last<br>step=24<br>name=9<br>x=%{x}<br>y=%{y}<extra></extra>",
           "hovertext": [
            "Last node of 9 <br> reward: 1.0 <br> action: [2, 5, 3, 4, 2, 0, 3, 5, 2, 2] <br> in system: 1.0"
           ],
           "legendgroup": "False, last",
           "line": {
            "color": "#EF553B",
            "dash": "solid"
           },
           "marker": {
            "symbol": "circle"
           },
           "mode": "lines+markers",
           "name": "False, last",
           "orientation": "v",
           "showlegend": false,
           "type": "scatter",
           "x": [
            0.5454545454545454
           ],
           "xaxis": "x",
           "y": [
            0.76
           ],
           "yaxis": "y"
          },
          {
           "hovertemplate": "<b>%{hovertext}</b><br><br>main=False<br>type=next<br>step=24<br>name=1<br>x=%{x}<br>y=%{y}<extra></extra>",
           "hovertext": [
            "Next node of 1 <br> reward: 1.0 <br> action: [2, 5, 3, 4, 2, 0, 3, 5, 2, 2] <br> in system: 0.0"
           ],
           "legendgroup": "False, next",
           "line": {
            "color": "#EF553B",
            "dash": "solid"
           },
           "marker": {
            "symbol": "diamond"
           },
           "mode": "lines+markers",
           "name": "False, next",
           "orientation": "v",
           "showlegend": true,
           "type": "scatter",
           "x": [
            0
           ],
           "xaxis": "x",
           "y": [
            0
           ],
           "yaxis": "y"
          },
          {
           "hovertemplate": "<b>%{hovertext}</b><br><br>main=False<br>type=next<br>step=24<br>name=2<br>x=%{x}<br>y=%{y}<extra></extra>",
           "hovertext": [
            "Next node of 2 <br> reward: 1.0 <br> action: [2, 5, 3, 4, 2, 0, 3, 5, 2, 2] <br> in system: 1.0"
           ],
           "legendgroup": "False, next",
           "line": {
            "color": "#EF553B",
            "dash": "solid"
           },
           "marker": {
            "symbol": "diamond"
           },
           "mode": "lines+markers",
           "name": "False, next",
           "orientation": "v",
           "showlegend": false,
           "type": "scatter",
           "x": [
            0.32954545454545453
           ],
           "xaxis": "x",
           "y": [
            0.428
           ],
           "yaxis": "y"
          },
          {
           "hovertemplate": "<b>%{hovertext}</b><br><br>main=False<br>type=next<br>step=24<br>name=3<br>x=%{x}<br>y=%{y}<extra></extra>",
           "hovertext": [
            "Next node of 3 <br> reward: 1.0 <br> action: [2, 5, 3, 4, 2, 0, 3, 5, 2, 2] <br> in system: 1.0"
           ],
           "legendgroup": "False, next",
           "line": {
            "color": "#EF553B",
            "dash": "solid"
           },
           "marker": {
            "symbol": "diamond"
           },
           "mode": "lines+markers",
           "name": "False, next",
           "orientation": "v",
           "showlegend": false,
           "type": "scatter",
           "x": [
            0.42045454545454547
           ],
           "xaxis": "x",
           "y": [
            0.48
           ],
           "yaxis": "y"
          },
          {
           "hovertemplate": "<b>%{hovertext}</b><br><br>main=False<br>type=next<br>step=24<br>name=4<br>x=%{x}<br>y=%{y}<extra></extra>",
           "hovertext": [
            "Next node of 4 <br> reward: 1.0 <br> action: [2, 5, 3, 4, 2, 0, 3, 5, 2, 2] <br> in system: 0.0"
           ],
           "legendgroup": "False, next",
           "line": {
            "color": "#EF553B",
            "dash": "solid"
           },
           "marker": {
            "symbol": "diamond"
           },
           "mode": "lines+markers",
           "name": "False, next",
           "orientation": "v",
           "showlegend": false,
           "type": "scatter",
           "x": [
            0
           ],
           "xaxis": "x",
           "y": [
            0
           ],
           "yaxis": "y"
          },
          {
           "hovertemplate": "<b>%{hovertext}</b><br><br>main=False<br>type=next<br>step=24<br>name=5<br>x=%{x}<br>y=%{y}<extra></extra>",
           "hovertext": [
            "Next node of 5 <br> reward: 1.0 <br> action: [2, 5, 3, 4, 2, 0, 3, 5, 2, 2] <br> in system: 1.0"
           ],
           "legendgroup": "False, next",
           "line": {
            "color": "#EF553B",
            "dash": "solid"
           },
           "marker": {
            "symbol": "diamond"
           },
           "mode": "lines+markers",
           "name": "False, next",
           "orientation": "v",
           "showlegend": false,
           "type": "scatter",
           "x": [
            0.4772727272727273
           ],
           "xaxis": "x",
           "y": [
            0.38
           ],
           "yaxis": "y"
          },
          {
           "hovertemplate": "<b>%{hovertext}</b><br><br>main=False<br>type=next<br>step=24<br>name=6<br>x=%{x}<br>y=%{y}<extra></extra>",
           "hovertext": [
            "Next node of 6 <br> reward: 1.0 <br> action: [2, 5, 3, 4, 2, 0, 3, 5, 2, 2] <br> in system: 1.0"
           ],
           "legendgroup": "False, next",
           "line": {
            "color": "#EF553B",
            "dash": "solid"
           },
           "marker": {
            "symbol": "diamond"
           },
           "mode": "lines+markers",
           "name": "False, next",
           "orientation": "v",
           "showlegend": false,
           "type": "scatter",
           "x": [
            1
           ],
           "xaxis": "x",
           "y": [
            0.86
           ],
           "yaxis": "y"
          },
          {
           "hovertemplate": "<b>%{hovertext}</b><br><br>main=False<br>type=next<br>step=24<br>name=7<br>x=%{x}<br>y=%{y}<extra></extra>",
           "hovertext": [
            "Next node of 7 <br> reward: 1.0 <br> action: [2, 5, 3, 4, 2, 0, 3, 5, 2, 2] <br> in system: 0.0"
           ],
           "legendgroup": "False, next",
           "line": {
            "color": "#EF553B",
            "dash": "solid"
           },
           "marker": {
            "symbol": "diamond"
           },
           "mode": "lines+markers",
           "name": "False, next",
           "orientation": "v",
           "showlegend": false,
           "type": "scatter",
           "x": [
            0
           ],
           "xaxis": "x",
           "y": [
            0
           ],
           "yaxis": "y"
          },
          {
           "hovertemplate": "<b>%{hovertext}</b><br><br>main=False<br>type=next<br>step=24<br>name=8<br>x=%{x}<br>y=%{y}<extra></extra>",
           "hovertext": [
            "Next node of 8 <br> reward: 1.0 <br> action: [2, 5, 3, 4, 2, 0, 3, 5, 2, 2] <br> in system: 0.0"
           ],
           "legendgroup": "False, next",
           "line": {
            "color": "#EF553B",
            "dash": "solid"
           },
           "marker": {
            "symbol": "diamond"
           },
           "mode": "lines+markers",
           "name": "False, next",
           "orientation": "v",
           "showlegend": false,
           "type": "scatter",
           "x": [
            0
           ],
           "xaxis": "x",
           "y": [
            0
           ],
           "yaxis": "y"
          },
          {
           "hovertemplate": "<b>%{hovertext}</b><br><br>main=False<br>type=next<br>step=24<br>name=9<br>x=%{x}<br>y=%{y}<extra></extra>",
           "hovertext": [
            "Next node of 9 <br> reward: 1.0 <br> action: [2, 5, 3, 4, 2, 0, 3, 5, 2, 2] <br> in system: 1.0"
           ],
           "legendgroup": "False, next",
           "line": {
            "color": "#EF553B",
            "dash": "solid"
           },
           "marker": {
            "symbol": "diamond"
           },
           "mode": "lines+markers",
           "name": "False, next",
           "orientation": "v",
           "showlegend": false,
           "type": "scatter",
           "x": [
            0.5727272727272728
           ],
           "xaxis": "x",
           "y": [
            0.62
           ],
           "yaxis": "y"
          }
         ],
         "name": "24"
        },
        {
         "data": [
          {
           "hovertemplate": "<b>%{hovertext}</b><br><br>main=True<br>type=last<br>step=25<br>name=0<br>x=%{x}<br>y=%{y}<extra></extra>",
           "hovertext": [
            "Last node of 0 <br> reward: 0 <br> action: [0, 3, 2, 2, 5, 2, 1, 0, 3, 0] <br> in system: 1.0"
           ],
           "legendgroup": "True, last",
           "line": {
            "color": "#636efa",
            "dash": "solid"
           },
           "marker": {
            "symbol": "circle"
           },
           "mode": "lines+markers",
           "name": "True, last",
           "orientation": "v",
           "showlegend": true,
           "type": "scatter",
           "x": [
            0.7613636363636364
           ],
           "xaxis": "x",
           "y": [
            0.76
           ],
           "yaxis": "y"
          },
          {
           "hovertemplate": "<b>%{hovertext}</b><br><br>main=True<br>type=next<br>step=25<br>name=0<br>x=%{x}<br>y=%{y}<extra></extra>",
           "hovertext": [
            "Next node of 0 <br> reward: 0 <br> action: [0, 3, 2, 2, 5, 2, 1, 0, 3, 0] <br> in system: 1.0"
           ],
           "legendgroup": "True, next",
           "line": {
            "color": "#636efa",
            "dash": "solid"
           },
           "marker": {
            "symbol": "diamond"
           },
           "mode": "lines+markers",
           "name": "True, next",
           "orientation": "v",
           "showlegend": true,
           "type": "scatter",
           "x": [
            0.7909090909090909
           ],
           "xaxis": "x",
           "y": [
            0.62
           ],
           "yaxis": "y"
          },
          {
           "hovertemplate": "<b>%{hovertext}</b><br><br>main=False<br>type=last<br>step=25<br>name=1<br>x=%{x}<br>y=%{y}<extra></extra>",
           "hovertext": [
            "Last node of 1 <br> reward: 0 <br> action: [0, 3, 2, 2, 5, 2, 1, 0, 3, 0] <br> in system: 1.0"
           ],
           "legendgroup": "False, last",
           "line": {
            "color": "#EF553B",
            "dash": "solid"
           },
           "marker": {
            "symbol": "circle"
           },
           "mode": "lines+markers",
           "name": "False, last",
           "orientation": "v",
           "showlegend": true,
           "type": "scatter",
           "x": [
            1
           ],
           "xaxis": "x",
           "y": [
            0.86
           ],
           "yaxis": "y"
          },
          {
           "hovertemplate": "<b>%{hovertext}</b><br><br>main=False<br>type=last<br>step=25<br>name=2<br>x=%{x}<br>y=%{y}<extra></extra>",
           "hovertext": [
            "Last node of 2 <br> reward: 0 <br> action: [0, 3, 2, 2, 5, 2, 1, 0, 3, 0] <br> in system: 0.0"
           ],
           "legendgroup": "False, last",
           "line": {
            "color": "#EF553B",
            "dash": "solid"
           },
           "marker": {
            "symbol": "circle"
           },
           "mode": "lines+markers",
           "name": "False, last",
           "orientation": "v",
           "showlegend": false,
           "type": "scatter",
           "x": [
            0
           ],
           "xaxis": "x",
           "y": [
            0
           ],
           "yaxis": "y"
          },
          {
           "hovertemplate": "<b>%{hovertext}</b><br><br>main=False<br>type=last<br>step=25<br>name=3<br>x=%{x}<br>y=%{y}<extra></extra>",
           "hovertext": [
            "Last node of 3 <br> reward: 0 <br> action: [0, 3, 2, 2, 5, 2, 1, 0, 3, 0] <br> in system: 1.0"
           ],
           "legendgroup": "False, last",
           "line": {
            "color": "#EF553B",
            "dash": "solid"
           },
           "marker": {
            "symbol": "circle"
           },
           "mode": "lines+markers",
           "name": "False, last",
           "orientation": "v",
           "showlegend": false,
           "type": "scatter",
           "x": [
            0.5454545454545454
           ],
           "xaxis": "x",
           "y": [
            0.76
           ],
           "yaxis": "y"
          },
          {
           "hovertemplate": "<b>%{hovertext}</b><br><br>main=False<br>type=last<br>step=25<br>name=4<br>x=%{x}<br>y=%{y}<extra></extra>",
           "hovertext": [
            "Last node of 4 <br> reward: 0 <br> action: [0, 3, 2, 2, 5, 2, 1, 0, 3, 0] <br> in system: 0.0"
           ],
           "legendgroup": "False, last",
           "line": {
            "color": "#EF553B",
            "dash": "solid"
           },
           "marker": {
            "symbol": "circle"
           },
           "mode": "lines+markers",
           "name": "False, last",
           "orientation": "v",
           "showlegend": false,
           "type": "scatter",
           "x": [
            0
           ],
           "xaxis": "x",
           "y": [
            0
           ],
           "yaxis": "y"
          },
          {
           "hovertemplate": "<b>%{hovertext}</b><br><br>main=False<br>type=last<br>step=25<br>name=5<br>x=%{x}<br>y=%{y}<extra></extra>",
           "hovertext": [
            "Last node of 5 <br> reward: 0 <br> action: [0, 3, 2, 2, 5, 2, 1, 0, 3, 0] <br> in system: 1.0"
           ],
           "legendgroup": "False, last",
           "line": {
            "color": "#EF553B",
            "dash": "solid"
           },
           "marker": {
            "symbol": "circle"
           },
           "mode": "lines+markers",
           "name": "False, last",
           "orientation": "v",
           "showlegend": false,
           "type": "scatter",
           "x": [
            0.42045454545454547
           ],
           "xaxis": "x",
           "y": [
            0.38
           ],
           "yaxis": "y"
          },
          {
           "hovertemplate": "<b>%{hovertext}</b><br><br>main=False<br>type=last<br>step=25<br>name=6<br>x=%{x}<br>y=%{y}<extra></extra>",
           "hovertext": [
            "Last node of 6 <br> reward: 0 <br> action: [0, 3, 2, 2, 5, 2, 1, 0, 3, 0] <br> in system: 0.0"
           ],
           "legendgroup": "False, last",
           "line": {
            "color": "#EF553B",
            "dash": "solid"
           },
           "marker": {
            "symbol": "circle"
           },
           "mode": "lines+markers",
           "name": "False, last",
           "orientation": "v",
           "showlegend": false,
           "type": "scatter",
           "x": [
            0
           ],
           "xaxis": "x",
           "y": [
            0
           ],
           "yaxis": "y"
          },
          {
           "hovertemplate": "<b>%{hovertext}</b><br><br>main=False<br>type=last<br>step=25<br>name=7<br>x=%{x}<br>y=%{y}<extra></extra>",
           "hovertext": [
            "Last node of 7 <br> reward: 0 <br> action: [0, 3, 2, 2, 5, 2, 1, 0, 3, 0] <br> in system: 1.0"
           ],
           "legendgroup": "False, last",
           "line": {
            "color": "#EF553B",
            "dash": "solid"
           },
           "marker": {
            "symbol": "circle"
           },
           "mode": "lines+markers",
           "name": "False, last",
           "orientation": "v",
           "showlegend": false,
           "type": "scatter",
           "x": [
            0.4772727272727273
           ],
           "xaxis": "x",
           "y": [
            0.48
           ],
           "yaxis": "y"
          },
          {
           "hovertemplate": "<b>%{hovertext}</b><br><br>main=False<br>type=last<br>step=25<br>name=8<br>x=%{x}<br>y=%{y}<extra></extra>",
           "hovertext": [
            "Last node of 8 <br> reward: 0 <br> action: [0, 3, 2, 2, 5, 2, 1, 0, 3, 0] <br> in system: 0.0"
           ],
           "legendgroup": "False, last",
           "line": {
            "color": "#EF553B",
            "dash": "solid"
           },
           "marker": {
            "symbol": "circle"
           },
           "mode": "lines+markers",
           "name": "False, last",
           "orientation": "v",
           "showlegend": false,
           "type": "scatter",
           "x": [
            0
           ],
           "xaxis": "x",
           "y": [
            0
           ],
           "yaxis": "y"
          },
          {
           "hovertemplate": "<b>%{hovertext}</b><br><br>main=False<br>type=last<br>step=25<br>name=9<br>x=%{x}<br>y=%{y}<extra></extra>",
           "hovertext": [
            "Last node of 9 <br> reward: 0 <br> action: [0, 3, 2, 2, 5, 2, 1, 0, 3, 0] <br> in system: 1.0"
           ],
           "legendgroup": "False, last",
           "line": {
            "color": "#EF553B",
            "dash": "solid"
           },
           "marker": {
            "symbol": "circle"
           },
           "mode": "lines+markers",
           "name": "False, last",
           "orientation": "v",
           "showlegend": false,
           "type": "scatter",
           "x": [
            0.42045454545454547
           ],
           "xaxis": "x",
           "y": [
            0.38
           ],
           "yaxis": "y"
          },
          {
           "hovertemplate": "<b>%{hovertext}</b><br><br>main=False<br>type=next<br>step=25<br>name=1<br>x=%{x}<br>y=%{y}<extra></extra>",
           "hovertext": [
            "Next node of 1 <br> reward: 0 <br> action: [0, 3, 2, 2, 5, 2, 1, 0, 3, 0] <br> in system: 1.0"
           ],
           "legendgroup": "False, next",
           "line": {
            "color": "#EF553B",
            "dash": "solid"
           },
           "marker": {
            "symbol": "diamond"
           },
           "mode": "lines+markers",
           "name": "False, next",
           "orientation": "v",
           "showlegend": true,
           "type": "scatter",
           "x": [
            0.9727272727272728
           ],
           "xaxis": "x",
           "y": [
            1
           ],
           "yaxis": "y"
          },
          {
           "hovertemplate": "<b>%{hovertext}</b><br><br>main=False<br>type=next<br>step=25<br>name=2<br>x=%{x}<br>y=%{y}<extra></extra>",
           "hovertext": [
            "Next node of 2 <br> reward: 0 <br> action: [0, 3, 2, 2, 5, 2, 1, 0, 3, 0] <br> in system: 0.0"
           ],
           "legendgroup": "False, next",
           "line": {
            "color": "#EF553B",
            "dash": "solid"
           },
           "marker": {
            "symbol": "diamond"
           },
           "mode": "lines+markers",
           "name": "False, next",
           "orientation": "v",
           "showlegend": false,
           "type": "scatter",
           "x": [
            0
           ],
           "xaxis": "x",
           "y": [
            0
           ],
           "yaxis": "y"
          },
          {
           "hovertemplate": "<b>%{hovertext}</b><br><br>main=False<br>type=next<br>step=25<br>name=3<br>x=%{x}<br>y=%{y}<extra></extra>",
           "hovertext": [
            "Next node of 3 <br> reward: 0 <br> action: [0, 3, 2, 2, 5, 2, 1, 0, 3, 0] <br> in system: 1.0"
           ],
           "legendgroup": "False, next",
           "line": {
            "color": "#EF553B",
            "dash": "solid"
           },
           "marker": {
            "symbol": "diamond"
           },
           "mode": "lines+markers",
           "name": "False, next",
           "orientation": "v",
           "showlegend": false,
           "type": "scatter",
           "x": [
            0.5727272727272728
           ],
           "xaxis": "x",
           "y": [
            0.62
           ],
           "yaxis": "y"
          },
          {
           "hovertemplate": "<b>%{hovertext}</b><br><br>main=False<br>type=next<br>step=25<br>name=4<br>x=%{x}<br>y=%{y}<extra></extra>",
           "hovertext": [
            "Next node of 4 <br> reward: 0 <br> action: [0, 3, 2, 2, 5, 2, 1, 0, 3, 0] <br> in system: 0.0"
           ],
           "legendgroup": "False, next",
           "line": {
            "color": "#EF553B",
            "dash": "solid"
           },
           "marker": {
            "symbol": "diamond"
           },
           "mode": "lines+markers",
           "name": "False, next",
           "orientation": "v",
           "showlegend": false,
           "type": "scatter",
           "x": [
            0
           ],
           "xaxis": "x",
           "y": [
            0
           ],
           "yaxis": "y"
          },
          {
           "hovertemplate": "<b>%{hovertext}</b><br><br>main=False<br>type=next<br>step=25<br>name=5<br>x=%{x}<br>y=%{y}<extra></extra>",
           "hovertext": [
            "Next node of 5 <br> reward: 0 <br> action: [0, 3, 2, 2, 5, 2, 1, 0, 3, 0] <br> in system: 1.0"
           ],
           "legendgroup": "False, next",
           "line": {
            "color": "#EF553B",
            "dash": "solid"
           },
           "marker": {
            "symbol": "diamond"
           },
           "mode": "lines+markers",
           "name": "False, next",
           "orientation": "v",
           "showlegend": false,
           "type": "scatter",
           "x": [
            0.4772727272727273
           ],
           "xaxis": "x",
           "y": [
            0.38
           ],
           "yaxis": "y"
          },
          {
           "hovertemplate": "<b>%{hovertext}</b><br><br>main=False<br>type=next<br>step=25<br>name=6<br>x=%{x}<br>y=%{y}<extra></extra>",
           "hovertext": [
            "Next node of 6 <br> reward: 0 <br> action: [0, 3, 2, 2, 5, 2, 1, 0, 3, 0] <br> in system: 0.0"
           ],
           "legendgroup": "False, next",
           "line": {
            "color": "#EF553B",
            "dash": "solid"
           },
           "marker": {
            "symbol": "diamond"
           },
           "mode": "lines+markers",
           "name": "False, next",
           "orientation": "v",
           "showlegend": false,
           "type": "scatter",
           "x": [
            0
           ],
           "xaxis": "x",
           "y": [
            0
           ],
           "yaxis": "y"
          },
          {
           "hovertemplate": "<b>%{hovertext}</b><br><br>main=False<br>type=next<br>step=25<br>name=7<br>x=%{x}<br>y=%{y}<extra></extra>",
           "hovertext": [
            "Next node of 7 <br> reward: 0 <br> action: [0, 3, 2, 2, 5, 2, 1, 0, 3, 0] <br> in system: 1.0"
           ],
           "legendgroup": "False, next",
           "line": {
            "color": "#EF553B",
            "dash": "solid"
           },
           "marker": {
            "symbol": "diamond"
           },
           "mode": "lines+markers",
           "name": "False, next",
           "orientation": "v",
           "showlegend": false,
           "type": "scatter",
           "x": [
            0.4772727272727273
           ],
           "xaxis": "x",
           "y": [
            0.76
           ],
           "yaxis": "y"
          },
          {
           "hovertemplate": "<b>%{hovertext}</b><br><br>main=False<br>type=next<br>step=25<br>name=8<br>x=%{x}<br>y=%{y}<extra></extra>",
           "hovertext": [
            "Next node of 8 <br> reward: 0 <br> action: [0, 3, 2, 2, 5, 2, 1, 0, 3, 0] <br> in system: 0.0"
           ],
           "legendgroup": "False, next",
           "line": {
            "color": "#EF553B",
            "dash": "solid"
           },
           "marker": {
            "symbol": "diamond"
           },
           "mode": "lines+markers",
           "name": "False, next",
           "orientation": "v",
           "showlegend": false,
           "type": "scatter",
           "x": [
            0
           ],
           "xaxis": "x",
           "y": [
            0
           ],
           "yaxis": "y"
          },
          {
           "hovertemplate": "<b>%{hovertext}</b><br><br>main=False<br>type=next<br>step=25<br>name=9<br>x=%{x}<br>y=%{y}<extra></extra>",
           "hovertext": [
            "Next node of 9 <br> reward: 0 <br> action: [0, 3, 2, 2, 5, 2, 1, 0, 3, 0] <br> in system: 1.0"
           ],
           "legendgroup": "False, next",
           "line": {
            "color": "#EF553B",
            "dash": "solid"
           },
           "marker": {
            "symbol": "diamond"
           },
           "mode": "lines+markers",
           "name": "False, next",
           "orientation": "v",
           "showlegend": false,
           "type": "scatter",
           "x": [
            0.32954545454545453
           ],
           "xaxis": "x",
           "y": [
            0.428
           ],
           "yaxis": "y"
          }
         ],
         "name": "25"
        },
        {
         "data": [
          {
           "hovertemplate": "<b>%{hovertext}</b><br><br>main=True<br>type=last<br>step=26<br>name=0<br>x=%{x}<br>y=%{y}<extra></extra>",
           "hovertext": [
            "Last node of 0 <br> reward: 1.0 <br> action: [1, 5, 4, 5, 5, 1, 5, 3, 0, 0] <br> in system: 1.0"
           ],
           "legendgroup": "True, last",
           "line": {
            "color": "#636efa",
            "dash": "solid"
           },
           "marker": {
            "symbol": "circle"
           },
           "mode": "lines+markers",
           "name": "True, last",
           "orientation": "v",
           "showlegend": true,
           "type": "scatter",
           "x": [
            0.7613636363636364
           ],
           "xaxis": "x",
           "y": [
            0.76
           ],
           "yaxis": "y"
          },
          {
           "hovertemplate": "<b>%{hovertext}</b><br><br>main=True<br>type=next<br>step=26<br>name=0<br>x=%{x}<br>y=%{y}<extra></extra>",
           "hovertext": [
            "Next node of 0 <br> reward: 1.0 <br> action: [1, 5, 4, 5, 5, 1, 5, 3, 0, 0] <br> in system: 1.0"
           ],
           "legendgroup": "True, next",
           "line": {
            "color": "#636efa",
            "dash": "solid"
           },
           "marker": {
            "symbol": "diamond"
           },
           "mode": "lines+markers",
           "name": "True, next",
           "orientation": "v",
           "showlegend": true,
           "type": "scatter",
           "x": [
            0.7909090909090909
           ],
           "xaxis": "x",
           "y": [
            0.62
           ],
           "yaxis": "y"
          },
          {
           "hovertemplate": "<b>%{hovertext}</b><br><br>main=False<br>type=last<br>step=26<br>name=1<br>x=%{x}<br>y=%{y}<extra></extra>",
           "hovertext": [
            "Last node of 1 <br> reward: 1.0 <br> action: [1, 5, 4, 5, 5, 1, 5, 3, 0, 0] <br> in system: 0.0"
           ],
           "legendgroup": "False, last",
           "line": {
            "color": "#EF553B",
            "dash": "solid"
           },
           "marker": {
            "symbol": "circle"
           },
           "mode": "lines+markers",
           "name": "False, last",
           "orientation": "v",
           "showlegend": true,
           "type": "scatter",
           "x": [
            0
           ],
           "xaxis": "x",
           "y": [
            0
           ],
           "yaxis": "y"
          },
          {
           "hovertemplate": "<b>%{hovertext}</b><br><br>main=False<br>type=last<br>step=26<br>name=2<br>x=%{x}<br>y=%{y}<extra></extra>",
           "hovertext": [
            "Last node of 2 <br> reward: 1.0 <br> action: [1, 5, 4, 5, 5, 1, 5, 3, 0, 0] <br> in system: 1.0"
           ],
           "legendgroup": "False, last",
           "line": {
            "color": "#EF553B",
            "dash": "solid"
           },
           "marker": {
            "symbol": "circle"
           },
           "mode": "lines+markers",
           "name": "False, last",
           "orientation": "v",
           "showlegend": false,
           "type": "scatter",
           "x": [
            0.42045454545454547
           ],
           "xaxis": "x",
           "y": [
            0.38
           ],
           "yaxis": "y"
          },
          {
           "hovertemplate": "<b>%{hovertext}</b><br><br>main=False<br>type=last<br>step=26<br>name=3<br>x=%{x}<br>y=%{y}<extra></extra>",
           "hovertext": [
            "Last node of 3 <br> reward: 1.0 <br> action: [1, 5, 4, 5, 5, 1, 5, 3, 0, 0] <br> in system: 0.0"
           ],
           "legendgroup": "False, last",
           "line": {
            "color": "#EF553B",
            "dash": "solid"
           },
           "marker": {
            "symbol": "circle"
           },
           "mode": "lines+markers",
           "name": "False, last",
           "orientation": "v",
           "showlegend": false,
           "type": "scatter",
           "x": [
            0
           ],
           "xaxis": "x",
           "y": [
            0
           ],
           "yaxis": "y"
          },
          {
           "hovertemplate": "<b>%{hovertext}</b><br><br>main=False<br>type=last<br>step=26<br>name=4<br>x=%{x}<br>y=%{y}<extra></extra>",
           "hovertext": [
            "Last node of 4 <br> reward: 1.0 <br> action: [1, 5, 4, 5, 5, 1, 5, 3, 0, 0] <br> in system: 1.0"
           ],
           "legendgroup": "False, last",
           "line": {
            "color": "#EF553B",
            "dash": "solid"
           },
           "marker": {
            "symbol": "circle"
           },
           "mode": "lines+markers",
           "name": "False, last",
           "orientation": "v",
           "showlegend": false,
           "type": "scatter",
           "x": [
            0.5454545454545454
           ],
           "xaxis": "x",
           "y": [
            0.76
           ],
           "yaxis": "y"
          },
          {
           "hovertemplate": "<b>%{hovertext}</b><br><br>main=False<br>type=last<br>step=26<br>name=5<br>x=%{x}<br>y=%{y}<extra></extra>",
           "hovertext": [
            "Last node of 5 <br> reward: 1.0 <br> action: [1, 5, 4, 5, 5, 1, 5, 3, 0, 0] <br> in system: 0.0"
           ],
           "legendgroup": "False, last",
           "line": {
            "color": "#EF553B",
            "dash": "solid"
           },
           "marker": {
            "symbol": "circle"
           },
           "mode": "lines+markers",
           "name": "False, last",
           "orientation": "v",
           "showlegend": false,
           "type": "scatter",
           "x": [
            0
           ],
           "xaxis": "x",
           "y": [
            0
           ],
           "yaxis": "y"
          },
          {
           "hovertemplate": "<b>%{hovertext}</b><br><br>main=False<br>type=last<br>step=26<br>name=6<br>x=%{x}<br>y=%{y}<extra></extra>",
           "hovertext": [
            "Last node of 6 <br> reward: 1.0 <br> action: [1, 5, 4, 5, 5, 1, 5, 3, 0, 0] <br> in system: 1.0"
           ],
           "legendgroup": "False, last",
           "line": {
            "color": "#EF553B",
            "dash": "solid"
           },
           "marker": {
            "symbol": "circle"
           },
           "mode": "lines+markers",
           "name": "False, last",
           "orientation": "v",
           "showlegend": false,
           "type": "scatter",
           "x": [
            0.42045454545454547
           ],
           "xaxis": "x",
           "y": [
            0.38
           ],
           "yaxis": "y"
          },
          {
           "hovertemplate": "<b>%{hovertext}</b><br><br>main=False<br>type=last<br>step=26<br>name=7<br>x=%{x}<br>y=%{y}<extra></extra>",
           "hovertext": [
            "Last node of 7 <br> reward: 1.0 <br> action: [1, 5, 4, 5, 5, 1, 5, 3, 0, 0] <br> in system: 1.0"
           ],
           "legendgroup": "False, last",
           "line": {
            "color": "#EF553B",
            "dash": "solid"
           },
           "marker": {
            "symbol": "circle"
           },
           "mode": "lines+markers",
           "name": "False, last",
           "orientation": "v",
           "showlegend": false,
           "type": "scatter",
           "x": [
            0.4772727272727273
           ],
           "xaxis": "x",
           "y": [
            0.48
           ],
           "yaxis": "y"
          },
          {
           "hovertemplate": "<b>%{hovertext}</b><br><br>main=False<br>type=last<br>step=26<br>name=8<br>x=%{x}<br>y=%{y}<extra></extra>",
           "hovertext": [
            "Last node of 8 <br> reward: 1.0 <br> action: [1, 5, 4, 5, 5, 1, 5, 3, 0, 0] <br> in system: 1.0"
           ],
           "legendgroup": "False, last",
           "line": {
            "color": "#EF553B",
            "dash": "solid"
           },
           "marker": {
            "symbol": "circle"
           },
           "mode": "lines+markers",
           "name": "False, last",
           "orientation": "v",
           "showlegend": false,
           "type": "scatter",
           "x": [
            1
           ],
           "xaxis": "x",
           "y": [
            0.86
           ],
           "yaxis": "y"
          },
          {
           "hovertemplate": "<b>%{hovertext}</b><br><br>main=False<br>type=last<br>step=26<br>name=9<br>x=%{x}<br>y=%{y}<extra></extra>",
           "hovertext": [
            "Last node of 9 <br> reward: 1.0 <br> action: [1, 5, 4, 5, 5, 1, 5, 3, 0, 0] <br> in system: 0.0"
           ],
           "legendgroup": "False, last",
           "line": {
            "color": "#EF553B",
            "dash": "solid"
           },
           "marker": {
            "symbol": "circle"
           },
           "mode": "lines+markers",
           "name": "False, last",
           "orientation": "v",
           "showlegend": false,
           "type": "scatter",
           "x": [
            0
           ],
           "xaxis": "x",
           "y": [
            0
           ],
           "yaxis": "y"
          },
          {
           "hovertemplate": "<b>%{hovertext}</b><br><br>main=False<br>type=next<br>step=26<br>name=1<br>x=%{x}<br>y=%{y}<extra></extra>",
           "hovertext": [
            "Next node of 1 <br> reward: 1.0 <br> action: [1, 5, 4, 5, 5, 1, 5, 3, 0, 0] <br> in system: 0.0"
           ],
           "legendgroup": "False, next",
           "line": {
            "color": "#EF553B",
            "dash": "solid"
           },
           "marker": {
            "symbol": "diamond"
           },
           "mode": "lines+markers",
           "name": "False, next",
           "orientation": "v",
           "showlegend": true,
           "type": "scatter",
           "x": [
            0
           ],
           "xaxis": "x",
           "y": [
            0
           ],
           "yaxis": "y"
          },
          {
           "hovertemplate": "<b>%{hovertext}</b><br><br>main=False<br>type=next<br>step=26<br>name=2<br>x=%{x}<br>y=%{y}<extra></extra>",
           "hovertext": [
            "Next node of 2 <br> reward: 1.0 <br> action: [1, 5, 4, 5, 5, 1, 5, 3, 0, 0] <br> in system: 1.0"
           ],
           "legendgroup": "False, next",
           "line": {
            "color": "#EF553B",
            "dash": "solid"
           },
           "marker": {
            "symbol": "diamond"
           },
           "mode": "lines+markers",
           "name": "False, next",
           "orientation": "v",
           "showlegend": false,
           "type": "scatter",
           "x": [
            0.32954545454545453
           ],
           "xaxis": "x",
           "y": [
            0.428
           ],
           "yaxis": "y"
          },
          {
           "hovertemplate": "<b>%{hovertext}</b><br><br>main=False<br>type=next<br>step=26<br>name=3<br>x=%{x}<br>y=%{y}<extra></extra>",
           "hovertext": [
            "Next node of 3 <br> reward: 1.0 <br> action: [1, 5, 4, 5, 5, 1, 5, 3, 0, 0] <br> in system: 0.0"
           ],
           "legendgroup": "False, next",
           "line": {
            "color": "#EF553B",
            "dash": "solid"
           },
           "marker": {
            "symbol": "diamond"
           },
           "mode": "lines+markers",
           "name": "False, next",
           "orientation": "v",
           "showlegend": false,
           "type": "scatter",
           "x": [
            0
           ],
           "xaxis": "x",
           "y": [
            0
           ],
           "yaxis": "y"
          },
          {
           "hovertemplate": "<b>%{hovertext}</b><br><br>main=False<br>type=next<br>step=26<br>name=4<br>x=%{x}<br>y=%{y}<extra></extra>",
           "hovertext": [
            "Next node of 4 <br> reward: 1.0 <br> action: [1, 5, 4, 5, 5, 1, 5, 3, 0, 0] <br> in system: 1.0"
           ],
           "legendgroup": "False, next",
           "line": {
            "color": "#EF553B",
            "dash": "solid"
           },
           "marker": {
            "symbol": "diamond"
           },
           "mode": "lines+markers",
           "name": "False, next",
           "orientation": "v",
           "showlegend": false,
           "type": "scatter",
           "x": [
            0.5727272727272728
           ],
           "xaxis": "x",
           "y": [
            0.62
           ],
           "yaxis": "y"
          },
          {
           "hovertemplate": "<b>%{hovertext}</b><br><br>main=False<br>type=next<br>step=26<br>name=5<br>x=%{x}<br>y=%{y}<extra></extra>",
           "hovertext": [
            "Next node of 5 <br> reward: 1.0 <br> action: [1, 5, 4, 5, 5, 1, 5, 3, 0, 0] <br> in system: 0.0"
           ],
           "legendgroup": "False, next",
           "line": {
            "color": "#EF553B",
            "dash": "solid"
           },
           "marker": {
            "symbol": "diamond"
           },
           "mode": "lines+markers",
           "name": "False, next",
           "orientation": "v",
           "showlegend": false,
           "type": "scatter",
           "x": [
            0
           ],
           "xaxis": "x",
           "y": [
            0
           ],
           "yaxis": "y"
          },
          {
           "hovertemplate": "<b>%{hovertext}</b><br><br>main=False<br>type=next<br>step=26<br>name=6<br>x=%{x}<br>y=%{y}<extra></extra>",
           "hovertext": [
            "Next node of 6 <br> reward: 1.0 <br> action: [1, 5, 4, 5, 5, 1, 5, 3, 0, 0] <br> in system: 1.0"
           ],
           "legendgroup": "False, next",
           "line": {
            "color": "#EF553B",
            "dash": "solid"
           },
           "marker": {
            "symbol": "diamond"
           },
           "mode": "lines+markers",
           "name": "False, next",
           "orientation": "v",
           "showlegend": false,
           "type": "scatter",
           "x": [
            0.4772727272727273
           ],
           "xaxis": "x",
           "y": [
            0.38
           ],
           "yaxis": "y"
          },
          {
           "hovertemplate": "<b>%{hovertext}</b><br><br>main=False<br>type=next<br>step=26<br>name=7<br>x=%{x}<br>y=%{y}<extra></extra>",
           "hovertext": [
            "Next node of 7 <br> reward: 1.0 <br> action: [1, 5, 4, 5, 5, 1, 5, 3, 0, 0] <br> in system: 1.0"
           ],
           "legendgroup": "False, next",
           "line": {
            "color": "#EF553B",
            "dash": "solid"
           },
           "marker": {
            "symbol": "diamond"
           },
           "mode": "lines+markers",
           "name": "False, next",
           "orientation": "v",
           "showlegend": false,
           "type": "scatter",
           "x": [
            0.4772727272727273
           ],
           "xaxis": "x",
           "y": [
            0.76
           ],
           "yaxis": "y"
          },
          {
           "hovertemplate": "<b>%{hovertext}</b><br><br>main=False<br>type=next<br>step=26<br>name=8<br>x=%{x}<br>y=%{y}<extra></extra>",
           "hovertext": [
            "Next node of 8 <br> reward: 1.0 <br> action: [1, 5, 4, 5, 5, 1, 5, 3, 0, 0] <br> in system: 1.0"
           ],
           "legendgroup": "False, next",
           "line": {
            "color": "#EF553B",
            "dash": "solid"
           },
           "marker": {
            "symbol": "diamond"
           },
           "mode": "lines+markers",
           "name": "False, next",
           "orientation": "v",
           "showlegend": false,
           "type": "scatter",
           "x": [
            0.9727272727272728
           ],
           "xaxis": "x",
           "y": [
            1
           ],
           "yaxis": "y"
          },
          {
           "hovertemplate": "<b>%{hovertext}</b><br><br>main=False<br>type=next<br>step=26<br>name=9<br>x=%{x}<br>y=%{y}<extra></extra>",
           "hovertext": [
            "Next node of 9 <br> reward: 1.0 <br> action: [1, 5, 4, 5, 5, 1, 5, 3, 0, 0] <br> in system: 0.0"
           ],
           "legendgroup": "False, next",
           "line": {
            "color": "#EF553B",
            "dash": "solid"
           },
           "marker": {
            "symbol": "diamond"
           },
           "mode": "lines+markers",
           "name": "False, next",
           "orientation": "v",
           "showlegend": false,
           "type": "scatter",
           "x": [
            0
           ],
           "xaxis": "x",
           "y": [
            0
           ],
           "yaxis": "y"
          }
         ],
         "name": "26"
        },
        {
         "data": [
          {
           "hovertemplate": "<b>%{hovertext}</b><br><br>main=True<br>type=last<br>step=27<br>name=0<br>x=%{x}<br>y=%{y}<extra></extra>",
           "hovertext": [
            "Last node of 0 <br> reward: 1.0 <br> action: [4, 1, 4, 1, 0, 4, 2, 0, 4, 5] <br> in system: 1.0"
           ],
           "legendgroup": "True, last",
           "line": {
            "color": "#636efa",
            "dash": "solid"
           },
           "marker": {
            "symbol": "circle"
           },
           "mode": "lines+markers",
           "name": "True, last",
           "orientation": "v",
           "showlegend": true,
           "type": "scatter",
           "x": [
            0.7613636363636364
           ],
           "xaxis": "x",
           "y": [
            0.76
           ],
           "yaxis": "y"
          },
          {
           "hovertemplate": "<b>%{hovertext}</b><br><br>main=True<br>type=next<br>step=27<br>name=0<br>x=%{x}<br>y=%{y}<extra></extra>",
           "hovertext": [
            "Next node of 0 <br> reward: 1.0 <br> action: [4, 1, 4, 1, 0, 4, 2, 0, 4, 5] <br> in system: 1.0"
           ],
           "legendgroup": "True, next",
           "line": {
            "color": "#636efa",
            "dash": "solid"
           },
           "marker": {
            "symbol": "diamond"
           },
           "mode": "lines+markers",
           "name": "True, next",
           "orientation": "v",
           "showlegend": true,
           "type": "scatter",
           "x": [
            0.7909090909090909
           ],
           "xaxis": "x",
           "y": [
            0.62
           ],
           "yaxis": "y"
          },
          {
           "hovertemplate": "<b>%{hovertext}</b><br><br>main=False<br>type=last<br>step=27<br>name=1<br>x=%{x}<br>y=%{y}<extra></extra>",
           "hovertext": [
            "Last node of 1 <br> reward: 1.0 <br> action: [4, 1, 4, 1, 0, 4, 2, 0, 4, 5] <br> in system: 1.0"
           ],
           "legendgroup": "False, last",
           "line": {
            "color": "#EF553B",
            "dash": "solid"
           },
           "marker": {
            "symbol": "circle"
           },
           "mode": "lines+markers",
           "name": "False, last",
           "orientation": "v",
           "showlegend": true,
           "type": "scatter",
           "x": [
            0.4772727272727273
           ],
           "xaxis": "x",
           "y": [
            0.48
           ],
           "yaxis": "y"
          },
          {
           "hovertemplate": "<b>%{hovertext}</b><br><br>main=False<br>type=last<br>step=27<br>name=2<br>x=%{x}<br>y=%{y}<extra></extra>",
           "hovertext": [
            "Last node of 2 <br> reward: 1.0 <br> action: [4, 1, 4, 1, 0, 4, 2, 0, 4, 5] <br> in system: 1.0"
           ],
           "legendgroup": "False, last",
           "line": {
            "color": "#EF553B",
            "dash": "solid"
           },
           "marker": {
            "symbol": "circle"
           },
           "mode": "lines+markers",
           "name": "False, last",
           "orientation": "v",
           "showlegend": false,
           "type": "scatter",
           "x": [
            0.5454545454545454
           ],
           "xaxis": "x",
           "y": [
            0.76
           ],
           "yaxis": "y"
          },
          {
           "hovertemplate": "<b>%{hovertext}</b><br><br>main=False<br>type=last<br>step=27<br>name=3<br>x=%{x}<br>y=%{y}<extra></extra>",
           "hovertext": [
            "Last node of 3 <br> reward: 1.0 <br> action: [4, 1, 4, 1, 0, 4, 2, 0, 4, 5] <br> in system: 1.0"
           ],
           "legendgroup": "False, last",
           "line": {
            "color": "#EF553B",
            "dash": "solid"
           },
           "marker": {
            "symbol": "circle"
           },
           "mode": "lines+markers",
           "name": "False, last",
           "orientation": "v",
           "showlegend": false,
           "type": "scatter",
           "x": [
            0.9727272727272728
           ],
           "xaxis": "x",
           "y": [
            1
           ],
           "yaxis": "y"
          },
          {
           "hovertemplate": "<b>%{hovertext}</b><br><br>main=False<br>type=last<br>step=27<br>name=4<br>x=%{x}<br>y=%{y}<extra></extra>",
           "hovertext": [
            "Last node of 4 <br> reward: 1.0 <br> action: [4, 1, 4, 1, 0, 4, 2, 0, 4, 5] <br> in system: 1.0"
           ],
           "legendgroup": "False, last",
           "line": {
            "color": "#EF553B",
            "dash": "solid"
           },
           "marker": {
            "symbol": "circle"
           },
           "mode": "lines+markers",
           "name": "False, last",
           "orientation": "v",
           "showlegend": false,
           "type": "scatter",
           "x": [
            0.4772727272727273
           ],
           "xaxis": "x",
           "y": [
            0.38
           ],
           "yaxis": "y"
          },
          {
           "hovertemplate": "<b>%{hovertext}</b><br><br>main=False<br>type=last<br>step=27<br>name=5<br>x=%{x}<br>y=%{y}<extra></extra>",
           "hovertext": [
            "Last node of 5 <br> reward: 1.0 <br> action: [4, 1, 4, 1, 0, 4, 2, 0, 4, 5] <br> in system: 0.0"
           ],
           "legendgroup": "False, last",
           "line": {
            "color": "#EF553B",
            "dash": "solid"
           },
           "marker": {
            "symbol": "circle"
           },
           "mode": "lines+markers",
           "name": "False, last",
           "orientation": "v",
           "showlegend": false,
           "type": "scatter",
           "x": [
            0
           ],
           "xaxis": "x",
           "y": [
            0
           ],
           "yaxis": "y"
          },
          {
           "hovertemplate": "<b>%{hovertext}</b><br><br>main=False<br>type=last<br>step=27<br>name=6<br>x=%{x}<br>y=%{y}<extra></extra>",
           "hovertext": [
            "Last node of 6 <br> reward: 1.0 <br> action: [4, 1, 4, 1, 0, 4, 2, 0, 4, 5] <br> in system: 0.0"
           ],
           "legendgroup": "False, last",
           "line": {
            "color": "#EF553B",
            "dash": "solid"
           },
           "marker": {
            "symbol": "circle"
           },
           "mode": "lines+markers",
           "name": "False, last",
           "orientation": "v",
           "showlegend": false,
           "type": "scatter",
           "x": [
            0
           ],
           "xaxis": "x",
           "y": [
            0
           ],
           "yaxis": "y"
          },
          {
           "hovertemplate": "<b>%{hovertext}</b><br><br>main=False<br>type=last<br>step=27<br>name=7<br>x=%{x}<br>y=%{y}<extra></extra>",
           "hovertext": [
            "Last node of 7 <br> reward: 1.0 <br> action: [4, 1, 4, 1, 0, 4, 2, 0, 4, 5] <br> in system: 0.0"
           ],
           "legendgroup": "False, last",
           "line": {
            "color": "#EF553B",
            "dash": "solid"
           },
           "marker": {
            "symbol": "circle"
           },
           "mode": "lines+markers",
           "name": "False, last",
           "orientation": "v",
           "showlegend": false,
           "type": "scatter",
           "x": [
            0
           ],
           "xaxis": "x",
           "y": [
            0
           ],
           "yaxis": "y"
          },
          {
           "hovertemplate": "<b>%{hovertext}</b><br><br>main=False<br>type=last<br>step=27<br>name=8<br>x=%{x}<br>y=%{y}<extra></extra>",
           "hovertext": [
            "Last node of 8 <br> reward: 1.0 <br> action: [4, 1, 4, 1, 0, 4, 2, 0, 4, 5] <br> in system: 0.0"
           ],
           "legendgroup": "False, last",
           "line": {
            "color": "#EF553B",
            "dash": "solid"
           },
           "marker": {
            "symbol": "circle"
           },
           "mode": "lines+markers",
           "name": "False, last",
           "orientation": "v",
           "showlegend": false,
           "type": "scatter",
           "x": [
            0
           ],
           "xaxis": "x",
           "y": [
            0
           ],
           "yaxis": "y"
          },
          {
           "hovertemplate": "<b>%{hovertext}</b><br><br>main=False<br>type=last<br>step=27<br>name=9<br>x=%{x}<br>y=%{y}<extra></extra>",
           "hovertext": [
            "Last node of 9 <br> reward: 1.0 <br> action: [4, 1, 4, 1, 0, 4, 2, 0, 4, 5] <br> in system: 1.0"
           ],
           "legendgroup": "False, last",
           "line": {
            "color": "#EF553B",
            "dash": "solid"
           },
           "marker": {
            "symbol": "circle"
           },
           "mode": "lines+markers",
           "name": "False, last",
           "orientation": "v",
           "showlegend": false,
           "type": "scatter",
           "x": [
            0.42045454545454547
           ],
           "xaxis": "x",
           "y": [
            0.38
           ],
           "yaxis": "y"
          },
          {
           "hovertemplate": "<b>%{hovertext}</b><br><br>main=False<br>type=next<br>step=27<br>name=1<br>x=%{x}<br>y=%{y}<extra></extra>",
           "hovertext": [
            "Next node of 1 <br> reward: 1.0 <br> action: [4, 1, 4, 1, 0, 4, 2, 0, 4, 5] <br> in system: 1.0"
           ],
           "legendgroup": "False, next",
           "line": {
            "color": "#EF553B",
            "dash": "solid"
           },
           "marker": {
            "symbol": "diamond"
           },
           "mode": "lines+markers",
           "name": "False, next",
           "orientation": "v",
           "showlegend": true,
           "type": "scatter",
           "x": [
            0.4772727272727273
           ],
           "xaxis": "x",
           "y": [
            0.76
           ],
           "yaxis": "y"
          },
          {
           "hovertemplate": "<b>%{hovertext}</b><br><br>main=False<br>type=next<br>step=27<br>name=2<br>x=%{x}<br>y=%{y}<extra></extra>",
           "hovertext": [
            "Next node of 2 <br> reward: 1.0 <br> action: [4, 1, 4, 1, 0, 4, 2, 0, 4, 5] <br> in system: 1.0"
           ],
           "legendgroup": "False, next",
           "line": {
            "color": "#EF553B",
            "dash": "solid"
           },
           "marker": {
            "symbol": "diamond"
           },
           "mode": "lines+markers",
           "name": "False, next",
           "orientation": "v",
           "showlegend": false,
           "type": "scatter",
           "x": [
            0.5727272727272728
           ],
           "xaxis": "x",
           "y": [
            0.62
           ],
           "yaxis": "y"
          },
          {
           "hovertemplate": "<b>%{hovertext}</b><br><br>main=False<br>type=next<br>step=27<br>name=3<br>x=%{x}<br>y=%{y}<extra></extra>",
           "hovertext": [
            "Next node of 3 <br> reward: 1.0 <br> action: [4, 1, 4, 1, 0, 4, 2, 0, 4, 5] <br> in system: 1.0"
           ],
           "legendgroup": "False, next",
           "line": {
            "color": "#EF553B",
            "dash": "solid"
           },
           "marker": {
            "symbol": "diamond"
           },
           "mode": "lines+markers",
           "name": "False, next",
           "orientation": "v",
           "showlegend": false,
           "type": "scatter",
           "x": [
            0.9431818181818182
           ],
           "xaxis": "x",
           "y": [
            0.86
           ],
           "yaxis": "y"
          },
          {
           "hovertemplate": "<b>%{hovertext}</b><br><br>main=False<br>type=next<br>step=27<br>name=4<br>x=%{x}<br>y=%{y}<extra></extra>",
           "hovertext": [
            "Next node of 4 <br> reward: 1.0 <br> action: [4, 1, 4, 1, 0, 4, 2, 0, 4, 5] <br> in system: 1.0"
           ],
           "legendgroup": "False, next",
           "line": {
            "color": "#EF553B",
            "dash": "solid"
           },
           "marker": {
            "symbol": "diamond"
           },
           "mode": "lines+markers",
           "name": "False, next",
           "orientation": "v",
           "showlegend": false,
           "type": "scatter",
           "x": [
            0.4772727272727273
           ],
           "xaxis": "x",
           "y": [
            0.48
           ],
           "yaxis": "y"
          },
          {
           "hovertemplate": "<b>%{hovertext}</b><br><br>main=False<br>type=next<br>step=27<br>name=5<br>x=%{x}<br>y=%{y}<extra></extra>",
           "hovertext": [
            "Next node of 5 <br> reward: 1.0 <br> action: [4, 1, 4, 1, 0, 4, 2, 0, 4, 5] <br> in system: 0.0"
           ],
           "legendgroup": "False, next",
           "line": {
            "color": "#EF553B",
            "dash": "solid"
           },
           "marker": {
            "symbol": "diamond"
           },
           "mode": "lines+markers",
           "name": "False, next",
           "orientation": "v",
           "showlegend": false,
           "type": "scatter",
           "x": [
            0
           ],
           "xaxis": "x",
           "y": [
            0
           ],
           "yaxis": "y"
          },
          {
           "hovertemplate": "<b>%{hovertext}</b><br><br>main=False<br>type=next<br>step=27<br>name=6<br>x=%{x}<br>y=%{y}<extra></extra>",
           "hovertext": [
            "Next node of 6 <br> reward: 1.0 <br> action: [4, 1, 4, 1, 0, 4, 2, 0, 4, 5] <br> in system: 0.0"
           ],
           "legendgroup": "False, next",
           "line": {
            "color": "#EF553B",
            "dash": "solid"
           },
           "marker": {
            "symbol": "diamond"
           },
           "mode": "lines+markers",
           "name": "False, next",
           "orientation": "v",
           "showlegend": false,
           "type": "scatter",
           "x": [
            0
           ],
           "xaxis": "x",
           "y": [
            0
           ],
           "yaxis": "y"
          },
          {
           "hovertemplate": "<b>%{hovertext}</b><br><br>main=False<br>type=next<br>step=27<br>name=7<br>x=%{x}<br>y=%{y}<extra></extra>",
           "hovertext": [
            "Next node of 7 <br> reward: 1.0 <br> action: [4, 1, 4, 1, 0, 4, 2, 0, 4, 5] <br> in system: 0.0"
           ],
           "legendgroup": "False, next",
           "line": {
            "color": "#EF553B",
            "dash": "solid"
           },
           "marker": {
            "symbol": "diamond"
           },
           "mode": "lines+markers",
           "name": "False, next",
           "orientation": "v",
           "showlegend": false,
           "type": "scatter",
           "x": [
            0
           ],
           "xaxis": "x",
           "y": [
            0
           ],
           "yaxis": "y"
          },
          {
           "hovertemplate": "<b>%{hovertext}</b><br><br>main=False<br>type=next<br>step=27<br>name=8<br>x=%{x}<br>y=%{y}<extra></extra>",
           "hovertext": [
            "Next node of 8 <br> reward: 1.0 <br> action: [4, 1, 4, 1, 0, 4, 2, 0, 4, 5] <br> in system: 0.0"
           ],
           "legendgroup": "False, next",
           "line": {
            "color": "#EF553B",
            "dash": "solid"
           },
           "marker": {
            "symbol": "diamond"
           },
           "mode": "lines+markers",
           "name": "False, next",
           "orientation": "v",
           "showlegend": false,
           "type": "scatter",
           "x": [
            0
           ],
           "xaxis": "x",
           "y": [
            0
           ],
           "yaxis": "y"
          },
          {
           "hovertemplate": "<b>%{hovertext}</b><br><br>main=False<br>type=next<br>step=27<br>name=9<br>x=%{x}<br>y=%{y}<extra></extra>",
           "hovertext": [
            "Next node of 9 <br> reward: 1.0 <br> action: [4, 1, 4, 1, 0, 4, 2, 0, 4, 5] <br> in system: 1.0"
           ],
           "legendgroup": "False, next",
           "line": {
            "color": "#EF553B",
            "dash": "solid"
           },
           "marker": {
            "symbol": "diamond"
           },
           "mode": "lines+markers",
           "name": "False, next",
           "orientation": "v",
           "showlegend": false,
           "type": "scatter",
           "x": [
            0.32954545454545453
           ],
           "xaxis": "x",
           "y": [
            0.428
           ],
           "yaxis": "y"
          }
         ],
         "name": "27"
        },
        {
         "data": [
          {
           "hovertemplate": "<b>%{hovertext}</b><br><br>main=True<br>type=last<br>step=28<br>name=0<br>x=%{x}<br>y=%{y}<extra></extra>",
           "hovertext": [
            "Last node of 0 <br> reward: 0 <br> action: [4, 1, 3, 2, 0, 1, 5, 1, 4, 4] <br> in system: 1.0"
           ],
           "legendgroup": "True, last",
           "line": {
            "color": "#636efa",
            "dash": "solid"
           },
           "marker": {
            "symbol": "circle"
           },
           "mode": "lines+markers",
           "name": "True, last",
           "orientation": "v",
           "showlegend": true,
           "type": "scatter",
           "x": [
            0.7909090909090909
           ],
           "xaxis": "x",
           "y": [
            0.62
           ],
           "yaxis": "y"
          },
          {
           "hovertemplate": "<b>%{hovertext}</b><br><br>main=True<br>type=next<br>step=28<br>name=0<br>x=%{x}<br>y=%{y}<extra></extra>",
           "hovertext": [
            "Next node of 0 <br> reward: 0 <br> action: [4, 1, 3, 2, 0, 1, 5, 1, 4, 4] <br> in system: 1.0"
           ],
           "legendgroup": "True, next",
           "line": {
            "color": "#636efa",
            "dash": "solid"
           },
           "marker": {
            "symbol": "diamond"
           },
           "mode": "lines+markers",
           "name": "True, next",
           "orientation": "v",
           "showlegend": true,
           "type": "scatter",
           "x": [
            0.8181818181818182
           ],
           "xaxis": "x",
           "y": [
            0.76
           ],
           "yaxis": "y"
          },
          {
           "hovertemplate": "<b>%{hovertext}</b><br><br>main=False<br>type=last<br>step=28<br>name=1<br>x=%{x}<br>y=%{y}<extra></extra>",
           "hovertext": [
            "Last node of 1 <br> reward: 0 <br> action: [4, 1, 3, 2, 0, 1, 5, 1, 4, 4] <br> in system: 1.0"
           ],
           "legendgroup": "False, last",
           "line": {
            "color": "#EF553B",
            "dash": "solid"
           },
           "marker": {
            "symbol": "circle"
           },
           "mode": "lines+markers",
           "name": "False, last",
           "orientation": "v",
           "showlegend": true,
           "type": "scatter",
           "x": [
            0.4772727272727273
           ],
           "xaxis": "x",
           "y": [
            0.38
           ],
           "yaxis": "y"
          },
          {
           "hovertemplate": "<b>%{hovertext}</b><br><br>main=False<br>type=last<br>step=28<br>name=2<br>x=%{x}<br>y=%{y}<extra></extra>",
           "hovertext": [
            "Last node of 2 <br> reward: 0 <br> action: [4, 1, 3, 2, 0, 1, 5, 1, 4, 4] <br> in system: 1.0"
           ],
           "legendgroup": "False, last",
           "line": {
            "color": "#EF553B",
            "dash": "solid"
           },
           "marker": {
            "symbol": "circle"
           },
           "mode": "lines+markers",
           "name": "False, last",
           "orientation": "v",
           "showlegend": false,
           "type": "scatter",
           "x": [
            0.32954545454545453
           ],
           "xaxis": "x",
           "y": [
            0.428
           ],
           "yaxis": "y"
          },
          {
           "hovertemplate": "<b>%{hovertext}</b><br><br>main=False<br>type=last<br>step=28<br>name=3<br>x=%{x}<br>y=%{y}<extra></extra>",
           "hovertext": [
            "Last node of 3 <br> reward: 0 <br> action: [4, 1, 3, 2, 0, 1, 5, 1, 4, 4] <br> in system: 0.0"
           ],
           "legendgroup": "False, last",
           "line": {
            "color": "#EF553B",
            "dash": "solid"
           },
           "marker": {
            "symbol": "circle"
           },
           "mode": "lines+markers",
           "name": "False, last",
           "orientation": "v",
           "showlegend": false,
           "type": "scatter",
           "x": [
            0
           ],
           "xaxis": "x",
           "y": [
            0
           ],
           "yaxis": "y"
          },
          {
           "hovertemplate": "<b>%{hovertext}</b><br><br>main=False<br>type=last<br>step=28<br>name=4<br>x=%{x}<br>y=%{y}<extra></extra>",
           "hovertext": [
            "Last node of 4 <br> reward: 0 <br> action: [4, 1, 3, 2, 0, 1, 5, 1, 4, 4] <br> in system: 1.0"
           ],
           "legendgroup": "False, last",
           "line": {
            "color": "#EF553B",
            "dash": "solid"
           },
           "marker": {
            "symbol": "circle"
           },
           "mode": "lines+markers",
           "name": "False, last",
           "orientation": "v",
           "showlegend": false,
           "type": "scatter",
           "x": [
            0.42045454545454547
           ],
           "xaxis": "x",
           "y": [
            0.76
           ],
           "yaxis": "y"
          },
          {
           "hovertemplate": "<b>%{hovertext}</b><br><br>main=False<br>type=last<br>step=28<br>name=5<br>x=%{x}<br>y=%{y}<extra></extra>",
           "hovertext": [
            "Last node of 5 <br> reward: 0 <br> action: [4, 1, 3, 2, 0, 1, 5, 1, 4, 4] <br> in system: 1.0"
           ],
           "legendgroup": "False, last",
           "line": {
            "color": "#EF553B",
            "dash": "solid"
           },
           "marker": {
            "symbol": "circle"
           },
           "mode": "lines+markers",
           "name": "False, last",
           "orientation": "v",
           "showlegend": false,
           "type": "scatter",
           "x": [
            0.9431818181818182
           ],
           "xaxis": "x",
           "y": [
            0.86
           ],
           "yaxis": "y"
          },
          {
           "hovertemplate": "<b>%{hovertext}</b><br><br>main=False<br>type=last<br>step=28<br>name=6<br>x=%{x}<br>y=%{y}<extra></extra>",
           "hovertext": [
            "Last node of 6 <br> reward: 0 <br> action: [4, 1, 3, 2, 0, 1, 5, 1, 4, 4] <br> in system: 1.0"
           ],
           "legendgroup": "False, last",
           "line": {
            "color": "#EF553B",
            "dash": "solid"
           },
           "marker": {
            "symbol": "circle"
           },
           "mode": "lines+markers",
           "name": "False, last",
           "orientation": "v",
           "showlegend": false,
           "type": "scatter",
           "x": [
            0.5454545454545454
           ],
           "xaxis": "x",
           "y": [
            0.76
           ],
           "yaxis": "y"
          },
          {
           "hovertemplate": "<b>%{hovertext}</b><br><br>main=False<br>type=last<br>step=28<br>name=7<br>x=%{x}<br>y=%{y}<extra></extra>",
           "hovertext": [
            "Last node of 7 <br> reward: 0 <br> action: [4, 1, 3, 2, 0, 1, 5, 1, 4, 4] <br> in system: 0.0"
           ],
           "legendgroup": "False, last",
           "line": {
            "color": "#EF553B",
            "dash": "solid"
           },
           "marker": {
            "symbol": "circle"
           },
           "mode": "lines+markers",
           "name": "False, last",
           "orientation": "v",
           "showlegend": false,
           "type": "scatter",
           "x": [
            0
           ],
           "xaxis": "x",
           "y": [
            0
           ],
           "yaxis": "y"
          },
          {
           "hovertemplate": "<b>%{hovertext}</b><br><br>main=False<br>type=last<br>step=28<br>name=8<br>x=%{x}<br>y=%{y}<extra></extra>",
           "hovertext": [
            "Last node of 8 <br> reward: 0 <br> action: [4, 1, 3, 2, 0, 1, 5, 1, 4, 4] <br> in system: 0.0"
           ],
           "legendgroup": "False, last",
           "line": {
            "color": "#EF553B",
            "dash": "solid"
           },
           "marker": {
            "symbol": "circle"
           },
           "mode": "lines+markers",
           "name": "False, last",
           "orientation": "v",
           "showlegend": false,
           "type": "scatter",
           "x": [
            0
           ],
           "xaxis": "x",
           "y": [
            0
           ],
           "yaxis": "y"
          },
          {
           "hovertemplate": "<b>%{hovertext}</b><br><br>main=False<br>type=last<br>step=28<br>name=9<br>x=%{x}<br>y=%{y}<extra></extra>",
           "hovertext": [
            "Last node of 9 <br> reward: 0 <br> action: [4, 1, 3, 2, 0, 1, 5, 1, 4, 4] <br> in system: 0.0"
           ],
           "legendgroup": "False, last",
           "line": {
            "color": "#EF553B",
            "dash": "solid"
           },
           "marker": {
            "symbol": "circle"
           },
           "mode": "lines+markers",
           "name": "False, last",
           "orientation": "v",
           "showlegend": false,
           "type": "scatter",
           "x": [
            0
           ],
           "xaxis": "x",
           "y": [
            0
           ],
           "yaxis": "y"
          },
          {
           "hovertemplate": "<b>%{hovertext}</b><br><br>main=False<br>type=next<br>step=28<br>name=1<br>x=%{x}<br>y=%{y}<extra></extra>",
           "hovertext": [
            "Next node of 1 <br> reward: 0 <br> action: [4, 1, 3, 2, 0, 1, 5, 1, 4, 4] <br> in system: 1.0"
           ],
           "legendgroup": "False, next",
           "line": {
            "color": "#EF553B",
            "dash": "solid"
           },
           "marker": {
            "symbol": "diamond"
           },
           "mode": "lines+markers",
           "name": "False, next",
           "orientation": "v",
           "showlegend": true,
           "type": "scatter",
           "x": [
            0.4772727272727273
           ],
           "xaxis": "x",
           "y": [
            0.48
           ],
           "yaxis": "y"
          },
          {
           "hovertemplate": "<b>%{hovertext}</b><br><br>main=False<br>type=next<br>step=28<br>name=2<br>x=%{x}<br>y=%{y}<extra></extra>",
           "hovertext": [
            "Next node of 2 <br> reward: 0 <br> action: [4, 1, 3, 2, 0, 1, 5, 1, 4, 4] <br> in system: 1.0"
           ],
           "legendgroup": "False, next",
           "line": {
            "color": "#EF553B",
            "dash": "solid"
           },
           "marker": {
            "symbol": "diamond"
           },
           "mode": "lines+markers",
           "name": "False, next",
           "orientation": "v",
           "showlegend": false,
           "type": "scatter",
           "x": [
            0.42045454545454547
           ],
           "xaxis": "x",
           "y": [
            0.48
           ],
           "yaxis": "y"
          },
          {
           "hovertemplate": "<b>%{hovertext}</b><br><br>main=False<br>type=next<br>step=28<br>name=3<br>x=%{x}<br>y=%{y}<extra></extra>",
           "hovertext": [
            "Next node of 3 <br> reward: 0 <br> action: [4, 1, 3, 2, 0, 1, 5, 1, 4, 4] <br> in system: 0.0"
           ],
           "legendgroup": "False, next",
           "line": {
            "color": "#EF553B",
            "dash": "solid"
           },
           "marker": {
            "symbol": "diamond"
           },
           "mode": "lines+markers",
           "name": "False, next",
           "orientation": "v",
           "showlegend": false,
           "type": "scatter",
           "x": [
            0
           ],
           "xaxis": "x",
           "y": [
            0
           ],
           "yaxis": "y"
          },
          {
           "hovertemplate": "<b>%{hovertext}</b><br><br>main=False<br>type=next<br>step=28<br>name=4<br>x=%{x}<br>y=%{y}<extra></extra>",
           "hovertext": [
            "Next node of 4 <br> reward: 0 <br> action: [4, 1, 3, 2, 0, 1, 5, 1, 4, 4] <br> in system: 1.0"
           ],
           "legendgroup": "False, next",
           "line": {
            "color": "#EF553B",
            "dash": "solid"
           },
           "marker": {
            "symbol": "diamond"
           },
           "mode": "lines+markers",
           "name": "False, next",
           "orientation": "v",
           "showlegend": false,
           "type": "scatter",
           "x": [
            0.32954545454545453
           ],
           "xaxis": "x",
           "y": [
            0.808
           ],
           "yaxis": "y"
          },
          {
           "hovertemplate": "<b>%{hovertext}</b><br><br>main=False<br>type=next<br>step=28<br>name=5<br>x=%{x}<br>y=%{y}<extra></extra>",
           "hovertext": [
            "Next node of 5 <br> reward: 0 <br> action: [4, 1, 3, 2, 0, 1, 5, 1, 4, 4] <br> in system: 1.0"
           ],
           "legendgroup": "False, next",
           "line": {
            "color": "#EF553B",
            "dash": "solid"
           },
           "marker": {
            "symbol": "diamond"
           },
           "mode": "lines+markers",
           "name": "False, next",
           "orientation": "v",
           "showlegend": false,
           "type": "scatter",
           "x": [
            0.9431818181818182
           ],
           "xaxis": "x",
           "y": [
            0.76
           ],
           "yaxis": "y"
          },
          {
           "hovertemplate": "<b>%{hovertext}</b><br><br>main=False<br>type=next<br>step=28<br>name=6<br>x=%{x}<br>y=%{y}<extra></extra>",
           "hovertext": [
            "Next node of 6 <br> reward: 0 <br> action: [4, 1, 3, 2, 0, 1, 5, 1, 4, 4] <br> in system: 1.0"
           ],
           "legendgroup": "False, next",
           "line": {
            "color": "#EF553B",
            "dash": "solid"
           },
           "marker": {
            "symbol": "diamond"
           },
           "mode": "lines+markers",
           "name": "False, next",
           "orientation": "v",
           "showlegend": false,
           "type": "scatter",
           "x": [
            0.5727272727272728
           ],
           "xaxis": "x",
           "y": [
            0.62
           ],
           "yaxis": "y"
          },
          {
           "hovertemplate": "<b>%{hovertext}</b><br><br>main=False<br>type=next<br>step=28<br>name=7<br>x=%{x}<br>y=%{y}<extra></extra>",
           "hovertext": [
            "Next node of 7 <br> reward: 0 <br> action: [4, 1, 3, 2, 0, 1, 5, 1, 4, 4] <br> in system: 0.0"
           ],
           "legendgroup": "False, next",
           "line": {
            "color": "#EF553B",
            "dash": "solid"
           },
           "marker": {
            "symbol": "diamond"
           },
           "mode": "lines+markers",
           "name": "False, next",
           "orientation": "v",
           "showlegend": false,
           "type": "scatter",
           "x": [
            0
           ],
           "xaxis": "x",
           "y": [
            0
           ],
           "yaxis": "y"
          },
          {
           "hovertemplate": "<b>%{hovertext}</b><br><br>main=False<br>type=next<br>step=28<br>name=8<br>x=%{x}<br>y=%{y}<extra></extra>",
           "hovertext": [
            "Next node of 8 <br> reward: 0 <br> action: [4, 1, 3, 2, 0, 1, 5, 1, 4, 4] <br> in system: 0.0"
           ],
           "legendgroup": "False, next",
           "line": {
            "color": "#EF553B",
            "dash": "solid"
           },
           "marker": {
            "symbol": "diamond"
           },
           "mode": "lines+markers",
           "name": "False, next",
           "orientation": "v",
           "showlegend": false,
           "type": "scatter",
           "x": [
            0
           ],
           "xaxis": "x",
           "y": [
            0
           ],
           "yaxis": "y"
          },
          {
           "hovertemplate": "<b>%{hovertext}</b><br><br>main=False<br>type=next<br>step=28<br>name=9<br>x=%{x}<br>y=%{y}<extra></extra>",
           "hovertext": [
            "Next node of 9 <br> reward: 0 <br> action: [4, 1, 3, 2, 0, 1, 5, 1, 4, 4] <br> in system: 0.0"
           ],
           "legendgroup": "False, next",
           "line": {
            "color": "#EF553B",
            "dash": "solid"
           },
           "marker": {
            "symbol": "diamond"
           },
           "mode": "lines+markers",
           "name": "False, next",
           "orientation": "v",
           "showlegend": false,
           "type": "scatter",
           "x": [
            0
           ],
           "xaxis": "x",
           "y": [
            0
           ],
           "yaxis": "y"
          }
         ],
         "name": "28"
        },
        {
         "data": [
          {
           "hovertemplate": "<b>%{hovertext}</b><br><br>main=True<br>type=last<br>step=29<br>name=0<br>x=%{x}<br>y=%{y}<extra></extra>",
           "hovertext": [
            "Last node of 0 <br> reward: 0 <br> action: [2, 1, 5, 4, 5, 1, 0, 1, 0, 1] <br> in system: 1.0"
           ],
           "legendgroup": "True, last",
           "line": {
            "color": "#636efa",
            "dash": "solid"
           },
           "marker": {
            "symbol": "circle"
           },
           "mode": "lines+markers",
           "name": "True, last",
           "orientation": "v",
           "showlegend": true,
           "type": "scatter",
           "x": [
            0.8181818181818182
           ],
           "xaxis": "x",
           "y": [
            0.76
           ],
           "yaxis": "y"
          },
          {
           "hovertemplate": "<b>%{hovertext}</b><br><br>main=True<br>type=next<br>step=29<br>name=0<br>x=%{x}<br>y=%{y}<extra></extra>",
           "hovertext": [
            "Next node of 0 <br> reward: 0 <br> action: [2, 1, 5, 4, 5, 1, 0, 1, 0, 1] <br> in system: 1.0"
           ],
           "legendgroup": "True, next",
           "line": {
            "color": "#636efa",
            "dash": "solid"
           },
           "marker": {
            "symbol": "diamond"
           },
           "mode": "lines+markers",
           "name": "True, next",
           "orientation": "v",
           "showlegend": true,
           "type": "scatter",
           "x": [
            0.8181818181818182
           ],
           "xaxis": "x",
           "y": [
            0.86
           ],
           "yaxis": "y"
          },
          {
           "hovertemplate": "<b>%{hovertext}</b><br><br>main=False<br>type=last<br>step=29<br>name=1<br>x=%{x}<br>y=%{y}<extra></extra>",
           "hovertext": [
            "Last node of 1 <br> reward: 0 <br> action: [2, 1, 5, 4, 5, 1, 0, 1, 0, 1] <br> in system: 1.0"
           ],
           "legendgroup": "False, last",
           "line": {
            "color": "#EF553B",
            "dash": "solid"
           },
           "marker": {
            "symbol": "circle"
           },
           "mode": "lines+markers",
           "name": "False, last",
           "orientation": "v",
           "showlegend": true,
           "type": "scatter",
           "x": [
            0.4772727272727273
           ],
           "xaxis": "x",
           "y": [
            0.38
           ],
           "yaxis": "y"
          },
          {
           "hovertemplate": "<b>%{hovertext}</b><br><br>main=False<br>type=last<br>step=29<br>name=2<br>x=%{x}<br>y=%{y}<extra></extra>",
           "hovertext": [
            "Last node of 2 <br> reward: 0 <br> action: [2, 1, 5, 4, 5, 1, 0, 1, 0, 1] <br> in system: 1.0"
           ],
           "legendgroup": "False, last",
           "line": {
            "color": "#EF553B",
            "dash": "solid"
           },
           "marker": {
            "symbol": "circle"
           },
           "mode": "lines+markers",
           "name": "False, last",
           "orientation": "v",
           "showlegend": false,
           "type": "scatter",
           "x": [
            0.42045454545454547
           ],
           "xaxis": "x",
           "y": [
            0.76
           ],
           "yaxis": "y"
          },
          {
           "hovertemplate": "<b>%{hovertext}</b><br><br>main=False<br>type=last<br>step=29<br>name=3<br>x=%{x}<br>y=%{y}<extra></extra>",
           "hovertext": [
            "Last node of 3 <br> reward: 0 <br> action: [2, 1, 5, 4, 5, 1, 0, 1, 0, 1] <br> in system: 0.0"
           ],
           "legendgroup": "False, last",
           "line": {
            "color": "#EF553B",
            "dash": "solid"
           },
           "marker": {
            "symbol": "circle"
           },
           "mode": "lines+markers",
           "name": "False, last",
           "orientation": "v",
           "showlegend": false,
           "type": "scatter",
           "x": [
            0
           ],
           "xaxis": "x",
           "y": [
            0
           ],
           "yaxis": "y"
          },
          {
           "hovertemplate": "<b>%{hovertext}</b><br><br>main=False<br>type=last<br>step=29<br>name=4<br>x=%{x}<br>y=%{y}<extra></extra>",
           "hovertext": [
            "Last node of 4 <br> reward: 0 <br> action: [2, 1, 5, 4, 5, 1, 0, 1, 0, 1] <br> in system: 0.0"
           ],
           "legendgroup": "False, last",
           "line": {
            "color": "#EF553B",
            "dash": "solid"
           },
           "marker": {
            "symbol": "circle"
           },
           "mode": "lines+markers",
           "name": "False, last",
           "orientation": "v",
           "showlegend": false,
           "type": "scatter",
           "x": [
            0
           ],
           "xaxis": "x",
           "y": [
            0
           ],
           "yaxis": "y"
          },
          {
           "hovertemplate": "<b>%{hovertext}</b><br><br>main=False<br>type=last<br>step=29<br>name=5<br>x=%{x}<br>y=%{y}<extra></extra>",
           "hovertext": [
            "Last node of 5 <br> reward: 0 <br> action: [2, 1, 5, 4, 5, 1, 0, 1, 0, 1] <br> in system: 1.0"
           ],
           "legendgroup": "False, last",
           "line": {
            "color": "#EF553B",
            "dash": "solid"
           },
           "marker": {
            "symbol": "circle"
           },
           "mode": "lines+markers",
           "name": "False, last",
           "orientation": "v",
           "showlegend": false,
           "type": "scatter",
           "x": [
            0.9431818181818182
           ],
           "xaxis": "x",
           "y": [
            0.76
           ],
           "yaxis": "y"
          },
          {
           "hovertemplate": "<b>%{hovertext}</b><br><br>main=False<br>type=last<br>step=29<br>name=6<br>x=%{x}<br>y=%{y}<extra></extra>",
           "hovertext": [
            "Last node of 6 <br> reward: 0 <br> action: [2, 1, 5, 4, 5, 1, 0, 1, 0, 1] <br> in system: 0.0"
           ],
           "legendgroup": "False, last",
           "line": {
            "color": "#EF553B",
            "dash": "solid"
           },
           "marker": {
            "symbol": "circle"
           },
           "mode": "lines+markers",
           "name": "False, last",
           "orientation": "v",
           "showlegend": false,
           "type": "scatter",
           "x": [
            0
           ],
           "xaxis": "x",
           "y": [
            0
           ],
           "yaxis": "y"
          },
          {
           "hovertemplate": "<b>%{hovertext}</b><br><br>main=False<br>type=last<br>step=29<br>name=7<br>x=%{x}<br>y=%{y}<extra></extra>",
           "hovertext": [
            "Last node of 7 <br> reward: 0 <br> action: [2, 1, 5, 4, 5, 1, 0, 1, 0, 1] <br> in system: 1.0"
           ],
           "legendgroup": "False, last",
           "line": {
            "color": "#EF553B",
            "dash": "solid"
           },
           "marker": {
            "symbol": "circle"
           },
           "mode": "lines+markers",
           "name": "False, last",
           "orientation": "v",
           "showlegend": false,
           "type": "scatter",
           "x": [
            0.5727272727272728
           ],
           "xaxis": "x",
           "y": [
            0.62
           ],
           "yaxis": "y"
          },
          {
           "hovertemplate": "<b>%{hovertext}</b><br><br>main=False<br>type=last<br>step=29<br>name=8<br>x=%{x}<br>y=%{y}<extra></extra>",
           "hovertext": [
            "Last node of 8 <br> reward: 0 <br> action: [2, 1, 5, 4, 5, 1, 0, 1, 0, 1] <br> in system: 0.0"
           ],
           "legendgroup": "False, last",
           "line": {
            "color": "#EF553B",
            "dash": "solid"
           },
           "marker": {
            "symbol": "circle"
           },
           "mode": "lines+markers",
           "name": "False, last",
           "orientation": "v",
           "showlegend": false,
           "type": "scatter",
           "x": [
            0
           ],
           "xaxis": "x",
           "y": [
            0
           ],
           "yaxis": "y"
          },
          {
           "hovertemplate": "<b>%{hovertext}</b><br><br>main=False<br>type=last<br>step=29<br>name=9<br>x=%{x}<br>y=%{y}<extra></extra>",
           "hovertext": [
            "Last node of 9 <br> reward: 0 <br> action: [2, 1, 5, 4, 5, 1, 0, 1, 0, 1] <br> in system: 1.0"
           ],
           "legendgroup": "False, last",
           "line": {
            "color": "#EF553B",
            "dash": "solid"
           },
           "marker": {
            "symbol": "circle"
           },
           "mode": "lines+markers",
           "name": "False, last",
           "orientation": "v",
           "showlegend": false,
           "type": "scatter",
           "x": [
            0.32954545454545453
           ],
           "xaxis": "x",
           "y": [
            0.428
           ],
           "yaxis": "y"
          },
          {
           "hovertemplate": "<b>%{hovertext}</b><br><br>main=False<br>type=next<br>step=29<br>name=1<br>x=%{x}<br>y=%{y}<extra></extra>",
           "hovertext": [
            "Next node of 1 <br> reward: 0 <br> action: [2, 1, 5, 4, 5, 1, 0, 1, 0, 1] <br> in system: 1.0"
           ],
           "legendgroup": "False, next",
           "line": {
            "color": "#EF553B",
            "dash": "solid"
           },
           "marker": {
            "symbol": "diamond"
           },
           "mode": "lines+markers",
           "name": "False, next",
           "orientation": "v",
           "showlegend": true,
           "type": "scatter",
           "x": [
            0.4772727272727273
           ],
           "xaxis": "x",
           "y": [
            0.48
           ],
           "yaxis": "y"
          },
          {
           "hovertemplate": "<b>%{hovertext}</b><br><br>main=False<br>type=next<br>step=29<br>name=2<br>x=%{x}<br>y=%{y}<extra></extra>",
           "hovertext": [
            "Next node of 2 <br> reward: 0 <br> action: [2, 1, 5, 4, 5, 1, 0, 1, 0, 1] <br> in system: 1.0"
           ],
           "legendgroup": "False, next",
           "line": {
            "color": "#EF553B",
            "dash": "solid"
           },
           "marker": {
            "symbol": "diamond"
           },
           "mode": "lines+markers",
           "name": "False, next",
           "orientation": "v",
           "showlegend": false,
           "type": "scatter",
           "x": [
            0.32954545454545453
           ],
           "xaxis": "x",
           "y": [
            0.808
           ],
           "yaxis": "y"
          },
          {
           "hovertemplate": "<b>%{hovertext}</b><br><br>main=False<br>type=next<br>step=29<br>name=3<br>x=%{x}<br>y=%{y}<extra></extra>",
           "hovertext": [
            "Next node of 3 <br> reward: 0 <br> action: [2, 1, 5, 4, 5, 1, 0, 1, 0, 1] <br> in system: 0.0"
           ],
           "legendgroup": "False, next",
           "line": {
            "color": "#EF553B",
            "dash": "solid"
           },
           "marker": {
            "symbol": "diamond"
           },
           "mode": "lines+markers",
           "name": "False, next",
           "orientation": "v",
           "showlegend": false,
           "type": "scatter",
           "x": [
            0
           ],
           "xaxis": "x",
           "y": [
            0
           ],
           "yaxis": "y"
          },
          {
           "hovertemplate": "<b>%{hovertext}</b><br><br>main=False<br>type=next<br>step=29<br>name=4<br>x=%{x}<br>y=%{y}<extra></extra>",
           "hovertext": [
            "Next node of 4 <br> reward: 0 <br> action: [2, 1, 5, 4, 5, 1, 0, 1, 0, 1] <br> in system: 0.0"
           ],
           "legendgroup": "False, next",
           "line": {
            "color": "#EF553B",
            "dash": "solid"
           },
           "marker": {
            "symbol": "diamond"
           },
           "mode": "lines+markers",
           "name": "False, next",
           "orientation": "v",
           "showlegend": false,
           "type": "scatter",
           "x": [
            0
           ],
           "xaxis": "x",
           "y": [
            0
           ],
           "yaxis": "y"
          },
          {
           "hovertemplate": "<b>%{hovertext}</b><br><br>main=False<br>type=next<br>step=29<br>name=5<br>x=%{x}<br>y=%{y}<extra></extra>",
           "hovertext": [
            "Next node of 5 <br> reward: 0 <br> action: [2, 1, 5, 4, 5, 1, 0, 1, 0, 1] <br> in system: 1.0"
           ],
           "legendgroup": "False, next",
           "line": {
            "color": "#EF553B",
            "dash": "solid"
           },
           "marker": {
            "symbol": "diamond"
           },
           "mode": "lines+markers",
           "name": "False, next",
           "orientation": "v",
           "showlegend": false,
           "type": "scatter",
           "x": [
            0.9727272727272728
           ],
           "xaxis": "x",
           "y": [
            0.62
           ],
           "yaxis": "y"
          },
          {
           "hovertemplate": "<b>%{hovertext}</b><br><br>main=False<br>type=next<br>step=29<br>name=6<br>x=%{x}<br>y=%{y}<extra></extra>",
           "hovertext": [
            "Next node of 6 <br> reward: 0 <br> action: [2, 1, 5, 4, 5, 1, 0, 1, 0, 1] <br> in system: 0.0"
           ],
           "legendgroup": "False, next",
           "line": {
            "color": "#EF553B",
            "dash": "solid"
           },
           "marker": {
            "symbol": "diamond"
           },
           "mode": "lines+markers",
           "name": "False, next",
           "orientation": "v",
           "showlegend": false,
           "type": "scatter",
           "x": [
            0
           ],
           "xaxis": "x",
           "y": [
            0
           ],
           "yaxis": "y"
          },
          {
           "hovertemplate": "<b>%{hovertext}</b><br><br>main=False<br>type=next<br>step=29<br>name=7<br>x=%{x}<br>y=%{y}<extra></extra>",
           "hovertext": [
            "Next node of 7 <br> reward: 0 <br> action: [2, 1, 5, 4, 5, 1, 0, 1, 0, 1] <br> in system: 1.0"
           ],
           "legendgroup": "False, next",
           "line": {
            "color": "#EF553B",
            "dash": "solid"
           },
           "marker": {
            "symbol": "diamond"
           },
           "mode": "lines+markers",
           "name": "False, next",
           "orientation": "v",
           "showlegend": false,
           "type": "scatter",
           "x": [
            0.6022727272727273
           ],
           "xaxis": "x",
           "y": [
            0.76
           ],
           "yaxis": "y"
          },
          {
           "hovertemplate": "<b>%{hovertext}</b><br><br>main=False<br>type=next<br>step=29<br>name=8<br>x=%{x}<br>y=%{y}<extra></extra>",
           "hovertext": [
            "Next node of 8 <br> reward: 0 <br> action: [2, 1, 5, 4, 5, 1, 0, 1, 0, 1] <br> in system: 0.0"
           ],
           "legendgroup": "False, next",
           "line": {
            "color": "#EF553B",
            "dash": "solid"
           },
           "marker": {
            "symbol": "diamond"
           },
           "mode": "lines+markers",
           "name": "False, next",
           "orientation": "v",
           "showlegend": false,
           "type": "scatter",
           "x": [
            0
           ],
           "xaxis": "x",
           "y": [
            0
           ],
           "yaxis": "y"
          },
          {
           "hovertemplate": "<b>%{hovertext}</b><br><br>main=False<br>type=next<br>step=29<br>name=9<br>x=%{x}<br>y=%{y}<extra></extra>",
           "hovertext": [
            "Next node of 9 <br> reward: 0 <br> action: [2, 1, 5, 4, 5, 1, 0, 1, 0, 1] <br> in system: 1.0"
           ],
           "legendgroup": "False, next",
           "line": {
            "color": "#EF553B",
            "dash": "solid"
           },
           "marker": {
            "symbol": "diamond"
           },
           "mode": "lines+markers",
           "name": "False, next",
           "orientation": "v",
           "showlegend": false,
           "type": "scatter",
           "x": [
            0.42045454545454547
           ],
           "xaxis": "x",
           "y": [
            0.48
           ],
           "yaxis": "y"
          }
         ],
         "name": "29"
        },
        {
         "data": [
          {
           "hovertemplate": "<b>%{hovertext}</b><br><br>main=True<br>type=last<br>step=30<br>name=0<br>x=%{x}<br>y=%{y}<extra></extra>",
           "hovertext": [
            "Last node of 0 <br> reward: 1.0 <br> action: [2, 3, 2, 2, 4, 2, 0, 4, 5, 1] <br> in system: 1.0"
           ],
           "legendgroup": "True, last",
           "line": {
            "color": "#636efa",
            "dash": "solid"
           },
           "marker": {
            "symbol": "circle"
           },
           "mode": "lines+markers",
           "name": "True, last",
           "orientation": "v",
           "showlegend": true,
           "type": "scatter",
           "x": [
            0.8181818181818182
           ],
           "xaxis": "x",
           "y": [
            0.76
           ],
           "yaxis": "y"
          },
          {
           "hovertemplate": "<b>%{hovertext}</b><br><br>main=True<br>type=next<br>step=30<br>name=0<br>x=%{x}<br>y=%{y}<extra></extra>",
           "hovertext": [
            "Next node of 0 <br> reward: 1.0 <br> action: [2, 3, 2, 2, 4, 2, 0, 4, 5, 1] <br> in system: 1.0"
           ],
           "legendgroup": "True, next",
           "line": {
            "color": "#636efa",
            "dash": "solid"
           },
           "marker": {
            "symbol": "diamond"
           },
           "mode": "lines+markers",
           "name": "True, next",
           "orientation": "v",
           "showlegend": true,
           "type": "scatter",
           "x": [
            0.8181818181818182
           ],
           "xaxis": "x",
           "y": [
            0.86
           ],
           "yaxis": "y"
          },
          {
           "hovertemplate": "<b>%{hovertext}</b><br><br>main=False<br>type=last<br>step=30<br>name=1<br>x=%{x}<br>y=%{y}<extra></extra>",
           "hovertext": [
            "Last node of 1 <br> reward: 1.0 <br> action: [2, 3, 2, 2, 4, 2, 0, 4, 5, 1] <br> in system: 1.0"
           ],
           "legendgroup": "False, last",
           "line": {
            "color": "#EF553B",
            "dash": "solid"
           },
           "marker": {
            "symbol": "circle"
           },
           "mode": "lines+markers",
           "name": "False, last",
           "orientation": "v",
           "showlegend": true,
           "type": "scatter",
           "x": [
            0.4772727272727273
           ],
           "xaxis": "x",
           "y": [
            0.38
           ],
           "yaxis": "y"
          },
          {
           "hovertemplate": "<b>%{hovertext}</b><br><br>main=False<br>type=last<br>step=30<br>name=2<br>x=%{x}<br>y=%{y}<extra></extra>",
           "hovertext": [
            "Last node of 2 <br> reward: 1.0 <br> action: [2, 3, 2, 2, 4, 2, 0, 4, 5, 1] <br> in system: 0.0"
           ],
           "legendgroup": "False, last",
           "line": {
            "color": "#EF553B",
            "dash": "solid"
           },
           "marker": {
            "symbol": "circle"
           },
           "mode": "lines+markers",
           "name": "False, last",
           "orientation": "v",
           "showlegend": false,
           "type": "scatter",
           "x": [
            0
           ],
           "xaxis": "x",
           "y": [
            0
           ],
           "yaxis": "y"
          },
          {
           "hovertemplate": "<b>%{hovertext}</b><br><br>main=False<br>type=last<br>step=30<br>name=3<br>x=%{x}<br>y=%{y}<extra></extra>",
           "hovertext": [
            "Last node of 3 <br> reward: 1.0 <br> action: [2, 3, 2, 2, 4, 2, 0, 4, 5, 1] <br> in system: 1.0"
           ],
           "legendgroup": "False, last",
           "line": {
            "color": "#EF553B",
            "dash": "solid"
           },
           "marker": {
            "symbol": "circle"
           },
           "mode": "lines+markers",
           "name": "False, last",
           "orientation": "v",
           "showlegend": false,
           "type": "scatter",
           "x": [
            0.9431818181818182
           ],
           "xaxis": "x",
           "y": [
            0.76
           ],
           "yaxis": "y"
          },
          {
           "hovertemplate": "<b>%{hovertext}</b><br><br>main=False<br>type=last<br>step=30<br>name=4<br>x=%{x}<br>y=%{y}<extra></extra>",
           "hovertext": [
            "Last node of 4 <br> reward: 1.0 <br> action: [2, 3, 2, 2, 4, 2, 0, 4, 5, 1] <br> in system: 1.0"
           ],
           "legendgroup": "False, last",
           "line": {
            "color": "#EF553B",
            "dash": "solid"
           },
           "marker": {
            "symbol": "circle"
           },
           "mode": "lines+markers",
           "name": "False, last",
           "orientation": "v",
           "showlegend": false,
           "type": "scatter",
           "x": [
            0.32954545454545453
           ],
           "xaxis": "x",
           "y": [
            0.428
           ],
           "yaxis": "y"
          },
          {
           "hovertemplate": "<b>%{hovertext}</b><br><br>main=False<br>type=last<br>step=30<br>name=5<br>x=%{x}<br>y=%{y}<extra></extra>",
           "hovertext": [
            "Last node of 5 <br> reward: 1.0 <br> action: [2, 3, 2, 2, 4, 2, 0, 4, 5, 1] <br> in system: 0.0"
           ],
           "legendgroup": "False, last",
           "line": {
            "color": "#EF553B",
            "dash": "solid"
           },
           "marker": {
            "symbol": "circle"
           },
           "mode": "lines+markers",
           "name": "False, last",
           "orientation": "v",
           "showlegend": false,
           "type": "scatter",
           "x": [
            0
           ],
           "xaxis": "x",
           "y": [
            0
           ],
           "yaxis": "y"
          },
          {
           "hovertemplate": "<b>%{hovertext}</b><br><br>main=False<br>type=last<br>step=30<br>name=6<br>x=%{x}<br>y=%{y}<extra></extra>",
           "hovertext": [
            "Last node of 6 <br> reward: 1.0 <br> action: [2, 3, 2, 2, 4, 2, 0, 4, 5, 1] <br> in system: 1.0"
           ],
           "legendgroup": "False, last",
           "line": {
            "color": "#EF553B",
            "dash": "solid"
           },
           "marker": {
            "symbol": "circle"
           },
           "mode": "lines+markers",
           "name": "False, last",
           "orientation": "v",
           "showlegend": false,
           "type": "scatter",
           "x": [
            0.5727272727272728
           ],
           "xaxis": "x",
           "y": [
            0.62
           ],
           "yaxis": "y"
          },
          {
           "hovertemplate": "<b>%{hovertext}</b><br><br>main=False<br>type=last<br>step=30<br>name=7<br>x=%{x}<br>y=%{y}<extra></extra>",
           "hovertext": [
            "Last node of 7 <br> reward: 1.0 <br> action: [2, 3, 2, 2, 4, 2, 0, 4, 5, 1] <br> in system: 1.0"
           ],
           "legendgroup": "False, last",
           "line": {
            "color": "#EF553B",
            "dash": "solid"
           },
           "marker": {
            "symbol": "circle"
           },
           "mode": "lines+markers",
           "name": "False, last",
           "orientation": "v",
           "showlegend": false,
           "type": "scatter",
           "x": [
            0.42045454545454547
           ],
           "xaxis": "x",
           "y": [
            0.76
           ],
           "yaxis": "y"
          },
          {
           "hovertemplate": "<b>%{hovertext}</b><br><br>main=False<br>type=last<br>step=30<br>name=8<br>x=%{x}<br>y=%{y}<extra></extra>",
           "hovertext": [
            "Last node of 8 <br> reward: 1.0 <br> action: [2, 3, 2, 2, 4, 2, 0, 4, 5, 1] <br> in system: 0.0"
           ],
           "legendgroup": "False, last",
           "line": {
            "color": "#EF553B",
            "dash": "solid"
           },
           "marker": {
            "symbol": "circle"
           },
           "mode": "lines+markers",
           "name": "False, last",
           "orientation": "v",
           "showlegend": false,
           "type": "scatter",
           "x": [
            0
           ],
           "xaxis": "x",
           "y": [
            0
           ],
           "yaxis": "y"
          },
          {
           "hovertemplate": "<b>%{hovertext}</b><br><br>main=False<br>type=last<br>step=30<br>name=9<br>x=%{x}<br>y=%{y}<extra></extra>",
           "hovertext": [
            "Last node of 9 <br> reward: 1.0 <br> action: [2, 3, 2, 2, 4, 2, 0, 4, 5, 1] <br> in system: 0.0"
           ],
           "legendgroup": "False, last",
           "line": {
            "color": "#EF553B",
            "dash": "solid"
           },
           "marker": {
            "symbol": "circle"
           },
           "mode": "lines+markers",
           "name": "False, last",
           "orientation": "v",
           "showlegend": false,
           "type": "scatter",
           "x": [
            0
           ],
           "xaxis": "x",
           "y": [
            0
           ],
           "yaxis": "y"
          },
          {
           "hovertemplate": "<b>%{hovertext}</b><br><br>main=False<br>type=next<br>step=30<br>name=1<br>x=%{x}<br>y=%{y}<extra></extra>",
           "hovertext": [
            "Next node of 1 <br> reward: 1.0 <br> action: [2, 3, 2, 2, 4, 2, 0, 4, 5, 1] <br> in system: 1.0"
           ],
           "legendgroup": "False, next",
           "line": {
            "color": "#EF553B",
            "dash": "solid"
           },
           "marker": {
            "symbol": "diamond"
           },
           "mode": "lines+markers",
           "name": "False, next",
           "orientation": "v",
           "showlegend": true,
           "type": "scatter",
           "x": [
            0.4772727272727273
           ],
           "xaxis": "x",
           "y": [
            0.48
           ],
           "yaxis": "y"
          },
          {
           "hovertemplate": "<b>%{hovertext}</b><br><br>main=False<br>type=next<br>step=30<br>name=2<br>x=%{x}<br>y=%{y}<extra></extra>",
           "hovertext": [
            "Next node of 2 <br> reward: 1.0 <br> action: [2, 3, 2, 2, 4, 2, 0, 4, 5, 1] <br> in system: 0.0"
           ],
           "legendgroup": "False, next",
           "line": {
            "color": "#EF553B",
            "dash": "solid"
           },
           "marker": {
            "symbol": "diamond"
           },
           "mode": "lines+markers",
           "name": "False, next",
           "orientation": "v",
           "showlegend": false,
           "type": "scatter",
           "x": [
            0
           ],
           "xaxis": "x",
           "y": [
            0
           ],
           "yaxis": "y"
          },
          {
           "hovertemplate": "<b>%{hovertext}</b><br><br>main=False<br>type=next<br>step=30<br>name=3<br>x=%{x}<br>y=%{y}<extra></extra>",
           "hovertext": [
            "Next node of 3 <br> reward: 1.0 <br> action: [2, 3, 2, 2, 4, 2, 0, 4, 5, 1] <br> in system: 1.0"
           ],
           "legendgroup": "False, next",
           "line": {
            "color": "#EF553B",
            "dash": "solid"
           },
           "marker": {
            "symbol": "diamond"
           },
           "mode": "lines+markers",
           "name": "False, next",
           "orientation": "v",
           "showlegend": false,
           "type": "scatter",
           "x": [
            0.9727272727272728
           ],
           "xaxis": "x",
           "y": [
            0.62
           ],
           "yaxis": "y"
          },
          {
           "hovertemplate": "<b>%{hovertext}</b><br><br>main=False<br>type=next<br>step=30<br>name=4<br>x=%{x}<br>y=%{y}<extra></extra>",
           "hovertext": [
            "Next node of 4 <br> reward: 1.0 <br> action: [2, 3, 2, 2, 4, 2, 0, 4, 5, 1] <br> in system: 1.0"
           ],
           "legendgroup": "False, next",
           "line": {
            "color": "#EF553B",
            "dash": "solid"
           },
           "marker": {
            "symbol": "diamond"
           },
           "mode": "lines+markers",
           "name": "False, next",
           "orientation": "v",
           "showlegend": false,
           "type": "scatter",
           "x": [
            0.42045454545454547
           ],
           "xaxis": "x",
           "y": [
            0.48
           ],
           "yaxis": "y"
          },
          {
           "hovertemplate": "<b>%{hovertext}</b><br><br>main=False<br>type=next<br>step=30<br>name=5<br>x=%{x}<br>y=%{y}<extra></extra>",
           "hovertext": [
            "Next node of 5 <br> reward: 1.0 <br> action: [2, 3, 2, 2, 4, 2, 0, 4, 5, 1] <br> in system: 0.0"
           ],
           "legendgroup": "False, next",
           "line": {
            "color": "#EF553B",
            "dash": "solid"
           },
           "marker": {
            "symbol": "diamond"
           },
           "mode": "lines+markers",
           "name": "False, next",
           "orientation": "v",
           "showlegend": false,
           "type": "scatter",
           "x": [
            0
           ],
           "xaxis": "x",
           "y": [
            0
           ],
           "yaxis": "y"
          },
          {
           "hovertemplate": "<b>%{hovertext}</b><br><br>main=False<br>type=next<br>step=30<br>name=6<br>x=%{x}<br>y=%{y}<extra></extra>",
           "hovertext": [
            "Next node of 6 <br> reward: 1.0 <br> action: [2, 3, 2, 2, 4, 2, 0, 4, 5, 1] <br> in system: 1.0"
           ],
           "legendgroup": "False, next",
           "line": {
            "color": "#EF553B",
            "dash": "solid"
           },
           "marker": {
            "symbol": "diamond"
           },
           "mode": "lines+markers",
           "name": "False, next",
           "orientation": "v",
           "showlegend": false,
           "type": "scatter",
           "x": [
            0.6022727272727273
           ],
           "xaxis": "x",
           "y": [
            0.76
           ],
           "yaxis": "y"
          },
          {
           "hovertemplate": "<b>%{hovertext}</b><br><br>main=False<br>type=next<br>step=30<br>name=7<br>x=%{x}<br>y=%{y}<extra></extra>",
           "hovertext": [
            "Next node of 7 <br> reward: 1.0 <br> action: [2, 3, 2, 2, 4, 2, 0, 4, 5, 1] <br> in system: 1.0"
           ],
           "legendgroup": "False, next",
           "line": {
            "color": "#EF553B",
            "dash": "solid"
           },
           "marker": {
            "symbol": "diamond"
           },
           "mode": "lines+markers",
           "name": "False, next",
           "orientation": "v",
           "showlegend": false,
           "type": "scatter",
           "x": [
            0.32954545454545453
           ],
           "xaxis": "x",
           "y": [
            0.808
           ],
           "yaxis": "y"
          },
          {
           "hovertemplate": "<b>%{hovertext}</b><br><br>main=False<br>type=next<br>step=30<br>name=8<br>x=%{x}<br>y=%{y}<extra></extra>",
           "hovertext": [
            "Next node of 8 <br> reward: 1.0 <br> action: [2, 3, 2, 2, 4, 2, 0, 4, 5, 1] <br> in system: 0.0"
           ],
           "legendgroup": "False, next",
           "line": {
            "color": "#EF553B",
            "dash": "solid"
           },
           "marker": {
            "symbol": "diamond"
           },
           "mode": "lines+markers",
           "name": "False, next",
           "orientation": "v",
           "showlegend": false,
           "type": "scatter",
           "x": [
            0
           ],
           "xaxis": "x",
           "y": [
            0
           ],
           "yaxis": "y"
          },
          {
           "hovertemplate": "<b>%{hovertext}</b><br><br>main=False<br>type=next<br>step=30<br>name=9<br>x=%{x}<br>y=%{y}<extra></extra>",
           "hovertext": [
            "Next node of 9 <br> reward: 1.0 <br> action: [2, 3, 2, 2, 4, 2, 0, 4, 5, 1] <br> in system: 0.0"
           ],
           "legendgroup": "False, next",
           "line": {
            "color": "#EF553B",
            "dash": "solid"
           },
           "marker": {
            "symbol": "diamond"
           },
           "mode": "lines+markers",
           "name": "False, next",
           "orientation": "v",
           "showlegend": false,
           "type": "scatter",
           "x": [
            0
           ],
           "xaxis": "x",
           "y": [
            0
           ],
           "yaxis": "y"
          }
         ],
         "name": "30"
        },
        {
         "data": [
          {
           "hovertemplate": "<b>%{hovertext}</b><br><br>main=True<br>type=last<br>step=31<br>name=0<br>x=%{x}<br>y=%{y}<extra></extra>",
           "hovertext": [
            "Last node of 0 <br> reward: 1.0 <br> action: [5, 2, 2, 1, 0, 4, 3, 1, 5, 3] <br> in system: 1.0"
           ],
           "legendgroup": "True, last",
           "line": {
            "color": "#636efa",
            "dash": "solid"
           },
           "marker": {
            "symbol": "circle"
           },
           "mode": "lines+markers",
           "name": "True, last",
           "orientation": "v",
           "showlegend": true,
           "type": "scatter",
           "x": [
            0.8181818181818182
           ],
           "xaxis": "x",
           "y": [
            0.76
           ],
           "yaxis": "y"
          },
          {
           "hovertemplate": "<b>%{hovertext}</b><br><br>main=True<br>type=next<br>step=31<br>name=0<br>x=%{x}<br>y=%{y}<extra></extra>",
           "hovertext": [
            "Next node of 0 <br> reward: 1.0 <br> action: [5, 2, 2, 1, 0, 4, 3, 1, 5, 3] <br> in system: 1.0"
           ],
           "legendgroup": "True, next",
           "line": {
            "color": "#636efa",
            "dash": "solid"
           },
           "marker": {
            "symbol": "diamond"
           },
           "mode": "lines+markers",
           "name": "True, next",
           "orientation": "v",
           "showlegend": true,
           "type": "scatter",
           "x": [
            0.8181818181818182
           ],
           "xaxis": "x",
           "y": [
            0.86
           ],
           "yaxis": "y"
          },
          {
           "hovertemplate": "<b>%{hovertext}</b><br><br>main=False<br>type=last<br>step=31<br>name=1<br>x=%{x}<br>y=%{y}<extra></extra>",
           "hovertext": [
            "Last node of 1 <br> reward: 1.0 <br> action: [5, 2, 2, 1, 0, 4, 3, 1, 5, 3] <br> in system: 0.0"
           ],
           "legendgroup": "False, last",
           "line": {
            "color": "#EF553B",
            "dash": "solid"
           },
           "marker": {
            "symbol": "circle"
           },
           "mode": "lines+markers",
           "name": "False, last",
           "orientation": "v",
           "showlegend": true,
           "type": "scatter",
           "x": [
            0
           ],
           "xaxis": "x",
           "y": [
            0
           ],
           "yaxis": "y"
          },
          {
           "hovertemplate": "<b>%{hovertext}</b><br><br>main=False<br>type=last<br>step=31<br>name=2<br>x=%{x}<br>y=%{y}<extra></extra>",
           "hovertext": [
            "Last node of 2 <br> reward: 1.0 <br> action: [5, 2, 2, 1, 0, 4, 3, 1, 5, 3] <br> in system: 1.0"
           ],
           "legendgroup": "False, last",
           "line": {
            "color": "#EF553B",
            "dash": "solid"
           },
           "marker": {
            "symbol": "circle"
           },
           "mode": "lines+markers",
           "name": "False, last",
           "orientation": "v",
           "showlegend": false,
           "type": "scatter",
           "x": [
            0.5727272727272728
           ],
           "xaxis": "x",
           "y": [
            0.62
           ],
           "yaxis": "y"
          },
          {
           "hovertemplate": "<b>%{hovertext}</b><br><br>main=False<br>type=last<br>step=31<br>name=3<br>x=%{x}<br>y=%{y}<extra></extra>",
           "hovertext": [
            "Last node of 3 <br> reward: 1.0 <br> action: [5, 2, 2, 1, 0, 4, 3, 1, 5, 3] <br> in system: 1.0"
           ],
           "legendgroup": "False, last",
           "line": {
            "color": "#EF553B",
            "dash": "solid"
           },
           "marker": {
            "symbol": "circle"
           },
           "mode": "lines+markers",
           "name": "False, last",
           "orientation": "v",
           "showlegend": false,
           "type": "scatter",
           "x": [
            0.42045454545454547
           ],
           "xaxis": "x",
           "y": [
            0.76
           ],
           "yaxis": "y"
          },
          {
           "hovertemplate": "<b>%{hovertext}</b><br><br>main=False<br>type=last<br>step=31<br>name=4<br>x=%{x}<br>y=%{y}<extra></extra>",
           "hovertext": [
            "Last node of 4 <br> reward: 1.0 <br> action: [5, 2, 2, 1, 0, 4, 3, 1, 5, 3] <br> in system: 0.0"
           ],
           "legendgroup": "False, last",
           "line": {
            "color": "#EF553B",
            "dash": "solid"
           },
           "marker": {
            "symbol": "circle"
           },
           "mode": "lines+markers",
           "name": "False, last",
           "orientation": "v",
           "showlegend": false,
           "type": "scatter",
           "x": [
            0
           ],
           "xaxis": "x",
           "y": [
            0
           ],
           "yaxis": "y"
          },
          {
           "hovertemplate": "<b>%{hovertext}</b><br><br>main=False<br>type=last<br>step=31<br>name=5<br>x=%{x}<br>y=%{y}<extra></extra>",
           "hovertext": [
            "Last node of 5 <br> reward: 1.0 <br> action: [5, 2, 2, 1, 0, 4, 3, 1, 5, 3] <br> in system: 1.0"
           ],
           "legendgroup": "False, last",
           "line": {
            "color": "#EF553B",
            "dash": "solid"
           },
           "marker": {
            "symbol": "circle"
           },
           "mode": "lines+markers",
           "name": "False, last",
           "orientation": "v",
           "showlegend": false,
           "type": "scatter",
           "x": [
            0.4772727272727273
           ],
           "xaxis": "x",
           "y": [
            0.48
           ],
           "yaxis": "y"
          },
          {
           "hovertemplate": "<b>%{hovertext}</b><br><br>main=False<br>type=last<br>step=31<br>name=6<br>x=%{x}<br>y=%{y}<extra></extra>",
           "hovertext": [
            "Last node of 6 <br> reward: 1.0 <br> action: [5, 2, 2, 1, 0, 4, 3, 1, 5, 3] <br> in system: 0.0"
           ],
           "legendgroup": "False, last",
           "line": {
            "color": "#EF553B",
            "dash": "solid"
           },
           "marker": {
            "symbol": "circle"
           },
           "mode": "lines+markers",
           "name": "False, last",
           "orientation": "v",
           "showlegend": false,
           "type": "scatter",
           "x": [
            0
           ],
           "xaxis": "x",
           "y": [
            0
           ],
           "yaxis": "y"
          },
          {
           "hovertemplate": "<b>%{hovertext}</b><br><br>main=False<br>type=last<br>step=31<br>name=7<br>x=%{x}<br>y=%{y}<extra></extra>",
           "hovertext": [
            "Last node of 7 <br> reward: 1.0 <br> action: [5, 2, 2, 1, 0, 4, 3, 1, 5, 3] <br> in system: 1.0"
           ],
           "legendgroup": "False, last",
           "line": {
            "color": "#EF553B",
            "dash": "solid"
           },
           "marker": {
            "symbol": "circle"
           },
           "mode": "lines+markers",
           "name": "False, last",
           "orientation": "v",
           "showlegend": false,
           "type": "scatter",
           "x": [
            0.42045454545454547
           ],
           "xaxis": "x",
           "y": [
            0.48
           ],
           "yaxis": "y"
          },
          {
           "hovertemplate": "<b>%{hovertext}</b><br><br>main=False<br>type=last<br>step=31<br>name=8<br>x=%{x}<br>y=%{y}<extra></extra>",
           "hovertext": [
            "Last node of 8 <br> reward: 1.0 <br> action: [5, 2, 2, 1, 0, 4, 3, 1, 5, 3] <br> in system: 1.0"
           ],
           "legendgroup": "False, last",
           "line": {
            "color": "#EF553B",
            "dash": "solid"
           },
           "marker": {
            "symbol": "circle"
           },
           "mode": "lines+markers",
           "name": "False, last",
           "orientation": "v",
           "showlegend": false,
           "type": "scatter",
           "x": [
            0.9431818181818182
           ],
           "xaxis": "x",
           "y": [
            0.76
           ],
           "yaxis": "y"
          },
          {
           "hovertemplate": "<b>%{hovertext}</b><br><br>main=False<br>type=last<br>step=31<br>name=9<br>x=%{x}<br>y=%{y}<extra></extra>",
           "hovertext": [
            "Last node of 9 <br> reward: 1.0 <br> action: [5, 2, 2, 1, 0, 4, 3, 1, 5, 3] <br> in system: 0.0"
           ],
           "legendgroup": "False, last",
           "line": {
            "color": "#EF553B",
            "dash": "solid"
           },
           "marker": {
            "symbol": "circle"
           },
           "mode": "lines+markers",
           "name": "False, last",
           "orientation": "v",
           "showlegend": false,
           "type": "scatter",
           "x": [
            0
           ],
           "xaxis": "x",
           "y": [
            0
           ],
           "yaxis": "y"
          },
          {
           "hovertemplate": "<b>%{hovertext}</b><br><br>main=False<br>type=next<br>step=31<br>name=1<br>x=%{x}<br>y=%{y}<extra></extra>",
           "hovertext": [
            "Next node of 1 <br> reward: 1.0 <br> action: [5, 2, 2, 1, 0, 4, 3, 1, 5, 3] <br> in system: 0.0"
           ],
           "legendgroup": "False, next",
           "line": {
            "color": "#EF553B",
            "dash": "solid"
           },
           "marker": {
            "symbol": "diamond"
           },
           "mode": "lines+markers",
           "name": "False, next",
           "orientation": "v",
           "showlegend": true,
           "type": "scatter",
           "x": [
            0
           ],
           "xaxis": "x",
           "y": [
            0
           ],
           "yaxis": "y"
          },
          {
           "hovertemplate": "<b>%{hovertext}</b><br><br>main=False<br>type=next<br>step=31<br>name=2<br>x=%{x}<br>y=%{y}<extra></extra>",
           "hovertext": [
            "Next node of 2 <br> reward: 1.0 <br> action: [5, 2, 2, 1, 0, 4, 3, 1, 5, 3] <br> in system: 1.0"
           ],
           "legendgroup": "False, next",
           "line": {
            "color": "#EF553B",
            "dash": "solid"
           },
           "marker": {
            "symbol": "diamond"
           },
           "mode": "lines+markers",
           "name": "False, next",
           "orientation": "v",
           "showlegend": false,
           "type": "scatter",
           "x": [
            0.6022727272727273
           ],
           "xaxis": "x",
           "y": [
            0.76
           ],
           "yaxis": "y"
          },
          {
           "hovertemplate": "<b>%{hovertext}</b><br><br>main=False<br>type=next<br>step=31<br>name=3<br>x=%{x}<br>y=%{y}<extra></extra>",
           "hovertext": [
            "Next node of 3 <br> reward: 1.0 <br> action: [5, 2, 2, 1, 0, 4, 3, 1, 5, 3] <br> in system: 1.0"
           ],
           "legendgroup": "False, next",
           "line": {
            "color": "#EF553B",
            "dash": "solid"
           },
           "marker": {
            "symbol": "diamond"
           },
           "mode": "lines+markers",
           "name": "False, next",
           "orientation": "v",
           "showlegend": false,
           "type": "scatter",
           "x": [
            0.32954545454545453
           ],
           "xaxis": "x",
           "y": [
            0.808
           ],
           "yaxis": "y"
          },
          {
           "hovertemplate": "<b>%{hovertext}</b><br><br>main=False<br>type=next<br>step=31<br>name=4<br>x=%{x}<br>y=%{y}<extra></extra>",
           "hovertext": [
            "Next node of 4 <br> reward: 1.0 <br> action: [5, 2, 2, 1, 0, 4, 3, 1, 5, 3] <br> in system: 0.0"
           ],
           "legendgroup": "False, next",
           "line": {
            "color": "#EF553B",
            "dash": "solid"
           },
           "marker": {
            "symbol": "diamond"
           },
           "mode": "lines+markers",
           "name": "False, next",
           "orientation": "v",
           "showlegend": false,
           "type": "scatter",
           "x": [
            0
           ],
           "xaxis": "x",
           "y": [
            0
           ],
           "yaxis": "y"
          },
          {
           "hovertemplate": "<b>%{hovertext}</b><br><br>main=False<br>type=next<br>step=31<br>name=5<br>x=%{x}<br>y=%{y}<extra></extra>",
           "hovertext": [
            "Next node of 5 <br> reward: 1.0 <br> action: [5, 2, 2, 1, 0, 4, 3, 1, 5, 3] <br> in system: 1.0"
           ],
           "legendgroup": "False, next",
           "line": {
            "color": "#EF553B",
            "dash": "solid"
           },
           "marker": {
            "symbol": "diamond"
           },
           "mode": "lines+markers",
           "name": "False, next",
           "orientation": "v",
           "showlegend": false,
           "type": "scatter",
           "x": [
            0.42045454545454547
           ],
           "xaxis": "x",
           "y": [
            0.48
           ],
           "yaxis": "y"
          },
          {
           "hovertemplate": "<b>%{hovertext}</b><br><br>main=False<br>type=next<br>step=31<br>name=6<br>x=%{x}<br>y=%{y}<extra></extra>",
           "hovertext": [
            "Next node of 6 <br> reward: 1.0 <br> action: [5, 2, 2, 1, 0, 4, 3, 1, 5, 3] <br> in system: 0.0"
           ],
           "legendgroup": "False, next",
           "line": {
            "color": "#EF553B",
            "dash": "solid"
           },
           "marker": {
            "symbol": "diamond"
           },
           "mode": "lines+markers",
           "name": "False, next",
           "orientation": "v",
           "showlegend": false,
           "type": "scatter",
           "x": [
            0
           ],
           "xaxis": "x",
           "y": [
            0
           ],
           "yaxis": "y"
          },
          {
           "hovertemplate": "<b>%{hovertext}</b><br><br>main=False<br>type=next<br>step=31<br>name=7<br>x=%{x}<br>y=%{y}<extra></extra>",
           "hovertext": [
            "Next node of 7 <br> reward: 1.0 <br> action: [5, 2, 2, 1, 0, 4, 3, 1, 5, 3] <br> in system: 1.0"
           ],
           "legendgroup": "False, next",
           "line": {
            "color": "#EF553B",
            "dash": "solid"
           },
           "marker": {
            "symbol": "diamond"
           },
           "mode": "lines+markers",
           "name": "False, next",
           "orientation": "v",
           "showlegend": false,
           "type": "scatter",
           "x": [
            0.42045454545454547
           ],
           "xaxis": "x",
           "y": [
            0.76
           ],
           "yaxis": "y"
          },
          {
           "hovertemplate": "<b>%{hovertext}</b><br><br>main=False<br>type=next<br>step=31<br>name=8<br>x=%{x}<br>y=%{y}<extra></extra>",
           "hovertext": [
            "Next node of 8 <br> reward: 1.0 <br> action: [5, 2, 2, 1, 0, 4, 3, 1, 5, 3] <br> in system: 1.0"
           ],
           "legendgroup": "False, next",
           "line": {
            "color": "#EF553B",
            "dash": "solid"
           },
           "marker": {
            "symbol": "diamond"
           },
           "mode": "lines+markers",
           "name": "False, next",
           "orientation": "v",
           "showlegend": false,
           "type": "scatter",
           "x": [
            0.9727272727272728
           ],
           "xaxis": "x",
           "y": [
            0.62
           ],
           "yaxis": "y"
          },
          {
           "hovertemplate": "<b>%{hovertext}</b><br><br>main=False<br>type=next<br>step=31<br>name=9<br>x=%{x}<br>y=%{y}<extra></extra>",
           "hovertext": [
            "Next node of 9 <br> reward: 1.0 <br> action: [5, 2, 2, 1, 0, 4, 3, 1, 5, 3] <br> in system: 0.0"
           ],
           "legendgroup": "False, next",
           "line": {
            "color": "#EF553B",
            "dash": "solid"
           },
           "marker": {
            "symbol": "diamond"
           },
           "mode": "lines+markers",
           "name": "False, next",
           "orientation": "v",
           "showlegend": false,
           "type": "scatter",
           "x": [
            0
           ],
           "xaxis": "x",
           "y": [
            0
           ],
           "yaxis": "y"
          }
         ],
         "name": "31"
        },
        {
         "data": [
          {
           "hovertemplate": "<b>%{hovertext}</b><br><br>main=True<br>type=last<br>step=32<br>name=0<br>x=%{x}<br>y=%{y}<extra></extra>",
           "hovertext": [
            "Last node of 0 <br> reward: 1.0 <br> action: [3, 0, 4, 2, 5, 5, 4, 2, 5, 5] <br> in system: 1.0"
           ],
           "legendgroup": "True, last",
           "line": {
            "color": "#636efa",
            "dash": "solid"
           },
           "marker": {
            "symbol": "circle"
           },
           "mode": "lines+markers",
           "name": "True, last",
           "orientation": "v",
           "showlegend": true,
           "type": "scatter",
           "x": [
            0.8181818181818182
           ],
           "xaxis": "x",
           "y": [
            0.76
           ],
           "yaxis": "y"
          },
          {
           "hovertemplate": "<b>%{hovertext}</b><br><br>main=True<br>type=next<br>step=32<br>name=0<br>x=%{x}<br>y=%{y}<extra></extra>",
           "hovertext": [
            "Next node of 0 <br> reward: 1.0 <br> action: [3, 0, 4, 2, 5, 5, 4, 2, 5, 5] <br> in system: 1.0"
           ],
           "legendgroup": "True, next",
           "line": {
            "color": "#636efa",
            "dash": "solid"
           },
           "marker": {
            "symbol": "diamond"
           },
           "mode": "lines+markers",
           "name": "True, next",
           "orientation": "v",
           "showlegend": true,
           "type": "scatter",
           "x": [
            0.8181818181818182
           ],
           "xaxis": "x",
           "y": [
            0.86
           ],
           "yaxis": "y"
          },
          {
           "hovertemplate": "<b>%{hovertext}</b><br><br>main=False<br>type=last<br>step=32<br>name=1<br>x=%{x}<br>y=%{y}<extra></extra>",
           "hovertext": [
            "Last node of 1 <br> reward: 1.0 <br> action: [3, 0, 4, 2, 5, 5, 4, 2, 5, 5] <br> in system: 1.0"
           ],
           "legendgroup": "False, last",
           "line": {
            "color": "#EF553B",
            "dash": "solid"
           },
           "marker": {
            "symbol": "circle"
           },
           "mode": "lines+markers",
           "name": "False, last",
           "orientation": "v",
           "showlegend": true,
           "type": "scatter",
           "x": [
            0.5727272727272728
           ],
           "xaxis": "x",
           "y": [
            0.62
           ],
           "yaxis": "y"
          },
          {
           "hovertemplate": "<b>%{hovertext}</b><br><br>main=False<br>type=last<br>step=32<br>name=2<br>x=%{x}<br>y=%{y}<extra></extra>",
           "hovertext": [
            "Last node of 2 <br> reward: 1.0 <br> action: [3, 0, 4, 2, 5, 5, 4, 2, 5, 5] <br> in system: 1.0"
           ],
           "legendgroup": "False, last",
           "line": {
            "color": "#EF553B",
            "dash": "solid"
           },
           "marker": {
            "symbol": "circle"
           },
           "mode": "lines+markers",
           "name": "False, last",
           "orientation": "v",
           "showlegend": false,
           "type": "scatter",
           "x": [
            0.42045454545454547
           ],
           "xaxis": "x",
           "y": [
            0.48
           ],
           "yaxis": "y"
          },
          {
           "hovertemplate": "<b>%{hovertext}</b><br><br>main=False<br>type=last<br>step=32<br>name=3<br>x=%{x}<br>y=%{y}<extra></extra>",
           "hovertext": [
            "Last node of 3 <br> reward: 1.0 <br> action: [3, 0, 4, 2, 5, 5, 4, 2, 5, 5] <br> in system: 0.0"
           ],
           "legendgroup": "False, last",
           "line": {
            "color": "#EF553B",
            "dash": "solid"
           },
           "marker": {
            "symbol": "circle"
           },
           "mode": "lines+markers",
           "name": "False, last",
           "orientation": "v",
           "showlegend": false,
           "type": "scatter",
           "x": [
            0
           ],
           "xaxis": "x",
           "y": [
            0
           ],
           "yaxis": "y"
          },
          {
           "hovertemplate": "<b>%{hovertext}</b><br><br>main=False<br>type=last<br>step=32<br>name=4<br>x=%{x}<br>y=%{y}<extra></extra>",
           "hovertext": [
            "Last node of 4 <br> reward: 1.0 <br> action: [3, 0, 4, 2, 5, 5, 4, 2, 5, 5] <br> in system: 1.0"
           ],
           "legendgroup": "False, last",
           "line": {
            "color": "#EF553B",
            "dash": "solid"
           },
           "marker": {
            "symbol": "circle"
           },
           "mode": "lines+markers",
           "name": "False, last",
           "orientation": "v",
           "showlegend": false,
           "type": "scatter",
           "x": [
            0.32954545454545453
           ],
           "xaxis": "x",
           "y": [
            0.808
           ],
           "yaxis": "y"
          },
          {
           "hovertemplate": "<b>%{hovertext}</b><br><br>main=False<br>type=last<br>step=32<br>name=5<br>x=%{x}<br>y=%{y}<extra></extra>",
           "hovertext": [
            "Last node of 5 <br> reward: 1.0 <br> action: [3, 0, 4, 2, 5, 5, 4, 2, 5, 5] <br> in system: 1.0"
           ],
           "legendgroup": "False, last",
           "line": {
            "color": "#EF553B",
            "dash": "solid"
           },
           "marker": {
            "symbol": "circle"
           },
           "mode": "lines+markers",
           "name": "False, last",
           "orientation": "v",
           "showlegend": false,
           "type": "scatter",
           "x": [
            0.9431818181818182
           ],
           "xaxis": "x",
           "y": [
            0.76
           ],
           "yaxis": "y"
          },
          {
           "hovertemplate": "<b>%{hovertext}</b><br><br>main=False<br>type=last<br>step=32<br>name=6<br>x=%{x}<br>y=%{y}<extra></extra>",
           "hovertext": [
            "Last node of 6 <br> reward: 1.0 <br> action: [3, 0, 4, 2, 5, 5, 4, 2, 5, 5] <br> in system: 0.0"
           ],
           "legendgroup": "False, last",
           "line": {
            "color": "#EF553B",
            "dash": "solid"
           },
           "marker": {
            "symbol": "circle"
           },
           "mode": "lines+markers",
           "name": "False, last",
           "orientation": "v",
           "showlegend": false,
           "type": "scatter",
           "x": [
            0
           ],
           "xaxis": "x",
           "y": [
            0
           ],
           "yaxis": "y"
          },
          {
           "hovertemplate": "<b>%{hovertext}</b><br><br>main=False<br>type=last<br>step=32<br>name=7<br>x=%{x}<br>y=%{y}<extra></extra>",
           "hovertext": [
            "Last node of 7 <br> reward: 1.0 <br> action: [3, 0, 4, 2, 5, 5, 4, 2, 5, 5] <br> in system: 1.0"
           ],
           "legendgroup": "False, last",
           "line": {
            "color": "#EF553B",
            "dash": "solid"
           },
           "marker": {
            "symbol": "circle"
           },
           "mode": "lines+markers",
           "name": "False, last",
           "orientation": "v",
           "showlegend": false,
           "type": "scatter",
           "x": [
            0.4772727272727273
           ],
           "xaxis": "x",
           "y": [
            0.48
           ],
           "yaxis": "y"
          },
          {
           "hovertemplate": "<b>%{hovertext}</b><br><br>main=False<br>type=last<br>step=32<br>name=8<br>x=%{x}<br>y=%{y}<extra></extra>",
           "hovertext": [
            "Last node of 8 <br> reward: 1.0 <br> action: [3, 0, 4, 2, 5, 5, 4, 2, 5, 5] <br> in system: 0.0"
           ],
           "legendgroup": "False, last",
           "line": {
            "color": "#EF553B",
            "dash": "solid"
           },
           "marker": {
            "symbol": "circle"
           },
           "mode": "lines+markers",
           "name": "False, last",
           "orientation": "v",
           "showlegend": false,
           "type": "scatter",
           "x": [
            0
           ],
           "xaxis": "x",
           "y": [
            0
           ],
           "yaxis": "y"
          },
          {
           "hovertemplate": "<b>%{hovertext}</b><br><br>main=False<br>type=last<br>step=32<br>name=9<br>x=%{x}<br>y=%{y}<extra></extra>",
           "hovertext": [
            "Last node of 9 <br> reward: 1.0 <br> action: [3, 0, 4, 2, 5, 5, 4, 2, 5, 5] <br> in system: 0.0"
           ],
           "legendgroup": "False, last",
           "line": {
            "color": "#EF553B",
            "dash": "solid"
           },
           "marker": {
            "symbol": "circle"
           },
           "mode": "lines+markers",
           "name": "False, last",
           "orientation": "v",
           "showlegend": false,
           "type": "scatter",
           "x": [
            0
           ],
           "xaxis": "x",
           "y": [
            0
           ],
           "yaxis": "y"
          },
          {
           "hovertemplate": "<b>%{hovertext}</b><br><br>main=False<br>type=next<br>step=32<br>name=1<br>x=%{x}<br>y=%{y}<extra></extra>",
           "hovertext": [
            "Next node of 1 <br> reward: 1.0 <br> action: [3, 0, 4, 2, 5, 5, 4, 2, 5, 5] <br> in system: 1.0"
           ],
           "legendgroup": "False, next",
           "line": {
            "color": "#EF553B",
            "dash": "solid"
           },
           "marker": {
            "symbol": "diamond"
           },
           "mode": "lines+markers",
           "name": "False, next",
           "orientation": "v",
           "showlegend": true,
           "type": "scatter",
           "x": [
            0.6022727272727273
           ],
           "xaxis": "x",
           "y": [
            0.76
           ],
           "yaxis": "y"
          },
          {
           "hovertemplate": "<b>%{hovertext}</b><br><br>main=False<br>type=next<br>step=32<br>name=2<br>x=%{x}<br>y=%{y}<extra></extra>",
           "hovertext": [
            "Next node of 2 <br> reward: 1.0 <br> action: [3, 0, 4, 2, 5, 5, 4, 2, 5, 5] <br> in system: 1.0"
           ],
           "legendgroup": "False, next",
           "line": {
            "color": "#EF553B",
            "dash": "solid"
           },
           "marker": {
            "symbol": "diamond"
           },
           "mode": "lines+markers",
           "name": "False, next",
           "orientation": "v",
           "showlegend": false,
           "type": "scatter",
           "x": [
            0.42045454545454547
           ],
           "xaxis": "x",
           "y": [
            0.76
           ],
           "yaxis": "y"
          },
          {
           "hovertemplate": "<b>%{hovertext}</b><br><br>main=False<br>type=next<br>step=32<br>name=3<br>x=%{x}<br>y=%{y}<extra></extra>",
           "hovertext": [
            "Next node of 3 <br> reward: 1.0 <br> action: [3, 0, 4, 2, 5, 5, 4, 2, 5, 5] <br> in system: 0.0"
           ],
           "legendgroup": "False, next",
           "line": {
            "color": "#EF553B",
            "dash": "solid"
           },
           "marker": {
            "symbol": "diamond"
           },
           "mode": "lines+markers",
           "name": "False, next",
           "orientation": "v",
           "showlegend": false,
           "type": "scatter",
           "x": [
            0
           ],
           "xaxis": "x",
           "y": [
            0
           ],
           "yaxis": "y"
          },
          {
           "hovertemplate": "<b>%{hovertext}</b><br><br>main=False<br>type=next<br>step=32<br>name=4<br>x=%{x}<br>y=%{y}<extra></extra>",
           "hovertext": [
            "Next node of 4 <br> reward: 1.0 <br> action: [3, 0, 4, 2, 5, 5, 4, 2, 5, 5] <br> in system: 1.0"
           ],
           "legendgroup": "False, next",
           "line": {
            "color": "#EF553B",
            "dash": "solid"
           },
           "marker": {
            "symbol": "diamond"
           },
           "mode": "lines+markers",
           "name": "False, next",
           "orientation": "v",
           "showlegend": false,
           "type": "scatter",
           "x": [
            0.42045454545454547
           ],
           "xaxis": "x",
           "y": [
            0.86
           ],
           "yaxis": "y"
          },
          {
           "hovertemplate": "<b>%{hovertext}</b><br><br>main=False<br>type=next<br>step=32<br>name=5<br>x=%{x}<br>y=%{y}<extra></extra>",
           "hovertext": [
            "Next node of 5 <br> reward: 1.0 <br> action: [3, 0, 4, 2, 5, 5, 4, 2, 5, 5] <br> in system: 1.0"
           ],
           "legendgroup": "False, next",
           "line": {
            "color": "#EF553B",
            "dash": "solid"
           },
           "marker": {
            "symbol": "diamond"
           },
           "mode": "lines+markers",
           "name": "False, next",
           "orientation": "v",
           "showlegend": false,
           "type": "scatter",
           "x": [
            0.9727272727272728
           ],
           "xaxis": "x",
           "y": [
            0.62
           ],
           "yaxis": "y"
          },
          {
           "hovertemplate": "<b>%{hovertext}</b><br><br>main=False<br>type=next<br>step=32<br>name=6<br>x=%{x}<br>y=%{y}<extra></extra>",
           "hovertext": [
            "Next node of 6 <br> reward: 1.0 <br> action: [3, 0, 4, 2, 5, 5, 4, 2, 5, 5] <br> in system: 0.0"
           ],
           "legendgroup": "False, next",
           "line": {
            "color": "#EF553B",
            "dash": "solid"
           },
           "marker": {
            "symbol": "diamond"
           },
           "mode": "lines+markers",
           "name": "False, next",
           "orientation": "v",
           "showlegend": false,
           "type": "scatter",
           "x": [
            0
           ],
           "xaxis": "x",
           "y": [
            0
           ],
           "yaxis": "y"
          },
          {
           "hovertemplate": "<b>%{hovertext}</b><br><br>main=False<br>type=next<br>step=32<br>name=7<br>x=%{x}<br>y=%{y}<extra></extra>",
           "hovertext": [
            "Next node of 7 <br> reward: 1.0 <br> action: [3, 0, 4, 2, 5, 5, 4, 2, 5, 5] <br> in system: 1.0"
           ],
           "legendgroup": "False, next",
           "line": {
            "color": "#EF553B",
            "dash": "solid"
           },
           "marker": {
            "symbol": "diamond"
           },
           "mode": "lines+markers",
           "name": "False, next",
           "orientation": "v",
           "showlegend": false,
           "type": "scatter",
           "x": [
            0.42045454545454547
           ],
           "xaxis": "x",
           "y": [
            0.48
           ],
           "yaxis": "y"
          },
          {
           "hovertemplate": "<b>%{hovertext}</b><br><br>main=False<br>type=next<br>step=32<br>name=8<br>x=%{x}<br>y=%{y}<extra></extra>",
           "hovertext": [
            "Next node of 8 <br> reward: 1.0 <br> action: [3, 0, 4, 2, 5, 5, 4, 2, 5, 5] <br> in system: 0.0"
           ],
           "legendgroup": "False, next",
           "line": {
            "color": "#EF553B",
            "dash": "solid"
           },
           "marker": {
            "symbol": "diamond"
           },
           "mode": "lines+markers",
           "name": "False, next",
           "orientation": "v",
           "showlegend": false,
           "type": "scatter",
           "x": [
            0
           ],
           "xaxis": "x",
           "y": [
            0
           ],
           "yaxis": "y"
          },
          {
           "hovertemplate": "<b>%{hovertext}</b><br><br>main=False<br>type=next<br>step=32<br>name=9<br>x=%{x}<br>y=%{y}<extra></extra>",
           "hovertext": [
            "Next node of 9 <br> reward: 1.0 <br> action: [3, 0, 4, 2, 5, 5, 4, 2, 5, 5] <br> in system: 0.0"
           ],
           "legendgroup": "False, next",
           "line": {
            "color": "#EF553B",
            "dash": "solid"
           },
           "marker": {
            "symbol": "diamond"
           },
           "mode": "lines+markers",
           "name": "False, next",
           "orientation": "v",
           "showlegend": false,
           "type": "scatter",
           "x": [
            0
           ],
           "xaxis": "x",
           "y": [
            0
           ],
           "yaxis": "y"
          }
         ],
         "name": "32"
        },
        {
         "data": [
          {
           "hovertemplate": "<b>%{hovertext}</b><br><br>main=True<br>type=last<br>step=33<br>name=0<br>x=%{x}<br>y=%{y}<extra></extra>",
           "hovertext": [
            "Last node of 0 <br> reward: 0 <br> action: [3, 5, 1, 3, 3, 3, 5, 4, 5, 0] <br> in system: 1.0"
           ],
           "legendgroup": "True, last",
           "line": {
            "color": "#636efa",
            "dash": "solid"
           },
           "marker": {
            "symbol": "circle"
           },
           "mode": "lines+markers",
           "name": "True, last",
           "orientation": "v",
           "showlegend": true,
           "type": "scatter",
           "x": [
            0.8181818181818182
           ],
           "xaxis": "x",
           "y": [
            0.86
           ],
           "yaxis": "y"
          },
          {
           "hovertemplate": "<b>%{hovertext}</b><br><br>main=True<br>type=next<br>step=33<br>name=0<br>x=%{x}<br>y=%{y}<extra></extra>",
           "hovertext": [
            "Next node of 0 <br> reward: 0 <br> action: [3, 5, 1, 3, 3, 3, 5, 4, 5, 0] <br> in system: 1.0"
           ],
           "legendgroup": "True, next",
           "line": {
            "color": "#636efa",
            "dash": "solid"
           },
           "marker": {
            "symbol": "diamond"
           },
           "mode": "lines+markers",
           "name": "True, next",
           "orientation": "v",
           "showlegend": true,
           "type": "scatter",
           "x": [
            0.9431818181818182
           ],
           "xaxis": "x",
           "y": [
            0.86
           ],
           "yaxis": "y"
          },
          {
           "hovertemplate": "<b>%{hovertext}</b><br><br>main=False<br>type=last<br>step=33<br>name=1<br>x=%{x}<br>y=%{y}<extra></extra>",
           "hovertext": [
            "Last node of 1 <br> reward: 0 <br> action: [3, 5, 1, 3, 3, 3, 5, 4, 5, 0] <br> in system: 1.0"
           ],
           "legendgroup": "False, last",
           "line": {
            "color": "#EF553B",
            "dash": "solid"
           },
           "marker": {
            "symbol": "circle"
           },
           "mode": "lines+markers",
           "name": "False, last",
           "orientation": "v",
           "showlegend": true,
           "type": "scatter",
           "x": [
            0.4772727272727273
           ],
           "xaxis": "x",
           "y": [
            0.48
           ],
           "yaxis": "y"
          },
          {
           "hovertemplate": "<b>%{hovertext}</b><br><br>main=False<br>type=last<br>step=33<br>name=2<br>x=%{x}<br>y=%{y}<extra></extra>",
           "hovertext": [
            "Last node of 2 <br> reward: 0 <br> action: [3, 5, 1, 3, 3, 3, 5, 4, 5, 0] <br> in system: 1.0"
           ],
           "legendgroup": "False, last",
           "line": {
            "color": "#EF553B",
            "dash": "solid"
           },
           "marker": {
            "symbol": "circle"
           },
           "mode": "lines+markers",
           "name": "False, last",
           "orientation": "v",
           "showlegend": false,
           "type": "scatter",
           "x": [
            0.6022727272727273
           ],
           "xaxis": "x",
           "y": [
            0.76
           ],
           "yaxis": "y"
          },
          {
           "hovertemplate": "<b>%{hovertext}</b><br><br>main=False<br>type=last<br>step=33<br>name=3<br>x=%{x}<br>y=%{y}<extra></extra>",
           "hovertext": [
            "Last node of 3 <br> reward: 0 <br> action: [3, 5, 1, 3, 3, 3, 5, 4, 5, 0] <br> in system: 1.0"
           ],
           "legendgroup": "False, last",
           "line": {
            "color": "#EF553B",
            "dash": "solid"
           },
           "marker": {
            "symbol": "circle"
           },
           "mode": "lines+markers",
           "name": "False, last",
           "orientation": "v",
           "showlegend": false,
           "type": "scatter",
           "x": [
            0.9431818181818182
           ],
           "xaxis": "x",
           "y": [
            0.76
           ],
           "yaxis": "y"
          },
          {
           "hovertemplate": "<b>%{hovertext}</b><br><br>main=False<br>type=last<br>step=33<br>name=4<br>x=%{x}<br>y=%{y}<extra></extra>",
           "hovertext": [
            "Last node of 4 <br> reward: 0 <br> action: [3, 5, 1, 3, 3, 3, 5, 4, 5, 0] <br> in system: 0.0"
           ],
           "legendgroup": "False, last",
           "line": {
            "color": "#EF553B",
            "dash": "solid"
           },
           "marker": {
            "symbol": "circle"
           },
           "mode": "lines+markers",
           "name": "False, last",
           "orientation": "v",
           "showlegend": false,
           "type": "scatter",
           "x": [
            0
           ],
           "xaxis": "x",
           "y": [
            0
           ],
           "yaxis": "y"
          },
          {
           "hovertemplate": "<b>%{hovertext}</b><br><br>main=False<br>type=last<br>step=33<br>name=5<br>x=%{x}<br>y=%{y}<extra></extra>",
           "hovertext": [
            "Last node of 5 <br> reward: 0 <br> action: [3, 5, 1, 3, 3, 3, 5, 4, 5, 0] <br> in system: 1.0"
           ],
           "legendgroup": "False, last",
           "line": {
            "color": "#EF553B",
            "dash": "solid"
           },
           "marker": {
            "symbol": "circle"
           },
           "mode": "lines+markers",
           "name": "False, last",
           "orientation": "v",
           "showlegend": false,
           "type": "scatter",
           "x": [
            0.42045454545454547
           ],
           "xaxis": "x",
           "y": [
            0.48
           ],
           "yaxis": "y"
          },
          {
           "hovertemplate": "<b>%{hovertext}</b><br><br>main=False<br>type=last<br>step=33<br>name=6<br>x=%{x}<br>y=%{y}<extra></extra>",
           "hovertext": [
            "Last node of 6 <br> reward: 0 <br> action: [3, 5, 1, 3, 3, 3, 5, 4, 5, 0] <br> in system: 0.0"
           ],
           "legendgroup": "False, last",
           "line": {
            "color": "#EF553B",
            "dash": "solid"
           },
           "marker": {
            "symbol": "circle"
           },
           "mode": "lines+markers",
           "name": "False, last",
           "orientation": "v",
           "showlegend": false,
           "type": "scatter",
           "x": [
            0
           ],
           "xaxis": "x",
           "y": [
            0
           ],
           "yaxis": "y"
          },
          {
           "hovertemplate": "<b>%{hovertext}</b><br><br>main=False<br>type=last<br>step=33<br>name=7<br>x=%{x}<br>y=%{y}<extra></extra>",
           "hovertext": [
            "Last node of 7 <br> reward: 0 <br> action: [3, 5, 1, 3, 3, 3, 5, 4, 5, 0] <br> in system: 0.0"
           ],
           "legendgroup": "False, last",
           "line": {
            "color": "#EF553B",
            "dash": "solid"
           },
           "marker": {
            "symbol": "circle"
           },
           "mode": "lines+markers",
           "name": "False, last",
           "orientation": "v",
           "showlegend": false,
           "type": "scatter",
           "x": [
            0
           ],
           "xaxis": "x",
           "y": [
            0
           ],
           "yaxis": "y"
          },
          {
           "hovertemplate": "<b>%{hovertext}</b><br><br>main=False<br>type=last<br>step=33<br>name=8<br>x=%{x}<br>y=%{y}<extra></extra>",
           "hovertext": [
            "Last node of 8 <br> reward: 0 <br> action: [3, 5, 1, 3, 3, 3, 5, 4, 5, 0] <br> in system: 0.0"
           ],
           "legendgroup": "False, last",
           "line": {
            "color": "#EF553B",
            "dash": "solid"
           },
           "marker": {
            "symbol": "circle"
           },
           "mode": "lines+markers",
           "name": "False, last",
           "orientation": "v",
           "showlegend": false,
           "type": "scatter",
           "x": [
            0
           ],
           "xaxis": "x",
           "y": [
            0
           ],
           "yaxis": "y"
          },
          {
           "hovertemplate": "<b>%{hovertext}</b><br><br>main=False<br>type=last<br>step=33<br>name=9<br>x=%{x}<br>y=%{y}<extra></extra>",
           "hovertext": [
            "Last node of 9 <br> reward: 0 <br> action: [3, 5, 1, 3, 3, 3, 5, 4, 5, 0] <br> in system: 1.0"
           ],
           "legendgroup": "False, last",
           "line": {
            "color": "#EF553B",
            "dash": "solid"
           },
           "marker": {
            "symbol": "circle"
           },
           "mode": "lines+markers",
           "name": "False, last",
           "orientation": "v",
           "showlegend": false,
           "type": "scatter",
           "x": [
            0.42045454545454547
           ],
           "xaxis": "x",
           "y": [
            0.86
           ],
           "yaxis": "y"
          },
          {
           "hovertemplate": "<b>%{hovertext}</b><br><br>main=False<br>type=next<br>step=33<br>name=1<br>x=%{x}<br>y=%{y}<extra></extra>",
           "hovertext": [
            "Next node of 1 <br> reward: 0 <br> action: [3, 5, 1, 3, 3, 3, 5, 4, 5, 0] <br> in system: 1.0"
           ],
           "legendgroup": "False, next",
           "line": {
            "color": "#EF553B",
            "dash": "solid"
           },
           "marker": {
            "symbol": "diamond"
           },
           "mode": "lines+markers",
           "name": "False, next",
           "orientation": "v",
           "showlegend": true,
           "type": "scatter",
           "x": [
            0.42045454545454547
           ],
           "xaxis": "x",
           "y": [
            0.48
           ],
           "yaxis": "y"
          },
          {
           "hovertemplate": "<b>%{hovertext}</b><br><br>main=False<br>type=next<br>step=33<br>name=2<br>x=%{x}<br>y=%{y}<extra></extra>",
           "hovertext": [
            "Next node of 2 <br> reward: 0 <br> action: [3, 5, 1, 3, 3, 3, 5, 4, 5, 0] <br> in system: 1.0"
           ],
           "legendgroup": "False, next",
           "line": {
            "color": "#EF553B",
            "dash": "solid"
           },
           "marker": {
            "symbol": "diamond"
           },
           "mode": "lines+markers",
           "name": "False, next",
           "orientation": "v",
           "showlegend": false,
           "type": "scatter",
           "x": [
            0.5454545454545454
           ],
           "xaxis": "x",
           "y": [
            0.76
           ],
           "yaxis": "y"
          },
          {
           "hovertemplate": "<b>%{hovertext}</b><br><br>main=False<br>type=next<br>step=33<br>name=3<br>x=%{x}<br>y=%{y}<extra></extra>",
           "hovertext": [
            "Next node of 3 <br> reward: 0 <br> action: [3, 5, 1, 3, 3, 3, 5, 4, 5, 0] <br> in system: 1.0"
           ],
           "legendgroup": "False, next",
           "line": {
            "color": "#EF553B",
            "dash": "solid"
           },
           "marker": {
            "symbol": "diamond"
           },
           "mode": "lines+markers",
           "name": "False, next",
           "orientation": "v",
           "showlegend": false,
           "type": "scatter",
           "x": [
            0.9727272727272728
           ],
           "xaxis": "x",
           "y": [
            0.62
           ],
           "yaxis": "y"
          },
          {
           "hovertemplate": "<b>%{hovertext}</b><br><br>main=False<br>type=next<br>step=33<br>name=4<br>x=%{x}<br>y=%{y}<extra></extra>",
           "hovertext": [
            "Next node of 4 <br> reward: 0 <br> action: [3, 5, 1, 3, 3, 3, 5, 4, 5, 0] <br> in system: 0.0"
           ],
           "legendgroup": "False, next",
           "line": {
            "color": "#EF553B",
            "dash": "solid"
           },
           "marker": {
            "symbol": "diamond"
           },
           "mode": "lines+markers",
           "name": "False, next",
           "orientation": "v",
           "showlegend": false,
           "type": "scatter",
           "x": [
            0
           ],
           "xaxis": "x",
           "y": [
            0
           ],
           "yaxis": "y"
          },
          {
           "hovertemplate": "<b>%{hovertext}</b><br><br>main=False<br>type=next<br>step=33<br>name=5<br>x=%{x}<br>y=%{y}<extra></extra>",
           "hovertext": [
            "Next node of 5 <br> reward: 0 <br> action: [3, 5, 1, 3, 3, 3, 5, 4, 5, 0] <br> in system: 1.0"
           ],
           "legendgroup": "False, next",
           "line": {
            "color": "#EF553B",
            "dash": "solid"
           },
           "marker": {
            "symbol": "diamond"
           },
           "mode": "lines+markers",
           "name": "False, next",
           "orientation": "v",
           "showlegend": false,
           "type": "scatter",
           "x": [
            0.42045454545454547
           ],
           "xaxis": "x",
           "y": [
            0.76
           ],
           "yaxis": "y"
          },
          {
           "hovertemplate": "<b>%{hovertext}</b><br><br>main=False<br>type=next<br>step=33<br>name=6<br>x=%{x}<br>y=%{y}<extra></extra>",
           "hovertext": [
            "Next node of 6 <br> reward: 0 <br> action: [3, 5, 1, 3, 3, 3, 5, 4, 5, 0] <br> in system: 0.0"
           ],
           "legendgroup": "False, next",
           "line": {
            "color": "#EF553B",
            "dash": "solid"
           },
           "marker": {
            "symbol": "diamond"
           },
           "mode": "lines+markers",
           "name": "False, next",
           "orientation": "v",
           "showlegend": false,
           "type": "scatter",
           "x": [
            0
           ],
           "xaxis": "x",
           "y": [
            0
           ],
           "yaxis": "y"
          },
          {
           "hovertemplate": "<b>%{hovertext}</b><br><br>main=False<br>type=next<br>step=33<br>name=7<br>x=%{x}<br>y=%{y}<extra></extra>",
           "hovertext": [
            "Next node of 7 <br> reward: 0 <br> action: [3, 5, 1, 3, 3, 3, 5, 4, 5, 0] <br> in system: 0.0"
           ],
           "legendgroup": "False, next",
           "line": {
            "color": "#EF553B",
            "dash": "solid"
           },
           "marker": {
            "symbol": "diamond"
           },
           "mode": "lines+markers",
           "name": "False, next",
           "orientation": "v",
           "showlegend": false,
           "type": "scatter",
           "x": [
            0
           ],
           "xaxis": "x",
           "y": [
            0
           ],
           "yaxis": "y"
          },
          {
           "hovertemplate": "<b>%{hovertext}</b><br><br>main=False<br>type=next<br>step=33<br>name=8<br>x=%{x}<br>y=%{y}<extra></extra>",
           "hovertext": [
            "Next node of 8 <br> reward: 0 <br> action: [3, 5, 1, 3, 3, 3, 5, 4, 5, 0] <br> in system: 0.0"
           ],
           "legendgroup": "False, next",
           "line": {
            "color": "#EF553B",
            "dash": "solid"
           },
           "marker": {
            "symbol": "diamond"
           },
           "mode": "lines+markers",
           "name": "False, next",
           "orientation": "v",
           "showlegend": false,
           "type": "scatter",
           "x": [
            0
           ],
           "xaxis": "x",
           "y": [
            0
           ],
           "yaxis": "y"
          },
          {
           "hovertemplate": "<b>%{hovertext}</b><br><br>main=False<br>type=next<br>step=33<br>name=9<br>x=%{x}<br>y=%{y}<extra></extra>",
           "hovertext": [
            "Next node of 9 <br> reward: 0 <br> action: [3, 5, 1, 3, 3, 3, 5, 4, 5, 0] <br> in system: 1.0"
           ],
           "legendgroup": "False, next",
           "line": {
            "color": "#EF553B",
            "dash": "solid"
           },
           "marker": {
            "symbol": "diamond"
           },
           "mode": "lines+markers",
           "name": "False, next",
           "orientation": "v",
           "showlegend": false,
           "type": "scatter",
           "x": [
            0.42045454545454547
           ],
           "xaxis": "x",
           "y": [
            0.76
           ],
           "yaxis": "y"
          }
         ],
         "name": "33"
        },
        {
         "data": [
          {
           "hovertemplate": "<b>%{hovertext}</b><br><br>main=True<br>type=last<br>step=34<br>name=0<br>x=%{x}<br>y=%{y}<extra></extra>",
           "hovertext": [
            "Last node of 0 <br> reward: 0 <br> action: [3, 0, 4, 0, 3, 2, 3, 3, 3, 5] <br> in system: 1.0"
           ],
           "legendgroup": "True, last",
           "line": {
            "color": "#636efa",
            "dash": "solid"
           },
           "marker": {
            "symbol": "circle"
           },
           "mode": "lines+markers",
           "name": "True, last",
           "orientation": "v",
           "showlegend": true,
           "type": "scatter",
           "x": [
            0.9431818181818182
           ],
           "xaxis": "x",
           "y": [
            0.86
           ],
           "yaxis": "y"
          },
          {
           "hovertemplate": "<b>%{hovertext}</b><br><br>main=True<br>type=next<br>step=34<br>name=0<br>x=%{x}<br>y=%{y}<extra></extra>",
           "hovertext": [
            "Next node of 0 <br> reward: 0 <br> action: [3, 0, 4, 0, 3, 2, 3, 3, 3, 5] <br> in system: 1.0"
           ],
           "legendgroup": "True, next",
           "line": {
            "color": "#636efa",
            "dash": "solid"
           },
           "marker": {
            "symbol": "diamond"
           },
           "mode": "lines+markers",
           "name": "True, next",
           "orientation": "v",
           "showlegend": true,
           "type": "scatter",
           "x": [
            1
           ],
           "xaxis": "x",
           "y": [
            0.86
           ],
           "yaxis": "y"
          },
          {
           "hovertemplate": "<b>%{hovertext}</b><br><br>main=False<br>type=last<br>step=34<br>name=1<br>x=%{x}<br>y=%{y}<extra></extra>",
           "hovertext": [
            "Last node of 1 <br> reward: 0 <br> action: [3, 0, 4, 0, 3, 2, 3, 3, 3, 5] <br> in system: 1.0"
           ],
           "legendgroup": "False, last",
           "line": {
            "color": "#EF553B",
            "dash": "solid"
           },
           "marker": {
            "symbol": "circle"
           },
           "mode": "lines+markers",
           "name": "False, last",
           "orientation": "v",
           "showlegend": true,
           "type": "scatter",
           "x": [
            0.6022727272727273
           ],
           "xaxis": "x",
           "y": [
            0.76
           ],
           "yaxis": "y"
          },
          {
           "hovertemplate": "<b>%{hovertext}</b><br><br>main=False<br>type=last<br>step=34<br>name=2<br>x=%{x}<br>y=%{y}<extra></extra>",
           "hovertext": [
            "Last node of 2 <br> reward: 0 <br> action: [3, 0, 4, 0, 3, 2, 3, 3, 3, 5] <br> in system: 1.0"
           ],
           "legendgroup": "False, last",
           "line": {
            "color": "#EF553B",
            "dash": "solid"
           },
           "marker": {
            "symbol": "circle"
           },
           "mode": "lines+markers",
           "name": "False, last",
           "orientation": "v",
           "showlegend": false,
           "type": "scatter",
           "x": [
            0.42045454545454547
           ],
           "xaxis": "x",
           "y": [
            0.86
           ],
           "yaxis": "y"
          },
          {
           "hovertemplate": "<b>%{hovertext}</b><br><br>main=False<br>type=last<br>step=34<br>name=3<br>x=%{x}<br>y=%{y}<extra></extra>",
           "hovertext": [
            "Last node of 3 <br> reward: 0 <br> action: [3, 0, 4, 0, 3, 2, 3, 3, 3, 5] <br> in system: 1.0"
           ],
           "legendgroup": "False, last",
           "line": {
            "color": "#EF553B",
            "dash": "solid"
           },
           "marker": {
            "symbol": "circle"
           },
           "mode": "lines+markers",
           "name": "False, last",
           "orientation": "v",
           "showlegend": false,
           "type": "scatter",
           "x": [
            0.42045454545454547
           ],
           "xaxis": "x",
           "y": [
            0.48
           ],
           "yaxis": "y"
          },
          {
           "hovertemplate": "<b>%{hovertext}</b><br><br>main=False<br>type=last<br>step=34<br>name=4<br>x=%{x}<br>y=%{y}<extra></extra>",
           "hovertext": [
            "Last node of 4 <br> reward: 0 <br> action: [3, 0, 4, 0, 3, 2, 3, 3, 3, 5] <br> in system: 1.0"
           ],
           "legendgroup": "False, last",
           "line": {
            "color": "#EF553B",
            "dash": "solid"
           },
           "marker": {
            "symbol": "circle"
           },
           "mode": "lines+markers",
           "name": "False, last",
           "orientation": "v",
           "showlegend": false,
           "type": "scatter",
           "x": [
            0.9431818181818182
           ],
           "xaxis": "x",
           "y": [
            0.76
           ],
           "yaxis": "y"
          },
          {
           "hovertemplate": "<b>%{hovertext}</b><br><br>main=False<br>type=last<br>step=34<br>name=5<br>x=%{x}<br>y=%{y}<extra></extra>",
           "hovertext": [
            "Last node of 5 <br> reward: 0 <br> action: [3, 0, 4, 0, 3, 2, 3, 3, 3, 5] <br> in system: 0.0"
           ],
           "legendgroup": "False, last",
           "line": {
            "color": "#EF553B",
            "dash": "solid"
           },
           "marker": {
            "symbol": "circle"
           },
           "mode": "lines+markers",
           "name": "False, last",
           "orientation": "v",
           "showlegend": false,
           "type": "scatter",
           "x": [
            0
           ],
           "xaxis": "x",
           "y": [
            0
           ],
           "yaxis": "y"
          },
          {
           "hovertemplate": "<b>%{hovertext}</b><br><br>main=False<br>type=last<br>step=34<br>name=6<br>x=%{x}<br>y=%{y}<extra></extra>",
           "hovertext": [
            "Last node of 6 <br> reward: 0 <br> action: [3, 0, 4, 0, 3, 2, 3, 3, 3, 5] <br> in system: 0.0"
           ],
           "legendgroup": "False, last",
           "line": {
            "color": "#EF553B",
            "dash": "solid"
           },
           "marker": {
            "symbol": "circle"
           },
           "mode": "lines+markers",
           "name": "False, last",
           "orientation": "v",
           "showlegend": false,
           "type": "scatter",
           "x": [
            0
           ],
           "xaxis": "x",
           "y": [
            0
           ],
           "yaxis": "y"
          },
          {
           "hovertemplate": "<b>%{hovertext}</b><br><br>main=False<br>type=last<br>step=34<br>name=7<br>x=%{x}<br>y=%{y}<extra></extra>",
           "hovertext": [
            "Last node of 7 <br> reward: 0 <br> action: [3, 0, 4, 0, 3, 2, 3, 3, 3, 5] <br> in system: 0.0"
           ],
           "legendgroup": "False, last",
           "line": {
            "color": "#EF553B",
            "dash": "solid"
           },
           "marker": {
            "symbol": "circle"
           },
           "mode": "lines+markers",
           "name": "False, last",
           "orientation": "v",
           "showlegend": false,
           "type": "scatter",
           "x": [
            0
           ],
           "xaxis": "x",
           "y": [
            0
           ],
           "yaxis": "y"
          },
          {
           "hovertemplate": "<b>%{hovertext}</b><br><br>main=False<br>type=last<br>step=34<br>name=8<br>x=%{x}<br>y=%{y}<extra></extra>",
           "hovertext": [
            "Last node of 8 <br> reward: 0 <br> action: [3, 0, 4, 0, 3, 2, 3, 3, 3, 5] <br> in system: 1.0"
           ],
           "legendgroup": "False, last",
           "line": {
            "color": "#EF553B",
            "dash": "solid"
           },
           "marker": {
            "symbol": "circle"
           },
           "mode": "lines+markers",
           "name": "False, last",
           "orientation": "v",
           "showlegend": false,
           "type": "scatter",
           "x": [
            0.42045454545454547
           ],
           "xaxis": "x",
           "y": [
            0.48
           ],
           "yaxis": "y"
          },
          {
           "hovertemplate": "<b>%{hovertext}</b><br><br>main=False<br>type=last<br>step=34<br>name=9<br>x=%{x}<br>y=%{y}<extra></extra>",
           "hovertext": [
            "Last node of 9 <br> reward: 0 <br> action: [3, 0, 4, 0, 3, 2, 3, 3, 3, 5] <br> in system: 0.0"
           ],
           "legendgroup": "False, last",
           "line": {
            "color": "#EF553B",
            "dash": "solid"
           },
           "marker": {
            "symbol": "circle"
           },
           "mode": "lines+markers",
           "name": "False, last",
           "orientation": "v",
           "showlegend": false,
           "type": "scatter",
           "x": [
            0
           ],
           "xaxis": "x",
           "y": [
            0
           ],
           "yaxis": "y"
          },
          {
           "hovertemplate": "<b>%{hovertext}</b><br><br>main=False<br>type=next<br>step=34<br>name=1<br>x=%{x}<br>y=%{y}<extra></extra>",
           "hovertext": [
            "Next node of 1 <br> reward: 0 <br> action: [3, 0, 4, 0, 3, 2, 3, 3, 3, 5] <br> in system: 1.0"
           ],
           "legendgroup": "False, next",
           "line": {
            "color": "#EF553B",
            "dash": "solid"
           },
           "marker": {
            "symbol": "diamond"
           },
           "mode": "lines+markers",
           "name": "False, next",
           "orientation": "v",
           "showlegend": true,
           "type": "scatter",
           "x": [
            0.5454545454545454
           ],
           "xaxis": "x",
           "y": [
            0.76
           ],
           "yaxis": "y"
          },
          {
           "hovertemplate": "<b>%{hovertext}</b><br><br>main=False<br>type=next<br>step=34<br>name=2<br>x=%{x}<br>y=%{y}<extra></extra>",
           "hovertext": [
            "Next node of 2 <br> reward: 0 <br> action: [3, 0, 4, 0, 3, 2, 3, 3, 3, 5] <br> in system: 1.0"
           ],
           "legendgroup": "False, next",
           "line": {
            "color": "#EF553B",
            "dash": "solid"
           },
           "marker": {
            "symbol": "diamond"
           },
           "mode": "lines+markers",
           "name": "False, next",
           "orientation": "v",
           "showlegend": false,
           "type": "scatter",
           "x": [
            0.42045454545454547
           ],
           "xaxis": "x",
           "y": [
            0.76
           ],
           "yaxis": "y"
          },
          {
           "hovertemplate": "<b>%{hovertext}</b><br><br>main=False<br>type=next<br>step=34<br>name=3<br>x=%{x}<br>y=%{y}<extra></extra>",
           "hovertext": [
            "Next node of 3 <br> reward: 0 <br> action: [3, 0, 4, 0, 3, 2, 3, 3, 3, 5] <br> in system: 1.0"
           ],
           "legendgroup": "False, next",
           "line": {
            "color": "#EF553B",
            "dash": "solid"
           },
           "marker": {
            "symbol": "diamond"
           },
           "mode": "lines+markers",
           "name": "False, next",
           "orientation": "v",
           "showlegend": false,
           "type": "scatter",
           "x": [
            0.42045454545454547
           ],
           "xaxis": "x",
           "y": [
            0.76
           ],
           "yaxis": "y"
          },
          {
           "hovertemplate": "<b>%{hovertext}</b><br><br>main=False<br>type=next<br>step=34<br>name=4<br>x=%{x}<br>y=%{y}<extra></extra>",
           "hovertext": [
            "Next node of 4 <br> reward: 0 <br> action: [3, 0, 4, 0, 3, 2, 3, 3, 3, 5] <br> in system: 1.0"
           ],
           "legendgroup": "False, next",
           "line": {
            "color": "#EF553B",
            "dash": "solid"
           },
           "marker": {
            "symbol": "diamond"
           },
           "mode": "lines+markers",
           "name": "False, next",
           "orientation": "v",
           "showlegend": false,
           "type": "scatter",
           "x": [
            0.9727272727272728
           ],
           "xaxis": "x",
           "y": [
            0.62
           ],
           "yaxis": "y"
          },
          {
           "hovertemplate": "<b>%{hovertext}</b><br><br>main=False<br>type=next<br>step=34<br>name=5<br>x=%{x}<br>y=%{y}<extra></extra>",
           "hovertext": [
            "Next node of 5 <br> reward: 0 <br> action: [3, 0, 4, 0, 3, 2, 3, 3, 3, 5] <br> in system: 0.0"
           ],
           "legendgroup": "False, next",
           "line": {
            "color": "#EF553B",
            "dash": "solid"
           },
           "marker": {
            "symbol": "diamond"
           },
           "mode": "lines+markers",
           "name": "False, next",
           "orientation": "v",
           "showlegend": false,
           "type": "scatter",
           "x": [
            0
           ],
           "xaxis": "x",
           "y": [
            0
           ],
           "yaxis": "y"
          },
          {
           "hovertemplate": "<b>%{hovertext}</b><br><br>main=False<br>type=next<br>step=34<br>name=6<br>x=%{x}<br>y=%{y}<extra></extra>",
           "hovertext": [
            "Next node of 6 <br> reward: 0 <br> action: [3, 0, 4, 0, 3, 2, 3, 3, 3, 5] <br> in system: 0.0"
           ],
           "legendgroup": "False, next",
           "line": {
            "color": "#EF553B",
            "dash": "solid"
           },
           "marker": {
            "symbol": "diamond"
           },
           "mode": "lines+markers",
           "name": "False, next",
           "orientation": "v",
           "showlegend": false,
           "type": "scatter",
           "x": [
            0
           ],
           "xaxis": "x",
           "y": [
            0
           ],
           "yaxis": "y"
          },
          {
           "hovertemplate": "<b>%{hovertext}</b><br><br>main=False<br>type=next<br>step=34<br>name=7<br>x=%{x}<br>y=%{y}<extra></extra>",
           "hovertext": [
            "Next node of 7 <br> reward: 0 <br> action: [3, 0, 4, 0, 3, 2, 3, 3, 3, 5] <br> in system: 0.0"
           ],
           "legendgroup": "False, next",
           "line": {
            "color": "#EF553B",
            "dash": "solid"
           },
           "marker": {
            "symbol": "diamond"
           },
           "mode": "lines+markers",
           "name": "False, next",
           "orientation": "v",
           "showlegend": false,
           "type": "scatter",
           "x": [
            0
           ],
           "xaxis": "x",
           "y": [
            0
           ],
           "yaxis": "y"
          },
          {
           "hovertemplate": "<b>%{hovertext}</b><br><br>main=False<br>type=next<br>step=34<br>name=8<br>x=%{x}<br>y=%{y}<extra></extra>",
           "hovertext": [
            "Next node of 8 <br> reward: 0 <br> action: [3, 0, 4, 0, 3, 2, 3, 3, 3, 5] <br> in system: 1.0"
           ],
           "legendgroup": "False, next",
           "line": {
            "color": "#EF553B",
            "dash": "solid"
           },
           "marker": {
            "symbol": "diamond"
           },
           "mode": "lines+markers",
           "name": "False, next",
           "orientation": "v",
           "showlegend": false,
           "type": "scatter",
           "x": [
            0.42045454545454547
           ],
           "xaxis": "x",
           "y": [
            0.76
           ],
           "yaxis": "y"
          },
          {
           "hovertemplate": "<b>%{hovertext}</b><br><br>main=False<br>type=next<br>step=34<br>name=9<br>x=%{x}<br>y=%{y}<extra></extra>",
           "hovertext": [
            "Next node of 9 <br> reward: 0 <br> action: [3, 0, 4, 0, 3, 2, 3, 3, 3, 5] <br> in system: 0.0"
           ],
           "legendgroup": "False, next",
           "line": {
            "color": "#EF553B",
            "dash": "solid"
           },
           "marker": {
            "symbol": "diamond"
           },
           "mode": "lines+markers",
           "name": "False, next",
           "orientation": "v",
           "showlegend": false,
           "type": "scatter",
           "x": [
            0
           ],
           "xaxis": "x",
           "y": [
            0
           ],
           "yaxis": "y"
          }
         ],
         "name": "34"
        },
        {
         "data": [
          {
           "hovertemplate": "<b>%{hovertext}</b><br><br>main=True<br>type=last<br>step=35<br>name=0<br>x=%{x}<br>y=%{y}<extra></extra>",
           "hovertext": [
            "Last node of 0 <br> reward: 1.0 <br> action: [2, 4, 5, 5, 2, 1, 0, 2, 5, 5] <br> in system: 1.0"
           ],
           "legendgroup": "True, last",
           "line": {
            "color": "#636efa",
            "dash": "solid"
           },
           "marker": {
            "symbol": "circle"
           },
           "mode": "lines+markers",
           "name": "True, last",
           "orientation": "v",
           "showlegend": true,
           "type": "scatter",
           "x": [
            0.9431818181818182
           ],
           "xaxis": "x",
           "y": [
            0.86
           ],
           "yaxis": "y"
          },
          {
           "hovertemplate": "<b>%{hovertext}</b><br><br>main=True<br>type=next<br>step=35<br>name=0<br>x=%{x}<br>y=%{y}<extra></extra>",
           "hovertext": [
            "Next node of 0 <br> reward: 1.0 <br> action: [2, 4, 5, 5, 2, 1, 0, 2, 5, 5] <br> in system: 1.0"
           ],
           "legendgroup": "True, next",
           "line": {
            "color": "#636efa",
            "dash": "solid"
           },
           "marker": {
            "symbol": "diamond"
           },
           "mode": "lines+markers",
           "name": "True, next",
           "orientation": "v",
           "showlegend": true,
           "type": "scatter",
           "x": [
            1
           ],
           "xaxis": "x",
           "y": [
            0.86
           ],
           "yaxis": "y"
          },
          {
           "hovertemplate": "<b>%{hovertext}</b><br><br>main=False<br>type=last<br>step=35<br>name=1<br>x=%{x}<br>y=%{y}<extra></extra>",
           "hovertext": [
            "Last node of 1 <br> reward: 1.0 <br> action: [2, 4, 5, 5, 2, 1, 0, 2, 5, 5] <br> in system: 0.0"
           ],
           "legendgroup": "False, last",
           "line": {
            "color": "#EF553B",
            "dash": "solid"
           },
           "marker": {
            "symbol": "circle"
           },
           "mode": "lines+markers",
           "name": "False, last",
           "orientation": "v",
           "showlegend": true,
           "type": "scatter",
           "x": [
            0
           ],
           "xaxis": "x",
           "y": [
            0
           ],
           "yaxis": "y"
          },
          {
           "hovertemplate": "<b>%{hovertext}</b><br><br>main=False<br>type=last<br>step=35<br>name=2<br>x=%{x}<br>y=%{y}<extra></extra>",
           "hovertext": [
            "Last node of 2 <br> reward: 1.0 <br> action: [2, 4, 5, 5, 2, 1, 0, 2, 5, 5] <br> in system: 0.0"
           ],
           "legendgroup": "False, last",
           "line": {
            "color": "#EF553B",
            "dash": "solid"
           },
           "marker": {
            "symbol": "circle"
           },
           "mode": "lines+markers",
           "name": "False, last",
           "orientation": "v",
           "showlegend": false,
           "type": "scatter",
           "x": [
            0
           ],
           "xaxis": "x",
           "y": [
            0
           ],
           "yaxis": "y"
          },
          {
           "hovertemplate": "<b>%{hovertext}</b><br><br>main=False<br>type=last<br>step=35<br>name=3<br>x=%{x}<br>y=%{y}<extra></extra>",
           "hovertext": [
            "Last node of 3 <br> reward: 1.0 <br> action: [2, 4, 5, 5, 2, 1, 0, 2, 5, 5] <br> in system: 1.0"
           ],
           "legendgroup": "False, last",
           "line": {
            "color": "#EF553B",
            "dash": "solid"
           },
           "marker": {
            "symbol": "circle"
           },
           "mode": "lines+markers",
           "name": "False, last",
           "orientation": "v",
           "showlegend": false,
           "type": "scatter",
           "x": [
            0.42045454545454547
           ],
           "xaxis": "x",
           "y": [
            0.48
           ],
           "yaxis": "y"
          },
          {
           "hovertemplate": "<b>%{hovertext}</b><br><br>main=False<br>type=last<br>step=35<br>name=4<br>x=%{x}<br>y=%{y}<extra></extra>",
           "hovertext": [
            "Last node of 4 <br> reward: 1.0 <br> action: [2, 4, 5, 5, 2, 1, 0, 2, 5, 5] <br> in system: 1.0"
           ],
           "legendgroup": "False, last",
           "line": {
            "color": "#EF553B",
            "dash": "solid"
           },
           "marker": {
            "symbol": "circle"
           },
           "mode": "lines+markers",
           "name": "False, last",
           "orientation": "v",
           "showlegend": false,
           "type": "scatter",
           "x": [
            0.5454545454545454
           ],
           "xaxis": "x",
           "y": [
            0.76
           ],
           "yaxis": "y"
          },
          {
           "hovertemplate": "<b>%{hovertext}</b><br><br>main=False<br>type=last<br>step=35<br>name=5<br>x=%{x}<br>y=%{y}<extra></extra>",
           "hovertext": [
            "Last node of 5 <br> reward: 1.0 <br> action: [2, 4, 5, 5, 2, 1, 0, 2, 5, 5] <br> in system: 1.0"
           ],
           "legendgroup": "False, last",
           "line": {
            "color": "#EF553B",
            "dash": "solid"
           },
           "marker": {
            "symbol": "circle"
           },
           "mode": "lines+markers",
           "name": "False, last",
           "orientation": "v",
           "showlegend": false,
           "type": "scatter",
           "x": [
            0.42045454545454547
           ],
           "xaxis": "x",
           "y": [
            0.86
           ],
           "yaxis": "y"
          },
          {
           "hovertemplate": "<b>%{hovertext}</b><br><br>main=False<br>type=last<br>step=35<br>name=6<br>x=%{x}<br>y=%{y}<extra></extra>",
           "hovertext": [
            "Last node of 6 <br> reward: 1.0 <br> action: [2, 4, 5, 5, 2, 1, 0, 2, 5, 5] <br> in system: 1.0"
           ],
           "legendgroup": "False, last",
           "line": {
            "color": "#EF553B",
            "dash": "solid"
           },
           "marker": {
            "symbol": "circle"
           },
           "mode": "lines+markers",
           "name": "False, last",
           "orientation": "v",
           "showlegend": false,
           "type": "scatter",
           "x": [
            0.42045454545454547
           ],
           "xaxis": "x",
           "y": [
            0.76
           ],
           "yaxis": "y"
          },
          {
           "hovertemplate": "<b>%{hovertext}</b><br><br>main=False<br>type=last<br>step=35<br>name=7<br>x=%{x}<br>y=%{y}<extra></extra>",
           "hovertext": [
            "Last node of 7 <br> reward: 1.0 <br> action: [2, 4, 5, 5, 2, 1, 0, 2, 5, 5] <br> in system: 0.0"
           ],
           "legendgroup": "False, last",
           "line": {
            "color": "#EF553B",
            "dash": "solid"
           },
           "marker": {
            "symbol": "circle"
           },
           "mode": "lines+markers",
           "name": "False, last",
           "orientation": "v",
           "showlegend": false,
           "type": "scatter",
           "x": [
            0
           ],
           "xaxis": "x",
           "y": [
            0
           ],
           "yaxis": "y"
          },
          {
           "hovertemplate": "<b>%{hovertext}</b><br><br>main=False<br>type=last<br>step=35<br>name=8<br>x=%{x}<br>y=%{y}<extra></extra>",
           "hovertext": [
            "Last node of 8 <br> reward: 1.0 <br> action: [2, 4, 5, 5, 2, 1, 0, 2, 5, 5] <br> in system: 1.0"
           ],
           "legendgroup": "False, last",
           "line": {
            "color": "#EF553B",
            "dash": "solid"
           },
           "marker": {
            "symbol": "circle"
           },
           "mode": "lines+markers",
           "name": "False, last",
           "orientation": "v",
           "showlegend": false,
           "type": "scatter",
           "x": [
            0.9431818181818182
           ],
           "xaxis": "x",
           "y": [
            0.76
           ],
           "yaxis": "y"
          },
          {
           "hovertemplate": "<b>%{hovertext}</b><br><br>main=False<br>type=last<br>step=35<br>name=9<br>x=%{x}<br>y=%{y}<extra></extra>",
           "hovertext": [
            "Last node of 9 <br> reward: 1.0 <br> action: [2, 4, 5, 5, 2, 1, 0, 2, 5, 5] <br> in system: 0.0"
           ],
           "legendgroup": "False, last",
           "line": {
            "color": "#EF553B",
            "dash": "solid"
           },
           "marker": {
            "symbol": "circle"
           },
           "mode": "lines+markers",
           "name": "False, last",
           "orientation": "v",
           "showlegend": false,
           "type": "scatter",
           "x": [
            0
           ],
           "xaxis": "x",
           "y": [
            0
           ],
           "yaxis": "y"
          },
          {
           "hovertemplate": "<b>%{hovertext}</b><br><br>main=False<br>type=next<br>step=35<br>name=1<br>x=%{x}<br>y=%{y}<extra></extra>",
           "hovertext": [
            "Next node of 1 <br> reward: 1.0 <br> action: [2, 4, 5, 5, 2, 1, 0, 2, 5, 5] <br> in system: 0.0"
           ],
           "legendgroup": "False, next",
           "line": {
            "color": "#EF553B",
            "dash": "solid"
           },
           "marker": {
            "symbol": "diamond"
           },
           "mode": "lines+markers",
           "name": "False, next",
           "orientation": "v",
           "showlegend": true,
           "type": "scatter",
           "x": [
            0
           ],
           "xaxis": "x",
           "y": [
            0
           ],
           "yaxis": "y"
          },
          {
           "hovertemplate": "<b>%{hovertext}</b><br><br>main=False<br>type=next<br>step=35<br>name=2<br>x=%{x}<br>y=%{y}<extra></extra>",
           "hovertext": [
            "Next node of 2 <br> reward: 1.0 <br> action: [2, 4, 5, 5, 2, 1, 0, 2, 5, 5] <br> in system: 0.0"
           ],
           "legendgroup": "False, next",
           "line": {
            "color": "#EF553B",
            "dash": "solid"
           },
           "marker": {
            "symbol": "diamond"
           },
           "mode": "lines+markers",
           "name": "False, next",
           "orientation": "v",
           "showlegend": false,
           "type": "scatter",
           "x": [
            0
           ],
           "xaxis": "x",
           "y": [
            0
           ],
           "yaxis": "y"
          },
          {
           "hovertemplate": "<b>%{hovertext}</b><br><br>main=False<br>type=next<br>step=35<br>name=3<br>x=%{x}<br>y=%{y}<extra></extra>",
           "hovertext": [
            "Next node of 3 <br> reward: 1.0 <br> action: [2, 4, 5, 5, 2, 1, 0, 2, 5, 5] <br> in system: 1.0"
           ],
           "legendgroup": "False, next",
           "line": {
            "color": "#EF553B",
            "dash": "solid"
           },
           "marker": {
            "symbol": "diamond"
           },
           "mode": "lines+markers",
           "name": "False, next",
           "orientation": "v",
           "showlegend": false,
           "type": "scatter",
           "x": [
            0.42045454545454547
           ],
           "xaxis": "x",
           "y": [
            0.76
           ],
           "yaxis": "y"
          },
          {
           "hovertemplate": "<b>%{hovertext}</b><br><br>main=False<br>type=next<br>step=35<br>name=4<br>x=%{x}<br>y=%{y}<extra></extra>",
           "hovertext": [
            "Next node of 4 <br> reward: 1.0 <br> action: [2, 4, 5, 5, 2, 1, 0, 2, 5, 5] <br> in system: 1.0"
           ],
           "legendgroup": "False, next",
           "line": {
            "color": "#EF553B",
            "dash": "solid"
           },
           "marker": {
            "symbol": "diamond"
           },
           "mode": "lines+markers",
           "name": "False, next",
           "orientation": "v",
           "showlegend": false,
           "type": "scatter",
           "x": [
            0.5454545454545454
           ],
           "xaxis": "x",
           "y": [
            0.86
           ],
           "yaxis": "y"
          },
          {
           "hovertemplate": "<b>%{hovertext}</b><br><br>main=False<br>type=next<br>step=35<br>name=5<br>x=%{x}<br>y=%{y}<extra></extra>",
           "hovertext": [
            "Next node of 5 <br> reward: 1.0 <br> action: [2, 4, 5, 5, 2, 1, 0, 2, 5, 5] <br> in system: 1.0"
           ],
           "legendgroup": "False, next",
           "line": {
            "color": "#EF553B",
            "dash": "solid"
           },
           "marker": {
            "symbol": "diamond"
           },
           "mode": "lines+markers",
           "name": "False, next",
           "orientation": "v",
           "showlegend": false,
           "type": "scatter",
           "x": [
            0.42045454545454547
           ],
           "xaxis": "x",
           "y": [
            0.76
           ],
           "yaxis": "y"
          },
          {
           "hovertemplate": "<b>%{hovertext}</b><br><br>main=False<br>type=next<br>step=35<br>name=6<br>x=%{x}<br>y=%{y}<extra></extra>",
           "hovertext": [
            "Next node of 6 <br> reward: 1.0 <br> action: [2, 4, 5, 5, 2, 1, 0, 2, 5, 5] <br> in system: 1.0"
           ],
           "legendgroup": "False, next",
           "line": {
            "color": "#EF553B",
            "dash": "solid"
           },
           "marker": {
            "symbol": "diamond"
           },
           "mode": "lines+markers",
           "name": "False, next",
           "orientation": "v",
           "showlegend": false,
           "type": "scatter",
           "x": [
            0.4772727272727273
           ],
           "xaxis": "x",
           "y": [
            0.76
           ],
           "yaxis": "y"
          },
          {
           "hovertemplate": "<b>%{hovertext}</b><br><br>main=False<br>type=next<br>step=35<br>name=7<br>x=%{x}<br>y=%{y}<extra></extra>",
           "hovertext": [
            "Next node of 7 <br> reward: 1.0 <br> action: [2, 4, 5, 5, 2, 1, 0, 2, 5, 5] <br> in system: 0.0"
           ],
           "legendgroup": "False, next",
           "line": {
            "color": "#EF553B",
            "dash": "solid"
           },
           "marker": {
            "symbol": "diamond"
           },
           "mode": "lines+markers",
           "name": "False, next",
           "orientation": "v",
           "showlegend": false,
           "type": "scatter",
           "x": [
            0
           ],
           "xaxis": "x",
           "y": [
            0
           ],
           "yaxis": "y"
          },
          {
           "hovertemplate": "<b>%{hovertext}</b><br><br>main=False<br>type=next<br>step=35<br>name=8<br>x=%{x}<br>y=%{y}<extra></extra>",
           "hovertext": [
            "Next node of 8 <br> reward: 1.0 <br> action: [2, 4, 5, 5, 2, 1, 0, 2, 5, 5] <br> in system: 1.0"
           ],
           "legendgroup": "False, next",
           "line": {
            "color": "#EF553B",
            "dash": "solid"
           },
           "marker": {
            "symbol": "diamond"
           },
           "mode": "lines+markers",
           "name": "False, next",
           "orientation": "v",
           "showlegend": false,
           "type": "scatter",
           "x": [
            0.9727272727272728
           ],
           "xaxis": "x",
           "y": [
            0.62
           ],
           "yaxis": "y"
          },
          {
           "hovertemplate": "<b>%{hovertext}</b><br><br>main=False<br>type=next<br>step=35<br>name=9<br>x=%{x}<br>y=%{y}<extra></extra>",
           "hovertext": [
            "Next node of 9 <br> reward: 1.0 <br> action: [2, 4, 5, 5, 2, 1, 0, 2, 5, 5] <br> in system: 0.0"
           ],
           "legendgroup": "False, next",
           "line": {
            "color": "#EF553B",
            "dash": "solid"
           },
           "marker": {
            "symbol": "diamond"
           },
           "mode": "lines+markers",
           "name": "False, next",
           "orientation": "v",
           "showlegend": false,
           "type": "scatter",
           "x": [
            0
           ],
           "xaxis": "x",
           "y": [
            0
           ],
           "yaxis": "y"
          }
         ],
         "name": "35"
        },
        {
         "data": [
          {
           "hovertemplate": "<b>%{hovertext}</b><br><br>main=True<br>type=last<br>step=36<br>name=0<br>x=%{x}<br>y=%{y}<extra></extra>",
           "hovertext": [
            "Last node of 0 <br> reward: 0 <br> action: [2, 1, 4, 1, 1, 2, 5, 3, 1, 1] <br> in system: 1.0"
           ],
           "legendgroup": "True, last",
           "line": {
            "color": "#636efa",
            "dash": "solid"
           },
           "marker": {
            "symbol": "circle"
           },
           "mode": "lines+markers",
           "name": "True, last",
           "orientation": "v",
           "showlegend": true,
           "type": "scatter",
           "x": [
            1
           ],
           "xaxis": "x",
           "y": [
            0.86
           ],
           "yaxis": "y"
          },
          {
           "hovertemplate": "<b>%{hovertext}</b><br><br>main=True<br>type=next<br>step=36<br>name=0<br>x=%{x}<br>y=%{y}<extra></extra>",
           "hovertext": [
            "Next node of 0 <br> reward: 0 <br> action: [2, 1, 4, 1, 1, 2, 5, 3, 1, 1] <br> in system: 1.0"
           ],
           "legendgroup": "True, next",
           "line": {
            "color": "#636efa",
            "dash": "solid"
           },
           "marker": {
            "symbol": "diamond"
           },
           "mode": "lines+markers",
           "name": "True, next",
           "orientation": "v",
           "showlegend": true,
           "type": "scatter",
           "x": [
            1
           ],
           "xaxis": "x",
           "y": [
            0.76
           ],
           "yaxis": "y"
          },
          {
           "hovertemplate": "<b>%{hovertext}</b><br><br>main=False<br>type=last<br>step=36<br>name=1<br>x=%{x}<br>y=%{y}<extra></extra>",
           "hovertext": [
            "Last node of 1 <br> reward: 0 <br> action: [2, 1, 4, 1, 1, 2, 5, 3, 1, 1] <br> in system: 1.0"
           ],
           "legendgroup": "False, last",
           "line": {
            "color": "#EF553B",
            "dash": "solid"
           },
           "marker": {
            "symbol": "circle"
           },
           "mode": "lines+markers",
           "name": "False, last",
           "orientation": "v",
           "showlegend": true,
           "type": "scatter",
           "x": [
            0.9727272727272728
           ],
           "xaxis": "x",
           "y": [
            0.62
           ],
           "yaxis": "y"
          },
          {
           "hovertemplate": "<b>%{hovertext}</b><br><br>main=False<br>type=last<br>step=36<br>name=2<br>x=%{x}<br>y=%{y}<extra></extra>",
           "hovertext": [
            "Last node of 2 <br> reward: 0 <br> action: [2, 1, 4, 1, 1, 2, 5, 3, 1, 1] <br> in system: 0.0"
           ],
           "legendgroup": "False, last",
           "line": {
            "color": "#EF553B",
            "dash": "solid"
           },
           "marker": {
            "symbol": "circle"
           },
           "mode": "lines+markers",
           "name": "False, last",
           "orientation": "v",
           "showlegend": false,
           "type": "scatter",
           "x": [
            0
           ],
           "xaxis": "x",
           "y": [
            0
           ],
           "yaxis": "y"
          },
          {
           "hovertemplate": "<b>%{hovertext}</b><br><br>main=False<br>type=last<br>step=36<br>name=3<br>x=%{x}<br>y=%{y}<extra></extra>",
           "hovertext": [
            "Last node of 3 <br> reward: 0 <br> action: [2, 1, 4, 1, 1, 2, 5, 3, 1, 1] <br> in system: 1.0"
           ],
           "legendgroup": "False, last",
           "line": {
            "color": "#EF553B",
            "dash": "solid"
           },
           "marker": {
            "symbol": "circle"
           },
           "mode": "lines+markers",
           "name": "False, last",
           "orientation": "v",
           "showlegend": false,
           "type": "scatter",
           "x": [
            0.42045454545454547
           ],
           "xaxis": "x",
           "y": [
            0.76
           ],
           "yaxis": "y"
          },
          {
           "hovertemplate": "<b>%{hovertext}</b><br><br>main=False<br>type=last<br>step=36<br>name=4<br>x=%{x}<br>y=%{y}<extra></extra>",
           "hovertext": [
            "Last node of 4 <br> reward: 0 <br> action: [2, 1, 4, 1, 1, 2, 5, 3, 1, 1] <br> in system: 0.0"
           ],
           "legendgroup": "False, last",
           "line": {
            "color": "#EF553B",
            "dash": "solid"
           },
           "marker": {
            "symbol": "circle"
           },
           "mode": "lines+markers",
           "name": "False, last",
           "orientation": "v",
           "showlegend": false,
           "type": "scatter",
           "x": [
            0
           ],
           "xaxis": "x",
           "y": [
            0
           ],
           "yaxis": "y"
          },
          {
           "hovertemplate": "<b>%{hovertext}</b><br><br>main=False<br>type=last<br>step=36<br>name=5<br>x=%{x}<br>y=%{y}<extra></extra>",
           "hovertext": [
            "Last node of 5 <br> reward: 0 <br> action: [2, 1, 4, 1, 1, 2, 5, 3, 1, 1] <br> in system: 1.0"
           ],
           "legendgroup": "False, last",
           "line": {
            "color": "#EF553B",
            "dash": "solid"
           },
           "marker": {
            "symbol": "circle"
           },
           "mode": "lines+markers",
           "name": "False, last",
           "orientation": "v",
           "showlegend": false,
           "type": "scatter",
           "x": [
            0.42045454545454547
           ],
           "xaxis": "x",
           "y": [
            0.48
           ],
           "yaxis": "y"
          },
          {
           "hovertemplate": "<b>%{hovertext}</b><br><br>main=False<br>type=last<br>step=36<br>name=6<br>x=%{x}<br>y=%{y}<extra></extra>",
           "hovertext": [
            "Last node of 6 <br> reward: 0 <br> action: [2, 1, 4, 1, 1, 2, 5, 3, 1, 1] <br> in system: 1.0"
           ],
           "legendgroup": "False, last",
           "line": {
            "color": "#EF553B",
            "dash": "solid"
           },
           "marker": {
            "symbol": "circle"
           },
           "mode": "lines+markers",
           "name": "False, last",
           "orientation": "v",
           "showlegend": false,
           "type": "scatter",
           "x": [
            0.42045454545454547
           ],
           "xaxis": "x",
           "y": [
            0.86
           ],
           "yaxis": "y"
          },
          {
           "hovertemplate": "<b>%{hovertext}</b><br><br>main=False<br>type=last<br>step=36<br>name=7<br>x=%{x}<br>y=%{y}<extra></extra>",
           "hovertext": [
            "Last node of 7 <br> reward: 0 <br> action: [2, 1, 4, 1, 1, 2, 5, 3, 1, 1] <br> in system: 0.0"
           ],
           "legendgroup": "False, last",
           "line": {
            "color": "#EF553B",
            "dash": "solid"
           },
           "marker": {
            "symbol": "circle"
           },
           "mode": "lines+markers",
           "name": "False, last",
           "orientation": "v",
           "showlegend": false,
           "type": "scatter",
           "x": [
            0
           ],
           "xaxis": "x",
           "y": [
            0
           ],
           "yaxis": "y"
          },
          {
           "hovertemplate": "<b>%{hovertext}</b><br><br>main=False<br>type=last<br>step=36<br>name=8<br>x=%{x}<br>y=%{y}<extra></extra>",
           "hovertext": [
            "Last node of 8 <br> reward: 0 <br> action: [2, 1, 4, 1, 1, 2, 5, 3, 1, 1] <br> in system: 1.0"
           ],
           "legendgroup": "False, last",
           "line": {
            "color": "#EF553B",
            "dash": "solid"
           },
           "marker": {
            "symbol": "circle"
           },
           "mode": "lines+markers",
           "name": "False, last",
           "orientation": "v",
           "showlegend": false,
           "type": "scatter",
           "x": [
            0.5454545454545454
           ],
           "xaxis": "x",
           "y": [
            0.76
           ],
           "yaxis": "y"
          },
          {
           "hovertemplate": "<b>%{hovertext}</b><br><br>main=False<br>type=last<br>step=36<br>name=9<br>x=%{x}<br>y=%{y}<extra></extra>",
           "hovertext": [
            "Last node of 9 <br> reward: 0 <br> action: [2, 1, 4, 1, 1, 2, 5, 3, 1, 1] <br> in system: 0.0"
           ],
           "legendgroup": "False, last",
           "line": {
            "color": "#EF553B",
            "dash": "solid"
           },
           "marker": {
            "symbol": "circle"
           },
           "mode": "lines+markers",
           "name": "False, last",
           "orientation": "v",
           "showlegend": false,
           "type": "scatter",
           "x": [
            0
           ],
           "xaxis": "x",
           "y": [
            0
           ],
           "yaxis": "y"
          },
          {
           "hovertemplate": "<b>%{hovertext}</b><br><br>main=False<br>type=next<br>step=36<br>name=1<br>x=%{x}<br>y=%{y}<extra></extra>",
           "hovertext": [
            "Next node of 1 <br> reward: 0 <br> action: [2, 1, 4, 1, 1, 2, 5, 3, 1, 1] <br> in system: 1.0"
           ],
           "legendgroup": "False, next",
           "line": {
            "color": "#EF553B",
            "dash": "solid"
           },
           "marker": {
            "symbol": "diamond"
           },
           "mode": "lines+markers",
           "name": "False, next",
           "orientation": "v",
           "showlegend": true,
           "type": "scatter",
           "x": [
            1
           ],
           "xaxis": "x",
           "y": [
            0.76
           ],
           "yaxis": "y"
          },
          {
           "hovertemplate": "<b>%{hovertext}</b><br><br>main=False<br>type=next<br>step=36<br>name=2<br>x=%{x}<br>y=%{y}<extra></extra>",
           "hovertext": [
            "Next node of 2 <br> reward: 0 <br> action: [2, 1, 4, 1, 1, 2, 5, 3, 1, 1] <br> in system: 0.0"
           ],
           "legendgroup": "False, next",
           "line": {
            "color": "#EF553B",
            "dash": "solid"
           },
           "marker": {
            "symbol": "diamond"
           },
           "mode": "lines+markers",
           "name": "False, next",
           "orientation": "v",
           "showlegend": false,
           "type": "scatter",
           "x": [
            0
           ],
           "xaxis": "x",
           "y": [
            0
           ],
           "yaxis": "y"
          },
          {
           "hovertemplate": "<b>%{hovertext}</b><br><br>main=False<br>type=next<br>step=36<br>name=3<br>x=%{x}<br>y=%{y}<extra></extra>",
           "hovertext": [
            "Next node of 3 <br> reward: 0 <br> action: [2, 1, 4, 1, 1, 2, 5, 3, 1, 1] <br> in system: 1.0"
           ],
           "legendgroup": "False, next",
           "line": {
            "color": "#EF553B",
            "dash": "solid"
           },
           "marker": {
            "symbol": "diamond"
           },
           "mode": "lines+markers",
           "name": "False, next",
           "orientation": "v",
           "showlegend": false,
           "type": "scatter",
           "x": [
            0.4772727272727273
           ],
           "xaxis": "x",
           "y": [
            0.76
           ],
           "yaxis": "y"
          },
          {
           "hovertemplate": "<b>%{hovertext}</b><br><br>main=False<br>type=next<br>step=36<br>name=4<br>x=%{x}<br>y=%{y}<extra></extra>",
           "hovertext": [
            "Next node of 4 <br> reward: 0 <br> action: [2, 1, 4, 1, 1, 2, 5, 3, 1, 1] <br> in system: 0.0"
           ],
           "legendgroup": "False, next",
           "line": {
            "color": "#EF553B",
            "dash": "solid"
           },
           "marker": {
            "symbol": "diamond"
           },
           "mode": "lines+markers",
           "name": "False, next",
           "orientation": "v",
           "showlegend": false,
           "type": "scatter",
           "x": [
            0
           ],
           "xaxis": "x",
           "y": [
            0
           ],
           "yaxis": "y"
          },
          {
           "hovertemplate": "<b>%{hovertext}</b><br><br>main=False<br>type=next<br>step=36<br>name=5<br>x=%{x}<br>y=%{y}<extra></extra>",
           "hovertext": [
            "Next node of 5 <br> reward: 0 <br> action: [2, 1, 4, 1, 1, 2, 5, 3, 1, 1] <br> in system: 1.0"
           ],
           "legendgroup": "False, next",
           "line": {
            "color": "#EF553B",
            "dash": "solid"
           },
           "marker": {
            "symbol": "diamond"
           },
           "mode": "lines+markers",
           "name": "False, next",
           "orientation": "v",
           "showlegend": false,
           "type": "scatter",
           "x": [
            0.42045454545454547
           ],
           "xaxis": "x",
           "y": [
            0.76
           ],
           "yaxis": "y"
          },
          {
           "hovertemplate": "<b>%{hovertext}</b><br><br>main=False<br>type=next<br>step=36<br>name=6<br>x=%{x}<br>y=%{y}<extra></extra>",
           "hovertext": [
            "Next node of 6 <br> reward: 0 <br> action: [2, 1, 4, 1, 1, 2, 5, 3, 1, 1] <br> in system: 1.0"
           ],
           "legendgroup": "False, next",
           "line": {
            "color": "#EF553B",
            "dash": "solid"
           },
           "marker": {
            "symbol": "diamond"
           },
           "mode": "lines+markers",
           "name": "False, next",
           "orientation": "v",
           "showlegend": false,
           "type": "scatter",
           "x": [
            0.42045454545454547
           ],
           "xaxis": "x",
           "y": [
            0.76
           ],
           "yaxis": "y"
          },
          {
           "hovertemplate": "<b>%{hovertext}</b><br><br>main=False<br>type=next<br>step=36<br>name=7<br>x=%{x}<br>y=%{y}<extra></extra>",
           "hovertext": [
            "Next node of 7 <br> reward: 0 <br> action: [2, 1, 4, 1, 1, 2, 5, 3, 1, 1] <br> in system: 0.0"
           ],
           "legendgroup": "False, next",
           "line": {
            "color": "#EF553B",
            "dash": "solid"
           },
           "marker": {
            "symbol": "diamond"
           },
           "mode": "lines+markers",
           "name": "False, next",
           "orientation": "v",
           "showlegend": false,
           "type": "scatter",
           "x": [
            0
           ],
           "xaxis": "x",
           "y": [
            0
           ],
           "yaxis": "y"
          },
          {
           "hovertemplate": "<b>%{hovertext}</b><br><br>main=False<br>type=next<br>step=36<br>name=8<br>x=%{x}<br>y=%{y}<extra></extra>",
           "hovertext": [
            "Next node of 8 <br> reward: 0 <br> action: [2, 1, 4, 1, 1, 2, 5, 3, 1, 1] <br> in system: 1.0"
           ],
           "legendgroup": "False, next",
           "line": {
            "color": "#EF553B",
            "dash": "solid"
           },
           "marker": {
            "symbol": "diamond"
           },
           "mode": "lines+markers",
           "name": "False, next",
           "orientation": "v",
           "showlegend": false,
           "type": "scatter",
           "x": [
            0.5454545454545454
           ],
           "xaxis": "x",
           "y": [
            0.86
           ],
           "yaxis": "y"
          },
          {
           "hovertemplate": "<b>%{hovertext}</b><br><br>main=False<br>type=next<br>step=36<br>name=9<br>x=%{x}<br>y=%{y}<extra></extra>",
           "hovertext": [
            "Next node of 9 <br> reward: 0 <br> action: [2, 1, 4, 1, 1, 2, 5, 3, 1, 1] <br> in system: 0.0"
           ],
           "legendgroup": "False, next",
           "line": {
            "color": "#EF553B",
            "dash": "solid"
           },
           "marker": {
            "symbol": "diamond"
           },
           "mode": "lines+markers",
           "name": "False, next",
           "orientation": "v",
           "showlegend": false,
           "type": "scatter",
           "x": [
            0
           ],
           "xaxis": "x",
           "y": [
            0
           ],
           "yaxis": "y"
          }
         ],
         "name": "36"
        },
        {
         "data": [
          {
           "hovertemplate": "<b>%{hovertext}</b><br><br>main=True<br>type=last<br>step=37<br>name=0<br>x=%{x}<br>y=%{y}<extra></extra>",
           "hovertext": [
            "Last node of 0 <br> reward: 0 <br> action: [2, 4, 3, 3, 4, 3, 4, 4, 5, 2] <br> in system: 0.0"
           ],
           "legendgroup": "True, last",
           "line": {
            "color": "#636efa",
            "dash": "solid"
           },
           "marker": {
            "symbol": "circle"
           },
           "mode": "lines+markers",
           "name": "True, last",
           "orientation": "v",
           "showlegend": true,
           "type": "scatter",
           "x": [
            1
           ],
           "xaxis": "x",
           "y": [
            0.76
           ],
           "yaxis": "y"
          },
          {
           "hovertemplate": "<b>%{hovertext}</b><br><br>main=True<br>type=next<br>step=37<br>name=0<br>x=%{x}<br>y=%{y}<extra></extra>",
           "hovertext": [
            "Next node of 0 <br> reward: 0 <br> action: [2, 4, 3, 3, 4, 3, 4, 4, 5, 2] <br> in system: 0.0"
           ],
           "legendgroup": "True, next",
           "line": {
            "color": "#636efa",
            "dash": "solid"
           },
           "marker": {
            "symbol": "diamond"
           },
           "mode": "lines+markers",
           "name": "True, next",
           "orientation": "v",
           "showlegend": true,
           "type": "scatter",
           "x": [
            0.9727272727272728
           ],
           "xaxis": "x",
           "y": [
            0.62
           ],
           "yaxis": "y"
          },
          {
           "hovertemplate": "<b>%{hovertext}</b><br><br>main=False<br>type=last<br>step=37<br>name=1<br>x=%{x}<br>y=%{y}<extra></extra>",
           "hovertext": [
            "Last node of 1 <br> reward: 0 <br> action: [2, 4, 3, 3, 4, 3, 4, 4, 5, 2] <br> in system: 0.0"
           ],
           "legendgroup": "False, last",
           "line": {
            "color": "#EF553B",
            "dash": "solid"
           },
           "marker": {
            "symbol": "circle"
           },
           "mode": "lines+markers",
           "name": "False, last",
           "orientation": "v",
           "showlegend": true,
           "type": "scatter",
           "x": [
            0
           ],
           "xaxis": "x",
           "y": [
            0
           ],
           "yaxis": "y"
          },
          {
           "hovertemplate": "<b>%{hovertext}</b><br><br>main=False<br>type=last<br>step=37<br>name=2<br>x=%{x}<br>y=%{y}<extra></extra>",
           "hovertext": [
            "Last node of 2 <br> reward: 0 <br> action: [2, 4, 3, 3, 4, 3, 4, 4, 5, 2] <br> in system: 0.0"
           ],
           "legendgroup": "False, last",
           "line": {
            "color": "#EF553B",
            "dash": "solid"
           },
           "marker": {
            "symbol": "circle"
           },
           "mode": "lines+markers",
           "name": "False, last",
           "orientation": "v",
           "showlegend": false,
           "type": "scatter",
           "x": [
            0
           ],
           "xaxis": "x",
           "y": [
            0
           ],
           "yaxis": "y"
          },
          {
           "hovertemplate": "<b>%{hovertext}</b><br><br>main=False<br>type=last<br>step=37<br>name=3<br>x=%{x}<br>y=%{y}<extra></extra>",
           "hovertext": [
            "Last node of 3 <br> reward: 0 <br> action: [2, 4, 3, 3, 4, 3, 4, 4, 5, 2] <br> in system: 0.0"
           ],
           "legendgroup": "False, last",
           "line": {
            "color": "#EF553B",
            "dash": "solid"
           },
           "marker": {
            "symbol": "circle"
           },
           "mode": "lines+markers",
           "name": "False, last",
           "orientation": "v",
           "showlegend": false,
           "type": "scatter",
           "x": [
            0
           ],
           "xaxis": "x",
           "y": [
            0
           ],
           "yaxis": "y"
          },
          {
           "hovertemplate": "<b>%{hovertext}</b><br><br>main=False<br>type=last<br>step=37<br>name=4<br>x=%{x}<br>y=%{y}<extra></extra>",
           "hovertext": [
            "Last node of 4 <br> reward: 0 <br> action: [2, 4, 3, 3, 4, 3, 4, 4, 5, 2] <br> in system: 1.0"
           ],
           "legendgroup": "False, last",
           "line": {
            "color": "#EF553B",
            "dash": "solid"
           },
           "marker": {
            "symbol": "circle"
           },
           "mode": "lines+markers",
           "name": "False, last",
           "orientation": "v",
           "showlegend": false,
           "type": "scatter",
           "x": [
            0.42045454545454547
           ],
           "xaxis": "x",
           "y": [
            0.48
           ],
           "yaxis": "y"
          },
          {
           "hovertemplate": "<b>%{hovertext}</b><br><br>main=False<br>type=last<br>step=37<br>name=5<br>x=%{x}<br>y=%{y}<extra></extra>",
           "hovertext": [
            "Last node of 5 <br> reward: 0 <br> action: [2, 4, 3, 3, 4, 3, 4, 4, 5, 2] <br> in system: 1.0"
           ],
           "legendgroup": "False, last",
           "line": {
            "color": "#EF553B",
            "dash": "solid"
           },
           "marker": {
            "symbol": "circle"
           },
           "mode": "lines+markers",
           "name": "False, last",
           "orientation": "v",
           "showlegend": false,
           "type": "scatter",
           "x": [
            0.42045454545454547
           ],
           "xaxis": "x",
           "y": [
            0.76
           ],
           "yaxis": "y"
          },
          {
           "hovertemplate": "<b>%{hovertext}</b><br><br>main=False<br>type=last<br>step=37<br>name=6<br>x=%{x}<br>y=%{y}<extra></extra>",
           "hovertext": [
            "Last node of 6 <br> reward: 0 <br> action: [2, 4, 3, 3, 4, 3, 4, 4, 5, 2] <br> in system: 1.0"
           ],
           "legendgroup": "False, last",
           "line": {
            "color": "#EF553B",
            "dash": "solid"
           },
           "marker": {
            "symbol": "circle"
           },
           "mode": "lines+markers",
           "name": "False, last",
           "orientation": "v",
           "showlegend": false,
           "type": "scatter",
           "x": [
            0.42045454545454547
           ],
           "xaxis": "x",
           "y": [
            0.86
           ],
           "yaxis": "y"
          },
          {
           "hovertemplate": "<b>%{hovertext}</b><br><br>main=False<br>type=last<br>step=37<br>name=7<br>x=%{x}<br>y=%{y}<extra></extra>",
           "hovertext": [
            "Last node of 7 <br> reward: 0 <br> action: [2, 4, 3, 3, 4, 3, 4, 4, 5, 2] <br> in system: 1.0"
           ],
           "legendgroup": "False, last",
           "line": {
            "color": "#EF553B",
            "dash": "solid"
           },
           "marker": {
            "symbol": "circle"
           },
           "mode": "lines+markers",
           "name": "False, last",
           "orientation": "v",
           "showlegend": false,
           "type": "scatter",
           "x": [
            0.5454545454545454
           ],
           "xaxis": "x",
           "y": [
            0.76
           ],
           "yaxis": "y"
          },
          {
           "hovertemplate": "<b>%{hovertext}</b><br><br>main=False<br>type=last<br>step=37<br>name=8<br>x=%{x}<br>y=%{y}<extra></extra>",
           "hovertext": [
            "Last node of 8 <br> reward: 0 <br> action: [2, 4, 3, 3, 4, 3, 4, 4, 5, 2] <br> in system: 1.0"
           ],
           "legendgroup": "False, last",
           "line": {
            "color": "#EF553B",
            "dash": "solid"
           },
           "marker": {
            "symbol": "circle"
           },
           "mode": "lines+markers",
           "name": "False, last",
           "orientation": "v",
           "showlegend": false,
           "type": "scatter",
           "x": [
            0.9727272727272728
           ],
           "xaxis": "x",
           "y": [
            0.62
           ],
           "yaxis": "y"
          },
          {
           "hovertemplate": "<b>%{hovertext}</b><br><br>main=False<br>type=last<br>step=37<br>name=9<br>x=%{x}<br>y=%{y}<extra></extra>",
           "hovertext": [
            "Last node of 9 <br> reward: 0 <br> action: [2, 4, 3, 3, 4, 3, 4, 4, 5, 2] <br> in system: 0.0"
           ],
           "legendgroup": "False, last",
           "line": {
            "color": "#EF553B",
            "dash": "solid"
           },
           "marker": {
            "symbol": "circle"
           },
           "mode": "lines+markers",
           "name": "False, last",
           "orientation": "v",
           "showlegend": false,
           "type": "scatter",
           "x": [
            0
           ],
           "xaxis": "x",
           "y": [
            0
           ],
           "yaxis": "y"
          },
          {
           "hovertemplate": "<b>%{hovertext}</b><br><br>main=False<br>type=next<br>step=37<br>name=1<br>x=%{x}<br>y=%{y}<extra></extra>",
           "hovertext": [
            "Next node of 1 <br> reward: 0 <br> action: [2, 4, 3, 3, 4, 3, 4, 4, 5, 2] <br> in system: 0.0"
           ],
           "legendgroup": "False, next",
           "line": {
            "color": "#EF553B",
            "dash": "solid"
           },
           "marker": {
            "symbol": "diamond"
           },
           "mode": "lines+markers",
           "name": "False, next",
           "orientation": "v",
           "showlegend": true,
           "type": "scatter",
           "x": [
            0
           ],
           "xaxis": "x",
           "y": [
            0
           ],
           "yaxis": "y"
          },
          {
           "hovertemplate": "<b>%{hovertext}</b><br><br>main=False<br>type=next<br>step=37<br>name=2<br>x=%{x}<br>y=%{y}<extra></extra>",
           "hovertext": [
            "Next node of 2 <br> reward: 0 <br> action: [2, 4, 3, 3, 4, 3, 4, 4, 5, 2] <br> in system: 0.0"
           ],
           "legendgroup": "False, next",
           "line": {
            "color": "#EF553B",
            "dash": "solid"
           },
           "marker": {
            "symbol": "diamond"
           },
           "mode": "lines+markers",
           "name": "False, next",
           "orientation": "v",
           "showlegend": false,
           "type": "scatter",
           "x": [
            0
           ],
           "xaxis": "x",
           "y": [
            0
           ],
           "yaxis": "y"
          },
          {
           "hovertemplate": "<b>%{hovertext}</b><br><br>main=False<br>type=next<br>step=37<br>name=3<br>x=%{x}<br>y=%{y}<extra></extra>",
           "hovertext": [
            "Next node of 3 <br> reward: 0 <br> action: [2, 4, 3, 3, 4, 3, 4, 4, 5, 2] <br> in system: 0.0"
           ],
           "legendgroup": "False, next",
           "line": {
            "color": "#EF553B",
            "dash": "solid"
           },
           "marker": {
            "symbol": "diamond"
           },
           "mode": "lines+markers",
           "name": "False, next",
           "orientation": "v",
           "showlegend": false,
           "type": "scatter",
           "x": [
            0
           ],
           "xaxis": "x",
           "y": [
            0
           ],
           "yaxis": "y"
          },
          {
           "hovertemplate": "<b>%{hovertext}</b><br><br>main=False<br>type=next<br>step=37<br>name=4<br>x=%{x}<br>y=%{y}<extra></extra>",
           "hovertext": [
            "Next node of 4 <br> reward: 0 <br> action: [2, 4, 3, 3, 4, 3, 4, 4, 5, 2] <br> in system: 1.0"
           ],
           "legendgroup": "False, next",
           "line": {
            "color": "#EF553B",
            "dash": "solid"
           },
           "marker": {
            "symbol": "diamond"
           },
           "mode": "lines+markers",
           "name": "False, next",
           "orientation": "v",
           "showlegend": false,
           "type": "scatter",
           "x": [
            0.42045454545454547
           ],
           "xaxis": "x",
           "y": [
            0.76
           ],
           "yaxis": "y"
          },
          {
           "hovertemplate": "<b>%{hovertext}</b><br><br>main=False<br>type=next<br>step=37<br>name=5<br>x=%{x}<br>y=%{y}<extra></extra>",
           "hovertext": [
            "Next node of 5 <br> reward: 0 <br> action: [2, 4, 3, 3, 4, 3, 4, 4, 5, 2] <br> in system: 1.0"
           ],
           "legendgroup": "False, next",
           "line": {
            "color": "#EF553B",
            "dash": "solid"
           },
           "marker": {
            "symbol": "diamond"
           },
           "mode": "lines+markers",
           "name": "False, next",
           "orientation": "v",
           "showlegend": false,
           "type": "scatter",
           "x": [
            0.4772727272727273
           ],
           "xaxis": "x",
           "y": [
            0.76
           ],
           "yaxis": "y"
          },
          {
           "hovertemplate": "<b>%{hovertext}</b><br><br>main=False<br>type=next<br>step=37<br>name=6<br>x=%{x}<br>y=%{y}<extra></extra>",
           "hovertext": [
            "Next node of 6 <br> reward: 0 <br> action: [2, 4, 3, 3, 4, 3, 4, 4, 5, 2] <br> in system: 1.0"
           ],
           "legendgroup": "False, next",
           "line": {
            "color": "#EF553B",
            "dash": "solid"
           },
           "marker": {
            "symbol": "diamond"
           },
           "mode": "lines+markers",
           "name": "False, next",
           "orientation": "v",
           "showlegend": false,
           "type": "scatter",
           "x": [
            0.42045454545454547
           ],
           "xaxis": "x",
           "y": [
            0.76
           ],
           "yaxis": "y"
          },
          {
           "hovertemplate": "<b>%{hovertext}</b><br><br>main=False<br>type=next<br>step=37<br>name=7<br>x=%{x}<br>y=%{y}<extra></extra>",
           "hovertext": [
            "Next node of 7 <br> reward: 0 <br> action: [2, 4, 3, 3, 4, 3, 4, 4, 5, 2] <br> in system: 1.0"
           ],
           "legendgroup": "False, next",
           "line": {
            "color": "#EF553B",
            "dash": "solid"
           },
           "marker": {
            "symbol": "diamond"
           },
           "mode": "lines+markers",
           "name": "False, next",
           "orientation": "v",
           "showlegend": false,
           "type": "scatter",
           "x": [
            0.5454545454545454
           ],
           "xaxis": "x",
           "y": [
            0.86
           ],
           "yaxis": "y"
          },
          {
           "hovertemplate": "<b>%{hovertext}</b><br><br>main=False<br>type=next<br>step=37<br>name=8<br>x=%{x}<br>y=%{y}<extra></extra>",
           "hovertext": [
            "Next node of 8 <br> reward: 0 <br> action: [2, 4, 3, 3, 4, 3, 4, 4, 5, 2] <br> in system: 1.0"
           ],
           "legendgroup": "False, next",
           "line": {
            "color": "#EF553B",
            "dash": "solid"
           },
           "marker": {
            "symbol": "diamond"
           },
           "mode": "lines+markers",
           "name": "False, next",
           "orientation": "v",
           "showlegend": false,
           "type": "scatter",
           "x": [
            1
           ],
           "xaxis": "x",
           "y": [
            0.76
           ],
           "yaxis": "y"
          },
          {
           "hovertemplate": "<b>%{hovertext}</b><br><br>main=False<br>type=next<br>step=37<br>name=9<br>x=%{x}<br>y=%{y}<extra></extra>",
           "hovertext": [
            "Next node of 9 <br> reward: 0 <br> action: [2, 4, 3, 3, 4, 3, 4, 4, 5, 2] <br> in system: 0.0"
           ],
           "legendgroup": "False, next",
           "line": {
            "color": "#EF553B",
            "dash": "solid"
           },
           "marker": {
            "symbol": "diamond"
           },
           "mode": "lines+markers",
           "name": "False, next",
           "orientation": "v",
           "showlegend": false,
           "type": "scatter",
           "x": [
            0
           ],
           "xaxis": "x",
           "y": [
            0
           ],
           "yaxis": "y"
          }
         ],
         "name": "37"
        }
       ],
       "layout": {
        "height": 600,
        "legend": {
         "title": {
          "text": "main, type"
         },
         "tracegroupgap": 0
        },
        "margin": {
         "t": 60
        },
        "sliders": [
         {
          "active": 0,
          "currentvalue": {
           "prefix": "step="
          },
          "len": 0.9,
          "pad": {
           "b": 10,
           "t": 60
          },
          "steps": [
           {
            "args": [
             [
              "0"
             ],
             {
              "frame": {
               "duration": 0,
               "redraw": false
              },
              "fromcurrent": true,
              "mode": "immediate",
              "transition": {
               "duration": 0,
               "easing": "linear"
              }
             }
            ],
            "label": "0",
            "method": "animate"
           },
           {
            "args": [
             [
              "1"
             ],
             {
              "frame": {
               "duration": 0,
               "redraw": false
              },
              "fromcurrent": true,
              "mode": "immediate",
              "transition": {
               "duration": 0,
               "easing": "linear"
              }
             }
            ],
            "label": "1",
            "method": "animate"
           },
           {
            "args": [
             [
              "2"
             ],
             {
              "frame": {
               "duration": 0,
               "redraw": false
              },
              "fromcurrent": true,
              "mode": "immediate",
              "transition": {
               "duration": 0,
               "easing": "linear"
              }
             }
            ],
            "label": "2",
            "method": "animate"
           },
           {
            "args": [
             [
              "3"
             ],
             {
              "frame": {
               "duration": 0,
               "redraw": false
              },
              "fromcurrent": true,
              "mode": "immediate",
              "transition": {
               "duration": 0,
               "easing": "linear"
              }
             }
            ],
            "label": "3",
            "method": "animate"
           },
           {
            "args": [
             [
              "4"
             ],
             {
              "frame": {
               "duration": 0,
               "redraw": false
              },
              "fromcurrent": true,
              "mode": "immediate",
              "transition": {
               "duration": 0,
               "easing": "linear"
              }
             }
            ],
            "label": "4",
            "method": "animate"
           },
           {
            "args": [
             [
              "5"
             ],
             {
              "frame": {
               "duration": 0,
               "redraw": false
              },
              "fromcurrent": true,
              "mode": "immediate",
              "transition": {
               "duration": 0,
               "easing": "linear"
              }
             }
            ],
            "label": "5",
            "method": "animate"
           },
           {
            "args": [
             [
              "6"
             ],
             {
              "frame": {
               "duration": 0,
               "redraw": false
              },
              "fromcurrent": true,
              "mode": "immediate",
              "transition": {
               "duration": 0,
               "easing": "linear"
              }
             }
            ],
            "label": "6",
            "method": "animate"
           },
           {
            "args": [
             [
              "7"
             ],
             {
              "frame": {
               "duration": 0,
               "redraw": false
              },
              "fromcurrent": true,
              "mode": "immediate",
              "transition": {
               "duration": 0,
               "easing": "linear"
              }
             }
            ],
            "label": "7",
            "method": "animate"
           },
           {
            "args": [
             [
              "8"
             ],
             {
              "frame": {
               "duration": 0,
               "redraw": false
              },
              "fromcurrent": true,
              "mode": "immediate",
              "transition": {
               "duration": 0,
               "easing": "linear"
              }
             }
            ],
            "label": "8",
            "method": "animate"
           },
           {
            "args": [
             [
              "9"
             ],
             {
              "frame": {
               "duration": 0,
               "redraw": false
              },
              "fromcurrent": true,
              "mode": "immediate",
              "transition": {
               "duration": 0,
               "easing": "linear"
              }
             }
            ],
            "label": "9",
            "method": "animate"
           },
           {
            "args": [
             [
              "10"
             ],
             {
              "frame": {
               "duration": 0,
               "redraw": false
              },
              "fromcurrent": true,
              "mode": "immediate",
              "transition": {
               "duration": 0,
               "easing": "linear"
              }
             }
            ],
            "label": "10",
            "method": "animate"
           },
           {
            "args": [
             [
              "11"
             ],
             {
              "frame": {
               "duration": 0,
               "redraw": false
              },
              "fromcurrent": true,
              "mode": "immediate",
              "transition": {
               "duration": 0,
               "easing": "linear"
              }
             }
            ],
            "label": "11",
            "method": "animate"
           },
           {
            "args": [
             [
              "12"
             ],
             {
              "frame": {
               "duration": 0,
               "redraw": false
              },
              "fromcurrent": true,
              "mode": "immediate",
              "transition": {
               "duration": 0,
               "easing": "linear"
              }
             }
            ],
            "label": "12",
            "method": "animate"
           },
           {
            "args": [
             [
              "13"
             ],
             {
              "frame": {
               "duration": 0,
               "redraw": false
              },
              "fromcurrent": true,
              "mode": "immediate",
              "transition": {
               "duration": 0,
               "easing": "linear"
              }
             }
            ],
            "label": "13",
            "method": "animate"
           },
           {
            "args": [
             [
              "14"
             ],
             {
              "frame": {
               "duration": 0,
               "redraw": false
              },
              "fromcurrent": true,
              "mode": "immediate",
              "transition": {
               "duration": 0,
               "easing": "linear"
              }
             }
            ],
            "label": "14",
            "method": "animate"
           },
           {
            "args": [
             [
              "15"
             ],
             {
              "frame": {
               "duration": 0,
               "redraw": false
              },
              "fromcurrent": true,
              "mode": "immediate",
              "transition": {
               "duration": 0,
               "easing": "linear"
              }
             }
            ],
            "label": "15",
            "method": "animate"
           },
           {
            "args": [
             [
              "16"
             ],
             {
              "frame": {
               "duration": 0,
               "redraw": false
              },
              "fromcurrent": true,
              "mode": "immediate",
              "transition": {
               "duration": 0,
               "easing": "linear"
              }
             }
            ],
            "label": "16",
            "method": "animate"
           },
           {
            "args": [
             [
              "17"
             ],
             {
              "frame": {
               "duration": 0,
               "redraw": false
              },
              "fromcurrent": true,
              "mode": "immediate",
              "transition": {
               "duration": 0,
               "easing": "linear"
              }
             }
            ],
            "label": "17",
            "method": "animate"
           },
           {
            "args": [
             [
              "18"
             ],
             {
              "frame": {
               "duration": 0,
               "redraw": false
              },
              "fromcurrent": true,
              "mode": "immediate",
              "transition": {
               "duration": 0,
               "easing": "linear"
              }
             }
            ],
            "label": "18",
            "method": "animate"
           },
           {
            "args": [
             [
              "19"
             ],
             {
              "frame": {
               "duration": 0,
               "redraw": false
              },
              "fromcurrent": true,
              "mode": "immediate",
              "transition": {
               "duration": 0,
               "easing": "linear"
              }
             }
            ],
            "label": "19",
            "method": "animate"
           },
           {
            "args": [
             [
              "20"
             ],
             {
              "frame": {
               "duration": 0,
               "redraw": false
              },
              "fromcurrent": true,
              "mode": "immediate",
              "transition": {
               "duration": 0,
               "easing": "linear"
              }
             }
            ],
            "label": "20",
            "method": "animate"
           },
           {
            "args": [
             [
              "21"
             ],
             {
              "frame": {
               "duration": 0,
               "redraw": false
              },
              "fromcurrent": true,
              "mode": "immediate",
              "transition": {
               "duration": 0,
               "easing": "linear"
              }
             }
            ],
            "label": "21",
            "method": "animate"
           },
           {
            "args": [
             [
              "22"
             ],
             {
              "frame": {
               "duration": 0,
               "redraw": false
              },
              "fromcurrent": true,
              "mode": "immediate",
              "transition": {
               "duration": 0,
               "easing": "linear"
              }
             }
            ],
            "label": "22",
            "method": "animate"
           },
           {
            "args": [
             [
              "23"
             ],
             {
              "frame": {
               "duration": 0,
               "redraw": false
              },
              "fromcurrent": true,
              "mode": "immediate",
              "transition": {
               "duration": 0,
               "easing": "linear"
              }
             }
            ],
            "label": "23",
            "method": "animate"
           },
           {
            "args": [
             [
              "24"
             ],
             {
              "frame": {
               "duration": 0,
               "redraw": false
              },
              "fromcurrent": true,
              "mode": "immediate",
              "transition": {
               "duration": 0,
               "easing": "linear"
              }
             }
            ],
            "label": "24",
            "method": "animate"
           },
           {
            "args": [
             [
              "25"
             ],
             {
              "frame": {
               "duration": 0,
               "redraw": false
              },
              "fromcurrent": true,
              "mode": "immediate",
              "transition": {
               "duration": 0,
               "easing": "linear"
              }
             }
            ],
            "label": "25",
            "method": "animate"
           },
           {
            "args": [
             [
              "26"
             ],
             {
              "frame": {
               "duration": 0,
               "redraw": false
              },
              "fromcurrent": true,
              "mode": "immediate",
              "transition": {
               "duration": 0,
               "easing": "linear"
              }
             }
            ],
            "label": "26",
            "method": "animate"
           },
           {
            "args": [
             [
              "27"
             ],
             {
              "frame": {
               "duration": 0,
               "redraw": false
              },
              "fromcurrent": true,
              "mode": "immediate",
              "transition": {
               "duration": 0,
               "easing": "linear"
              }
             }
            ],
            "label": "27",
            "method": "animate"
           },
           {
            "args": [
             [
              "28"
             ],
             {
              "frame": {
               "duration": 0,
               "redraw": false
              },
              "fromcurrent": true,
              "mode": "immediate",
              "transition": {
               "duration": 0,
               "easing": "linear"
              }
             }
            ],
            "label": "28",
            "method": "animate"
           },
           {
            "args": [
             [
              "29"
             ],
             {
              "frame": {
               "duration": 0,
               "redraw": false
              },
              "fromcurrent": true,
              "mode": "immediate",
              "transition": {
               "duration": 0,
               "easing": "linear"
              }
             }
            ],
            "label": "29",
            "method": "animate"
           },
           {
            "args": [
             [
              "30"
             ],
             {
              "frame": {
               "duration": 0,
               "redraw": false
              },
              "fromcurrent": true,
              "mode": "immediate",
              "transition": {
               "duration": 0,
               "easing": "linear"
              }
             }
            ],
            "label": "30",
            "method": "animate"
           },
           {
            "args": [
             [
              "31"
             ],
             {
              "frame": {
               "duration": 0,
               "redraw": false
              },
              "fromcurrent": true,
              "mode": "immediate",
              "transition": {
               "duration": 0,
               "easing": "linear"
              }
             }
            ],
            "label": "31",
            "method": "animate"
           },
           {
            "args": [
             [
              "32"
             ],
             {
              "frame": {
               "duration": 0,
               "redraw": false
              },
              "fromcurrent": true,
              "mode": "immediate",
              "transition": {
               "duration": 0,
               "easing": "linear"
              }
             }
            ],
            "label": "32",
            "method": "animate"
           },
           {
            "args": [
             [
              "33"
             ],
             {
              "frame": {
               "duration": 0,
               "redraw": false
              },
              "fromcurrent": true,
              "mode": "immediate",
              "transition": {
               "duration": 0,
               "easing": "linear"
              }
             }
            ],
            "label": "33",
            "method": "animate"
           },
           {
            "args": [
             [
              "34"
             ],
             {
              "frame": {
               "duration": 0,
               "redraw": false
              },
              "fromcurrent": true,
              "mode": "immediate",
              "transition": {
               "duration": 0,
               "easing": "linear"
              }
             }
            ],
            "label": "34",
            "method": "animate"
           },
           {
            "args": [
             [
              "35"
             ],
             {
              "frame": {
               "duration": 0,
               "redraw": false
              },
              "fromcurrent": true,
              "mode": "immediate",
              "transition": {
               "duration": 0,
               "easing": "linear"
              }
             }
            ],
            "label": "35",
            "method": "animate"
           },
           {
            "args": [
             [
              "36"
             ],
             {
              "frame": {
               "duration": 0,
               "redraw": false
              },
              "fromcurrent": true,
              "mode": "immediate",
              "transition": {
               "duration": 0,
               "easing": "linear"
              }
             }
            ],
            "label": "36",
            "method": "animate"
           },
           {
            "args": [
             [
              "37"
             ],
             {
              "frame": {
               "duration": 0,
               "redraw": false
              },
              "fromcurrent": true,
              "mode": "immediate",
              "transition": {
               "duration": 0,
               "easing": "linear"
              }
             }
            ],
            "label": "37",
            "method": "animate"
           }
          ],
          "x": 0.1,
          "xanchor": "left",
          "y": 0,
          "yanchor": "top"
         }
        ],
        "template": {
         "data": {
          "bar": [
           {
            "error_x": {
             "color": "#2a3f5f"
            },
            "error_y": {
             "color": "#2a3f5f"
            },
            "marker": {
             "line": {
              "color": "#E5ECF6",
              "width": 0.5
             },
             "pattern": {
              "fillmode": "overlay",
              "size": 10,
              "solidity": 0.2
             }
            },
            "type": "bar"
           }
          ],
          "barpolar": [
           {
            "marker": {
             "line": {
              "color": "#E5ECF6",
              "width": 0.5
             },
             "pattern": {
              "fillmode": "overlay",
              "size": 10,
              "solidity": 0.2
             }
            },
            "type": "barpolar"
           }
          ],
          "carpet": [
           {
            "aaxis": {
             "endlinecolor": "#2a3f5f",
             "gridcolor": "white",
             "linecolor": "white",
             "minorgridcolor": "white",
             "startlinecolor": "#2a3f5f"
            },
            "baxis": {
             "endlinecolor": "#2a3f5f",
             "gridcolor": "white",
             "linecolor": "white",
             "minorgridcolor": "white",
             "startlinecolor": "#2a3f5f"
            },
            "type": "carpet"
           }
          ],
          "choropleth": [
           {
            "colorbar": {
             "outlinewidth": 0,
             "ticks": ""
            },
            "type": "choropleth"
           }
          ],
          "contour": [
           {
            "colorbar": {
             "outlinewidth": 0,
             "ticks": ""
            },
            "colorscale": [
             [
              0,
              "#0d0887"
             ],
             [
              0.1111111111111111,
              "#46039f"
             ],
             [
              0.2222222222222222,
              "#7201a8"
             ],
             [
              0.3333333333333333,
              "#9c179e"
             ],
             [
              0.4444444444444444,
              "#bd3786"
             ],
             [
              0.5555555555555556,
              "#d8576b"
             ],
             [
              0.6666666666666666,
              "#ed7953"
             ],
             [
              0.7777777777777778,
              "#fb9f3a"
             ],
             [
              0.8888888888888888,
              "#fdca26"
             ],
             [
              1,
              "#f0f921"
             ]
            ],
            "type": "contour"
           }
          ],
          "contourcarpet": [
           {
            "colorbar": {
             "outlinewidth": 0,
             "ticks": ""
            },
            "type": "contourcarpet"
           }
          ],
          "heatmap": [
           {
            "colorbar": {
             "outlinewidth": 0,
             "ticks": ""
            },
            "colorscale": [
             [
              0,
              "#0d0887"
             ],
             [
              0.1111111111111111,
              "#46039f"
             ],
             [
              0.2222222222222222,
              "#7201a8"
             ],
             [
              0.3333333333333333,
              "#9c179e"
             ],
             [
              0.4444444444444444,
              "#bd3786"
             ],
             [
              0.5555555555555556,
              "#d8576b"
             ],
             [
              0.6666666666666666,
              "#ed7953"
             ],
             [
              0.7777777777777778,
              "#fb9f3a"
             ],
             [
              0.8888888888888888,
              "#fdca26"
             ],
             [
              1,
              "#f0f921"
             ]
            ],
            "type": "heatmap"
           }
          ],
          "heatmapgl": [
           {
            "colorbar": {
             "outlinewidth": 0,
             "ticks": ""
            },
            "colorscale": [
             [
              0,
              "#0d0887"
             ],
             [
              0.1111111111111111,
              "#46039f"
             ],
             [
              0.2222222222222222,
              "#7201a8"
             ],
             [
              0.3333333333333333,
              "#9c179e"
             ],
             [
              0.4444444444444444,
              "#bd3786"
             ],
             [
              0.5555555555555556,
              "#d8576b"
             ],
             [
              0.6666666666666666,
              "#ed7953"
             ],
             [
              0.7777777777777778,
              "#fb9f3a"
             ],
             [
              0.8888888888888888,
              "#fdca26"
             ],
             [
              1,
              "#f0f921"
             ]
            ],
            "type": "heatmapgl"
           }
          ],
          "histogram": [
           {
            "marker": {
             "pattern": {
              "fillmode": "overlay",
              "size": 10,
              "solidity": 0.2
             }
            },
            "type": "histogram"
           }
          ],
          "histogram2d": [
           {
            "colorbar": {
             "outlinewidth": 0,
             "ticks": ""
            },
            "colorscale": [
             [
              0,
              "#0d0887"
             ],
             [
              0.1111111111111111,
              "#46039f"
             ],
             [
              0.2222222222222222,
              "#7201a8"
             ],
             [
              0.3333333333333333,
              "#9c179e"
             ],
             [
              0.4444444444444444,
              "#bd3786"
             ],
             [
              0.5555555555555556,
              "#d8576b"
             ],
             [
              0.6666666666666666,
              "#ed7953"
             ],
             [
              0.7777777777777778,
              "#fb9f3a"
             ],
             [
              0.8888888888888888,
              "#fdca26"
             ],
             [
              1,
              "#f0f921"
             ]
            ],
            "type": "histogram2d"
           }
          ],
          "histogram2dcontour": [
           {
            "colorbar": {
             "outlinewidth": 0,
             "ticks": ""
            },
            "colorscale": [
             [
              0,
              "#0d0887"
             ],
             [
              0.1111111111111111,
              "#46039f"
             ],
             [
              0.2222222222222222,
              "#7201a8"
             ],
             [
              0.3333333333333333,
              "#9c179e"
             ],
             [
              0.4444444444444444,
              "#bd3786"
             ],
             [
              0.5555555555555556,
              "#d8576b"
             ],
             [
              0.6666666666666666,
              "#ed7953"
             ],
             [
              0.7777777777777778,
              "#fb9f3a"
             ],
             [
              0.8888888888888888,
              "#fdca26"
             ],
             [
              1,
              "#f0f921"
             ]
            ],
            "type": "histogram2dcontour"
           }
          ],
          "mesh3d": [
           {
            "colorbar": {
             "outlinewidth": 0,
             "ticks": ""
            },
            "type": "mesh3d"
           }
          ],
          "parcoords": [
           {
            "line": {
             "colorbar": {
              "outlinewidth": 0,
              "ticks": ""
             }
            },
            "type": "parcoords"
           }
          ],
          "pie": [
           {
            "automargin": true,
            "type": "pie"
           }
          ],
          "scatter": [
           {
            "fillpattern": {
             "fillmode": "overlay",
             "size": 10,
             "solidity": 0.2
            },
            "type": "scatter"
           }
          ],
          "scatter3d": [
           {
            "line": {
             "colorbar": {
              "outlinewidth": 0,
              "ticks": ""
             }
            },
            "marker": {
             "colorbar": {
              "outlinewidth": 0,
              "ticks": ""
             }
            },
            "type": "scatter3d"
           }
          ],
          "scattercarpet": [
           {
            "marker": {
             "colorbar": {
              "outlinewidth": 0,
              "ticks": ""
             }
            },
            "type": "scattercarpet"
           }
          ],
          "scattergeo": [
           {
            "marker": {
             "colorbar": {
              "outlinewidth": 0,
              "ticks": ""
             }
            },
            "type": "scattergeo"
           }
          ],
          "scattergl": [
           {
            "marker": {
             "colorbar": {
              "outlinewidth": 0,
              "ticks": ""
             }
            },
            "type": "scattergl"
           }
          ],
          "scattermapbox": [
           {
            "marker": {
             "colorbar": {
              "outlinewidth": 0,
              "ticks": ""
             }
            },
            "type": "scattermapbox"
           }
          ],
          "scatterpolar": [
           {
            "marker": {
             "colorbar": {
              "outlinewidth": 0,
              "ticks": ""
             }
            },
            "type": "scatterpolar"
           }
          ],
          "scatterpolargl": [
           {
            "marker": {
             "colorbar": {
              "outlinewidth": 0,
              "ticks": ""
             }
            },
            "type": "scatterpolargl"
           }
          ],
          "scatterternary": [
           {
            "marker": {
             "colorbar": {
              "outlinewidth": 0,
              "ticks": ""
             }
            },
            "type": "scatterternary"
           }
          ],
          "surface": [
           {
            "colorbar": {
             "outlinewidth": 0,
             "ticks": ""
            },
            "colorscale": [
             [
              0,
              "#0d0887"
             ],
             [
              0.1111111111111111,
              "#46039f"
             ],
             [
              0.2222222222222222,
              "#7201a8"
             ],
             [
              0.3333333333333333,
              "#9c179e"
             ],
             [
              0.4444444444444444,
              "#bd3786"
             ],
             [
              0.5555555555555556,
              "#d8576b"
             ],
             [
              0.6666666666666666,
              "#ed7953"
             ],
             [
              0.7777777777777778,
              "#fb9f3a"
             ],
             [
              0.8888888888888888,
              "#fdca26"
             ],
             [
              1,
              "#f0f921"
             ]
            ],
            "type": "surface"
           }
          ],
          "table": [
           {
            "cells": {
             "fill": {
              "color": "#EBF0F8"
             },
             "line": {
              "color": "white"
             }
            },
            "header": {
             "fill": {
              "color": "#C8D4E3"
             },
             "line": {
              "color": "white"
             }
            },
            "type": "table"
           }
          ]
         },
         "layout": {
          "annotationdefaults": {
           "arrowcolor": "#2a3f5f",
           "arrowhead": 0,
           "arrowwidth": 1
          },
          "autotypenumbers": "strict",
          "coloraxis": {
           "colorbar": {
            "outlinewidth": 0,
            "ticks": ""
           }
          },
          "colorscale": {
           "diverging": [
            [
             0,
             "#8e0152"
            ],
            [
             0.1,
             "#c51b7d"
            ],
            [
             0.2,
             "#de77ae"
            ],
            [
             0.3,
             "#f1b6da"
            ],
            [
             0.4,
             "#fde0ef"
            ],
            [
             0.5,
             "#f7f7f7"
            ],
            [
             0.6,
             "#e6f5d0"
            ],
            [
             0.7,
             "#b8e186"
            ],
            [
             0.8,
             "#7fbc41"
            ],
            [
             0.9,
             "#4d9221"
            ],
            [
             1,
             "#276419"
            ]
           ],
           "sequential": [
            [
             0,
             "#0d0887"
            ],
            [
             0.1111111111111111,
             "#46039f"
            ],
            [
             0.2222222222222222,
             "#7201a8"
            ],
            [
             0.3333333333333333,
             "#9c179e"
            ],
            [
             0.4444444444444444,
             "#bd3786"
            ],
            [
             0.5555555555555556,
             "#d8576b"
            ],
            [
             0.6666666666666666,
             "#ed7953"
            ],
            [
             0.7777777777777778,
             "#fb9f3a"
            ],
            [
             0.8888888888888888,
             "#fdca26"
            ],
            [
             1,
             "#f0f921"
            ]
           ],
           "sequentialminus": [
            [
             0,
             "#0d0887"
            ],
            [
             0.1111111111111111,
             "#46039f"
            ],
            [
             0.2222222222222222,
             "#7201a8"
            ],
            [
             0.3333333333333333,
             "#9c179e"
            ],
            [
             0.4444444444444444,
             "#bd3786"
            ],
            [
             0.5555555555555556,
             "#d8576b"
            ],
            [
             0.6666666666666666,
             "#ed7953"
            ],
            [
             0.7777777777777778,
             "#fb9f3a"
            ],
            [
             0.8888888888888888,
             "#fdca26"
            ],
            [
             1,
             "#f0f921"
            ]
           ]
          },
          "colorway": [
           "#636efa",
           "#EF553B",
           "#00cc96",
           "#ab63fa",
           "#FFA15A",
           "#19d3f3",
           "#FF6692",
           "#B6E880",
           "#FF97FF",
           "#FECB52"
          ],
          "font": {
           "color": "#2a3f5f"
          },
          "geo": {
           "bgcolor": "white",
           "lakecolor": "white",
           "landcolor": "#E5ECF6",
           "showlakes": true,
           "showland": true,
           "subunitcolor": "white"
          },
          "hoverlabel": {
           "align": "left"
          },
          "hovermode": "closest",
          "mapbox": {
           "style": "light"
          },
          "paper_bgcolor": "white",
          "plot_bgcolor": "#E5ECF6",
          "polar": {
           "angularaxis": {
            "gridcolor": "white",
            "linecolor": "white",
            "ticks": ""
           },
           "bgcolor": "#E5ECF6",
           "radialaxis": {
            "gridcolor": "white",
            "linecolor": "white",
            "ticks": ""
           }
          },
          "scene": {
           "xaxis": {
            "backgroundcolor": "#E5ECF6",
            "gridcolor": "white",
            "gridwidth": 2,
            "linecolor": "white",
            "showbackground": true,
            "ticks": "",
            "zerolinecolor": "white"
           },
           "yaxis": {
            "backgroundcolor": "#E5ECF6",
            "gridcolor": "white",
            "gridwidth": 2,
            "linecolor": "white",
            "showbackground": true,
            "ticks": "",
            "zerolinecolor": "white"
           },
           "zaxis": {
            "backgroundcolor": "#E5ECF6",
            "gridcolor": "white",
            "gridwidth": 2,
            "linecolor": "white",
            "showbackground": true,
            "ticks": "",
            "zerolinecolor": "white"
           }
          },
          "shapedefaults": {
           "line": {
            "color": "#2a3f5f"
           }
          },
          "ternary": {
           "aaxis": {
            "gridcolor": "white",
            "linecolor": "white",
            "ticks": ""
           },
           "baxis": {
            "gridcolor": "white",
            "linecolor": "white",
            "ticks": ""
           },
           "bgcolor": "#E5ECF6",
           "caxis": {
            "gridcolor": "white",
            "linecolor": "white",
            "ticks": ""
           }
          },
          "title": {
           "x": 0.05
          },
          "xaxis": {
           "automargin": true,
           "gridcolor": "white",
           "linecolor": "white",
           "ticks": "",
           "title": {
            "standoff": 15
           },
           "zerolinecolor": "white",
           "zerolinewidth": 2
          },
          "yaxis": {
           "automargin": true,
           "gridcolor": "white",
           "linecolor": "white",
           "ticks": "",
           "title": {
            "standoff": 15
           },
           "zerolinecolor": "white",
           "zerolinewidth": 2
          }
         }
        },
        "updatemenus": [
         {
          "buttons": [
           {
            "args": [
             null,
             {
              "frame": {
               "duration": 500,
               "redraw": false
              },
              "fromcurrent": true,
              "mode": "immediate",
              "transition": {
               "duration": 500,
               "easing": "linear"
              }
             }
            ],
            "label": "&#9654;",
            "method": "animate"
           },
           {
            "args": [
             [
              null
             ],
             {
              "frame": {
               "duration": 0,
               "redraw": false
              },
              "fromcurrent": true,
              "mode": "immediate",
              "transition": {
               "duration": 0,
               "easing": "linear"
              }
             }
            ],
            "label": "&#9724;",
            "method": "animate"
           }
          ],
          "direction": "left",
          "pad": {
           "r": 10,
           "t": 70
          },
          "showactive": false,
          "type": "buttons",
          "x": 0.1,
          "xanchor": "right",
          "y": 0,
          "yanchor": "top"
         }
        ],
        "width": 1000,
        "xaxis": {
         "anchor": "y",
         "domain": [
          0,
          1
         ],
         "range": [
          0,
          1.1
         ],
         "title": {
          "text": "x"
         }
        },
        "yaxis": {
         "anchor": "x",
         "domain": [
          0,
          1
         ],
         "range": [
          1.1,
          0
         ],
         "title": {
          "text": "y"
         }
        }
       }
      }
     },
     "metadata": {},
     "output_type": "display_data"
    }
   ],
   "source": [
    "chk.plot(\"6\")"
   ]
  }
 ],
 "metadata": {
  "kernelspec": {
   "display_name": "Python 3.8.13 ('thesis')",
   "language": "python",
   "name": "python3"
  },
  "language_info": {
   "codemirror_mode": {
    "name": "ipython",
    "version": 3
   },
   "file_extension": ".py",
   "mimetype": "text/x-python",
   "name": "python",
   "nbconvert_exporter": "python",
   "pygments_lexer": "ipython3",
   "version": "3.8.13"
  },
  "orig_nbformat": 4,
  "vscode": {
   "interpreter": {
    "hash": "dc7f4105f9f5e395f215a7643dd52717d50b308583dcde27027fbaaaba0d8cea"
   }
  }
 },
 "nbformat": 4,
 "nbformat_minor": 2
}
