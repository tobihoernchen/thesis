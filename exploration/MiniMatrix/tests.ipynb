{
 "cells": [
  {
   "cell_type": "code",
   "execution_count": 1,
   "metadata": {},
   "outputs": [],
   "source": [
    "import sys\n",
    "sys.path.append(\"../..\")\n",
    "from thesis.utils.env_checker import RewardCheck\n",
    "from thesis.envs.matrix import Matrix\n",
    "import json"
   ]
  },
  {
   "cell_type": "code",
   "execution_count": 2,
   "metadata": {},
   "outputs": [
    {
     "name": "stderr",
     "output_type": "stream",
     "text": [
      "2023-05-25 23:53:08,410\tINFO worker.py:1528 -- Started a local Ray instance.\n"
     ]
    }
   ],
   "source": [
    "from thesis.utils.utils import setup_ray, save, load, Experiment\n",
    "path = \"D:/Master/Masterarbeit/thesis\"\n",
    "setup_ray(path = path, unidirectional = False, seed=69)"
   ]
  },
  {
   "cell_type": "code",
   "execution_count": 12,
   "metadata": {},
   "outputs": [],
   "source": [
    "def get_env(fleetsize):\n",
    "    return Matrix(\n",
    "        model_path = \"../../envs/Matrix.zip\",\n",
    "        startport = 51142,\n",
    "        max_seconds = 60*60,\n",
    "\n",
    "        fleetsize = fleetsize,\n",
    "        max_fleetsize = 20,    \n",
    "        pseudo_routing = False,\n",
    "        routing_policy = \"../../models/matrix_routing/10_final6_8_20_2023-05-23_16-51-21/checkpoint_001800/policies/agv\",\n",
    "        pseudo_dispatcher = False,\n",
    "        dispatching_policy = [\"../../models/matrix_together/02_pretrained_8_20_2023-05-24_22-28-05/checkpoint_000250/policies/dispatcher1\", \"../../models/matrix_together/02_pretrained_8_20_2023-05-24_22-28-05/checkpoint_000250/policies/dispatcher2\"],\n",
    "        pseudo_dispatcher_clever=True,\n",
    "        #pseudo_dispatcher_distance = 0.2,\n",
    "        routing_agent_death= True,\n",
    "        death_on_target = True,\n",
    "        transform_dispatching_partobs=True,\n",
    "        direction_reward = -0.1,\n",
    "        sim_config = dict(\n",
    "            dispatch = True,\n",
    "            routing_ma = True,\n",
    "            dispatching_ma = True,\n",
    "            reward_reached_target = 0,\n",
    "            #reward_reached_target_by_time = True, \n",
    "            reward_wrong_target = 0,\n",
    "            reward_removed_for_block = 0, \n",
    "            reward_target_distance = 0,\n",
    "            reward_invalid= 0,\n",
    "            reward_duration = -0.5,\n",
    "            block_timeout = 120,\n",
    "            station_separate = False,\n",
    "            reward_accepted_in_station = 2,\n",
    "            reward_declined_in_station = -1,\n",
    "            #reward_part_completed = 5,\n",
    "            #reward_geo_operation=1,\n",
    "            #reward_rework_operation=1,\n",
    "            #reward_respot_operation=1,\n",
    "            reward_reduce = -0.02,\n",
    "            #reward_balance = -5,\n",
    "            routing_interval = 2,\n",
    "            dispatching_interval=3700,\n",
    "            io_quote = 0.9  ,\n",
    "            availability = 0.9,\n",
    "            mttr = 5,\n",
    "            fixed_fleets = True,\n",
    "        )\n",
    "    )"
   ]
  },
  {
   "cell_type": "code",
   "execution_count": 13,
   "metadata": {},
   "outputs": [
    {
     "name": "stderr",
     "output_type": "stream",
     "text": [
      "2023-05-26 00:03:13,477\tINFO catalog.py:487 -- Wrapping <class 'thesis.policies.ma_gnn_routing.GNNRoutingNet'> as <class 'ray.rllib.algorithms.dqn.dqn_torch_model.DQNTorchModel'>\n",
      "2023-05-26 00:03:13,548\tWARNING catalog.py:641 -- Custom ModelV2 should accept all custom options as **kwargs, instead of expecting them in config['custom_model_config']!\n",
      "2023-05-26 00:03:13,557\tINFO catalog.py:487 -- Wrapping <class 'thesis.policies.ma_gnn_routing.GNNRoutingNet'> as <class 'ray.rllib.algorithms.dqn.dqn_torch_model.DQNTorchModel'>\n",
      "2023-05-26 00:03:13,617\tWARNING catalog.py:641 -- Custom ModelV2 should accept all custom options as **kwargs, instead of expecting them in config['custom_model_config']!\n",
      "2023-05-26 00:03:13,619\tINFO policy.py:1134 -- Policy (worker=local) running on 1 GPUs.\n",
      "2023-05-26 00:03:13,622\tINFO torch_policy.py:180 -- Found 1 visible cuda devices.\n",
      "2023-05-26 00:03:14,212\tINFO ppo_tf_policy.py:41 -- `vf_share_layers=True` in your model. Therefore, remember to tune the value of `vf_loss_coeff`!\n",
      "2023-05-26 00:03:14,220\tINFO catalog.py:487 -- Wrapping <class 'thesis.policies.ma_lin_net.MALinPolicy'> as None\n",
      "2023-05-26 00:03:14,243\tINFO policy.py:1134 -- Policy (worker=local) running on 1 GPUs.\n",
      "2023-05-26 00:03:14,244\tINFO torch_policy_v2.py:101 -- Found 1 visible cuda devices.\n",
      "2023-05-26 00:03:14,698\tINFO ppo_tf_policy.py:41 -- `vf_share_layers=True` in your model. Therefore, remember to tune the value of `vf_loss_coeff`!\n",
      "2023-05-26 00:03:14,718\tINFO catalog.py:487 -- Wrapping <class 'thesis.policies.ma_lin_net.MALinPolicy'> as None\n",
      "2023-05-26 00:03:14,743\tINFO policy.py:1134 -- Policy (worker=local) running on 1 GPUs.\n",
      "2023-05-26 00:03:14,745\tINFO torch_policy_v2.py:101 -- Found 1 visible cuda devices.\n",
      "c:\\Users\\Wegma\\.conda\\envs\\thesis3_9\\lib\\site-packages\\alpyne\\client\\utils.py:124: UserWarning: Unzipping to temporary directory (C:\\Users\\Wegma\\AppData\\Local\\Temp\\alpyne_00225__nc288lw)\n",
      "  warn(f\"Unzipping to temporary directory ({tmp_dir})\")\n",
      "2023-05-26 00:03:17,669\tINFO catalog.py:487 -- Wrapping <class 'thesis.policies.ma_gnn_routing.GNNRoutingNet'> as <class 'ray.rllib.algorithms.dqn.dqn_torch_model.DQNTorchModel'>\n",
      "2023-05-26 00:03:17,772\tWARNING catalog.py:641 -- Custom ModelV2 should accept all custom options as **kwargs, instead of expecting them in config['custom_model_config']!\n",
      "2023-05-26 00:03:17,820\tINFO catalog.py:487 -- Wrapping <class 'thesis.policies.ma_gnn_routing.GNNRoutingNet'> as <class 'ray.rllib.algorithms.dqn.dqn_torch_model.DQNTorchModel'>\n",
      "2023-05-26 00:03:17,956\tWARNING catalog.py:641 -- Custom ModelV2 should accept all custom options as **kwargs, instead of expecting them in config['custom_model_config']!\n",
      "2023-05-26 00:03:17,958\tINFO policy.py:1134 -- Policy (worker=local) running on 1 GPUs.\n",
      "2023-05-26 00:03:17,961\tINFO torch_policy.py:180 -- Found 1 visible cuda devices.\n",
      "2023-05-26 00:03:18,830\tINFO ppo_tf_policy.py:41 -- `vf_share_layers=True` in your model. Therefore, remember to tune the value of `vf_loss_coeff`!\n",
      "2023-05-26 00:03:18,841\tINFO catalog.py:487 -- Wrapping <class 'thesis.policies.ma_lin_net.MALinPolicy'> as None\n",
      "2023-05-26 00:03:18,863\tINFO policy.py:1134 -- Policy (worker=local) running on 1 GPUs.\n",
      "2023-05-26 00:03:18,866\tINFO torch_policy_v2.py:101 -- Found 1 visible cuda devices.\n",
      "2023-05-26 00:03:19,490\tINFO ppo_tf_policy.py:41 -- `vf_share_layers=True` in your model. Therefore, remember to tune the value of `vf_loss_coeff`!\n",
      "2023-05-26 00:03:19,549\tINFO catalog.py:487 -- Wrapping <class 'thesis.policies.ma_lin_net.MALinPolicy'> as None\n",
      "2023-05-26 00:03:19,571\tINFO policy.py:1134 -- Policy (worker=local) running on 1 GPUs.\n",
      "2023-05-26 00:03:19,573\tINFO torch_policy_v2.py:101 -- Found 1 visible cuda devices.\n"
     ]
    },
    {
     "ename": "KeyboardInterrupt",
     "evalue": "",
     "output_type": "error",
     "traceback": [
      "\u001b[1;31m---------------------------------------------------------------------------\u001b[0m",
      "\u001b[1;31mKeyboardInterrupt\u001b[0m                         Traceback (most recent call last)",
      "Cell \u001b[1;32mIn[13], line 6\u001b[0m\n\u001b[0;32m      4\u001b[0m result_seed \u001b[39m=\u001b[39m {}\n\u001b[0;32m      5\u001b[0m \u001b[39mfor\u001b[39;00m seed \u001b[39min\u001b[39;00m \u001b[39mrange\u001b[39m(\u001b[39m10\u001b[39m):\n\u001b[1;32m----> 6\u001b[0m     chk\u001b[39m.\u001b[39;49mrun(\u001b[39m1\u001b[39;49m, seed)\n\u001b[0;32m      7\u001b[0m     result_seed[seed] \u001b[39m=\u001b[39m chk\u001b[39m.\u001b[39menv\u001b[39m.\u001b[39mstatistics\n\u001b[0;32m      8\u001b[0m results[f] \u001b[39m=\u001b[39m result_seed\n",
      "File \u001b[1;32md:\\Master\\Masterarbeit\\thesis\\exploration\\MiniMatrix\\../..\\thesis\\utils\\env_checker.py:43\u001b[0m, in \u001b[0;36mRewardCheck.run\u001b[1;34m(self, n_episodes, seed, reset, manual_agents, dispatch_mode, max_action)\u001b[0m\n\u001b[0;32m     41\u001b[0m \u001b[39mwhile\u001b[39;00m episode_counter \u001b[39m<\u001b[39m n_episodes:\n\u001b[0;32m     42\u001b[0m     \u001b[39mif\u001b[39;00m reset:\n\u001b[1;32m---> 43\u001b[0m         \u001b[39mself\u001b[39;49m\u001b[39m.\u001b[39;49menv\u001b[39m.\u001b[39;49mreset(seed\u001b[39m=\u001b[39;49mseed)\n\u001b[0;32m     44\u001b[0m     \u001b[39mself\u001b[39m\u001b[39m.\u001b[39mtotal_reward \u001b[39m=\u001b[39m \u001b[39m0\u001b[39m\n\u001b[0;32m     45\u001b[0m     step_counter \u001b[39m=\u001b[39m \u001b[39m0\u001b[39m\n",
      "File \u001b[1;32md:\\Master\\Masterarbeit\\thesis\\exploration\\MiniMatrix\\../..\\thesis\\envs\\matrix.py:335\u001b[0m, in \u001b[0;36mMatrix.reset\u001b[1;34m(self, config, seed, return_info, options)\u001b[0m\n\u001b[0;32m    328\u001b[0m     \u001b[39mself\u001b[39m\u001b[39m.\u001b[39mdispatching_aliases_rev \u001b[39m=\u001b[39m {\n\u001b[0;32m    329\u001b[0m         \u001b[39mstr\u001b[39m(i): \u001b[39mstr\u001b[39m(i) \u001b[39mfor\u001b[39;00m i \u001b[39min\u001b[39;00m \u001b[39mrange\u001b[39m(\u001b[39m1000\u001b[39m, \u001b[39m1000\u001b[39m \u001b[39m+\u001b[39m \u001b[39mself\u001b[39m\u001b[39m.\u001b[39mfleetsize)\n\u001b[0;32m    330\u001b[0m     }\n\u001b[0;32m    331\u001b[0m \u001b[39m# if self.pseudo_dispatcher and self.pseudo_routing:\u001b[39;00m\n\u001b[0;32m    332\u001b[0m \u001b[39m#     return_val = super().reset(self.config, seed, return_info, options)\u001b[39;00m\n\u001b[0;32m    333\u001b[0m \u001b[39m#     return self.observation_space(\"dummy\").sample(), 0, False, {}\u001b[39;00m\n\u001b[0;32m    334\u001b[0m \u001b[39melse\u001b[39;00m:\n\u001b[1;32m--> 335\u001b[0m     \u001b[39mreturn\u001b[39;00m \u001b[39msuper\u001b[39;49m()\u001b[39m.\u001b[39;49mreset(\u001b[39mself\u001b[39;49m\u001b[39m.\u001b[39;49mconfig, seed, return_info, options, dont_collect \u001b[39m=\u001b[39;49m options\u001b[39m.\u001b[39;49mget(\u001b[39m\"\u001b[39;49m\u001b[39mdont_collect\u001b[39;49m\u001b[39m\"\u001b[39;49m, \u001b[39mFalse\u001b[39;49;00m))\n",
      "File \u001b[1;32md:\\Master\\Masterarbeit\\thesis\\exploration\\MiniMatrix\\../..\\thesis\\envs\\base_alpyne_zoo.py:119\u001b[0m, in \u001b[0;36mBaseAlpyneZoo.reset\u001b[1;34m(self, config, seed, return_info, options, agents, dont_collect)\u001b[0m\n\u001b[0;32m    117\u001b[0m \u001b[39mself\u001b[39m\u001b[39m.\u001b[39mobservable \u001b[39m=\u001b[39m \u001b[39mFalse\u001b[39;00m\n\u001b[0;32m    118\u001b[0m \u001b[39mif\u001b[39;00m \u001b[39mnot\u001b[39;00m dont_collect:\n\u001b[1;32m--> 119\u001b[0m     \u001b[39mself\u001b[39;49m\u001b[39m.\u001b[39;49m_collect()\n\u001b[0;32m    120\u001b[0m     \u001b[39mif\u001b[39;00m return_info:\n\u001b[0;32m    121\u001b[0m         \u001b[39mreturn\u001b[39;00m \u001b[39mself\u001b[39m\u001b[39m.\u001b[39mobserve(\u001b[39mself\u001b[39m\u001b[39m.\u001b[39magent_selection)\n",
      "File \u001b[1;32md:\\Master\\Masterarbeit\\thesis\\exploration\\MiniMatrix\\../..\\thesis\\envs\\base_alpyne_zoo.py:192\u001b[0m, in \u001b[0;36mBaseAlpyneZoo._collect\u001b[1;34m(self)\u001b[0m\n\u001b[0;32m    190\u001b[0m         \u001b[39mbreak\u001b[39;00m\n\u001b[0;32m    191\u001b[0m     \u001b[39melse\u001b[39;00m:\n\u001b[1;32m--> 192\u001b[0m         action \u001b[39m=\u001b[39m \u001b[39mself\u001b[39;49m\u001b[39m.\u001b[39;49magent_behaviors[agent]\u001b[39m.\u001b[39;49mget_action(\n\u001b[0;32m    193\u001b[0m             alpyne_obs, time\u001b[39m=\u001b[39;49m\u001b[39mself\u001b[39;49m\u001b[39m.\u001b[39;49mrun\u001b[39m.\u001b[39;49mget_state()[\u001b[39m1\u001b[39;49m][\u001b[39m\"\u001b[39;49m\u001b[39mmodel_time\u001b[39;49m\u001b[39m\"\u001b[39;49m]\n\u001b[0;32m    194\u001b[0m         )\n\u001b[0;32m    195\u001b[0m         \u001b[39mself\u001b[39m\u001b[39m.\u001b[39msim\u001b[39m.\u001b[39mtake_action(action)\n\u001b[0;32m    197\u001b[0m \u001b[39mif\u001b[39;00m \u001b[39mself\u001b[39m\u001b[39m.\u001b[39msim\u001b[39m.\u001b[39mis_terminal() \u001b[39mor\u001b[39;00m \u001b[39mself\u001b[39m\u001b[39m.\u001b[39m_terminal_alternative(alpyne_obs):\n",
      "File \u001b[1;32md:\\Master\\Masterarbeit\\thesis\\exploration\\MiniMatrix\\../..\\thesis\\envs\\behaviors.py:134\u001b[0m, in \u001b[0;36mApplyPolicyAgent.get_action\u001b[1;34m(self, alpyne_obs, time)\u001b[0m\n\u001b[0;32m    132\u001b[0m \u001b[39mdef\u001b[39;00m \u001b[39mget_action\u001b[39m(\u001b[39mself\u001b[39m, alpyne_obs, time):\n\u001b[0;32m    133\u001b[0m     obs, rew, done, info \u001b[39m=\u001b[39m \u001b[39mself\u001b[39m\u001b[39m.\u001b[39mdummy_learning_agent\u001b[39m.\u001b[39mconvert_from_observation(alpyne_obs)\n\u001b[1;32m--> 134\u001b[0m     action \u001b[39m=\u001b[39m \u001b[39mself\u001b[39;49m\u001b[39m.\u001b[39;49mpolicy\u001b[39m.\u001b[39;49mcompute_single_action(obs, explore\u001b[39m=\u001b[39;49m\u001b[39mFalse\u001b[39;49;00m)\n\u001b[0;32m    135\u001b[0m     \u001b[39mreturn\u001b[39;00m \u001b[39mself\u001b[39m\u001b[39m.\u001b[39mdummy_learning_agent\u001b[39m.\u001b[39mconvert_to_action(action[\u001b[39m0\u001b[39m], alpyne_obs\u001b[39m.\u001b[39mcaller)\n",
      "File \u001b[1;32mc:\\Users\\Wegma\\.conda\\envs\\thesis3_9\\lib\\site-packages\\ray\\rllib\\policy\\policy.py:459\u001b[0m, in \u001b[0;36mPolicy.compute_single_action\u001b[1;34m(self, obs, state, prev_action, prev_reward, info, input_dict, episode, explore, timestep, **kwargs)\u001b[0m\n\u001b[0;32m    456\u001b[0m \u001b[39mif\u001b[39;00m episode \u001b[39mis\u001b[39;00m \u001b[39mnot\u001b[39;00m \u001b[39mNone\u001b[39;00m:\n\u001b[0;32m    457\u001b[0m     episodes \u001b[39m=\u001b[39m [episode]\n\u001b[1;32m--> 459\u001b[0m out \u001b[39m=\u001b[39m \u001b[39mself\u001b[39;49m\u001b[39m.\u001b[39;49mcompute_actions_from_input_dict(\n\u001b[0;32m    460\u001b[0m     input_dict\u001b[39m=\u001b[39;49mSampleBatch(input_dict),\n\u001b[0;32m    461\u001b[0m     episodes\u001b[39m=\u001b[39;49mepisodes,\n\u001b[0;32m    462\u001b[0m     explore\u001b[39m=\u001b[39;49mexplore,\n\u001b[0;32m    463\u001b[0m     timestep\u001b[39m=\u001b[39;49mtimestep,\n\u001b[0;32m    464\u001b[0m )\n\u001b[0;32m    466\u001b[0m \u001b[39m# Some policies don't return a tuple, but always just a single action.\u001b[39;00m\n\u001b[0;32m    467\u001b[0m \u001b[39m# E.g. ES and ARS.\u001b[39;00m\n\u001b[0;32m    468\u001b[0m \u001b[39mif\u001b[39;00m \u001b[39mnot\u001b[39;00m \u001b[39misinstance\u001b[39m(out, \u001b[39mtuple\u001b[39m):\n",
      "File \u001b[1;32mc:\\Users\\Wegma\\.conda\\envs\\thesis3_9\\lib\\site-packages\\ray\\rllib\\policy\\torch_policy.py:321\u001b[0m, in \u001b[0;36mTorchPolicy.compute_actions_from_input_dict\u001b[1;34m(self, input_dict, explore, timestep, **kwargs)\u001b[0m\n\u001b[0;32m    310\u001b[0m \u001b[39m# Calculate RNN sequence lengths.\u001b[39;00m\n\u001b[0;32m    311\u001b[0m seq_lens \u001b[39m=\u001b[39m (\n\u001b[0;32m    312\u001b[0m     torch\u001b[39m.\u001b[39mtensor(\n\u001b[0;32m    313\u001b[0m         [\u001b[39m1\u001b[39m] \u001b[39m*\u001b[39m \u001b[39mlen\u001b[39m(state_batches[\u001b[39m0\u001b[39m]),\n\u001b[1;32m   (...)\u001b[0m\n\u001b[0;32m    318\u001b[0m     \u001b[39melse\u001b[39;00m \u001b[39mNone\u001b[39;00m\n\u001b[0;32m    319\u001b[0m )\n\u001b[1;32m--> 321\u001b[0m \u001b[39mreturn\u001b[39;00m \u001b[39mself\u001b[39;49m\u001b[39m.\u001b[39;49m_compute_action_helper(\n\u001b[0;32m    322\u001b[0m     input_dict, state_batches, seq_lens, explore, timestep\n\u001b[0;32m    323\u001b[0m )\n",
      "File \u001b[1;32mc:\\Users\\Wegma\\.conda\\envs\\thesis3_9\\lib\\site-packages\\ray\\rllib\\utils\\threading.py:24\u001b[0m, in \u001b[0;36mwith_lock.<locals>.wrapper\u001b[1;34m(self, *a, **k)\u001b[0m\n\u001b[0;32m     22\u001b[0m \u001b[39mtry\u001b[39;00m:\n\u001b[0;32m     23\u001b[0m     \u001b[39mwith\u001b[39;00m \u001b[39mself\u001b[39m\u001b[39m.\u001b[39m_lock:\n\u001b[1;32m---> 24\u001b[0m         \u001b[39mreturn\u001b[39;00m func(\u001b[39mself\u001b[39m, \u001b[39m*\u001b[39ma, \u001b[39m*\u001b[39m\u001b[39m*\u001b[39mk)\n\u001b[0;32m     25\u001b[0m \u001b[39mexcept\u001b[39;00m \u001b[39mAttributeError\u001b[39;00m \u001b[39mas\u001b[39;00m e:\n\u001b[0;32m     26\u001b[0m     \u001b[39mif\u001b[39;00m \u001b[39m\"\u001b[39m\u001b[39mhas no attribute \u001b[39m\u001b[39m'\u001b[39m\u001b[39m_lock\u001b[39m\u001b[39m'\u001b[39m\u001b[39m\"\u001b[39m \u001b[39min\u001b[39;00m e\u001b[39m.\u001b[39margs[\u001b[39m0\u001b[39m]:\n",
      "File \u001b[1;32mc:\\Users\\Wegma\\.conda\\envs\\thesis3_9\\lib\\site-packages\\ray\\rllib\\policy\\torch_policy.py:956\u001b[0m, in \u001b[0;36mTorchPolicy._compute_action_helper\u001b[1;34m(self, input_dict, state_batches, seq_lens, explore, timestep)\u001b[0m\n\u001b[0;32m    952\u001b[0m \u001b[39mif\u001b[39;00m \u001b[39mself\u001b[39m\u001b[39m.\u001b[39maction_distribution_fn:\n\u001b[0;32m    953\u001b[0m     \u001b[39m# Try new action_distribution_fn signature, supporting\u001b[39;00m\n\u001b[0;32m    954\u001b[0m     \u001b[39m# state_batches and seq_lens.\u001b[39;00m\n\u001b[0;32m    955\u001b[0m     \u001b[39mtry\u001b[39;00m:\n\u001b[1;32m--> 956\u001b[0m         dist_inputs, dist_class, state_out \u001b[39m=\u001b[39m \u001b[39mself\u001b[39;49m\u001b[39m.\u001b[39;49maction_distribution_fn(\n\u001b[0;32m    957\u001b[0m             \u001b[39mself\u001b[39;49m,\n\u001b[0;32m    958\u001b[0m             \u001b[39mself\u001b[39;49m\u001b[39m.\u001b[39;49mmodel,\n\u001b[0;32m    959\u001b[0m             input_dict\u001b[39m=\u001b[39;49minput_dict,\n\u001b[0;32m    960\u001b[0m             state_batches\u001b[39m=\u001b[39;49mstate_batches,\n\u001b[0;32m    961\u001b[0m             seq_lens\u001b[39m=\u001b[39;49mseq_lens,\n\u001b[0;32m    962\u001b[0m             explore\u001b[39m=\u001b[39;49mexplore,\n\u001b[0;32m    963\u001b[0m             timestep\u001b[39m=\u001b[39;49mtimestep,\n\u001b[0;32m    964\u001b[0m             is_training\u001b[39m=\u001b[39;49m\u001b[39mFalse\u001b[39;49;00m,\n\u001b[0;32m    965\u001b[0m         )\n\u001b[0;32m    966\u001b[0m     \u001b[39m# Trying the old way (to stay backward compatible).\u001b[39;00m\n\u001b[0;32m    967\u001b[0m     \u001b[39m# TODO: Remove in future.\u001b[39;00m\n\u001b[0;32m    968\u001b[0m     \u001b[39mexcept\u001b[39;00m \u001b[39mTypeError\u001b[39;00m \u001b[39mas\u001b[39;00m e:\n",
      "File \u001b[1;32mc:\\Users\\Wegma\\.conda\\envs\\thesis3_9\\lib\\site-packages\\ray\\rllib\\algorithms\\dqn\\dqn_torch_policy.py:239\u001b[0m, in \u001b[0;36mget_distribution_inputs_and_class\u001b[1;34m(policy, model, input_dict, explore, is_training, **kwargs)\u001b[0m\n\u001b[0;32m    230\u001b[0m \u001b[39mdef\u001b[39;00m \u001b[39mget_distribution_inputs_and_class\u001b[39m(\n\u001b[0;32m    231\u001b[0m     policy: Policy,\n\u001b[0;32m    232\u001b[0m     model: ModelV2,\n\u001b[1;32m   (...)\u001b[0m\n\u001b[0;32m    237\u001b[0m     \u001b[39m*\u001b[39m\u001b[39m*\u001b[39mkwargs\n\u001b[0;32m    238\u001b[0m ) \u001b[39m-\u001b[39m\u001b[39m>\u001b[39m Tuple[TensorType, \u001b[39mtype\u001b[39m, List[TensorType]]:\n\u001b[1;32m--> 239\u001b[0m     q_vals \u001b[39m=\u001b[39m compute_q_values(\n\u001b[0;32m    240\u001b[0m         policy, model, input_dict, explore\u001b[39m=\u001b[39;49mexplore, is_training\u001b[39m=\u001b[39;49mis_training\n\u001b[0;32m    241\u001b[0m     )\n\u001b[0;32m    242\u001b[0m     q_vals \u001b[39m=\u001b[39m q_vals[\u001b[39m0\u001b[39m] \u001b[39mif\u001b[39;00m \u001b[39misinstance\u001b[39m(q_vals, \u001b[39mtuple\u001b[39m) \u001b[39melse\u001b[39;00m q_vals\n\u001b[0;32m    244\u001b[0m     model\u001b[39m.\u001b[39mtower_stats[\u001b[39m\"\u001b[39m\u001b[39mq_values\u001b[39m\u001b[39m\"\u001b[39m] \u001b[39m=\u001b[39m q_vals\n",
      "File \u001b[1;32mc:\\Users\\Wegma\\.conda\\envs\\thesis3_9\\lib\\site-packages\\ray\\rllib\\algorithms\\dqn\\dqn_torch_policy.py:429\u001b[0m, in \u001b[0;36mcompute_q_values\u001b[1;34m(policy, model, input_dict, state_batches, seq_lens, explore, is_training)\u001b[0m\n\u001b[0;32m    418\u001b[0m \u001b[39mdef\u001b[39;00m \u001b[39mcompute_q_values\u001b[39m(\n\u001b[0;32m    419\u001b[0m     policy: Policy,\n\u001b[0;32m    420\u001b[0m     model: ModelV2,\n\u001b[1;32m   (...)\u001b[0m\n\u001b[0;32m    425\u001b[0m     is_training: \u001b[39mbool\u001b[39m \u001b[39m=\u001b[39m \u001b[39mFalse\u001b[39;00m,\n\u001b[0;32m    426\u001b[0m ):\n\u001b[0;32m    427\u001b[0m     config \u001b[39m=\u001b[39m policy\u001b[39m.\u001b[39mconfig\n\u001b[1;32m--> 429\u001b[0m     model_out, state \u001b[39m=\u001b[39m model(input_dict, state_batches \u001b[39mor\u001b[39;49;00m [], seq_lens)\n\u001b[0;32m    431\u001b[0m     \u001b[39mif\u001b[39;00m config[\u001b[39m\"\u001b[39m\u001b[39mnum_atoms\u001b[39m\u001b[39m\"\u001b[39m] \u001b[39m>\u001b[39m \u001b[39m1\u001b[39m:\n\u001b[0;32m    432\u001b[0m         (\n\u001b[0;32m    433\u001b[0m             action_scores,\n\u001b[0;32m    434\u001b[0m             z,\n\u001b[1;32m   (...)\u001b[0m\n\u001b[0;32m    437\u001b[0m             probs_or_logits,\n\u001b[0;32m    438\u001b[0m         ) \u001b[39m=\u001b[39m model\u001b[39m.\u001b[39mget_q_value_distributions(model_out)\n",
      "File \u001b[1;32mc:\\Users\\Wegma\\.conda\\envs\\thesis3_9\\lib\\site-packages\\ray\\rllib\\models\\modelv2.py:259\u001b[0m, in \u001b[0;36mModelV2.__call__\u001b[1;34m(self, input_dict, state, seq_lens)\u001b[0m\n\u001b[0;32m    256\u001b[0m         restored[\u001b[39m\"\u001b[39m\u001b[39mobs_flat\u001b[39m\u001b[39m\"\u001b[39m] \u001b[39m=\u001b[39m input_dict[\u001b[39m\"\u001b[39m\u001b[39mobs\u001b[39m\u001b[39m\"\u001b[39m]\n\u001b[0;32m    258\u001b[0m \u001b[39mwith\u001b[39;00m \u001b[39mself\u001b[39m\u001b[39m.\u001b[39mcontext():\n\u001b[1;32m--> 259\u001b[0m     res \u001b[39m=\u001b[39m \u001b[39mself\u001b[39;49m\u001b[39m.\u001b[39;49mforward(restored, state \u001b[39mor\u001b[39;49;00m [], seq_lens)\n\u001b[0;32m    261\u001b[0m \u001b[39mif\u001b[39;00m \u001b[39misinstance\u001b[39m(input_dict, SampleBatch):\n\u001b[0;32m    262\u001b[0m     input_dict\u001b[39m.\u001b[39maccessed_keys \u001b[39m=\u001b[39m restored\u001b[39m.\u001b[39maccessed_keys \u001b[39m-\u001b[39m {\u001b[39m\"\u001b[39m\u001b[39mobs_flat\u001b[39m\u001b[39m\"\u001b[39m}\n",
      "File \u001b[1;32md:\\Master\\Masterarbeit\\thesis\\exploration\\MiniMatrix\\../..\\thesis\\policies\\ma_gnn_routing.py:221\u001b[0m, in \u001b[0;36mGNNRoutingNet.forward\u001b[1;34m(self, obsdict, state, seq_lengths)\u001b[0m\n\u001b[0;32m    219\u001b[0m \u001b[39mdef\u001b[39;00m \u001b[39mforward\u001b[39m(\u001b[39mself\u001b[39m, obsdict, state, seq_lengths):\n\u001b[0;32m    220\u001b[0m     \u001b[39mself\u001b[39m\u001b[39m.\u001b[39mobs \u001b[39m=\u001b[39m obsdict[\u001b[39m\"\u001b[39m\u001b[39mobs\u001b[39m\u001b[39m\"\u001b[39m]\n\u001b[1;32m--> 221\u001b[0m     \u001b[39mself\u001b[39m\u001b[39m.\u001b[39mfeatures:torch\u001b[39m.\u001b[39mTensor \u001b[39m=\u001b[39m \u001b[39mself\u001b[39;49m\u001b[39m.\u001b[39;49mfe(\u001b[39mself\u001b[39;49m\u001b[39m.\u001b[39;49mobs)\n\u001b[0;32m    222\u001b[0m     actions \u001b[39m=\u001b[39m \u001b[39mself\u001b[39m\u001b[39m.\u001b[39maction_net(\u001b[39mself\u001b[39m\u001b[39m.\u001b[39mfeatures)\n\u001b[0;32m    223\u001b[0m     \u001b[39m# if self.discrete_action_space:\u001b[39;00m\n\u001b[0;32m    224\u001b[0m     \u001b[39m#     action_out = actions\u001b[39;00m\n\u001b[0;32m    225\u001b[0m     \u001b[39m# else:\u001b[39;00m\n\u001b[1;32m   (...)\u001b[0m\n\u001b[0;32m    229\u001b[0m     \u001b[39m#     )\u001b[39;00m\n\u001b[0;32m    230\u001b[0m     \u001b[39m#     action_out[:, 0, :] = actions\u001b[39;00m\n",
      "File \u001b[1;32mc:\\Users\\Wegma\\.conda\\envs\\thesis3_9\\lib\\site-packages\\torch\\nn\\modules\\module.py:1130\u001b[0m, in \u001b[0;36mModule._call_impl\u001b[1;34m(self, *input, **kwargs)\u001b[0m\n\u001b[0;32m   1126\u001b[0m \u001b[39m# If we don't have any hooks, we want to skip the rest of the logic in\u001b[39;00m\n\u001b[0;32m   1127\u001b[0m \u001b[39m# this function, and just call forward.\u001b[39;00m\n\u001b[0;32m   1128\u001b[0m \u001b[39mif\u001b[39;00m \u001b[39mnot\u001b[39;00m (\u001b[39mself\u001b[39m\u001b[39m.\u001b[39m_backward_hooks \u001b[39mor\u001b[39;00m \u001b[39mself\u001b[39m\u001b[39m.\u001b[39m_forward_hooks \u001b[39mor\u001b[39;00m \u001b[39mself\u001b[39m\u001b[39m.\u001b[39m_forward_pre_hooks \u001b[39mor\u001b[39;00m _global_backward_hooks\n\u001b[0;32m   1129\u001b[0m         \u001b[39mor\u001b[39;00m _global_forward_hooks \u001b[39mor\u001b[39;00m _global_forward_pre_hooks):\n\u001b[1;32m-> 1130\u001b[0m     \u001b[39mreturn\u001b[39;00m forward_call(\u001b[39m*\u001b[39m\u001b[39minput\u001b[39m, \u001b[39m*\u001b[39m\u001b[39m*\u001b[39mkwargs)\n\u001b[0;32m   1131\u001b[0m \u001b[39m# Do not call functions when jit is used\u001b[39;00m\n\u001b[0;32m   1132\u001b[0m full_backward_hooks, non_full_backward_hooks \u001b[39m=\u001b[39m [], []\n",
      "File \u001b[1;32md:\\Master\\Masterarbeit\\thesis\\exploration\\MiniMatrix\\../..\\thesis\\policies\\ma_gnn_routing.py:124\u001b[0m, in \u001b[0;36mGNNFeatureExtractor.forward\u001b[1;34m(self, x)\u001b[0m\n\u001b[0;32m    121\u001b[0m     graphs\u001b[39m.\u001b[39mappend(Data(node_info[i], \u001b[39mself\u001b[39m\u001b[39m.\u001b[39mbasegraph\u001b[39m.\u001b[39mpaths))\n\u001b[0;32m    122\u001b[0m batch:Batch \u001b[39m=\u001b[39m Batch\u001b[39m.\u001b[39mfrom_data_list(graphs)\n\u001b[1;32m--> 124\u001b[0m convoluted \u001b[39m=\u001b[39m \u001b[39mself\u001b[39;49m\u001b[39m.\u001b[39;49mnode_convolutions(\n\u001b[0;32m    125\u001b[0m     batch\u001b[39m.\u001b[39;49mx, batch\u001b[39m.\u001b[39;49medge_index, batch\u001b[39m.\u001b[39;49mbatch\n\u001b[0;32m    126\u001b[0m ) \u001b[39m#+ batch.x\u001b[39;00m\n\u001b[0;32m    128\u001b[0m convoluted_by_batch \u001b[39m=\u001b[39m convoluted\u001b[39m.\u001b[39mreshape(node_info\u001b[39m.\u001b[39mshape)\n\u001b[0;32m    129\u001b[0m convoluted_by_batch[:, \u001b[39m-\u001b[39m\u001b[39m1\u001b[39m] \u001b[39m=\u001b[39m \u001b[39m0\u001b[39m\n",
      "File \u001b[1;32mc:\\Users\\Wegma\\.conda\\envs\\thesis3_9\\lib\\site-packages\\torch\\nn\\modules\\module.py:1130\u001b[0m, in \u001b[0;36mModule._call_impl\u001b[1;34m(self, *input, **kwargs)\u001b[0m\n\u001b[0;32m   1126\u001b[0m \u001b[39m# If we don't have any hooks, we want to skip the rest of the logic in\u001b[39;00m\n\u001b[0;32m   1127\u001b[0m \u001b[39m# this function, and just call forward.\u001b[39;00m\n\u001b[0;32m   1128\u001b[0m \u001b[39mif\u001b[39;00m \u001b[39mnot\u001b[39;00m (\u001b[39mself\u001b[39m\u001b[39m.\u001b[39m_backward_hooks \u001b[39mor\u001b[39;00m \u001b[39mself\u001b[39m\u001b[39m.\u001b[39m_forward_hooks \u001b[39mor\u001b[39;00m \u001b[39mself\u001b[39m\u001b[39m.\u001b[39m_forward_pre_hooks \u001b[39mor\u001b[39;00m _global_backward_hooks\n\u001b[0;32m   1129\u001b[0m         \u001b[39mor\u001b[39;00m _global_forward_hooks \u001b[39mor\u001b[39;00m _global_forward_pre_hooks):\n\u001b[1;32m-> 1130\u001b[0m     \u001b[39mreturn\u001b[39;00m forward_call(\u001b[39m*\u001b[39m\u001b[39minput\u001b[39m, \u001b[39m*\u001b[39m\u001b[39m*\u001b[39mkwargs)\n\u001b[0;32m   1131\u001b[0m \u001b[39m# Do not call functions when jit is used\u001b[39;00m\n\u001b[0;32m   1132\u001b[0m full_backward_hooks, non_full_backward_hooks \u001b[39m=\u001b[39m [], []\n",
      "File \u001b[1;32m~\\AppData\\Local\\Temp\\Wegma_pyg\\tmpvu__idyr.py:20\u001b[0m, in \u001b[0;36mSequential_f439b9.forward\u001b[1;34m(self, x, edge_index, batch)\u001b[0m\n\u001b[0;32m     18\u001b[0m x \u001b[39m=\u001b[39m \u001b[39mself\u001b[39m\u001b[39m.\u001b[39mmodule_0(x, edge_index)\n\u001b[0;32m     19\u001b[0m x \u001b[39m=\u001b[39m \u001b[39mself\u001b[39m\u001b[39m.\u001b[39mmodule_1(x, batch)\n\u001b[1;32m---> 20\u001b[0m x \u001b[39m=\u001b[39m \u001b[39mself\u001b[39;49m\u001b[39m.\u001b[39;49mmodule_2(x, edge_index)\n\u001b[0;32m     21\u001b[0m x \u001b[39m=\u001b[39m \u001b[39mself\u001b[39m\u001b[39m.\u001b[39mmodule_3(x, batch)\n\u001b[0;32m     22\u001b[0m \u001b[39mreturn\u001b[39;00m x\n",
      "File \u001b[1;32mc:\\Users\\Wegma\\.conda\\envs\\thesis3_9\\lib\\site-packages\\torch\\nn\\modules\\module.py:1130\u001b[0m, in \u001b[0;36mModule._call_impl\u001b[1;34m(self, *input, **kwargs)\u001b[0m\n\u001b[0;32m   1126\u001b[0m \u001b[39m# If we don't have any hooks, we want to skip the rest of the logic in\u001b[39;00m\n\u001b[0;32m   1127\u001b[0m \u001b[39m# this function, and just call forward.\u001b[39;00m\n\u001b[0;32m   1128\u001b[0m \u001b[39mif\u001b[39;00m \u001b[39mnot\u001b[39;00m (\u001b[39mself\u001b[39m\u001b[39m.\u001b[39m_backward_hooks \u001b[39mor\u001b[39;00m \u001b[39mself\u001b[39m\u001b[39m.\u001b[39m_forward_hooks \u001b[39mor\u001b[39;00m \u001b[39mself\u001b[39m\u001b[39m.\u001b[39m_forward_pre_hooks \u001b[39mor\u001b[39;00m _global_backward_hooks\n\u001b[0;32m   1129\u001b[0m         \u001b[39mor\u001b[39;00m _global_forward_hooks \u001b[39mor\u001b[39;00m _global_forward_pre_hooks):\n\u001b[1;32m-> 1130\u001b[0m     \u001b[39mreturn\u001b[39;00m forward_call(\u001b[39m*\u001b[39m\u001b[39minput\u001b[39m, \u001b[39m*\u001b[39m\u001b[39m*\u001b[39mkwargs)\n\u001b[0;32m   1131\u001b[0m \u001b[39m# Do not call functions when jit is used\u001b[39;00m\n\u001b[0;32m   1132\u001b[0m full_backward_hooks, non_full_backward_hooks \u001b[39m=\u001b[39m [], []\n",
      "File \u001b[1;32mc:\\Users\\Wegma\\.conda\\envs\\thesis3_9\\lib\\site-packages\\torch_geometric\\nn\\conv\\gatv2_conv.py:205\u001b[0m, in \u001b[0;36mGATv2Conv.forward\u001b[1;34m(self, x, edge_index, edge_attr, return_attention_weights)\u001b[0m\n\u001b[0;32m    203\u001b[0m         x_r \u001b[39m=\u001b[39m x_l\n\u001b[0;32m    204\u001b[0m     \u001b[39melse\u001b[39;00m:\n\u001b[1;32m--> 205\u001b[0m         x_r \u001b[39m=\u001b[39m \u001b[39mself\u001b[39;49m\u001b[39m.\u001b[39;49mlin_r(x)\u001b[39m.\u001b[39mview(\u001b[39m-\u001b[39m\u001b[39m1\u001b[39m, H, C)\n\u001b[0;32m    206\u001b[0m \u001b[39melse\u001b[39;00m:\n\u001b[0;32m    207\u001b[0m     x_l, x_r \u001b[39m=\u001b[39m x[\u001b[39m0\u001b[39m], x[\u001b[39m1\u001b[39m]\n",
      "File \u001b[1;32mc:\\Users\\Wegma\\.conda\\envs\\thesis3_9\\lib\\site-packages\\torch\\nn\\modules\\module.py:1130\u001b[0m, in \u001b[0;36mModule._call_impl\u001b[1;34m(self, *input, **kwargs)\u001b[0m\n\u001b[0;32m   1126\u001b[0m \u001b[39m# If we don't have any hooks, we want to skip the rest of the logic in\u001b[39;00m\n\u001b[0;32m   1127\u001b[0m \u001b[39m# this function, and just call forward.\u001b[39;00m\n\u001b[0;32m   1128\u001b[0m \u001b[39mif\u001b[39;00m \u001b[39mnot\u001b[39;00m (\u001b[39mself\u001b[39m\u001b[39m.\u001b[39m_backward_hooks \u001b[39mor\u001b[39;00m \u001b[39mself\u001b[39m\u001b[39m.\u001b[39m_forward_hooks \u001b[39mor\u001b[39;00m \u001b[39mself\u001b[39m\u001b[39m.\u001b[39m_forward_pre_hooks \u001b[39mor\u001b[39;00m _global_backward_hooks\n\u001b[0;32m   1129\u001b[0m         \u001b[39mor\u001b[39;00m _global_forward_hooks \u001b[39mor\u001b[39;00m _global_forward_pre_hooks):\n\u001b[1;32m-> 1130\u001b[0m     \u001b[39mreturn\u001b[39;00m forward_call(\u001b[39m*\u001b[39m\u001b[39minput\u001b[39m, \u001b[39m*\u001b[39m\u001b[39m*\u001b[39mkwargs)\n\u001b[0;32m   1131\u001b[0m \u001b[39m# Do not call functions when jit is used\u001b[39;00m\n\u001b[0;32m   1132\u001b[0m full_backward_hooks, non_full_backward_hooks \u001b[39m=\u001b[39m [], []\n",
      "File \u001b[1;32mc:\\Users\\Wegma\\.conda\\envs\\thesis3_9\\lib\\site-packages\\torch_geometric\\nn\\dense\\linear.py:118\u001b[0m, in \u001b[0;36mLinear.forward\u001b[1;34m(self, x)\u001b[0m\n\u001b[0;32m    113\u001b[0m \u001b[39mdef\u001b[39;00m \u001b[39mforward\u001b[39m(\u001b[39mself\u001b[39m, x: Tensor) \u001b[39m-\u001b[39m\u001b[39m>\u001b[39m Tensor:\n\u001b[0;32m    114\u001b[0m \u001b[39m    \u001b[39m\u001b[39mr\u001b[39m\u001b[39m\"\"\"\u001b[39;00m\n\u001b[0;32m    115\u001b[0m \u001b[39m    Args:\u001b[39;00m\n\u001b[0;32m    116\u001b[0m \u001b[39m        x (Tensor): The features.\u001b[39;00m\n\u001b[0;32m    117\u001b[0m \u001b[39m    \"\"\"\u001b[39;00m\n\u001b[1;32m--> 118\u001b[0m     \u001b[39mreturn\u001b[39;00m F\u001b[39m.\u001b[39;49mlinear(x, \u001b[39mself\u001b[39;49m\u001b[39m.\u001b[39;49mweight, \u001b[39mself\u001b[39;49m\u001b[39m.\u001b[39;49mbias)\n",
      "\u001b[1;31mKeyboardInterrupt\u001b[0m: "
     ]
    }
   ],
   "source": [
    "results = {}\n",
    "for f in range(8, 22, 4):\n",
    "    chk = RewardCheck(get_env(f))\n",
    "    result_seed = {}\n",
    "    for seed in range(10):\n",
    "        chk.run(1, seed)\n",
    "        result_seed[seed] = chk.env.statistics\n",
    "    results[f] = result_seed\n",
    "    del chk\n",
    "    with open(\"../../logs/fleetsize_fin_learn_v2.json\", \"w\") as fp:\n",
    "        json.dump(results , fp) "
   ]
  },
  {
   "cell_type": "code",
   "execution_count": 4,
   "metadata": {},
   "outputs": [
    {
     "name": "stderr",
     "output_type": "stream",
     "text": [
      "c:\\Users\\Wegma\\.conda\\envs\\thesis3_9\\lib\\site-packages\\alpyne\\client\\utils.py:124: UserWarning: Unzipping to temporary directory (C:\\Users\\Wegma\\AppData\\Local\\Temp\\alpyne_61303_lmo2sfiu)\n",
      "  warn(f\"Unzipping to temporary directory ({tmp_dir})\")\n"
     ]
    }
   ],
   "source": [
    "chk = RewardCheck(get_env(4))"
   ]
  },
  {
   "cell_type": "code",
   "execution_count": 5,
   "metadata": {},
   "outputs": [
    {
     "name": "stdout",
     "output_type": "stream",
     "text": [
      "AGENT 1000 --- STEP 142 --- REWARD 5.840000000000003\n"
     ]
    },
    {
     "data": {
      "image/png": "[encoded data removed]",
      "text/plain": [
       "<PIL.Image.Image image mode=RGB size=410x210>"
      ]
     },
     "metadata": {},
     "output_type": "display_data"
    },
    {
     "name": "stdout",
     "output_type": "stream",
     "text": [
      "15-(1.0, 0.07228915662650602)\n",
      "\n",
      "21-(0.8582677165354331, 0.18072289156626506)\n",
      "\n",
      "22-(0.8582677165354331, 0.24096385542168675)\n",
      "\n",
      "23-(0.8582677165354331, 0.30120481927710846)\n",
      "\n",
      "24-(0.8582677165354331, 0.3614457831325301)\n",
      "\n",
      "25-(0.8582677165354331, 0.42168674698795183)\n",
      "\n",
      "26-(0.14173228346456693, 0.08433734939759036)\n",
      "\n",
      "None\n"
     ]
    },
    {
     "ename": "ValueError",
     "evalue": "invalid literal for int() with base 10: ''",
     "output_type": "error",
     "traceback": [
      "\u001b[1;31m---------------------------------------------------------------------------\u001b[0m",
      "\u001b[1;31mValueError\u001b[0m                                Traceback (most recent call last)",
      "Cell \u001b[1;32mIn[5], line 1\u001b[0m\n\u001b[1;32m----> 1\u001b[0m chk\u001b[39m.\u001b[39;49mrun(\u001b[39m1\u001b[39;49m, \u001b[39m42\u001b[39;49m,manual_agents\u001b[39m=\u001b[39;49m[\u001b[39m\"\u001b[39;49m\u001b[39m1000\u001b[39;49m\u001b[39m\"\u001b[39;49m], dispatch_mode\u001b[39m=\u001b[39;49m\u001b[39mTrue\u001b[39;49;00m)\n",
      "File \u001b[1;32md:\\Master\\Masterarbeit\\thesis\\exploration\\MiniMatrix\\../..\\thesis\\utils\\env_checker.py:84\u001b[0m, in \u001b[0;36mRewardCheck.run\u001b[1;34m(self, n_episodes, seed, reset, manual_agents, dispatch_mode, max_action)\u001b[0m\n\u001b[0;32m     82\u001b[0m         \u001b[39mprint\u001b[39m(MatrixPart()\u001b[39m.\u001b[39mtranslate(di))\n\u001b[0;32m     83\u001b[0m     time\u001b[39m.\u001b[39msleep(\u001b[39m1\u001b[39m)\n\u001b[1;32m---> 84\u001b[0m     action \u001b[39m=\u001b[39m [\u001b[39mint\u001b[39;49m(\u001b[39minput\u001b[39;49m(\u001b[39m\"\u001b[39;49m\u001b[39mACTION\u001b[39;49m\u001b[39m\"\u001b[39;49m))] \n\u001b[0;32m     85\u001b[0m \u001b[39melse\u001b[39;00m:\n\u001b[0;32m     86\u001b[0m     \u001b[39mwhile\u001b[39;00m \u001b[39mTrue\u001b[39;00m:\n",
      "\u001b[1;31mValueError\u001b[0m: invalid literal for int() with base 10: ''"
     ]
    }
   ],
   "source": [
    "chk.run(1, 42,manual_agents=[\"1000\"], dispatch_mode=True)"
   ]
  },
  {
   "cell_type": "code",
   "execution_count": 6,
   "metadata": {},
   "outputs": [
    {
     "data": {
      "text/plain": [
       "{'block': 2.0,\n",
       " 'targetReached': 140.0,\n",
       " 'wrongTarget': 6.0,\n",
       " 'jobDone': 1.0,\n",
       " 'notArrived': 5.0,\n",
       " 'dispatch': 143.0,\n",
       " 'newPart': 3.0,\n",
       " 'taken_invalid': 314.0,\n",
       " 'passed': 14.0,\n",
       " '_blocksec_agv1': 11.000000000000007,\n",
       " '_jobdur_hgeo1': 70.0,\n",
       " '_jobnum_hgeo1': 1.0,\n",
       " '_jobdur_vgeo1': 140.0,\n",
       " '_jobnum_vgeo1': 2.0,\n",
       " '_njobs_agv0': 14.0,\n",
       " '_blocksec_agv3': 1.5,\n",
       " '_jobdur_wps_1': 81.375,\n",
       " '_jobnum_wps_1': 3.0,\n",
       " '_jobdur_hsn2_2': 58.5,\n",
       " '_jobnum_hsn2_2': 2.0,\n",
       " '_blocksec_agv2': 4.5,\n",
       " '_jobdur_vgeo2': 70.0,\n",
       " '_jobnum_vgeo2': 1.0,\n",
       " '_jobdur_vgeo3': 70.0,\n",
       " '_jobnum_vgeo3': 1.0,\n",
       " '_jobdur_vgeo4': 70.0,\n",
       " '_jobnum_vgeo4': 1.0,\n",
       " '_jobdur_fls_2': 9.0,\n",
       " '_jobnum_fls_2': 1.0,\n",
       " '_jobdur_hsn1_1': 15.125,\n",
       " '_jobnum_hsn1_1': 1.0,\n",
       " '_jobdur_impact': 15.0,\n",
       " '_jobnum_impact': 1.0,\n",
       " '_jobdur_vgeo5': 70.0,\n",
       " '_jobnum_vgeo5': 1.0,\n",
       " '_jobdur_fls_1': 9.0,\n",
       " '_jobnum_fls_1': 1.0,\n",
       " '_jobdur_vgeo6': 70.0,\n",
       " '_jobnum_vgeo6': 1.0,\n",
       " 'run_time': 1413.5,\n",
       " 'liveLock': 2.0,\n",
       " 'fleetsize': 4}"
      ]
     },
     "execution_count": 6,
     "metadata": {},
     "output_type": "execute_result"
    }
   ],
   "source": [
    "chk.env.statistics #pseudo"
   ]
  },
  {
   "cell_type": "code",
   "execution_count": 6,
   "metadata": {},
   "outputs": [
    {
     "data": {
      "text/plain": [
       "{'block': 8.0,\n",
       " 'targetReached': 142.0,\n",
       " 'wrongTarget': 6.0,\n",
       " 'jobDone': 2.0,\n",
       " 'dispatch': 232.0,\n",
       " 'newPart': 11.0,\n",
       " 'taken_invalid': 4616.0,\n",
       " 'passed': 1788.0,\n",
       " '_blocksec_agv8': 70.5,\n",
       " '_blocksec_agv3': 1.0,\n",
       " '_blocksec_agv6': 84.5,\n",
       " 'liveLock': 68.0,\n",
       " '_blocksec_agv10': 74.5,\n",
       " '_blocksec_agv0': 287.0,\n",
       " '_blocksec_agv7': 2.5,\n",
       " '_jobdur_hgeo1': 140.0,\n",
       " '_jobnum_hgeo1': 2.0,\n",
       " '_jobdur_vgeo1': 630.0,\n",
       " '_jobnum_vgeo1': 9.0,\n",
       " '_njobs_agv0': 22.0,\n",
       " '_blocksec_agv4': 779.5000000000001,\n",
       " '_jobdur_vgeo2': 560.0,\n",
       " '_jobnum_vgeo2': 8.0,\n",
       " '_njobs_agv2': 21.0,\n",
       " '_jobdur_hsn2_2': 292.5,\n",
       " '_jobnum_hsn2_2': 10.0,\n",
       " '_njobs_agv6': 10.0,\n",
       " '_jobdur_rework': 0.0,\n",
       " '_jobnum_rework': 5.0,\n",
       " '_njobs_agv4': 10.0,\n",
       " '_jobdur_wps_1': 198.625,\n",
       " '_jobnum_wps_1': 8.0,\n",
       " '_njobs_agv8': 6.0,\n",
       " '_jobdur_wps_3': 147.875,\n",
       " '_jobnum_wps_3': 6.0,\n",
       " '_jobdur_vgeo3': 560.0,\n",
       " '_jobnum_vgeo3': 8.0,\n",
       " '_njobs_agv10': 5.0,\n",
       " '_jobdur_vgeo4': 560.0,\n",
       " '_jobnum_vgeo4': 8.0,\n",
       " '_jobdur_fls_2': 63.0,\n",
       " '_jobnum_fls_2': 7.0,\n",
       " '_blocksec_agv2': 113.0,\n",
       " '_jobdur_hsn1_1': 60.5,\n",
       " '_jobnum_hsn1_1': 4.0,\n",
       " '_jobdur_impact': 60.0,\n",
       " '_jobnum_impact': 4.0,\n",
       " '_jobdur_vgeo5': 280.0,\n",
       " '_jobnum_vgeo5': 4.0,\n",
       " '_jobdur_vgeo6': 140.0,\n",
       " '_jobnum_vgeo6': 2.0,\n",
       " 'run_time': 3237.0,\n",
       " 'fleetsize': 12}"
      ]
     },
     "execution_count": 6,
     "metadata": {},
     "output_type": "execute_result"
    }
   ],
   "source": [
    "env.statistics #trained"
   ]
  },
  {
   "cell_type": "code",
   "execution_count": 7,
   "metadata": {},
   "outputs": [
    {
     "data": {
      "text/plain": [
       "{'block': 18.0,\n",
       " 'targetReached': 390.0,\n",
       " 'wrongTarget': 1.0,\n",
       " 'jobDone': 9.0,\n",
       " 'dispatch': 394.0,\n",
       " 'newPart': 19.0,\n",
       " '_blocksec_agv5': 431.5,\n",
       " '_blocksec_agv7': 948.5,\n",
       " '_blocksec_agv3': 820.0,\n",
       " 'passed': 7.0,\n",
       " 'taken_invalid': 70.0,\n",
       " '_blocksec_agv0': 461.5,\n",
       " '_jobdur_hgeo1': 630.0,\n",
       " '_jobnum_hgeo1': 9.0,\n",
       " '_jobdur_vgeo1': 700.0,\n",
       " '_jobnum_vgeo1': 10.0,\n",
       " 'liveLock': 52.0,\n",
       " '_njobs_agv2': 31.0,\n",
       " '_jobdur_hsn2_2': 497.25,\n",
       " '_jobnum_hsn2_2': 17.0,\n",
       " '_njobs_agv6': 27.0,\n",
       " '_njobs_agv4': 22.0,\n",
       " '_jobdur_vgeo2': 630.0,\n",
       " '_jobnum_vgeo2': 9.0,\n",
       " '_blocksec_agv2': 335.0,\n",
       " '_blocksec_agv1': 963.0,\n",
       " '_njobs_agv0': 22.0,\n",
       " '_jobdur_hsn1_2': 589.875,\n",
       " '_jobnum_hsn1_2': 22.0,\n",
       " '_blocksec_agv6': 298.0,\n",
       " '_blocksec_agv4': 262.5,\n",
       " '_jobdur_vgeo3': 560.0,\n",
       " '_jobnum_vgeo3': 8.0,\n",
       " '_jobdur_wps_1': 467.25,\n",
       " '_jobnum_wps_1': 15.0,\n",
       " '_njobs_agv5': 21.0,\n",
       " '_jobdur_fls_1': 288.0,\n",
       " '_jobnum_fls_1': 22.0,\n",
       " '_njobs_agv3': 18.0,\n",
       " '_njobs_agv1': 20.0,\n",
       " '_njobs_agv7': 20.0,\n",
       " '_jobdur_vgeo4': 560.0,\n",
       " '_jobnum_vgeo4': 8.0,\n",
       " '_jobdur_impact': 129.0,\n",
       " '_jobnum_impact': 10.0,\n",
       " '_jobdur_hgeo2': 560.0,\n",
       " '_jobnum_hgeo2': 8.0,\n",
       " '_jobdur_rework': 0.0,\n",
       " '_jobnum_rework': 6.0,\n",
       " '_jobdur_vgeo5': 420.0,\n",
       " '_jobnum_vgeo5': 6.0,\n",
       " '_jobdur_wps_2': 499.625,\n",
       " '_jobnum_wps_2': 19.0,\n",
       " '_jobdur_hgeo3': 560.0,\n",
       " '_jobnum_hgeo3': 8.0,\n",
       " '_jobdur_hsn2_1': 234.0,\n",
       " '_jobnum_hsn2_1': 6.0,\n",
       " '_jobdur_vgeo6': 350.0,\n",
       " '_jobnum_vgeo6': 5.0,\n",
       " 'run_time': 11926.0,\n",
       " '_jobdur_hgeo4': 280.0,\n",
       " '_jobnum_hgeo4': 4.0,\n",
       " '_jobdur_hgeo5': 280.0,\n",
       " '_jobnum_hgeo5': 4.0,\n",
       " '_jobdur_wps_3': 15.75,\n",
       " '_jobnum_wps_3': 1.0,\n",
       " 'fleetsize': 8}"
      ]
     },
     "execution_count": 7,
     "metadata": {},
     "output_type": "execute_result"
    }
   ],
   "source": [
    "env.statistics #trained full"
   ]
  },
  {
   "cell_type": "code",
   "execution_count": null,
   "metadata": {},
   "outputs": [],
   "source": [
    "#env.statistics"
   ]
  },
  {
   "cell_type": "code",
   "execution_count": null,
   "metadata": {},
   "outputs": [],
   "source": [
    "#chk.replay(\"0\")"
   ]
  },
  {
   "cell_type": "code",
   "execution_count": null,
   "metadata": {},
   "outputs": [],
   "source": [
    "#env.observations[\"1000\"]"
   ]
  },
  {
   "cell_type": "code",
   "execution_count": null,
   "metadata": {},
   "outputs": [],
   "source": [
    "# import numpy as np\n",
    "# np.array([\"Hi\",2,3])[[True, False, True]]"
   ]
  },
  {
   "cell_type": "code",
   "execution_count": null,
   "metadata": {},
   "outputs": [
    {
     "ename": "NameError",
     "evalue": "name 'vgeo1' is not defined",
     "output_type": "error",
     "traceback": [
      "\u001b[1;31m---------------------------------------------------------------------------\u001b[0m",
      "\u001b[1;31mNameError\u001b[0m                                 Traceback (most recent call last)",
      "Cell \u001b[1;32mIn[13], line 1\u001b[0m\n\u001b[1;32m----> 1\u001b[0m vgeo1\n\u001b[0;32m      2\u001b[0m vgeo2\n\u001b[0;32m      3\u001b[0m vgeo3\n",
      "\u001b[1;31mNameError\u001b[0m: name 'vgeo1' is not defined"
     ]
    }
   ],
   "source": [
    "vgeo1\n",
    "vgeo2\n",
    "vgeo3\n",
    "vgeo4\n",
    "vgeo5\n",
    "vgeo6\n",
    "hgeo1\n",
    "hgeo2\n",
    "hgeo3\n",
    "hgeo4\n",
    "hgeo5"
   ]
  },
  {
   "cell_type": "code",
   "execution_count": null,
   "metadata": {},
   "outputs": [
    {
     "data": {
      "text/plain": [
       "OrderedDict([(4, (0.15384615384615385, 0.5229357798165137)),\n",
       "             (9, (0.15384615384615385, 0.3486238532110092)),\n",
       "             (14, (0.2875739644970414, 0.6146788990825688)),\n",
       "             (19, (0.4, 0.44036697247706424)),\n",
       "             (24, (0.5183431952662721, 0.6146788990825688)),\n",
       "             (29, (0.6366863905325444, 0.44036697247706424)),\n",
       "             (34, (0.7550295857988165, 0.6146788990825688)),\n",
       "             (39, (0.8733727810650888, 0.6146788990825688)),\n",
       "             (40, (0.7550295857988165, 0.44036697247706424)),\n",
       "             (41, (0.6366863905325444, 0.6146788990825688)),\n",
       "             (42, (0.5183431952662721, 0.44036697247706424)),\n",
       "             (43, (0.4, 0.6146788990825688)),\n",
       "             (44, (0.2875739644970414, 0.44036697247706424)),\n",
       "             (49, (0.15384615384615385, 0.7064220183486238)),\n",
       "             (54, (0.15384615384615385, 0.8899082568807339)),\n",
       "             (59, (0.15384615384615385, 0.1559633027522936)),\n",
       "             (76, (1.0, 0.08256880733944955)),\n",
       "             (77, (1.0, 0.25137614678899084)),\n",
       "             (78, (1.0, 0.44403669724770645)),\n",
       "             (83, (1.0, 0.6275229357798165)),\n",
       "             (92, (1.0, 0.8110091743119267)),\n",
       "             (93, (1.0, 0.9761467889908257)),\n",
       "             (104, (0.8698224852071006, 0.25688073394495414)),\n",
       "             (105, (0.8698224852071006, 0.30275229357798167)),\n",
       "             (106, (0.8698224852071006, 0.3486238532110092)),\n",
       "             (107, (0.8698224852071006, 0.3944954128440367)),\n",
       "             (108, (0.8698224852071006, 0.44036697247706424))])"
      ]
     },
     "execution_count": 9,
     "metadata": {},
     "output_type": "execute_result"
    }
   ],
   "source": [
    "env.agent_hive.stations"
   ]
  },
  {
   "cell_type": "code",
   "execution_count": null,
   "metadata": {},
   "outputs": [
    {
     "name": "stdout",
     "output_type": "stream",
     "text": [
      "AGENT 1000 --- STEP 1 --- ACTION [4, 4, 5, 2, 4, 4, 1, 5, 5, 3] --- REWARD -5.0\n"
     ]
    },
    {
     "data": {
      "image/png": "[encoded data removed]",
      "text/plain": [
       "<PIL.Image.Image image mode=RGB size=410x210>"
      ]
     },
     "metadata": {},
     "output_type": "display_data"
    }
   ],
   "source": [
    "chk.replay(\"1000\")"
   ]
  },
  {
   "cell_type": "code",
   "execution_count": null,
   "metadata": {},
   "outputs": [
    {
     "ename": "KeyboardInterrupt",
     "evalue": "",
     "output_type": "error",
     "traceback": [
      "\u001b[1;31m---------------------------------------------------------------------------\u001b[0m",
      "\u001b[1;31mKeyboardInterrupt\u001b[0m                         Traceback (most recent call last)",
      "Cell \u001b[1;32mIn [7], line 1\u001b[0m\n\u001b[1;32m----> 1\u001b[0m chk\u001b[39m.\u001b[39;49mplot(\u001b[39m\"\u001b[39;49m\u001b[39m0\u001b[39;49m\u001b[39m\"\u001b[39;49m)\n",
      "File \u001b[1;32md:\\Master\\Masterarbeit\\thesis\\exploration\\MiniMatrix\\../..\\thesis\\utils\\env_checker.py:205\u001b[0m, in \u001b[0;36mRewardCheck.plot\u001b[1;34m(self, agent)\u001b[0m\n\u001b[0;32m    178\u001b[0m             data\u001b[39m.\u001b[39mappend(\n\u001b[0;32m    179\u001b[0m                 [\n\u001b[0;32m    180\u001b[0m                     i,\n\u001b[1;32m   (...)\u001b[0m\n\u001b[0;32m    189\u001b[0m                 ]\n\u001b[0;32m    190\u001b[0m             )\n\u001b[0;32m    191\u001b[0m df \u001b[39m=\u001b[39m pd\u001b[39m.\u001b[39mDataFrame(\n\u001b[0;32m    192\u001b[0m     data,\n\u001b[0;32m    193\u001b[0m     columns\u001b[39m=\u001b[39m[\n\u001b[1;32m   (...)\u001b[0m\n\u001b[0;32m    203\u001b[0m     ],\n\u001b[0;32m    204\u001b[0m )\n\u001b[1;32m--> 205\u001b[0m fig \u001b[39m=\u001b[39m px\u001b[39m.\u001b[39;49mline(\n\u001b[0;32m    206\u001b[0m     df,\n\u001b[0;32m    207\u001b[0m     \u001b[39m\"\u001b[39;49m\u001b[39mx\u001b[39;49m\u001b[39m\"\u001b[39;49m,\n\u001b[0;32m    208\u001b[0m     \u001b[39m\"\u001b[39;49m\u001b[39my\u001b[39;49m\u001b[39m\"\u001b[39;49m,\n\u001b[0;32m    209\u001b[0m     animation_frame\u001b[39m=\u001b[39;49m\u001b[39m\"\u001b[39;49m\u001b[39mstep\u001b[39;49m\u001b[39m\"\u001b[39;49m,\n\u001b[0;32m    210\u001b[0m     line_group\u001b[39m=\u001b[39;49m\u001b[39m\"\u001b[39;49m\u001b[39mname\u001b[39;49m\u001b[39m\"\u001b[39;49m,\n\u001b[0;32m    211\u001b[0m     color\u001b[39m=\u001b[39;49m\u001b[39m\"\u001b[39;49m\u001b[39mmain\u001b[39;49m\u001b[39m\"\u001b[39;49m,\n\u001b[0;32m    212\u001b[0m     symbol\u001b[39m=\u001b[39;49m\u001b[39m\"\u001b[39;49m\u001b[39mtype\u001b[39;49m\u001b[39m\"\u001b[39;49m,\n\u001b[0;32m    213\u001b[0m     hover_name\u001b[39m=\u001b[39;49m\u001b[39m\"\u001b[39;49m\u001b[39mtext\u001b[39;49m\u001b[39m\"\u001b[39;49m,\n\u001b[0;32m    214\u001b[0m     range_x\u001b[39m=\u001b[39;49m[\u001b[39m0\u001b[39;49m, \u001b[39m1.1\u001b[39;49m],\n\u001b[0;32m    215\u001b[0m     range_y\u001b[39m=\u001b[39;49m[\u001b[39m1.1\u001b[39;49m, \u001b[39m0\u001b[39;49m],\n\u001b[0;32m    216\u001b[0m     height\u001b[39m=\u001b[39;49m\u001b[39m600\u001b[39;49m,\n\u001b[0;32m    217\u001b[0m     width\u001b[39m=\u001b[39;49m\u001b[39m1000\u001b[39;49m,\n\u001b[0;32m    218\u001b[0m )\n\u001b[0;32m    219\u001b[0m fig\u001b[39m.\u001b[39mshow()\n",
      "File \u001b[1;32mc:\\Users\\Wegma\\.conda\\envs\\thesis3_9\\lib\\site-packages\\plotly\\express\\_chart_types.py:264\u001b[0m, in \u001b[0;36mline\u001b[1;34m(data_frame, x, y, line_group, color, line_dash, symbol, hover_name, hover_data, custom_data, text, facet_row, facet_col, facet_col_wrap, facet_row_spacing, facet_col_spacing, error_x, error_x_minus, error_y, error_y_minus, animation_frame, animation_group, category_orders, labels, orientation, color_discrete_sequence, color_discrete_map, line_dash_sequence, line_dash_map, symbol_sequence, symbol_map, markers, log_x, log_y, range_x, range_y, line_shape, render_mode, title, template, width, height)\u001b[0m\n\u001b[0;32m    216\u001b[0m \u001b[39mdef\u001b[39;00m \u001b[39mline\u001b[39m(\n\u001b[0;32m    217\u001b[0m     data_frame\u001b[39m=\u001b[39m\u001b[39mNone\u001b[39;00m,\n\u001b[0;32m    218\u001b[0m     x\u001b[39m=\u001b[39m\u001b[39mNone\u001b[39;00m,\n\u001b[1;32m   (...)\u001b[0m\n\u001b[0;32m    258\u001b[0m     height\u001b[39m=\u001b[39m\u001b[39mNone\u001b[39;00m,\n\u001b[0;32m    259\u001b[0m ) \u001b[39m-\u001b[39m\u001b[39m>\u001b[39m go\u001b[39m.\u001b[39mFigure:\n\u001b[0;32m    260\u001b[0m     \u001b[39m\"\"\"\u001b[39;00m\n\u001b[0;32m    261\u001b[0m \u001b[39m    In a 2D line plot, each row of `data_frame` is represented as vertex of\u001b[39;00m\n\u001b[0;32m    262\u001b[0m \u001b[39m    a polyline mark in 2D space.\u001b[39;00m\n\u001b[0;32m    263\u001b[0m \u001b[39m    \"\"\"\u001b[39;00m\n\u001b[1;32m--> 264\u001b[0m     \u001b[39mreturn\u001b[39;00m make_figure(args\u001b[39m=\u001b[39;49m\u001b[39mlocals\u001b[39;49m(), constructor\u001b[39m=\u001b[39;49mgo\u001b[39m.\u001b[39;49mScatter)\n",
      "File \u001b[1;32mc:\\Users\\Wegma\\.conda\\envs\\thesis3_9\\lib\\site-packages\\plotly\\express\\_core.py:2252\u001b[0m, in \u001b[0;36mmake_figure\u001b[1;34m(args, constructor, trace_patch, layout_patch)\u001b[0m\n\u001b[0;32m   2250\u001b[0m \u001b[39mfor\u001b[39;00m f \u001b[39min\u001b[39;00m frame_list:\n\u001b[0;32m   2251\u001b[0m     f[\u001b[39m\"\u001b[39m\u001b[39mname\u001b[39m\u001b[39m\"\u001b[39m] \u001b[39m=\u001b[39m \u001b[39mstr\u001b[39m(f[\u001b[39m\"\u001b[39m\u001b[39mname\u001b[39m\u001b[39m\"\u001b[39m])\n\u001b[1;32m-> 2252\u001b[0m fig\u001b[39m.\u001b[39;49mframes \u001b[39m=\u001b[39m frame_list \u001b[39mif\u001b[39;00m \u001b[39mlen\u001b[39m(frames) \u001b[39m>\u001b[39m \u001b[39m1\u001b[39m \u001b[39melse\u001b[39;00m []\n\u001b[0;32m   2254\u001b[0m \u001b[39mif\u001b[39;00m args\u001b[39m.\u001b[39mget(\u001b[39m\"\u001b[39m\u001b[39mtrendline\u001b[39m\u001b[39m\"\u001b[39m) \u001b[39mand\u001b[39;00m args\u001b[39m.\u001b[39mget(\u001b[39m\"\u001b[39m\u001b[39mtrendline_scope\u001b[39m\u001b[39m\"\u001b[39m, \u001b[39m\"\u001b[39m\u001b[39mtrace\u001b[39m\u001b[39m\"\u001b[39m) \u001b[39m==\u001b[39m \u001b[39m\"\u001b[39m\u001b[39moverall\u001b[39m\u001b[39m\"\u001b[39m:\n\u001b[0;32m   2255\u001b[0m     trendline_spec \u001b[39m=\u001b[39m make_trendline_spec(args, constructor)\n",
      "File \u001b[1;32mc:\\Users\\Wegma\\.conda\\envs\\thesis3_9\\lib\\site-packages\\plotly\\basedatatypes.py:719\u001b[0m, in \u001b[0;36mBaseFigure.__setattr__\u001b[1;34m(self, prop, value)\u001b[0m\n\u001b[0;32m    706\u001b[0m \u001b[39m\"\"\"\u001b[39;00m\n\u001b[0;32m    707\u001b[0m \u001b[39mParameters\u001b[39;00m\n\u001b[0;32m    708\u001b[0m \u001b[39m----------\u001b[39;00m\n\u001b[1;32m   (...)\u001b[0m\n\u001b[0;32m    715\u001b[0m \u001b[39mNone\u001b[39;00m\n\u001b[0;32m    716\u001b[0m \u001b[39m\"\"\"\u001b[39;00m\n\u001b[0;32m    717\u001b[0m \u001b[39mif\u001b[39;00m prop\u001b[39m.\u001b[39mstartswith(\u001b[39m\"\u001b[39m\u001b[39m_\u001b[39m\u001b[39m\"\u001b[39m) \u001b[39mor\u001b[39;00m \u001b[39mhasattr\u001b[39m(\u001b[39mself\u001b[39m, prop):\n\u001b[0;32m    718\u001b[0m     \u001b[39m# Let known properties and private properties through\u001b[39;00m\n\u001b[1;32m--> 719\u001b[0m     \u001b[39msuper\u001b[39;49m(BaseFigure, \u001b[39mself\u001b[39;49m)\u001b[39m.\u001b[39;49m\u001b[39m__setattr__\u001b[39;49m(prop, value)\n\u001b[0;32m    720\u001b[0m \u001b[39melse\u001b[39;00m:\n\u001b[0;32m    721\u001b[0m     \u001b[39m# Raise error on unknown public properties\u001b[39;00m\n\u001b[0;32m    722\u001b[0m     \u001b[39mraise\u001b[39;00m \u001b[39mAttributeError\u001b[39;00m(prop)\n",
      "File \u001b[1;32mc:\\Users\\Wegma\\.conda\\envs\\thesis3_9\\lib\\site-packages\\plotly\\basedatatypes.py:2855\u001b[0m, in \u001b[0;36mBaseFigure.frames\u001b[1;34m(self, new_frames)\u001b[0m\n\u001b[0;32m   2848\u001b[0m \u001b[39m@frames\u001b[39m\u001b[39m.\u001b[39msetter\n\u001b[0;32m   2849\u001b[0m \u001b[39mdef\u001b[39;00m \u001b[39mframes\u001b[39m(\u001b[39mself\u001b[39m, new_frames):\n\u001b[0;32m   2850\u001b[0m     \u001b[39m# Note: Frames are not supported by the FigureWidget subclass so we\u001b[39;00m\n\u001b[1;32m   (...)\u001b[0m\n\u001b[0;32m   2853\u001b[0m \n\u001b[0;32m   2854\u001b[0m     \u001b[39m# Validate frames\u001b[39;00m\n\u001b[1;32m-> 2855\u001b[0m     \u001b[39mself\u001b[39m\u001b[39m.\u001b[39m_frame_objs \u001b[39m=\u001b[39m \u001b[39mself\u001b[39;49m\u001b[39m.\u001b[39;49m_frames_validator\u001b[39m.\u001b[39;49mvalidate_coerce(new_frames)\n",
      "File \u001b[1;32mc:\\Users\\Wegma\\.conda\\envs\\thesis3_9\\lib\\site-packages\\_plotly_utils\\basevalidators.py:2547\u001b[0m, in \u001b[0;36mCompoundArrayValidator.validate_coerce\u001b[1;34m(self, v, skip_invalid)\u001b[0m\n\u001b[0;32m   2545\u001b[0m     res\u001b[39m.\u001b[39mappend(\u001b[39mself\u001b[39m\u001b[39m.\u001b[39mdata_class(v_el))\n\u001b[0;32m   2546\u001b[0m \u001b[39melif\u001b[39;00m \u001b[39misinstance\u001b[39m(v_el, \u001b[39mdict\u001b[39m):\n\u001b[1;32m-> 2547\u001b[0m     res\u001b[39m.\u001b[39mappend(\u001b[39mself\u001b[39;49m\u001b[39m.\u001b[39;49mdata_class(v_el, skip_invalid\u001b[39m=\u001b[39;49mskip_invalid))\n\u001b[0;32m   2548\u001b[0m \u001b[39melse\u001b[39;00m:\n\u001b[0;32m   2549\u001b[0m     \u001b[39mif\u001b[39;00m skip_invalid:\n",
      "File \u001b[1;32mc:\\Users\\Wegma\\.conda\\envs\\thesis3_9\\lib\\site-packages\\plotly\\graph_objs\\_frame.py:243\u001b[0m, in \u001b[0;36mFrame.__init__\u001b[1;34m(self, arg, baseframe, data, group, layout, name, traces, **kwargs)\u001b[0m\n\u001b[0;32m    241\u001b[0m _v \u001b[39m=\u001b[39m data \u001b[39mif\u001b[39;00m data \u001b[39mis\u001b[39;00m \u001b[39mnot\u001b[39;00m \u001b[39mNone\u001b[39;00m \u001b[39melse\u001b[39;00m _v\n\u001b[0;32m    242\u001b[0m \u001b[39mif\u001b[39;00m _v \u001b[39mis\u001b[39;00m \u001b[39mnot\u001b[39;00m \u001b[39mNone\u001b[39;00m:\n\u001b[1;32m--> 243\u001b[0m     \u001b[39mself\u001b[39;49m[\u001b[39m\"\u001b[39;49m\u001b[39mdata\u001b[39;49m\u001b[39m\"\u001b[39;49m] \u001b[39m=\u001b[39m _v\n\u001b[0;32m    244\u001b[0m _v \u001b[39m=\u001b[39m arg\u001b[39m.\u001b[39mpop(\u001b[39m\"\u001b[39m\u001b[39mgroup\u001b[39m\u001b[39m\"\u001b[39m, \u001b[39mNone\u001b[39;00m)\n\u001b[0;32m    245\u001b[0m _v \u001b[39m=\u001b[39m group \u001b[39mif\u001b[39;00m group \u001b[39mis\u001b[39;00m \u001b[39mnot\u001b[39;00m \u001b[39mNone\u001b[39;00m \u001b[39melse\u001b[39;00m _v\n",
      "File \u001b[1;32mc:\\Users\\Wegma\\.conda\\envs\\thesis3_9\\lib\\site-packages\\plotly\\basedatatypes.py:4855\u001b[0m, in \u001b[0;36mBasePlotlyType.__setitem__\u001b[1;34m(self, prop, value)\u001b[0m\n\u001b[0;32m   4853\u001b[0m \u001b[39m# ### Handle compound array property ###\u001b[39;00m\n\u001b[0;32m   4854\u001b[0m \u001b[39melif\u001b[39;00m \u001b[39misinstance\u001b[39m(validator, (CompoundArrayValidator, BaseDataValidator)):\n\u001b[1;32m-> 4855\u001b[0m     \u001b[39mself\u001b[39;49m\u001b[39m.\u001b[39;49m_set_array_prop(prop, value)\n\u001b[0;32m   4857\u001b[0m \u001b[39m# ### Handle simple property ###\u001b[39;00m\n\u001b[0;32m   4858\u001b[0m \u001b[39melse\u001b[39;00m:\n\u001b[0;32m   4859\u001b[0m     \u001b[39mself\u001b[39m\u001b[39m.\u001b[39m_set_prop(prop, value)\n",
      "File \u001b[1;32mc:\\Users\\Wegma\\.conda\\envs\\thesis3_9\\lib\\site-packages\\plotly\\basedatatypes.py:5336\u001b[0m, in \u001b[0;36mBasePlotlyType._set_array_prop\u001b[1;34m(self, prop, val)\u001b[0m\n\u001b[0;32m   5333\u001b[0m \u001b[39m# Import value\u001b[39;00m\n\u001b[0;32m   5334\u001b[0m \u001b[39m# ------------\u001b[39;00m\n\u001b[0;32m   5335\u001b[0m validator \u001b[39m=\u001b[39m \u001b[39mself\u001b[39m\u001b[39m.\u001b[39m_get_validator(prop)\n\u001b[1;32m-> 5336\u001b[0m val \u001b[39m=\u001b[39m validator\u001b[39m.\u001b[39;49mvalidate_coerce(val, skip_invalid\u001b[39m=\u001b[39;49m\u001b[39mself\u001b[39;49m\u001b[39m.\u001b[39;49m_skip_invalid)\n\u001b[0;32m   5338\u001b[0m \u001b[39m# Save deep copies of current and new states\u001b[39;00m\n\u001b[0;32m   5339\u001b[0m \u001b[39m# ------------------------------------------\u001b[39;00m\n\u001b[0;32m   5340\u001b[0m curr_val \u001b[39m=\u001b[39m \u001b[39mself\u001b[39m\u001b[39m.\u001b[39m_compound_array_props\u001b[39m.\u001b[39mget(prop, \u001b[39mNone\u001b[39;00m)\n",
      "File \u001b[1;32mc:\\Users\\Wegma\\.conda\\envs\\thesis3_9\\lib\\site-packages\\_plotly_utils\\basevalidators.py:2668\u001b[0m, in \u001b[0;36mBaseDataValidator.validate_coerce\u001b[1;34m(self, v, skip_invalid, _validate)\u001b[0m\n\u001b[0;32m   2666\u001b[0m             invalid_els\u001b[39m.\u001b[39mappend(v_el)\n\u001b[0;32m   2667\u001b[0m     \u001b[39melse\u001b[39;00m:\n\u001b[1;32m-> 2668\u001b[0m         trace \u001b[39m=\u001b[39m \u001b[39mself\u001b[39m\u001b[39m.\u001b[39mget_trace_class(trace_type)(\n\u001b[0;32m   2669\u001b[0m             skip_invalid\u001b[39m=\u001b[39mskip_invalid, _validate\u001b[39m=\u001b[39m_validate, \u001b[39m*\u001b[39m\u001b[39m*\u001b[39mv_copy\n\u001b[0;32m   2670\u001b[0m         )\n\u001b[0;32m   2671\u001b[0m         res\u001b[39m.\u001b[39mappend(trace)\n\u001b[0;32m   2672\u001b[0m \u001b[39melse\u001b[39;00m:\n",
      "File \u001b[1;32mc:\\Users\\Wegma\\.conda\\envs\\thesis3_9\\lib\\site-packages\\plotly\\graph_objs\\_scatter.py:3354\u001b[0m, in \u001b[0;36mScatter.__init__\u001b[1;34m(self, arg, cliponaxis, connectgaps, customdata, customdatasrc, dx, dy, error_x, error_y, fill, fillcolor, fillpattern, groupnorm, hoverinfo, hoverinfosrc, hoverlabel, hoveron, hovertemplate, hovertemplatesrc, hovertext, hovertextsrc, ids, idssrc, legendgroup, legendgrouptitle, legendrank, legendwidth, line, marker, meta, metasrc, mode, name, opacity, orientation, selected, selectedpoints, showlegend, stackgaps, stackgroup, stream, text, textfont, textposition, textpositionsrc, textsrc, texttemplate, texttemplatesrc, uid, uirevision, unselected, visible, x, x0, xaxis, xcalendar, xhoverformat, xperiod, xperiod0, xperiodalignment, xsrc, y, y0, yaxis, ycalendar, yhoverformat, yperiod, yperiod0, yperiodalignment, ysrc, **kwargs)\u001b[0m\n\u001b[0;32m   3352\u001b[0m _v \u001b[39m=\u001b[39m x \u001b[39mif\u001b[39;00m x \u001b[39mis\u001b[39;00m \u001b[39mnot\u001b[39;00m \u001b[39mNone\u001b[39;00m \u001b[39melse\u001b[39;00m _v\n\u001b[0;32m   3353\u001b[0m \u001b[39mif\u001b[39;00m _v \u001b[39mis\u001b[39;00m \u001b[39mnot\u001b[39;00m \u001b[39mNone\u001b[39;00m:\n\u001b[1;32m-> 3354\u001b[0m     \u001b[39mself\u001b[39;49m[\u001b[39m\"\u001b[39;49m\u001b[39mx\u001b[39;49m\u001b[39m\"\u001b[39;49m] \u001b[39m=\u001b[39m _v\n\u001b[0;32m   3355\u001b[0m _v \u001b[39m=\u001b[39m arg\u001b[39m.\u001b[39mpop(\u001b[39m\"\u001b[39m\u001b[39mx0\u001b[39m\u001b[39m\"\u001b[39m, \u001b[39mNone\u001b[39;00m)\n\u001b[0;32m   3356\u001b[0m _v \u001b[39m=\u001b[39m x0 \u001b[39mif\u001b[39;00m x0 \u001b[39mis\u001b[39;00m \u001b[39mnot\u001b[39;00m \u001b[39mNone\u001b[39;00m \u001b[39melse\u001b[39;00m _v\n",
      "File \u001b[1;32mc:\\Users\\Wegma\\.conda\\envs\\thesis3_9\\lib\\site-packages\\plotly\\basedatatypes.py:4859\u001b[0m, in \u001b[0;36mBasePlotlyType.__setitem__\u001b[1;34m(self, prop, value)\u001b[0m\n\u001b[0;32m   4855\u001b[0m         \u001b[39mself\u001b[39m\u001b[39m.\u001b[39m_set_array_prop(prop, value)\n\u001b[0;32m   4857\u001b[0m     \u001b[39m# ### Handle simple property ###\u001b[39;00m\n\u001b[0;32m   4858\u001b[0m     \u001b[39melse\u001b[39;00m:\n\u001b[1;32m-> 4859\u001b[0m         \u001b[39mself\u001b[39;49m\u001b[39m.\u001b[39;49m_set_prop(prop, value)\n\u001b[0;32m   4860\u001b[0m \u001b[39melse\u001b[39;00m:\n\u001b[0;32m   4861\u001b[0m     \u001b[39m# Make sure properties dict is initialized\u001b[39;00m\n\u001b[0;32m   4862\u001b[0m     \u001b[39mself\u001b[39m\u001b[39m.\u001b[39m_init_props()\n",
      "File \u001b[1;32mc:\\Users\\Wegma\\.conda\\envs\\thesis3_9\\lib\\site-packages\\plotly\\basedatatypes.py:5198\u001b[0m, in \u001b[0;36mBasePlotlyType._set_prop\u001b[1;34m(self, prop, val)\u001b[0m\n\u001b[0;32m   5195\u001b[0m validator \u001b[39m=\u001b[39m \u001b[39mself\u001b[39m\u001b[39m.\u001b[39m_get_validator(prop)\n\u001b[0;32m   5197\u001b[0m \u001b[39mtry\u001b[39;00m:\n\u001b[1;32m-> 5198\u001b[0m     val \u001b[39m=\u001b[39m validator\u001b[39m.\u001b[39;49mvalidate_coerce(val)\n\u001b[0;32m   5199\u001b[0m \u001b[39mexcept\u001b[39;00m \u001b[39mValueError\u001b[39;00m \u001b[39mas\u001b[39;00m err:\n\u001b[0;32m   5200\u001b[0m     \u001b[39mif\u001b[39;00m \u001b[39mself\u001b[39m\u001b[39m.\u001b[39m_skip_invalid:\n",
      "File \u001b[1;32mc:\\Users\\Wegma\\.conda\\envs\\thesis3_9\\lib\\site-packages\\_plotly_utils\\basevalidators.py:400\u001b[0m, in \u001b[0;36mDataArrayValidator.validate_coerce\u001b[1;34m(self, v)\u001b[0m\n\u001b[0;32m    398\u001b[0m     \u001b[39mpass\u001b[39;00m\n\u001b[0;32m    399\u001b[0m \u001b[39melif\u001b[39;00m is_homogeneous_array(v):\n\u001b[1;32m--> 400\u001b[0m     v \u001b[39m=\u001b[39m copy_to_readonly_numpy_array(v)\n\u001b[0;32m    401\u001b[0m \u001b[39melif\u001b[39;00m is_simple_array(v):\n\u001b[0;32m    402\u001b[0m     v \u001b[39m=\u001b[39m to_scalar_or_list(v)\n",
      "File \u001b[1;32mc:\\Users\\Wegma\\.conda\\envs\\thesis3_9\\lib\\site-packages\\_plotly_utils\\basevalidators.py:141\u001b[0m, in \u001b[0;36mcopy_to_readonly_numpy_array\u001b[1;34m(v, kind, force_numeric)\u001b[0m\n\u001b[0;32m    138\u001b[0m         new_v \u001b[39m=\u001b[39m np\u001b[39m.\u001b[39mascontiguousarray(v\u001b[39m.\u001b[39mastype(dtype))\n\u001b[0;32m    139\u001b[0m     \u001b[39melse\u001b[39;00m:\n\u001b[0;32m    140\u001b[0m         \u001b[39m# Either no kind was requested or requested kind is satisfied\u001b[39;00m\n\u001b[1;32m--> 141\u001b[0m         new_v \u001b[39m=\u001b[39m np\u001b[39m.\u001b[39mascontiguousarray(v\u001b[39m.\u001b[39;49mcopy())\n\u001b[0;32m    142\u001b[0m \u001b[39melse\u001b[39;00m:\n\u001b[0;32m    143\u001b[0m     \u001b[39m# v is a non-numeric homogenous array\u001b[39;00m\n\u001b[0;32m    144\u001b[0m     new_v \u001b[39m=\u001b[39m v\u001b[39m.\u001b[39mcopy()\n",
      "\u001b[1;31mKeyboardInterrupt\u001b[0m: "
     ]
    }
   ],
   "source": [
    "chk.plot(\"0\")"
   ]
  },
  {
   "cell_type": "code",
   "execution_count": null,
   "metadata": {},
   "outputs": [
    {
     "data": {
      "text/plain": [
       "[{'block': 0.0,\n",
       "  'targetReached': 152.0,\n",
       "  'wrongTarget': 9.0,\n",
       "  'jobDone': 0.0,\n",
       "  'newPart': 5.0,\n",
       "  'dispatch': 155.0,\n",
       "  'taken_invalid': 498.0,\n",
       "  '_jobdur_hgeo1': 60.0,\n",
       "  '_jobnum_hgeo1': 2.0,\n",
       "  '_jobdur_vgeo1': 90.0,\n",
       "  '_jobnum_vgeo1': 3.0,\n",
       "  '_njobs_agv2': 4.0,\n",
       "  '_jobdur_hsn1_1': 236.5,\n",
       "  '_jobnum_hsn1_1': 2.0,\n",
       "  '_blocksec_agv1': 97.5,\n",
       "  '_jobdur_wps_1': 217.0,\n",
       "  '_jobnum_wps_1': 1.0,\n",
       "  '_jobdur_hsn2_2': 130.0,\n",
       "  '_jobnum_hsn2_2': 1.0,\n",
       "  '_njobs_agv1': 3.0,\n",
       "  '_jobdur_impact': 300.0,\n",
       "  '_jobnum_impact': 2.0,\n",
       "  '_njobs_agv0': 1.0},\n",
       " {'block': 0.0,\n",
       "  'targetReached': 133.0,\n",
       "  'wrongTarget': 5.0,\n",
       "  'jobDone': 0.0,\n",
       "  'newPart': 5.0,\n",
       "  'dispatch': 137.0,\n",
       "  'taken_invalid': 329.0,\n",
       "  '_jobdur_hgeo1': 60.0,\n",
       "  '_jobnum_hgeo1': 2.0,\n",
       "  '_jobdur_vgeo1': 90.0,\n",
       "  '_jobnum_vgeo1': 3.0,\n",
       "  '_blocksec_agv1': 218.0,\n",
       "  '_blocksec_agv0': 0.5,\n",
       "  '_njobs_agv0': 6.0,\n",
       "  '_njobs_agv2': 4.0,\n",
       "  '_jobdur_hsn1_1': 137.5,\n",
       "  '_jobnum_hsn1_1': 1.0,\n",
       "  '_jobdur_hsn1_2': 198.0,\n",
       "  '_jobnum_hsn1_2': 2.0,\n",
       "  '_njobs_agv1': 4.0,\n",
       "  '_jobdur_vgeo2': 30.0,\n",
       "  '_jobnum_vgeo2': 1.0,\n",
       "  '_jobdur_impact': 300.0,\n",
       "  '_jobnum_impact': 2.0,\n",
       "  '_jobdur_fls_2': 414.0,\n",
       "  '_jobnum_fls_2': 2.0,\n",
       "  '_jobdur_hsn2_2': 130.0,\n",
       "  '_jobnum_hsn2_2': 1.0,\n",
       "  '_jobdur_fls_1': 162.0,\n",
       "  '_jobnum_fls_1': 1.0,\n",
       "  '_jobdur_wps_3': 217.0,\n",
       "  '_jobnum_wps_3': 1.0,\n",
       "  '_jobdur_wps_1': 217.0,\n",
       "  '_jobnum_wps_1': 1.0,\n",
       "  '_jobdur_hgeo2': 30.0,\n",
       "  '_jobnum_hgeo2': 1.0,\n",
       "  '_jobdur_wps_2': 217.0,\n",
       "  '_jobnum_wps_2': 1.0,\n",
       "  '_blocksec_agv2': 9.5},\n",
       " {'block': 0.0,\n",
       "  'targetReached': 112.0,\n",
       "  'wrongTarget': 4.0,\n",
       "  'jobDone': 0.0,\n",
       "  'newPart': 5.0,\n",
       "  'dispatch': 115.0,\n",
       "  'taken_invalid': 381.0,\n",
       "  '_jobdur_hgeo1': 60.0,\n",
       "  '_jobnum_hgeo1': 2.0,\n",
       "  '_jobdur_vgeo1': 90.0,\n",
       "  '_jobnum_vgeo1': 3.0,\n",
       "  '_njobs_agv2': 6.0,\n",
       "  '_jobdur_fls_2': 414.0,\n",
       "  '_jobnum_fls_2': 2.0,\n",
       "  '_blocksec_agv1': 162.00000000000006,\n",
       "  '_blocksec_agv0': 304.0,\n",
       "  '_njobs_agv1': 6.0,\n",
       "  '_jobdur_hsn1_2': 236.5,\n",
       "  '_jobnum_hsn1_2': 2.0,\n",
       "  '_jobdur_wps_1': 434.0,\n",
       "  '_jobnum_wps_1': 2.0,\n",
       "  '_jobdur_impact': 450.0,\n",
       "  '_jobnum_impact': 3.0,\n",
       "  '_jobdur_vgeo2': 60.0,\n",
       "  '_jobnum_vgeo2': 2.0,\n",
       "  '_jobdur_hgeo2': 30.0,\n",
       "  '_jobnum_hgeo2': 1.0,\n",
       "  '_njobs_agv0': 7.0,\n",
       "  '_jobdur_hsn1_1': 99.0,\n",
       "  '_jobnum_hsn1_1': 1.0,\n",
       "  '_jobdur_wps_2': 217.0,\n",
       "  '_jobnum_wps_2': 1.0,\n",
       "  '_jobdur_hsn2_1': 130.0,\n",
       "  '_jobnum_hsn2_1': 1.0,\n",
       "  '_jobdur_fls_1': 162.0,\n",
       "  '_jobnum_fls_1': 1.0,\n",
       "  '_jobdur_hsn2_2': 351.0,\n",
       "  '_jobnum_hsn2_2': 2.0,\n",
       "  '_jobdur_vgeo3': 30.0,\n",
       "  '_jobnum_vgeo3': 1.0},\n",
       " {'block': 0.0,\n",
       "  'targetReached': 126.0,\n",
       "  'wrongTarget': 5.0,\n",
       "  'jobDone': 0.0,\n",
       "  'newPart': 5.0,\n",
       "  'dispatch': 130.0,\n",
       "  'taken_invalid': 455.0,\n",
       "  '_jobdur_hgeo1': 90.0,\n",
       "  '_jobnum_hgeo1': 3.0,\n",
       "  '_jobdur_vgeo1': 60.0,\n",
       "  '_jobnum_vgeo1': 2.0,\n",
       "  '_blocksec_agv2': 62.0,\n",
       "  '_njobs_agv0': 6.0,\n",
       "  '_njobs_agv1': 6.0,\n",
       "  '_jobdur_hgeo2': 30.0,\n",
       "  '_jobnum_hgeo2': 1.0,\n",
       "  '_jobdur_wps_2': 217.0,\n",
       "  '_jobnum_wps_2': 1.0,\n",
       "  '_jobdur_hsn1_2': 99.0,\n",
       "  '_jobnum_hsn1_2': 1.0,\n",
       "  '_jobdur_wps_1': 434.0,\n",
       "  '_jobnum_wps_1': 2.0,\n",
       "  '_jobdur_hsn1_1': 137.5,\n",
       "  '_jobnum_hsn1_1': 1.0,\n",
       "  '_jobdur_vgeo2': 30.0,\n",
       "  '_jobnum_vgeo2': 1.0,\n",
       "  '_jobdur_fls_1': 414.0,\n",
       "  '_jobnum_fls_1': 2.0,\n",
       "  '_jobdur_impact': 150.0,\n",
       "  '_jobnum_impact': 1.0,\n",
       "  '_jobdur_hgeo3': 30.0,\n",
       "  '_jobnum_hgeo3': 1.0,\n",
       "  '_jobdur_hsn2_2': 305.5,\n",
       "  '_jobnum_hsn2_2': 2.0,\n",
       "  '_njobs_agv2': 1.0,\n",
       "  '_blocksec_agv1': 222.5},\n",
       " {'block': 0.0,\n",
       "  'targetReached': 125.0,\n",
       "  'wrongTarget': 2.0,\n",
       "  'jobDone': 0.0,\n",
       "  'newPart': 5.0,\n",
       "  'dispatch': 128.0,\n",
       "  'taken_invalid': 374.0,\n",
       "  '_jobdur_hgeo1': 90.0,\n",
       "  '_jobnum_hgeo1': 3.0,\n",
       "  '_jobdur_vgeo1': 60.0,\n",
       "  '_jobnum_vgeo1': 2.0,\n",
       "  '_blocksec_agv2': 1.0,\n",
       "  '_njobs_agv1': 5.0,\n",
       "  '_jobdur_impact': 300.0,\n",
       "  '_jobnum_impact': 2.0,\n",
       "  '_jobdur_hsn2_1': 175.5,\n",
       "  '_jobnum_hsn2_1': 1.0,\n",
       "  '_jobdur_hsn1_2': 236.5,\n",
       "  '_jobnum_hsn1_2': 2.0,\n",
       "  '_njobs_agv0': 5.0,\n",
       "  '_jobdur_vgeo2': 30.0,\n",
       "  '_jobnum_vgeo2': 1.0,\n",
       "  '_jobdur_fls_2': 414.0,\n",
       "  '_jobnum_fls_2': 2.0,\n",
       "  '_njobs_agv2': 5.0,\n",
       "  '_blocksec_agv0': 1.5,\n",
       "  '_jobdur_wps_2': 434.0,\n",
       "  '_jobnum_wps_2': 2.0,\n",
       "  '_blocksec_agv1': 65.0,\n",
       "  '_jobdur_hsn2_2': 130.0,\n",
       "  '_jobnum_hsn2_2': 1.0,\n",
       "  '_jobdur_hgeo2': 60.0,\n",
       "  '_jobnum_hgeo2': 2.0,\n",
       "  '_jobdur_wps_3': 217.0,\n",
       "  '_jobnum_wps_3': 1.0}]"
      ]
     },
     "execution_count": 11,
     "metadata": {},
     "output_type": "execute_result"
    }
   ],
   "source": [
    "chk.history[\"statistics\"]"
   ]
  },
  {
   "cell_type": "code",
   "execution_count": null,
   "metadata": {},
   "outputs": [
    {
     "data": {
      "text/plain": [
       "[0.0, 0.0, 0.0, 0.0, 0.0]"
      ]
     },
     "execution_count": 6,
     "metadata": {},
     "output_type": "execute_result"
    }
   ],
   "source": [
    "[stat[\"block\"] for stat in chk.history[\"statistics\"]]"
   ]
  }
 ],
 "metadata": {
  "kernelspec": {
   "display_name": "thesis3_9",
   "language": "python",
   "name": "python3"
  },
  "language_info": {
   "codemirror_mode": {
    "name": "ipython",
    "version": 3
   },
   "file_extension": ".py",
   "mimetype": "text/x-python",
   "name": "python",
   "nbconvert_exporter": "python",
   "pygments_lexer": "ipython3",
   "version": "3.9.15"
  },
  "orig_nbformat": 4,
  "vscode": {
   "interpreter": {
    "hash": "a0516e323c1d6337405feeccc202b0dbcb07dc1a4aafa5eedf3cd6ee0d411108"
   }
  }
 },
 "nbformat": 4,
 "nbformat_minor": 2
}
