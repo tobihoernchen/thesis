{
 "cells": [
  {
   "cell_type": "code",
   "execution_count": 10,
   "metadata": {},
   "outputs": [],
   "source": [
    "import random\n",
    "sys.path.append(\"../..\")\n",
    "from thesis.utils.utils import RewardCheck\n",
    "from thesis.envs.matrix_dispatching_zoo_death import MatrixDispatchingMA"
   ]
  },
  {
   "cell_type": "code",
   "execution_count": 11,
   "metadata": {},
   "outputs": [],
   "source": [
    "env = MatrixDispatchingMA(\n",
    "        model_path = \"../../envs/MiniMatrix.zip\", \n",
    "        startport = 51146, \n",
    "        fleetsize = 2, \n",
    "        max_fleetsize = 2, \n",
    "        max_seconds = 5*60, \n",
    "        config_args = dict(\n",
    "            withCollisions = True,\n",
    "            # reward_target = 1, \n",
    "            # reward_distance = -0.1,\n",
    "            reward_block = -1, \n",
    "            # reward_invalid=-0.3,\n",
    "            # reward_acceptance = 5,\n",
    "            # reward_declined = -0.1,\n",
    "            # dispatchinginterval=120,\n",
    "            # ioquote = 0.8,\n",
    "            # availability = 0.9,\n",
    "            # mttr = 5*60,\n",
    "\n",
    "        )\n",
    "        )"
   ]
  },
  {
   "cell_type": "code",
   "execution_count": 21,
   "metadata": {},
   "outputs": [],
   "source": [
    "chk = RewardCheck(env, obs2action = lambda a, b: (random.randint(1,4), None))"
   ]
  },
  {
   "cell_type": "code",
   "execution_count": 13,
   "metadata": {},
   "outputs": [
    {
     "data": {
      "text/plain": [
       "array([1.        , 1.        , 0.32954547, 0.428     , 0.32954547,\n",
       "       0.428     , 0.        , 0.        , 0.        , 0.        ,\n",
       "       0.42045453, 0.48      , 0.        , 0.        , 0.        ,\n",
       "       0.        , 0.        , 0.        , 0.        , 0.        ,\n",
       "       0.        , 0.        , 0.        , 0.        , 0.        ,\n",
       "       0.        , 0.9431818 , 0.86      , 0.9431818 , 0.86      ,\n",
       "       0.        , 0.        , 0.        , 0.        , 0.        ,\n",
       "       0.        , 0.        , 0.        , 0.        , 0.        ,\n",
       "       0.        , 0.        , 0.        , 0.        , 0.        ,\n",
       "       0.        , 0.        , 0.        ], dtype=float32)"
      ]
     },
     "execution_count": 13,
     "metadata": {},
     "output_type": "execute_result"
    }
   ],
   "source": [
    "env.last()[0][\"agvs\"]"
   ]
  },
  {
   "cell_type": "code",
   "execution_count": 16,
   "metadata": {},
   "outputs": [
    {
     "data": {
      "text/plain": [
       "[0, 1]"
      ]
     },
     "execution_count": 16,
     "metadata": {},
     "output_type": "execute_result"
    }
   ],
   "source": [
    "env.current_alias"
   ]
  },
  {
   "cell_type": "code",
   "execution_count": 20,
   "metadata": {},
   "outputs": [
    {
     "name": "stdout",
     "output_type": "stream",
     "text": [
      "0---1_Dispatching--------------------\n",
      "OLD: [0, 0] \t done:0\n",
      "OLD: curr: [0, 0]\t next:[0, 0]\t tar:[0, 0]\n",
      "ACTION: 0\n",
      "NEW: [1. 1.] \t done:False\n",
      "NEW: curr: [1.   0.86]\t next:[1.   0.86]\t tar:[0.9431818 0.86     ]\n",
      "REWARD: 0.0\n"
     ]
    },
    {
     "ename": "TypeError",
     "evalue": "cannot unpack non-iterable int object",
     "output_type": "error",
     "traceback": [
      "\u001b[1;31m---------------------------------------------------------------------------\u001b[0m",
      "\u001b[1;31mTypeError\u001b[0m                                 Traceback (most recent call last)",
      "\u001b[1;32md:\\Master\\Masterarbeit\\thesis\\exploration\\MiniMatrix\\tests.ipynb Zelle 6\u001b[0m in \u001b[0;36m<cell line: 1>\u001b[1;34m()\u001b[0m\n\u001b[1;32m----> <a href='vscode-notebook-cell:/d%3A/Master/Masterarbeit/thesis/exploration/MiniMatrix/tests.ipynb#W4sZmlsZQ%3D%3D?line=0'>1</a>\u001b[0m chk\u001b[39m.\u001b[39;49mrun(\u001b[39m1\u001b[39;49m, seed \u001b[39m=\u001b[39;49m \u001b[39m0\u001b[39;49m)\n",
      "File \u001b[1;32md:\\Master\\Masterarbeit\\thesis\\exploration\\MiniMatrix\\../..\\thesis\\utils\\utils.py:156\u001b[0m, in \u001b[0;36mRewardCheck.run\u001b[1;34m(self, n_episodes, agents, reward_above, reward_below, seed)\u001b[0m\n\u001b[0;32m    148\u001b[0m last \u001b[39m=\u001b[39m \u001b[39mself\u001b[39m\u001b[39m.\u001b[39menv\u001b[39m.\u001b[39mlast()\n\u001b[0;32m    149\u001b[0m \u001b[39mself\u001b[39m\u001b[39m.\u001b[39mstate[agent] \u001b[39m=\u001b[39m \u001b[39mself\u001b[39m\u001b[39m.\u001b[39mcheck(\n\u001b[0;32m    150\u001b[0m     \u001b[39mself\u001b[39m\u001b[39m.\u001b[39mstate[agent],\n\u001b[0;32m    151\u001b[0m     \u001b[39mself\u001b[39m\u001b[39m.\u001b[39mactions[agent],\n\u001b[1;32m   (...)\u001b[0m\n\u001b[0;32m    154\u001b[0m     \u001b[39mself\u001b[39m\u001b[39m.\u001b[39mextras[agent],\n\u001b[0;32m    155\u001b[0m )\n\u001b[1;32m--> 156\u001b[0m action, extra \u001b[39m=\u001b[39m \u001b[39mself\u001b[39m\u001b[39m.\u001b[39mobs2action(last[\u001b[39m0\u001b[39m], agent)\n\u001b[0;32m    157\u001b[0m \u001b[39mself\u001b[39m\u001b[39m.\u001b[39mactions[agent] \u001b[39m=\u001b[39m action\n\u001b[0;32m    158\u001b[0m \u001b[39mself\u001b[39m\u001b[39m.\u001b[39mextras[agent] \u001b[39m=\u001b[39m extra\n",
      "\u001b[1;31mTypeError\u001b[0m: cannot unpack non-iterable int object"
     ]
    }
   ],
   "source": [
    "chk.run(1, seed = 0)#, reward_below = -0.1, reward_above = 1)"
   ]
  }
 ],
 "metadata": {
  "kernelspec": {
   "display_name": "Python 3.8.13 ('thesis')",
   "language": "python",
   "name": "python3"
  },
  "language_info": {
   "codemirror_mode": {
    "name": "ipython",
    "version": 3
   },
   "file_extension": ".py",
   "mimetype": "text/x-python",
   "name": "python",
   "nbconvert_exporter": "python",
   "pygments_lexer": "ipython3",
   "version": "3.8.13"
  },
  "orig_nbformat": 4,
  "vscode": {
   "interpreter": {
    "hash": "dc7f4105f9f5e395f215a7643dd52717d50b308583dcde27027fbaaaba0d8cea"
   }
  }
 },
 "nbformat": 4,
 "nbformat_minor": 2
}
