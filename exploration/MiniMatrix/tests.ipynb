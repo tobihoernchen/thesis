{
 "cells": [
  {
   "cell_type": "code",
   "execution_count": 1,
   "metadata": {},
   "outputs": [],
   "source": [
    "import random\n",
    "sys.path.append(\"../..\")\n",
    "from thesis.utils.utils import RewardCheck\n",
    "from thesis.envs.matrix_dispatching_zoo_death import MatrixDispatchingMA_Death"
   ]
  },
  {
   "cell_type": "code",
   "execution_count": 21,
   "metadata": {},
   "outputs": [],
   "source": [
    "env = MatrixDispatchingMA_Death(\n",
    "        model_path = \"../../envs/MiniMatrix.zip\", \n",
    "        startport = 51146, \n",
    "        fleetsize = 10, \n",
    "        max_fleetsize = 10, \n",
    "        max_seconds = 60*60, \n",
    "        dispatcher = \"stat\",\n",
    "        config_args = dict(\n",
    "            withCollisions = True,\n",
    "            # reward_target = 1, \n",
    "            # reward_distance = -0.1,\n",
    "            reward_block = -1, \n",
    "            # reward_invalid=-0.3,\n",
    "            # reward_acceptance = 5,\n",
    "            # reward_declined = -0.1,\n",
    "            # dispatchinginterval=120,\n",
    "            # ioquote = 0.8,\n",
    "            # availability = 0.9,\n",
    "            # mttr = 5*60,\n",
    "\n",
    "        )\n",
    "        )"
   ]
  },
  {
   "cell_type": "code",
   "execution_count": 11,
   "metadata": {},
   "outputs": [],
   "source": [
    "chk = RewardCheck(env, obs2action = lambda a, b: (random.randint(1,4), str(a[\"agvs\"][17:25])))"
   ]
  },
  {
   "cell_type": "code",
   "execution_count": 23,
   "metadata": {},
   "outputs": [
    {
     "data": {
      "text/plain": [
       "{8: (0.32954545454545453, 0.808),\n",
       " 13: (0.32954545454545453, 0.428),\n",
       " 14: (0.5727272727272728, 0.62),\n",
       " 19: (0.7909090909090909, 0.62),\n",
       " 24: (0.9727272727272728, 0.62),\n",
       " 25: (0.9727272727272728, 1.0)}"
      ]
     },
     "execution_count": 23,
     "metadata": {},
     "output_type": "execute_result"
    }
   ],
   "source": [
    "env.dispatcher.stations"
   ]
  },
  {
   "cell_type": "code",
   "execution_count": 4,
   "metadata": {},
   "outputs": [
    {
     "data": {
      "text/plain": [
       "array([1.        , 1.        , 0.9431818 , 0.86      , 0.9431818 ,\n",
       "       0.86      , 0.8181818 , 0.86      , 0.9431818 , 0.76      ,\n",
       "       1.        , 0.86      , 0.9727273 , 1.        , 0.        ,\n",
       "       0.        , 0.        , 0.        , 0.        , 0.        ,\n",
       "       0.        , 0.        , 0.        , 0.        , 0.        ,\n",
       "       1.        , 0.9431818 , 0.76      , 0.9431818 , 0.76      ,\n",
       "       0.8181818 , 0.76      , 0.9727273 , 0.62      , 1.        ,\n",
       "       0.76      , 0.9431818 , 0.86      , 0.        , 0.        ,\n",
       "       0.        , 0.        , 0.        , 0.        , 0.        ,\n",
       "       0.        , 0.        , 0.        , 0.        , 1.        ,\n",
       "       0.54545456, 0.86      , 0.54545456, 0.86      , 0.47727272,\n",
       "       0.86      , 0.54545456, 0.76      , 0.60227275, 0.86      ,\n",
       "       0.        , 0.        , 0.        , 0.        , 0.        ,\n",
       "       0.        , 0.        , 0.        , 0.        , 0.        ,\n",
       "       0.        , 0.        , 0.        , 1.        , 0.42045453,\n",
       "       0.38      , 0.42045453, 0.38      , 0.32954547, 0.428     ,\n",
       "       0.        , 0.        , 0.47727272, 0.38      , 0.42045453,\n",
       "       0.48      , 0.        , 0.        , 0.        , 0.        ,\n",
       "       0.        , 0.        , 0.        , 0.        , 0.        ,\n",
       "       0.        , 0.        , 1.        , 0.9727273 , 0.62      ,\n",
       "       0.9727273 , 0.62      , 0.        , 0.        , 0.        ,\n",
       "       0.        , 0.        , 0.        , 0.9431818 , 0.76      ,\n",
       "       0.        , 0.        , 0.        , 0.        , 0.        ,\n",
       "       0.        , 0.        , 0.        , 0.        , 0.        ,\n",
       "       0.        , 1.        , 0.7613636 , 0.86      , 0.7613636 ,\n",
       "       0.86      , 0.60227275, 0.86      , 0.7613636 , 0.76      ,\n",
       "       0.8181818 , 0.86      , 0.        , 0.        , 0.        ,\n",
       "       0.        , 0.        , 0.        , 0.        , 0.        ,\n",
       "       0.        , 0.        , 0.        , 0.        , 0.        ,\n",
       "       1.        , 0.42045453, 0.86      , 0.42045453, 0.86      ,\n",
       "       0.32954547, 0.808     , 0.42045453, 0.76      , 0.47727272,\n",
       "       0.86      , 0.        , 0.        , 0.        , 0.        ,\n",
       "       0.        , 0.        , 0.        , 0.        , 0.        ,\n",
       "       0.        , 0.        , 0.        , 0.        , 1.        ,\n",
       "       1.        , 0.76      , 1.        , 0.76      , 0.9431818 ,\n",
       "       0.76      , 0.9727273 , 0.62      , 0.        , 0.        ,\n",
       "       1.        , 0.86      , 0.        , 0.        , 0.        ,\n",
       "       0.        , 0.        , 0.        , 0.        , 0.        ,\n",
       "       0.        , 0.        , 0.        , 1.        , 0.9727273 ,\n",
       "       1.        , 0.9727273 , 1.        , 0.        , 0.        ,\n",
       "       1.        , 0.86      , 0.        , 0.        , 0.        ,\n",
       "       0.        , 0.        , 0.        , 0.        , 0.        ,\n",
       "       0.        , 0.        , 0.        , 0.        , 0.        ,\n",
       "       0.        , 0.        , 1.        , 0.60227275, 0.76      ,\n",
       "       0.60227275, 0.76      , 0.54545456, 0.76      , 0.57272726,\n",
       "       0.62      , 0.7613636 , 0.76      , 0.60227275, 0.86      ,\n",
       "       0.        , 0.        , 0.        , 0.        , 0.        ,\n",
       "       0.        , 0.        , 0.        , 0.        , 0.        ],\n",
       "      dtype=float32)"
      ]
     },
     "execution_count": 4,
     "metadata": {},
     "output_type": "execute_result"
    }
   ],
   "source": [
    "env.last()[0][\"agvs\"]"
   ]
  },
  {
   "cell_type": "code",
   "execution_count": 6,
   "metadata": {},
   "outputs": [
    {
     "data": {
      "text/plain": [
       "(10, 24)"
      ]
     },
     "execution_count": 6,
     "metadata": {},
     "output_type": "execute_result"
    }
   ],
   "source": [
    "env.shape_agvs"
   ]
  },
  {
   "cell_type": "code",
   "execution_count": 12,
   "metadata": {},
   "outputs": [
    {
     "name": "stdout",
     "output_type": "stream",
     "text": [
      "0---9_Dispatching--------------------\n",
      "OLD: [0, 0] \t done:0\n",
      "OLD: curr: [0, 0]\t next:[0, 0]\t tar:[0, 0]\n",
      "ACTION: 0\n",
      "NEW: [1. 1.] \t done:False\n",
      "NEW: curr: [0.32954547 0.428     ]\t next:[0.32954547 0.428     ]\t tar:[0. 0.]\n",
      "REWARD: -0.2\n",
      "1---8_Dispatching--------------------\n",
      "OLD: [0, 0] \t done:0\n",
      "OLD: curr: [0, 0]\t next:[0, 0]\t tar:[0, 0]\n",
      "ACTION: 0\n",
      "NEW: [1. 1.] \t done:False\n",
      "NEW: curr: [0.47727272 0.38      ]\t next:[0.47727272 0.38      ]\t tar:[0.42045453 0.38      ]\n",
      "REWARD: -0.2\n",
      "2---7_Dispatching--------------------\n",
      "OLD: [0, 0] \t done:0\n",
      "OLD: curr: [0, 0]\t next:[0, 0]\t tar:[0, 0]\n",
      "ACTION: 0\n",
      "NEW: [1. 1.] \t done:False\n",
      "NEW: curr: [0.9431818 0.86     ]\t next:[0.9431818 0.86     ]\t tar:[0.8181818 0.86     ]\n",
      "REWARD: -0.2\n",
      "3---6_Dispatching--------------------\n",
      "OLD: [0, 0] \t done:0\n",
      "OLD: curr: [0, 0]\t next:[0, 0]\t tar:[0, 0]\n",
      "ACTION: 0\n",
      "NEW: [1. 1.] \t done:False\n",
      "NEW: curr: [0.60227275 0.76      ]\t next:[0.60227275 0.76      ]\t tar:[0.54545456 0.76      ]\n",
      "REWARD: -0.2\n",
      "4---5_Dispatching--------------------\n",
      "OLD: [0, 0] \t done:0\n",
      "OLD: curr: [0, 0]\t next:[0, 0]\t tar:[0, 0]\n",
      "ACTION: 0\n",
      "NEW: [1. 1.] \t done:False\n",
      "NEW: curr: [0.42045453 0.86      ]\t next:[0.42045453 0.86      ]\t tar:[0.32954547 0.808     ]\n",
      "REWARD: -0.2\n",
      "5---4_Dispatching--------------------\n",
      "OLD: [0, 0] \t done:0\n",
      "OLD: curr: [0, 0]\t next:[0, 0]\t tar:[0, 0]\n",
      "ACTION: 0\n",
      "NEW: [1. 1.] \t done:False\n",
      "NEW: curr: [0.8181818 0.86     ]\t next:[0.8181818 0.86     ]\t tar:[0.7613636 0.86     ]\n",
      "REWARD: -0.2\n",
      "6---3_Dispatching--------------------\n",
      "OLD: [0, 0] \t done:0\n",
      "OLD: curr: [0, 0]\t next:[0, 0]\t tar:[0, 0]\n",
      "ACTION: 0\n",
      "NEW: [1. 1.] \t done:False\n",
      "NEW: curr: [0.32954547 0.808     ]\t next:[0.32954547 0.808     ]\t tar:[0. 0.]\n",
      "REWARD: -0.2\n",
      "7---2_Dispatching--------------------\n",
      "OLD: [0, 0] \t done:0\n",
      "OLD: curr: [0, 0]\t next:[0, 0]\t tar:[0, 0]\n",
      "ACTION: 0\n",
      "NEW: [1. 1.] \t done:False\n",
      "NEW: curr: [0.9727273 1.       ]\t next:[0.9727273 1.       ]\t tar:[0. 0.]\n",
      "REWARD: -0.2\n",
      "8---1_Dispatching--------------------\n",
      "OLD: [0, 0] \t done:0\n",
      "OLD: curr: [0, 0]\t next:[0, 0]\t tar:[0, 0]\n",
      "ACTION: 0\n",
      "NEW: [1. 1.] \t done:False\n",
      "NEW: curr: [0.54545456 0.76      ]\t next:[0.54545456 0.76      ]\t tar:[0.47727272 0.76      ]\n",
      "REWARD: -0.2\n",
      "9---0_Dispatching--------------------\n",
      "OLD: [0, 0] \t done:0\n",
      "OLD: curr: [0, 0]\t next:[0, 0]\t tar:[0, 0]\n",
      "ACTION: 0\n",
      "NEW: [1. 1.] \t done:False\n",
      "NEW: curr: [0.54545456 0.86      ]\t next:[0.54545456 0.86      ]\t tar:[0.47727272 0.86      ]\n",
      "REWARD: -0.2\n"
     ]
    },
    {
     "ename": "KeyboardInterrupt",
     "evalue": "",
     "output_type": "error",
     "traceback": [
      "\u001b[1;31m---------------------------------------------------------------------------\u001b[0m",
      "\u001b[1;31mKeyboardInterrupt\u001b[0m                         Traceback (most recent call last)",
      "\u001b[1;32md:\\Master\\Masterarbeit\\thesis\\exploration\\MiniMatrix\\tests.ipynb Zelle 7\u001b[0m in \u001b[0;36m<cell line: 1>\u001b[1;34m()\u001b[0m\n\u001b[1;32m----> <a href='vscode-notebook-cell:/d%3A/Master/Masterarbeit/thesis/exploration/MiniMatrix/tests.ipynb#W6sZmlsZQ%3D%3D?line=0'>1</a>\u001b[0m chk\u001b[39m.\u001b[39;49mrun(\u001b[39m1\u001b[39;49m, seed \u001b[39m=\u001b[39;49m \u001b[39m6\u001b[39;49m, agents \u001b[39m=\u001b[39;49m [\u001b[39mstr\u001b[39;49m(i)\u001b[39m+\u001b[39;49m\u001b[39m\"\u001b[39;49m\u001b[39m_Dispatching\u001b[39;49m\u001b[39m\"\u001b[39;49m \u001b[39mfor\u001b[39;49;00m i \u001b[39min\u001b[39;49;00m \u001b[39mrange\u001b[39;49m(\u001b[39m10\u001b[39;49m)])\n",
      "File \u001b[1;32md:\\Master\\Masterarbeit\\thesis\\exploration\\MiniMatrix\\../..\\thesis\\utils\\utils.py:160\u001b[0m, in \u001b[0;36mRewardCheck.run\u001b[1;34m(self, n_episodes, agents, reward_above, reward_below, seed)\u001b[0m\n\u001b[0;32m    158\u001b[0m \u001b[39mself\u001b[39m\u001b[39m.\u001b[39mextras[agent] \u001b[39m=\u001b[39m extra\n\u001b[0;32m    159\u001b[0m before \u001b[39m=\u001b[39m time\u001b[39m.\u001b[39mtime()\n\u001b[1;32m--> 160\u001b[0m \u001b[39mself\u001b[39;49m\u001b[39m.\u001b[39;49menv\u001b[39m.\u001b[39;49mstep(action)\n\u001b[0;32m    161\u001b[0m \u001b[39mself\u001b[39m\u001b[39m.\u001b[39mtimes\u001b[39m.\u001b[39mappend(time\u001b[39m.\u001b[39mtime() \u001b[39m-\u001b[39m before)\n\u001b[0;32m    163\u001b[0m \u001b[39mself\u001b[39m\u001b[39m.\u001b[39mtotal_rew \u001b[39m+\u001b[39m\u001b[39m=\u001b[39m \u001b[39mself\u001b[39m\u001b[39m.\u001b[39mstate[agent][\u001b[39m1\u001b[39m]\n",
      "File \u001b[1;32md:\\Master\\Masterarbeit\\thesis\\exploration\\MiniMatrix\\../..\\thesis\\envs\\matrix_dispatching_zoo_death.py:168\u001b[0m, in \u001b[0;36mMatrixDispatchingMA_Death.step\u001b[1;34m(self, action)\u001b[0m\n\u001b[0;32m    165\u001b[0m \u001b[39mif\u001b[39;00m \u001b[39mself\u001b[39m\u001b[39m.\u001b[39mstepcounter \u001b[39m%\u001b[39m \u001b[39m100\u001b[39m \u001b[39m==\u001b[39m \u001b[39m0\u001b[39m:\n\u001b[0;32m    166\u001b[0m     \u001b[39mself\u001b[39m\u001b[39m.\u001b[39mshuffle()\n\u001b[1;32m--> 168\u001b[0m \u001b[39mreturn\u001b[39;00m \u001b[39msuper\u001b[39;49m()\u001b[39m.\u001b[39;49mstep(action)\n",
      "File \u001b[1;32md:\\Master\\Masterarbeit\\thesis\\exploration\\MiniMatrix\\../..\\thesis\\envs\\base_alpyne_zoo.py:150\u001b[0m, in \u001b[0;36mBaseAlpyneZoo.step\u001b[1;34m(self, action)\u001b[0m\n\u001b[0;32m    143\u001b[0m \u001b[39m\"\"\"\u001b[39;00m\n\u001b[0;32m    144\u001b[0m \u001b[39mA method required as part of the pettingzoo interface to run one step of the sim.\u001b[39;00m\n\u001b[0;32m    145\u001b[0m \u001b[39mTake an action in the sim and advance the sim to the start of the next step.\u001b[39;00m\n\u001b[0;32m    146\u001b[0m \n\u001b[0;32m    147\u001b[0m \u001b[39m:param action: The action to send to the sim (in the type expressed by your action space)\u001b[39;00m\n\u001b[0;32m    148\u001b[0m \u001b[39m\"\"\"\u001b[39;00m\n\u001b[0;32m    149\u001b[0m alpyne_action \u001b[39m=\u001b[39m \u001b[39mself\u001b[39m\u001b[39m.\u001b[39m_convert_to_action(action, \u001b[39mself\u001b[39m\u001b[39m.\u001b[39magent_selection)\n\u001b[1;32m--> 150\u001b[0m \u001b[39mself\u001b[39;49m\u001b[39m.\u001b[39;49msim\u001b[39m.\u001b[39;49mtake_action(alpyne_action)\n\u001b[0;32m    151\u001b[0m \u001b[39mself\u001b[39m\u001b[39m.\u001b[39mcollect()\n\u001b[0;32m    152\u001b[0m \u001b[39mself\u001b[39m\u001b[39m.\u001b[39mobservable \u001b[39m=\u001b[39m \u001b[39mTrue\u001b[39;00m\n",
      "File \u001b[1;32mc:\\Users\\Wegma\\.conda\\envs\\thesis\\lib\\site-packages\\alpyne\\client\\model_run.py:171\u001b[0m, in \u001b[0;36mModelRun.take_action\u001b[1;34m(self, action)\u001b[0m\n\u001b[0;32m    169\u001b[0m endpoint \u001b[39m=\u001b[39m \u001b[39mf\u001b[39m\u001b[39m\"\u001b[39m\u001b[39m/runs/\u001b[39m\u001b[39m{\u001b[39;00m\u001b[39mself\u001b[39m\u001b[39m.\u001b[39mid\u001b[39m}\u001b[39;00m\u001b[39m/rl\u001b[39m\u001b[39m\"\u001b[39m\n\u001b[0;32m    170\u001b[0m body \u001b[39m=\u001b[39m {\u001b[39m\"\u001b[39m\u001b[39mcommand\u001b[39m\u001b[39m\"\u001b[39m: RLCommand\u001b[39m.\u001b[39mACTION\u001b[39m.\u001b[39mvalue, \u001b[39m\"\u001b[39m\u001b[39margument\u001b[39m\u001b[39m\"\u001b[39m: action}\n\u001b[1;32m--> 171\u001b[0m _ \u001b[39m=\u001b[39m \u001b[39mself\u001b[39;49m\u001b[39m.\u001b[39;49mhttp_client\u001b[39m.\u001b[39;49mpost(endpoint, body)\n\u001b[0;32m    172\u001b[0m \u001b[39mif\u001b[39;00m \u001b[39mself\u001b[39m\u001b[39m.\u001b[39mblocking:\n\u001b[0;32m    173\u001b[0m     \u001b[39mreturn\u001b[39;00m \u001b[39mself\u001b[39m\u001b[39m.\u001b[39mwait_for_completion()\n",
      "File \u001b[1;32mc:\\Users\\Wegma\\.conda\\envs\\thesis\\lib\\site-packages\\alpyne\\client\\http_client.py:90\u001b[0m, in \u001b[0;36mHttpClient.post\u001b[1;34m(self, url, body)\u001b[0m\n\u001b[0;32m     89\u001b[0m \u001b[39mdef\u001b[39;00m \u001b[39mpost\u001b[39m(\u001b[39mself\u001b[39m, url: \u001b[39mstr\u001b[39m, body: Any \u001b[39m=\u001b[39m \u001b[39mNone\u001b[39;00m) \u001b[39m-\u001b[39m\u001b[39m>\u001b[39m RequestResponse:\n\u001b[1;32m---> 90\u001b[0m     \u001b[39mreturn\u001b[39;00m \u001b[39mself\u001b[39;49m\u001b[39m.\u001b[39;49mapi_request(url, method\u001b[39m=\u001b[39;49m\u001b[39m\"\u001b[39;49m\u001b[39mPOST\u001b[39;49m\u001b[39m\"\u001b[39;49m, body\u001b[39m=\u001b[39;49mbody)\n",
      "File \u001b[1;32mc:\\Users\\Wegma\\.conda\\envs\\thesis\\lib\\site-packages\\alpyne\\client\\http_client.py:51\u001b[0m, in \u001b[0;36mHttpClient.api_request\u001b[1;34m(self, url, method, body)\u001b[0m\n\u001b[0;32m     47\u001b[0m     request\u001b[39m.\u001b[39mdata \u001b[39m=\u001b[39m json\u001b[39m.\u001b[39mdumps(body, \u001b[39mcls\u001b[39m\u001b[39m=\u001b[39mAlpyneJSONEncoder)\u001b[39m.\u001b[39mencode(\n\u001b[0;32m     48\u001b[0m         \u001b[39m\"\u001b[39m\u001b[39mutf-8\u001b[39m\u001b[39m\"\u001b[39m\n\u001b[0;32m     49\u001b[0m     )\n\u001b[0;32m     50\u001b[0m request\u001b[39m.\u001b[39madd_header(\u001b[39m\"\u001b[39m\u001b[39mContent-Type\u001b[39m\u001b[39m\"\u001b[39m, \u001b[39m\"\u001b[39m\u001b[39mapplication/json\u001b[39m\u001b[39m\"\u001b[39m)\n\u001b[1;32m---> 51\u001b[0m response \u001b[39m=\u001b[39m urllib\u001b[39m.\u001b[39;49mrequest\u001b[39m.\u001b[39;49murlopen(request, timeout\u001b[39m=\u001b[39;49m\u001b[39m3\u001b[39;49m)\n\u001b[0;32m     52\u001b[0m \u001b[39mif\u001b[39;00m (\n\u001b[0;32m     53\u001b[0m     response\u001b[39m.\u001b[39mgetcode() \u001b[39m>\u001b[39m\u001b[39m=\u001b[39m \u001b[39m400\u001b[39m\n\u001b[0;32m     54\u001b[0m ):  \u001b[39m# TODO model errors should warn user and mark episode as halted\u001b[39;00m\n\u001b[0;32m     55\u001b[0m     \u001b[39mraise\u001b[39;00m ModelError(\n\u001b[0;32m     56\u001b[0m         response\u001b[39m.\u001b[39mgetcode(), response\u001b[39m.\u001b[39mreason, response\u001b[39m.\u001b[39mread(), url_path\n\u001b[0;32m     57\u001b[0m     )\n",
      "File \u001b[1;32mc:\\Users\\Wegma\\.conda\\envs\\thesis\\lib\\urllib\\request.py:222\u001b[0m, in \u001b[0;36murlopen\u001b[1;34m(url, data, timeout, cafile, capath, cadefault, context)\u001b[0m\n\u001b[0;32m    220\u001b[0m \u001b[39melse\u001b[39;00m:\n\u001b[0;32m    221\u001b[0m     opener \u001b[39m=\u001b[39m _opener\n\u001b[1;32m--> 222\u001b[0m \u001b[39mreturn\u001b[39;00m opener\u001b[39m.\u001b[39;49mopen(url, data, timeout)\n",
      "File \u001b[1;32mc:\\Users\\Wegma\\.conda\\envs\\thesis\\lib\\urllib\\request.py:525\u001b[0m, in \u001b[0;36mOpenerDirector.open\u001b[1;34m(self, fullurl, data, timeout)\u001b[0m\n\u001b[0;32m    522\u001b[0m     req \u001b[39m=\u001b[39m meth(req)\n\u001b[0;32m    524\u001b[0m sys\u001b[39m.\u001b[39maudit(\u001b[39m'\u001b[39m\u001b[39murllib.Request\u001b[39m\u001b[39m'\u001b[39m, req\u001b[39m.\u001b[39mfull_url, req\u001b[39m.\u001b[39mdata, req\u001b[39m.\u001b[39mheaders, req\u001b[39m.\u001b[39mget_method())\n\u001b[1;32m--> 525\u001b[0m response \u001b[39m=\u001b[39m \u001b[39mself\u001b[39;49m\u001b[39m.\u001b[39;49m_open(req, data)\n\u001b[0;32m    527\u001b[0m \u001b[39m# post-process response\u001b[39;00m\n\u001b[0;32m    528\u001b[0m meth_name \u001b[39m=\u001b[39m protocol\u001b[39m+\u001b[39m\u001b[39m\"\u001b[39m\u001b[39m_response\u001b[39m\u001b[39m\"\u001b[39m\n",
      "File \u001b[1;32mc:\\Users\\Wegma\\.conda\\envs\\thesis\\lib\\urllib\\request.py:542\u001b[0m, in \u001b[0;36mOpenerDirector._open\u001b[1;34m(self, req, data)\u001b[0m\n\u001b[0;32m    539\u001b[0m     \u001b[39mreturn\u001b[39;00m result\n\u001b[0;32m    541\u001b[0m protocol \u001b[39m=\u001b[39m req\u001b[39m.\u001b[39mtype\n\u001b[1;32m--> 542\u001b[0m result \u001b[39m=\u001b[39m \u001b[39mself\u001b[39;49m\u001b[39m.\u001b[39;49m_call_chain(\u001b[39mself\u001b[39;49m\u001b[39m.\u001b[39;49mhandle_open, protocol, protocol \u001b[39m+\u001b[39;49m\n\u001b[0;32m    543\u001b[0m                           \u001b[39m'\u001b[39;49m\u001b[39m_open\u001b[39;49m\u001b[39m'\u001b[39;49m, req)\n\u001b[0;32m    544\u001b[0m \u001b[39mif\u001b[39;00m result:\n\u001b[0;32m    545\u001b[0m     \u001b[39mreturn\u001b[39;00m result\n",
      "File \u001b[1;32mc:\\Users\\Wegma\\.conda\\envs\\thesis\\lib\\urllib\\request.py:502\u001b[0m, in \u001b[0;36mOpenerDirector._call_chain\u001b[1;34m(self, chain, kind, meth_name, *args)\u001b[0m\n\u001b[0;32m    500\u001b[0m \u001b[39mfor\u001b[39;00m handler \u001b[39min\u001b[39;00m handlers:\n\u001b[0;32m    501\u001b[0m     func \u001b[39m=\u001b[39m \u001b[39mgetattr\u001b[39m(handler, meth_name)\n\u001b[1;32m--> 502\u001b[0m     result \u001b[39m=\u001b[39m func(\u001b[39m*\u001b[39;49margs)\n\u001b[0;32m    503\u001b[0m     \u001b[39mif\u001b[39;00m result \u001b[39mis\u001b[39;00m \u001b[39mnot\u001b[39;00m \u001b[39mNone\u001b[39;00m:\n\u001b[0;32m    504\u001b[0m         \u001b[39mreturn\u001b[39;00m result\n",
      "File \u001b[1;32mc:\\Users\\Wegma\\.conda\\envs\\thesis\\lib\\urllib\\request.py:1383\u001b[0m, in \u001b[0;36mHTTPHandler.http_open\u001b[1;34m(self, req)\u001b[0m\n\u001b[0;32m   1382\u001b[0m \u001b[39mdef\u001b[39;00m \u001b[39mhttp_open\u001b[39m(\u001b[39mself\u001b[39m, req):\n\u001b[1;32m-> 1383\u001b[0m     \u001b[39mreturn\u001b[39;00m \u001b[39mself\u001b[39;49m\u001b[39m.\u001b[39;49mdo_open(http\u001b[39m.\u001b[39;49mclient\u001b[39m.\u001b[39;49mHTTPConnection, req)\n",
      "File \u001b[1;32mc:\\Users\\Wegma\\.conda\\envs\\thesis\\lib\\urllib\\request.py:1358\u001b[0m, in \u001b[0;36mAbstractHTTPHandler.do_open\u001b[1;34m(self, http_class, req, **http_conn_args)\u001b[0m\n\u001b[0;32m   1356\u001b[0m     \u001b[39mexcept\u001b[39;00m \u001b[39mOSError\u001b[39;00m \u001b[39mas\u001b[39;00m err: \u001b[39m# timeout error\u001b[39;00m\n\u001b[0;32m   1357\u001b[0m         \u001b[39mraise\u001b[39;00m URLError(err)\n\u001b[1;32m-> 1358\u001b[0m     r \u001b[39m=\u001b[39m h\u001b[39m.\u001b[39;49mgetresponse()\n\u001b[0;32m   1359\u001b[0m \u001b[39mexcept\u001b[39;00m:\n\u001b[0;32m   1360\u001b[0m     h\u001b[39m.\u001b[39mclose()\n",
      "File \u001b[1;32mc:\\Users\\Wegma\\.conda\\envs\\thesis\\lib\\http\\client.py:1348\u001b[0m, in \u001b[0;36mHTTPConnection.getresponse\u001b[1;34m(self)\u001b[0m\n\u001b[0;32m   1346\u001b[0m \u001b[39mtry\u001b[39;00m:\n\u001b[0;32m   1347\u001b[0m     \u001b[39mtry\u001b[39;00m:\n\u001b[1;32m-> 1348\u001b[0m         response\u001b[39m.\u001b[39;49mbegin()\n\u001b[0;32m   1349\u001b[0m     \u001b[39mexcept\u001b[39;00m \u001b[39mConnectionError\u001b[39;00m:\n\u001b[0;32m   1350\u001b[0m         \u001b[39mself\u001b[39m\u001b[39m.\u001b[39mclose()\n",
      "File \u001b[1;32mc:\\Users\\Wegma\\.conda\\envs\\thesis\\lib\\http\\client.py:316\u001b[0m, in \u001b[0;36mHTTPResponse.begin\u001b[1;34m(self)\u001b[0m\n\u001b[0;32m    314\u001b[0m \u001b[39m# read until we get a non-100 response\u001b[39;00m\n\u001b[0;32m    315\u001b[0m \u001b[39mwhile\u001b[39;00m \u001b[39mTrue\u001b[39;00m:\n\u001b[1;32m--> 316\u001b[0m     version, status, reason \u001b[39m=\u001b[39m \u001b[39mself\u001b[39;49m\u001b[39m.\u001b[39;49m_read_status()\n\u001b[0;32m    317\u001b[0m     \u001b[39mif\u001b[39;00m status \u001b[39m!=\u001b[39m CONTINUE:\n\u001b[0;32m    318\u001b[0m         \u001b[39mbreak\u001b[39;00m\n",
      "File \u001b[1;32mc:\\Users\\Wegma\\.conda\\envs\\thesis\\lib\\http\\client.py:277\u001b[0m, in \u001b[0;36mHTTPResponse._read_status\u001b[1;34m(self)\u001b[0m\n\u001b[0;32m    276\u001b[0m \u001b[39mdef\u001b[39;00m \u001b[39m_read_status\u001b[39m(\u001b[39mself\u001b[39m):\n\u001b[1;32m--> 277\u001b[0m     line \u001b[39m=\u001b[39m \u001b[39mstr\u001b[39m(\u001b[39mself\u001b[39;49m\u001b[39m.\u001b[39;49mfp\u001b[39m.\u001b[39;49mreadline(_MAXLINE \u001b[39m+\u001b[39;49m \u001b[39m1\u001b[39;49m), \u001b[39m\"\u001b[39m\u001b[39miso-8859-1\u001b[39m\u001b[39m\"\u001b[39m)\n\u001b[0;32m    278\u001b[0m     \u001b[39mif\u001b[39;00m \u001b[39mlen\u001b[39m(line) \u001b[39m>\u001b[39m _MAXLINE:\n\u001b[0;32m    279\u001b[0m         \u001b[39mraise\u001b[39;00m LineTooLong(\u001b[39m\"\u001b[39m\u001b[39mstatus line\u001b[39m\u001b[39m\"\u001b[39m)\n",
      "File \u001b[1;32mc:\\Users\\Wegma\\.conda\\envs\\thesis\\lib\\socket.py:669\u001b[0m, in \u001b[0;36mSocketIO.readinto\u001b[1;34m(self, b)\u001b[0m\n\u001b[0;32m    667\u001b[0m \u001b[39mwhile\u001b[39;00m \u001b[39mTrue\u001b[39;00m:\n\u001b[0;32m    668\u001b[0m     \u001b[39mtry\u001b[39;00m:\n\u001b[1;32m--> 669\u001b[0m         \u001b[39mreturn\u001b[39;00m \u001b[39mself\u001b[39;49m\u001b[39m.\u001b[39;49m_sock\u001b[39m.\u001b[39;49mrecv_into(b)\n\u001b[0;32m    670\u001b[0m     \u001b[39mexcept\u001b[39;00m timeout:\n\u001b[0;32m    671\u001b[0m         \u001b[39mself\u001b[39m\u001b[39m.\u001b[39m_timeout_occurred \u001b[39m=\u001b[39m \u001b[39mTrue\u001b[39;00m\n",
      "\u001b[1;31mKeyboardInterrupt\u001b[0m: "
     ]
    }
   ],
   "source": [
    "chk.run(1, seed = 6, agents = [str(i)+\"_Dispatching\" for i in range(10)])"
   ]
  }
 ],
 "metadata": {
  "kernelspec": {
   "display_name": "Python 3.8.13 ('thesis')",
   "language": "python",
   "name": "python3"
  },
  "language_info": {
   "codemirror_mode": {
    "name": "ipython",
    "version": 3
   },
   "file_extension": ".py",
   "mimetype": "text/x-python",
   "name": "python",
   "nbconvert_exporter": "python",
   "pygments_lexer": "ipython3",
   "version": "3.8.13"
  },
  "orig_nbformat": 4,
  "vscode": {
   "interpreter": {
    "hash": "dc7f4105f9f5e395f215a7643dd52717d50b308583dcde27027fbaaaba0d8cea"
   }
  }
 },
 "nbformat": 4,
 "nbformat_minor": 2
}
