{
 "cells": [
  {
   "cell_type": "code",
   "execution_count": 1,
   "metadata": {},
   "outputs": [],
   "source": [
    "from ray.rllib.agents import ppo, dqn\n",
    "from ray import tune\n",
    "import numpy as np\n",
    "import torch\n",
    "from ray.rllib.env.multi_agent_env import MultiAgentEnvWrapper\n",
    "import sys\n",
    "sys.path.append(\"../..\")\n",
    "from thesis.utils.utils import save_hparams\n",
    "from thesis.utils.rllib_utils import rllib_ppo_config, rllib_dqn_config, setup_ray\n",
    "setup_ray(env = \"Complete\")"
   ]
  },
  {
   "cell_type": "code",
   "execution_count": 2,
   "metadata": {},
   "outputs": [
    {
     "name": "stderr",
     "output_type": "stream",
     "text": [
      "2022-09-24 08:52:49,155\tWARNING ppo.py:386 -- `train_batch_size` (7000) cannot be achieved with your other settings (num_workers=0 num_envs_per_worker=4 rollout_fragment_length=200)! Auto-adjusting `rollout_fragment_length` to 1750.\n",
      "2022-09-24 08:52:49,171\tINFO ppo.py:414 -- In multi-agent mode, policies will be optimized sequentially by the multi-GPU optimizer. Consider setting simple_optimizer=True if this doesn't work for you.\n",
      "2022-09-24 08:52:49,171\tINFO trainer.py:903 -- Current log_level is WARN. For more information, set 'log_level': 'INFO' / 'DEBUG' or use the -v and -vv flags.\n",
      "c:\\Users\\Wegma\\.conda\\envs\\thesis\\lib\\site-packages\\alpyne\\client\\utils.py:124: UserWarning: Unzipping to temporary directory (C:\\Users\\Wegma\\AppData\\Local\\Temp\\alpyne_37001_70r_k5j4)\n",
      "  warn(f\"Unzipping to temporary directory ({tmp_dir})\")\n",
      "2022-09-24 08:52:54,410\tWARNING env.py:42 -- Skipping env checking for this experiment\n",
      "2022-09-24 08:52:58,687\tWARNING env.py:42 -- Skipping env checking for this experiment\n",
      "2022-09-24 08:52:59,912\tWARNING env.py:42 -- Skipping env checking for this experiment\n",
      "2022-09-24 08:53:01,195\tWARNING env.py:42 -- Skipping env checking for this experiment\n",
      "2022-09-24 08:53:01,195\tINFO trainable.py:159 -- Trainable.setup took 12.040 seconds. If your trainable is slow to initialize, consider setting reuse_actors=True to reduce actor creation overheads.\n",
      "2022-09-24 08:53:01,208\tWARNING util.py:65 -- Install gputil for GPU system monitoring.\n"
     ]
    }
   ],
   "source": [
    "fleetsize = 6\n",
    "max_fleetsize = 10\n",
    "config_args = dict(\n",
    "    withCollisions = True,\n",
    "    reward_block = -1, \n",
    "    blockTimeout = 120,\n",
    "    reward_acceptance = 1,\n",
    "    reward_invalid = -0.3,\n",
    "    #reward_geo = 0.1,\n",
    "    #reward_respot = 0.05,\n",
    "    #reward_rework = 0.1,\n",
    "    #reward_completion = 10,\n",
    "    #ioquote = 0.8,\n",
    "    #availability = 0.9,\n",
    "    #mttr = 5*60,\n",
    ")\n",
    "\n",
    "dir, run = save_hparams(fleetsize = fleetsize, max_fleetsize = max_fleetsize, env_args = config_args)\n",
    "trainer = ppo.PPOTrainer(rllib_ppo_config(fleetsize, max_fleetsize, config_args,  batchsize=700, gamma = 0.98))\n",
    "#trainer = dqn.DQNTrainer(rllib_dqn_config(fleetsize, max_fleetsize, config_args,))"
   ]
  },
  {
   "cell_type": "code",
   "execution_count": 3,
   "metadata": {},
   "outputs": [
    {
     "name": "stderr",
     "output_type": "stream",
     "text": [
      "2022-09-24 08:53:01,623\tINFO trainable.py:588 -- Restored on 127.0.0.1 from checkpoint: ../../models/Default/6-10-23_09-08_49_03/checkpoint_000045/checkpoint-45\n",
      "2022-09-24 08:53:01,623\tINFO trainable.py:597 -- Current state after restoring: {'_iteration': 45, '_timesteps_total': None, '_time_total': 31781.0367000103, '_episodes_total': 202}\n"
     ]
    }
   ],
   "source": [
    "#trainer.restore(\"../../models/Default/6-10-23_09-08_49_03/checkpoint_000045/checkpoint-45\")"
   ]
  },
  {
   "cell_type": "code",
   "execution_count": 4,
   "metadata": {},
   "outputs": [],
   "source": [
    "for j in range(500):\n",
    "    for i in range(5):\n",
    "        trainer.train()    \n",
    "    trainer.save(f\"{dir}/{run}\")"
   ]
  }
 ],
 "metadata": {
  "kernelspec": {
   "display_name": "Python 3.8.13 ('thesis')",
   "language": "python",
   "name": "python3"
  },
  "language_info": {
   "codemirror_mode": {
    "name": "ipython",
    "version": 3
   },
   "file_extension": ".py",
   "mimetype": "text/x-python",
   "name": "python",
   "nbconvert_exporter": "python",
   "pygments_lexer": "ipython3",
   "version": "3.8.13"
  },
  "orig_nbformat": 4,
  "vscode": {
   "interpreter": {
    "hash": "dc7f4105f9f5e395f215a7643dd52717d50b308583dcde27027fbaaaba0d8cea"
   }
  }
 },
 "nbformat": 4,
 "nbformat_minor": 2
}
